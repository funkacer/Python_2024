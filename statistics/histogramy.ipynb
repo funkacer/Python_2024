{
 "cells": [
  {
   "cell_type": "code",
   "execution_count": 1,
   "metadata": {
    "colab": {
     "base_uri": "https://localhost:8080/"
    },
    "id": "gxXZktHs8lJJ",
    "outputId": "15b6a34c-a3b3-4617-8280-4aa79e583daa"
   },
   "outputs": [],
   "source": [
    "import numpy as np\n",
    "import IPython.display as display\n",
    "from matplotlib import pyplot as plt\n",
    "import io\n",
    "import base64\n",
    "from scipy.stats import skew\n",
    "\n",
    "from rd_zaokrouhleni import rd"
   ]
  },
  {
   "cell_type": "code",
   "execution_count": 2,
   "metadata": {},
   "outputs": [
    {
     "data": {
      "text/markdown": [
       "\n",
       "    Returns rounded string with defined precicion.\n",
       "\n",
       "    INPUT:\n",
       "    number: float, to be rounded\n",
       "    precision: int, precision used whe rounding\n",
       "\n",
       "    OUTPUT:\n",
       "    round_str: str\n",
       "    "
      ],
      "text/plain": [
       "<IPython.core.display.Markdown object>"
      ]
     },
     "metadata": {},
     "output_type": "display_data"
    }
   ],
   "source": [
    "display.display(display.Markdown(F\"\"\"{rd.__doc__}\"\"\"))"
   ]
  },
  {
   "cell_type": "code",
   "execution_count": 52,
   "metadata": {
    "colab": {
     "base_uri": "https://localhost:8080/"
    },
    "id": "gxXZktHs8lJJ",
    "outputId": "15b6a34c-a3b3-4617-8280-4aa79e583daa"
   },
   "outputs": [
    {
     "name": "stdout",
     "output_type": "stream",
     "text": [
      "11 12\n"
     ]
    }
   ],
   "source": [
    "bins = 11\n",
    "x = np.linspace(-5, 5, 1000)\n",
    "y = np.random.normal(size=len(x))\n",
    "hist, bin_edges = np.histogram(y, density=True, bins = bins)\n",
    "print(len(hist), len(bin_edges))"
   ]
  },
  {
   "cell_type": "code",
   "execution_count": 53,
   "metadata": {
    "colab": {
     "base_uri": "https://localhost:8080/"
    },
    "id": "myLeiW-E9KbI",
    "outputId": "01acfcc4-a146-4a52-e40d-9a5567cc4beb"
   },
   "outputs": [
    {
     "data": {
      "text/plain": [
       "array([0.00358991, 0.01076974, 0.04846381, 0.13641665, 0.28001312,\n",
       "       0.37335083, 0.38950543, 0.30873242, 0.15616116, 0.06820832,\n",
       "       0.01974451])"
      ]
     },
     "execution_count": 53,
     "metadata": {},
     "output_type": "execute_result"
    }
   ],
   "source": [
    "hist"
   ]
  },
  {
   "cell_type": "code",
   "execution_count": 54,
   "metadata": {
    "colab": {
     "base_uri": "https://localhost:8080/"
    },
    "id": "EuU7Ucp99NsP",
    "outputId": "0a8d4967-0f90-4a91-d3f9-e19375d41ab9"
   },
   "outputs": [
    {
     "data": {
      "text/plain": [
       "array([-3.42015283, -2.86303608, -2.30591933, -1.74880258, -1.19168583,\n",
       "       -0.63456908, -0.07745233,  0.47966442,  1.03678117,  1.59389792,\n",
       "        2.15101467,  2.70813142])"
      ]
     },
     "execution_count": 54,
     "metadata": {},
     "output_type": "execute_result"
    }
   ],
   "source": [
    "bin_edges"
   ]
  },
  {
   "cell_type": "code",
   "execution_count": 55,
   "metadata": {
    "colab": {
     "base_uri": "https://localhost:8080/",
     "height": 333
    },
    "id": "kvLOkzhb8uv4",
    "outputId": "88b8bb1f-0447-4070-d6b1-73f177e7cd93"
   },
   "outputs": [
    {
     "data": {
      "text/markdown": [
       "![Sample Visualization](data:image/png;base64,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)"
      ],
      "text/plain": [
       "<IPython.core.display.Markdown object>"
      ]
     },
     "metadata": {},
     "output_type": "display_data"
    }
   ],
   "source": [
    "fig = plt.figure(figsize=(4, 3), facecolor='w')\n",
    "#plt.hist(y, alpha = 0.5)\n",
    "plt.bar(bin_edges[:bins], hist, color = \"g\", alpha = 0.5)\n",
    "data = io.BytesIO()\n",
    "plt.savefig(data)\n",
    "image = F\"data:image/png;base64,{base64.b64encode(data.getvalue()).decode()}\"\n",
    "alt = \"Sample Visualization\"\n",
    "display.display(display.Markdown(F\"\"\"![{alt}]({image})\"\"\"))\n",
    "plt.close(fig)"
   ]
  },
  {
   "cell_type": "code",
   "execution_count": 56,
   "metadata": {
    "colab": {
     "base_uri": "https://localhost:8080/"
    },
    "id": "F47jVFQW-EFd",
    "outputId": "ad6ff87c-07eb-4ace-ae3d-191dabe6c275"
   },
   "outputs": [
    {
     "name": "stdout",
     "output_type": "stream",
     "text": [
      "Průměrný interval: 0.5571167500670312\n",
      "Interval 1: (-3.420, -2.863), width = 0.5571167501.\n",
      "Interval 2: (-2.863, -2.306), width = 0.5571167501.\n",
      "Interval 3: (-2.306, -1.749), width = 0.5571167501.\n",
      "Interval 4: (-1.749, -1.192), width = 0.5571167501.\n",
      "Interval 5: (-1.192, -0.635), width = 0.5571167501.\n",
      "Interval 6: (-0.635, -0.077), width = 0.5571167501.\n",
      "Interval 7: (-0.077, 0.480), width = 0.5571167501.\n",
      "Interval 8: (0.480, 1.037), width = 0.5571167501.\n",
      "Interval 9: (1.037, 1.594), width = 0.5571167501.\n",
      "Interval 10: (1.594, 2.151), width = 0.5571167501.\n",
      "Interval 11: (2.151, 2.708), width = 0.5571167501.\n"
     ]
    }
   ],
   "source": [
    "# intervaly jsou stejně široké!\n",
    "bin_width = (np.max(bin_edges) - np.min(bin_edges)) / len(hist)\n",
    "print(\"Průměrný interval:\", bin_width)\n",
    "i = 0\n",
    "while i < len(bin_edges):\n",
    "    if i > 0:\n",
    "        local_bin_width = bin_edges[i] - bin_edges[i-1]\n",
    "        print (f\"Interval {i}: ({rd(bin_edges[i-1], 3)}, {rd(bin_edges[i], 3)}), width = {rd(local_bin_width, 10)}.\")\n",
    "    i += 1"
   ]
  },
  {
   "cell_type": "code",
   "execution_count": 57,
   "metadata": {
    "colab": {
     "base_uri": "https://localhost:8080/",
     "height": 333
    },
    "id": "62FiAAAY-Xol",
    "outputId": "9018a61d-8f9a-46c6-9d48-d6a62f6b28e2"
   },
   "outputs": [
    {
     "data": {
      "text/markdown": [
       "![Sample Visualization](data:image/png;base64,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)"
      ],
      "text/plain": [
       "<IPython.core.display.Markdown object>"
      ]
     },
     "metadata": {},
     "output_type": "display_data"
    }
   ],
   "source": [
    "fig = plt.figure(figsize=(4, 3), facecolor='w')\n",
    "#plt.hist(y, alpha = 0.5)\n",
    "plt.bar(bin_edges[:bins]+bin_width/2, hist, color = \"g\", alpha = 0.5, width = bin_width-0.1)\n",
    "plt.title(\"Hist using bin_width\", fontsize=10)\n",
    "data = io.BytesIO()\n",
    "plt.savefig(data)\n",
    "image = F\"data:image/png;base64,{base64.b64encode(data.getvalue()).decode()}\"\n",
    "alt = \"Sample Visualization\"\n",
    "display.display(display.Markdown(F\"\"\"![{alt}]({image})\"\"\"))\n",
    "plt.close(fig)"
   ]
  },
  {
   "cell_type": "code",
   "execution_count": 58,
   "metadata": {
    "id": "XY2U0NPy9AyQ"
   },
   "outputs": [],
   "source": [
    "# super vychytávka\n",
    "bin_centers = (bin_edges[:-1] + bin_edges[1:]) / 2"
   ]
  },
  {
   "cell_type": "code",
   "execution_count": 59,
   "metadata": {
    "colab": {
     "base_uri": "https://localhost:8080/",
     "height": 333
    },
    "id": "duxsnFoN86nR",
    "outputId": "9c3bf70f-6c24-4f9b-90ed-0edc476e69dd"
   },
   "outputs": [
    {
     "data": {
      "text/markdown": [
       "![Sample Visualization](data:image/png;base64,iVBORw0KGgoAAAANSUhEUgAAAZAAAAEsCAYAAADtt+XCAAAAOXRFWHRTb2Z0d2FyZQBNYXRwbG90bGliIHZlcnNpb24zLjguMiwgaHR0cHM6Ly9tYXRwbG90bGliLm9yZy8g+/7EAAAACXBIWXMAAA9hAAAPYQGoP6dpAAAcaklEQVR4nO3df1SUZf7/8RdggihgpkISn1CTlJNCi+BiGbhR9GPbqLbI4wklszpJqzu5FWWK1TaWRphZbLpi2+bq2T1qnd1yM9qpzcgfGGu6aloiLgpitaDYAYX7+0dfpx0FHC/vAcHn45z7nO77vu77es+MzWvuH9yXn2VZlgAAOEP+HV0AAKBzIkAAAEYIEACAEQIEAGCEAAEAGCFAAABGCBAAgBECBABghAABABghQAAARggQAIARAgQAYIQAAQAYIUAAAEYIEACAEQIEAGCEAIHXli5dqt69e3d0GR4mTpyojIwMn/eTmpqqadOmtdkmOjpaBQUFPq8FOFcQIGj1S9jlcsnPz0///e9/JUmZmZn68ssvvdpne4XN/PnztXTpUp/3442NGzfq/vvv7+gyvHYu/iBA59KtowtA59GjRw/16NGjo8vwEBYW1tEluPXr16+jS+gQTU1N8vPzk78/v0fPN3zi8NrJv1j/9a9/aezYsQoJCVFoaKgSEhK0adMmuVwuZWdnq7a2Vn5+fvLz81NeXl6L+2zp6GfatGlKTU11z//lL3/R8OHD1aNHD1100UVKS0tTfX19i9unpqbqV7/6lR599FH16dNHERERp/S9Y8cOXX311QoKClJsbKw++OAD+fn5afXq1W2+/uPHjysnJ0dhYWHq27evnnrqKVmW5V5/8iksPz8/LV68WLfddpuCg4M1ZMgQvfPOO2328b+2bdumn//85woNDVVISIjGjBmjr776yr1+8eLFGjZsmIKCgjR06FC9+uqr7nXl5eXy8/PTypUrNXbsWAUHBysuLk4lJSWS1OZn1NDQoOnTpysyMlI9e/bUqFGj5HK53Ps+8e/gnXfeUWxsrAIDA1VRUSGXy6WkpCT17NlTvXv31lVXXaW9e/d6/XrR+RAgMDZ+/Hhdcskl2rhxo0pLS/X444/rggsu0OjRo1VQUKDQ0FAdOHBABw4c0PTp0436OHDggMaNG6d7771X27dvl8vl0u233+7xxX2yN954Qz179tT69ev1wgsv6Omnn9batWsl/fBrOSMjQ8HBwVq/fr1ef/11Pfnkk17V8sYbb6hbt27asGGD5s+fr/z8fC1evLjNbWbPnq277rpLW7Zs0U033aTx48fr22+/PW1flZWVuuaaaxQYGKgPP/xQpaWluvfee3X8+HFJ0ltvvaWZM2fqt7/9rbZv367nnntOTz31lN544w2P/Tz55JOaPn26ysrKFBMTo3Hjxun48eNtfkY5OTkqKSnR8uXLtWXLFt1555264YYbtGvXLvd+jx49queff16LFy/Wtm3b1KdPH2VkZCglJUVbtmxRSUmJ7r//fvn5+Xn13qKTsnDemzBhghUQEGD17NnTYwoKCrIkWd99951lWZZVVFRkhYWFubcLCQmxli5d2uI+T27bVt+33nqrx7KpU6daKSkplmVZVmlpqSXJKi8v92r7lJQU6+qrr/Zok5iYaD322GOWZVnWe++9Z3Xr1s06cOCAe/3atWstSdaqVatarTMlJcUaNmyY1dzc7F722GOPWcOGDXPPX3rppdZLL73knpdkzZgxwz1/5MgRS5L13nvvtdrPCbm5udbAgQOtxsbGFtcPHjzYWrZsmceyZ555xkpOTrYsy7L27NljSbIWL17sXr9t2zZLkrV9+3bLslr+jPbu3WsFBARYlZWVHsuvvfZaKzc3172dJKusrMy9/ptvvrEkWS6X67SvDV0HRyCQJI0dO1ZlZWUe0+l+XTscDt13331KS0vTnDlzPE6v2CUuLk7XXnuthg8frjvvvFOLFi3Sd9991+Y2I0aM8Ji/+OKLdfDgQUnSzp07FRUVpYiICPf6pKQkr2r56U9/6vGLOjk5Wbt27VJTU5NXtfTs2VOhoaHuWtpSVlamMWPG6IILLjhlXX19vb766itNmjRJvXr1ck/PPvvsKZ/B//Z/8cUXS1Kb/X/xxRdqampSTEyMx74/+ugjj313797dY999+vTRxIkTlZ6erltuuUXz58/XgQMHTvs60bkRIJD0w5fbZZdd5jFFRka2uU1eXp62bdumm2++WR9++KFiY2O1atWqM+rX39//lNNRx44dc/93QECA1q5dq/fee0+xsbFasGCBLr/8cu3Zs6fVfZ78pevn56fm5uYzqssuprW0dbPCkSNHJEmLFi3yCPytW7fqs88+a7X/E+HXVv9HjhxRQECASktLPfa9fft2zZ8/36O+k09PFRUVqaSkRKNHj9aKFSsUExNzSj3oWggQnJWYmBj9+te/1vvvv6/bb79dRUVFkn74hdrWL/MT+vXrd8ov1bKyMo95Pz8/XXXVVZo9e7Y+//xzde/e/YyD6oTLL79c+/btU3V1tXvZxo0bvdp2/fr1HvOfffaZhgwZooCAAKNa2jJixAj985//9AjTE8LDwzVgwAB9/fXXp4T+wIEDve6jpc/oyiuvVFNTkw4ePHjKvv/3qK01V155pXJzc/Xpp5/qiiuu0LJly7yuB50PAQIj33//vXJycuRyubR3716tW7dOGzdu1LBhwyT9cEfSkSNHVFxcrEOHDuno0aMt7udnP/uZNm3apD/84Q/atWuXZs2apa1bt7rXr1+/Xs8995w2bdqkiooKrVy5UjU1Ne5+ztR1112nwYMHa8KECdqyZYvWrVunGTNmSNJpL/hWVFTI4XBo586d+tOf/qQFCxZo6tSpRnWcTk5Ojurq6nT33Xdr06ZN2rVrl958803t3LlT0g8X551Op15++WV9+eWX+uKLL1RUVKT8/Hyv+2jpM4qJidH48eOVlZWllStXas+ePdqwYYOcTqf+9re/tbqvPXv2KDc3VyUlJdq7d6/ef/997dq1y/hzQudAgMBIQECAvvnmG2VlZSkmJkZ33XWXbrzxRs2ePVuSNHr0aD344IPKzMxUv3799MILL7S4n/T0dD311FN69NFHlZiYqMOHDysrK8u9PjQ0VB9//LFuuukmxcTEaMaMGXrxxRd14403Gte9evVqHTlyRImJibrvvvvcd2EFBQW1uW1WVpa+//57JSUlacqUKZo6darP/nDwoosu0ocffqgjR44oJSVFCQkJWrRokfuU1H333afFixerqKhIw4cPV0pKipYuXXpGRyCtfUZFRUXKysrSI488ossvv1wZGRnauHGj/u///q/VfQUHB2vHjh264447FBMTo/vvv19TpkzRAw88cHZvBM5pftbJJ6CB88y6det09dVXa/fu3Ro8eHBHlwN0GgQIzjurVq1Sr169NGTIEO3evVtTp07VhRdeqE8++aSjSwM6FU5h4bxz+PBhTZkyRUOHDtXEiROVmJiot99+u11rePDBBz1uk/3f6cEHH2zXWgBTHIEAHeDgwYOqq6trcV1oaKj69+/fzhUBZ44AAQAY4RQWAMAIAQIAMNIlxgNpbm7W/v37FRISwtM/AXQJlmXp8OHDGjBgwDk71kqXCJD9+/crKiqqo8sAANvt27dPl1xySUeX0SKfBMjChQs1d+5cVVVVKS4uTgsWLPDqiafLly/XuHHjdOutt552cJ//FRISIumHNzo0NNS0bAA4Z9TV1SkqKsr9/XYusj1AVqxYIYfDocLCQo0aNUoFBQVKT0/Xzp0727w1sby8XNOnT9eYMWPOuM8Tp61CQ0MJEABdyrl8Wt72E2v5+fmaPHmysrOzFRsbq8LCQgUHB2vJkiWtbtPU1KTx48dr9uzZGjRokN0lAQB8wNYAaWxsVGlpqdLS0n7swN9faWlp7rGYW/L000+rf//+mjRpklf9NDQ0qK6uzmMCALQvWwPk0KFDampqUnh4uMfy8PBwVVVVtbjNJ598ot///vdatGiR1/04nU6FhYW5Jy6gA0D769B7ww4fPqx77rlHixYtUt++fb3eLjc3V7W1te5p3759PqwSANASWy+i9+3bVwEBAR6jvUlSdXV1i6OZffXVVyovL9ctt9ziXnZiuM1u3bpp586dLT5eOzAwUIGBgXaWDgA4Q7YegXTv3l0JCQkqLi52L2tublZxcbGSk5NPaT906FB98cUXHmMv/+IXv9DYsWNVVlbGqSkAOIfZfhuvw+HQhAkTNHLkSCUlJamgoED19fXKzs6W9MOobpGRkXI6nQoKCtIVV1zhsX3v3r0l6ZTlAIBzi+0BkpmZqZqaGs2cOVNVVVWKj4/XmjVr3BfWKyoqztk/ywcAeK9LPM69rq5OYWFhqq2t5Q8J0aHyXHkdXYJbXmpeR5eAs9AZvtc4FAAAGCFAAABGCBAAgBECBABghAABABghQAAARggQAIARAgQAYKRLjIkOeKM9/sjPVe7yum1qdKrP6gDaA0cgAAAjBAgAwAgBAgAwQoAAAIwQIAAAIwQIAMAIAQIAMEKAAACMECAAACMECADACAECADBCgAAAjBAgAAAjBAgAwAgBAgAwQoAAAIwQIAAAIwQIAMAIAQIAMEKAAACMECAAACMECADACAECADBCgAAAjBAgAAAjBAgAwAgBAgAwQoAAAIwQIAAAIwQIAMAIAQIAMEKAAACMECAAACMECADACAECADBCgAAAjHTzxU4XLlyouXPnqqqqSnFxcVqwYIGSkpJabLty5Uo999xz2r17t44dO6YhQ4bokUce0T333OOL0oBOz1Xu8qpdnivPp3VIUl6q7/vAucv2I5AVK1bI4XBo1qxZ2rx5s+Li4pSenq6DBw+22L5Pnz568sknVVJSoi1btig7O1vZ2dn6+9//bndpAAAb2R4g+fn5mjx5srKzsxUbG6vCwkIFBwdryZIlLbZPTU3VbbfdpmHDhmnw4MGaOnWqRowYoU8++cTu0gAANrI1QBobG1VaWqq0tLQfO/D3V1pamkpKSk67vWVZKi4u1s6dO3XNNdfYWRoAwGa2XgM5dOiQmpqaFB4e7rE8PDxcO3bsaHW72tpaRUZGqqGhQQEBAXr11Vd13XXXtdq+oaFBDQ0N7vm6urqzLx4AcEZ8chH9TIWEhKisrExHjhxRcXGxHA6HBg0apNTU1BbbO51OzZ49u32LBAB4sDVA+vbtq4CAAFVXV3ssr66uVkRERKvb+fv767LLLpMkxcfHa/v27XI6na0GSG5urhwOh3u+rq5OUVFRZ/8CAABes/UaSPfu3ZWQkKDi4mL3submZhUXFys5Odnr/TQ3N3ucojpZYGCgQkNDPSYAQPuy/RSWw+HQhAkTNHLkSCUlJamgoED19fXKzs6WJGVlZSkyMlJOp1PSD6ejRo4cqcGDB6uhoUHvvvuu3nzzTb322mt2lwYAsJHtAZKZmamamhrNnDlTVVVVio+P15o1a9wX1isqKuTv/+OBT319vR566CH95z//UY8ePTR06FD98Y9/VGZmpt2lAQBs5JOL6Dk5OcrJyWlxncvl8ph/9tln9eyzz/qiDACAD/EsLACAEQIEAGCEAAEAGCFAAABGCBAAgJFz4lEmgOT78Su8HUdDklKjU31WB9BVcAQCADBCgAAAjBAgAAAjBAgAwAgBAgAwQoAAAIwQIAAAIwQIAMAIAQIAMEKAAACMECAAACMECADACAECADBCgAAAjBAgAAAjBAgAwAgBAgAwQoAAAIwQIAAAIwQIAMAIAQIAMEKAAACMECAAACMECADACAECADBCgAAAjBAgAAAjBAgAwAgBAgAwQoAAAIwQIAAAIwQIAMAIAQIAMEKAAACMECAAACMECADACAECADBCgAAAjBAgAAAjBAgAwIhPAmThwoWKjo5WUFCQRo0apQ0bNrTadtGiRRozZowuvPBCXXjhhUpLS2uzPQDg3GB7gKxYsUIOh0OzZs3S5s2bFRcXp/T0dB08eLDF9i6XS+PGjdM//vEPlZSUKCoqStdff70qKyvtLg0AYCPbAyQ/P1+TJ09Wdna2YmNjVVhYqODgYC1ZsqTF9m+99ZYeeughxcfHa+jQoVq8eLGam5tVXFxsd2kAABvZGiCNjY0qLS1VWlrajx34+ystLU0lJSVe7ePo0aM6duyY+vTp02qbhoYG1dXVeUwAgPZla4AcOnRITU1NCg8P91geHh6uqqoqr/bx2GOPacCAAR4hdDKn06mwsDD3FBUVdVZ1AwDO3Dl1F9acOXO0fPlyrVq1SkFBQa22y83NVW1trXvat29fO1YJAJCkbnburG/fvgoICFB1dbXH8urqakVERLS57bx58zRnzhx98MEHGjFiRJttAwMDFRgYeNb1AgDM2XoE0r17dyUkJHhcAD9xQTw5ObnV7V544QU988wzWrNmjUaOHGlnSQAAH7H1CESSHA6HJkyYoJEjRyopKUkFBQWqr69Xdna2JCkrK0uRkZFyOp2SpOeff14zZ87UsmXLFB0d7b5W0qtXL/Xq1cvu8gAANrE9QDIzM1VTU6OZM2eqqqpK8fHxWrNmjfvCekVFhfz9fzzwee2119TY2Khf/vKXHvuZNWuW8vLy7C4PAGAT2wNEknJycpSTk9PiOpfL5TFfXl7uixIAAD52Tt2FBQDoPAgQAIARAgQAYIQAAQAYIUAAAEYIEACAEQIEAGCEAAEAGCFAAABGCBAAgBECBABghAABABghQAAARggQAIARAgQAYIQAAQAYIUAAAEYIEACAEZ8MaQug83KVu7xum+fK81kd7j5Sfd8HzHAEAgAwQoAAAIwQIAAAIwQIAMAIAQIAMEKAAACMECAAACMECADACAECADBCgAAAjPAoE3ilPR5Z4e0jNFKjU31aBwDvcAQCADBCgAAAjBAgAAAjBAgAwAgBAgAwQoAAAIwQIAAAIwQIAMAIAQIAMEKAAACMECAAACMECADACAECADBCgAAAjBAgAAAjPgmQhQsXKjo6WkFBQRo1apQ2bNjQattt27bpjjvuUHR0tPz8/FRQUOCLkgAANrM9QFasWCGHw6FZs2Zp8+bNiouLU3p6ug4ePNhi+6NHj2rQoEGaM2eOIiIi7C4HAOAjtgdIfn6+Jk+erOzsbMXGxqqwsFDBwcFasmRJi+0TExM1d+5c3X333QoMDLS7HACAj9gaII2NjSotLVVaWtqPHfj7Ky0tTSUlJXZ2BQDoYLaOiX7o0CE1NTUpPDzcY3l4eLh27NhhWz8NDQ1qaGhwz9fV1dm2bwCAdzrlXVhOp1NhYWHuKSoqqqNLAoDzjq0B0rdvXwUEBKi6utpjeXV1ta0XyHNzc1VbW+ue9u3bZ9u+AQDesTVAunfvroSEBBUXF7uXNTc3q7i4WMnJybb1ExgYqNDQUI8JANC+bL0GIkkOh0MTJkzQyJEjlZSUpIKCAtXX1ys7O1uSlJWVpcjISDmdTkk/XHj/97//7f7vyspKlZWVqVevXrrsssvsLg8AYBPbAyQzM1M1NTWaOXOmqqqqFB8frzVr1rgvrFdUVMjf/8cDn/379+vKK690z8+bN0/z5s1TSkqKXC6X3eUBAGxie4BIUk5OjnJyclpcd3IoREdHy7IsX5QBAPChTnkXFgCg4xEgAAAjBAgAwAgBAgAwQoAAAIwQIAAAIwQIAMAIAQIAMEKAAACMECAAACMECADAiE+ehQUAbXGVu7xum+fK81kdkpSX6tv9d2UcgQAAjBAgAAAjBAgAwAgBAgAwQoAAAIwQIAAAIwQIAMAIAQIAMEKAAACMECAAACMECADACM/C6gJ8/awg6cyeXZQaneqzOgCcOzgCAQAYIUAAAEYIEACAEQIEAGCEAAEAGCFAAABGCBAAgBECBABghAABABghQAAARggQAIARAgQAYIQAAQAYIUAAAEYIEACAEcYDAdAleTuGTXuMp5OX6vs+OgJHIAAAIwQIAMAIAQIAMEKAAACMcBG9Hfj6Ip23FwslKTU61Wd1ADi/+OQIZOHChYqOjlZQUJBGjRqlDRs2tNn+z3/+s4YOHaqgoCANHz5c7777ri/KAgDYyPYAWbFihRwOh2bNmqXNmzcrLi5O6enpOnjwYIvtP/30U40bN06TJk3S559/royMDGVkZGjr1q12lwYAsJHtAZKfn6/JkycrOztbsbGxKiwsVHBwsJYsWdJi+/nz5+uGG27Qb37zGw0bNkzPPPOMfvKTn+iVV16xuzQAgI1svQbS2Nio0tJS5ebmupf5+/srLS1NJSUlLW5TUlIih8PhsSw9PV2rV6+2s7RWtccfEXl7jYLrEwA6E1sD5NChQ2pqalJ4eLjH8vDwcO3YsaPFbaqqqlpsX1VV1Wo/DQ0NamhocM/X1tZKkurq6s645ob6htM3OkvHvz/uVTvTWrzdf1fpoyu8hvbooyu8hvbooz2+A0y+m05sY1mW3eXYplPeheV0OjV79uxTlkdFRXVANfZZp3X0cQ7sv6v00RVeQ3v00R6vYY7mGG97+PBhhYWF2ViNfWwNkL59+yogIEDV1dUey6urqxUREdHiNhEREWfUXpJyc3M9Tns1Nzfr22+/1UUXXSQ/P7+zeAXnt7q6OkVFRWnfvn0KDQ3t6HK6JN5j3+pK769lWTp8+LAGDBjQ0aW0ytYA6d69uxISElRcXKyMjAxJP3y5FxcXKycnp8VtkpOTVVxcrGnTprmXrV27VsnJya32ExgYqMDAQI9lvXv3Ptvy8f+FhoZ2+v/5znW8x77VVd7fc/XI4wTbT2E5HA5NmDBBI0eOVFJSkgoKClRfX6/s7GxJUlZWliIjI+V0OiVJU6dOVUpKil588UXdfPPNWr58uTZt2qTXX3/d7tIAADayPUAyMzNVU1OjmTNnqqqqSvHx8VqzZo37QnlFRYX8/X+8e3j06NFatmyZZsyYoSeeeEJDhgzR6tWrdcUVV9hdGgDARn7WuXyJH+2qoaFBTqdTubm5p5wihD14j32L97d9ESAAACM8jRcAYIQAAQAYIUAAAEYIEACAEQIELSovL9ekSZM0cOBA9ejRQ4MHD9asWbPU2NjY0aV1Wmc6Tg6853Q6lZiYqJCQEPXv318ZGRnauXNnR5fV5REgaNGOHTvU3Nys3/3ud9q2bZteeuklFRYW6oknnujo0jqlMx0nB2fmo48+0pQpU/TZZ59p7dq1OnbsmK6//nrV19d3dGldGrfxwmtz587Va6+9pq+//rqjS+l0Ro0apcTERPc4N83NzYqKitLDDz+sxx9/vIOr63pqamrUv39/ffTRR7rmmms6upwuiyMQeK22tlZ9+vTp6DI6nRPj5KSlpbmXnW6cHJydE0M88O/VtwgQeGX37t1asGCBHnjggY4updNpa5yctsa9gZnm5mZNmzZNV111FY9E8jEC5Dzz+OOPy8/Pr83p5MG/KisrdcMNN+jOO+/U5MmTO6hywDtTpkzR1q1btXz58o4upcvrlANKwdwjjzyiiRMnttlm0KBB7v/ev3+/xo4dq9GjR/OEZEMm4+TATE5Ojv7617/q448/1iWXXNLR5XR5BMh5pl+/furXr59XbSsrKzV27FglJCSoqKjI4ynK8J7JODk4M5Zl6eGHH9aqVavkcrk0cODAji7pvECAoEWVlZVKTU3VpZdeqnnz5qmmpsa9jl/NZ+504+Tg7EyZMkXLli3T22+/rZCQEPe1pbCwMPXo0aODq+u6uI0XLVq6dGmrX278kzHzyiuvaO7cue5xcl5++WWNGjWqo8vqElobyrqoqOi0p2xhjgABABjhpDYAwAgBAgAwQoAAAIwQIAAAIwQIAMAIAQIAMEKAAACMECAAACMECADACAECADBCgAAAjPw/0N8tmSYQMfkAAAAASUVORK5CYII=)"
      ],
      "text/plain": [
       "<IPython.core.display.Markdown object>"
      ]
     },
     "metadata": {},
     "output_type": "display_data"
    }
   ],
   "source": [
    "fig = plt.figure(figsize=(4, 3), facecolor='w')\n",
    "#plt.hist(y, alpha = 0.5)\n",
    "plt.bar(bin_centers, hist, color = \"g\", alpha = 0.5)\n",
    "plt.title(\"Hist using bin_centers\", fontsize=10)\n",
    "data = io.BytesIO()\n",
    "plt.savefig(data)\n",
    "image = F\"data:image/png;base64,{base64.b64encode(data.getvalue()).decode()}\"\n",
    "alt = \"Sample Visualization\"\n",
    "display.display(display.Markdown(F\"\"\"![{alt}]({image})\"\"\"))\n",
    "plt.close(fig)"
   ]
  },
  {
   "cell_type": "code",
   "execution_count": 60,
   "metadata": {
    "colab": {
     "base_uri": "https://localhost:8080/"
    },
    "id": "IHO-mHd7lZiP",
    "outputId": "417c55f3-1238-461f-bedc-92721ccac091"
   },
   "outputs": [
    {
     "name": "stdout",
     "output_type": "stream",
     "text": [
      "Interval 1: (-3.420, -2.863), width = 0.5571167501, local_center = -3.14159, center = -3.14159.\n",
      "Interval 2: (-2.863, -2.306), width = 0.5571167501, local_center = -2.58448, center = -2.58448.\n",
      "Interval 3: (-2.306, -1.749), width = 0.5571167501, local_center = -2.02736, center = -2.02736.\n",
      "Interval 4: (-1.749, -1.192), width = 0.5571167501, local_center = -1.47024, center = -1.47024.\n",
      "Interval 5: (-1.192, -0.635), width = 0.5571167501, local_center = -0.91313, center = -0.91313.\n",
      "Interval 6: (-0.635, -0.077), width = 0.5571167501, local_center = -0.35601, center = -0.35601.\n",
      "Interval 7: (-0.077, 0.480), width = 0.5571167501, local_center = 0.20111, center = 0.20111.\n",
      "Interval 8: (0.480, 1.037), width = 0.5571167501, local_center = 0.75822, center = 0.75822.\n",
      "Interval 9: (1.037, 1.594), width = 0.5571167501, local_center = 1.31534, center = 1.31534.\n",
      "Interval 10: (1.594, 2.151), width = 0.5571167501, local_center = 1.87246, center = 1.87246.\n",
      "Interval 11: (2.151, 2.708), width = 0.5571167501, local_center = 2.42957, center = 2.42957.\n"
     ]
    }
   ],
   "source": [
    "i = 0\n",
    "while i < len(bin_edges):\n",
    "    if i > 0:\n",
    "        local_bin_width = bin_edges[i] - bin_edges[i-1]\n",
    "        local_bin_center = bin_edges[i-1] + local_bin_width/2\n",
    "        print (f\"Interval {i}: ({rd(bin_edges[i-1], 3)}, {rd(bin_edges[i], 3)}), width = {rd(local_bin_width, 10)}, \\\n",
    "local_center = {rd(local_bin_center, 5)}, center = {rd(bin_centers[i-1], 5)}.\")\n",
    "    i += 1"
   ]
  },
  {
   "cell_type": "code",
   "execution_count": 61,
   "metadata": {
    "colab": {
     "base_uri": "https://localhost:8080/"
    },
    "id": "KsgBHNjkl-SH",
    "outputId": "2bf97740-ffba-4155-fb2c-7a414b7fdcd3"
   },
   "outputs": [
    {
     "data": {
      "text/plain": [
       "array([0.55711675, 0.55711675, 0.55711675, 0.55711675, 0.55711675,\n",
       "       0.55711675, 0.55711675, 0.55711675, 0.55711675, 0.55711675,\n",
       "       0.55711675])"
      ]
     },
     "execution_count": 61,
     "metadata": {},
     "output_type": "execute_result"
    }
   ],
   "source": [
    "(bin_edges[1:]+bin_width/2) - (bin_edges[:bins]+bin_width/2)"
   ]
  },
  {
   "cell_type": "code",
   "execution_count": 62,
   "metadata": {
    "colab": {
     "base_uri": "https://localhost:8080/"
    },
    "id": "XDQcXJUXlvQX",
    "outputId": "f85a6cac-f827-42c8-983b-ce1db8b2f626"
   },
   "outputs": [
    {
     "data": {
      "text/plain": [
       "array([0.55711675, 0.55711675, 0.55711675, 0.55711675, 0.55711675,\n",
       "       0.55711675, 0.55711675, 0.55711675, 0.55711675, 0.55711675])"
      ]
     },
     "execution_count": 62,
     "metadata": {},
     "output_type": "execute_result"
    }
   ],
   "source": [
    "#toto je blbost, dostanu o 1 interval míň\n",
    "bin_centers[1:] - bin_centers[:-1]"
   ]
  },
  {
   "cell_type": "code",
   "execution_count": 63,
   "metadata": {},
   "outputs": [
    {
     "data": {
      "text/plain": [
       "array([0.55711675, 0.55711675, 0.55711675, 0.55711675, 0.55711675,\n",
       "       0.55711675, 0.55711675, 0.55711675, 0.55711675, 0.55711675,\n",
       "       0.55711675])"
      ]
     },
     "execution_count": 63,
     "metadata": {},
     "output_type": "execute_result"
    }
   ],
   "source": [
    "bin_centers+bin_width/2 - (bin_centers-bin_width/2)"
   ]
  },
  {
   "cell_type": "code",
   "execution_count": 64,
   "metadata": {},
   "outputs": [
    {
     "data": {
      "text/plain": [
       "array([0.55711675, 0.55711675, 0.55711675, 0.55711675, 0.55711675,\n",
       "       0.55711675, 0.55711675, 0.55711675, 0.55711675, 0.55711675,\n",
       "       0.55711675])"
      ]
     },
     "execution_count": 64,
     "metadata": {},
     "output_type": "execute_result"
    }
   ],
   "source": [
    "bin_centers*0+bin_width"
   ]
  },
  {
   "cell_type": "code",
   "execution_count": 65,
   "metadata": {},
   "outputs": [
    {
     "data": {
      "text/plain": [
       "array([0.55711675, 0.55711675, 0.55711675, 0.55711675, 0.55711675,\n",
       "       0.55711675, 0.55711675, 0.55711675, 0.55711675, 0.55711675,\n",
       "       0.55711675])"
      ]
     },
     "execution_count": 65,
     "metadata": {},
     "output_type": "execute_result"
    }
   ],
   "source": [
    "np.repeat(bin_width, bins)"
   ]
  },
  {
   "cell_type": "code",
   "execution_count": 66,
   "metadata": {},
   "outputs": [
    {
     "data": {
      "text/plain": [
       "array([0.55711675, 0.55711675, 0.55711675, 0.55711675, 0.55711675,\n",
       "       0.55711675, 0.55711675, 0.55711675, 0.55711675, 0.55711675,\n",
       "       0.55711675])"
      ]
     },
     "execution_count": 66,
     "metadata": {},
     "output_type": "execute_result"
    }
   ],
   "source": [
    "np.diff(bin_edges)"
   ]
  },
  {
   "cell_type": "code",
   "execution_count": 67,
   "metadata": {
    "colab": {
     "base_uri": "https://localhost:8080/"
    },
    "id": "tj3NNOQDoeCw",
    "outputId": "b267456c-da70-47b3-cc85-df57fcd51855"
   },
   "outputs": [
    {
     "data": {
      "text/plain": [
       "1.7949559044485413"
      ]
     },
     "execution_count": 67,
     "metadata": {},
     "output_type": "execute_result"
    }
   ],
   "source": [
    "# není 1!\n",
    "np.sum(hist)"
   ]
  },
  {
   "cell_type": "code",
   "execution_count": 68,
   "metadata": {
    "colab": {
     "base_uri": "https://localhost:8080/"
    },
    "id": "sweBu9cPptqe",
    "outputId": "a433f4c4-6ce7-4f26-cef9-c267c185387f"
   },
   "outputs": [
    {
     "data": {
      "text/plain": [
       "1.0"
      ]
     },
     "execution_count": 68,
     "metadata": {},
     "output_type": "execute_result"
    }
   ],
   "source": [
    "np.sum(hist * np.diff(bin_edges))"
   ]
  },
  {
   "cell_type": "code",
   "execution_count": 69,
   "metadata": {},
   "outputs": [
    {
     "data": {
      "text/plain": [
       "1.0"
      ]
     },
     "execution_count": 69,
     "metadata": {},
     "output_type": "execute_result"
    }
   ],
   "source": [
    "np.sum(hist * ((bin_edges[1:]+bin_width/2) - (bin_edges[:bins]+bin_width/2)))"
   ]
  },
  {
   "cell_type": "code",
   "execution_count": 70,
   "metadata": {},
   "outputs": [
    {
     "data": {
      "text/plain": [
       "1.0"
      ]
     },
     "execution_count": 70,
     "metadata": {},
     "output_type": "execute_result"
    }
   ],
   "source": [
    "np.sum(hist * np.repeat(bin_width, bins))"
   ]
  },
  {
   "cell_type": "code",
   "execution_count": 71,
   "metadata": {},
   "outputs": [
    {
     "data": {
      "text/plain": [
       "-0.03276835025001486"
      ]
     },
     "execution_count": 71,
     "metadata": {},
     "output_type": "execute_result"
    }
   ],
   "source": [
    "np.median(y)"
   ]
  },
  {
   "cell_type": "code",
   "execution_count": 72,
   "metadata": {},
   "outputs": [
    {
     "data": {
      "text/plain": [
       "-0.018889768856736"
      ]
     },
     "execution_count": 72,
     "metadata": {},
     "output_type": "execute_result"
    }
   ],
   "source": [
    "np.mean(y)"
   ]
  },
  {
   "cell_type": "code",
   "execution_count": 73,
   "metadata": {},
   "outputs": [
    {
     "data": {
      "text/plain": [
       "0.960750778686835"
      ]
     },
     "execution_count": 73,
     "metadata": {},
     "output_type": "execute_result"
    }
   ],
   "source": [
    "np.std(y)"
   ]
  },
  {
   "cell_type": "code",
   "execution_count": 74,
   "metadata": {},
   "outputs": [
    {
     "data": {
      "text/plain": [
       "0.9230420587473599"
      ]
     },
     "execution_count": 74,
     "metadata": {},
     "output_type": "execute_result"
    }
   ],
   "source": [
    "np.var(y)"
   ]
  },
  {
   "cell_type": "code",
   "execution_count": 75,
   "metadata": {},
   "outputs": [
    {
     "data": {
      "text/plain": [
       "0.960750778686835"
      ]
     },
     "execution_count": 75,
     "metadata": {},
     "output_type": "execute_result"
    }
   ],
   "source": [
    "np.sqrt(np.var(y))"
   ]
  },
  {
   "cell_type": "code",
   "execution_count": 76,
   "metadata": {},
   "outputs": [
    {
     "data": {
      "text/plain": [
       "0.960750778686835"
      ]
     },
     "execution_count": 76,
     "metadata": {},
     "output_type": "execute_result"
    }
   ],
   "source": [
    "import math\n",
    "math.sqrt(np.var(y))"
   ]
  },
  {
   "cell_type": "markdown",
   "metadata": {},
   "source": [
    "$$variance = \\sigma^2$$\n",
    "$$\\sigma = \\sqrt[2]{variance}$$\n",
    "$$\\begin{equation}\n",
    "variance= \\frac{\\sum{(X-\\mu)^2}}{N}\n",
    "\\end{equation}$$\n",
    "$$\\begin{equation}\n",
    "\\sigma = \\sqrt\\frac{\\sum{(X-\\mu)^2}}{N}\n",
    "\\end{equation}$$"
   ]
  },
  {
   "cell_type": "code",
   "execution_count": 77,
   "metadata": {},
   "outputs": [],
   "source": [
    "ys = np.sort(y)"
   ]
  },
  {
   "cell_type": "markdown",
   "metadata": {},
   "source": [
    "https://stackoverflow.com/questions/10138085/how-to-plot-normal-distribution"
   ]
  },
  {
   "cell_type": "code",
   "execution_count": 78,
   "metadata": {},
   "outputs": [
    {
     "data": {
      "text/markdown": [
       "![Sample Visualization](data:image/png;base64,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)"
      ],
      "text/plain": [
       "<IPython.core.display.Markdown object>"
      ]
     },
     "metadata": {},
     "output_type": "display_data"
    }
   ],
   "source": [
    "fig = plt.figure(figsize=(4, 3), facecolor='w')\n",
    "#plt.hist(y, alpha = 0.5)\n",
    "plt.bar(bin_edges[:bins]+bin_width/2, hist, color = \"g\", alpha = 0.5, width = bin_width-0.1)\n",
    "plt.plot(x, ys)\n",
    "plt.title(\"Hist using bin_width\", fontsize=10)\n",
    "data = io.BytesIO()\n",
    "plt.savefig(data)\n",
    "image = F\"data:image/png;base64,{base64.b64encode(data.getvalue()).decode()}\"\n",
    "alt = \"Sample Visualization\"\n",
    "display.display(display.Markdown(F\"\"\"![{alt}]({image})\"\"\"))\n",
    "plt.close(fig)"
   ]
  },
  {
   "cell_type": "code",
   "execution_count": 79,
   "metadata": {},
   "outputs": [
    {
     "data": {
      "image/png": "[encoded data removed]",
      "text/plain": [
       "<Figure size 640x480 with 1 Axes>"
      ]
     },
     "metadata": {},
     "output_type": "display_data"
    }
   ],
   "source": [
    "import matplotlib.pyplot as plt\n",
    "import numpy as np\n",
    "import scipy.stats as stats\n",
    "import math\n",
    "\n",
    "mu = np.mean(y)\n",
    "variance = np.var(y)\n",
    "sigma = math.sqrt(variance)\n",
    "x = np.linspace(mu - 3*sigma, mu + 3*sigma, 100)\n",
    "plt.bar(bin_edges[:bins]+bin_width/2, hist, color = \"g\", alpha = 0.5, width = bin_width-0.1)\n",
    "plt.plot(x, stats.norm.pdf(x, mu, sigma))\n",
    "plt.show()"
   ]
  },
  {
   "cell_type": "code",
   "execution_count": 80,
   "metadata": {},
   "outputs": [
    {
     "data": {
      "image/png": "[encoded data removed]",
      "text/plain": [
       "<Figure size 640x480 with 1 Axes>"
      ]
     },
     "metadata": {},
     "output_type": "display_data"
    }
   ],
   "source": [
    "import matplotlib.pyplot as plt\n",
    "import numpy as np\n",
    "import math\n",
    "\n",
    "mu = 0\n",
    "variance = 1\n",
    "sigma = math.sqrt(variance)\n",
    "x = np.linspace(mu - 3*sigma, mu + 3*sigma, 100)\n",
    "plt.plot(x, np.random.normal(mu, sigma, 100))\n",
    "plt.show()"
   ]
  },
  {
   "cell_type": "code",
   "execution_count": 81,
   "metadata": {},
   "outputs": [
    {
     "data": {
      "image/png": "[encoded data removed]",
      "text/plain": [
       "<Figure size 640x480 with 1 Axes>"
      ]
     },
     "metadata": {},
     "output_type": "display_data"
    }
   ],
   "source": [
    "import numpy as np\n",
    "import matplotlib.pyplot as plt\n",
    "\n",
    "mean = np.mean(y);\n",
    "std = np.std(y);\n",
    "variance = np.square(std)\n",
    "x = np.arange(-5,5,.01)\n",
    "f = np.exp(-np.square(x-mean)/2*variance)/(np.sqrt(2*np.pi*variance))\n",
    "\n",
    "plt.plot(x,f)\n",
    "plt.bar(bin_edges[:bins]+bin_width/2, hist, color = \"g\", alpha = 0.5, width = bin_width-0.1)\n",
    "plt.ylabel('gaussian distribution')\n",
    "plt.show()"
   ]
  },
  {
   "cell_type": "code",
   "execution_count": 82,
   "metadata": {},
   "outputs": [
    {
     "name": "stdout",
     "output_type": "stream",
     "text": [
      "-0.018993974812308027\n"
     ]
    }
   ],
   "source": [
    "# - is negative skewness, + is positive skewness\n",
    "print(skew(y, axis=0, bias=True))"
   ]
  },
  {
   "cell_type": "code",
   "execution_count": 83,
   "metadata": {},
   "outputs": [
    {
     "data": {
      "text/markdown": [
       "![Skewness](Skewness.webp)"
      ],
      "text/plain": [
       "<IPython.core.display.Markdown object>"
      ]
     },
     "metadata": {},
     "output_type": "display_data"
    }
   ],
   "source": [
    "alt = \"Skewness\"\n",
    "image = \"Skewness.webp\"\n",
    "display.display(display.Markdown(F\"\"\"![{alt}]({image})\"\"\"))"
   ]
  },
  {
   "cell_type": "code",
   "execution_count": 84,
   "metadata": {
    "jupyter": {
     "source_hidden": true
    }
   },
   "outputs": [
    {
     "data": {
      "text/markdown": [
       "\n",
       "\n",
       "Positive and Negative Skewness\n",
       "Positive skewness and negative skewness are two different ways that a dataset’s distribution can deviate from perfect symmetry (a normal distribution). They describe the direction of the skew or asymmetry in the data.\n",
       "\n",
       "1. <b>Positive Skewness (Right Skew)</b>\n",
       "In a positively skewed distribution, the tail on the right side (the larger values) is longer than the tail on the left side (the smaller values). This means that the majority of data points are concentrated on the left side of the distribution, and there are some extreme values on the right side. In the case of a positively skewed dataset,\n",
       "\n",
       "Mean > Median > Mode\n",
       "\n",
       "Examples of positively skewed data include income distribution (where most people earn a moderate income, but a few earn extremely high incomes), exam scores (where most students score in a certain range, but a few score exceptionally high), and stock market returns (where most days have modest returns, but a few days may have very high returns).\n",
       "\n",
       "\n",
       "2. <b>Negative Skewness (Left Skew)</b>\n",
       "In a negatively skewed distribution, the tail on the left side (the smaller values) is longer than the tail on the right side (the larger values). This implies that most of the data points are concentrated on the right side of the distribution, with a few extreme values on the left side. In the case of a negatively skewed dataset,\n",
       "\n",
       "Mean < Median < Mode\n",
       "\n",
       "Examples of negatively skewed data include test scores on an easy test (where most students score well, but a few score very low), the age at retirement (where most people retire at a certain age, but a few retire exceptionally early), and the gestational age at birth (where most babies are born full-term, but a few are born prematurely).\n"
      ],
      "text/plain": [
       "<IPython.core.display.Markdown object>"
      ]
     },
     "metadata": {},
     "output_type": "display_data"
    }
   ],
   "source": [
    "display.display(display.Markdown(\"\"\"\n",
    "\n",
    "Positive and Negative Skewness\n",
    "Positive skewness and negative skewness are two different ways that a dataset’s distribution can deviate from perfect symmetry (a normal distribution). They describe the direction of the skew or asymmetry in the data.\n",
    "\n",
    "1. <b>Positive Skewness (Right Skew)</b>\n",
    "In a positively skewed distribution, the tail on the right side (the larger values) is longer than the tail on the left side (the smaller values). This means that the majority of data points are concentrated on the left side of the distribution, and there are some extreme values on the right side. In the case of a positively skewed dataset,\n",
    "\n",
    "Mean > Median > Mode\n",
    "\n",
    "Examples of positively skewed data include income distribution (where most people earn a moderate income, but a few earn extremely high incomes), exam scores (where most students score in a certain range, but a few score exceptionally high), and stock market returns (where most days have modest returns, but a few days may have very high returns).\n",
    "\n",
    "\n",
    "2. <b>Negative Skewness (Left Skew)</b>\n",
    "In a negatively skewed distribution, the tail on the left side (the smaller values) is longer than the tail on the right side (the larger values). This implies that most of the data points are concentrated on the right side of the distribution, with a few extreme values on the left side. In the case of a negatively skewed dataset,\n",
    "\n",
    "Mean < Median < Mode\n",
    "\n",
    "Examples of negatively skewed data include test scores on an easy test (where most students score well, but a few score very low), the age at retirement (where most people retire at a certain age, but a few retire exceptionally early), and the gestational age at birth (where most babies are born full-term, but a few are born prematurely).\n",
    "\"\"\"))"
   ]
  },
  {
   "cell_type": "code",
   "execution_count": 85,
   "metadata": {},
   "outputs": [
    {
     "data": {
      "image/png": "[encoded data removed]",
      "text/plain": [
       "<Figure size 1000x700 with 1 Axes>"
      ]
     },
     "metadata": {},
     "output_type": "display_data"
    }
   ],
   "source": [
    "fig = plt.figure(figsize =(10, 7))\n",
    "# Creating plot\n",
    "plt.boxplot(y)\n",
    "# show plot\n",
    "plt.show()"
   ]
  },
  {
   "cell_type": "code",
   "execution_count": 86,
   "metadata": {},
   "outputs": [
    {
     "data": {
      "image/png": "[encoded data removed]",
      "text/plain": [
       "<Figure size 1000x700 with 1 Axes>"
      ]
     },
     "metadata": {},
     "output_type": "display_data"
    }
   ],
   "source": [
    "green_diamond = dict(markerfacecolor='g', marker='D')\n",
    "\n",
    "fig = plt.figure(figsize =(10, 7))\n",
    "ax = fig.add_subplot(111)\n",
    "bp = ax.boxplot(y, patch_artist = True,\n",
    "                notch ='True', vert = 0, showmeans = True) #, meanprops = green_diamond)\n",
    "for median in bp['medians']:\n",
    "    median.set(color ='red',\n",
    "               linewidth = 3)\n",
    "\n",
    "for mean in bp['means']:\n",
    "    mean.set(color ='green',\n",
    "               linewidth = 3, markerfacecolor='g', marker='D')"
   ]
  },
  {
   "cell_type": "markdown",
   "metadata": {},
   "source": [
    "https://www.geeksforgeeks.org/box-plot-in-python-using-matplotlib/"
   ]
  },
  {
   "cell_type": "code",
   "execution_count": 87,
   "metadata": {},
   "outputs": [
    {
     "data": {
      "image/png": "[encoded data removed]",
      "text/plain": [
       "<Figure size 1000x700 with 1 Axes>"
      ]
     },
     "metadata": {},
     "output_type": "display_data"
    }
   ],
   "source": [
    "green_diamond = dict(markerfacecolor='g', marker='D')\n",
    "\n",
    "fig = plt.figure(figsize =(10, 7))\n",
    "ax = fig.add_subplot(111)\n",
    "bp = ax.boxplot(y, patch_artist = True,\n",
    "                notch ='True', vert = 0, showmeans = True) #, meanprops = green_diamond)\n",
    "for median in bp['medians']:\n",
    "    median.set(color ='red',\n",
    "               linewidth = 3)\n",
    "\n",
    "for mean in bp['means']:\n",
    "    mean.set(color ='green',\n",
    "               linewidth = 3, markerfacecolor='g', marker='D')\n",
    "\n",
    "colors = ['#0000FF', '#00FF00', \n",
    "          '#FFFF00', '#FF00FF']\n",
    " \n",
    "for patch, color in zip(bp['boxes'], colors):\n",
    "    patch.set_facecolor(color)\n",
    " \n",
    "# changing color and linewidth of\n",
    "# whiskers\n",
    "for whisker in bp['whiskers']:\n",
    "    whisker.set(color ='#8B008B',\n",
    "                linewidth = 1.5,\n",
    "                linestyle =\":\")\n",
    " \n",
    "# changing color and linewidth of\n",
    "# caps\n",
    "for cap in bp['caps']:\n",
    "    cap.set(color ='#8B008B',\n",
    "            linewidth = 2)\n",
    " \n",
    "# changing color and linewidth of\n",
    "# medians\n",
    "for median in bp['medians']:\n",
    "    median.set(color ='red',\n",
    "               linewidth = 3)\n",
    " \n",
    "# changing style of fliers\n",
    "for flier in bp['fliers']:\n",
    "    flier.set(marker ='D',\n",
    "              color ='#e7298a',\n",
    "              alpha = 0.5)\n",
    "     \n",
    "# x-axis labels\n",
    "ax.set_yticklabels(['data_1'])\n",
    " \n",
    "# Adding title \n",
    "plt.title(\"Customized box plot\")\n",
    " \n",
    "# Removing top axes and right axes\n",
    "# ticks\n",
    "ax.get_xaxis().tick_bottom()\n",
    "ax.get_yaxis().tick_left()"
   ]
  },
  {
   "cell_type": "code",
   "execution_count": 91,
   "metadata": {},
   "outputs": [
    {
     "data": {
      "image/png": "[encoded data removed]",
      "text/plain": [
       "<Figure size 640x480 with 1 Axes>"
      ]
     },
     "metadata": {},
     "output_type": "display_data"
    }
   ],
   "source": [
    "mean = np.mean(y);\n",
    "std = np.std(y);\n",
    "variance = np.square(std)\n",
    "xf = np.arange(-5,5,.01)\n",
    "f = np.exp(-np.square(xf-mean)/2*variance)/(np.sqrt(2*np.pi*variance))\n",
    "\n",
    "plt.plot(x,f)\n",
    "plt.bar(bin_edges[:-1]+bin_width/2, hist, color = \"g\", alpha = 0.5, width = bin_width-0.1)\n",
    "plt.ylabel('gaussian distribution')\n",
    "plt.show()"
   ]
  },
  {
   "cell_type": "code",
   "execution_count": 92,
   "metadata": {},
   "outputs": [
    {
     "data": {
      "image/png": "[encoded data removed]",
      "text/plain": [
       "<Figure size 640x480 with 1 Axes>"
      ]
     },
     "metadata": {},
     "output_type": "display_data"
    }
   ],
   "source": [
    "plt.plot(xf,f)\n",
    "plt.show()"
   ]
  },
  {
   "cell_type": "code",
   "execution_count": 93,
   "metadata": {},
   "outputs": [
    {
     "data": {
      "text/plain": [
       "[(-5.0, -0.7568985308072438),\n",
       " (-4.99, 0.4027021289668688),\n",
       " (-4.98, -0.4048975449016377),\n",
       " (-4.970000000000001, -1.2768568903341915),\n",
       " (-4.960000000000001, -0.02009056750241391),\n",
       " (-4.950000000000001, 0.04587430764494444),\n",
       " (-4.940000000000001, 0.683480059189703),\n",
       " (-4.9300000000000015, 0.5989018926736971),\n",
       " (-4.920000000000002, 1.5391787687540721),\n",
       " (-4.910000000000002, 1.5396153655768137),\n",
       " (-4.900000000000002, 0.6706311116611797),\n",
       " (-4.890000000000002, 0.5082958636652826),\n",
       " (-4.880000000000003, -0.15416724567127582),\n",
       " (-4.870000000000003, 0.67878131419983),\n",
       " (-4.860000000000003, -0.856380949573562),\n",
       " (-4.850000000000003, -1.7049162859007652),\n",
       " (-4.840000000000003, -0.11957296223317439),\n",
       " (-4.830000000000004, -0.40182034265604777),\n",
       " (-4.820000000000004, 1.339936140170697),\n",
       " (-4.810000000000004, 0.16376038308750857),\n",
       " (-4.800000000000004, -1.211276044376434),\n",
       " (-4.7900000000000045, 2.440761972474386),\n",
       " (-4.780000000000005, 1.6299059796372133),\n",
       " (-4.770000000000005, -0.464658019292718),\n",
       " (-4.760000000000005, -0.14576882959736237),\n",
       " (-4.750000000000005, -0.5605909180699358),\n",
       " (-4.7400000000000055, -0.009954547756293388),\n",
       " (-4.730000000000006, -1.048231540002457),\n",
       " (-4.720000000000006, -0.96891791144426),\n",
       " (-4.710000000000006, -0.24799423080692276),\n",
       " (-4.700000000000006, 0.6426517850751827),\n",
       " (-4.690000000000007, 0.17811151097919312),\n",
       " (-4.680000000000007, 0.8914145435173135),\n",
       " (-4.670000000000007, 0.12185753342116341),\n",
       " (-4.660000000000007, 1.1151049220422542),\n",
       " (-4.6500000000000075, -0.30939555128886725),\n",
       " (-4.640000000000008, -0.49827453755525764),\n",
       " (-4.630000000000008, 0.20811018007750084),\n",
       " (-4.620000000000008, 1.3204164494686415),\n",
       " (-4.610000000000008, 0.6007511479586779),\n",
       " (-4.6000000000000085, 0.6317145942630559),\n",
       " (-4.590000000000009, 0.963594350299974),\n",
       " (-4.580000000000009, 0.6647980733601149),\n",
       " (-4.570000000000009, 1.1580870837877726),\n",
       " (-4.560000000000009, 1.4005642452735272),\n",
       " (-4.55000000000001, -0.3046277018385114),\n",
       " (-4.54000000000001, -0.06140212770852824),\n",
       " (-4.53000000000001, -0.13524753497619477),\n",
       " (-4.52000000000001, 0.10271011415197859),\n",
       " (-4.5100000000000104, -0.8254264083632399),\n",
       " (-4.500000000000011, 0.04477883056306948),\n",
       " (-4.490000000000011, 1.1802784429736601),\n",
       " (-4.480000000000011, -0.05996977316995596),\n",
       " (-4.470000000000011, 0.6574983628093715),\n",
       " (-4.4600000000000115, 0.9290883217851236),\n",
       " (-4.450000000000012, 0.061138249892224134),\n",
       " (-4.440000000000012, -1.4167822096193559),\n",
       " (-4.430000000000012, 0.6686860955834746),\n",
       " (-4.420000000000012, 0.2806700122991865),\n",
       " (-4.410000000000013, 0.6564178168114363),\n",
       " (-4.400000000000013, -0.3031883632862807),\n",
       " (-4.390000000000013, -0.2860780504043392),\n",
       " (-4.380000000000013, -0.06205232068637443),\n",
       " (-4.370000000000013, -0.9420481106758042),\n",
       " (-4.360000000000014, -0.1104108754376705),\n",
       " (-4.350000000000014, -1.0485535678415052),\n",
       " (-4.340000000000014, 0.03121796484653322),\n",
       " (-4.330000000000014, 0.5882728945171205),\n",
       " (-4.3200000000000145, 0.7338548069829314),\n",
       " (-4.310000000000015, -0.9182000256920684),\n",
       " (-4.300000000000015, -0.278349311459867),\n",
       " (-4.290000000000015, -0.8934784119108911),\n",
       " (-4.280000000000015, -0.9003668359988568),\n",
       " (-4.270000000000016, -0.6649525990412073),\n",
       " (-4.260000000000016, -0.7389206227761926),\n",
       " (-4.250000000000016, 0.3242182867618103),\n",
       " (-4.240000000000016, -1.105617191962759),\n",
       " (-4.230000000000016, 0.1998239031469948),\n",
       " (-4.220000000000017, 0.8012147560930747),\n",
       " (-4.210000000000017, 0.8632563250426063),\n",
       " (-4.200000000000017, 0.4998446716185188),\n",
       " (-4.190000000000017, -0.9407731032723984),\n",
       " (-4.1800000000000175, -0.2907657150284997),\n",
       " (-4.170000000000018, 1.5054321923339578),\n",
       " (-4.160000000000018, 0.01960065170190609),\n",
       " (-4.150000000000018, -1.1239577764297457),\n",
       " (-4.140000000000018, -1.0012399409757866),\n",
       " (-4.1300000000000185, 0.09088981427916953),\n",
       " (-4.120000000000019, 0.37970764655987205),\n",
       " (-4.110000000000019, -0.2237463442417244),\n",
       " (-4.100000000000019, 0.27282982627284336),\n",
       " (-4.090000000000019, -0.08257233152797015),\n",
       " (-4.08000000000002, 0.22436648358259645),\n",
       " (-4.07000000000002, -0.7072582294019285),\n",
       " (-4.06000000000002, 0.9781655326550014),\n",
       " (-4.05000000000002, 0.9776237253381589),\n",
       " (-4.0400000000000205, 0.6594983435469643),\n",
       " (-4.030000000000021, -1.2929934565090875),\n",
       " (-4.020000000000021, -0.44908256242941064),\n",
       " (-4.010000000000021, 0.7577038875879692),\n",
       " (-4.000000000000021, 1.5801730529976223),\n",
       " (-3.9900000000000215, 1.1763547863881352),\n",
       " (-3.9800000000000217, -0.7113874632368297),\n",
       " (-3.970000000000022, -0.0016597754696453374),\n",
       " (-3.960000000000022, 0.0189997305934965),\n",
       " (-3.9500000000000224, 0.6044859038273532),\n",
       " (-3.9400000000000226, -0.26441468158495685),\n",
       " (-3.930000000000023, -0.7742784655975725),\n",
       " (-3.920000000000023, 0.5752031019862132),\n",
       " (-3.9100000000000232, -0.060998363878767704),\n",
       " (-3.9000000000000234, 0.02790337354349233),\n",
       " (-3.8900000000000237, -0.3904681134715076),\n",
       " (-3.880000000000024, 0.20204272376710486),\n",
       " (-3.870000000000024, 0.06049300601738301),\n",
       " (-3.8600000000000243, -3.420152832125838),\n",
       " (-3.8500000000000245, -0.3067829569458307),\n",
       " (-3.8400000000000247, 0.22298369536197277),\n",
       " (-3.830000000000025, -0.4577600489087111),\n",
       " (-3.820000000000025, 0.7213435087186354),\n",
       " (-3.8100000000000254, 0.07290258603649404),\n",
       " (-3.8000000000000256, 0.653580906873955),\n",
       " (-3.790000000000026, 0.1660208124688465),\n",
       " (-3.780000000000026, 0.6550042908368255),\n",
       " (-3.770000000000026, 0.20539118279434707),\n",
       " (-3.7600000000000264, -1.0065718525834046),\n",
       " (-3.7500000000000266, 0.694427354366847),\n",
       " (-3.740000000000027, 0.538154907293302),\n",
       " (-3.730000000000027, -1.3270848819522618),\n",
       " (-3.7200000000000273, -0.7918388183701666),\n",
       " (-3.7100000000000275, -0.8442555092750126),\n",
       " (-3.7000000000000277, 0.8937660260115927),\n",
       " (-3.690000000000028, -0.8416089594213698),\n",
       " (-3.680000000000028, 0.7887184562801347),\n",
       " (-3.6700000000000284, -1.0213684422259852),\n",
       " (-3.6600000000000286, 0.17617451551306412),\n",
       " (-3.6500000000000288, 0.36589943755090887),\n",
       " (-3.640000000000029, -1.2396817250714558),\n",
       " (-3.630000000000029, -0.8153214821991193),\n",
       " (-3.6200000000000294, -0.8524385983356766),\n",
       " (-3.6100000000000296, 0.6091627779074256),\n",
       " (-3.60000000000003, -1.473608285711418),\n",
       " (-3.59000000000003, -1.5811805527684095),\n",
       " (-3.5800000000000303, -0.5428884947160209),\n",
       " (-3.5700000000000305, 1.1701025739604514),\n",
       " (-3.5600000000000307, 0.5347623644521998),\n",
       " (-3.550000000000031, -0.3199879996584374),\n",
       " (-3.540000000000031, -1.457120211388788),\n",
       " (-3.5300000000000313, -0.5523818104793508),\n",
       " (-3.5200000000000315, -0.19373245824389762),\n",
       " (-3.5100000000000318, 0.7142366088167782),\n",
       " (-3.500000000000032, 1.7281189669249704),\n",
       " (-3.490000000000032, 0.614800142565438),\n",
       " (-3.4800000000000324, 0.09287634585987753),\n",
       " (-3.4700000000000326, 1.5283660433515318),\n",
       " (-3.460000000000033, -1.7877906775168466),\n",
       " (-3.450000000000033, -1.1297842411738257),\n",
       " (-3.4400000000000333, 0.433009131334649),\n",
       " (-3.4300000000000335, -1.6375274702711033),\n",
       " (-3.4200000000000337, -0.2397658221186148),\n",
       " (-3.410000000000034, -1.46303857687725),\n",
       " (-3.400000000000034, 0.1588714457017045),\n",
       " (-3.3900000000000343, 1.113348024298857),\n",
       " (-3.3800000000000345, 0.34815598455932384),\n",
       " (-3.3700000000000347, 0.24491927080376194),\n",
       " (-3.360000000000035, -0.43026037540821077),\n",
       " (-3.350000000000035, 0.5132612989346118),\n",
       " (-3.3400000000000354, 0.9953102322445782),\n",
       " (-3.3300000000000356, 0.10919366395233047),\n",
       " (-3.320000000000036, 0.724976796709429),\n",
       " (-3.310000000000036, 0.9698129517038818),\n",
       " (-3.3000000000000362, 0.7099389941530801),\n",
       " (-3.2900000000000365, 0.1976940916291063),\n",
       " (-3.2800000000000367, -1.3064943679721404),\n",
       " (-3.270000000000037, 0.534851812453657),\n",
       " (-3.260000000000037, -0.588776759370218),\n",
       " (-3.2500000000000373, 0.6508373477369053),\n",
       " (-3.2400000000000375, -1.4970421264908207),\n",
       " (-3.2300000000000377, -0.24093908578498072),\n",
       " (-3.220000000000038, 0.7722937224553753),\n",
       " (-3.210000000000038, -0.06363835211685284),\n",
       " (-3.2000000000000384, -0.9176609961366475),\n",
       " (-3.1900000000000386, 1.4072208064566176),\n",
       " (-3.180000000000039, -0.05572757838632934),\n",
       " (-3.170000000000039, -1.097344472257715),\n",
       " (-3.160000000000039, -0.21773090435963383),\n",
       " (-3.1500000000000394, 1.715993509549754),\n",
       " (-3.1400000000000396, -0.21189189591398516),\n",
       " (-3.13000000000004, -0.2299371910754905),\n",
       " (-3.12000000000004, 0.9242444968276373),\n",
       " (-3.1100000000000403, -0.1440558481820457),\n",
       " (-3.1000000000000405, 0.5516030260155151),\n",
       " (-3.0900000000000407, -0.9162320830193559),\n",
       " (-3.080000000000041, 0.84434346931709),\n",
       " (-3.070000000000041, 0.20524023936391986),\n",
       " (-3.0600000000000414, 0.9896190007451934),\n",
       " (-3.0500000000000416, 0.14497771104096646),\n",
       " (-3.040000000000042, 1.4620194942366027),\n",
       " (-3.030000000000042, -0.16313612115802023),\n",
       " (-3.020000000000042, -1.6923784321227495),\n",
       " (-3.0100000000000424, -0.33761066384443317),\n",
       " (-3.0000000000000426, -1.6300675518894567),\n",
       " (-2.990000000000043, 0.004998719826828423),\n",
       " (-2.980000000000043, -1.5461816516017397),\n",
       " (-2.9700000000000433, 0.793179411854348),\n",
       " (-2.9600000000000435, -0.6955887112623897),\n",
       " (-2.9500000000000437, 0.7483340330657433),\n",
       " (-2.940000000000044, 0.19859514983538212),\n",
       " (-2.930000000000044, 0.08004856928739885),\n",
       " (-2.9200000000000443, 0.4253734264061104),\n",
       " (-2.9100000000000446, 0.9468004182785931),\n",
       " (-2.9000000000000448, 1.7219879557111237),\n",
       " (-2.890000000000045, 1.0874820290157885),\n",
       " (-2.880000000000045, -0.24203050538196363),\n",
       " (-2.8700000000000454, 0.07598953098143219),\n",
       " (-2.8600000000000456, -0.2960555810204243),\n",
       " (-2.850000000000046, -0.5745857587217155),\n",
       " (-2.840000000000046, -0.034760234310114775),\n",
       " (-2.8300000000000463, -2.1479989970576305),\n",
       " (-2.8200000000000465, -1.2266575414337444),\n",
       " (-2.8100000000000467, -2.0641059629016025),\n",
       " (-2.800000000000047, -1.1432077427203142),\n",
       " (-2.790000000000047, 0.15044673765213898),\n",
       " (-2.7800000000000473, -0.6679879142776778),\n",
       " (-2.7700000000000475, -0.9202114513944751),\n",
       " (-2.7600000000000477, 0.9498714518708802),\n",
       " (-2.750000000000048, 0.014160613263444331),\n",
       " (-2.740000000000048, -0.8562432495324384),\n",
       " (-2.7300000000000484, 0.3737567787464276),\n",
       " (-2.7200000000000486, -1.3516598650217455),\n",
       " (-2.710000000000049, -0.9540450335909844),\n",
       " (-2.700000000000049, -0.9347571585235124),\n",
       " (-2.6900000000000492, -1.0399782705133147),\n",
       " (-2.6800000000000495, 0.9820902550903469),\n",
       " (-2.6700000000000497, -0.5455829446258791),\n",
       " (-2.66000000000005, -0.4802236550800961),\n",
       " (-2.65000000000005, 0.5602701166553447),\n",
       " (-2.6400000000000503, 0.5033755401186968),\n",
       " (-2.6300000000000505, -0.8140093940927482),\n",
       " (-2.6200000000000507, 2.1435781374544196),\n",
       " (-2.610000000000051, 0.8877192483569281),\n",
       " (-2.600000000000051, -0.18777095987227835),\n",
       " (-2.5900000000000514, 0.35991586682692633),\n",
       " (-2.5800000000000516, 1.0886100295701795),\n",
       " (-2.570000000000052, -0.9720018598431058),\n",
       " (-2.560000000000052, -1.0252842890058103),\n",
       " (-2.5500000000000522, 0.4595004851461058),\n",
       " (-2.5400000000000524, 0.2853693250396743),\n",
       " (-2.5300000000000527, 0.02228571547073467),\n",
       " (-2.520000000000053, 0.30224419845912925),\n",
       " (-2.510000000000053, 0.18792399521434716),\n",
       " (-2.5000000000000533, -0.055764584214568313),\n",
       " (-2.4900000000000535, -2.059784958526094),\n",
       " (-2.4800000000000537, 0.7900706035765783),\n",
       " (-2.470000000000054, -2.095151456041801),\n",
       " (-2.460000000000054, -0.051534116521246544),\n",
       " (-2.4500000000000544, -1.2386022426524834),\n",
       " (-2.4400000000000546, 1.9261155144966828),\n",
       " (-2.430000000000055, 0.18299866646245727),\n",
       " (-2.420000000000055, 0.5972546930845347),\n",
       " (-2.410000000000055, 0.49762023022950314),\n",
       " (-2.4000000000000554, -0.6413025209177519),\n",
       " (-2.3900000000000556, 0.7177444465349616),\n",
       " (-2.380000000000056, -1.5712588505418053),\n",
       " (-2.370000000000056, 0.5133532923517354),\n",
       " (-2.3600000000000563, 0.2987252057371822),\n",
       " (-2.3500000000000565, -1.048616262200023),\n",
       " (-2.3400000000000567, -0.21821541138181424),\n",
       " (-2.330000000000057, -1.9164873679731165),\n",
       " (-2.320000000000057, -0.20407674779996018),\n",
       " (-2.3100000000000573, -2.2412583318780617),\n",
       " (-2.3000000000000576, -0.7862388747830973),\n",
       " (-2.2900000000000578, 1.0281311118666483),\n",
       " (-2.280000000000058, -1.033543530835263),\n",
       " (-2.270000000000058, -0.6338443297798827),\n",
       " (-2.2600000000000584, -1.4272514436176436),\n",
       " (-2.2500000000000586, 2.0780941935309962),\n",
       " (-2.240000000000059, 0.19104607897275336),\n",
       " (-2.230000000000059, -1.018283020576687),\n",
       " (-2.2200000000000593, 1.2078166551165357),\n",
       " (-2.2100000000000595, -0.7826630555936201),\n",
       " (-2.2000000000000597, 1.2889663129085582),\n",
       " (-2.19000000000006, -1.2224632866297505),\n",
       " (-2.18000000000006, -0.4481842878296514),\n",
       " (-2.1700000000000603, -0.4299529720459332),\n",
       " (-2.1600000000000605, 1.0648338025476825),\n",
       " (-2.1500000000000608, -0.11171390847000877),\n",
       " (-2.140000000000061, -0.5807154134997639),\n",
       " (-2.130000000000061, 0.6980049145100862),\n",
       " (-2.1200000000000614, -0.1533056460993385),\n",
       " (-2.1100000000000616, -0.6829053454829482),\n",
       " (-2.100000000000062, -0.6454434498147218),\n",
       " (-2.090000000000062, -0.10384377098075523),\n",
       " (-2.0800000000000622, 1.2139898353864245),\n",
       " (-2.0700000000000625, -0.06120444473265515),\n",
       " (-2.0600000000000627, 0.17830193148467724),\n",
       " (-2.050000000000063, 0.7342261871840512),\n",
       " (-2.040000000000063, 2.0662590099449676),\n",
       " (-2.0300000000000633, -1.0272466139542071),\n",
       " (-2.0200000000000635, 0.9050904507638603),\n",
       " (-2.0100000000000637, -0.7624190464146013),\n",
       " (-2.000000000000064, 0.11013809245289898),\n",
       " (-1.9900000000000642, -1.4250645586763317),\n",
       " (-1.9800000000000644, -0.8554838132900926),\n",
       " (-1.9700000000000646, 0.1497628830217668),\n",
       " (-1.9600000000000648, -0.48921499579025146),\n",
       " (-1.950000000000065, -1.7826373093545422),\n",
       " (-1.9400000000000652, -2.281811516852623),\n",
       " (-1.9300000000000654, 0.43466975510821954),\n",
       " (-1.9200000000000657, -0.9193337413815157),\n",
       " (-1.9100000000000659, -0.5269904396312923),\n",
       " (-1.900000000000066, -2.062091691605411),\n",
       " (-1.8900000000000663, -0.49035700343721467),\n",
       " (-1.8800000000000665, 0.5366598985072464),\n",
       " (-1.8700000000000667, 1.6116356459446217),\n",
       " (-1.860000000000067, 1.0121494587307385),\n",
       " (-1.8500000000000671, 1.6760581912311407),\n",
       " (-1.8400000000000674, 0.9085130337042292),\n",
       " (-1.8300000000000676, 0.7740761023264285),\n",
       " (-1.8200000000000678, 0.35428174455486483),\n",
       " (-1.810000000000068, -0.23585194042539467),\n",
       " (-1.8000000000000682, -2.140921943984414),\n",
       " (-1.7900000000000684, 0.06748043795245054),\n",
       " (-1.7800000000000686, -0.5931909969251167),\n",
       " (-1.7700000000000689, -1.2414584250435026),\n",
       " (-1.760000000000069, -0.8599030261023864),\n",
       " (-1.7500000000000693, 0.7825548249290168),\n",
       " (-1.7400000000000695, 0.8877809642269319),\n",
       " (-1.7300000000000697, -0.18817050301134658),\n",
       " (-1.72000000000007, -0.1421375319975303),\n",
       " (-1.7100000000000701, -0.7991483147526958),\n",
       " (-1.7000000000000703, -1.098974949696756),\n",
       " (-1.6900000000000706, -1.82505143796751),\n",
       " (-1.6800000000000708, -1.592768103257144),\n",
       " (-1.670000000000071, 0.8823194863051156),\n",
       " (-1.6600000000000712, 0.3661557023430185),\n",
       " (-1.6500000000000714, -0.16893291131554944),\n",
       " (-1.6400000000000716, 0.24061039021369876),\n",
       " (-1.6300000000000718, -0.00014160500699496618),\n",
       " (-1.620000000000072, 0.33926518045788406),\n",
       " (-1.6100000000000723, -1.41617539933408),\n",
       " (-1.6000000000000725, 0.2445389953133346),\n",
       " (-1.5900000000000727, -1.6707845942016522),\n",
       " (-1.580000000000073, 0.16037125729062748),\n",
       " (-1.5700000000000731, 1.2886168238364721),\n",
       " (-1.5600000000000733, -0.6612721340979566),\n",
       " (-1.5500000000000735, 1.0071631062843698),\n",
       " (-1.5400000000000738, -1.4044593571737767),\n",
       " (-1.530000000000074, 2.227944751138924),\n",
       " (-1.5200000000000742, -0.32276866636445894),\n",
       " (-1.5100000000000744, -0.4424154557210223),\n",
       " (-1.5000000000000746, -0.218940604270037),\n",
       " (-1.4900000000000748, 0.4852440562664262),\n",
       " (-1.480000000000075, -0.7929114060506767),\n",
       " (-1.4700000000000752, 0.08620468510386374),\n",
       " (-1.4600000000000755, 0.39937661491409104),\n",
       " (-1.4500000000000757, -0.020253041719960334),\n",
       " (-1.4400000000000759, -0.3678114843223565),\n",
       " (-1.430000000000076, -0.47819211307621085),\n",
       " (-1.4200000000000763, 0.659026651124941),\n",
       " (-1.4100000000000765, -1.1515193240025265),\n",
       " (-1.4000000000000767, -0.71699272548169),\n",
       " (-1.390000000000077, 1.8412035082409188),\n",
       " (-1.3800000000000772, -3.119252549117892),\n",
       " (-1.3700000000000774, 0.09484935970216413),\n",
       " (-1.3600000000000776, 0.8897855168591939),\n",
       " (-1.3500000000000778, -0.31749169942026045),\n",
       " (-1.340000000000078, 0.4698527716302273),\n",
       " (-1.3300000000000782, 0.05143276553061566),\n",
       " (-1.3200000000000784, -0.1048165575078924),\n",
       " (-1.3100000000000787, 0.6621851751641457),\n",
       " (-1.3000000000000789, -0.5242966389381791),\n",
       " (-1.290000000000079, 1.3783585451066107),\n",
       " (-1.2800000000000793, -0.06907447863070916),\n",
       " (-1.2700000000000795, 1.308493045067258),\n",
       " (-1.2600000000000797, -0.27216112747985727),\n",
       " (-1.25000000000008, -1.5559907786706892),\n",
       " (-1.2400000000000801, -1.6047849964296954),\n",
       " (-1.2300000000000804, -0.43930655533315643),\n",
       " (-1.2200000000000806, -0.6893577058434914),\n",
       " (-1.2100000000000808, -1.3380193443381072),\n",
       " (-1.200000000000081, -0.6508097546907621),\n",
       " (-1.1900000000000812, -0.31427285173743325),\n",
       " (-1.1800000000000814, 0.4089887136962944),\n",
       " (-1.1700000000000816, -0.537300322755282),\n",
       " (-1.1600000000000819, -0.2412485838377291),\n",
       " (-1.150000000000082, 1.354700591525962),\n",
       " (-1.1400000000000823, 0.09309797387673505),\n",
       " (-1.1300000000000825, -0.05320043265008484),\n",
       " (-1.1200000000000827, -1.1385483708923587),\n",
       " (-1.110000000000083, 0.29066100524786764),\n",
       " (-1.1000000000000831, -0.2016042720735049),\n",
       " (-1.0900000000000833, 1.7979552424899417),\n",
       " (-1.0800000000000836, 0.11716169713333553),\n",
       " (-1.0700000000000838, 1.0582724281773643),\n",
       " (-1.060000000000084, 0.028795255681840975),\n",
       " (-1.0500000000000842, -0.2190126737368201),\n",
       " (-1.0400000000000844, -0.028964298090298893),\n",
       " (-1.0300000000000846, -0.07927800610747368),\n",
       " (-1.0200000000000848, 0.30205643383381386),\n",
       " (-1.010000000000085, 0.466255553828783),\n",
       " (-1.0000000000000853, 0.7209343825074659),\n",
       " (-0.9900000000000855, 1.8151150336895214),\n",
       " (-0.9800000000000857, -0.7892133311059251),\n",
       " (-0.9700000000000859, -0.6973522767628678),\n",
       " (-0.9600000000000861, 0.8636153002411857),\n",
       " (-0.9500000000000863, -1.9190091844481827),\n",
       " (-0.9400000000000865, 2.041870409946024),\n",
       " (-0.9300000000000868, 1.1457928183039872),\n",
       " (-0.920000000000087, 1.1321059748100315),\n",
       " (-0.9100000000000872, 0.8584219747929512),\n",
       " (-0.9000000000000874, -0.6198370158001147),\n",
       " (-0.8900000000000876, 0.027721097903070212),\n",
       " (-0.8800000000000878, -0.5444403827631382),\n",
       " (-0.870000000000088, 0.3420775256400015),\n",
       " (-0.8600000000000882, 0.12755248215063286),\n",
       " (-0.8500000000000885, -1.1546935830746503),\n",
       " (-0.8400000000000887, -2.8355824737341164),\n",
       " (-0.8300000000000889, -0.43357070551136734),\n",
       " (-0.8200000000000891, -0.2536593348709536),\n",
       " (-0.8100000000000893, 0.5476690019773599),\n",
       " (-0.8000000000000895, -1.246318817888714),\n",
       " (-0.7900000000000897, 1.083703502074967),\n",
       " (-0.78000000000009, -0.17447480605533677),\n",
       " (-0.7700000000000902, 0.7160267432277773),\n",
       " (-0.7600000000000904, 1.3814966997468618),\n",
       " (-0.7500000000000906, -0.43190533401735953),\n",
       " (-0.7400000000000908, 2.044619128290094),\n",
       " (-0.730000000000091, 1.5381338753947311),\n",
       " (-0.7200000000000912, 0.200501373134589),\n",
       " (-0.7100000000000914, -0.28476501250304687),\n",
       " (-0.7000000000000917, 1.6245734825229767),\n",
       " (-0.6900000000000919, 0.05043619673295497),\n",
       " (-0.6800000000000921, 2.0851674678899528),\n",
       " (-0.6700000000000923, 0.5619220982716787),\n",
       " (-0.6600000000000925, 1.3060929834656176),\n",
       " (-0.6500000000000927, 0.4325720090614463),\n",
       " (-0.6400000000000929, 0.016048942631296758),\n",
       " (-0.6300000000000932, -1.1170141081584166),\n",
       " (-0.6200000000000934, -1.0981848042755202),\n",
       " (-0.6100000000000936, 1.6351888465073847),\n",
       " (-0.6000000000000938, -0.8838884530644271),\n",
       " (-0.590000000000094, -0.04536517565199435),\n",
       " (-0.5800000000000942, -0.34849654182305023),\n",
       " (-0.5700000000000944, 0.8456483806485251),\n",
       " (-0.5600000000000946, -1.377465702293795),\n",
       " (-0.5500000000000949, -0.6555800543715535),\n",
       " (-0.5400000000000951, -0.26416913536756476),\n",
       " (-0.5300000000000953, -0.43600343254650115),\n",
       " (-0.5200000000000955, -1.7681171064002745),\n",
       " (-0.5100000000000957, -0.005714364161297044),\n",
       " (-0.5000000000000959, 0.3073875511118942),\n",
       " (-0.49000000000009614, 1.015799192041285),\n",
       " (-0.48000000000009635, -0.11236620647456252),\n",
       " (-0.47000000000009656, -0.5278410991782885),\n",
       " (-0.4600000000000968, -0.7135224739329299),\n",
       " (-0.450000000000097, 0.24293865928425473),\n",
       " (-0.4400000000000972, -0.7950728449514918),\n",
       " (-0.4300000000000974, 0.32770708539961085),\n",
       " (-0.42000000000009763, -0.37136112856623105),\n",
       " (-0.41000000000009784, -0.2599400980991815),\n",
       " (-0.40000000000009805, 0.15418733320200856),\n",
       " (-0.39000000000009827, 1.6733778530686836),\n",
       " (-0.3800000000000985, -0.4566093145046377),\n",
       " (-0.3700000000000987, -2.476618896832755),\n",
       " (-0.3600000000000989, -0.4834812100471094),\n",
       " (-0.3500000000000991, -1.8910592862276918),\n",
       " (-0.34000000000009933, -1.0597839042925792),\n",
       " (-0.33000000000009955, 0.7880670785305036),\n",
       " (-0.32000000000009976, -0.3193501153274077),\n",
       " (-0.3100000000001, -0.07826237811502292),\n",
       " (-0.3000000000001002, 1.5253981085843717),\n",
       " (-0.2900000000001004, -0.6066395016385087),\n",
       " (-0.2800000000001006, -2.4751307034063084),\n",
       " (-0.2700000000001008, -0.34774000897290763),\n",
       " (-0.26000000000010104, 0.8798273381117557),\n",
       " (-0.25000000000010125, -0.5707222029457875),\n",
       " (-0.24000000000010147, -1.7743736620009074),\n",
       " (-0.23000000000010168, -1.2738034345955105),\n",
       " (-0.2200000000001019, 0.144733827171722),\n",
       " (-0.2100000000001021, 0.41083808406365324),\n",
       " (-0.20000000000010232, -0.47082601918100686),\n",
       " (-0.19000000000010253, 0.609614999122161),\n",
       " (-0.18000000000010274, -0.06384390539452148),\n",
       " (-0.17000000000010296, 1.0466877006053383),\n",
       " (-0.16000000000010317, -1.9176428982684761),\n",
       " (-0.15000000000010338, -0.4420533309433886),\n",
       " (-0.1400000000001036, -0.24907006439820384),\n",
       " (-0.1300000000001038, 1.5117268395058618),\n",
       " (-0.12000000000010402, 0.10618140520038563),\n",
       " (-0.11000000000010424, -0.4322470258007099),\n",
       " (-0.10000000000010445, -1.1612160052176628),\n",
       " (-0.09000000000010466, -0.06018995086425777),\n",
       " (-0.08000000000010488, 1.0093253016941832),\n",
       " (-0.07000000000010509, -0.8260251405757654),\n",
       " (-0.0600000000001053, -1.3880172005186986),\n",
       " (-0.050000000000105516, -1.3365943518801324),\n",
       " (-0.04000000000010573, -1.5237444661179038),\n",
       " (-0.030000000000105942, -1.5591989110835929),\n",
       " (-0.020000000000106155, -0.3951421933573431),\n",
       " (-0.010000000000106368, -0.445268823555253),\n",
       " (-1.0658141036401503e-13, 0.39302501868644324),\n",
       " (0.009999999999893205, -2.1382302761235965),\n",
       " (0.019999999999892992, -0.41107029306562076),\n",
       " (0.02999999999989278, -1.3147639932349577),\n",
       " (0.039999999999892566, -0.533080881261364),\n",
       " (0.04999999999989235, 0.8621956378915036),\n",
       " (0.05999999999989214, -0.006226229143227173),\n",
       " (0.06999999999989193, 0.49519323672801296),\n",
       " (0.07999999999989171, -1.3962058010619205),\n",
       " (0.0899999999998915, -1.488437220498616),\n",
       " (0.09999999999989129, 1.0364404219422627),\n",
       " (0.10999999999989107, 1.0482046398372957),\n",
       " (0.11999999999989086, 0.12395399352410494),\n",
       " (0.12999999999989065, -0.5371751070908968),\n",
       " (0.13999999999989043, 1.1684852156388903),\n",
       " (0.14999999999989022, 0.0379109181797759),\n",
       " (0.15999999999989, -1.4852757997466441),\n",
       " (0.1699999999998898, 0.47904644772301874),\n",
       " (0.17999999999988958, 0.23709942388073926),\n",
       " (0.18999999999988937, 1.2907922849013147),\n",
       " (0.19999999999988916, 0.8821081551934362),\n",
       " (0.20999999999988894, -0.5782146577652444),\n",
       " (0.21999999999988873, 0.1410556525289169),\n",
       " (0.22999999999988852, 1.0853311088713968),\n",
       " (0.2399999999998883, 0.7959005636568198),\n",
       " (0.2499999999998881, 2.199821158916759),\n",
       " (0.2599999999998879, -0.9403246510859375),\n",
       " (0.26999999999988766, -0.20586104891204876),\n",
       " (0.27999999999988745, 0.25268368113909845),\n",
       " (0.28999999999988724, -0.6990312023403583),\n",
       " (0.299999999999887, 0.602043932385542),\n",
       " (0.3099999999998868, 1.0546181602542548),\n",
       " (0.3199999999998866, -0.7919094151557159),\n",
       " (0.3299999999998864, -1.5017530677410942),\n",
       " (0.33999999999988617, -2.4366736622209513),\n",
       " (0.34999999999988596, -0.6462818390357337),\n",
       " (0.35999999999988574, 0.3858523267423108),\n",
       " (0.36999999999988553, -0.17133431189430032),\n",
       " (0.3799999999998853, 1.2062109734746609),\n",
       " (0.3899999999998851, 1.379446848661947),\n",
       " (0.3999999999998849, -0.04503041370936856),\n",
       " (0.4099999999998847, 0.41749279199553696),\n",
       " (0.41999999999988447, -0.22326517306267116),\n",
       " (0.42999999999988425, 0.22861303821912765),\n",
       " (0.43999999999988404, 0.4841180651854728),\n",
       " (0.4499999999998838, 0.17496235389558923),\n",
       " (0.4599999999998836, 0.5995027469013094),\n",
       " (0.4699999999998834, -1.4072789424997485),\n",
       " (0.4799999999998832, 1.5983902871341698),\n",
       " (0.489999999999883, -0.5642276082862844),\n",
       " (0.49999999999988276, -0.505852546071661),\n",
       " (0.5099999999998825, -0.5187509074764722),\n",
       " (0.5199999999998823, -1.1660885117404536),\n",
       " (0.5299999999998821, -1.3422471200049306),\n",
       " (0.5399999999998819, 1.5894232672866941),\n",
       " (0.5499999999998817, 0.6566488995937123),\n",
       " (0.5599999999998815, -1.4346321043278183),\n",
       " (0.5699999999998813, -0.1982841648036744),\n",
       " (0.579999999999881, 1.7051522733691218),\n",
       " (0.5899999999998808, 1.9689200650044896),\n",
       " (0.5999999999998806, 0.7179407904522923),\n",
       " (0.6099999999998804, 0.9169815599767402),\n",
       " (0.6199999999998802, 0.02549554970346779),\n",
       " (0.62999999999988, -0.41431032321359046),\n",
       " (0.6399999999998798, 1.262262883528936),\n",
       " (0.6499999999998796, 0.11132063529813203),\n",
       " (0.6599999999998793, -1.2369929492641836),\n",
       " (0.6699999999998791, 1.1595687904796415),\n",
       " (0.6799999999998789, -0.4344866113231849),\n",
       " (0.6899999999998787, -0.8488028041514092),\n",
       " (0.6999999999998785, 2.459341800935308),\n",
       " (0.7099999999998783, -0.8219515185489272),\n",
       " (0.7199999999998781, -0.26829924978488223),\n",
       " (0.7299999999998779, -1.1828926161997189),\n",
       " (0.7399999999998776, -0.9950321498048526),\n",
       " (0.7499999999998774, 0.005680077267758906),\n",
       " (0.7599999999998772, -0.1611667912013039),\n",
       " (0.769999999999877, -1.0991445812204783),\n",
       " (0.7799999999998768, -0.43644191699424656),\n",
       " (0.7899999999998766, 0.40486295631128116),\n",
       " (0.7999999999998764, -0.32069786332259237),\n",
       " (0.8099999999998762, -1.0682866646182423),\n",
       " (0.8199999999998759, -0.14625832879853806),\n",
       " (0.8299999999998757, 0.10902486775169999),\n",
       " (0.8399999999998755, -0.4328295337295816),\n",
       " (0.8499999999998753, 0.6765909402332744),\n",
       " (0.8599999999998751, -0.5424424716303363),\n",
       " (0.8699999999998749, 1.4196630618672985),\n",
       " (0.8799999999998747, -0.3564519630302971),\n",
       " (0.8899999999998744, 1.288587661958543),\n",
       " (0.8999999999998742, 0.654116351393009),\n",
       " (0.909999999999874, -0.5632534337217151),\n",
       " (0.9199999999998738, 0.7069494329152),\n",
       " (0.9299999999998736, -0.28027693335625037),\n",
       " (0.9399999999998734, -0.08406469277077222),\n",
       " (0.9499999999998732, 1.9052664095054286),\n",
       " (0.959999999999873, 0.3074999573247717),\n",
       " (0.9699999999998727, -0.9364904394908897),\n",
       " (0.9799999999998725, 1.034726598811196),\n",
       " (0.9899999999998723, 0.15581643733776093),\n",
       " (0.9999999999998721, -1.7205241355880123),\n",
       " (1.009999999999872, -0.8295719716592375),\n",
       " (1.0199999999998717, 0.2634718127532374),\n",
       " (1.0299999999998715, 0.2210461489706467),\n",
       " (1.0399999999998712, -0.09956438883946477),\n",
       " (1.049999999999871, -0.9802517457966207),\n",
       " (1.0599999999998708, 1.2099228505113844),\n",
       " (1.0699999999998706, -0.6353677895634596),\n",
       " (1.0799999999998704, -0.6751168713655146),\n",
       " (1.0899999999998702, -0.7469351669221385),\n",
       " (1.09999999999987, 0.7172099056581759),\n",
       " (1.1099999999998698, -0.15589891840215264),\n",
       " (1.1199999999998695, 1.7328826186335593),\n",
       " (1.1299999999998693, 0.36853031158863925),\n",
       " (1.1399999999998691, 0.16805992613126217),\n",
       " (1.149999999999869, -0.4904186872173494),\n",
       " (1.1599999999998687, -0.347951853288256),\n",
       " (1.1699999999998685, -0.6582379068024956),\n",
       " (1.1799999999998683, 0.06886590448144765),\n",
       " (1.189999999999868, 2.1803015849448655),\n",
       " (1.1999999999998678, 0.06662625654432519),\n",
       " (1.2099999999998676, -0.28833739192794167),\n",
       " (1.2199999999998674, -1.3552497483667605),\n",
       " (1.2299999999998672, 0.03376997375310539),\n",
       " (1.239999999999867, -0.9444824186292675),\n",
       " (1.2499999999998668, -0.6480314191811597),\n",
       " (1.2599999999998666, -0.9017605173139496),\n",
       " (1.2699999999998663, 1.0234482128384252),\n",
       " (1.2799999999998661, -0.00854660486610302),\n",
       " (1.289999999999866, -0.9017236866792379),\n",
       " (1.2999999999998657, 0.45445043981251143),\n",
       " (1.3099999999998655, 0.7141688050737598),\n",
       " (1.3199999999998653, -0.9148565930616934),\n",
       " (1.329999999999865, -1.494776679891767),\n",
       " (1.3399999999998649, 1.00704780992103),\n",
       " (1.3499999999998646, 0.050958675304682295),\n",
       " (1.3599999999998644, -1.3019592493790855),\n",
       " (1.3699999999998642, 0.5686692287913606),\n",
       " (1.379999999999864, 0.3429266698181096),\n",
       " (1.3899999999998638, 0.6631076592366469),\n",
       " (1.3999999999998636, -0.834080206885752),\n",
       " (1.4099999999998634, -0.6025367051322134),\n",
       " (1.4199999999998631, -0.6586467462614288),\n",
       " (1.429999999999863, 1.7926887676512464),\n",
       " (1.4399999999998627, 0.039078727811204424),\n",
       " (1.4499999999998625, 0.7722288060977773),\n",
       " (1.4599999999998623, -0.07965497163146035),\n",
       " (1.469999999999862, 1.06218430666291),\n",
       " (1.4799999999998619, 0.9246566055979474),\n",
       " (1.4899999999998617, 1.0773311354373043),\n",
       " (1.4999999999998614, 0.8998574568945913),\n",
       " (1.5099999999998612, -0.5634411692541508),\n",
       " (1.519999999999861, 0.46749162775740105),\n",
       " (1.5299999999998608, 1.5211791850832592),\n",
       " (1.5399999999998606, 0.6255317507396126),\n",
       " (1.5499999999998604, 0.4471906710888979),\n",
       " (1.5599999999998602, -0.7084034582666529),\n",
       " (1.56999999999986, -0.059158103522369235),\n",
       " (1.5799999999998597, -1.298201289097),\n",
       " (1.5899999999998595, -0.35412220212471207),\n",
       " (1.5999999999998593, -1.0951084335507277),\n",
       " (1.609999999999859, -0.18614279128402464),\n",
       " (1.6199999999998589, -0.05347461190975484),\n",
       " (1.6299999999998587, 1.5711434561005688),\n",
       " (1.6399999999998585, -1.7892072821855631),\n",
       " (1.6499999999998582, 0.2833919931630156),\n",
       " (1.659999999999858, -0.43851144878366133),\n",
       " (1.6699999999998578, -0.11833060185211217),\n",
       " (1.6799999999998576, 0.32553003767416966),\n",
       " (1.6899999999998574, 1.098713685937703),\n",
       " (1.6999999999998572, -0.6454752538583814),\n",
       " (1.709999999999857, -0.957945820236858),\n",
       " (1.7199999999998568, 0.8796611826986346),\n",
       " (1.7299999999998565, -1.6546781191478368),\n",
       " (1.7399999999998563, 0.6790468661943254),\n",
       " (1.7499999999998561, -2.4260602662729647),\n",
       " (1.759999999999856, 1.5981459564539604),\n",
       " (1.7699999999998557, -0.6282579816971244),\n",
       " (1.7799999999998555, 2.262013947260517),\n",
       " (1.7899999999998553, 0.08930418085916146),\n",
       " (1.799999999999855, -0.5505373627105822),\n",
       " (1.8099999999998548, 0.7969010820500294),\n",
       " (1.8199999999998546, 1.389160802005736),\n",
       " (1.8299999999998544, 0.4487470685850986),\n",
       " (1.8399999999998542, -1.4563120242641832),\n",
       " (1.849999999999854, -2.2532497520730566),\n",
       " (1.8599999999998538, 0.5153497494796647),\n",
       " (1.8699999999998536, 2.7081314186115053),\n",
       " (1.8799999999998533, 0.02882152957924396),\n",
       " (1.8899999999998531, -0.6691790684747118),\n",
       " (1.899999999999853, 0.6776919577952166),\n",
       " (1.9099999999998527, 0.33832870800282444),\n",
       " (1.9199999999998525, 0.05456734904119813),\n",
       " (1.9299999999998523, 0.5905069762705893),\n",
       " (1.939999999999852, 0.8155940247745564),\n",
       " (1.9499999999998519, 1.9066443554362968),\n",
       " (1.9599999999998516, -0.3664501320789254),\n",
       " (1.9699999999998514, -1.0529941989292746),\n",
       " (1.9799999999998512, 0.4349067920994112),\n",
       " (1.989999999999851, 0.7815422168770119),\n",
       " (1.9999999999998508, -0.8167868657388417),\n",
       " (2.0099999999998506, -0.6333147110191778),\n",
       " (2.0199999999998504, -0.9265931060403517),\n",
       " (2.02999999999985, 1.38251951923976),\n",
       " (2.03999999999985, 1.0523472274454795),\n",
       " (2.0499999999998497, 0.0036676120534359586),\n",
       " (2.0599999999998495, -0.3064952183291426),\n",
       " (2.0699999999998493, -0.07149552818638334),\n",
       " (2.079999999999849, -1.3845385518782503),\n",
       " (2.089999999999849, 1.0450124461807186),\n",
       " (2.0999999999998487, -0.5695730317273184),\n",
       " (2.1099999999998484, -0.3033401326075878),\n",
       " (2.1199999999998482, -1.1255269610646388),\n",
       " (2.129999999999848, -0.04952954458928782),\n",
       " (2.139999999999848, 0.1657429066989641),\n",
       " (2.1499999999998476, -0.5759722895406847),\n",
       " (2.1599999999998474, -0.709643772968986),\n",
       " (2.169999999999847, -0.711630880709157),\n",
       " (2.179999999999847, -1.0230752781334262),\n",
       " (2.1899999999998467, 0.21469226558100082),\n",
       " (2.1999999999998465, 0.2651604246810407),\n",
       " (2.2099999999998463, -1.001321153215167),\n",
       " (2.219999999999846, -0.7790359494137137),\n",
       " (2.229999999999846, 0.3824562361978119),\n",
       " (2.2399999999998457, -0.7730243991651152),\n",
       " (2.2499999999998455, 0.5755015340006145),\n",
       " (2.2599999999998452, -0.9400836620276622),\n",
       " (2.269999999999845, -2.312429951163129),\n",
       " (2.279999999999845, -0.3865909259233198),\n",
       " (2.2899999999998446, -0.05831372917282656),\n",
       " (2.2999999999998444, 1.9015878410573432),\n",
       " (2.309999999999844, 0.3210345948705921),\n",
       " (2.319999999999844, 0.4619984297817648),\n",
       " (2.3299999999998438, -1.333710575355498),\n",
       " (2.3399999999998435, -1.799179951248042),\n",
       " (2.3499999999998433, 0.02251198265858383),\n",
       " (2.359999999999843, 0.5766395653121538),\n",
       " (2.369999999999843, -0.33779069535472456),\n",
       " (2.3799999999998427, -0.4845450000835964),\n",
       " (2.3899999999998425, 2.2926307927760368),\n",
       " (2.3999999999998423, -0.12122270986348402),\n",
       " (2.409999999999842, 0.10604713011174215),\n",
       " (2.419999999999842, 1.0625760043748869),\n",
       " (2.4299999999998416, -0.8248543733833033),\n",
       " (2.4399999999998414, -1.283525523649667),\n",
       " (2.449999999999841, -0.6259876403621468),\n",
       " (2.459999999999841, 1.3455995961213478),\n",
       " (2.4699999999998408, -0.3585409266281878),\n",
       " (2.4799999999998406, -1.3495581177569758),\n",
       " (2.4899999999998403, 0.7551503180371903),\n",
       " (2.49999999999984, 1.2068900735689234),\n",
       " (2.50999999999984, 1.5105878962276453),\n",
       " (2.5199999999998397, 0.09383036757857158),\n",
       " (2.5299999999998395, 0.9175506953580926),\n",
       " (2.5399999999998393, -0.9233970729181369),\n",
       " (2.549999999999839, -0.8897074431184652),\n",
       " (2.559999999999839, -0.8851138113490299),\n",
       " (2.5699999999998386, -0.5501029654330928),\n",
       " (2.5799999999998384, -1.241059856255346),\n",
       " (2.589999999999838, 0.26008013826693016),\n",
       " (2.599999999999838, 0.37250157443743454),\n",
       " (2.609999999999838, -0.867117012014038),\n",
       " (2.6199999999998376, -0.7560180990024801),\n",
       " (2.6299999999998374, 0.14998174720719787),\n",
       " (2.639999999999837, 0.839763121896132),\n",
       " (2.649999999999837, -1.4166975267467266),\n",
       " (2.6599999999998367, 1.3506891338700406),\n",
       " (2.6699999999998365, 1.0309970177496188),\n",
       " (2.6799999999998363, 0.16987661823742584),\n",
       " (2.689999999999836, 0.410509192173569),\n",
       " (2.699999999999836, 1.0290899021240973),\n",
       " (2.7099999999998357, -0.23322040303135103),\n",
       " (2.7199999999998354, -0.32089037092298983),\n",
       " (2.7299999999998352, -0.254546113569489),\n",
       " (2.739999999999835, 0.23276420826976196),\n",
       " (2.749999999999835, -1.2915826393366052),\n",
       " (2.7599999999998346, -0.6484169070496303),\n",
       " (2.7699999999998344, 0.24312644093707161),\n",
       " (2.779999999999834, -0.11808971948096232),\n",
       " (2.789999999999834, 2.2872743844769405),\n",
       " (2.7999999999998337, 0.23113923978211265),\n",
       " (2.8099999999998335, 0.8682060708684419),\n",
       " (2.8199999999998333, 0.4303913406468795),\n",
       " (2.829999999999833, 0.626489112773019),\n",
       " (2.839999999999833, 1.0418284348001075),\n",
       " (2.8499999999998327, 2.5685259556399274),\n",
       " (2.8599999999998325, -0.058674897717665944),\n",
       " (2.8699999999998322, -0.12117793959508973),\n",
       " (2.879999999999832, -0.005980436540523639),\n",
       " (2.889999999999832, -0.22786669071746285),\n",
       " (2.8999999999998316, -0.2643515789875389),\n",
       " (2.9099999999998314, -1.3554592184935617),\n",
       " (2.919999999999831, -1.6200126163344208),\n",
       " (2.929999999999831, 0.35898081686459715),\n",
       " (2.9399999999998307, 1.2604158294425791),\n",
       " (2.9499999999998305, 1.373846054321968),\n",
       " (2.9599999999998303, 0.15519670181733028),\n",
       " (2.96999999999983, -0.21824276549325217),\n",
       " (2.97999999999983, -0.7053337703507003),\n",
       " (2.9899999999998297, 0.08759217520774527),\n",
       " (2.9999999999998295, -0.009700081212291317),\n",
       " (3.0099999999998293, 2.1003427735440505),\n",
       " (3.019999999999829, -0.3592971862182426),\n",
       " (3.029999999999829, -0.10192170508321209),\n",
       " (3.0399999999998286, -0.3429066537890858),\n",
       " (3.0499999999998284, -1.0443855924554615),\n",
       " (3.059999999999828, 0.5929053731415265),\n",
       " (3.069999999999828, -0.9886182943116667),\n",
       " (3.0799999999998278, -0.4054400630326596),\n",
       " (3.0899999999998276, 1.4884543187044612),\n",
       " (3.0999999999998273, 0.09068632290535764),\n",
       " (3.109999999999827, 1.2688376219916162),\n",
       " (3.119999999999827, 1.0056785055406858),\n",
       " (3.1299999999998267, 0.198855284098199),\n",
       " (3.1399999999998265, 0.8778539377889795),\n",
       " (3.1499999999998263, 0.6804325027582135),\n",
       " (3.159999999999826, -1.4301722165160413),\n",
       " (3.169999999999826, -0.6910003744425588),\n",
       " (3.1799999999998256, 0.49249605938594143),\n",
       " (3.1899999999998254, 1.3816761298532214),\n",
       " (3.199999999999825, -0.28572368144453253),\n",
       " (3.209999999999825, -0.4647378325054153),\n",
       " (3.219999999999825, -0.730816740353365),\n",
       " (3.2299999999998246, 0.1309089634600404),\n",
       " (3.2399999999998244, -0.24394981387096243),\n",
       " (3.249999999999824, 0.7346657624728311),\n",
       " (3.259999999999824, -0.8032443950168799),\n",
       " (3.2699999999998237, 0.217100372735891),\n",
       " (3.2799999999998235, -1.1422140679441888),\n",
       " (3.2899999999998233, 1.3520521339167848),\n",
       " (3.299999999999823, -2.0172280024135025),\n",
       " (3.309999999999823, 0.32349193249437425),\n",
       " (3.3199999999998226, 2.04416360655431),\n",
       " (3.3299999999998224, 0.6100164602149857),\n",
       " (3.3399999999998222, -1.0576408227957446),\n",
       " (3.349999999999822, 0.15817091443922585),\n",
       " (3.359999999999822, -1.163965104529712),\n",
       " (3.3699999999998216, -0.5114560010678847),\n",
       " (3.3799999999998214, -0.5934856005427163),\n",
       " (3.389999999999821, 0.7540245070165392),\n",
       " (3.399999999999821, 0.5216880899463756),\n",
       " (3.4099999999998207, 0.4933310429716963),\n",
       " (3.4199999999998205, -0.11842996447783948),\n",
       " (3.4299999999998203, 1.6889605494949),\n",
       " (3.43999999999982, -0.4696695047654733),\n",
       " (3.44999999999982, -0.40055250678628285),\n",
       " (3.4599999999998197, -1.2636789572256992),\n",
       " (3.4699999999998195, 1.5797360453304845),\n",
       " (3.4799999999998192, 1.1765448950864588),\n",
       " (3.489999999999819, -0.6569867797230381),\n",
       " (3.499999999999819, 0.02200034686716423),\n",
       " (3.5099999999998186, 1.4301803364471852),\n",
       " (3.5199999999998184, -1.476051191912811),\n",
       " (3.529999999999818, -0.6871467328045662),\n",
       " (3.539999999999818, 1.4875712569413633),\n",
       " (3.5499999999998177, -1.1382971049286135),\n",
       " (3.5599999999998175, -1.218006937400026),\n",
       " (3.5699999999998173, 0.5560932263332491),\n",
       " (3.579999999999817, 0.3781044544781662),\n",
       " (3.589999999999817, 0.7725206272785264),\n",
       " (3.5999999999998167, -0.6096212535520695),\n",
       " (3.6099999999998165, 1.9726520236854774),\n",
       " (3.6199999999998163, -0.7830680347237671),\n",
       " (3.629999999999816, -0.04362807310715192),\n",
       " (3.639999999999816, -0.7898013248514885),\n",
       " (3.6499999999998156, -0.07888766540669241),\n",
       " (3.6599999999998154, -0.2317980521721107),\n",
       " (3.669999999999815, -0.42717124449617927),\n",
       " (3.679999999999815, -0.10643190825788507),\n",
       " (3.6899999999998148, -0.12813719019976644),\n",
       " (3.6999999999998145, -0.6247111736359182),\n",
       " (3.7099999999998143, -0.9394289696625291),\n",
       " (3.719999999999814, -1.4903122748634257),\n",
       " (3.729999999999814, 0.40963049739794066),\n",
       " (3.7399999999998137, 1.2109373241751094),\n",
       " (3.7499999999998135, -1.2393949964225972),\n",
       " (3.7599999999998133, 0.9736280586132843),\n",
       " (3.769999999999813, -1.1374253083621544),\n",
       " (3.779999999999813, 1.2062647057373825),\n",
       " (3.7899999999998126, -0.12077889375875465),\n",
       " (3.7999999999998124, 0.841762603783699),\n",
       " (3.809999999999812, 0.7593796012171625),\n",
       " (3.819999999999812, 0.9027772399449863),\n",
       " (3.8299999999998118, -1.0639064028453127),\n",
       " (3.8399999999998116, -0.9022190153996609),\n",
       " (3.8499999999998114, 0.7063155043544388),\n",
       " (3.859999999999811, -1.4140910711490287),\n",
       " (3.869999999999811, -0.534585719872871),\n",
       " (3.8799999999998107, 0.45088959778770693),\n",
       " (3.8899999999998105, 0.8011051617240879),\n",
       " (3.8999999999998103, -0.4834534486126408),\n",
       " (3.90999999999981, 1.5257100955831375),\n",
       " (3.91999999999981, 0.5944780155059702),\n",
       " (3.9299999999998096, 0.6861123452557132),\n",
       " (3.9399999999998094, 1.1079404396063135),\n",
       " (3.949999999999809, 0.5185579818441113),\n",
       " (3.959999999999809, -0.2931641662826875),\n",
       " (3.969999999999809, 0.9053574051300465),\n",
       " (3.9799999999998086, 0.6350836901064126),\n",
       " (3.9899999999998084, -0.39957474262529974),\n",
       " (3.999999999999808, 1.5659215954873549),\n",
       " (4.009999999999808, -1.6631157229405582),\n",
       " (4.019999999999808, -0.8930630670380698),\n",
       " (4.0299999999998075, 0.7836662785238134),\n",
       " (4.039999999999807, -0.10066520721128423),\n",
       " (4.049999999999807, 0.27698537966318815),\n",
       " (4.059999999999807, -0.40366895954097765),\n",
       " (4.069999999999807, 2.0107390177684517),\n",
       " (4.0799999999998064, 0.8359033343972994),\n",
       " (4.089999999999806, 0.22690006972788937),\n",
       " (4.099999999999806, 0.2622903567187016),\n",
       " (4.109999999999806, -0.7595811232102598),\n",
       " (4.119999999999806, -0.5024944337452663),\n",
       " (4.129999999999805, 1.6494468280513863),\n",
       " (4.139999999999805, 1.710550259797554),\n",
       " (4.149999999999805, -2.297850113960337),\n",
       " (4.159999999999805, -0.6616522046558225),\n",
       " (4.1699999999998045, 0.5500426837675744),\n",
       " (4.179999999999804, -0.29921631321417685),\n",
       " (4.189999999999804, -0.8750054017510238),\n",
       " (4.199999999999804, -0.5113350299329874),\n",
       " (4.209999999999804, 0.5789867215903615),\n",
       " (4.2199999999998035, -0.6026495358494752),\n",
       " (4.229999999999803, 0.8126090202424562),\n",
       " (4.239999999999803, -0.7215037428020669),\n",
       " (4.249999999999803, -0.3351750946377985),\n",
       " (4.259999999999803, -0.5455919308190572),\n",
       " (4.269999999999802, 0.3268610475685907),\n",
       " (4.279999999999802, 1.9372194417656008),\n",
       " (4.289999999999802, -0.23983268316585007),\n",
       " (4.299999999999802, -1.000058309480287),\n",
       " (4.3099999999998015, 0.18626013180417653),\n",
       " (4.319999999999801, -0.5496483121235713),\n",
       " (4.329999999999801, -0.030776466189914947),\n",
       " (4.339999999999801, -0.6943012979626957),\n",
       " (4.349999999999801, 0.19023480704146736),\n",
       " (4.3599999999998005, 0.7473501875942256),\n",
       " (4.3699999999998, -0.22613554471175146),\n",
       " (4.3799999999998, 0.7761683830938835),\n",
       " (4.3899999999998, -0.3566676493446669),\n",
       " (4.3999999999998, 0.9205131630994535),\n",
       " (4.409999999999799, -0.7253973698051045),\n",
       " (4.419999999999799, 0.07223519128838717),\n",
       " (4.429999999999799, -0.05957164464033511),\n",
       " (4.439999999999799, -1.3251374253385084),\n",
       " (4.449999999999799, 0.19625439233384603),\n",
       " (4.459999999999798, -0.4302544150397352),\n",
       " (4.469999999999798, 0.30254872889531076),\n",
       " (4.479999999999798, 2.2894543475948987),\n",
       " (4.489999999999798, -0.652822918654254),\n",
       " (4.4999999999997975, 0.7315573959009463),\n",
       " (4.509999999999797, -0.5072139977309618),\n",
       " (4.519999999999797, 0.6829898828892045),\n",
       " (4.529999999999797, 1.1013974224019751),\n",
       " (4.539999999999797, -0.442808489385323),\n",
       " (4.549999999999796, 1.1163570309550757),\n",
       " (4.559999999999796, -2.2095703526246564),\n",
       " (4.569999999999796, -0.9406968542132689),\n",
       " (4.579999999999796, 0.26834943448767773),\n",
       " (4.589999999999796, -0.13485086367850868),\n",
       " (4.599999999999795, 1.0488691878988894),\n",
       " (4.609999999999795, 0.465506697260537),\n",
       " (4.619999999999795, 1.5722813861712164),\n",
       " (4.629999999999795, -1.844276789545377),\n",
       " (4.6399999999997945, 0.29328904571092396),\n",
       " (4.649999999999794, 0.15135739524867506),\n",
       " (4.659999999999794, -1.3802673467070277),\n",
       " (4.669999999999794, -0.34281042901892483),\n",
       " (4.679999999999794, 0.7909321226416856),\n",
       " (4.6899999999997934, -0.6970446786645025),\n",
       " (4.699999999999793, -0.6682681554013213),\n",
       " (4.709999999999793, -1.2446310270468484),\n",
       " (4.719999999999793, -2.1474445337336734),\n",
       " (4.729999999999793, 1.4784876786412808),\n",
       " (4.739999999999792, -0.6354651331605973),\n",
       " (4.749999999999792, 0.21838889558060182),\n",
       " (4.759999999999792, 0.19655435381524547),\n",
       " (4.769999999999792, 0.9028057620700939),\n",
       " (4.7799999999997915, -0.14845559259122543),\n",
       " (4.789999999999791, 0.9748478699394401),\n",
       " (4.799999999999791, 0.06756832184772789),\n",
       " (4.809999999999791, 0.06775002987919819),\n",
       " (4.819999999999791, -0.566595494419821),\n",
       " (4.8299999999997905, -0.5657976602671095),\n",
       " (4.83999999999979, -1.397700508568172),\n",
       " (4.84999999999979, -1.070815647386095),\n",
       " (4.85999999999979, 1.5246269372289154),\n",
       " (4.86999999999979, 0.6854788727261769),\n",
       " (4.879999999999789, 0.19909023879260854),\n",
       " (4.889999999999789, -0.7023128333893134),\n",
       " (4.899999999999789, 0.9931800994715199),\n",
       " (4.909999999999789, 0.5193352535903542),\n",
       " (4.9199999999997885, 1.1616465642841847),\n",
       " (4.929999999999788, 0.5391050454575752),\n",
       " (4.939999999999788, 1.7875148266195087),\n",
       " (4.949999999999788, 1.376485226427548),\n",
       " (4.959999999999788, -0.5161312011043556),\n",
       " (4.9699999999997875, 1.6851347642807655),\n",
       " (4.979999999999787, -1.826546807532619),\n",
       " (4.989999999999787, -0.037506454670130605)]"
      ]
     },
     "execution_count": 93,
     "metadata": {},
     "output_type": "execute_result"
    }
   ],
   "source": [
    "list(zip(x, y))"
   ]
  },
  {
   "cell_type": "code",
   "execution_count": 43,
   "metadata": {},
   "outputs": [],
   "source": [
    "y.sort()"
   ]
  },
  {
   "cell_type": "code",
   "execution_count": 44,
   "metadata": {},
   "outputs": [
    {
     "data": {
      "text/plain": [
       "<matplotlib.collections.PathCollection at 0x134dcb8d0>"
      ]
     },
     "execution_count": 44,
     "metadata": {},
     "output_type": "execute_result"
    },
    {
     "data": {
      "image/png": "[encoded data removed]",
      "text/plain": [
       "<Figure size 640x480 with 1 Axes>"
      ]
     },
     "metadata": {},
     "output_type": "display_data"
    }
   ],
   "source": [
    "plt.scatter(bin_centers, hist)"
   ]
  },
  {
   "cell_type": "code",
   "execution_count": 215,
   "metadata": {},
   "outputs": [
    {
     "data": {
      "text/plain": [
       "[<matplotlib.lines.Line2D at 0x30e25b650>]"
      ]
     },
     "execution_count": 215,
     "metadata": {},
     "output_type": "execute_result"
    },
    {
     "data": {
      "image/png": "[encoded data removed]",
      "text/plain": [
       "<Figure size 640x480 with 1 Axes>"
      ]
     },
     "metadata": {},
     "output_type": "display_data"
    }
   ],
   "source": [
    "plt.plot(bin_centers, hist)"
   ]
  },
  {
   "cell_type": "code",
   "execution_count": 45,
   "metadata": {},
   "outputs": [
    {
     "data": {
      "text/plain": [
       "[<matplotlib.lines.Line2D at 0x134df6e10>]"
      ]
     },
     "execution_count": 45,
     "metadata": {},
     "output_type": "execute_result"
    },
    {
     "data": {
      "image/png": "[encoded data removed]",
      "text/plain": [
       "<Figure size 640x480 with 1 Axes>"
      ]
     },
     "metadata": {},
     "output_type": "display_data"
    }
   ],
   "source": [
    "bins1 = 50\n",
    "x1 = np.linspace(-5, 5, 100000)\n",
    "y1 = np.random.normal(size=len(x1))\n",
    "hist1, bin_edges1 = np.histogram(y1, density=True, bins = bins1)\n",
    "plt.plot(bin_edges1[:-1], hist1)"
   ]
  },
  {
   "cell_type": "code",
   "execution_count": 46,
   "metadata": {},
   "outputs": [
    {
     "data": {
      "text/plain": [
       "[<matplotlib.lines.Line2D at 0x134f71a10>]"
      ]
     },
     "execution_count": 46,
     "metadata": {},
     "output_type": "execute_result"
    },
    {
     "data": {
      "image/png": "[encoded data removed]",
      "text/plain": [
       "<Figure size 640x480 with 1 Axes>"
      ]
     },
     "metadata": {},
     "output_type": "display_data"
    }
   ],
   "source": [
    "bins2 = 50\n",
    "x2 = np.linspace(-5, 5, 100000)\n",
    "y2 = np.random.pareto(a = 10, size=len(x))\n",
    "hist2, bin_edges2 = np.histogram(y2, density=True, bins = bins2)\n",
    "plt.plot(bin_edges2[:-1], hist2)"
   ]
  },
  {
   "cell_type": "code",
   "execution_count": null,
   "metadata": {},
   "outputs": [],
   "source": []
  },
  {
   "cell_type": "code",
   "execution_count": null,
   "metadata": {},
   "outputs": [],
   "source": []
  },
  {
   "cell_type": "code",
   "execution_count": null,
   "metadata": {},
   "outputs": [],
   "source": []
  }
 ],
 "metadata": {
  "colab": {
   "provenance": []
  },
  "kernelspec": {
   "display_name": "Python 3 (ipykernel)",
   "language": "python",
   "name": "python3"
  },
  "language_info": {
   "codemirror_mode": {
    "name": "ipython",
    "version": 3
   },
   "file_extension": ".py",
   "mimetype": "text/x-python",
   "name": "python",
   "nbconvert_exporter": "python",
   "pygments_lexer": "ipython3",
   "version": "3.11.8"
  }
 },
 "nbformat": 4,
 "nbformat_minor": 4
}
