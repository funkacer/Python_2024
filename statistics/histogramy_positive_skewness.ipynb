{
 "cells": [
  {
   "cell_type": "code",
   "execution_count": 1,
   "metadata": {
    "colab": {
     "base_uri": "https://localhost:8080/"
    },
    "id": "gxXZktHs8lJJ",
    "outputId": "15b6a34c-a3b3-4617-8280-4aa79e583daa"
   },
   "outputs": [],
   "source": [
    "import numpy as np\n",
    "import IPython.display as display\n",
    "from matplotlib import pyplot as plt\n",
    "import io\n",
    "import base64\n",
    "from scipy.stats import skew\n",
    "\n",
    "from rd_zaokrouhleni import rd"
   ]
  },
  {
   "cell_type": "code",
   "execution_count": 2,
   "metadata": {},
   "outputs": [
    {
     "data": {
      "text/markdown": [
       "\n",
       "    Returns rounded string with defined precicion.\n",
       "\n",
       "    INPUT:\n",
       "    number: float, to be rounded\n",
       "    precision: int, precision used whe rounding\n",
       "\n",
       "    OUTPUT:\n",
       "    round_str: str\n",
       "    "
      ],
      "text/plain": [
       "<IPython.core.display.Markdown object>"
      ]
     },
     "metadata": {},
     "output_type": "display_data"
    }
   ],
   "source": [
    "display.display(display.Markdown(F\"\"\"{rd.__doc__}\"\"\"))"
   ]
  },
  {
   "cell_type": "code",
   "execution_count": 3,
   "metadata": {
    "colab": {
     "base_uri": "https://localhost:8080/"
    },
    "id": "gxXZktHs8lJJ",
    "outputId": "15b6a34c-a3b3-4617-8280-4aa79e583daa"
   },
   "outputs": [
    {
     "name": "stdout",
     "output_type": "stream",
     "text": [
      "11 12\n"
     ]
    }
   ],
   "source": [
    "bins = 11\n",
    "x = np.linspace(-5, 5, 1000)\n",
    "y = np.random.normal(size=len(x))\n",
    "hist, bin_edges = np.histogram(y, density=True, bins = bins)\n",
    "print(len(hist), len(bin_edges))"
   ]
  },
  {
   "cell_type": "code",
   "execution_count": 4,
   "metadata": {
    "colab": {
     "base_uri": "https://localhost:8080/"
    },
    "id": "myLeiW-E9KbI",
    "outputId": "01acfcc4-a146-4a52-e40d-9a5567cc4beb"
   },
   "outputs": [
    {
     "data": {
      "text/plain": [
       "array([0.01800536, 0.0450134 , 0.12243646, 0.28448472, 0.40332011,\n",
       "       0.35650616, 0.30789169, 0.15844718, 0.06842038, 0.03060912,\n",
       "       0.00540161])"
      ]
     },
     "execution_count": 4,
     "metadata": {},
     "output_type": "execute_result"
    }
   ],
   "source": [
    "hist"
   ]
  },
  {
   "cell_type": "code",
   "execution_count": 5,
   "metadata": {
    "colab": {
     "base_uri": "https://localhost:8080/"
    },
    "id": "EuU7Ucp99NsP",
    "outputId": "0a8d4967-0f90-4a91-d3f9-e19375d41ab9"
   },
   "outputs": [
    {
     "data": {
      "text/plain": [
       "array([-2.90371034, -2.34832022, -1.79293011, -1.23753999, -0.68214988,\n",
       "       -0.12675976,  0.42863035,  0.98402047,  1.53941058,  2.0948007 ,\n",
       "        2.65019082,  3.20558093])"
      ]
     },
     "execution_count": 5,
     "metadata": {},
     "output_type": "execute_result"
    }
   ],
   "source": [
    "bin_edges"
   ]
  },
  {
   "cell_type": "code",
   "execution_count": 6,
   "metadata": {
    "colab": {
     "base_uri": "https://localhost:8080/",
     "height": 333
    },
    "id": "kvLOkzhb8uv4",
    "outputId": "88b8bb1f-0447-4070-d6b1-73f177e7cd93"
   },
   "outputs": [
    {
     "data": {
      "text/markdown": [
       "![Sample Visualization](data:image/png;base64,iVBORw0KGgoAAAANSUhEUgAAAZAAAAEsCAYAAADtt+XCAAAAOXRFWHRTb2Z0d2FyZQBNYXRwbG90bGliIHZlcnNpb24zLjguMiwgaHR0cHM6Ly9tYXRwbG90bGliLm9yZy8g+/7EAAAACXBIWXMAAA9hAAAPYQGoP6dpAAAWAklEQVR4nO3df0yd9d3/8RfgOJRBsUg9DKTSUrOOuMIC0tHNSbczcTFuLLNhZinkrCFTy2JzNqM4Bzh1p9OOYTpSnI6abDawX9g/5rDNSY/OW7QKErWuTdqMQCGHH2sEhnfO6c053z+Mp1/WQ4UP1+EcuucjOYnn6nWd603T8PTiuriuhFAoFBIAAEuUGOsBAACrEwEBABghIAAAIwQEAGCEgAAAjBAQAIARAgIAMEJAAABGCAgAwAgBAQAYISAAACMEBABghIAAAIwQEACAEQICADBCQAAARggIAMAIAQEAGCEgAAAjBAQAYISAAACMEBAAgBECAgAwQkAAAEYICADACAEBABghIAAAIwQEAGCEgAAAjBAQAIARAgIAMEJAAABGCAgAwAgBAQAYuSrWA1ghGAxqdHRU6enpSkhIiPU4ALBsoVBIMzMzysnJUWJifP6//hURkNHRUeXl5cV6DACw3PDwsK677rpYjxHRFRGQ9PR0SR/9Ra9duzbG0wDA8k1PTysvLy/8/S0eXREB+fjHVmvXriUgAK4o8fxj+fj8wRoAIO4REACAEQICADBCQAAARggIAMBIVALS1tam/Px8paSkaNu2bTpx4sSituvs7FRCQoKqqqqiMRYAwEKWB6Srq0sul0tNTU3q7+9XUVGRKisrNT4+ftntBgcH9eMf/1g333yz1SMBAKLA8oC0tLSorq5OTqdThYWFam9vV2pqqjo6OhbcZm5uTt/73vf0yCOPaNOmTVaPBACIAkt/kTAQCKivr08NDQ3hZYmJiXI4HOrt7V1wu5/97Ge69tprtXv3bv3973+3ciSsIs3e5liPENZc0RzrEYC4Z2lAJicnNTc3J7vdPm+53W7XqVOnIm7z6quv6re//a0GBgYWvR+/3y+/3x9+Pz09bTQvAMBcTK/CmpmZ0a5du/TMM88oKytr0du53W5lZGSEX9xIEQBWnqVHIFlZWUpKStLY2Ni85WNjY8rOzr5k/bNnz2pwcFB33HFHeFkwGPxosKuu0unTp1VQUHDJdg0NDXK5XOH3H990DACwciwNSHJyskpKSuTxeMKX4gaDQXk8HtXX11+y/pYtW/Tuu+/OW/bwww9rZmZGTz311IJRsNlsstlsVo4OAFgiy+/G63K5VFtbq9LSUpWVlam1tVWzs7NyOp2SpJqaGuXm5srtdislJUU33njjvO2vvvpqSbpkOQAgvlgekOrqak1MTKixsVE+n0/FxcXq6ekJn1gfGhqK26drAQAWLyEUCoViPcRyTU9PKyMjQ1NTUzwPZBXjMl7gotXwfY1DAQCAEQICADBCQAAARggIAMAIAQEAGCEgAAAjBAQAYISAAACMEBAAgBECAgAwQkAAAEYICADACAEBABghIAAAIwQEAGCEgAAAjBAQAIARAgIAMGL5M9GBeOUd9C563ZV4vC6PzcVqxxEIAMAIAQEAGCEgAAAjBAQAYISAAACMEBAAgBECAgAwQkAAAEYICADACAEBABghIAAAIwQEAGCEgAAAjBAQAIARAgIAMEJAAABGCAgAwAgBAQAYISAAACMEBABghIAAAIwQEACAEQICADBCQAAARggIAMDIVdH40La2Nj355JPy+XwqKirSgQMHVFZWFnHdv/zlL/r5z3+uM2fO6MKFC7rhhhv0ox/9SLt27YrGaEBUeQe9i1632dsctTkkqbkiup8PWH4E0tXVJZfLpaamJvX396uoqEiVlZUaHx+PuH5mZqZ+8pOfqLe3V++8846cTqecTqdeeuklq0cDAFjI8oC0tLSorq5OTqdThYWFam9vV2pqqjo6OiKuX1FRoW9/+9v63Oc+p4KCAt13333aunWrXn31VatHAwBYyNKABAIB9fX1yeFwXNxBYqIcDod6e3s/cftQKCSPx6PTp0/rK1/5yoLr+f1+TU9Pz3sBAFaWpQGZnJzU3Nyc7Hb7vOV2u10+n2/B7aamppSWlqbk5GTdfvvtOnDggL7+9a8vuL7b7VZGRkb4lZeXZ9nXAABYnLi4Cis9PV0DAwN688039fjjj8vlcsnr9S64fkNDg6ampsKv4eHhlRsWACDJ4quwsrKylJSUpLGxsXnLx8bGlJ2dveB2iYmJ2rx5sySpuLhY//jHP+R2u1VRURFxfZvNJpvNZtncAICls/QIJDk5WSUlJfJ4POFlwWBQHo9H5eXli/6cYDAov99v5WgAAItZ/nsgLpdLtbW1Ki0tVVlZmVpbWzU7Oyun0ylJqqmpUW5urtxut6SPzmeUlpaqoKBAfr9fL774on73u9/p4MGDVo8GALCQ5QGprq7WxMSEGhsb5fP5VFxcrJ6envCJ9aGhISUmXjzwmZ2d1b333qtz585pzZo12rJli37/+9+rurra6tEAABaKym+i19fXq76+PuKf/efJ8ccee0yPPfZYNMYAAERRXFyFBQBYfQgIAMBIVH6EhStPtG/8Jy3+RoQV+RVRnQPA4nAEAgAwQkAAAEYICADACAEBABghIAAAIwQEAGCEgAAAjBAQAIARAgIAMEJAAABGCAgAwAgBAQAYISAAACMEBABghIAAAIwQEACAEQICADBCQAAARggIAMAIAQEAGCEgAAAjBAQAYISAAACMEBAAgBECAgAwQkAAAEYICADACAEBABghIAAAIwQEAGCEgAAAjBAQAIARAgIAMEJAAABGCAgAwAgBAQAYISAAACMEBABghIAAAIwQEACAkagEpK2tTfn5+UpJSdG2bdt04sSJBdd95plndPPNN2vdunVat26dHA7HZdcHAMQHywPS1dUll8ulpqYm9ff3q6ioSJWVlRofH4+4vtfr1V133aXjx4+rt7dXeXl5uvXWWzUyMmL1aAAAC1kekJaWFtXV1cnpdKqwsFDt7e1KTU1VR0dHxPWff/553XvvvSouLtaWLVv07LPPKhgMyuPxWD0aAMBClgYkEAior69PDofj4g4SE+VwONTb27uoz/jwww914cIFZWZmWjkaAMBiV1n5YZOTk5qbm5Pdbp+33G6369SpU4v6jAceeEA5OTnzIvSf/H6//H5/+P309LTZwAAAY3F1Fda+ffvU2dmp7u5upaSkLLie2+1WRkZG+JWXl7eCUwIAJIsDkpWVpaSkJI2Njc1bPjY2puzs7Mtuu3//fu3bt09Hjx7V1q1bL7tuQ0ODpqamwq/h4eFlzw4AWBpLA5KcnKySkpJ5J8A/PiFeXl6+4HZPPPGEHn30UfX09Ki0tPQT92Oz2bR27dp5LwDAyrL0HIgkuVwu1dbWqrS0VGVlZWptbdXs7KycTqckqaamRrm5uXK73ZKkX/ziF2psbNThw4eVn58vn88nSUpLS1NaWprV4wEALGJ5QKqrqzUxMaHGxkb5fD4VFxerp6cnfGJ9aGhIiYkXD3wOHjyoQCCgO++8c97nNDU1qbm52erxAAAWsTwgklRfX6/6+vqIf+b1eue9HxwcjMYIAIAoi6ursAAAqwcBAQAYISAAACMEBABghIAAAIwQEACAEQICADBCQAAARggIAMAIAQEAGCEgAAAjBAQAYISAAACMEBAAgBECAgAwQkAAAEYICADASFSeSAggeryD3kWt1+xtjuocktRcEf19IH5xBAIAMEJAAABGCAgAwAgBAQAYISAAACMEBABghIAAAIwQEACAEQICADBCQAAARggIAMAIAQEAGCEgAAAjBAQAYISAAACMEBAAgBECAgAwQkAAAEZ4pO0VYCUeXbrYx6hKUkV+RdTmABA/OAIBABghIAAAIwQEAGCEgAAAjBAQAIARAgIAMEJAAABGohKQtrY25efnKyUlRdu2bdOJEycWXPfkyZP6zne+o/z8fCUkJKi1tTUaIwEALGZ5QLq6uuRyudTU1KT+/n4VFRWpsrJS4+PjEdf/8MMPtWnTJu3bt0/Z2dlWjwMAiBLLA9LS0qK6ujo5nU4VFhaqvb1dqamp6ujoiLj+TTfdpCeffFLf/e53ZbPZrB4HABAllgYkEAior69PDofj4g4SE+VwONTb22vZfvx+v6anp+e9AAAry9KATE5Oam5uTna7fd5yu90un89n2X7cbrcyMjLCr7y8PMs+GwCwOKvyKqyGhgZNTU2FX8PDw7EeCQD+61h6N96srCwlJSVpbGxs3vKxsTFLT5DbbDbOlwBAjFl6BJKcnKySkhJ5PJ7wsmAwKI/Ho/Lycit3BQCIMcufB+JyuVRbW6vS0lKVlZWptbVVs7OzcjqdkqSamhrl5ubK7XZL+ujE+/vvvx/+75GREQ0MDCgtLU2bN2+2ejwAgEUsD0h1dbUmJibU2Ngon8+n4uJi9fT0hE+sDw0NKTHx4oHP6OiovvCFL4Tf79+/X/v379ctt9wir9dr9XgAAItE5YmE9fX1qq+vj/hn/xmF/Px8hUKhaIwBAIiiVXkVFgAg9ggIAMAIAQEAGCEgAAAjBAQAYISAAACMEBAAgBECAgAwQkAAAEYICADACAEBABiJyr2wAKxe3kHvotdt9jZHbY7wPiqivw+Y4QgEAGCEgAAAjBAQAIARAgIAMEJAAABGCAgAwAgBAQAYISAAACMEBABghIAAAIwQEACAEe6FtQKifb+gpdy7qCK/ImpzAPjvwhEIAMAIAQEAGCEgAAAjBAQAYISAAACMEBAAgBECAgAwwu+BAFhx8fTcdZ65bo4jEACAEQICADBCQAAARggIAMAIAQEAGCEgAAAj//WX8Ub7EkGJ260DuDJxBAIAMEJAAABGCAgAwAgBAQAYiUpA2tralJ+fr5SUFG3btk0nTpy47Pp//OMftWXLFqWkpOjzn/+8XnzxxWiMBQCwkOUB6erqksvlUlNTk/r7+1VUVKTKykqNj49HXP+1117TXXfdpd27d+vtt99WVVWVqqqq9N5771k9GgDAQpZfxtvS0qK6ujo5nU5JUnt7u/7617+qo6NDDz744CXrP/XUU7rtttt0//33S5IeffRRHTt2TL/+9a/V3t5u9XgA/gvE091+pSv3jr+WHoEEAgH19fXJ4XBc3EFiohwOh3p7eyNu09vbO299SaqsrFxwfQBAfLD0CGRyclJzc3Oy2+3zltvtdp06dSriNj6fL+L6Pp9vwf34/X75/f7w+6mpKUnS9PT0kmf2z/o/eaVl+r///b9Fr2syT7Q/P972cSV8DSuxjyvhazDdx0p8DUth8r3p421CoZDV41hmVf4mutvt1iOPPHLJ8ry8vBhMY63/0f+s6s9fiX1cCV/DSuzjSvgaVmIfK/E17NM+421nZmaUkZFh4TTWsTQgWVlZSkpK0tjY2LzlY2Njys7OjrhNdnb2ktaXpIaGBrlcrvD7YDCo8+fP65prrlFCQsIyvoLFmZ6eVl5enoaHh7V27dqo72+5mDf6VtvMzBt9y505FAppZmZGOTk5UZjOGpYGJDk5WSUlJfJ4PKqqqpL00Td3j8ej+vr6iNuUl5fL4/Fo79694WXHjh1TeXn5gvux2Wyy2Wzzll199dXLHX/J1q5du2r+MUvMuxJW28zMG33LmTlejzw+ZvmPsFwul2pra1VaWqqysjK1trZqdnY2fFVWTU2NcnNz5Xa7JUn33XefbrnlFv3yl7/U7bffrs7OTr311lv6zW9+Y/VoAAALWR6Q6upqTUxMqLGxUT6fT8XFxerp6QmfKB8aGlJi4sWLv7Zv367Dhw/r4Ycf1kMPPaQbbrhBL7zwgm688UarRwMAWCgqJ9Hr6+sX/JGV1+u9ZNnOnTu1c+fOaIwSFTabTU1NTZf8GC1eMW/0rbaZmTf6VuPMS5UQiudrxAAAcYubKQIAjBAQAIARAgIAMEJAAABGCMgyffOb39SGDRuUkpKiz3zmM9q1a5dGR0djPVZEg4OD2r17tzZu3Kg1a9aooKBATU1NCgQCsR5tQY8//ri2b9+u1NTUmPyy6GIs9fk3sfTKK6/ojjvuUE5OjhISEvTCCy/EeqTLcrvduummm5Senq5rr71WVVVVOn36dKzHWtDBgwe1devW8C8PlpeX629/+1usx4oaArJMO3bs0B/+8AedPn1af/7zn3X27FndeeedsR4rolOnTikYDOrpp5/WyZMn9atf/Urt7e166KGHYj3aggKBgHbu3Kl77rkn1qNEtNTn38Ta7OysioqK1NbWFutRFuXll1/Wnj179Prrr+vYsWO6cOGCbr31Vs3OzsZ6tIiuu+467du3T319fXrrrbf01a9+Vd/61rd08uTJWI8WHSFY6siRI6GEhIRQIBCI9SiL8sQTT4Q2btwY6zE+0aFDh0IZGRmxHuMSZWVloT179oTfz83NhXJyckJutzuGUy2OpFB3d3esx1iS8fHxkKTQyy+/HOtRFm3dunWhZ599NtZjRAVHIBY6f/68nn/+eW3fvl2f+tSnYj3OokxNTSkzMzPWY6xKJs+/wfJ8/OiG1fBvdm5uTp2dnZqdnb3svf1WMwJigQceeECf/vSndc0112hoaEhHjhyJ9UiLcubMGR04cEA/+MEPYj3KqnS5599c7nk2MBMMBrV371596UtfiutbHb377rtKS0uTzWbT3Xffre7ubhUWFsZ6rKggIBE8+OCDSkhIuOzr/39A1v3336+3335bR48eVVJSkmpqalb0ITBLnVeSRkZGdNttt2nnzp2qq6tbsVlN5wX27Nmj9957T52dnbEe5bI++9nPamBgQG+88Ybuuece1dbW6v3334/1WFHBrUwimJiY0L/+9a/LrrNp0yYlJydfsvzcuXPKy8vTa6+9tmKHrUudd3R0VBUVFfriF7+o5557bt7NLVeCyd/vc889p7179+qDDz6I8nSLFwgElJqaqj/96U/hxxdIUm1trT744IO4PxJNSEhQd3f3vNnjVX19vY4cOaJXXnlFGzdujPU4S+JwOFRQUKCnn3461qNYblU+kTDa1q9fr/Xr1xttGwwGJWneI3ejbSnzjoyMaMeOHSopKdGhQ4dWPB7S8v5+44nJ82+wNKFQSD/84Q/V3d0tr9e76uIhffRvYiW/H6wkArIMb7zxht588019+ctf1rp163T27Fn99Kc/VUFBQVyeNBsZGVFFRYWuv/567d+/XxMTE+E/u9wTIGNpaGhI58+f19DQkObm5jQwMCBJ2rx5s9LS0mI7nD75+Tfx5t///rfOnDkTfv/Pf/5TAwMDyszM1IYNG2I4WWR79uzR4cOHdeTIEaWnp4fPLWVkZGjNmjUxnu5SDQ0N+sY3vqENGzZoZmZGhw8fltfr1UsvvRTr0aIjtheBrW7vvPNOaMeOHaHMzMyQzWYL5efnh+6+++7QuXPnYj1aRIcOHQpJiviKV7W1tRHnPX78eKxHCztw4EBow4YNoeTk5FBZWVno9ddfj/VICzp+/HjEv8/a2tpYjxbRQv9eDx06FOvRIvr+978fuv7660PJycmh9evXh772ta+Fjh49GuuxooZzIAAAI1yFBQAwQkAAAEYICADACAEBABghIAAAIwQEAGCEgAAAjBAQAIARAgIAMEJAAABGCAgAwMj/A1/ABedFr6NGAAAAAElFTkSuQmCC)"
      ],
      "text/plain": [
       "<IPython.core.display.Markdown object>"
      ]
     },
     "metadata": {},
     "output_type": "display_data"
    }
   ],
   "source": [
    "fig = plt.figure(figsize=(4, 3), facecolor='w')\n",
    "#plt.hist(y, alpha = 0.5)\n",
    "plt.bar(bin_edges[:bins], hist, color = \"g\", alpha = 0.5)\n",
    "data = io.BytesIO()\n",
    "plt.savefig(data)\n",
    "image = F\"data:image/png;base64,{base64.b64encode(data.getvalue()).decode()}\"\n",
    "alt = \"Sample Visualization\"\n",
    "display.display(display.Markdown(F\"\"\"![{alt}]({image})\"\"\"))\n",
    "plt.close(fig)"
   ]
  },
  {
   "cell_type": "code",
   "execution_count": 7,
   "metadata": {
    "colab": {
     "base_uri": "https://localhost:8080/"
    },
    "id": "F47jVFQW-EFd",
    "outputId": "ad6ff87c-07eb-4ace-ae3d-191dabe6c275"
   },
   "outputs": [
    {
     "name": "stdout",
     "output_type": "stream",
     "text": [
      "Průměrný interval: 0.5553901156361382\n",
      "Interval 1: (-2.904, -2.348), width = 0.5553901156.\n",
      "Interval 2: (-2.348, -1.793), width = 0.5553901156.\n",
      "Interval 3: (-1.793, -1.238), width = 0.5553901156.\n",
      "Interval 4: (-1.238, -0.682), width = 0.5553901156.\n",
      "Interval 5: (-0.682, -0.127), width = 0.5553901156.\n",
      "Interval 6: (-0.127, 0.429), width = 0.5553901156.\n",
      "Interval 7: (0.429, 0.984), width = 0.5553901156.\n",
      "Interval 8: (0.984, 1.539), width = 0.5553901156.\n",
      "Interval 9: (1.539, 2.095), width = 0.5553901156.\n",
      "Interval 10: (2.095, 2.650), width = 0.5553901156.\n",
      "Interval 11: (2.650, 3.206), width = 0.5553901156.\n"
     ]
    }
   ],
   "source": [
    "# intervaly jsou stejně široké!\n",
    "bin_width = (np.max(bin_edges) - np.min(bin_edges)) / len(hist)\n",
    "print(\"Průměrný interval:\", bin_width)\n",
    "i = 0\n",
    "while i < len(bin_edges):\n",
    "    if i > 0:\n",
    "        local_bin_width = bin_edges[i] - bin_edges[i-1]\n",
    "        print (f\"Interval {i}: ({rd(bin_edges[i-1], 3)}, {rd(bin_edges[i], 3)}), width = {rd(local_bin_width, 10)}.\")\n",
    "    i += 1"
   ]
  },
  {
   "cell_type": "code",
   "execution_count": 8,
   "metadata": {
    "colab": {
     "base_uri": "https://localhost:8080/",
     "height": 333
    },
    "id": "62FiAAAY-Xol",
    "outputId": "9018a61d-8f9a-46c6-9d48-d6a62f6b28e2"
   },
   "outputs": [
    {
     "data": {
      "text/markdown": [
       "![Sample Visualization](data:image/png;base64,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)"
      ],
      "text/plain": [
       "<IPython.core.display.Markdown object>"
      ]
     },
     "metadata": {},
     "output_type": "display_data"
    }
   ],
   "source": [
    "fig = plt.figure(figsize=(4, 3), facecolor='w')\n",
    "#plt.hist(y, alpha = 0.5)\n",
    "plt.bar(bin_edges[:bins]+bin_width/2, hist, color = \"g\", alpha = 0.5, width = bin_width-0.1)\n",
    "plt.title(\"Hist using bin_width\", fontsize=10)\n",
    "data = io.BytesIO()\n",
    "plt.savefig(data)\n",
    "image = F\"data:image/png;base64,{base64.b64encode(data.getvalue()).decode()}\"\n",
    "alt = \"Sample Visualization\"\n",
    "display.display(display.Markdown(F\"\"\"![{alt}]({image})\"\"\"))\n",
    "plt.close(fig)"
   ]
  },
  {
   "cell_type": "code",
   "execution_count": 9,
   "metadata": {
    "id": "XY2U0NPy9AyQ"
   },
   "outputs": [],
   "source": [
    "# super vychytávka\n",
    "bin_centers = (bin_edges[:-1] + bin_edges[1:]) / 2"
   ]
  },
  {
   "cell_type": "code",
   "execution_count": 10,
   "metadata": {
    "colab": {
     "base_uri": "https://localhost:8080/",
     "height": 333
    },
    "id": "duxsnFoN86nR",
    "outputId": "9c3bf70f-6c24-4f9b-90ed-0edc476e69dd"
   },
   "outputs": [
    {
     "data": {
      "text/markdown": [
       "![Sample Visualization](data:image/png;base64,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)"
      ],
      "text/plain": [
       "<IPython.core.display.Markdown object>"
      ]
     },
     "metadata": {},
     "output_type": "display_data"
    }
   ],
   "source": [
    "fig = plt.figure(figsize=(4, 3), facecolor='w')\n",
    "#plt.hist(y, alpha = 0.5)\n",
    "plt.bar(bin_centers, hist, color = \"g\", alpha = 0.5)\n",
    "plt.title(\"Hist using bin_centers\", fontsize=10)\n",
    "data = io.BytesIO()\n",
    "plt.savefig(data)\n",
    "image = F\"data:image/png;base64,{base64.b64encode(data.getvalue()).decode()}\"\n",
    "alt = \"Sample Visualization\"\n",
    "display.display(display.Markdown(F\"\"\"![{alt}]({image})\"\"\"))\n",
    "plt.close(fig)"
   ]
  },
  {
   "cell_type": "code",
   "execution_count": 11,
   "metadata": {
    "colab": {
     "base_uri": "https://localhost:8080/"
    },
    "id": "IHO-mHd7lZiP",
    "outputId": "417c55f3-1238-461f-bedc-92721ccac091"
   },
   "outputs": [
    {
     "name": "stdout",
     "output_type": "stream",
     "text": [
      "Interval 1: (-2.904, -2.348), width = 0.5553901156, local_center = -2.62602, center = -2.62602.\n",
      "Interval 2: (-2.348, -1.793), width = 0.5553901156, local_center = -2.07063, center = -2.07063.\n",
      "Interval 3: (-1.793, -1.238), width = 0.5553901156, local_center = -1.51524, center = -1.51524.\n",
      "Interval 4: (-1.238, -0.682), width = 0.5553901156, local_center = -0.95984, center = -0.95984.\n",
      "Interval 5: (-0.682, -0.127), width = 0.5553901156, local_center = -0.40445, center = -0.40445.\n",
      "Interval 6: (-0.127, 0.429), width = 0.5553901156, local_center = 0.15094, center = 0.15094.\n",
      "Interval 7: (0.429, 0.984), width = 0.5553901156, local_center = 0.70633, center = 0.70633.\n",
      "Interval 8: (0.984, 1.539), width = 0.5553901156, local_center = 1.26172, center = 1.26172.\n",
      "Interval 9: (1.539, 2.095), width = 0.5553901156, local_center = 1.81711, center = 1.81711.\n",
      "Interval 10: (2.095, 2.650), width = 0.5553901156, local_center = 2.37250, center = 2.37250.\n",
      "Interval 11: (2.650, 3.206), width = 0.5553901156, local_center = 2.92789, center = 2.92789.\n"
     ]
    }
   ],
   "source": [
    "i = 0\n",
    "while i < len(bin_edges):\n",
    "    if i > 0:\n",
    "        local_bin_width = bin_edges[i] - bin_edges[i-1]\n",
    "        local_bin_center = bin_edges[i-1] + local_bin_width/2\n",
    "        print (f\"Interval {i}: ({rd(bin_edges[i-1], 3)}, {rd(bin_edges[i], 3)}), width = {rd(local_bin_width, 10)}, \\\n",
    "local_center = {rd(local_bin_center, 5)}, center = {rd(bin_centers[i-1], 5)}.\")\n",
    "    i += 1"
   ]
  },
  {
   "cell_type": "code",
   "execution_count": 12,
   "metadata": {
    "colab": {
     "base_uri": "https://localhost:8080/"
    },
    "id": "KsgBHNjkl-SH",
    "outputId": "2bf97740-ffba-4155-fb2c-7a414b7fdcd3"
   },
   "outputs": [
    {
     "data": {
      "text/plain": [
       "array([0.55539012, 0.55539012, 0.55539012, 0.55539012, 0.55539012,\n",
       "       0.55539012, 0.55539012, 0.55539012, 0.55539012, 0.55539012,\n",
       "       0.55539012])"
      ]
     },
     "execution_count": 12,
     "metadata": {},
     "output_type": "execute_result"
    }
   ],
   "source": [
    "(bin_edges[1:]+bin_width/2) - (bin_edges[:bins]+bin_width/2)"
   ]
  },
  {
   "cell_type": "code",
   "execution_count": 13,
   "metadata": {
    "colab": {
     "base_uri": "https://localhost:8080/"
    },
    "id": "XDQcXJUXlvQX",
    "outputId": "f85a6cac-f827-42c8-983b-ce1db8b2f626"
   },
   "outputs": [
    {
     "data": {
      "text/plain": [
       "array([0.55539012, 0.55539012, 0.55539012, 0.55539012, 0.55539012,\n",
       "       0.55539012, 0.55539012, 0.55539012, 0.55539012, 0.55539012])"
      ]
     },
     "execution_count": 13,
     "metadata": {},
     "output_type": "execute_result"
    }
   ],
   "source": [
    "#toto je blbost, dostanu o 1 interval míň\n",
    "bin_centers[1:] - bin_centers[:-1]"
   ]
  },
  {
   "cell_type": "code",
   "execution_count": 14,
   "metadata": {},
   "outputs": [
    {
     "data": {
      "text/plain": [
       "array([0.55539012, 0.55539012, 0.55539012, 0.55539012, 0.55539012,\n",
       "       0.55539012, 0.55539012, 0.55539012, 0.55539012, 0.55539012,\n",
       "       0.55539012])"
      ]
     },
     "execution_count": 14,
     "metadata": {},
     "output_type": "execute_result"
    }
   ],
   "source": [
    "bin_centers+bin_width/2 - (bin_centers-bin_width/2)"
   ]
  },
  {
   "cell_type": "code",
   "execution_count": 15,
   "metadata": {},
   "outputs": [
    {
     "data": {
      "text/plain": [
       "array([0.55539012, 0.55539012, 0.55539012, 0.55539012, 0.55539012,\n",
       "       0.55539012, 0.55539012, 0.55539012, 0.55539012, 0.55539012,\n",
       "       0.55539012])"
      ]
     },
     "execution_count": 15,
     "metadata": {},
     "output_type": "execute_result"
    }
   ],
   "source": [
    "bin_centers*0+bin_width"
   ]
  },
  {
   "cell_type": "code",
   "execution_count": 16,
   "metadata": {},
   "outputs": [
    {
     "data": {
      "text/plain": [
       "array([0.55539012, 0.55539012, 0.55539012, 0.55539012, 0.55539012,\n",
       "       0.55539012, 0.55539012, 0.55539012, 0.55539012, 0.55539012,\n",
       "       0.55539012])"
      ]
     },
     "execution_count": 16,
     "metadata": {},
     "output_type": "execute_result"
    }
   ],
   "source": [
    "np.repeat(bin_width, bins)"
   ]
  },
  {
   "cell_type": "code",
   "execution_count": 17,
   "metadata": {},
   "outputs": [
    {
     "data": {
      "text/plain": [
       "array([0.55539012, 0.55539012, 0.55539012, 0.55539012, 0.55539012,\n",
       "       0.55539012, 0.55539012, 0.55539012, 0.55539012, 0.55539012,\n",
       "       0.55539012])"
      ]
     },
     "execution_count": 17,
     "metadata": {},
     "output_type": "execute_result"
    }
   ],
   "source": [
    "np.diff(bin_edges)"
   ]
  },
  {
   "cell_type": "code",
   "execution_count": 18,
   "metadata": {
    "colab": {
     "base_uri": "https://localhost:8080/"
    },
    "id": "tj3NNOQDoeCw",
    "outputId": "b267456c-da70-47b3-cc85-df57fcd51855"
   },
   "outputs": [
    {
     "data": {
      "text/plain": [
       "1.800536185010441"
      ]
     },
     "execution_count": 18,
     "metadata": {},
     "output_type": "execute_result"
    }
   ],
   "source": [
    "# není 1!\n",
    "np.sum(hist)"
   ]
  },
  {
   "cell_type": "code",
   "execution_count": 19,
   "metadata": {
    "colab": {
     "base_uri": "https://localhost:8080/"
    },
    "id": "sweBu9cPptqe",
    "outputId": "a433f4c4-6ce7-4f26-cef9-c267c185387f"
   },
   "outputs": [
    {
     "data": {
      "text/plain": [
       "1.0"
      ]
     },
     "execution_count": 19,
     "metadata": {},
     "output_type": "execute_result"
    }
   ],
   "source": [
    "np.sum(hist * np.diff(bin_edges))"
   ]
  },
  {
   "cell_type": "code",
   "execution_count": 20,
   "metadata": {},
   "outputs": [
    {
     "data": {
      "text/plain": [
       "1.0"
      ]
     },
     "execution_count": 20,
     "metadata": {},
     "output_type": "execute_result"
    }
   ],
   "source": [
    "np.sum(hist * ((bin_edges[1:]+bin_width/2) - (bin_edges[:bins]+bin_width/2)))"
   ]
  },
  {
   "cell_type": "code",
   "execution_count": 21,
   "metadata": {},
   "outputs": [
    {
     "data": {
      "text/plain": [
       "1.0"
      ]
     },
     "execution_count": 21,
     "metadata": {},
     "output_type": "execute_result"
    }
   ],
   "source": [
    "np.sum(hist * np.repeat(bin_width, bins))"
   ]
  },
  {
   "cell_type": "code",
   "execution_count": 22,
   "metadata": {},
   "outputs": [
    {
     "data": {
      "text/plain": [
       "-0.09317565094928809"
      ]
     },
     "execution_count": 22,
     "metadata": {},
     "output_type": "execute_result"
    }
   ],
   "source": [
    "np.median(y)"
   ]
  },
  {
   "cell_type": "code",
   "execution_count": 23,
   "metadata": {},
   "outputs": [
    {
     "data": {
      "text/plain": [
       "-0.04675934580353147"
      ]
     },
     "execution_count": 23,
     "metadata": {},
     "output_type": "execute_result"
    }
   ],
   "source": [
    "np.mean(y)"
   ]
  },
  {
   "cell_type": "code",
   "execution_count": 24,
   "metadata": {},
   "outputs": [
    {
     "data": {
      "text/plain": [
       "0.9880925936562004"
      ]
     },
     "execution_count": 24,
     "metadata": {},
     "output_type": "execute_result"
    }
   ],
   "source": [
    "np.std(y)"
   ]
  },
  {
   "cell_type": "code",
   "execution_count": 25,
   "metadata": {},
   "outputs": [
    {
     "data": {
      "text/plain": [
       "0.9763269736382371"
      ]
     },
     "execution_count": 25,
     "metadata": {},
     "output_type": "execute_result"
    }
   ],
   "source": [
    "np.var(y)"
   ]
  },
  {
   "cell_type": "code",
   "execution_count": 26,
   "metadata": {},
   "outputs": [
    {
     "data": {
      "text/plain": [
       "0.9880925936562004"
      ]
     },
     "execution_count": 26,
     "metadata": {},
     "output_type": "execute_result"
    }
   ],
   "source": [
    "np.sqrt(np.var(y))"
   ]
  },
  {
   "cell_type": "code",
   "execution_count": 27,
   "metadata": {},
   "outputs": [
    {
     "data": {
      "text/plain": [
       "0.9880925936562004"
      ]
     },
     "execution_count": 27,
     "metadata": {},
     "output_type": "execute_result"
    }
   ],
   "source": [
    "import math\n",
    "math.sqrt(np.var(y))"
   ]
  },
  {
   "cell_type": "markdown",
   "metadata": {},
   "source": [
    "$$variance = \\sigma^2$$\n",
    "$$\\sigma = \\sqrt[2]{variance}$$\n",
    "$$\\begin{equation}\n",
    "variance= \\frac{\\sum{(X-\\mu)^2}}{N}\n",
    "\\end{equation}$$\n",
    "$$\\begin{equation}\n",
    "\\sigma = \\sqrt\\frac{\\sum{(X-\\mu)^2}}{N}\n",
    "\\end{equation}$$"
   ]
  },
  {
   "cell_type": "code",
   "execution_count": 28,
   "metadata": {},
   "outputs": [],
   "source": [
    "ys = np.sort(y)"
   ]
  },
  {
   "cell_type": "markdown",
   "metadata": {},
   "source": [
    "https://stackoverflow.com/questions/10138085/how-to-plot-normal-distribution"
   ]
  },
  {
   "cell_type": "code",
   "execution_count": 29,
   "metadata": {},
   "outputs": [
    {
     "data": {
      "text/markdown": [
       "![Sample Visualization](data:image/png;base64,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)"
      ],
      "text/plain": [
       "<IPython.core.display.Markdown object>"
      ]
     },
     "metadata": {},
     "output_type": "display_data"
    }
   ],
   "source": [
    "fig = plt.figure(figsize=(4, 3), facecolor='w')\n",
    "#plt.hist(y, alpha = 0.5)\n",
    "plt.bar(bin_edges[:bins]+bin_width/2, hist, color = \"g\", alpha = 0.5, width = bin_width-0.1)\n",
    "plt.plot(x, ys)\n",
    "plt.title(\"Hist using bin_width\", fontsize=10)\n",
    "data = io.BytesIO()\n",
    "plt.savefig(data)\n",
    "image = F\"data:image/png;base64,{base64.b64encode(data.getvalue()).decode()}\"\n",
    "alt = \"Sample Visualization\"\n",
    "display.display(display.Markdown(F\"\"\"![{alt}]({image})\"\"\"))\n",
    "plt.close(fig)"
   ]
  },
  {
   "cell_type": "code",
   "execution_count": 30,
   "metadata": {},
   "outputs": [
    {
     "data": {
      "image/png": "[encoded data removed]",
      "text/plain": [
       "<Figure size 640x480 with 1 Axes>"
      ]
     },
     "metadata": {},
     "output_type": "display_data"
    }
   ],
   "source": [
    "import matplotlib.pyplot as plt\n",
    "import numpy as np\n",
    "import scipy.stats as stats\n",
    "import math\n",
    "\n",
    "mu = np.mean(y)\n",
    "variance = np.var(y)\n",
    "sigma = math.sqrt(variance)\n",
    "x = np.linspace(mu - 3*sigma, mu + 3*sigma, 100)\n",
    "plt.bar(bin_edges[:bins]+bin_width/2, hist, color = \"g\", alpha = 0.5, width = bin_width-0.1)\n",
    "plt.plot(x, stats.norm.pdf(x, mu, sigma))\n",
    "plt.show()"
   ]
  },
  {
   "cell_type": "code",
   "execution_count": 31,
   "metadata": {},
   "outputs": [
    {
     "data": {
      "image/png": "[encoded data removed]",
      "text/plain": [
       "<Figure size 640x480 with 1 Axes>"
      ]
     },
     "metadata": {},
     "output_type": "display_data"
    }
   ],
   "source": [
    "import matplotlib.pyplot as plt\n",
    "import numpy as np\n",
    "import math\n",
    "\n",
    "mu = 0\n",
    "variance = 1\n",
    "sigma = math.sqrt(variance)\n",
    "x = np.linspace(mu - 3*sigma, mu + 3*sigma, 100)\n",
    "plt.plot(x, np.random.normal(mu, sigma, 100))\n",
    "plt.show()"
   ]
  },
  {
   "cell_type": "code",
   "execution_count": 32,
   "metadata": {},
   "outputs": [
    {
     "data": {
      "image/png": "[encoded data removed]",
      "text/plain": [
       "<Figure size 640x480 with 1 Axes>"
      ]
     },
     "metadata": {},
     "output_type": "display_data"
    }
   ],
   "source": [
    "import numpy as np\n",
    "import matplotlib.pyplot as plt\n",
    "\n",
    "mean = np.mean(y);\n",
    "std = np.std(y);\n",
    "variance = np.square(std)\n",
    "x = np.arange(-5,5,.01)\n",
    "f = np.exp(-np.square(x-mean)/2*variance)/(np.sqrt(2*np.pi*variance))\n",
    "\n",
    "plt.plot(x,f)\n",
    "plt.bar(bin_edges[:bins]+bin_width/2, hist, color = \"g\", alpha = 0.5, width = bin_width-0.1)\n",
    "plt.ylabel('gaussian distribution')\n",
    "plt.show()"
   ]
  },
  {
   "cell_type": "code",
   "execution_count": 33,
   "metadata": {},
   "outputs": [
    {
     "name": "stdout",
     "output_type": "stream",
     "text": [
      "0.14162400386728058\n"
     ]
    }
   ],
   "source": [
    "# - is negative skewness, + is positive skewness\n",
    "print(skew(y, axis=0, bias=True))"
   ]
  },
  {
   "cell_type": "code",
   "execution_count": 34,
   "metadata": {},
   "outputs": [
    {
     "data": {
      "text/markdown": [
       "![Skewness](Skewness.webp)"
      ],
      "text/plain": [
       "<IPython.core.display.Markdown object>"
      ]
     },
     "metadata": {},
     "output_type": "display_data"
    }
   ],
   "source": [
    "alt = \"Skewness\"\n",
    "image = \"Skewness.webp\"\n",
    "display.display(display.Markdown(F\"\"\"![{alt}]({image})\"\"\"))"
   ]
  },
  {
   "cell_type": "code",
   "execution_count": 35,
   "metadata": {
    "jupyter": {
     "source_hidden": true
    }
   },
   "outputs": [
    {
     "data": {
      "text/markdown": [
       "\n",
       "\n",
       "Positive and Negative Skewness\n",
       "Positive skewness and negative skewness are two different ways that a dataset’s distribution can deviate from perfect symmetry (a normal distribution). They describe the direction of the skew or asymmetry in the data.\n",
       "\n",
       "1. <b>Positive Skewness (Right Skew)</b>\n",
       "In a positively skewed distribution, the tail on the right side (the larger values) is longer than the tail on the left side (the smaller values). This means that the majority of data points are concentrated on the left side of the distribution, and there are some extreme values on the right side. In the case of a positively skewed dataset,\n",
       "\n",
       "Mean > Median > Mode\n",
       "\n",
       "Examples of positively skewed data include income distribution (where most people earn a moderate income, but a few earn extremely high incomes), exam scores (where most students score in a certain range, but a few score exceptionally high), and stock market returns (where most days have modest returns, but a few days may have very high returns).\n",
       "\n",
       "\n",
       "2. <b>Negative Skewness (Left Skew)</b>\n",
       "In a negatively skewed distribution, the tail on the left side (the smaller values) is longer than the tail on the right side (the larger values). This implies that most of the data points are concentrated on the right side of the distribution, with a few extreme values on the left side. In the case of a negatively skewed dataset,\n",
       "\n",
       "Mean < Median < Mode\n",
       "\n",
       "Examples of negatively skewed data include test scores on an easy test (where most students score well, but a few score very low), the age at retirement (where most people retire at a certain age, but a few retire exceptionally early), and the gestational age at birth (where most babies are born full-term, but a few are born prematurely).\n"
      ],
      "text/plain": [
       "<IPython.core.display.Markdown object>"
      ]
     },
     "metadata": {},
     "output_type": "display_data"
    }
   ],
   "source": [
    "display.display(display.Markdown(\"\"\"\n",
    "\n",
    "Positive and Negative Skewness\n",
    "Positive skewness and negative skewness are two different ways that a dataset’s distribution can deviate from perfect symmetry (a normal distribution). They describe the direction of the skew or asymmetry in the data.\n",
    "\n",
    "1. <b>Positive Skewness (Right Skew)</b>\n",
    "In a positively skewed distribution, the tail on the right side (the larger values) is longer than the tail on the left side (the smaller values). This means that the majority of data points are concentrated on the left side of the distribution, and there are some extreme values on the right side. In the case of a positively skewed dataset,\n",
    "\n",
    "Mean > Median > Mode\n",
    "\n",
    "Examples of positively skewed data include income distribution (where most people earn a moderate income, but a few earn extremely high incomes), exam scores (where most students score in a certain range, but a few score exceptionally high), and stock market returns (where most days have modest returns, but a few days may have very high returns).\n",
    "\n",
    "\n",
    "2. <b>Negative Skewness (Left Skew)</b>\n",
    "In a negatively skewed distribution, the tail on the left side (the smaller values) is longer than the tail on the right side (the larger values). This implies that most of the data points are concentrated on the right side of the distribution, with a few extreme values on the left side. In the case of a negatively skewed dataset,\n",
    "\n",
    "Mean < Median < Mode\n",
    "\n",
    "Examples of negatively skewed data include test scores on an easy test (where most students score well, but a few score very low), the age at retirement (where most people retire at a certain age, but a few retire exceptionally early), and the gestational age at birth (where most babies are born full-term, but a few are born prematurely).\n",
    "\"\"\"))"
   ]
  },
  {
   "cell_type": "code",
   "execution_count": 36,
   "metadata": {},
   "outputs": [
    {
     "data": {
      "image/png": "[encoded data removed]",
      "text/plain": [
       "<Figure size 1000x700 with 1 Axes>"
      ]
     },
     "metadata": {},
     "output_type": "display_data"
    }
   ],
   "source": [
    "fig = plt.figure(figsize =(10, 7))\n",
    "# Creating plot\n",
    "plt.boxplot(y)\n",
    "# show plot\n",
    "plt.show()"
   ]
  },
  {
   "cell_type": "code",
   "execution_count": 37,
   "metadata": {},
   "outputs": [
    {
     "data": {
      "image/png": "[encoded data removed]",
      "text/plain": [
       "<Figure size 1000x700 with 1 Axes>"
      ]
     },
     "metadata": {},
     "output_type": "display_data"
    }
   ],
   "source": [
    "green_diamond = dict(markerfacecolor='g', marker='D')\n",
    "\n",
    "fig = plt.figure(figsize =(10, 7))\n",
    "ax = fig.add_subplot(111)\n",
    "bp = ax.boxplot(y, patch_artist = True,\n",
    "                notch ='True', vert = 0, showmeans = True) #, meanprops = green_diamond)\n",
    "for median in bp['medians']:\n",
    "    median.set(color ='red',\n",
    "               linewidth = 3)\n",
    "\n",
    "for mean in bp['means']:\n",
    "    mean.set(color ='green',\n",
    "               linewidth = 3, markerfacecolor='g', marker='D')"
   ]
  },
  {
   "cell_type": "markdown",
   "metadata": {},
   "source": [
    "https://www.geeksforgeeks.org/box-plot-in-python-using-matplotlib/"
   ]
  },
  {
   "cell_type": "code",
   "execution_count": 38,
   "metadata": {},
   "outputs": [
    {
     "data": {
      "image/png": "[encoded data removed]",
      "text/plain": [
       "<Figure size 1000x700 with 1 Axes>"
      ]
     },
     "metadata": {},
     "output_type": "display_data"
    }
   ],
   "source": [
    "green_diamond = dict(markerfacecolor='g', marker='D')\n",
    "\n",
    "fig = plt.figure(figsize =(10, 7))\n",
    "ax = fig.add_subplot(111)\n",
    "bp = ax.boxplot(y, patch_artist = True,\n",
    "                notch ='True', vert = 0, showmeans = True) #, meanprops = green_diamond)\n",
    "for median in bp['medians']:\n",
    "    median.set(color ='red',\n",
    "               linewidth = 3)\n",
    "\n",
    "for mean in bp['means']:\n",
    "    mean.set(color ='green',\n",
    "               linewidth = 3, markerfacecolor='g', marker='D')\n",
    "\n",
    "colors = ['#0000FF', '#00FF00', \n",
    "          '#FFFF00', '#FF00FF']\n",
    " \n",
    "for patch, color in zip(bp['boxes'], colors):\n",
    "    patch.set_facecolor(color)\n",
    " \n",
    "# changing color and linewidth of\n",
    "# whiskers\n",
    "for whisker in bp['whiskers']:\n",
    "    whisker.set(color ='#8B008B',\n",
    "                linewidth = 1.5,\n",
    "                linestyle =\":\")\n",
    " \n",
    "# changing color and linewidth of\n",
    "# caps\n",
    "for cap in bp['caps']:\n",
    "    cap.set(color ='#8B008B',\n",
    "            linewidth = 2)\n",
    " \n",
    "# changing color and linewidth of\n",
    "# medians\n",
    "for median in bp['medians']:\n",
    "    median.set(color ='red',\n",
    "               linewidth = 3)\n",
    " \n",
    "# changing style of fliers\n",
    "for flier in bp['fliers']:\n",
    "    flier.set(marker ='D',\n",
    "              color ='#e7298a',\n",
    "              alpha = 0.5)\n",
    "     \n",
    "# x-axis labels\n",
    "ax.set_yticklabels(['data_1'])\n",
    " \n",
    "# Adding title \n",
    "plt.title(\"Customized box plot\")\n",
    " \n",
    "# Removing top axes and right axes\n",
    "# ticks\n",
    "ax.get_xaxis().tick_bottom()\n",
    "ax.get_yaxis().tick_left()"
   ]
  },
  {
   "cell_type": "code",
   "execution_count": 39,
   "metadata": {},
   "outputs": [
    {
     "data": {
      "image/png": "[encoded data removed]",
      "text/plain": [
       "<Figure size 640x480 with 1 Axes>"
      ]
     },
     "metadata": {},
     "output_type": "display_data"
    }
   ],
   "source": [
    "mean = np.mean(y);\n",
    "std = np.std(y);\n",
    "variance = np.square(std)\n",
    "xf = np.arange(-5,5,.01)\n",
    "f = np.exp(-np.square(xf-mean)/2*variance)/(np.sqrt(2*np.pi*variance))\n",
    "\n",
    "plt.plot(x,f)\n",
    "plt.bar(bin_edges[:-1]+bin_width/2, hist, color = \"g\", alpha = 0.5, width = bin_width-0.1)\n",
    "plt.ylabel('gaussian distribution')\n",
    "plt.show()"
   ]
  },
  {
   "cell_type": "code",
   "execution_count": 40,
   "metadata": {},
   "outputs": [
    {
     "data": {
      "image/png": "[encoded data removed]",
      "text/plain": [
       "<Figure size 640x480 with 1 Axes>"
      ]
     },
     "metadata": {},
     "output_type": "display_data"
    }
   ],
   "source": [
    "plt.plot(xf,f)\n",
    "plt.show()"
   ]
  },
  {
   "cell_type": "code",
   "execution_count": 41,
   "metadata": {},
   "outputs": [
    {
     "data": {
      "text/plain": [
       "[(-5.0, 1.1314571393672848),\n",
       " (-4.99, 2.0366113345079424),\n",
       " (-4.98, -0.767443019967094),\n",
       " (-4.970000000000001, 0.2951236074203352),\n",
       " (-4.960000000000001, -0.5900084917443748),\n",
       " (-4.950000000000001, 0.20879029963235038),\n",
       " (-4.940000000000001, -0.5207612624599941),\n",
       " (-4.9300000000000015, 1.0952205990041655),\n",
       " (-4.920000000000002, -0.314184436332271),\n",
       " (-4.910000000000002, 1.2896485265021929),\n",
       " (-4.900000000000002, -1.6546506447909692),\n",
       " (-4.890000000000002, 2.1538181664739735),\n",
       " (-4.880000000000003, -0.35996289552726346),\n",
       " (-4.870000000000003, 0.9335023377617079),\n",
       " (-4.860000000000003, 0.07917822829873902),\n",
       " (-4.850000000000003, -0.15355649912277508),\n",
       " (-4.840000000000003, -0.8132888498532577),\n",
       " (-4.830000000000004, -0.6666393920380652),\n",
       " (-4.820000000000004, -0.631056407259065),\n",
       " (-4.810000000000004, -0.4349391031396271),\n",
       " (-4.800000000000004, -0.08090916365279363),\n",
       " (-4.7900000000000045, 0.21097456378230572),\n",
       " (-4.780000000000005, 0.30443236612202773),\n",
       " (-4.770000000000005, -0.9350782896237311),\n",
       " (-4.760000000000005, 0.032639741334925816),\n",
       " (-4.750000000000005, 0.09202248991309656),\n",
       " (-4.7400000000000055, -0.09763462272768504),\n",
       " (-4.730000000000006, 1.0611769020230493),\n",
       " (-4.720000000000006, 0.16163562066829712),\n",
       " (-4.710000000000006, -0.04660897181766584),\n",
       " (-4.700000000000006, 0.030317979314250232),\n",
       " (-4.690000000000007, -0.22771312164453264),\n",
       " (-4.680000000000007, -0.25131011547810794),\n",
       " (-4.670000000000007, 0.31685043388807244),\n",
       " (-4.660000000000007, 0.2516001246943301),\n",
       " (-4.6500000000000075, -0.8931333886424638),\n",
       " (-4.640000000000008, -0.8739398488057548),\n",
       " (-4.630000000000008, -0.496242490417577),\n",
       " (-4.620000000000008, -0.730620676407171),\n",
       " (-4.610000000000008, -0.3796959195605271),\n",
       " (-4.6000000000000085, 0.28053488925763764),\n",
       " (-4.590000000000009, 0.36255193345921505),\n",
       " (-4.580000000000009, -1.4367526942877602),\n",
       " (-4.570000000000009, 1.072902218083633),\n",
       " (-4.560000000000009, 0.12089219299009936),\n",
       " (-4.55000000000001, 1.0379261195944343),\n",
       " (-4.54000000000001, -0.8853816511703803),\n",
       " (-4.53000000000001, -1.5694741237585381),\n",
       " (-4.52000000000001, 0.7943333365170794),\n",
       " (-4.5100000000000104, -0.3289024009603135),\n",
       " (-4.500000000000011, -0.7158342406566316),\n",
       " (-4.490000000000011, -0.49960347356190155),\n",
       " (-4.480000000000011, -0.04069147683626598),\n",
       " (-4.470000000000011, -0.4501827329441078),\n",
       " (-4.4600000000000115, 1.0793277011335691),\n",
       " (-4.450000000000012, 0.4409469186007421),\n",
       " (-4.440000000000012, -0.6521677385914079),\n",
       " (-4.430000000000012, -2.027852429688859),\n",
       " (-4.420000000000012, 2.3752565489732556),\n",
       " (-4.410000000000013, -0.19588489782197863),\n",
       " (-4.400000000000013, -0.6650373600555921),\n",
       " (-4.390000000000013, -1.2677762387558347),\n",
       " (-4.380000000000013, 2.299187106352661),\n",
       " (-4.370000000000013, -1.4822116455490275),\n",
       " (-4.360000000000014, -0.03952398586570242),\n",
       " (-4.350000000000014, -1.3649200432547133),\n",
       " (-4.340000000000014, 1.2211626990949942),\n",
       " (-4.330000000000014, -1.8152365304217022),\n",
       " (-4.3200000000000145, -0.6457861678105705),\n",
       " (-4.310000000000015, -1.6338549866168073),\n",
       " (-4.300000000000015, -1.3119779539829),\n",
       " (-4.290000000000015, -0.04852933402064479),\n",
       " (-4.280000000000015, 0.8208994021862405),\n",
       " (-4.270000000000016, 0.6222086200249215),\n",
       " (-4.260000000000016, -1.1432950146218959),\n",
       " (-4.250000000000016, -0.677803379374814),\n",
       " (-4.240000000000016, -0.45403015096362875),\n",
       " (-4.230000000000016, -0.17816449249706448),\n",
       " (-4.220000000000017, -1.147094661603579),\n",
       " (-4.210000000000017, -0.16614361262590313),\n",
       " (-4.200000000000017, 0.2587482755645702),\n",
       " (-4.190000000000017, -0.37818895663306223),\n",
       " (-4.1800000000000175, 1.5868183015358228),\n",
       " (-4.170000000000018, 0.7069446810954285),\n",
       " (-4.160000000000018, 0.2762623288128579),\n",
       " (-4.150000000000018, 0.44689174774378976),\n",
       " (-4.140000000000018, -1.8397223227770423),\n",
       " (-4.1300000000000185, 0.5593988961948618),\n",
       " (-4.120000000000019, -1.7126034195853113),\n",
       " (-4.110000000000019, -0.12024881382023289),\n",
       " (-4.100000000000019, 0.042065323037454416),\n",
       " (-4.090000000000019, 0.9786508323899101),\n",
       " (-4.08000000000002, -2.159082913916961),\n",
       " (-4.07000000000002, -1.1463069454631576),\n",
       " (-4.06000000000002, -1.8344683311758139),\n",
       " (-4.05000000000002, 1.2140276183263263),\n",
       " (-4.0400000000000205, 1.8501094804813563),\n",
       " (-4.030000000000021, 1.687718369229134),\n",
       " (-4.020000000000021, -0.45418932625672265),\n",
       " (-4.010000000000021, -0.44680501743102014),\n",
       " (-4.000000000000021, 0.998623426393085),\n",
       " (-3.9900000000000215, 1.1461546217294527),\n",
       " (-3.9800000000000217, 2.3388340333784234),\n",
       " (-3.970000000000022, -0.7594812178829422),\n",
       " (-3.960000000000022, -0.2632466656021317),\n",
       " (-3.9500000000000224, 0.2494566812093697),\n",
       " (-3.9400000000000226, -0.19045613989262852),\n",
       " (-3.930000000000023, -0.6186391672026618),\n",
       " (-3.920000000000023, -2.6728385808514994),\n",
       " (-3.9100000000000232, 0.2785857202614134),\n",
       " (-3.9000000000000234, 0.12072446269555834),\n",
       " (-3.8900000000000237, 1.9034311465984208),\n",
       " (-3.880000000000024, 1.6158624943358728),\n",
       " (-3.870000000000024, -0.6813716889439192),\n",
       " (-3.8600000000000243, 0.21042881147365425),\n",
       " (-3.8500000000000245, -0.7674310342065529),\n",
       " (-3.8400000000000247, -0.20625016380260613),\n",
       " (-3.830000000000025, -0.09025309139358507),\n",
       " (-3.820000000000025, 0.5680672770468738),\n",
       " (-3.8100000000000254, 1.6632350911632419),\n",
       " (-3.8000000000000256, -1.398613885527543),\n",
       " (-3.790000000000026, 0.2856841395974152),\n",
       " (-3.780000000000026, -2.1892709418117566),\n",
       " (-3.770000000000026, -0.17707969651152178),\n",
       " (-3.7600000000000264, -0.5811723914087001),\n",
       " (-3.7500000000000266, 0.5967271060836916),\n",
       " (-3.740000000000027, 1.9567888560942446),\n",
       " (-3.730000000000027, -0.47923572350884686),\n",
       " (-3.7200000000000273, -0.9215430135682066),\n",
       " (-3.7100000000000275, -0.8417937659955427),\n",
       " (-3.7000000000000277, -0.6552679694495954),\n",
       " (-3.690000000000028, 0.28226754467067816),\n",
       " (-3.680000000000028, -0.6046735119944106),\n",
       " (-3.6700000000000284, -1.1747506915559487),\n",
       " (-3.6600000000000286, 1.6123822648779491),\n",
       " (-3.6500000000000288, 0.01340791794903646),\n",
       " (-3.640000000000029, -1.1067136071692292),\n",
       " (-3.630000000000029, -1.0744642455856677),\n",
       " (-3.6200000000000294, -1.5747615223505578),\n",
       " (-3.6100000000000296, -0.24689740168015947),\n",
       " (-3.60000000000003, 0.272862919255907),\n",
       " (-3.59000000000003, -0.049167607165618896),\n",
       " (-3.5800000000000303, -1.443556136743685),\n",
       " (-3.5700000000000305, -0.24484204627796963),\n",
       " (-3.5600000000000307, -0.5477121650665487),\n",
       " (-3.550000000000031, 0.10615647338841933),\n",
       " (-3.540000000000031, -0.993292730711041),\n",
       " (-3.5300000000000313, -0.8460493645206709),\n",
       " (-3.5200000000000315, -0.626913758890562),\n",
       " (-3.5100000000000318, -0.18608266592975933),\n",
       " (-3.500000000000032, -1.1901483270456787),\n",
       " (-3.490000000000032, 0.3233028376348521),\n",
       " (-3.4800000000000324, -0.21364267488652977),\n",
       " (-3.4700000000000326, -0.6748001697287599),\n",
       " (-3.460000000000033, -0.22925406077860855),\n",
       " (-3.450000000000033, 1.3412546611312577),\n",
       " (-3.4400000000000333, 0.9491832285801384),\n",
       " (-3.4300000000000335, -0.08654183519002817),\n",
       " (-3.4200000000000337, 0.6213794250441764),\n",
       " (-3.410000000000034, -1.643766648907139),\n",
       " (-3.400000000000034, -0.3775754945305163),\n",
       " (-3.3900000000000343, -0.11247926212919708),\n",
       " (-3.3800000000000345, -0.23707943563213008),\n",
       " (-3.3700000000000347, -1.182679694384936),\n",
       " (-3.360000000000035, -1.7935278293119046),\n",
       " (-3.350000000000035, 0.8373239920006083),\n",
       " (-3.3400000000000354, 1.2364143353118542),\n",
       " (-3.3300000000000356, -1.2348979477251747),\n",
       " (-3.320000000000036, -1.5734142542186922),\n",
       " (-3.310000000000036, -1.3669150923347113),\n",
       " (-3.3000000000000362, 1.123535707892461),\n",
       " (-3.2900000000000365, -1.0393676224338948),\n",
       " (-3.2800000000000367, 0.18834839354104593),\n",
       " (-3.270000000000037, -0.08329300767854522),\n",
       " (-3.260000000000037, 0.6860186471999589),\n",
       " (-3.2500000000000373, 0.31582513038633786),\n",
       " (-3.2400000000000375, 0.2648513932006046),\n",
       " (-3.2300000000000377, -0.34828437326448414),\n",
       " (-3.220000000000038, -0.7962772753685748),\n",
       " (-3.210000000000038, 0.175540900577395),\n",
       " (-3.2000000000000384, 2.398188061399265),\n",
       " (-3.1900000000000386, -1.6299081696874367),\n",
       " (-3.180000000000039, 0.25421416675442915),\n",
       " (-3.170000000000039, 1.9482453964780766),\n",
       " (-3.160000000000039, -0.6207490029493877),\n",
       " (-3.1500000000000394, -0.27573659468537465),\n",
       " (-3.1400000000000396, -1.2587144618917767),\n",
       " (-3.13000000000004, -1.7467049020730736),\n",
       " (-3.12000000000004, -1.7545375726169607),\n",
       " (-3.1100000000000403, -0.25455100070230086),\n",
       " (-3.1000000000000405, 1.6410173866448412),\n",
       " (-3.0900000000000407, 1.837446515667655),\n",
       " (-3.080000000000041, 0.9768551948349313),\n",
       " (-3.070000000000041, 0.15593717981676503),\n",
       " (-3.0600000000000414, -0.828410445493381),\n",
       " (-3.0500000000000416, 0.26133310304902413),\n",
       " (-3.040000000000042, -1.114835718298021),\n",
       " (-3.030000000000042, -0.10731932514138547),\n",
       " (-3.020000000000042, 0.6109446371069508),\n",
       " (-3.0100000000000424, -0.8752005766463379),\n",
       " (-3.0000000000000426, -0.11707540623811803),\n",
       " (-2.990000000000043, 2.0771628882899416),\n",
       " (-2.980000000000043, 1.2486972378024426),\n",
       " (-2.9700000000000433, -0.5221591956831768),\n",
       " (-2.9600000000000435, 0.5706678632887909),\n",
       " (-2.9500000000000437, -1.114316062611531),\n",
       " (-2.940000000000044, 2.5912159532923296),\n",
       " (-2.930000000000044, -1.8221484723930146),\n",
       " (-2.9200000000000443, -0.3309175564701394),\n",
       " (-2.9100000000000446, -0.4612146422924679),\n",
       " (-2.9000000000000448, -0.8556346237726961),\n",
       " (-2.890000000000045, 0.6088716265292732),\n",
       " (-2.880000000000045, 1.0828006163645438),\n",
       " (-2.8700000000000454, -0.5361374937671307),\n",
       " (-2.8600000000000456, -0.6873047592163698),\n",
       " (-2.850000000000046, -1.3955635551891805),\n",
       " (-2.840000000000046, -1.381147973834467),\n",
       " (-2.8300000000000463, -1.400945091764327),\n",
       " (-2.8200000000000465, 1.361559152012045),\n",
       " (-2.8100000000000467, 0.8500612747576857),\n",
       " (-2.800000000000047, 0.38809015571519306),\n",
       " (-2.790000000000047, -1.9912605017170528),\n",
       " (-2.7800000000000473, -0.6219759881851054),\n",
       " (-2.7700000000000475, -0.8200633141678568),\n",
       " (-2.7600000000000477, -0.6740571844844458),\n",
       " (-2.750000000000048, 0.44745379957701403),\n",
       " (-2.740000000000048, 0.44978077837155567),\n",
       " (-2.7300000000000484, 1.741917046693694),\n",
       " (-2.7200000000000486, 2.046421611457637),\n",
       " (-2.710000000000049, -0.23565421008082785),\n",
       " (-2.700000000000049, -0.2656204015737258),\n",
       " (-2.6900000000000492, -2.6215238580925733),\n",
       " (-2.6800000000000495, -1.244632651921888),\n",
       " (-2.6700000000000497, -1.2611874688073805),\n",
       " (-2.66000000000005, 1.2430021763762438),\n",
       " (-2.65000000000005, 0.12769742697299408),\n",
       " (-2.6400000000000503, 1.2899845100440734),\n",
       " (-2.6300000000000505, -1.8522269141984657),\n",
       " (-2.6200000000000507, -1.0702571668871437),\n",
       " (-2.610000000000051, -1.0322249245296087),\n",
       " (-2.600000000000051, -1.0444715229515067),\n",
       " (-2.5900000000000514, -0.7209893547239197),\n",
       " (-2.5800000000000516, -0.35923528972621066),\n",
       " (-2.570000000000052, -1.0041012585326086),\n",
       " (-2.560000000000052, -0.6684499855386378),\n",
       " (-2.5500000000000522, -0.46744473045450535),\n",
       " (-2.5400000000000524, -1.0669904438916538),\n",
       " (-2.5300000000000527, 2.0502978581917386),\n",
       " (-2.520000000000053, 0.508644022144265),\n",
       " (-2.510000000000053, -1.3808028766887641),\n",
       " (-2.5000000000000533, -0.2731448281599827),\n",
       " (-2.4900000000000535, 2.260107815769649),\n",
       " (-2.4800000000000537, 0.8418501692001582),\n",
       " (-2.470000000000054, 0.4048889620011258),\n",
       " (-2.460000000000054, 2.2817901228272963),\n",
       " (-2.4500000000000544, -0.3373064590057994),\n",
       " (-2.4400000000000546, 1.42933424705263),\n",
       " (-2.430000000000055, -0.22466466351031605),\n",
       " (-2.420000000000055, 1.1425816806812947),\n",
       " (-2.410000000000055, 0.1475410171613102),\n",
       " (-2.4000000000000554, 0.25663201689236265),\n",
       " (-2.3900000000000556, 0.2620294150540588),\n",
       " (-2.380000000000056, 0.3233652174304964),\n",
       " (-2.370000000000056, 1.1964604577818236),\n",
       " (-2.3600000000000563, -0.9553368218704862),\n",
       " (-2.3500000000000565, -0.8773119394583082),\n",
       " (-2.3400000000000567, 0.9750058480648944),\n",
       " (-2.330000000000057, 0.7350530028054485),\n",
       " (-2.320000000000057, 0.5746487164168701),\n",
       " (-2.3100000000000573, 0.16629040653257887),\n",
       " (-2.3000000000000576, 1.1027659981454045),\n",
       " (-2.2900000000000578, 0.04521501279663187),\n",
       " (-2.280000000000058, 0.11368747513520465),\n",
       " (-2.270000000000058, 0.9331990127668761),\n",
       " (-2.2600000000000584, 0.6044403793146176),\n",
       " (-2.2500000000000586, 1.2875609765198877),\n",
       " (-2.240000000000059, 0.20006994719251298),\n",
       " (-2.230000000000059, 0.31154487044683177),\n",
       " (-2.2200000000000593, -0.07378374258135037),\n",
       " (-2.2100000000000595, 0.20300198773313277),\n",
       " (-2.2000000000000597, 0.9454342692153909),\n",
       " (-2.19000000000006, -1.051895958918764),\n",
       " (-2.18000000000006, 0.6420881112554961),\n",
       " (-2.1700000000000603, -0.5328961807109043),\n",
       " (-2.1600000000000605, 0.44162177772206224),\n",
       " (-2.1500000000000608, -2.0803942414165593),\n",
       " (-2.140000000000061, -0.36994307179681346),\n",
       " (-2.130000000000061, 1.2330222956381636),\n",
       " (-2.1200000000000614, -0.6505438956475513),\n",
       " (-2.1100000000000616, 0.4972742661903025),\n",
       " (-2.100000000000062, 0.3902353555359596),\n",
       " (-2.090000000000062, 0.9099256715378954),\n",
       " (-2.0800000000000622, -1.9852896703785872),\n",
       " (-2.0700000000000625, -0.5891278677733298),\n",
       " (-2.0600000000000627, -1.7121782691436276),\n",
       " (-2.050000000000063, -1.3383254448812931),\n",
       " (-2.040000000000063, -0.2335684277540241),\n",
       " (-2.0300000000000633, -0.7116888475727078),\n",
       " (-2.0200000000000635, -1.4357179795628237),\n",
       " (-2.0100000000000637, -1.066741281910912),\n",
       " (-2.000000000000064, -1.3229826149106718),\n",
       " (-1.9900000000000642, -0.8723032505778744),\n",
       " (-1.9800000000000644, 1.1587295075734851),\n",
       " (-1.9700000000000646, -1.2015666818664872),\n",
       " (-1.9600000000000648, -1.1572477425091587),\n",
       " (-1.950000000000065, 1.3522716429466604),\n",
       " (-1.9400000000000652, -0.039697212698438934),\n",
       " (-1.9300000000000654, -1.3878308931224193),\n",
       " (-1.9200000000000657, 1.6123109089466003),\n",
       " (-1.9100000000000659, -0.622218657520694),\n",
       " (-1.900000000000066, -0.08156664516268913),\n",
       " (-1.8900000000000663, -0.5132631452296956),\n",
       " (-1.8800000000000665, 0.08467999550357683),\n",
       " (-1.8700000000000667, -0.6113298239345806),\n",
       " (-1.860000000000067, 0.7413371639570976),\n",
       " (-1.8500000000000671, 1.0931014356096813),\n",
       " (-1.8400000000000674, -0.8163189809393748),\n",
       " (-1.8300000000000676, -0.9756108355007916),\n",
       " (-1.8200000000000678, 0.753603315116218),\n",
       " (-1.810000000000068, -0.4030960719868023),\n",
       " (-1.8000000000000682, -0.7722875802364026),\n",
       " (-1.7900000000000684, -2.2036852851911237),\n",
       " (-1.7800000000000686, -0.5521196906874255),\n",
       " (-1.7700000000000689, -0.47428006313704163),\n",
       " (-1.760000000000069, 0.8252879150318214),\n",
       " (-1.7500000000000693, 0.5815050760344199),\n",
       " (-1.7400000000000695, -1.3567817543691392),\n",
       " (-1.7300000000000697, -1.5487447686330822),\n",
       " (-1.72000000000007, 0.6760956535893559),\n",
       " (-1.7100000000000701, -0.3404752920936218),\n",
       " (-1.7000000000000703, -0.7243306344821462),\n",
       " (-1.6900000000000706, 1.080717499172702),\n",
       " (-1.6800000000000708, 0.08935550805849721),\n",
       " (-1.670000000000071, 0.4851470613406124),\n",
       " (-1.6600000000000712, -0.017312475407504618),\n",
       " (-1.6500000000000714, -0.4927331370364683),\n",
       " (-1.6400000000000716, 0.9800670462957208),\n",
       " (-1.6300000000000718, 0.5022466254809751),\n",
       " (-1.620000000000072, 1.0640818739244797),\n",
       " (-1.6100000000000723, -1.4529441000144536),\n",
       " (-1.6000000000000725, 1.1197518265565607),\n",
       " (-1.5900000000000727, -0.14995838033875253),\n",
       " (-1.580000000000073, 0.044254919338203136),\n",
       " (-1.5700000000000731, 2.311824932111477),\n",
       " (-1.5600000000000733, -0.7818595271605028),\n",
       " (-1.5500000000000735, -1.0923640769116534),\n",
       " (-1.5400000000000738, 0.26613793627911236),\n",
       " (-1.530000000000074, -0.4983804965991713),\n",
       " (-1.5200000000000742, 0.32873438359920676),\n",
       " (-1.5100000000000744, -2.4941932268883025),\n",
       " (-1.5000000000000746, -1.0427149132597255),\n",
       " (-1.4900000000000748, -1.6213396051214424),\n",
       " (-1.480000000000075, -0.8075165384612248),\n",
       " (-1.4700000000000752, -0.6816980909138122),\n",
       " (-1.4600000000000755, 0.5122682936217503),\n",
       " (-1.4500000000000757, -0.7401062428024852),\n",
       " (-1.4400000000000759, -0.03432363711372051),\n",
       " (-1.430000000000076, 2.6322351310035144),\n",
       " (-1.4200000000000763, 0.9021961760903039),\n",
       " (-1.4100000000000765, -0.8973441544071918),\n",
       " (-1.4000000000000767, 0.6555960312601965),\n",
       " (-1.390000000000077, -0.34646446608722936),\n",
       " (-1.3800000000000772, -0.016884428757511952),\n",
       " (-1.3700000000000774, 0.9577155518212215),\n",
       " (-1.3600000000000776, -0.42946789601842716),\n",
       " (-1.3500000000000778, 1.228021182133369),\n",
       " (-1.340000000000078, -1.134274666573169),\n",
       " (-1.3300000000000782, -0.5057617359831627),\n",
       " (-1.3200000000000784, -0.8426538191951051),\n",
       " (-1.3100000000000787, 0.8803682361509957),\n",
       " (-1.3000000000000789, 0.7128447443204391),\n",
       " (-1.290000000000079, 0.8205148772652153),\n",
       " (-1.2800000000000793, 2.1562055592832596),\n",
       " (-1.2700000000000795, -0.3494722943946898),\n",
       " (-1.2600000000000797, 0.5746017829607407),\n",
       " (-1.25000000000008, -0.6314953776710047),\n",
       " (-1.2400000000000801, 0.5879857295388983),\n",
       " (-1.2300000000000804, 0.5229887501282704),\n",
       " (-1.2200000000000806, 0.7753276445788875),\n",
       " (-1.2100000000000808, -0.17790522109933157),\n",
       " (-1.200000000000081, 0.7335526666191499),\n",
       " (-1.1900000000000812, -0.4770456551642811),\n",
       " (-1.1800000000000814, -0.6923057023180872),\n",
       " (-1.1700000000000816, 1.0593147430478385),\n",
       " (-1.1600000000000819, 0.9666301284615918),\n",
       " (-1.150000000000082, -1.0598203863865152),\n",
       " (-1.1400000000000823, -0.6337878140399644),\n",
       " (-1.1300000000000825, 0.7461320700899501),\n",
       " (-1.1200000000000827, 0.8618599514607065),\n",
       " (-1.110000000000083, 1.3716321598952566),\n",
       " (-1.1000000000000831, 0.6884678733432187),\n",
       " (-1.0900000000000833, 0.26919830640107234),\n",
       " (-1.0800000000000836, -0.22378183576105432),\n",
       " (-1.0700000000000838, 1.149485536847119),\n",
       " (-1.060000000000084, 0.40879714610716006),\n",
       " (-1.0500000000000842, 1.6199559039450195),\n",
       " (-1.0400000000000844, -0.5202949679611437),\n",
       " (-1.0300000000000846, -0.4791731562580185),\n",
       " (-1.0200000000000848, 0.3795909955452064),\n",
       " (-1.010000000000085, -0.36163836783507014),\n",
       " (-1.0000000000000853, 0.0992041162657087),\n",
       " (-0.9900000000000855, -0.6783841219687965),\n",
       " (-0.9800000000000857, -0.025626277133096318),\n",
       " (-0.9700000000000859, 0.432490945560536),\n",
       " (-0.9600000000000861, 0.054697333596147465),\n",
       " (-0.9500000000000863, 0.35472424552951015),\n",
       " (-0.9400000000000865, -0.5424851070114493),\n",
       " (-0.9300000000000868, -0.5168400244426195),\n",
       " (-0.920000000000087, 1.139865098214376),\n",
       " (-0.9100000000000872, 1.1843885359814594),\n",
       " (-0.9000000000000874, -0.3239254572743897),\n",
       " (-0.8900000000000876, 1.4610815750479653),\n",
       " (-0.8800000000000878, 3.2055809315062413),\n",
       " (-0.870000000000088, -0.7530348993248198),\n",
       " (-0.8600000000000882, -0.7975839292121216),\n",
       " (-0.8500000000000885, 0.40472869468407524),\n",
       " (-0.8400000000000887, -0.7264814935120816),\n",
       " (-0.8300000000000889, -0.12318453693578582),\n",
       " (-0.8200000000000891, 0.24550681477348318),\n",
       " (-0.8100000000000893, 1.3882886075723493),\n",
       " (-0.8000000000000895, -0.02820958624685104),\n",
       " (-0.7900000000000897, -0.5275371587555125),\n",
       " (-0.78000000000009, -0.8978343423602306),\n",
       " (-0.7700000000000902, -1.0843062924205946),\n",
       " (-0.7600000000000904, -0.2775976534057188),\n",
       " (-0.7500000000000906, 0.2790629305044579),\n",
       " (-0.7400000000000908, -0.03866938132994583),\n",
       " (-0.730000000000091, -0.5109524924672632),\n",
       " (-0.7200000000000912, -1.1348430181516524),\n",
       " (-0.7100000000000914, 0.027463498245642298),\n",
       " (-0.7000000000000917, 0.6716180344866123),\n",
       " (-0.6900000000000919, 0.3521462008664062),\n",
       " (-0.6800000000000921, -1.1050821211376989),\n",
       " (-0.6700000000000923, 0.8853404481506741),\n",
       " (-0.6600000000000925, 0.38480030687711286),\n",
       " (-0.6500000000000927, 1.7151601066652502),\n",
       " (-0.6400000000000929, 0.6428913791431976),\n",
       " (-0.6300000000000932, -0.9819696277210582),\n",
       " (-0.6200000000000934, -0.9864393088290663),\n",
       " (-0.6100000000000936, 0.21539470108963787),\n",
       " (-0.6000000000000938, -0.5838916062000689),\n",
       " (-0.590000000000094, -1.8608505590178277),\n",
       " (-0.5800000000000942, -1.3584635487117929),\n",
       " (-0.5700000000000944, -0.34938120993568095),\n",
       " (-0.5600000000000946, 1.1935252927621096),\n",
       " (-0.5500000000000949, -0.7837263614626968),\n",
       " (-0.5400000000000951, 0.008940256039814576),\n",
       " (-0.5300000000000953, -0.2674394409263308),\n",
       " (-0.5200000000000955, -2.3829947736432207),\n",
       " (-0.5100000000000957, -0.1065012711548304),\n",
       " (-0.5000000000000959, 0.4614582310443932),\n",
       " (-0.49000000000009614, 1.3513713624042343),\n",
       " (-0.48000000000009635, 1.2468259333908118),\n",
       " (-0.47000000000009656, -0.41953035542601896),\n",
       " (-0.4600000000000968, -0.7718164875215572),\n",
       " (-0.450000000000097, 1.992363008615183),\n",
       " (-0.4400000000000972, 0.25931236791432605),\n",
       " (-0.4300000000000974, -0.655824494701386),\n",
       " (-0.42000000000009763, 0.0996955589187589),\n",
       " (-0.41000000000009784, -1.1644308572268065),\n",
       " (-0.40000000000009805, 0.8805337676224564),\n",
       " (-0.39000000000009827, 0.7090204097823104),\n",
       " (-0.3800000000000985, 0.10464542937015635),\n",
       " (-0.3700000000000987, 2.422502955095667),\n",
       " (-0.3600000000000989, -0.8354944195394838),\n",
       " (-0.3500000000000991, -0.462887606792115),\n",
       " (-0.34000000000009933, -1.3810891074116474),\n",
       " (-0.33000000000009955, 1.5217494805912264),\n",
       " (-0.32000000000009976, -0.1557143702730767),\n",
       " (-0.3100000000001, -1.2631774883149218),\n",
       " (-0.3000000000001002, -1.187473610708788),\n",
       " (-0.2900000000001004, -1.0043306530306917),\n",
       " (-0.2800000000001006, 0.10607647706648973),\n",
       " (-0.2700000000001008, -1.835206611256819),\n",
       " (-0.26000000000010104, 0.46541123747679264),\n",
       " (-0.25000000000010125, 0.4431464258719338),\n",
       " (-0.24000000000010147, -0.29468695523447674),\n",
       " (-0.23000000000010168, 1.1088110454014635),\n",
       " (-0.2200000000001019, 1.0621825011238888),\n",
       " (-0.2100000000001021, 0.24540984188208834),\n",
       " (-0.20000000000010232, -0.8168294259516788),\n",
       " (-0.19000000000010253, -0.2943097307547486),\n",
       " (-0.18000000000010274, -1.7148634394252547),\n",
       " (-0.17000000000010296, 0.12792261422281542),\n",
       " (-0.16000000000010317, -1.48291545252589),\n",
       " (-0.15000000000010338, -2.9037103404912794),\n",
       " (-0.1400000000001036, -1.71140835479022),\n",
       " (-0.1300000000001038, 0.8594083903248502),\n",
       " (-0.12000000000010402, -0.3649666053815913),\n",
       " (-0.11000000000010424, 0.2212172010870314),\n",
       " (-0.10000000000010445, 0.2515364045209333),\n",
       " (-0.09000000000010466, -0.7074163445955628),\n",
       " (-0.08000000000010488, -0.11262530485109103),\n",
       " (-0.07000000000010509, 0.8495980262601032),\n",
       " (-0.0600000000001053, 0.946770353519838),\n",
       " (-0.050000000000105516, -0.06518814732722203),\n",
       " (-0.04000000000010573, -0.8058034910044534),\n",
       " (-0.030000000000105942, 0.22884500281500292),\n",
       " (-0.020000000000106155, -1.0620707254419068),\n",
       " (-0.010000000000106368, 0.31778420524522505),\n",
       " (-1.0658141036401503e-13, -0.028246097688314),\n",
       " (0.009999999999893205, -1.225852672440136),\n",
       " (0.019999999999892992, 0.10400181235747416),\n",
       " (0.02999999999989278, -0.43500809264791945),\n",
       " (0.039999999999892566, 1.0207648639971438),\n",
       " (0.04999999999989235, -1.345964836623802),\n",
       " (0.05999999999989214, 1.6066246335887662),\n",
       " (0.06999999999989193, -0.12724455117722341),\n",
       " (0.07999999999989171, 0.5210289683262405),\n",
       " (0.0899999999998915, -1.2839035785804722),\n",
       " (0.09999999999989129, -0.25774315167869766),\n",
       " (0.10999999999989107, -0.5848821019607411),\n",
       " (0.11999999999989086, -0.9501321242999089),\n",
       " (0.12999999999989065, -0.36364120785133053),\n",
       " (0.13999999999989043, -0.038976417006842394),\n",
       " (0.14999999999989022, -0.6857907088471664),\n",
       " (0.15999999999989, 0.05801772949412084),\n",
       " (0.1699999999998898, 1.8928521317313682),\n",
       " (0.17999999999988958, -0.17336995723315557),\n",
       " (0.18999999999988937, -1.1388191630926296),\n",
       " (0.19999999999988916, 0.9793494811522443),\n",
       " (0.20999999999988894, 0.8684295626691881),\n",
       " (0.21999999999988873, 0.38494584289854666),\n",
       " (0.22999999999988852, 1.0628942599308238),\n",
       " (0.2399999999998883, 0.778105455030796),\n",
       " (0.2499999999998881, 1.2782999817292926),\n",
       " (0.2599999999998879, -1.1068001976612267),\n",
       " (0.26999999999988766, 0.5250249149345306),\n",
       " (0.27999999999988745, 0.46138694062334223),\n",
       " (0.28999999999988724, -0.08365778091327591),\n",
       " (0.299999999999887, 0.7738950057392979),\n",
       " (0.3099999999998868, -0.5511659465364737),\n",
       " (0.3199999999998866, 2.242139530043312),\n",
       " (0.3299999999998864, 0.6016109566416274),\n",
       " (0.33999999999988617, -0.3633293405425128),\n",
       " (0.34999999999988596, 1.0748159629571818),\n",
       " (0.35999999999988574, -1.3847903844816236),\n",
       " (0.36999999999988553, 0.8249216199968225),\n",
       " (0.3799999999998853, -0.9546097760006402),\n",
       " (0.3899999999998851, -0.204641274714091),\n",
       " (0.3999999999998849, -0.06088230519427717),\n",
       " (0.4099999999998847, 1.0458332030920314),\n",
       " (0.41999999999988447, -1.3978721256733495),\n",
       " (0.42999999999988425, 1.8876084275119365),\n",
       " (0.43999999999988404, -2.072132749482629),\n",
       " (0.4499999999998838, -1.0204817443974363),\n",
       " (0.4599999999998836, 0.5738882955541876),\n",
       " (0.4699999999998834, -0.681208807109873),\n",
       " (0.4799999999998832, 0.06293416623162061),\n",
       " (0.489999999999883, -0.628763142355481),\n",
       " (0.49999999999988276, 0.690796722693251),\n",
       " (0.5099999999998825, -0.43904766560963954),\n",
       " (0.5199999999998823, -0.3570614022396081),\n",
       " (0.5299999999998821, -0.6202861560223634),\n",
       " (0.5399999999998819, -0.971657847751982),\n",
       " (0.5499999999998817, -0.4205313543111315),\n",
       " (0.5599999999998815, 1.9057769658517885),\n",
       " (0.5699999999998813, -0.13094526010426452),\n",
       " (0.579999999999881, 0.5355490403184449),\n",
       " (0.5899999999998808, -2.5183862945705004),\n",
       " (0.5999999999998806, 0.6109837521373934),\n",
       " (0.6099999999998804, 2.0976253021702473),\n",
       " (0.6199999999998802, 1.0122968047782104),\n",
       " (0.62999999999988, -1.4771974164368395),\n",
       " (0.6399999999998798, -0.5092628096696207),\n",
       " (0.6499999999998796, 0.7780424581653682),\n",
       " (0.6599999999998793, -0.33784088866904133),\n",
       " (0.6699999999998791, 1.4848244995614237),\n",
       " (0.6799999999998789, 0.531569064427297),\n",
       " (0.6899999999998787, -0.7264724975858677),\n",
       " (0.6999999999998785, -1.6898318046865886),\n",
       " (0.7099999999998783, -0.34277321674533223),\n",
       " (0.7199999999998781, 1.979102569284877),\n",
       " (0.7299999999998779, 0.11232344103183296),\n",
       " (0.7399999999998776, 0.5018673751752741),\n",
       " (0.7499999999998774, -1.1864336877697097),\n",
       " (0.7599999999998772, 0.22899886874507053),\n",
       " (0.769999999999877, -0.31917206542196636),\n",
       " (0.7799999999998768, 0.00512931008985578),\n",
       " (0.7899999999998766, 1.5985899607907694),\n",
       " (0.7999999999998764, -1.9799934424664665),\n",
       " (0.8099999999998762, 0.33720187709412514),\n",
       " (0.8199999999998759, -0.9602420813857578),\n",
       " (0.8299999999998757, 1.4197729956203213),\n",
       " (0.8399999999998755, -1.1955260666598853),\n",
       " (0.8499999999998753, 0.509914512572173),\n",
       " (0.8599999999998751, -0.940868843263563),\n",
       " (0.8699999999998749, -2.2345232150528846),\n",
       " (0.8799999999998747, -1.0595563990913552),\n",
       " (0.8899999999998744, -0.4387324834860352),\n",
       " (0.8999999999998742, 0.22358046142965254),\n",
       " (0.909999999999874, 0.3686523456904391),\n",
       " (0.9199999999998738, -0.4859265650238745),\n",
       " (0.9299999999998736, -0.056855944029206344),\n",
       " (0.9399999999998734, 0.7684824395028145),\n",
       " (0.9499999999998732, 0.8521249140690598),\n",
       " (0.959999999999873, 0.5655389389739199),\n",
       " (0.9699999999998727, 0.24724919145024335),\n",
       " (0.9799999999998725, 0.03944896439041115),\n",
       " (0.9899999999998723, -0.10878319187910332),\n",
       " (0.9999999999998721, -0.23135335811700775),\n",
       " (1.009999999999872, -1.9001802752253207),\n",
       " (1.0199999999998717, 0.3789454518794797),\n",
       " (1.0299999999998715, -0.9955956494754854),\n",
       " (1.0399999999998712, -0.19517563843398153),\n",
       " (1.049999999999871, -0.09931576855946628),\n",
       " (1.0599999999998708, -0.08375752106216824),\n",
       " (1.0699999999998706, 1.9467406752370193),\n",
       " (1.0799999999998704, -0.5983250625144585),\n",
       " (1.0899999999998702, -0.63059725754339),\n",
       " (1.09999999999987, 0.5834974814891339),\n",
       " (1.1099999999998698, -0.6921409958912533),\n",
       " (1.1199999999998695, -1.599912660862737),\n",
       " (1.1299999999998693, 0.7184344028053556),\n",
       " (1.1399999999998691, 0.17882444406076559),\n",
       " (1.149999999999869, -0.20386929837002266),\n",
       " (1.1599999999998687, -0.32703385988669725),\n",
       " (1.1699999999998685, -1.701655268545333),\n",
       " (1.1799999999998683, -0.17819868217523385),\n",
       " (1.189999999999868, 0.13780155060898994),\n",
       " (1.1999999999998678, -0.23519419087128135),\n",
       " (1.2099999999998676, 0.47495886598722165),\n",
       " (1.2199999999998674, 1.5319013085399902),\n",
       " (1.2299999999998672, -0.16245371556986551),\n",
       " (1.239999999999867, -0.02621915620629341),\n",
       " (1.2499999999998668, 0.7289557506858555),\n",
       " (1.2599999999998666, -1.2431137972281208),\n",
       " (1.2699999999998663, -0.9217387175909169),\n",
       " (1.2799999999998661, 0.8183094015870664),\n",
       " (1.289999999999866, 0.8079199863984566),\n",
       " (1.2999999999998657, 0.12675064808446002),\n",
       " (1.3099999999998655, 0.3595209588160771),\n",
       " (1.3199999999998653, -0.6891884768047184),\n",
       " (1.329999999999865, 0.7646114742068844),\n",
       " (1.3399999999998649, 2.195866744281282),\n",
       " (1.3499999999998646, -0.1090610982303944),\n",
       " (1.3599999999998644, 1.2526048470737607),\n",
       " (1.3699999999998642, -0.08090617967715409),\n",
       " (1.379999999999864, 0.7927022088651896),\n",
       " (1.3899999999998638, 0.6111315531772129),\n",
       " (1.3999999999998636, -0.1470467999682431),\n",
       " (1.4099999999998634, 0.6673085479514738),\n",
       " (1.4199999999998631, -0.5251878481874483),\n",
       " (1.429999999999863, 0.4298856065082227),\n",
       " (1.4399999999998627, 1.9645460558403414),\n",
       " (1.4499999999998625, -1.1187852879467735),\n",
       " (1.4599999999998623, -1.0794828948122877),\n",
       " (1.469999999999862, 1.3511120167376136),\n",
       " (1.4799999999998619, -0.793877223556403),\n",
       " (1.4899999999998617, 2.281269728467245),\n",
       " (1.4999999999998614, -0.31942131549749764),\n",
       " (1.5099999999998612, -1.018419013001288),\n",
       " (1.519999999999861, 1.0016395307893078),\n",
       " (1.5299999999998608, -0.7699782143263272),\n",
       " (1.5399999999998606, 1.9689435037639005),\n",
       " (1.5499999999998604, 1.0579339991373486),\n",
       " (1.5599999999998602, -0.930708999584892),\n",
       " (1.56999999999986, -0.5002317788564095),\n",
       " (1.5799999999998597, -1.3563608945943275),\n",
       " (1.5899999999998595, -1.2952922880815936),\n",
       " (1.5999999999998593, 0.2376602216895667),\n",
       " (1.609999999999859, -0.8854742118306721),\n",
       " (1.6199999999998589, -0.6104265574523354),\n",
       " (1.6299999999998587, 1.70748646240995),\n",
       " (1.6399999999998585, -0.019328748245428577),\n",
       " (1.6499999999998582, 0.22168633066581697),\n",
       " (1.659999999999858, 1.3990760372393019),\n",
       " (1.6699999999998578, 0.7061582242215578),\n",
       " (1.6799999999998576, 0.2816980267983612),\n",
       " (1.6899999999998574, 0.19273945536569256),\n",
       " (1.6999999999998572, 0.651702896116196),\n",
       " (1.709999999999857, 0.948866125082564),\n",
       " (1.7199999999998568, -0.7960817623932434),\n",
       " (1.7299999999998565, -0.12097320682443635),\n",
       " (1.7399999999998563, -0.7535812845965227),\n",
       " (1.7499999999998561, 0.8182388706315632),\n",
       " (1.759999999999856, -1.1643599022785618),\n",
       " (1.7699999999998557, -0.6042736339825935),\n",
       " (1.7799999999998555, -1.169919948197672),\n",
       " (1.7899999999998553, 0.743201715420214),\n",
       " (1.799999999999855, -0.5265568071821096),\n",
       " (1.8099999999998548, -0.18970946265527538),\n",
       " (1.8199999999998546, -2.6118185212635594),\n",
       " (1.8299999999998544, 1.0833960337498298),\n",
       " (1.8399999999998542, 0.5557782653125904),\n",
       " (1.849999999999854, 0.028073126691018493),\n",
       " (1.8599999999998538, -1.4056824254707239),\n",
       " (1.8699999999998536, -0.11883399865085975),\n",
       " (1.8799999999998533, -1.1009801955427623),\n",
       " (1.8899999999998531, 1.1695139445112759),\n",
       " (1.899999999999853, -0.05792755583625603),\n",
       " (1.9099999999998527, 0.8240991353743281),\n",
       " (1.9199999999998525, -1.1162237413132385),\n",
       " (1.9299999999998523, 0.31757809756251576),\n",
       " (1.939999999999852, -1.5017510372591394),\n",
       " (1.9499999999998519, -0.2926222271114063),\n",
       " (1.9599999999998516, 0.6088815501821333),\n",
       " (1.9699999999998514, 0.2670038229974884),\n",
       " (1.9799999999998512, -1.0139667600358486),\n",
       " (1.989999999999851, 0.9383037556566399),\n",
       " (1.9999999999998508, 0.23134996087348123),\n",
       " (2.0099999999998506, 0.08271553273085613),\n",
       " (2.0199999999998504, -0.9513902607115045),\n",
       " (2.02999999999985, 1.3025850116297348),\n",
       " (2.03999999999985, 0.25971315857943456),\n",
       " (2.0499999999998497, 0.4317526779447023),\n",
       " (2.0599999999998495, -0.3607828635486251),\n",
       " (2.0699999999998493, -0.3669244952818722),\n",
       " (2.079999999999849, 0.6332433900652512),\n",
       " (2.089999999999849, -0.780021079735041),\n",
       " (2.0999999999998487, -0.9697242227104866),\n",
       " (2.1099999999998484, 2.249166335248994),\n",
       " (2.1199999999998482, 0.6713244623522764),\n",
       " (2.129999999999848, -0.8482610437893321),\n",
       " (2.139999999999848, -0.5740233799740618),\n",
       " (2.1499999999998476, 0.15881998288446805),\n",
       " (2.1599999999998474, 0.6144656927800833),\n",
       " (2.169999999999847, 0.7418085981761496),\n",
       " (2.179999999999847, -1.6656439193658015),\n",
       " (2.1899999999998467, 0.8112217963488936),\n",
       " (2.1999999999998465, 0.8987392709141292),\n",
       " (2.2099999999998463, 1.6278901756588053),\n",
       " (2.219999999999846, 0.4178308067652933),\n",
       " (2.229999999999846, 0.11962836162133696),\n",
       " (2.2399999999998457, 0.3512682463412059),\n",
       " (2.2499999999998455, 0.5658933921338156),\n",
       " (2.2599999999998452, 0.8564226547176067),\n",
       " (2.269999999999845, -0.5590485883357289),\n",
       " (2.279999999999845, -0.03581254850910266),\n",
       " (2.2899999999998446, 0.918920781348965),\n",
       " (2.2999999999998444, 1.4170313073448277),\n",
       " (2.309999999999844, 0.15402170215028876),\n",
       " (2.319999999999844, 0.6457304856279226),\n",
       " (2.3299999999998438, -1.1347918604079605),\n",
       " (2.3399999999998435, -0.06688347492522517),\n",
       " (2.3499999999998433, 1.0786868397026643),\n",
       " (2.359999999999843, -0.15255930473615134),\n",
       " (2.369999999999843, -1.9666653106627927),\n",
       " (2.3799999999998427, 0.3067768189646651),\n",
       " (2.3899999999998425, 0.7812648994848461),\n",
       " (2.3999999999998423, -0.9563434759045506),\n",
       " (2.409999999999842, -0.17970428176108943),\n",
       " (2.419999999999842, -0.014328538000552338),\n",
       " (2.4299999999998416, 0.13539991132768012),\n",
       " (2.4399999999998414, -0.48611091795748645),\n",
       " (2.449999999999841, 1.6497881372394911),\n",
       " (2.459999999999841, -1.4370093252569527),\n",
       " (2.4699999999998408, -0.8922261129670113),\n",
       " (2.4799999999998406, -0.25662948837664135),\n",
       " (2.4899999999998403, -0.2501482569574532),\n",
       " (2.49999999999984, -0.6680709068356063),\n",
       " (2.50999999999984, -0.1737962147531512),\n",
       " (2.5199999999998397, -0.6958108977514249),\n",
       " (2.5299999999998395, -0.8735223054249796),\n",
       " (2.5399999999998393, 0.8219855893747275),\n",
       " (2.549999999999839, -0.20654913429700258),\n",
       " (2.559999999999839, -0.32673075341351165),\n",
       " (2.5699999999998386, 1.1296025846978472),\n",
       " (2.5799999999998384, -0.042244082428021336),\n",
       " (2.589999999999838, -2.019917675781338),\n",
       " (2.599999999999838, -0.37630420901316614),\n",
       " (2.609999999999838, -0.8699922305905133),\n",
       " (2.6199999999998376, 1.4538470227354579),\n",
       " (2.6299999999998374, 1.91423359428784),\n",
       " (2.639999999999837, -0.17896727441895086),\n",
       " (2.649999999999837, -2.4795079546546437),\n",
       " (2.6599999999998367, 0.6514233301577038),\n",
       " (2.6699999999998365, 1.3769371142459754),\n",
       " (2.6799999999998363, -1.5414081998307338),\n",
       " (2.689999999999836, -0.010446269027894042),\n",
       " (2.699999999999836, -1.6777638871418787),\n",
       " (2.7099999999998357, 0.2782598209655016),\n",
       " (2.7199999999998354, -0.5740614913499542),\n",
       " (2.7299999999998352, -0.498813494222654),\n",
       " (2.739999999999835, -1.4283920461411244),\n",
       " (2.749999999999835, -0.22630867355782144),\n",
       " (2.7599999999998346, -0.6771296141027865),\n",
       " (2.7699999999998344, -1.2483889810494764),\n",
       " (2.779999999999834, 1.3320189017318564),\n",
       " (2.789999999999834, 0.82261250880074),\n",
       " (2.7999999999998337, -1.2361353457844524),\n",
       " (2.8099999999998335, 0.7442054697364241),\n",
       " (2.8199999999998333, 0.039853515267791066),\n",
       " (2.829999999999833, 0.6526884230274133),\n",
       " (2.839999999999833, -0.632648161662987),\n",
       " (2.8499999999998327, 0.5894858783120088),\n",
       " (2.8599999999998325, 0.195960652211296),\n",
       " (2.8699999999998322, 0.9564326064836631),\n",
       " (2.879999999999832, -0.18940131868997526),\n",
       " (2.889999999999832, -0.7349358031063404),\n",
       " (2.8999999999998316, -1.0262290830747234),\n",
       " (2.9099999999998314, 0.7295867511547562),\n",
       " (2.919999999999831, 1.2880630739109258),\n",
       " (2.929999999999831, -2.0563581972253107),\n",
       " (2.9399999999998307, 1.1215190640460315),\n",
       " (2.9499999999998305, 0.593255477544459),\n",
       " (2.9599999999998303, -0.16694647407944768),\n",
       " (2.96999999999983, -0.9529389634224469),\n",
       " (2.97999999999983, 0.3980504865837937),\n",
       " (2.9899999999998297, -0.6551230866439359),\n",
       " (2.9999999999998295, -1.6926959668309625),\n",
       " (3.0099999999998293, 0.07748990264783408),\n",
       " (3.019999999999829, -0.297619053689484),\n",
       " (3.029999999999829, -0.8268585396122968),\n",
       " (3.0399999999998286, 0.5015847176032051),\n",
       " (3.0499999999998284, -0.16988688224268697),\n",
       " (3.059999999999828, 1.2738586902661215),\n",
       " (3.069999999999828, 0.1695848765548255),\n",
       " (3.0799999999998278, 0.14305607662653264),\n",
       " (3.0899999999998276, -0.04582570460875709),\n",
       " (3.0999999999998273, 0.7446657021472868),\n",
       " (3.109999999999827, -0.9673307258829802),\n",
       " (3.119999999999827, -0.7428782369309463),\n",
       " (3.1299999999998267, 0.3686882079916586),\n",
       " (3.1399999999998265, -1.2035750659325302),\n",
       " (3.1499999999998263, -1.4254526110689618),\n",
       " (3.159999999999826, -1.1704312493154088),\n",
       " (3.169999999999826, -0.4275720871998927),\n",
       " (3.1799999999998256, 0.1887337333993181),\n",
       " (3.1899999999998254, 0.3118031719833679),\n",
       " (3.199999999999825, -0.5290717386754997),\n",
       " (3.209999999999825, -0.19913868813875943),\n",
       " (3.219999999999825, 0.45356817827371065),\n",
       " (3.2299999999998246, 0.3878719153385608),\n",
       " (3.2399999999998244, -0.7845974432088414),\n",
       " (3.249999999999824, 0.0082325741851595),\n",
       " (3.259999999999824, 0.625346495588343),\n",
       " (3.2699999999998237, 0.8264764496092898),\n",
       " (3.2799999999998235, 1.2090016210542072),\n",
       " (3.2899999999998233, -0.5722146778542695),\n",
       " (3.299999999999823, -0.01501376140618886),\n",
       " (3.309999999999823, 1.0803899549728786),\n",
       " (3.3199999999998226, -0.46018646813833064),\n",
       " (3.3299999999998224, 0.32889429907934054),\n",
       " (3.3399999999998222, -0.36668966026439126),\n",
       " (3.349999999999822, -0.14940988286042134),\n",
       " (3.359999999999822, -0.48362651913112986),\n",
       " (3.3699999999998216, -0.9569218338012021),\n",
       " (3.3799999999998214, -0.8648025201594762),\n",
       " (3.389999999999821, -0.6665388889352125),\n",
       " (3.399999999999821, -0.3897439839842401),\n",
       " (3.4099999999998207, -1.0738434879387388),\n",
       " (3.4199999999998205, -0.25264975835015085),\n",
       " (3.4299999999998203, 1.0634753222780522),\n",
       " (3.43999999999982, 0.09650157872345902),\n",
       " (3.44999999999982, 0.08779233165233433),\n",
       " (3.4599999999998197, 0.8874451955634962),\n",
       " (3.4699999999998195, 0.4079263019993164),\n",
       " (3.4799999999998192, 0.7647135773576317),\n",
       " (3.489999999999819, -0.11144194832100225),\n",
       " (3.499999999999819, 0.6238966029380413),\n",
       " (3.5099999999998186, -0.19667832429406962),\n",
       " (3.5199999999998184, 1.381200623675498),\n",
       " (3.529999999999818, -0.4385013933665155),\n",
       " (3.539999999999818, 1.1126507470556057),\n",
       " (3.5499999999998177, -0.6438058115705485),\n",
       " (3.5599999999998175, -0.3309483653887767),\n",
       " (3.5699999999998173, -1.76580567819466),\n",
       " (3.579999999999817, -0.4577207686898648),\n",
       " (3.589999999999817, 0.18714694493517223),\n",
       " (3.5999999999998167, 1.3773462048036127),\n",
       " (3.6099999999998165, 0.4303241961384838),\n",
       " (3.6199999999998163, -0.41985759130476136),\n",
       " (3.629999999999816, -0.0960982105049911),\n",
       " (3.639999999999816, 0.8496018319621275),\n",
       " (3.6499999999998156, 0.2311158268431165),\n",
       " (3.6599999999998154, 1.3096236389581175),\n",
       " (3.669999999999815, -0.06990792686708697),\n",
       " (3.679999999999815, -0.8292789808189366),\n",
       " (3.6899999999998148, 0.6612273393671425),\n",
       " (3.6999999999998145, -0.6715067299186829),\n",
       " (3.7099999999998143, -2.505277623364943),\n",
       " (3.719999999999814, 0.6363567759826606),\n",
       " (3.729999999999814, -0.5969021094699731),\n",
       " (3.7399999999998137, 0.8898400613012114),\n",
       " (3.7499999999998135, -0.2228364300913391),\n",
       " (3.7599999999998133, -1.3546708392354563),\n",
       " (3.769999999999813, -0.6252779138957358),\n",
       " (3.779999999999813, 1.9682780124786816),\n",
       " (3.7899999999998126, -0.24082065039983472),\n",
       " (3.7999999999998124, -0.19897533657597374),\n",
       " (3.809999999999812, -0.6133418585604541),\n",
       " (3.819999999999812, 0.8231384744493427),\n",
       " (3.8299999999998118, -1.17893140336216),\n",
       " (3.8399999999998116, 1.0635722069831808),\n",
       " (3.8499999999998114, -0.8496390255476582),\n",
       " (3.859999999999811, -2.6015095458885784),\n",
       " (3.869999999999811, -0.07859952998868813),\n",
       " (3.8799999999998107, 0.45685936911697306),\n",
       " (3.8899999999998105, 1.9122861903453319),\n",
       " (3.8999999999998103, 1.7309512753349474),\n",
       " (3.90999999999981, 0.46006071665204684),\n",
       " (3.91999999999981, 0.38114065661799873),\n",
       " (3.9299999999998096, 0.04828557170979093),\n",
       " (3.9399999999998094, -1.1732372919754366),\n",
       " (3.949999999999809, 1.4135964709243958),\n",
       " (3.959999999999809, -0.1952967904057272),\n",
       " (3.969999999999809, -0.0631673947074654),\n",
       " (3.9799999999998086, -0.22952668106894525),\n",
       " (3.9899999999998084, 0.4691411853063908),\n",
       " (3.999999999999808, 0.6815070488052526),\n",
       " (4.009999999999808, 0.17303459678770503),\n",
       " (4.019999999999808, -0.3624471527319347),\n",
       " (4.0299999999998075, 0.10495833001523686),\n",
       " (4.039999999999807, -0.7286223180379573),\n",
       " (4.049999999999807, -0.1948175665350178),\n",
       " (4.059999999999807, 3.073676020057423),\n",
       " (4.069999999999807, -0.223603063153992),\n",
       " (4.0799999999998064, 0.6311123750611444),\n",
       " (4.089999999999806, 0.5462678787813463),\n",
       " (4.099999999999806, 1.212213171670868),\n",
       " (4.109999999999806, 0.5150747169209052),\n",
       " (4.119999999999806, -0.7454348572931843),\n",
       " (4.129999999999805, 0.08072692121053106),\n",
       " (4.139999999999805, -0.013723663499833196),\n",
       " (4.149999999999805, -0.03939216035273481),\n",
       " (4.159999999999805, -0.7443448237844053),\n",
       " (4.1699999999998045, -0.6563567788145671),\n",
       " (4.179999999999804, -0.680871958438007),\n",
       " (4.189999999999804, -1.0396230237017101),\n",
       " (4.199999999999804, 0.30153538220581183),\n",
       " (4.209999999999804, -0.9315279631353841),\n",
       " (4.2199999999998035, -0.5700747625805308),\n",
       " (4.229999999999803, 0.5649327051465438),\n",
       " (4.239999999999803, 1.5704905926232855),\n",
       " (4.249999999999803, 1.9313600453146649),\n",
       " (4.259999999999803, 1.127871333183669),\n",
       " (4.269999999999802, -0.2544596584931502),\n",
       " (4.279999999999802, -0.7824839167065275),\n",
       " (4.289999999999802, -0.40013264149191696),\n",
       " (4.299999999999802, -0.5788651158844572),\n",
       " (4.3099999999998015, -0.48088380012862836),\n",
       " (4.319999999999801, 0.671152936995177),\n",
       " (4.329999999999801, -0.7536205082519848),\n",
       " (4.339999999999801, -0.8102687432363872),\n",
       " (4.349999999999801, -1.2925950087689213),\n",
       " (4.3599999999998005, 0.5627510650111092),\n",
       " (4.3699999999998, 0.6064791102728743),\n",
       " (4.3799999999998, 0.47070630608044134),\n",
       " (4.3899999999998, -0.1609776788629295),\n",
       " (4.3999999999998, 1.4602986195392889),\n",
       " (4.409999999999799, -0.5383644179054791),\n",
       " (4.419999999999799, -1.7196872099478306),\n",
       " (4.429999999999799, 0.5431101792311233),\n",
       " (4.439999999999799, 0.7582478681377701),\n",
       " (4.449999999999799, -1.152332015916699),\n",
       " (4.459999999999798, 1.2528543829183096),\n",
       " (4.469999999999798, -0.22034602467967734),\n",
       " (4.479999999999798, -0.7869833086768229),\n",
       " (4.489999999999798, 0.7731624767793346),\n",
       " (4.4999999999997975, -2.292438709932207),\n",
       " (4.509999999999797, -2.03036462926428),\n",
       " (4.519999999999797, 0.851525505146886),\n",
       " (4.529999999999797, -0.6940922533004519),\n",
       " (4.539999999999797, -0.08096714020676353),\n",
       " (4.549999999999796, 1.462427280710573),\n",
       " (4.559999999999796, -1.1853801875629482),\n",
       " (4.569999999999796, 3.0203128602327274),\n",
       " (4.579999999999796, -0.6713899336478717),\n",
       " (4.589999999999796, 0.9684032869199756),\n",
       " (4.599999999999795, 0.6985121715323723),\n",
       " (4.609999999999795, 1.0376645770959132),\n",
       " (4.619999999999795, -0.14007777035660068),\n",
       " (4.629999999999795, 0.961055117550734),\n",
       " (4.6399999999997945, -1.3297898800316248),\n",
       " (4.649999999999794, -0.3933414077842546),\n",
       " (4.659999999999794, 0.18710660120194708),\n",
       " (4.669999999999794, 1.0641904850704478),\n",
       " (4.679999999999794, -0.6818006229471449),\n",
       " (4.6899999999997934, 0.6931967699862064),\n",
       " (4.699999999999793, 0.8046179403446851),\n",
       " (4.709999999999793, -0.8225763492614616),\n",
       " (4.719999999999793, -0.5465316090357125),\n",
       " (4.729999999999793, -1.195809551994945),\n",
       " (4.739999999999792, -1.4631786199618657),\n",
       " (4.749999999999792, 0.3225628931060532),\n",
       " (4.759999999999792, -0.6675738612416383),\n",
       " (4.769999999999792, 0.7022154645487368),\n",
       " (4.7799999999997915, -0.17059933492898932),\n",
       " (4.789999999999791, 0.6118361439256064),\n",
       " (4.799999999999791, 0.13794328595366245),\n",
       " (4.809999999999791, -1.25682514914875),\n",
       " (4.819999999999791, -0.6878186104477076),\n",
       " (4.8299999999997905, 0.4825207791211925),\n",
       " (4.83999999999979, -1.0355213388703355),\n",
       " (4.84999999999979, 0.2433643968283819),\n",
       " (4.85999999999979, -0.39530097447979073),\n",
       " (4.86999999999979, -1.0396990949443319),\n",
       " (4.879999999999789, -0.20370773327966876),\n",
       " (4.889999999999789, 0.27565005300159245),\n",
       " (4.899999999999789, 1.5112482529317337),\n",
       " (4.909999999999789, -0.7810557486593284),\n",
       " (4.9199999999997885, -2.2471125819317406),\n",
       " (4.929999999999788, -0.5784877443361646),\n",
       " (4.939999999999788, -0.13293118703375922),\n",
       " (4.949999999999788, 0.8465066043889306),\n",
       " (4.959999999999788, -1.1022584088609255),\n",
       " (4.9699999999997875, 0.5139524074790676),\n",
       " (4.979999999999787, 0.3630552029079527),\n",
       " (4.989999999999787, -1.1633942598378488)]"
      ]
     },
     "execution_count": 41,
     "metadata": {},
     "output_type": "execute_result"
    }
   ],
   "source": [
    "list(zip(x, y))"
   ]
  },
  {
   "cell_type": "code",
   "execution_count": 42,
   "metadata": {},
   "outputs": [],
   "source": [
    "y.sort()"
   ]
  },
  {
   "cell_type": "code",
   "execution_count": 43,
   "metadata": {},
   "outputs": [
    {
     "data": {
      "text/plain": [
       "<matplotlib.collections.PathCollection at 0x16c270e90>"
      ]
     },
     "execution_count": 43,
     "metadata": {},
     "output_type": "execute_result"
    },
    {
     "data": {
      "image/png": "[encoded data removed]",
      "text/plain": [
       "<Figure size 640x480 with 1 Axes>"
      ]
     },
     "metadata": {},
     "output_type": "display_data"
    }
   ],
   "source": [
    "plt.scatter(bin_centers, hist)"
   ]
  },
  {
   "cell_type": "code",
   "execution_count": 44,
   "metadata": {},
   "outputs": [
    {
     "data": {
      "text/plain": [
       "[<matplotlib.lines.Line2D at 0x16c30c990>]"
      ]
     },
     "execution_count": 44,
     "metadata": {},
     "output_type": "execute_result"
    },
    {
     "data": {
      "image/png": "[encoded data removed]",
      "text/plain": [
       "<Figure size 640x480 with 1 Axes>"
      ]
     },
     "metadata": {},
     "output_type": "display_data"
    }
   ],
   "source": [
    "plt.plot(bin_centers, hist)"
   ]
  },
  {
   "cell_type": "code",
   "execution_count": null,
   "metadata": {},
   "outputs": [],
   "source": []
  }
 ],
 "metadata": {
  "colab": {
   "provenance": []
  },
  "kernelspec": {
   "display_name": "Python 3 (ipykernel)",
   "language": "python",
   "name": "python3"
  },
  "language_info": {
   "codemirror_mode": {
    "name": "ipython",
    "version": 3
   },
   "file_extension": ".py",
   "mimetype": "text/x-python",
   "name": "python",
   "nbconvert_exporter": "python",
   "pygments_lexer": "ipython3",
   "version": "3.11.8"
  }
 },
 "nbformat": 4,
 "nbformat_minor": 4
}
