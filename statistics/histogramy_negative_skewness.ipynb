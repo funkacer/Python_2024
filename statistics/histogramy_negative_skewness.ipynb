{
 "cells": [
  {
   "cell_type": "code",
   "execution_count": 1,
   "metadata": {
    "colab": {
     "base_uri": "https://localhost:8080/"
    },
    "id": "gxXZktHs8lJJ",
    "outputId": "15b6a34c-a3b3-4617-8280-4aa79e583daa"
   },
   "outputs": [],
   "source": [
    "import numpy as np\n",
    "import IPython.display as display\n",
    "from matplotlib import pyplot as plt\n",
    "import io\n",
    "import base64\n",
    "from scipy.stats import skew\n",
    "\n",
    "from rd_zaokrouhleni import rd"
   ]
  },
  {
   "cell_type": "code",
   "execution_count": 2,
   "metadata": {},
   "outputs": [
    {
     "data": {
      "text/markdown": [
       "\n",
       "    Returns rounded string with defined precicion.\n",
       "\n",
       "    INPUT:\n",
       "    number: float, to be rounded\n",
       "    precision: int, precision used whe rounding\n",
       "\n",
       "    OUTPUT:\n",
       "    round_str: str\n",
       "    "
      ],
      "text/plain": [
       "<IPython.core.display.Markdown object>"
      ]
     },
     "metadata": {},
     "output_type": "display_data"
    }
   ],
   "source": [
    "display.display(display.Markdown(F\"\"\"{rd.__doc__}\"\"\"))"
   ]
  },
  {
   "cell_type": "code",
   "execution_count": 3,
   "metadata": {
    "colab": {
     "base_uri": "https://localhost:8080/"
    },
    "id": "gxXZktHs8lJJ",
    "outputId": "15b6a34c-a3b3-4617-8280-4aa79e583daa"
   },
   "outputs": [
    {
     "name": "stdout",
     "output_type": "stream",
     "text": [
      "11 12\n"
     ]
    }
   ],
   "source": [
    "bins = 11\n",
    "x = np.linspace(-5, 5, 1000)\n",
    "y = np.random.normal(size=len(x))\n",
    "hist, bin_edges = np.histogram(y, density=True, bins = bins)\n",
    "print(len(hist), len(bin_edges))"
   ]
  },
  {
   "cell_type": "code",
   "execution_count": 4,
   "metadata": {
    "colab": {
     "base_uri": "https://localhost:8080/"
    },
    "id": "myLeiW-E9KbI",
    "outputId": "01acfcc4-a146-4a52-e40d-9a5567cc4beb"
   },
   "outputs": [
    {
     "data": {
      "text/plain": [
       "array([0.00892047, 0.03211369, 0.07314786, 0.22122766, 0.3015119 ,\n",
       "       0.41747801, 0.37465975, 0.2105231 , 0.11596611, 0.02140913,\n",
       "       0.00713638])"
      ]
     },
     "execution_count": 4,
     "metadata": {},
     "output_type": "execute_result"
    }
   ],
   "source": [
    "hist"
   ]
  },
  {
   "cell_type": "code",
   "execution_count": 5,
   "metadata": {
    "colab": {
     "base_uri": "https://localhost:8080/"
    },
    "id": "EuU7Ucp99NsP",
    "outputId": "0a8d4967-0f90-4a91-d3f9-e19375d41ab9"
   },
   "outputs": [
    {
     "data": {
      "text/plain": [
       "array([-3.11100935, -2.55050079, -1.98999222, -1.42948366, -0.86897509,\n",
       "       -0.30846653,  0.25204204,  0.8125506 ,  1.37305917,  1.93356773,\n",
       "        2.4940763 ,  3.05458486])"
      ]
     },
     "execution_count": 5,
     "metadata": {},
     "output_type": "execute_result"
    }
   ],
   "source": [
    "bin_edges"
   ]
  },
  {
   "cell_type": "code",
   "execution_count": 6,
   "metadata": {
    "colab": {
     "base_uri": "https://localhost:8080/",
     "height": 333
    },
    "id": "kvLOkzhb8uv4",
    "outputId": "88b8bb1f-0447-4070-d6b1-73f177e7cd93"
   },
   "outputs": [
    {
     "data": {
      "text/markdown": [
       "![Sample Visualization](data:image/png;base64,iVBORw0KGgoAAAANSUhEUgAAAZAAAAEsCAYAAADtt+XCAAAAOXRFWHRTb2Z0d2FyZQBNYXRwbG90bGliIHZlcnNpb24zLjguMiwgaHR0cHM6Ly9tYXRwbG90bGliLm9yZy8g+/7EAAAACXBIWXMAAA9hAAAPYQGoP6dpAAATaUlEQVR4nO3df0xd9f3H8ReXBigWqB32kuLNrq0mlRhhg0JwUWlyJ2ZOUzMNM8tgN4YssRjN1WXiNqDT5Na1Y2zKyqxDE7UpWaJbYhY2c7Pr4sZChDRuzjZxCwFp7gViwq34zcVx7/cP422uhfb23XO5/Hg+kpt4D59zzxtSeXLvPffevGQymRQAAJfJlesBAADrEwEBAJgQEACACQEBAJgQEACACQEBAJgQEACACQEBAJgQEACACQEBAJgQEACACQEBAJgQEACACQEBAJgQEACACQEBAJgQEACACQEBAJgQEACACQEBAJgQEACACQEBAJgQEACACQEBAJgQEACACQEBAJgQEACACQEBAJgQEACACQEBAJgQEACACQEBAJgQEACACQEBAJhsyfUATkgkEjp79qxKSkqUl5eX63EA4Iolk0mdO3dOu3btksu1Nv/W3xABOXv2rDweT67HAADHTU1N6dprr831GMvaEAEpKSmR9NkPurS0NMfTAMCVi8Vi8ng8qd9va9GGCMjnD1uVlpYSEAAbylp+WH5tPrAGAFjzCAgAwISAAABMCAgAwISAAABMCAgAwISAAABMCAgAwGRDvJAQyERPuCfXI6TpaerJ9QjAFeEeCADAhIAAAEwICADAhIAAAEyyEpD+/n55vV4VFRWpoaFBo6OjGe138uRJ5eXl6cCBA9kYCwDgIMcDMjQ0pEAgoO7ubo2Pj6u6ulrNzc2amZm56H4TExN6/PHHdeuttzo9EgAgCxwPSG9vr9rb2+X3+1VVVaWBgQEVFxdrcHBwxX2Wlpb0ne98R4cOHdLu3budHgkAkAWOBmRxcVFjY2Py+XznD+ByyefzaWRkZMX9fvrTn2rnzp168MEHMzpOPB5XLBZLuwAAVpejAZmbm9PS0pLcbnfadrfbrUgksuw+b7/9tn7729/q+PHjGR8nGAyqrKwsdeHz0AFg9eX0LKxz587pu9/9ro4fP67y8vKM9+vs7NT8/HzqMjU1lcUpAQDLcfStTMrLy5Wfn69oNJq2PRqNqqKi4oL1//nPfzQxMaG77747tS2RSHw22JYtOnPmjPbs2XPBfoWFhSosLHRydADAZXL0HkhBQYFqa2sVCoVS2xKJhEKhkBobGy9Yv3fvXv3zn//UqVOnUpd77rlH+/fv16lTp3hoCgDWMMffTDEQCKitrU11dXWqr69XX1+fFhYW5Pf7JUmtra2qrKxUMBhUUVGRbrrpprT9t2/fLkkXbAcArC2OB6SlpUWzs7Pq6upSJBJRTU2NhoeHU0+sT05OyuXiBfAAsN7lJZPJZK6HuFKxWExlZWWan59XaWlprsfBGsXbuWM9WQ+/17grAAAwISAAABMCAgAwISAAABMCAgAwISAAABMCAgAwcfyFhMBmFp4IZ7w2269L4XUmyDbugQAATAgIAMCEgAAATAgIAMCEgAAATAgIAMCEgAAATAgIAMCEgAAATAgIAMCEgAAATAgIAMCEgAAATAgIAMCEgAAATAgIAMCEgAAATAgIAMCEgAAATAgIAMCEgAAATAgIAMCEgAAATAgIAMCEgAAATAgIAMCEgAAATAgIAMCEgAAATAgIAMCEgAAATAgIAMCEgAAATLISkP7+fnm9XhUVFamhoUGjo6Mrrn3ttddUV1en7du366qrrlJNTY1efvnlbIwFAHCQ4wEZGhpSIBBQd3e3xsfHVV1drebmZs3MzCy7fseOHfrRj36kkZERvfvuu/L7/fL7/frTn/7k9GgAAAc5HpDe3l61t7fL7/erqqpKAwMDKi4u1uDg4LLrm5qadO+99+rGG2/Unj179Mgjj+jmm2/W22+/7fRoAAAHORqQxcVFjY2NyefznT+AyyWfz6eRkZFL7p9MJhUKhXTmzBnddtttTo4GAHDYFidvbG5uTktLS3K73Wnb3W63Tp8+veJ+8/PzqqysVDweV35+vn7961/r61//+orr4/G44vF46nosFrvy4ZFzPeGerN5+eCKc8domb1PW5gA2CkcDYlVSUqJTp07p448/VigUUiAQ0O7du9XU1LTs+mAwqEOHDq3ukACANI4GpLy8XPn5+YpGo2nbo9GoKioqVtzP5XLp+uuvlyTV1NTo/fffVzAYXDEgnZ2dCgQCqeuxWEwej+fKvwEAQMYcfQ6koKBAtbW1CoVCqW2JREKhUEiNjY0Z304ikUh7iOqLCgsLVVpamnYBAKwuxx/CCgQCamtrU11dnerr69XX16eFhQX5/X5JUmtrqyorKxUMBiV99nBUXV2d9uzZo3g8rj/+8Y96+eWXdezYMadHAwA4yPGAtLS0aHZ2Vl1dXYpEIqqpqdHw8HDqifXJyUm5XOfv+CwsLOihhx7Shx9+qK1bt2rv3r165ZVX1NLS4vRoAAAHZeVJ9I6ODnV0dCz7tXA4nHb96aef1tNPP52NMQAAWcR7YQEATAgIAMCEgAAATAgIAMCEgAAATAgIAMCEgAAATAgIAMCEgAAATAgIAMCEgAAATAgIAMCEgAAATAgIAMCEgAAATAgIAMCEgAAATAgIAMCEgAAATAgIAMCEgAAATAgIAMCEgAAATAgIAMCEgAAATAgIAMCEgAAATAgIAMCEgAAATAgIAMCEgAAATAgIAMCEgAAATAgIAMCEgAAATLbkegCsDz3hnqwfIzwRzmhdk7cpq3MAyAz3QAAAJgQEAGBCQAAAJgQEAGBCQAAAJpyFBawzmZ6tthpnzvU0Zf8YWLuycg+kv79fXq9XRUVFamho0Ojo6Iprjx8/rltvvVVXX321rr76avl8vouuBwCsDY4HZGhoSIFAQN3d3RofH1d1dbWam5s1MzOz7PpwOKwHHnhAf/nLXzQyMiKPx6M77rhD09PTTo8GAHCQ4wHp7e1Ve3u7/H6/qqqqNDAwoOLiYg0ODi67/tVXX9VDDz2kmpoa7d27Vy+88IISiYRCoZDTowEAHORoQBYXFzU2Niafz3f+AC6XfD6fRkZGMrqNTz75RJ9++ql27Njh5GgAAIc5+iT63NyclpaW5Ha707a73W6dPn06o9v44Q9/qF27dqVF6Ivi8bji8XjqeiwWsw0MADBbU6fxHj58WCdPntTrr7+uoqKiFdcFg0GVlZWlLh6PZxWnBABIDgekvLxc+fn5ikajaduj0agqKiouuu/Ro0d1+PBh/fnPf9bNN9980bWdnZ2an59PXaampq54dgDA5XE0IAUFBaqtrU17AvzzJ8QbGxtX3O9nP/uZnnrqKQ0PD6uuru6SxyksLFRpaWnaBQCwuhx/IWEgEFBbW5vq6upUX1+vvr4+LSwsyO/3S5JaW1tVWVmpYDAoSXrmmWfU1dWlEydOyOv1KhKJSJK2bdumbdu2OT0eAMAhjgekpaVFs7Oz6urqUiQSUU1NjYaHh1NPrE9OTsrlOn/H59ixY1pcXNR9992Xdjvd3d3q6elxejwAgEOy8lYmHR0d6ujoWPZr4XA47frExEQ2RgAAZNmaOgsLALB+EBAAgAkBAQCYEBAAgAkBAQCYEBAAgAkBAQCYEBAAgAkBAQCYEBAAgAkBAQCYEBAAgAkBAQCYEBAAgAkBAQCYEBAAgAkBAQCYEBAAgAkBAQCYEBAAgAkBAQCYEBAAgAkBAQCYEBAAgAkBAQCYEBAAgAkBAQCYEBAAgAkBAQCYEBAAgAkBAQCYEBAAgAkBAQCYEBAAgAkBAQCYEBAAgAkBAQCYEBAAgMmWXA8AYG0JT4QzXtsT7snaHKljNGX/GLDhHggAwISAAABMCAgAwCQrAenv75fX61VRUZEaGho0Ojq64tr33ntP3/rWt+T1epWXl6e+vr5sjAQAcJjjARkaGlIgEFB3d7fGx8dVXV2t5uZmzczMLLv+k08+0e7du3X48GFVVFQ4PQ4AIEscD0hvb6/a29vl9/tVVVWlgYEBFRcXa3BwcNn1+/bt05EjR/Ttb39bhYWFTo8DAMgSRwOyuLiosbEx+Xy+8wdwueTz+TQyMuLYceLxuGKxWNoFALC6HA3I3NyclpaW5Ha707a73W5FIhHHjhMMBlVWVpa6eDwex24bAJCZdXkWVmdnp+bn51OXqampXI8EAJuOo69ELy8vV35+vqLRaNr2aDTq6BPkhYWFPF8CADnm6D2QgoIC1dbWKhQKpbYlEgmFQiE1NjY6eSgAQI45/l5YgUBAbW1tqqurU319vfr6+rSwsCC/3y9Jam1tVWVlpYLBoKTPnnj/97//nfrv6elpnTp1Stu2bdP111/v9HgAAIc4HpCWlhbNzs6qq6tLkUhENTU1Gh4eTj2xPjk5KZfr/B2fs2fP6itf+Urq+tGjR3X06FHdfvvtCofDTo8HAHBIVt6Nt6OjQx0dHct+7YtR8Hq9SiaT2RgDAJBF6/IsLABA7hEQAIAJAQEAmBAQAIAJAQEAmBAQAIAJAQEAmGTldSBYXT3hnqwfIzwRznhtk7cpa3MAWDu4BwIAMCEgAAATAgIAMCEgAAATAgIAMCEgAAATAgIAMCEgAAATAgIAMCEgAAATAgIAMCEgAAATAgIAMCEgAAATAgIAMCEgAAATAgIAMCEgAAATAgIAMCEgAAATAgIAMNmS6wE2g55wT1ZvPzwRznhtk7cpa3MA2Fy4BwIAMCEgAAATAgIAMCEgAAATAgIAMOEsLACr7nLOHMz2WYw9Tdm9/Y2MeyAAABMCAgAwISAAABMCAgAwISAAAJOsnIXV39+vI0eOKBKJqLq6Ws8++6zq6+tXXP+73/1OP/nJTzQxMaEbbrhBzzzzjL7xjW9kY7QLZPsMDynzM054nyoA64njARkaGlIgENDAwIAaGhrU19en5uZmnTlzRjt37rxg/d///nc98MADCgaD+uY3v6kTJ07owIEDGh8f10033eT0eAA2iUz/cFuNPyI36qnCjj+E1dvbq/b2dvn9flVVVWlgYEDFxcUaHBxcdv0vf/lL3XnnnfrBD36gG2+8UU899ZS++tWv6rnnnnN6NACAgxwNyOLiosbGxuTz+c4fwOWSz+fTyMjIsvuMjIykrZek5ubmFdcDANYGRx/Cmpub09LSktxud9p2t9ut06dPL7tPJBJZdn0kElnxOPF4XPF4PHV9fn5ekhSLxS575vhC/NKLrtD//u9/Ga2zzpLp7W+UY2yE72E1jrERvofVOMZq/A6w/G76fJ9kMun0OI5Zl29lEgwGdejQoQu2ezyeHEzjnL/pbxxjDdz+RjnGRvgeVuMYq/E9HNZh877nzp1TWVmZg9M4x9GAlJeXKz8/X9FoNG17NBpVRUXFsvtUVFRc1npJ6uzsVCAQSF1PJBL66KOP9KUvfUl5eXlX8B1sXrFYTB6PR1NTUyotLc31OBsOP9/s2og/32QyqXPnzmnXrl25HmVFjgakoKBAtbW1CoVCOnDggKTPfrmHQiF1dHQsu09jY6NCoZAeffTR1LY333xTjY2NKx6nsLBQhYWFadu2b99+peNDUmlp6Yb5H3At4uebXRvt57tW73l8zvGHsAKBgNra2lRXV6f6+nr19fVpYWFBfr9fktTa2qrKykoFg0FJ0iOPPKLbb79dP//5z3XXXXfp5MmTeuedd/T88887PRoAwEGOB6SlpUWzs7Pq6upSJBJRTU2NhoeHU0+UT05OyuU6f/LXLbfcohMnTujHP/6xnnzySd1www36/e9/z2tAAGCNy0uu5af4sWri8biCwaA6OzsveHgQV46fb3bx880NAgIAMOHNFAEAJgQEAGBCQAAAJgQEAGBCQJBmYmJCDz74oK677jpt3bpVe/bsUXd3txYXF3M92rrV398vr9eroqIiNTQ0aHR0NNcjbQjBYFD79u1TSUmJdu7cqQMHDujMmTO5HmtTISBIc/r0aSUSCf3mN7/Re++9p1/84hcaGBjQk08+mevR1qXPPx+nu7tb4+Pjqq6uVnNzs2ZmZnI92rr31ltv6eDBg/rHP/6hN998U59++qnuuOMOLSws5Hq0TYPTeHFJR44c0bFjx/Tf//4316OsOw0NDdq3b1/q820SiYQ8Ho8efvhhPfHEEzmebmOZnZ3Vzp079dZbb+m2227L9TibAvdAcEnz8/PasWNHrsdYdyyfjwO7zz/WgX+rq4eA4KI++OADPfvss/r+97+f61HWnYt9Ps7FPu8Gly+RSOjRRx/V1772Nd4GaRURkE3iiSeeUF5e3kUvX/zQr+npad155526//771d7enqPJgUs7ePCg/vWvf+nkyZO5HmVTWZcfKIXL99hjj+l73/veRdfs3r079d9nz57V/v37dcstt/DOyEaWz8fB5evo6NAbb7yhv/71r7r22mtzPc6mQkA2iWuuuUbXXHNNRmunp6e1f/9+1dbW6sUXX0x792RkzvL5OMhcMpnUww8/rNdff13hcFjXXXddrkfadAgI0kxPT6upqUlf/vKXdfToUc3Ozqa+xl/Nl+9Sn48Du4MHD+rEiRP6wx/+oJKSktTzSmVlZdq6dWuOp9scOI0XaV566aUVf7nxT8Xmueee05EjR1Kfj/OrX/1KDQ0NuR5r3Vvp46tffPHFSz5cC2cQEACACQ9uAwBMCAgAwISAAABMCAgAwISAAABMCAgAwISAAABMCAgAwISAAABMCAgAwISAAABM/h8MTWDs8pdecAAAAABJRU5ErkJggg==)"
      ],
      "text/plain": [
       "<IPython.core.display.Markdown object>"
      ]
     },
     "metadata": {},
     "output_type": "display_data"
    }
   ],
   "source": [
    "fig = plt.figure(figsize=(4, 3), facecolor='w')\n",
    "#plt.hist(y, alpha = 0.5)\n",
    "plt.bar(bin_edges[:bins], hist, color = \"g\", alpha = 0.5)\n",
    "data = io.BytesIO()\n",
    "plt.savefig(data)\n",
    "image = F\"data:image/png;base64,{base64.b64encode(data.getvalue()).decode()}\"\n",
    "alt = \"Sample Visualization\"\n",
    "display.display(display.Markdown(F\"\"\"![{alt}]({image})\"\"\"))\n",
    "plt.close(fig)"
   ]
  },
  {
   "cell_type": "code",
   "execution_count": 7,
   "metadata": {
    "colab": {
     "base_uri": "https://localhost:8080/"
    },
    "id": "F47jVFQW-EFd",
    "outputId": "ad6ff87c-07eb-4ace-ae3d-191dabe6c275"
   },
   "outputs": [
    {
     "name": "stdout",
     "output_type": "stream",
     "text": [
      "Průměrný interval: 0.5605085652591992\n",
      "Interval 1: (-3.111, -2.551), width = 0.5605085653.\n",
      "Interval 2: (-2.551, -1.990), width = 0.5605085653.\n",
      "Interval 3: (-1.990, -1.429), width = 0.5605085653.\n",
      "Interval 4: (-1.429, -0.869), width = 0.5605085653.\n",
      "Interval 5: (-0.869, -0.308), width = 0.5605085653.\n",
      "Interval 6: (-0.308, 0.252), width = 0.5605085653.\n",
      "Interval 7: (0.252, 0.813), width = 0.5605085653.\n",
      "Interval 8: (0.813, 1.373), width = 0.5605085653.\n",
      "Interval 9: (1.373, 1.934), width = 0.5605085653.\n",
      "Interval 10: (1.934, 2.494), width = 0.5605085653.\n",
      "Interval 11: (2.494, 3.055), width = 0.5605085653.\n"
     ]
    }
   ],
   "source": [
    "# intervaly jsou stejně široké!\n",
    "bin_width = (np.max(bin_edges) - np.min(bin_edges)) / len(hist)\n",
    "print(\"Průměrný interval:\", bin_width)\n",
    "i = 0\n",
    "while i < len(bin_edges):\n",
    "    if i > 0:\n",
    "        local_bin_width = bin_edges[i] - bin_edges[i-1]\n",
    "        print (f\"Interval {i}: ({rd(bin_edges[i-1], 3)}, {rd(bin_edges[i], 3)}), width = {rd(local_bin_width, 10)}.\")\n",
    "    i += 1"
   ]
  },
  {
   "cell_type": "code",
   "execution_count": 8,
   "metadata": {
    "colab": {
     "base_uri": "https://localhost:8080/",
     "height": 333
    },
    "id": "62FiAAAY-Xol",
    "outputId": "9018a61d-8f9a-46c6-9d48-d6a62f6b28e2"
   },
   "outputs": [
    {
     "data": {
      "text/markdown": [
       "![Sample Visualization](data:image/png;base64,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)"
      ],
      "text/plain": [
       "<IPython.core.display.Markdown object>"
      ]
     },
     "metadata": {},
     "output_type": "display_data"
    }
   ],
   "source": [
    "fig = plt.figure(figsize=(4, 3), facecolor='w')\n",
    "#plt.hist(y, alpha = 0.5)\n",
    "plt.bar(bin_edges[:bins]+bin_width/2, hist, color = \"g\", alpha = 0.5, width = bin_width-0.1)\n",
    "plt.title(\"Hist using bin_width\", fontsize=10)\n",
    "data = io.BytesIO()\n",
    "plt.savefig(data)\n",
    "image = F\"data:image/png;base64,{base64.b64encode(data.getvalue()).decode()}\"\n",
    "alt = \"Sample Visualization\"\n",
    "display.display(display.Markdown(F\"\"\"![{alt}]({image})\"\"\"))\n",
    "plt.close(fig)"
   ]
  },
  {
   "cell_type": "code",
   "execution_count": 9,
   "metadata": {
    "id": "XY2U0NPy9AyQ"
   },
   "outputs": [],
   "source": [
    "# super vychytávka\n",
    "bin_centers = (bin_edges[:-1] + bin_edges[1:]) / 2"
   ]
  },
  {
   "cell_type": "code",
   "execution_count": 10,
   "metadata": {
    "colab": {
     "base_uri": "https://localhost:8080/",
     "height": 333
    },
    "id": "duxsnFoN86nR",
    "outputId": "9c3bf70f-6c24-4f9b-90ed-0edc476e69dd"
   },
   "outputs": [
    {
     "data": {
      "text/markdown": [
       "![Sample Visualization](data:image/png;base64,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)"
      ],
      "text/plain": [
       "<IPython.core.display.Markdown object>"
      ]
     },
     "metadata": {},
     "output_type": "display_data"
    }
   ],
   "source": [
    "fig = plt.figure(figsize=(4, 3), facecolor='w')\n",
    "#plt.hist(y, alpha = 0.5)\n",
    "plt.bar(bin_centers, hist, color = \"g\", alpha = 0.5)\n",
    "plt.title(\"Hist using bin_centers\", fontsize=10)\n",
    "data = io.BytesIO()\n",
    "plt.savefig(data)\n",
    "image = F\"data:image/png;base64,{base64.b64encode(data.getvalue()).decode()}\"\n",
    "alt = \"Sample Visualization\"\n",
    "display.display(display.Markdown(F\"\"\"![{alt}]({image})\"\"\"))\n",
    "plt.close(fig)"
   ]
  },
  {
   "cell_type": "code",
   "execution_count": 11,
   "metadata": {
    "colab": {
     "base_uri": "https://localhost:8080/"
    },
    "id": "IHO-mHd7lZiP",
    "outputId": "417c55f3-1238-461f-bedc-92721ccac091"
   },
   "outputs": [
    {
     "name": "stdout",
     "output_type": "stream",
     "text": [
      "Interval 1: (-3.111, -2.551), width = 0.5605085653, local_center = -2.83076, center = -2.83076.\n",
      "Interval 2: (-2.551, -1.990), width = 0.5605085653, local_center = -2.27025, center = -2.27025.\n",
      "Interval 3: (-1.990, -1.429), width = 0.5605085653, local_center = -1.70974, center = -1.70974.\n",
      "Interval 4: (-1.429, -0.869), width = 0.5605085653, local_center = -1.14923, center = -1.14923.\n",
      "Interval 5: (-0.869, -0.308), width = 0.5605085653, local_center = -0.58872, center = -0.58872.\n",
      "Interval 6: (-0.308, 0.252), width = 0.5605085653, local_center = -0.02821, center = -0.02821.\n",
      "Interval 7: (0.252, 0.813), width = 0.5605085653, local_center = 0.53230, center = 0.53230.\n",
      "Interval 8: (0.813, 1.373), width = 0.5605085653, local_center = 1.09280, center = 1.09280.\n",
      "Interval 9: (1.373, 1.934), width = 0.5605085653, local_center = 1.65331, center = 1.65331.\n",
      "Interval 10: (1.934, 2.494), width = 0.5605085653, local_center = 2.21382, center = 2.21382.\n",
      "Interval 11: (2.494, 3.055), width = 0.5605085653, local_center = 2.77433, center = 2.77433.\n"
     ]
    }
   ],
   "source": [
    "i = 0\n",
    "while i < len(bin_edges):\n",
    "    if i > 0:\n",
    "        local_bin_width = bin_edges[i] - bin_edges[i-1]\n",
    "        local_bin_center = bin_edges[i-1] + local_bin_width/2\n",
    "        print (f\"Interval {i}: ({rd(bin_edges[i-1], 3)}, {rd(bin_edges[i], 3)}), width = {rd(local_bin_width, 10)}, \\\n",
    "local_center = {rd(local_bin_center, 5)}, center = {rd(bin_centers[i-1], 5)}.\")\n",
    "    i += 1"
   ]
  },
  {
   "cell_type": "code",
   "execution_count": 12,
   "metadata": {
    "colab": {
     "base_uri": "https://localhost:8080/"
    },
    "id": "KsgBHNjkl-SH",
    "outputId": "2bf97740-ffba-4155-fb2c-7a414b7fdcd3"
   },
   "outputs": [
    {
     "data": {
      "text/plain": [
       "array([0.56050857, 0.56050857, 0.56050857, 0.56050857, 0.56050857,\n",
       "       0.56050857, 0.56050857, 0.56050857, 0.56050857, 0.56050857,\n",
       "       0.56050857])"
      ]
     },
     "execution_count": 12,
     "metadata": {},
     "output_type": "execute_result"
    }
   ],
   "source": [
    "(bin_edges[1:]+bin_width/2) - (bin_edges[:bins]+bin_width/2)"
   ]
  },
  {
   "cell_type": "code",
   "execution_count": 13,
   "metadata": {
    "colab": {
     "base_uri": "https://localhost:8080/"
    },
    "id": "XDQcXJUXlvQX",
    "outputId": "f85a6cac-f827-42c8-983b-ce1db8b2f626"
   },
   "outputs": [
    {
     "data": {
      "text/plain": [
       "array([0.56050857, 0.56050857, 0.56050857, 0.56050857, 0.56050857,\n",
       "       0.56050857, 0.56050857, 0.56050857, 0.56050857, 0.56050857])"
      ]
     },
     "execution_count": 13,
     "metadata": {},
     "output_type": "execute_result"
    }
   ],
   "source": [
    "#toto je blbost, dostanu o 1 interval míň\n",
    "bin_centers[1:] - bin_centers[:-1]"
   ]
  },
  {
   "cell_type": "code",
   "execution_count": 14,
   "metadata": {},
   "outputs": [
    {
     "data": {
      "text/plain": [
       "array([0.56050857, 0.56050857, 0.56050857, 0.56050857, 0.56050857,\n",
       "       0.56050857, 0.56050857, 0.56050857, 0.56050857, 0.56050857,\n",
       "       0.56050857])"
      ]
     },
     "execution_count": 14,
     "metadata": {},
     "output_type": "execute_result"
    }
   ],
   "source": [
    "bin_centers+bin_width/2 - (bin_centers-bin_width/2)"
   ]
  },
  {
   "cell_type": "code",
   "execution_count": 15,
   "metadata": {},
   "outputs": [
    {
     "data": {
      "text/plain": [
       "array([0.56050857, 0.56050857, 0.56050857, 0.56050857, 0.56050857,\n",
       "       0.56050857, 0.56050857, 0.56050857, 0.56050857, 0.56050857,\n",
       "       0.56050857])"
      ]
     },
     "execution_count": 15,
     "metadata": {},
     "output_type": "execute_result"
    }
   ],
   "source": [
    "bin_centers*0+bin_width"
   ]
  },
  {
   "cell_type": "code",
   "execution_count": 16,
   "metadata": {},
   "outputs": [
    {
     "data": {
      "text/plain": [
       "array([0.56050857, 0.56050857, 0.56050857, 0.56050857, 0.56050857,\n",
       "       0.56050857, 0.56050857, 0.56050857, 0.56050857, 0.56050857,\n",
       "       0.56050857])"
      ]
     },
     "execution_count": 16,
     "metadata": {},
     "output_type": "execute_result"
    }
   ],
   "source": [
    "np.repeat(bin_width, bins)"
   ]
  },
  {
   "cell_type": "code",
   "execution_count": 17,
   "metadata": {},
   "outputs": [
    {
     "data": {
      "text/plain": [
       "array([0.56050857, 0.56050857, 0.56050857, 0.56050857, 0.56050857,\n",
       "       0.56050857, 0.56050857, 0.56050857, 0.56050857, 0.56050857,\n",
       "       0.56050857])"
      ]
     },
     "execution_count": 17,
     "metadata": {},
     "output_type": "execute_result"
    }
   ],
   "source": [
    "np.diff(bin_edges)"
   ]
  },
  {
   "cell_type": "code",
   "execution_count": 18,
   "metadata": {
    "colab": {
     "base_uri": "https://localhost:8080/"
    },
    "id": "tj3NNOQDoeCw",
    "outputId": "b267456c-da70-47b3-cc85-df57fcd51855"
   },
   "outputs": [
    {
     "data": {
      "text/plain": [
       "1.7840940566850465"
      ]
     },
     "execution_count": 18,
     "metadata": {},
     "output_type": "execute_result"
    }
   ],
   "source": [
    "# není 1!\n",
    "np.sum(hist)"
   ]
  },
  {
   "cell_type": "code",
   "execution_count": 19,
   "metadata": {
    "colab": {
     "base_uri": "https://localhost:8080/"
    },
    "id": "sweBu9cPptqe",
    "outputId": "a433f4c4-6ce7-4f26-cef9-c267c185387f"
   },
   "outputs": [
    {
     "data": {
      "text/plain": [
       "1.0"
      ]
     },
     "execution_count": 19,
     "metadata": {},
     "output_type": "execute_result"
    }
   ],
   "source": [
    "np.sum(hist * np.diff(bin_edges))"
   ]
  },
  {
   "cell_type": "code",
   "execution_count": 20,
   "metadata": {},
   "outputs": [
    {
     "data": {
      "text/plain": [
       "1.0"
      ]
     },
     "execution_count": 20,
     "metadata": {},
     "output_type": "execute_result"
    }
   ],
   "source": [
    "np.sum(hist * ((bin_edges[1:]+bin_width/2) - (bin_edges[:bins]+bin_width/2)))"
   ]
  },
  {
   "cell_type": "code",
   "execution_count": 21,
   "metadata": {},
   "outputs": [
    {
     "data": {
      "text/plain": [
       "0.9999999999999999"
      ]
     },
     "execution_count": 21,
     "metadata": {},
     "output_type": "execute_result"
    }
   ],
   "source": [
    "np.sum(hist * np.repeat(bin_width, bins))"
   ]
  },
  {
   "cell_type": "code",
   "execution_count": 22,
   "metadata": {},
   "outputs": [
    {
     "data": {
      "text/plain": [
       "0.04735025789419984"
      ]
     },
     "execution_count": 22,
     "metadata": {},
     "output_type": "execute_result"
    }
   ],
   "source": [
    "np.median(y)"
   ]
  },
  {
   "cell_type": "code",
   "execution_count": 23,
   "metadata": {},
   "outputs": [
    {
     "data": {
      "text/plain": [
       "0.004204136904130552"
      ]
     },
     "execution_count": 23,
     "metadata": {},
     "output_type": "execute_result"
    }
   ],
   "source": [
    "np.mean(y)"
   ]
  },
  {
   "cell_type": "code",
   "execution_count": 24,
   "metadata": {},
   "outputs": [
    {
     "data": {
      "text/plain": [
       "0.9663571162400839"
      ]
     },
     "execution_count": 24,
     "metadata": {},
     "output_type": "execute_result"
    }
   ],
   "source": [
    "np.std(y)"
   ]
  },
  {
   "cell_type": "code",
   "execution_count": 25,
   "metadata": {},
   "outputs": [
    {
     "data": {
      "text/plain": [
       "0.9338460761078511"
      ]
     },
     "execution_count": 25,
     "metadata": {},
     "output_type": "execute_result"
    }
   ],
   "source": [
    "np.var(y)"
   ]
  },
  {
   "cell_type": "code",
   "execution_count": 26,
   "metadata": {},
   "outputs": [
    {
     "data": {
      "text/plain": [
       "0.9663571162400839"
      ]
     },
     "execution_count": 26,
     "metadata": {},
     "output_type": "execute_result"
    }
   ],
   "source": [
    "np.sqrt(np.var(y))"
   ]
  },
  {
   "cell_type": "code",
   "execution_count": 27,
   "metadata": {},
   "outputs": [
    {
     "data": {
      "text/plain": [
       "0.9663571162400839"
      ]
     },
     "execution_count": 27,
     "metadata": {},
     "output_type": "execute_result"
    }
   ],
   "source": [
    "import math\n",
    "math.sqrt(np.var(y))"
   ]
  },
  {
   "cell_type": "markdown",
   "metadata": {},
   "source": [
    "$$variance = \\sigma^2$$\n",
    "$$\\sigma = \\sqrt[2]{variance}$$\n",
    "$$\\begin{equation}\n",
    "variance= \\frac{\\sum{(X-\\mu)^2}}{N}\n",
    "\\end{equation}$$\n",
    "$$\\begin{equation}\n",
    "\\sigma = \\sqrt\\frac{\\sum{(X-\\mu)^2}}{N}\n",
    "\\end{equation}$$"
   ]
  },
  {
   "cell_type": "code",
   "execution_count": 28,
   "metadata": {},
   "outputs": [],
   "source": [
    "ys = np.sort(y)"
   ]
  },
  {
   "cell_type": "markdown",
   "metadata": {},
   "source": [
    "https://stackoverflow.com/questions/10138085/how-to-plot-normal-distribution"
   ]
  },
  {
   "cell_type": "code",
   "execution_count": 29,
   "metadata": {},
   "outputs": [
    {
     "data": {
      "text/markdown": [
       "![Sample Visualization](data:image/png;base64,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)"
      ],
      "text/plain": [
       "<IPython.core.display.Markdown object>"
      ]
     },
     "metadata": {},
     "output_type": "display_data"
    }
   ],
   "source": [
    "fig = plt.figure(figsize=(4, 3), facecolor='w')\n",
    "#plt.hist(y, alpha = 0.5)\n",
    "plt.bar(bin_edges[:bins]+bin_width/2, hist, color = \"g\", alpha = 0.5, width = bin_width-0.1)\n",
    "plt.plot(x, ys)\n",
    "plt.title(\"Hist using bin_width\", fontsize=10)\n",
    "data = io.BytesIO()\n",
    "plt.savefig(data)\n",
    "image = F\"data:image/png;base64,{base64.b64encode(data.getvalue()).decode()}\"\n",
    "alt = \"Sample Visualization\"\n",
    "display.display(display.Markdown(F\"\"\"![{alt}]({image})\"\"\"))\n",
    "plt.close(fig)"
   ]
  },
  {
   "cell_type": "code",
   "execution_count": 30,
   "metadata": {},
   "outputs": [
    {
     "data": {
      "image/png": "[encoded data removed]",
      "text/plain": [
       "<Figure size 640x480 with 1 Axes>"
      ]
     },
     "metadata": {},
     "output_type": "display_data"
    }
   ],
   "source": [
    "import matplotlib.pyplot as plt\n",
    "import numpy as np\n",
    "import scipy.stats as stats\n",
    "import math\n",
    "\n",
    "mu = np.mean(y)\n",
    "variance = np.var(y)\n",
    "sigma = math.sqrt(variance)\n",
    "x = np.linspace(mu - 3*sigma, mu + 3*sigma, 100)\n",
    "plt.bar(bin_edges[:bins]+bin_width/2, hist, color = \"g\", alpha = 0.5, width = bin_width-0.1)\n",
    "plt.plot(x, stats.norm.pdf(x, mu, sigma))\n",
    "plt.show()"
   ]
  },
  {
   "cell_type": "code",
   "execution_count": 31,
   "metadata": {},
   "outputs": [
    {
     "data": {
      "image/png": "[encoded data removed]",
      "text/plain": [
       "<Figure size 640x480 with 1 Axes>"
      ]
     },
     "metadata": {},
     "output_type": "display_data"
    }
   ],
   "source": [
    "import matplotlib.pyplot as plt\n",
    "import numpy as np\n",
    "import math\n",
    "\n",
    "mu = 0\n",
    "variance = 1\n",
    "sigma = math.sqrt(variance)\n",
    "x = np.linspace(mu - 3*sigma, mu + 3*sigma, 100)\n",
    "plt.plot(x, np.random.normal(mu, sigma, 100))\n",
    "plt.show()"
   ]
  },
  {
   "cell_type": "code",
   "execution_count": 32,
   "metadata": {},
   "outputs": [
    {
     "data": {
      "image/png": "[encoded data removed]",
      "text/plain": [
       "<Figure size 640x480 with 1 Axes>"
      ]
     },
     "metadata": {},
     "output_type": "display_data"
    }
   ],
   "source": [
    "import numpy as np\n",
    "import matplotlib.pyplot as plt\n",
    "\n",
    "mean = np.mean(y);\n",
    "std = np.std(y);\n",
    "variance = np.square(std)\n",
    "x = np.arange(-5,5,.01)\n",
    "f = np.exp(-np.square(x-mean)/2*variance)/(np.sqrt(2*np.pi*variance))\n",
    "\n",
    "plt.plot(x,f)\n",
    "plt.bar(bin_edges[:bins]+bin_width/2, hist, color = \"g\", alpha = 0.5, width = bin_width-0.1)\n",
    "plt.ylabel('gaussian distribution')\n",
    "plt.show()"
   ]
  },
  {
   "cell_type": "code",
   "execution_count": 33,
   "metadata": {},
   "outputs": [
    {
     "name": "stdout",
     "output_type": "stream",
     "text": [
      "-0.09865461587714135\n"
     ]
    }
   ],
   "source": [
    "# - is negative skewness, + is positive skewness\n",
    "print(skew(y, axis=0, bias=True))"
   ]
  },
  {
   "cell_type": "code",
   "execution_count": 34,
   "metadata": {},
   "outputs": [
    {
     "data": {
      "text/markdown": [
       "![Skewness](Skewness.webp)"
      ],
      "text/plain": [
       "<IPython.core.display.Markdown object>"
      ]
     },
     "metadata": {},
     "output_type": "display_data"
    }
   ],
   "source": [
    "alt = \"Skewness\"\n",
    "image = \"Skewness.webp\"\n",
    "display.display(display.Markdown(F\"\"\"![{alt}]({image})\"\"\"))"
   ]
  },
  {
   "cell_type": "code",
   "execution_count": 35,
   "metadata": {
    "jupyter": {
     "source_hidden": true
    }
   },
   "outputs": [
    {
     "data": {
      "text/markdown": [
       "\n",
       "\n",
       "Positive and Negative Skewness\n",
       "Positive skewness and negative skewness are two different ways that a dataset’s distribution can deviate from perfect symmetry (a normal distribution). They describe the direction of the skew or asymmetry in the data.\n",
       "\n",
       "1. <b>Positive Skewness (Right Skew)</b>\n",
       "In a positively skewed distribution, the tail on the right side (the larger values) is longer than the tail on the left side (the smaller values). This means that the majority of data points are concentrated on the left side of the distribution, and there are some extreme values on the right side. In the case of a positively skewed dataset,\n",
       "\n",
       "Mean > Median > Mode\n",
       "\n",
       "Examples of positively skewed data include income distribution (where most people earn a moderate income, but a few earn extremely high incomes), exam scores (where most students score in a certain range, but a few score exceptionally high), and stock market returns (where most days have modest returns, but a few days may have very high returns).\n",
       "\n",
       "\n",
       "2. <b>Negative Skewness (Left Skew)</b>\n",
       "In a negatively skewed distribution, the tail on the left side (the smaller values) is longer than the tail on the right side (the larger values). This implies that most of the data points are concentrated on the right side of the distribution, with a few extreme values on the left side. In the case of a negatively skewed dataset,\n",
       "\n",
       "Mean < Median < Mode\n",
       "\n",
       "Examples of negatively skewed data include test scores on an easy test (where most students score well, but a few score very low), the age at retirement (where most people retire at a certain age, but a few retire exceptionally early), and the gestational age at birth (where most babies are born full-term, but a few are born prematurely).\n"
      ],
      "text/plain": [
       "<IPython.core.display.Markdown object>"
      ]
     },
     "metadata": {},
     "output_type": "display_data"
    }
   ],
   "source": [
    "display.display(display.Markdown(\"\"\"\n",
    "\n",
    "Positive and Negative Skewness\n",
    "Positive skewness and negative skewness are two different ways that a dataset’s distribution can deviate from perfect symmetry (a normal distribution). They describe the direction of the skew or asymmetry in the data.\n",
    "\n",
    "1. <b>Positive Skewness (Right Skew)</b>\n",
    "In a positively skewed distribution, the tail on the right side (the larger values) is longer than the tail on the left side (the smaller values). This means that the majority of data points are concentrated on the left side of the distribution, and there are some extreme values on the right side. In the case of a positively skewed dataset,\n",
    "\n",
    "Mean > Median > Mode\n",
    "\n",
    "Examples of positively skewed data include income distribution (where most people earn a moderate income, but a few earn extremely high incomes), exam scores (where most students score in a certain range, but a few score exceptionally high), and stock market returns (where most days have modest returns, but a few days may have very high returns).\n",
    "\n",
    "\n",
    "2. <b>Negative Skewness (Left Skew)</b>\n",
    "In a negatively skewed distribution, the tail on the left side (the smaller values) is longer than the tail on the right side (the larger values). This implies that most of the data points are concentrated on the right side of the distribution, with a few extreme values on the left side. In the case of a negatively skewed dataset,\n",
    "\n",
    "Mean < Median < Mode\n",
    "\n",
    "Examples of negatively skewed data include test scores on an easy test (where most students score well, but a few score very low), the age at retirement (where most people retire at a certain age, but a few retire exceptionally early), and the gestational age at birth (where most babies are born full-term, but a few are born prematurely).\n",
    "\"\"\"))"
   ]
  },
  {
   "cell_type": "code",
   "execution_count": 36,
   "metadata": {},
   "outputs": [
    {
     "data": {
      "image/png": "[encoded data removed]",
      "text/plain": [
       "<Figure size 1000x700 with 1 Axes>"
      ]
     },
     "metadata": {},
     "output_type": "display_data"
    }
   ],
   "source": [
    "fig = plt.figure(figsize =(10, 7))\n",
    "# Creating plot\n",
    "plt.boxplot(y)\n",
    "# show plot\n",
    "plt.show()"
   ]
  },
  {
   "cell_type": "code",
   "execution_count": 37,
   "metadata": {},
   "outputs": [
    {
     "data": {
      "image/png": "[encoded data removed]",
      "text/plain": [
       "<Figure size 1000x700 with 1 Axes>"
      ]
     },
     "metadata": {},
     "output_type": "display_data"
    }
   ],
   "source": [
    "green_diamond = dict(markerfacecolor='g', marker='D')\n",
    "\n",
    "fig = plt.figure(figsize =(10, 7))\n",
    "ax = fig.add_subplot(111)\n",
    "bp = ax.boxplot(y, patch_artist = True,\n",
    "                notch ='True', vert = 0, showmeans = True) #, meanprops = green_diamond)\n",
    "for median in bp['medians']:\n",
    "    median.set(color ='red',\n",
    "               linewidth = 3)\n",
    "\n",
    "for mean in bp['means']:\n",
    "    mean.set(color ='green',\n",
    "               linewidth = 3, markerfacecolor='g', marker='D')"
   ]
  },
  {
   "cell_type": "markdown",
   "metadata": {},
   "source": [
    "https://www.geeksforgeeks.org/box-plot-in-python-using-matplotlib/"
   ]
  },
  {
   "cell_type": "code",
   "execution_count": 38,
   "metadata": {},
   "outputs": [
    {
     "data": {
      "image/png": "[encoded data removed]",
      "text/plain": [
       "<Figure size 1000x700 with 1 Axes>"
      ]
     },
     "metadata": {},
     "output_type": "display_data"
    }
   ],
   "source": [
    "green_diamond = dict(markerfacecolor='g', marker='D')\n",
    "\n",
    "fig = plt.figure(figsize =(10, 7))\n",
    "ax = fig.add_subplot(111)\n",
    "bp = ax.boxplot(y, patch_artist = True,\n",
    "                notch ='True', vert = 0, showmeans = True) #, meanprops = green_diamond)\n",
    "for median in bp['medians']:\n",
    "    median.set(color ='red',\n",
    "               linewidth = 3)\n",
    "\n",
    "for mean in bp['means']:\n",
    "    mean.set(color ='green',\n",
    "               linewidth = 3, markerfacecolor='g', marker='D')\n",
    "\n",
    "colors = ['#0000FF', '#00FF00', \n",
    "          '#FFFF00', '#FF00FF']\n",
    " \n",
    "for patch, color in zip(bp['boxes'], colors):\n",
    "    patch.set_facecolor(color)\n",
    " \n",
    "# changing color and linewidth of\n",
    "# whiskers\n",
    "for whisker in bp['whiskers']:\n",
    "    whisker.set(color ='#8B008B',\n",
    "                linewidth = 1.5,\n",
    "                linestyle =\":\")\n",
    " \n",
    "# changing color and linewidth of\n",
    "# caps\n",
    "for cap in bp['caps']:\n",
    "    cap.set(color ='#8B008B',\n",
    "            linewidth = 2)\n",
    " \n",
    "# changing color and linewidth of\n",
    "# medians\n",
    "for median in bp['medians']:\n",
    "    median.set(color ='red',\n",
    "               linewidth = 3)\n",
    " \n",
    "# changing style of fliers\n",
    "for flier in bp['fliers']:\n",
    "    flier.set(marker ='D',\n",
    "              color ='#e7298a',\n",
    "              alpha = 0.5)\n",
    "     \n",
    "# x-axis labels\n",
    "ax.set_yticklabels(['data_1'])\n",
    " \n",
    "# Adding title \n",
    "plt.title(\"Customized box plot\")\n",
    " \n",
    "# Removing top axes and right axes\n",
    "# ticks\n",
    "ax.get_xaxis().tick_bottom()\n",
    "ax.get_yaxis().tick_left()"
   ]
  },
  {
   "cell_type": "code",
   "execution_count": 39,
   "metadata": {},
   "outputs": [
    {
     "data": {
      "image/png": "[encoded data removed]",
      "text/plain": [
       "<Figure size 640x480 with 1 Axes>"
      ]
     },
     "metadata": {},
     "output_type": "display_data"
    }
   ],
   "source": [
    "mean = np.mean(y);\n",
    "std = np.std(y);\n",
    "variance = np.square(std)\n",
    "xf = np.arange(-5,5,.01)\n",
    "f = np.exp(-np.square(xf-mean)/2*variance)/(np.sqrt(2*np.pi*variance))\n",
    "\n",
    "plt.plot(x,f)\n",
    "plt.bar(bin_edges[:-1]+bin_width/2, hist, color = \"g\", alpha = 0.5, width = bin_width-0.1)\n",
    "plt.ylabel('gaussian distribution')\n",
    "plt.show()"
   ]
  },
  {
   "cell_type": "code",
   "execution_count": 40,
   "metadata": {},
   "outputs": [
    {
     "data": {
      "image/png": "[encoded data removed]",
      "text/plain": [
       "<Figure size 640x480 with 1 Axes>"
      ]
     },
     "metadata": {},
     "output_type": "display_data"
    }
   ],
   "source": [
    "plt.plot(xf,f)\n",
    "plt.show()"
   ]
  },
  {
   "cell_type": "code",
   "execution_count": 41,
   "metadata": {},
   "outputs": [
    {
     "data": {
      "text/plain": [
       "[(-5.0, 0.8178406697583165),\n",
       " (-4.99, 1.1153073145785126),\n",
       " (-4.98, 0.14165335856218486),\n",
       " (-4.970000000000001, 0.06192477105527564),\n",
       " (-4.960000000000001, 0.2364200978225368),\n",
       " (-4.950000000000001, 0.6455150037654408),\n",
       " (-4.940000000000001, 1.6040985500152878),\n",
       " (-4.9300000000000015, 2.215796932462076),\n",
       " (-4.920000000000002, -0.35249209247017727),\n",
       " (-4.910000000000002, -1.4225606469808452),\n",
       " (-4.900000000000002, 1.585260792491104),\n",
       " (-4.890000000000002, -0.3556120833837053),\n",
       " (-4.880000000000003, 0.3259071736399423),\n",
       " (-4.870000000000003, -0.11260423553436562),\n",
       " (-4.860000000000003, -1.0067595723447613),\n",
       " (-4.850000000000003, 0.31283115090158115),\n",
       " (-4.840000000000003, 1.3167401498177929),\n",
       " (-4.830000000000004, 0.6522788162598193),\n",
       " (-4.820000000000004, 0.25397289721885996),\n",
       " (-4.810000000000004, -0.20284237193881266),\n",
       " (-4.800000000000004, 1.5535753926964988),\n",
       " (-4.7900000000000045, 0.8802485249830777),\n",
       " (-4.780000000000005, -0.197831896757012),\n",
       " (-4.770000000000005, 0.2791517614272033),\n",
       " (-4.760000000000005, -0.268361442677931),\n",
       " (-4.750000000000005, -0.525237487629849),\n",
       " (-4.7400000000000055, 0.3886441680636889),\n",
       " (-4.730000000000006, -1.2764524081370185),\n",
       " (-4.720000000000006, -0.25370543717656274),\n",
       " (-4.710000000000006, 0.44245754828159606),\n",
       " (-4.700000000000006, 0.7544952298814168),\n",
       " (-4.690000000000007, 0.4403707083634135),\n",
       " (-4.680000000000007, 1.2585134578200758),\n",
       " (-4.670000000000007, 1.1324765945354627),\n",
       " (-4.660000000000007, 1.5249187967631046),\n",
       " (-4.6500000000000075, 0.29939029906774367),\n",
       " (-4.640000000000008, -1.621312353610652),\n",
       " (-4.630000000000008, -1.632951854344556),\n",
       " (-4.620000000000008, 2.5158585919665066),\n",
       " (-4.610000000000008, 1.90600940837227),\n",
       " (-4.6000000000000085, -0.7808188698610564),\n",
       " (-4.590000000000009, 0.4842125311559117),\n",
       " (-4.580000000000009, 0.06462652760881622),\n",
       " (-4.570000000000009, -0.7860326800909004),\n",
       " (-4.560000000000009, -0.8252799458769361),\n",
       " (-4.55000000000001, -0.18457545389643956),\n",
       " (-4.54000000000001, -0.30710738093982665),\n",
       " (-4.53000000000001, -0.8085242807532583),\n",
       " (-4.52000000000001, 0.6360810942487232),\n",
       " (-4.5100000000000104, -0.21666686092179438),\n",
       " (-4.500000000000011, -1.5797731455163713),\n",
       " (-4.490000000000011, -1.6481477500561232),\n",
       " (-4.480000000000011, 0.7167196956878549),\n",
       " (-4.470000000000011, 0.8872741469470873),\n",
       " (-4.4600000000000115, -1.1072081043474964),\n",
       " (-4.450000000000012, 0.40358985187184326),\n",
       " (-4.440000000000012, 0.334470274277762),\n",
       " (-4.430000000000012, -0.8062848757362882),\n",
       " (-4.420000000000012, 1.234592779704545),\n",
       " (-4.410000000000013, 0.06906033982591621),\n",
       " (-4.400000000000013, -0.2582300600993543),\n",
       " (-4.390000000000013, -0.5349597277754837),\n",
       " (-4.380000000000013, 0.5396761218289293),\n",
       " (-4.370000000000013, -0.16740061772797835),\n",
       " (-4.360000000000014, 0.6797390071345226),\n",
       " (-4.350000000000014, 1.094566656127573),\n",
       " (-4.340000000000014, 0.11498937413391663),\n",
       " (-4.330000000000014, 0.6493841449213936),\n",
       " (-4.3200000000000145, -1.8344857213430203),\n",
       " (-4.310000000000015, -0.8120093068935975),\n",
       " (-4.300000000000015, -0.09870040841715785),\n",
       " (-4.290000000000015, 0.6469354272756956),\n",
       " (-4.280000000000015, -0.7953505640350808),\n",
       " (-4.270000000000016, 0.98934852275605),\n",
       " (-4.260000000000016, 1.2857397183803212),\n",
       " (-4.250000000000016, -2.0574108406639415),\n",
       " (-4.240000000000016, -0.04980578844791008),\n",
       " (-4.230000000000016, 0.4790284339348989),\n",
       " (-4.220000000000017, 0.03459994232949439),\n",
       " (-4.210000000000017, 0.9454308600326614),\n",
       " (-4.200000000000017, -0.6691515495905501),\n",
       " (-4.190000000000017, -1.0604352712950356),\n",
       " (-4.1800000000000175, -0.6642798563359035),\n",
       " (-4.170000000000018, 0.22495645421410013),\n",
       " (-4.160000000000018, -0.08178690556355044),\n",
       " (-4.150000000000018, -0.5881245338681617),\n",
       " (-4.140000000000018, -0.0836052334756892),\n",
       " (-4.1300000000000185, 0.6376855324734793),\n",
       " (-4.120000000000019, -1.424390255871975),\n",
       " (-4.110000000000019, -0.7282744630806294),\n",
       " (-4.100000000000019, -0.25227700054336505),\n",
       " (-4.090000000000019, 1.6818603442263533),\n",
       " (-4.08000000000002, -1.5763246627515268),\n",
       " (-4.07000000000002, 0.5496327266488411),\n",
       " (-4.06000000000002, 0.37406572118237047),\n",
       " (-4.05000000000002, -0.31740857921954246),\n",
       " (-4.0400000000000205, -0.01150601138095123),\n",
       " (-4.030000000000021, 0.11185190828133262),\n",
       " (-4.020000000000021, -0.5406739399129556),\n",
       " (-4.010000000000021, 0.5708597445773201),\n",
       " (-4.000000000000021, 0.2853336943972159),\n",
       " (-3.9900000000000215, 0.1082659707741522),\n",
       " (-3.9800000000000217, 0.892665141178544),\n",
       " (-3.970000000000022, -0.8898737491412254),\n",
       " (-3.960000000000022, 1.2473949059400375),\n",
       " (-3.9500000000000224, 0.24703811892482977),\n",
       " (-3.9400000000000226, 0.8394273565353717),\n",
       " (-3.930000000000023, 1.4769131016219141),\n",
       " (-3.920000000000023, -2.0753975711919463),\n",
       " (-3.9100000000000232, -0.10263818129820869),\n",
       " (-3.9000000000000234, -0.5414767514881366),\n",
       " (-3.8900000000000237, 1.8909567061313515),\n",
       " (-3.880000000000024, 0.9023397643159095),\n",
       " (-3.870000000000024, -0.42088483500033874),\n",
       " (-3.8600000000000243, 0.7992363315979625),\n",
       " (-3.8500000000000245, -0.9599099573972858),\n",
       " (-3.8400000000000247, -0.10259742996171284),\n",
       " (-3.830000000000025, 0.3416329577277641),\n",
       " (-3.820000000000025, 1.5347381732848617),\n",
       " (-3.8100000000000254, 0.32160435571007245),\n",
       " (-3.8000000000000256, -1.085846334908185),\n",
       " (-3.790000000000026, -0.6002992550975349),\n",
       " (-3.780000000000026, 1.4443146883751583),\n",
       " (-3.770000000000026, -0.7080425214401218),\n",
       " (-3.7600000000000264, 0.6449241318851949),\n",
       " (-3.7500000000000266, -0.1926739306581669),\n",
       " (-3.740000000000027, -0.9792949346137102),\n",
       " (-3.730000000000027, 0.6397946113433644),\n",
       " (-3.7200000000000273, -0.8759452564458023),\n",
       " (-3.7100000000000275, 0.48682725145172706),\n",
       " (-3.7000000000000277, -0.6644819124736879),\n",
       " (-3.690000000000028, 0.1708293285354278),\n",
       " (-3.680000000000028, 0.43420065144081754),\n",
       " (-3.6700000000000284, -1.0493782204840945),\n",
       " (-3.6600000000000286, -0.8227773005636493),\n",
       " (-3.6500000000000288, -0.1615620172173649),\n",
       " (-3.640000000000029, -2.316204422438302),\n",
       " (-3.630000000000029, -1.9455040777549475),\n",
       " (-3.6200000000000294, -1.1208034492485155),\n",
       " (-3.6100000000000296, -0.1775438318332913),\n",
       " (-3.60000000000003, 0.03718010726431442),\n",
       " (-3.59000000000003, 0.7963308416402399),\n",
       " (-3.5800000000000303, -1.0461611755319897),\n",
       " (-3.5700000000000305, 0.27324344030349595),\n",
       " (-3.5600000000000307, 0.7062281919928569),\n",
       " (-3.550000000000031, 1.3675035522771908),\n",
       " (-3.540000000000031, 0.4723166506678244),\n",
       " (-3.5300000000000313, 0.6189803501402447),\n",
       " (-3.5200000000000315, -0.8313849170895444),\n",
       " (-3.5100000000000318, 0.6562304807697922),\n",
       " (-3.500000000000032, -0.6005245835863899),\n",
       " (-3.490000000000032, 0.5107695692652614),\n",
       " (-3.4800000000000324, 1.6491671896589635),\n",
       " (-3.4700000000000326, 0.25759712066776197),\n",
       " (-3.460000000000033, -2.2602379530095797),\n",
       " (-3.450000000000033, 0.4162353587159977),\n",
       " (-3.4400000000000333, 0.6594949904142836),\n",
       " (-3.4300000000000335, 0.2204785482411945),\n",
       " (-3.4200000000000337, 0.4758862302081136),\n",
       " (-3.410000000000034, -1.8531169965935859),\n",
       " (-3.400000000000034, 1.1362202928518343),\n",
       " (-3.3900000000000343, 0.3030090167375068),\n",
       " (-3.3800000000000345, 0.32426884136795653),\n",
       " (-3.3700000000000347, -0.05437289163281237),\n",
       " (-3.360000000000035, 0.06282888196774057),\n",
       " (-3.350000000000035, 0.4894665231745293),\n",
       " (-3.3400000000000354, 1.3070592444423168),\n",
       " (-3.3300000000000356, -0.7744269069567701),\n",
       " (-3.320000000000036, 0.35827295772095574),\n",
       " (-3.310000000000036, 0.31727746817754676),\n",
       " (-3.3000000000000362, -0.41562213803228887),\n",
       " (-3.2900000000000365, -0.06879234756481196),\n",
       " (-3.2800000000000367, -0.9899486232562029),\n",
       " (-3.270000000000037, -1.895884871490696),\n",
       " (-3.260000000000037, 0.8815240991456994),\n",
       " (-3.2500000000000373, 0.018545501929949863),\n",
       " (-3.2400000000000375, -0.5713267027305401),\n",
       " (-3.2300000000000377, 0.32371173166849376),\n",
       " (-3.220000000000038, 1.2094259248434855),\n",
       " (-3.210000000000038, -0.2977620175007661),\n",
       " (-3.2000000000000384, -0.7510927094193595),\n",
       " (-3.1900000000000386, 0.7028911280427803),\n",
       " (-3.180000000000039, 0.3876647983203825),\n",
       " (-3.170000000000039, 0.40303340250367814),\n",
       " (-3.160000000000039, 0.5858488384250488),\n",
       " (-3.1500000000000394, -1.0476090674716763),\n",
       " (-3.1400000000000396, -0.16932171371004787),\n",
       " (-3.13000000000004, 0.830150331757811),\n",
       " (-3.12000000000004, -0.5618630753711782),\n",
       " (-3.1100000000000403, 1.783103618518538),\n",
       " (-3.1000000000000405, -1.9846205573068108),\n",
       " (-3.0900000000000407, 0.35793893500681484),\n",
       " (-3.080000000000041, 0.9173602662747984),\n",
       " (-3.070000000000041, -0.6284087713347095),\n",
       " (-3.0600000000000414, -0.47552676766223306),\n",
       " (-3.0500000000000416, 0.15915223462459646),\n",
       " (-3.040000000000042, 2.1439885105707694),\n",
       " (-3.030000000000042, -0.16567083314574313),\n",
       " (-3.020000000000042, 1.4492246959120656),\n",
       " (-3.0100000000000424, 0.024244946041799817),\n",
       " (-3.0000000000000426, -0.4635078300813869),\n",
       " (-2.990000000000043, 0.4500293464569695),\n",
       " (-2.980000000000043, -0.2048690865514573),\n",
       " (-2.9700000000000433, -0.4759397925370606),\n",
       " (-2.9600000000000435, 0.8580629111336031),\n",
       " (-2.9500000000000437, 1.78152469391713),\n",
       " (-2.940000000000044, -1.2821886030748082),\n",
       " (-2.930000000000044, -0.6529863948428786),\n",
       " (-2.9200000000000443, -0.030065483447726592),\n",
       " (-2.9100000000000446, 0.6817023361878659),\n",
       " (-2.9000000000000448, 0.49631696944029663),\n",
       " (-2.890000000000045, -0.3258378336724538),\n",
       " (-2.880000000000045, -0.4957602966305739),\n",
       " (-2.8700000000000454, -1.9272612073356736),\n",
       " (-2.8600000000000456, 0.30065323006305683),\n",
       " (-2.850000000000046, -1.074001062019907),\n",
       " (-2.840000000000046, -0.3515182914478475),\n",
       " (-2.8300000000000463, 0.0015532319850257255),\n",
       " (-2.8200000000000465, 0.6984520533133349),\n",
       " (-2.8100000000000467, 0.6782306479712936),\n",
       " (-2.800000000000047, -0.2841247432687799),\n",
       " (-2.790000000000047, -0.8603323439962808),\n",
       " (-2.7800000000000473, -0.7430988069589546),\n",
       " (-2.7700000000000475, 0.0881324676115586),\n",
       " (-2.7600000000000477, -0.2671667432354226),\n",
       " (-2.750000000000048, 0.7244609438191857),\n",
       " (-2.740000000000048, -1.2804252686218733),\n",
       " (-2.7300000000000484, -0.3646523418005028),\n",
       " (-2.7200000000000486, 0.671484686303864),\n",
       " (-2.710000000000049, 0.48726233401659796),\n",
       " (-2.700000000000049, 0.8525682359463042),\n",
       " (-2.6900000000000492, 0.38570660513946703),\n",
       " (-2.6800000000000495, -0.09932800998270962),\n",
       " (-2.6700000000000497, 0.04655441014515274),\n",
       " (-2.66000000000005, 1.475017356828899),\n",
       " (-2.65000000000005, 0.5051202509024171),\n",
       " (-2.6400000000000503, -0.6565272659985095),\n",
       " (-2.6300000000000505, 0.036896340649384456),\n",
       " (-2.6200000000000507, -0.46870987984827006),\n",
       " (-2.610000000000051, 0.25177751364418216),\n",
       " (-2.600000000000051, 1.4532151637896604),\n",
       " (-2.5900000000000514, 1.354725223114767),\n",
       " (-2.5800000000000516, 0.33419494727289545),\n",
       " (-2.570000000000052, -1.3606399825357829),\n",
       " (-2.560000000000052, -0.03579170911652892),\n",
       " (-2.5500000000000522, 1.1901155384462205),\n",
       " (-2.5400000000000524, 1.3331829767323935),\n",
       " (-2.5300000000000527, 1.783096871700031),\n",
       " (-2.520000000000053, 0.12998886610701302),\n",
       " (-2.510000000000053, -0.6821064308381836),\n",
       " (-2.5000000000000533, -0.28108364500521305),\n",
       " (-2.4900000000000535, 0.43741285250938455),\n",
       " (-2.4800000000000537, -0.6310273479880207),\n",
       " (-2.470000000000054, -1.1360928092068516),\n",
       " (-2.460000000000054, 0.5347641608316285),\n",
       " (-2.4500000000000544, 0.061891858393429255),\n",
       " (-2.4400000000000546, 0.11511389114082039),\n",
       " (-2.430000000000055, 0.20289926945758677),\n",
       " (-2.420000000000055, 0.037661915814650004),\n",
       " (-2.410000000000055, 0.21186880507731404),\n",
       " (-2.4000000000000554, 0.8974791502111258),\n",
       " (-2.3900000000000556, 0.8058002656776209),\n",
       " (-2.380000000000056, -1.2541784842108152),\n",
       " (-2.370000000000056, -0.24590151235765575),\n",
       " (-2.3600000000000563, 0.5774512815999938),\n",
       " (-2.3500000000000565, 1.2408578525129466),\n",
       " (-2.3400000000000567, -0.6829829496211922),\n",
       " (-2.330000000000057, -0.8502707119234746),\n",
       " (-2.320000000000057, 0.1772760196324839),\n",
       " (-2.3100000000000573, -1.6029691788509386),\n",
       " (-2.3000000000000576, -0.20964526019160432),\n",
       " (-2.2900000000000578, 0.27715275026030234),\n",
       " (-2.280000000000058, 0.27937280426033295),\n",
       " (-2.270000000000058, 0.697471202032216),\n",
       " (-2.2600000000000584, 0.16464456501842487),\n",
       " (-2.2500000000000586, 1.66486102132284),\n",
       " (-2.240000000000059, 0.13521168261507843),\n",
       " (-2.230000000000059, -1.727192389556408),\n",
       " (-2.2200000000000593, -1.4125133256482276),\n",
       " (-2.2100000000000595, 0.3940477431987976),\n",
       " (-2.2000000000000597, 0.23269909134594127),\n",
       " (-2.19000000000006, -1.0379042342374432),\n",
       " (-2.18000000000006, 1.7257658173938468),\n",
       " (-2.1700000000000603, 0.6157825285005777),\n",
       " (-2.1600000000000605, -2.0262847579057635),\n",
       " (-2.1500000000000608, -0.588928448827562),\n",
       " (-2.140000000000061, -0.06589797651491151),\n",
       " (-2.130000000000061, -0.20725166588087843),\n",
       " (-2.1200000000000614, 0.5014045154303317),\n",
       " (-2.1100000000000616, -0.3391844729793754),\n",
       " (-2.100000000000062, -0.14627931452996173),\n",
       " (-2.090000000000062, -0.8272957234261855),\n",
       " (-2.0800000000000622, 0.6203536251644041),\n",
       " (-2.0700000000000625, -2.1424640182150627),\n",
       " (-2.0600000000000627, -0.6360798054144886),\n",
       " (-2.050000000000063, 1.0163749310745187),\n",
       " (-2.040000000000063, -0.4059767815461231),\n",
       " (-2.0300000000000633, 1.0744904590956679),\n",
       " (-2.0200000000000635, 1.6368630164540314),\n",
       " (-2.0100000000000637, 0.3498260430865443),\n",
       " (-2.000000000000064, 0.58760318734861),\n",
       " (-1.9900000000000642, -1.1245000361520499),\n",
       " (-1.9800000000000644, 0.44371560477645733),\n",
       " (-1.9700000000000646, -2.1996936139288636),\n",
       " (-1.9600000000000648, -0.9889003588775219),\n",
       " (-1.950000000000065, -0.8446374698844311),\n",
       " (-1.9400000000000652, 0.4852144519576934),\n",
       " (-1.9300000000000654, -1.1280521605041944),\n",
       " (-1.9200000000000657, -0.197198546274288),\n",
       " (-1.9100000000000659, 1.7741491589160951),\n",
       " (-1.900000000000066, -0.7344850679607421),\n",
       " (-1.8900000000000663, -0.03773695042579031),\n",
       " (-1.8800000000000665, -1.4331279584091243),\n",
       " (-1.8700000000000667, 1.7145799199492504),\n",
       " (-1.860000000000067, -0.25733078811429116),\n",
       " (-1.8500000000000671, -0.8950515379143907),\n",
       " (-1.8400000000000674, 0.8414246629108848),\n",
       " (-1.8300000000000676, -0.7003322500461667),\n",
       " (-1.8200000000000678, 0.03574136035059958),\n",
       " (-1.810000000000068, -0.3641233199759458),\n",
       " (-1.8000000000000682, 0.17574396718659377),\n",
       " (-1.7900000000000684, -0.406242069679391),\n",
       " (-1.7800000000000686, -0.1839522634075932),\n",
       " (-1.7700000000000689, -1.085499103666178),\n",
       " (-1.760000000000069, -0.1346609818468282),\n",
       " (-1.7500000000000693, -1.2797104454242982),\n",
       " (-1.7400000000000695, -0.8317944093975708),\n",
       " (-1.7300000000000697, 1.4391299628052086),\n",
       " (-1.72000000000007, 0.19931619944488255),\n",
       " (-1.7100000000000701, -1.4624844388997624),\n",
       " (-1.7000000000000703, 0.17226211333847438),\n",
       " (-1.6900000000000706, 1.3399924460997543),\n",
       " (-1.6800000000000708, 0.03380366418137007),\n",
       " (-1.670000000000071, -0.528539086475445),\n",
       " (-1.6600000000000712, 0.3848011838221349),\n",
       " (-1.6500000000000714, 0.3936343500400941),\n",
       " (-1.6400000000000716, -0.3252748467279392),\n",
       " (-1.6300000000000718, 0.24274896594628448),\n",
       " (-1.620000000000072, 1.1695563458669016),\n",
       " (-1.6100000000000723, -0.022266452009973924),\n",
       " (-1.6000000000000725, 0.4161707465538702),\n",
       " (-1.5900000000000727, -1.0424362539018557),\n",
       " (-1.580000000000073, 0.3845703702299802),\n",
       " (-1.5700000000000731, -1.042438770468736),\n",
       " (-1.5600000000000733, 0.8678657886084374),\n",
       " (-1.5500000000000735, -0.6474809987603525),\n",
       " (-1.5400000000000738, 1.4979210943040502),\n",
       " (-1.530000000000074, -0.19722542414652505),\n",
       " (-1.5200000000000742, -0.881512989994279),\n",
       " (-1.5100000000000744, -0.7383751682919053),\n",
       " (-1.5000000000000746, 0.8692248744586095),\n",
       " (-1.4900000000000748, 1.1893901438686763),\n",
       " (-1.480000000000075, -0.9027385676644617),\n",
       " (-1.4700000000000752, 0.2524422957749418),\n",
       " (-1.4600000000000755, -0.5988883827830036),\n",
       " (-1.4500000000000757, 1.45782768312444),\n",
       " (-1.4400000000000759, -0.43981492425653906),\n",
       " (-1.430000000000076, -0.2806019338839801),\n",
       " (-1.4200000000000763, -0.2814222248130049),\n",
       " (-1.4100000000000765, -1.2068965906107763),\n",
       " (-1.4000000000000767, -0.377109853107193),\n",
       " (-1.390000000000077, 0.48847722752659756),\n",
       " (-1.3800000000000772, -0.807979261603905),\n",
       " (-1.3700000000000774, -0.9438726054605271),\n",
       " (-1.3600000000000776, -0.9182866793572301),\n",
       " (-1.3500000000000778, -0.7957393790251179),\n",
       " (-1.340000000000078, 1.1306676123365929),\n",
       " (-1.3300000000000782, -0.733851208583179),\n",
       " (-1.3200000000000784, -1.62092845847188),\n",
       " (-1.3100000000000787, -1.4079594822780248),\n",
       " (-1.3000000000000789, -0.4124720381267906),\n",
       " (-1.290000000000079, 0.5671060013086703),\n",
       " (-1.2800000000000793, 0.1392319890260232),\n",
       " (-1.2700000000000795, -1.1538628479307633),\n",
       " (-1.2600000000000797, 1.3160468211054106),\n",
       " (-1.25000000000008, -0.6203407843123843),\n",
       " (-1.2400000000000801, 0.9289810492621546),\n",
       " (-1.2300000000000804, -0.003112300573507147),\n",
       " (-1.2200000000000806, 0.12802288375961143),\n",
       " (-1.2100000000000808, -0.6452309969675452),\n",
       " (-1.200000000000081, 1.0858365751981707),\n",
       " (-1.1900000000000812, -1.3077778088741148),\n",
       " (-1.1800000000000814, -0.4682274473434202),\n",
       " (-1.1700000000000816, 0.15784440179749828),\n",
       " (-1.1600000000000819, -0.9873782062441298),\n",
       " (-1.150000000000082, -0.8864583144487511),\n",
       " (-1.1400000000000823, -0.12211634671373267),\n",
       " (-1.1300000000000825, -0.3576145014539753),\n",
       " (-1.1200000000000827, 2.650792963984378),\n",
       " (-1.110000000000083, 0.2514029997835435),\n",
       " (-1.1000000000000831, -1.4235293819286654),\n",
       " (-1.0900000000000833, -0.0927492017839973),\n",
       " (-1.0800000000000836, 0.4777124529907891),\n",
       " (-1.0700000000000838, -1.001360325532427),\n",
       " (-1.060000000000084, 0.3127624978404221),\n",
       " (-1.0500000000000842, -0.5646683752830499),\n",
       " (-1.0400000000000844, 0.4929617863609434),\n",
       " (-1.0300000000000846, 1.4396753824917172),\n",
       " (-1.0200000000000848, -0.8455504672746498),\n",
       " (-1.010000000000085, 0.5910462456094654),\n",
       " (-1.0000000000000853, -1.3207774068551035),\n",
       " (-0.9900000000000855, -0.8981888519704736),\n",
       " (-0.9800000000000857, -0.768390232371889),\n",
       " (-0.9700000000000859, -0.3813108388295647),\n",
       " (-0.9600000000000861, 0.45054012541938243),\n",
       " (-0.9500000000000863, -2.018671578214232),\n",
       " (-0.9400000000000865, 1.0434971092201377),\n",
       " (-0.9300000000000868, -0.6686655719981257),\n",
       " (-0.920000000000087, -1.2163536651181104),\n",
       " (-0.9100000000000872, 0.7241385125915933),\n",
       " (-0.9000000000000874, 3.0545848629992776),\n",
       " (-0.8900000000000876, 1.0393842748666149),\n",
       " (-0.8800000000000878, -0.9009486879342163),\n",
       " (-0.870000000000088, -0.2728296916803045),\n",
       " (-0.8600000000000882, 0.3492797611607713),\n",
       " (-0.8500000000000885, -1.985443101441905),\n",
       " (-0.8400000000000887, 1.9440771003503112),\n",
       " (-0.8300000000000889, 0.5657087960893776),\n",
       " (-0.8200000000000891, -1.2128265086569092),\n",
       " (-0.8100000000000893, -0.0789479538372215),\n",
       " (-0.8000000000000895, -0.32275047158809594),\n",
       " (-0.7900000000000897, -0.0607302827107095),\n",
       " (-0.78000000000009, 0.3943567716621661),\n",
       " (-0.7700000000000902, 1.5142505566830737),\n",
       " (-0.7600000000000904, 0.7430446949782359),\n",
       " (-0.7500000000000906, 0.10470207643796033),\n",
       " (-0.7400000000000908, 1.5887061267251232),\n",
       " (-0.730000000000091, 1.7695209129064149),\n",
       " (-0.7200000000000912, 0.1976689232609813),\n",
       " (-0.7100000000000914, -0.8197748732085811),\n",
       " (-0.7000000000000917, 1.3466542197161306),\n",
       " (-0.6900000000000919, 0.06712381462339641),\n",
       " (-0.6800000000000921, 1.0678753200992472),\n",
       " (-0.6700000000000923, 0.5211161564822049),\n",
       " (-0.6600000000000925, 0.7608884313935521),\n",
       " (-0.6500000000000927, 1.0874985862964213),\n",
       " (-0.6400000000000929, -3.0535582717249734),\n",
       " (-0.6300000000000932, 0.35756864254738513),\n",
       " (-0.6200000000000934, 1.36953321136914),\n",
       " (-0.6100000000000936, -1.405196756653135),\n",
       " (-0.6000000000000938, -0.3367489053571565),\n",
       " (-0.590000000000094, 0.07022785736112461),\n",
       " (-0.5800000000000942, -1.5292230650335341),\n",
       " (-0.5700000000000944, -0.4682818928634903),\n",
       " (-0.5600000000000946, -0.34126183554715733),\n",
       " (-0.5500000000000949, 0.012880806895107634),\n",
       " (-0.5400000000000951, 1.7811293537762536),\n",
       " (-0.5300000000000953, -0.21825506962109464),\n",
       " (-0.5200000000000955, 0.20064402766166511),\n",
       " (-0.5100000000000957, 0.09299739740780731),\n",
       " (-0.5000000000000959, 0.19443841970103784),\n",
       " (-0.49000000000009614, -0.04354159979128661),\n",
       " (-0.48000000000009635, -0.2811899043750397),\n",
       " (-0.47000000000009656, -0.45928296547112524),\n",
       " (-0.4600000000000968, 0.16997431547519762),\n",
       " (-0.450000000000097, -2.1092956616129674),\n",
       " (-0.4400000000000972, 1.2194020362458973),\n",
       " (-0.4300000000000974, 1.280319644903664),\n",
       " (-0.42000000000009763, 1.4206154483082396),\n",
       " (-0.41000000000009784, -0.24658582461436582),\n",
       " (-0.40000000000009805, 1.7685297750311204),\n",
       " (-0.39000000000009827, -0.00840573748358483),\n",
       " (-0.3800000000000985, -0.02289738565832691),\n",
       " (-0.3700000000000987, -0.42399593656604956),\n",
       " (-0.3600000000000989, -0.695764447144979),\n",
       " (-0.3500000000000991, 0.4761946624531882),\n",
       " (-0.34000000000009933, -0.14873737234576614),\n",
       " (-0.33000000000009955, 0.235894384220061),\n",
       " (-0.32000000000009976, -1.1757189526209972),\n",
       " (-0.3100000000001, -1.8785828041051729),\n",
       " (-0.3000000000001002, 1.2881529771246532),\n",
       " (-0.2900000000001004, -1.7790005597317031),\n",
       " (-0.2800000000001006, -0.34261415818008517),\n",
       " (-0.2700000000001008, -0.6464129280396831),\n",
       " (-0.26000000000010104, -0.36061216718974204),\n",
       " (-0.25000000000010125, -0.6751134018018121),\n",
       " (-0.24000000000010147, -0.11448958250883821),\n",
       " (-0.23000000000010168, -0.6648356681378255),\n",
       " (-0.2200000000001019, -0.2096006737929477),\n",
       " (-0.2100000000001021, -0.8571280313809435),\n",
       " (-0.20000000000010232, 0.12025396901151682),\n",
       " (-0.19000000000010253, 0.9772482695429456),\n",
       " (-0.18000000000010274, 0.10251815310847907),\n",
       " (-0.17000000000010296, 0.5419310176544129),\n",
       " (-0.16000000000010317, -0.3815183005942417),\n",
       " (-0.15000000000010338, 0.6676420273429016),\n",
       " (-0.1400000000001036, -0.4233542721688961),\n",
       " (-0.1300000000001038, 0.8111041663023311),\n",
       " (-0.12000000000010402, 0.1046130332715367),\n",
       " (-0.11000000000010424, -1.1356926598154335),\n",
       " (-0.10000000000010445, -0.23510935486776113),\n",
       " (-0.09000000000010466, 0.3463962752013979),\n",
       " (-0.08000000000010488, 0.14045393602065454),\n",
       " (-0.07000000000010509, 1.369384693678064),\n",
       " (-0.0600000000001053, 1.8486991082223216),\n",
       " (-0.050000000000105516, -1.75488306538429),\n",
       " (-0.04000000000010573, -2.0947505402585853),\n",
       " (-0.030000000000105942, 0.6314416458277939),\n",
       " (-0.020000000000106155, 0.09983162176878767),\n",
       " (-0.010000000000106368, -1.2578259489700643),\n",
       " (-1.0658141036401503e-13, -0.9626966431775437),\n",
       " (0.009999999999893205, 0.7870795128283572),\n",
       " (0.019999999999892992, 0.2200467904895808),\n",
       " (0.02999999999989278, 0.4546495255683787),\n",
       " (0.039999999999892566, -0.7687829105363271),\n",
       " (0.04999999999989235, 1.0631106227493206),\n",
       " (0.05999999999989214, 0.37547559952154996),\n",
       " (0.06999999999989193, 2.0102686390741464),\n",
       " (0.07999999999989171, 1.0658973857522172),\n",
       " (0.0899999999998915, -0.9994473718383106),\n",
       " (0.09999999999989129, -0.14938698237873005),\n",
       " (0.10999999999989107, 0.6561674279440485),\n",
       " (0.11999999999989086, -0.7234499239287882),\n",
       " (0.12999999999989065, 0.9871306295842639),\n",
       " (0.13999999999989043, -1.6648983113091889),\n",
       " (0.14999999999989022, 1.2289444448805027),\n",
       " (0.15999999999989, 0.19079544333728704),\n",
       " (0.1699999999998898, 1.6762087519114668),\n",
       " (0.17999999999988958, 0.5078890972499616),\n",
       " (0.18999999999988937, 0.7844944166480969),\n",
       " (0.19999999999988916, 0.09365297944690229),\n",
       " (0.20999999999988894, -1.2382595866169128),\n",
       " (0.21999999999988873, -1.9065532467368644),\n",
       " (0.22999999999988852, 0.751708049903433),\n",
       " (0.2399999999998883, 0.7790333188905441),\n",
       " (0.2499999999998881, 0.9629680375853139),\n",
       " (0.2599999999998879, -0.40857738167308705),\n",
       " (0.26999999999988766, 0.03507602292753963),\n",
       " (0.27999999999988745, 0.2378014133150637),\n",
       " (0.28999999999988724, 1.1571923961007335),\n",
       " (0.299999999999887, 0.2985417901282985),\n",
       " (0.3099999999998868, 0.9086149284739112),\n",
       " (0.3199999999998866, 0.08737637675034789),\n",
       " (0.3299999999998864, -0.6221861144107219),\n",
       " (0.33999999999988617, -0.6574283025037144),\n",
       " (0.34999999999988596, 0.10863947526092442),\n",
       " (0.35999999999988574, -1.539146330421363),\n",
       " (0.36999999999988553, 0.8895891965642991),\n",
       " (0.3799999999998853, -0.2828672513701663),\n",
       " (0.3899999999998851, -1.1374093853288454),\n",
       " (0.3999999999998849, -2.371946761087155),\n",
       " (0.4099999999998847, -0.02722575942741126),\n",
       " (0.41999999999988447, 0.4120293377934051),\n",
       " (0.42999999999988425, -0.6849703906350632),\n",
       " (0.43999999999988404, 0.40340396151342994),\n",
       " (0.4499999999998838, -0.8392580556460006),\n",
       " (0.4599999999998836, 0.5209558829414597),\n",
       " (0.4699999999998834, 0.17542492064835824),\n",
       " (0.4799999999998832, 1.7796790138791632),\n",
       " (0.489999999999883, -1.5330565100745333),\n",
       " (0.49999999999988276, -0.24874575608202848),\n",
       " (0.5099999999998825, 0.33297495695477636),\n",
       " (0.5199999999998823, 1.1281082287219006),\n",
       " (0.5299999999998821, 1.2640924328817682),\n",
       " (0.5399999999998819, -1.1136400228922092),\n",
       " (0.5499999999998817, -0.9344436158463622),\n",
       " (0.5599999999998815, -0.941742946407319),\n",
       " (0.5699999999998813, -0.0573165505594786),\n",
       " (0.579999999999881, -2.605661172887759),\n",
       " (0.5899999999998808, -0.9323889351065907),\n",
       " (0.5999999999998806, -0.2991301294262586),\n",
       " (0.6099999999998804, -1.1791202135036467),\n",
       " (0.6199999999998802, -0.16578779544132768),\n",
       " (0.62999999999988, 1.5464708479005438),\n",
       " (0.6399999999998798, 2.1017898504075516),\n",
       " (0.6499999999998796, 1.2943095680142431),\n",
       " (0.6599999999998793, 1.5530810870001477),\n",
       " (0.6699999999998791, 1.0109374577483925),\n",
       " (0.6799999999998789, 0.20432693265958524),\n",
       " (0.6899999999998787, -0.08737455336190497),\n",
       " (0.6999999999998785, -1.1233017520555575),\n",
       " (0.7099999999998783, -0.7729566096043876),\n",
       " (0.7199999999998781, 0.2736575158760427),\n",
       " (0.7299999999998779, -0.46358046549407694),\n",
       " (0.7399999999998776, -0.4488648317551371),\n",
       " (0.7499999999998774, 1.031811206255445),\n",
       " (0.7599999999998772, 0.05900110568611161),\n",
       " (0.769999999999877, -1.7477950601502064),\n",
       " (0.7799999999998768, 0.769792076375606),\n",
       " (0.7899999999998766, 0.06901790343795859),\n",
       " (0.7999999999998764, -0.6132838758887604),\n",
       " (0.8099999999998762, 1.3897374079879674),\n",
       " (0.8199999999998759, -0.40239515973576145),\n",
       " (0.8299999999998757, -0.05420323388910775),\n",
       " (0.8399999999998755, -0.212980870215402),\n",
       " (0.8499999999998753, -0.23478977161966533),\n",
       " (0.8599999999998751, 0.2439264044204427),\n",
       " (0.8699999999998749, -1.7336058899545843),\n",
       " (0.8799999999998747, 1.8546672251799987),\n",
       " (0.8899999999998744, -0.7537232049748465),\n",
       " (0.8999999999998742, -1.7577062031176933),\n",
       " (0.909999999999874, 0.46969647242757645),\n",
       " (0.9199999999998738, 0.7634374101604507),\n",
       " (0.9299999999998736, 2.966269181689593),\n",
       " (0.9399999999998734, -0.09164330463504429),\n",
       " (0.9499999999998732, -0.8494541229510059),\n",
       " (0.959999999999873, 0.4453182827966125),\n",
       " (0.9699999999998727, -0.3960416599774244),\n",
       " (0.9799999999998725, 0.5757138012469011),\n",
       " (0.9899999999998723, -1.3304955543110122),\n",
       " (0.9999999999998721, -0.646932973432425),\n",
       " (1.009999999999872, -0.7676773666021754),\n",
       " (1.0199999999998717, -2.5121168677970727),\n",
       " (1.0299999999998715, -1.2544072181608503),\n",
       " (1.0399999999998712, 0.5580938275530193),\n",
       " (1.049999999999871, -0.04292050466531888),\n",
       " (1.0599999999998708, 0.4856709231542799),\n",
       " (1.0699999999998706, -0.506545917553179),\n",
       " (1.0799999999998704, -1.2535768154703892),\n",
       " (1.0899999999998702, 0.3402593627531366),\n",
       " (1.09999999999987, -0.29777791251958025),\n",
       " (1.1099999999998698, 0.4708491990543244),\n",
       " (1.1199999999998695, 0.29246662443086796),\n",
       " (1.1299999999998693, 1.2702884055577843),\n",
       " (1.1399999999998691, 0.396360201586164),\n",
       " (1.149999999999869, -0.027760754806399477),\n",
       " (1.1599999999998687, 0.23261233316441346),\n",
       " (1.1699999999998685, -0.8487689253789974),\n",
       " (1.1799999999998683, -0.30008888655337923),\n",
       " (1.189999999999868, -1.7285513204741512),\n",
       " (1.1999999999998678, -0.47711227004503864),\n",
       " (1.2099999999998676, 0.32403914831191616),\n",
       " (1.2199999999998674, -1.4911967418601635),\n",
       " (1.2299999999998672, -0.6329840395518753),\n",
       " (1.239999999999867, 0.4460591759427478),\n",
       " (1.2499999999998668, -0.2757467061814514),\n",
       " (1.2599999999998666, 1.0046565826824816),\n",
       " (1.2699999999998663, 0.35117384937349155),\n",
       " (1.2799999999998661, -0.33409924576424654),\n",
       " (1.289999999999866, 0.9484078473768125),\n",
       " (1.2999999999998657, -0.3872693561976368),\n",
       " (1.3099999999998655, -1.3263119130767584),\n",
       " (1.3199999999998653, 1.006037761164897),\n",
       " (1.329999999999865, 0.568510977782315),\n",
       " (1.3399999999998649, 0.3859474496482566),\n",
       " (1.3499999999998646, -1.3919513889549264),\n",
       " (1.3599999999998644, 0.5089770973091435),\n",
       " (1.3699999999998642, 0.5981422447043908),\n",
       " (1.379999999999864, 0.4393390438815167),\n",
       " (1.3899999999998638, -0.30594922063499164),\n",
       " (1.3999999999998636, -0.31227535536679113),\n",
       " (1.4099999999998634, 1.180137627887002),\n",
       " (1.4199999999998631, -1.0137361359685813),\n",
       " (1.429999999999863, -0.5061127575098306),\n",
       " (1.4399999999998627, -0.7416730654205423),\n",
       " (1.4499999999998625, 0.30888554383321637),\n",
       " (1.4599999999998623, 1.0636334737106958),\n",
       " (1.469999999999862, 1.2555344343519637),\n",
       " (1.4799999999998619, 0.5951564473656891),\n",
       " (1.4899999999998617, -0.27329780449178864),\n",
       " (1.4999999999998614, -0.22839709388249127),\n",
       " (1.5099999999998612, 0.4901867832588592),\n",
       " (1.519999999999861, 1.521182148668168),\n",
       " (1.5299999999998608, -0.09194743516481521),\n",
       " (1.5399999999998606, -0.9614982471447813),\n",
       " (1.5499999999998604, 0.7277463062316842),\n",
       " (1.5599999999998602, -2.023158394991918),\n",
       " (1.56999999999986, 0.21048038516666653),\n",
       " (1.5799999999998597, 0.9327144367766743),\n",
       " (1.5899999999998595, -2.0712566298190045),\n",
       " (1.5999999999998593, 0.07832256460140533),\n",
       " (1.609999999999859, 0.908200339220949),\n",
       " (1.6199999999998589, -0.33679479703431736),\n",
       " (1.6299999999998587, -0.7193208183641746),\n",
       " (1.6399999999998585, -1.1478512347649954),\n",
       " (1.6499999999998582, 1.0606156465903798),\n",
       " (1.659999999999858, 1.8494751997670333),\n",
       " (1.6699999999998578, 1.52828211241023),\n",
       " (1.6799999999998576, -1.2498565589030386),\n",
       " (1.6899999999998574, -1.3017205106716847),\n",
       " (1.6999999999998572, 2.1784653972208483),\n",
       " (1.709999999999857, -0.8536504128788914),\n",
       " (1.7199999999998568, -0.1331152356072071),\n",
       " (1.7299999999998565, -0.027377975767766353),\n",
       " (1.7399999999998563, -0.7137402756345586),\n",
       " (1.7499999999998561, -1.0228197488521786),\n",
       " (1.759999999999856, 0.39604893629817317),\n",
       " (1.7699999999998557, 1.73956785430784),\n",
       " (1.7799999999998555, 0.7750916066531247),\n",
       " (1.7899999999998553, -0.01139899969512813),\n",
       " (1.799999999999855, -2.0929057559004596),\n",
       " (1.8099999999998548, 0.6763921823281637),\n",
       " (1.8199999999998546, -0.622219191874682),\n",
       " (1.8299999999998544, -0.7104883863377645),\n",
       " (1.8399999999998542, -0.6604397247348521),\n",
       " (1.849999999999854, 0.3697522820946466),\n",
       " (1.8599999999998538, -0.5142768917065883),\n",
       " (1.8699999999998536, 0.125373368886479),\n",
       " (1.8799999999998533, -0.26681858071061637),\n",
       " (1.8899999999998531, 0.2637938073550613),\n",
       " (1.899999999999853, -0.8192760065745518),\n",
       " (1.9099999999998527, 0.2954731442102326),\n",
       " (1.9199999999998525, 0.8667708823347402),\n",
       " (1.9299999999998523, 0.8913039284976149),\n",
       " (1.939999999999852, -0.18393249493882882),\n",
       " (1.9499999999998519, -0.3417377022799757),\n",
       " (1.9599999999998516, 0.067977456722569),\n",
       " (1.9699999999998514, 0.0008271528957409527),\n",
       " (1.9799999999998512, 0.2849454885362148),\n",
       " (1.989999999999851, 0.8275315250409239),\n",
       " (1.9999999999998508, 0.8600280084388927),\n",
       " (2.0099999999998506, -1.003237374094815),\n",
       " (2.0199999999998504, -0.22775386469037753),\n",
       " (2.02999999999985, -0.9139826922756407),\n",
       " (2.03999999999985, 1.0276573098154462),\n",
       " (2.0499999999998497, 1.513298045521085),\n",
       " (2.0599999999998495, 0.11549302060113692),\n",
       " (2.0699999999998493, 0.6576634658372633),\n",
       " (2.079999999999849, -0.2861371527253729),\n",
       " (2.089999999999849, 0.2575130367250287),\n",
       " (2.0999999999998487, -0.4974579385785752),\n",
       " (2.1099999999998484, -0.29584159775719865),\n",
       " (2.1199999999998482, -1.8877057820046068),\n",
       " (2.129999999999848, 0.7223838136819303),\n",
       " (2.139999999999848, 0.9766134801893259),\n",
       " (2.1499999999998476, 0.809912770237786),\n",
       " (2.1599999999998474, 1.3011728481240428),\n",
       " (2.169999999999847, 0.4125003712973844),\n",
       " (2.179999999999847, 1.4247449563986079),\n",
       " (2.1899999999998467, 2.067396205306155),\n",
       " (2.1999999999998465, -0.7170565987075126),\n",
       " (2.2099999999998463, 2.0156521726169387),\n",
       " (2.219999999999846, 0.4542050742154061),\n",
       " (2.229999999999846, 0.4519835462609257),\n",
       " (2.2399999999998457, 1.1786972853162376),\n",
       " (2.2499999999998455, -0.8647648216877619),\n",
       " (2.2599999999998452, 1.0690048046140184),\n",
       " (2.269999999999845, 0.23779222844478692),\n",
       " (2.279999999999845, 1.8977659144264254),\n",
       " (2.2899999999998446, -2.526034578572215),\n",
       " (2.2999999999998444, -0.40723353465318896),\n",
       " (2.309999999999844, 0.798176463474771),\n",
       " (2.319999999999844, 0.10117553911209395),\n",
       " (2.3299999999998438, -0.8865085731356713),\n",
       " (2.3399999999998435, 0.45853439373817806),\n",
       " (2.3499999999998433, 0.37660118539358195),\n",
       " (2.359999999999843, 0.9500041774057021),\n",
       " (2.369999999999843, 0.7108292602055142),\n",
       " (2.3799999999998427, 0.40749465882278235),\n",
       " (2.3899999999998425, 0.7148492478851161),\n",
       " (2.3999999999998423, -0.7424175420167082),\n",
       " (2.409999999999842, -1.564180996357735),\n",
       " (2.419999999999842, 0.2128719398928598),\n",
       " (2.4299999999998416, -0.018009355598283386),\n",
       " (2.4399999999998414, -0.6808915463735433),\n",
       " (2.449999999999841, -0.9339667631357847),\n",
       " (2.459999999999841, -0.9799693301090169),\n",
       " (2.4699999999998408, 0.6072065429339788),\n",
       " (2.4799999999998406, -0.9358548483529442),\n",
       " (2.4899999999998403, -0.009554002351024186),\n",
       " (2.49999999999984, -1.3402006388546472),\n",
       " (2.50999999999984, -0.2483573022455574),\n",
       " (2.5199999999998397, -1.4302783065847036),\n",
       " (2.5299999999998395, 2.0863841917316273),\n",
       " (2.5399999999998393, -1.1073351583242315),\n",
       " (2.549999999999839, 0.4853342928775367),\n",
       " (2.559999999999839, -0.28127669804415706),\n",
       " (2.5699999999998386, 1.4694337238231288),\n",
       " (2.5799999999998384, -1.553208986214844),\n",
       " (2.589999999999838, 0.23433837442991967),\n",
       " (2.599999999999838, -0.5044854145470589),\n",
       " (2.609999999999838, -1.9043242024591884),\n",
       " (2.6199999999998376, 0.35135604318760677),\n",
       " (2.6299999999998374, 0.9171701661851445),\n",
       " (2.639999999999837, 0.6713632562125456),\n",
       " (2.649999999999837, 0.579115955859914),\n",
       " (2.6599999999998367, 1.275699602181567),\n",
       " (2.6699999999998365, -1.7116285338203467),\n",
       " (2.6799999999998363, 0.08580649774517554),\n",
       " (2.689999999999836, 0.8566492107084894),\n",
       " (2.699999999999836, 0.21856556732966895),\n",
       " (2.7099999999998357, -1.0624461416715476),\n",
       " (2.7199999999998354, 1.19871793621748),\n",
       " (2.7299999999998352, 1.1904924295424155),\n",
       " (2.739999999999835, -0.08530671671959089),\n",
       " (2.749999999999835, 0.3579718852702972),\n",
       " (2.7599999999998346, -2.5123844732208886),\n",
       " (2.7699999999998344, 0.08724898773792511),\n",
       " (2.779999999999834, 1.0162550227185403),\n",
       " (2.789999999999834, -0.13943489984441568),\n",
       " (2.7999999999998337, -0.9652185462109845),\n",
       " (2.8099999999998335, 0.9960205320556713),\n",
       " (2.8199999999998333, -0.3881609457956746),\n",
       " (2.829999999999833, 1.8468139055127688),\n",
       " (2.839999999999833, 0.48532431432274337),\n",
       " (2.8499999999998327, -0.26560349915554926),\n",
       " (2.8599999999998325, 0.6862475102461825),\n",
       " (2.8699999999998322, 0.909798151883291),\n",
       " (2.879999999999832, -1.4899365641298914),\n",
       " (2.889999999999832, -1.1004696231409674),\n",
       " (2.8999999999998316, -1.2118877292740105),\n",
       " (2.9099999999998314, 1.5937140165387738),\n",
       " (2.919999999999831, 0.686323650088698),\n",
       " (2.929999999999831, -0.9250926606352867),\n",
       " (2.9399999999998307, 0.09660521628099832),\n",
       " (2.9499999999998305, -0.8040323754914139),\n",
       " (2.9599999999998303, 1.410925362007062),\n",
       " (2.96999999999983, 1.5541814485985492),\n",
       " (2.97999999999983, -1.3908017093354217),\n",
       " (2.9899999999998297, 0.2726428604738617),\n",
       " (2.9999999999998295, 0.47126138424222336),\n",
       " (3.0099999999998293, 0.6685456737845993),\n",
       " (3.019999999999829, -0.4573169367872575),\n",
       " (3.029999999999829, 0.32685122012560097),\n",
       " (3.0399999999998286, 0.7555006705869833),\n",
       " (3.0499999999998284, 1.1102397120194747),\n",
       " (3.059999999999828, 0.8564380733341556),\n",
       " (3.069999999999828, 0.11038062837685425),\n",
       " (3.0799999999998278, 2.4875042019538838),\n",
       " (3.0899999999998276, 1.8454749405980944),\n",
       " (3.0999999999998273, -0.8216911850703627),\n",
       " (3.109999999999827, 0.19133756906323493),\n",
       " (3.119999999999827, 0.7052271215136575),\n",
       " (3.1299999999998267, 1.9644024764295038),\n",
       " (3.1399999999998265, 0.6292275042357365),\n",
       " (3.1499999999998263, -0.5647797923911517),\n",
       " (3.159999999999826, -1.1279455007498682),\n",
       " (3.169999999999826, 0.2790151113295731),\n",
       " (3.1799999999998256, 0.825921548286276),\n",
       " (3.1899999999998254, -2.2555527555470554),\n",
       " (3.199999999999825, -0.9518268862587044),\n",
       " (3.209999999999825, 0.23815139864342477),\n",
       " (3.219999999999825, -0.5754200225299922),\n",
       " (3.2299999999998246, -0.835913961495234),\n",
       " (3.2399999999998244, -1.018989698331022),\n",
       " (3.249999999999824, 0.0032938846977078775),\n",
       " (3.259999999999824, 0.417475660071146),\n",
       " (3.2699999999998237, 1.1718256818312656),\n",
       " (3.2799999999998235, 1.7572119789763174),\n",
       " (3.2899999999998233, -0.5673674560646771),\n",
       " (3.299999999999823, 0.7781536682015201),\n",
       " (3.309999999999823, 1.692356799260519),\n",
       " (3.3199999999998226, -0.5918661772488696),\n",
       " (3.3299999999998224, 0.26705493222208276),\n",
       " (3.3399999999998222, -1.091478916189969),\n",
       " (3.349999999999822, -0.2383009012857008),\n",
       " (3.359999999999822, 0.5511100322138494),\n",
       " (3.3699999999998216, -1.3848362183046237),\n",
       " (3.3799999999998214, -0.2246131255027739),\n",
       " (3.389999999999821, -0.45281555969802206),\n",
       " (3.399999999999821, 1.6604246471550537),\n",
       " (3.4099999999998207, 1.1511358037953434),\n",
       " (3.4199999999998205, -0.29080270052895596),\n",
       " (3.4299999999998203, 0.2172041531343446),\n",
       " (3.43999999999982, -0.6609228995247238),\n",
       " (3.44999999999982, 1.0295378528074013),\n",
       " (3.4599999999998197, 0.7140848170384914),\n",
       " (3.4699999999998195, -0.14241970986228147),\n",
       " (3.4799999999998192, 0.1573629787311625),\n",
       " (3.489999999999819, -1.1443480006288083),\n",
       " (3.499999999999819, 0.00365068345929884),\n",
       " (3.5099999999998186, -1.2347117472757412),\n",
       " (3.5199999999998184, -0.16248473904515617),\n",
       " (3.529999999999818, 0.9076875482818432),\n",
       " (3.539999999999818, -0.7991705409043703),\n",
       " (3.5499999999998177, 1.0937486975348047),\n",
       " (3.5599999999998175, -0.17523197104827584),\n",
       " (3.5699999999998173, -0.3745197135406244),\n",
       " (3.579999999999817, 0.450825042690225),\n",
       " (3.589999999999817, 1.1038145461123778),\n",
       " (3.5999999999998167, -0.03133621769857832),\n",
       " (3.6099999999998165, -0.5996162239727286),\n",
       " (3.6199999999998163, -1.1492964986180798),\n",
       " (3.629999999999816, 0.08833637618246269),\n",
       " (3.639999999999816, 0.37907374864678894),\n",
       " (3.6499999999998156, 0.865640798649642),\n",
       " (3.6599999999998154, 0.5045838988788713),\n",
       " (3.669999999999815, -1.2783843807251478),\n",
       " (3.679999999999815, -0.30758285077639363),\n",
       " (3.6899999999998148, -1.2816799363955012),\n",
       " (3.6999999999998145, -0.9707422732215731),\n",
       " (3.7099999999998143, -2.671878073929741),\n",
       " (3.719999999999814, -0.031979608982895084),\n",
       " (3.729999999999814, -1.157086977795385),\n",
       " (3.7399999999998137, -0.8097231696748005),\n",
       " (3.7499999999998135, 0.5504514664819998),\n",
       " (3.7599999999998133, -0.2591485005762905),\n",
       " (3.769999999999813, 0.9568152794741092),\n",
       " (3.779999999999813, -0.028453125561239058),\n",
       " (3.7899999999998126, 0.925412098068385),\n",
       " (3.7999999999998124, -1.0734863166966055),\n",
       " (3.809999999999812, -1.0508459257795917),\n",
       " (3.819999999999812, 1.7482361162099673),\n",
       " (3.8299999999998118, 0.14992746006810198),\n",
       " (3.8399999999998116, 1.4171281389195296),\n",
       " (3.8499999999998114, 2.001516638827914),\n",
       " (3.859999999999811, 0.020076571302409557),\n",
       " (3.869999999999811, -1.1762936890333497),\n",
       " (3.8799999999998107, 1.546310961274582),\n",
       " (3.8899999999998105, 0.15194042475514452),\n",
       " (3.8999999999998103, -1.0916701697620292),\n",
       " (3.90999999999981, -0.860306726866803),\n",
       " (3.91999999999981, -1.2825136380775222),\n",
       " (3.9299999999998096, 1.5913878570405486),\n",
       " (3.9399999999998094, -1.1922536498291536),\n",
       " (3.949999999999809, 1.057989502670895),\n",
       " (3.959999999999809, -0.3422614064303862),\n",
       " (3.969999999999809, 0.7111274907557412),\n",
       " (3.9799999999998086, -1.367396885755097),\n",
       " (3.9899999999998084, -0.34691307508059405),\n",
       " (3.999999999999808, 1.523258913667746),\n",
       " (4.009999999999808, 1.5115168034585664),\n",
       " (4.019999999999808, -0.44714912324503353),\n",
       " (4.0299999999998075, 0.28741519581535957),\n",
       " (4.039999999999807, 0.6786192599853909),\n",
       " (4.049999999999807, -0.2793636692110257),\n",
       " (4.059999999999807, 1.101800075487465),\n",
       " (4.069999999999807, -0.8106752692247915),\n",
       " (4.0799999999998064, -0.293499211757328),\n",
       " (4.089999999999806, 1.6885676537366134),\n",
       " (4.099999999999806, -0.9667463920694015),\n",
       " (4.109999999999806, -0.45177650649807466),\n",
       " (4.119999999999806, 0.12535454292518416),\n",
       " (4.129999999999805, -0.20689784647029016),\n",
       " (4.139999999999805, -0.08088528745928339),\n",
       " (4.149999999999805, -3.1110093548519147),\n",
       " (4.159999999999805, -0.6483566541635295),\n",
       " (4.1699999999998045, 1.007152135169721),\n",
       " (4.179999999999804, 0.6009713620862042),\n",
       " (4.189999999999804, 0.6921136881431249),\n",
       " (4.199999999999804, -0.20276155795444215),\n",
       " (4.209999999999804, -1.7060695941857251),\n",
       " (4.2199999999998035, -0.03706869073749607),\n",
       " (4.229999999999803, 0.2034716142596093),\n",
       " (4.239999999999803, 0.35681113395612357),\n",
       " (4.249999999999803, 0.8528349413129567),\n",
       " (4.259999999999803, -0.23822229114681592),\n",
       " (4.269999999999802, -0.7232212870460295),\n",
       " (4.279999999999802, 0.5610945619772383),\n",
       " (4.289999999999802, -1.6935939449535005),\n",
       " (4.299999999999802, -1.3282906525447455),\n",
       " (4.3099999999998015, 0.19277772789758707),\n",
       " (4.319999999999801, -1.1185037003478564),\n",
       " (4.329999999999801, -1.8583350756121468),\n",
       " (4.339999999999801, -1.0692361308005558),\n",
       " (4.349999999999801, 0.05265032820307976),\n",
       " (4.3599999999998005, -1.1628715631130784),\n",
       " (4.3699999999998, 0.5446458866668317),\n",
       " (4.3799999999998, -0.9160164615441868),\n",
       " (4.3899999999998, 0.7967085157743283),\n",
       " (4.3999999999998, 0.16081554540988754),\n",
       " (4.409999999999799, -0.9261146409692342),\n",
       " (4.419999999999799, 1.2341056334749034),\n",
       " (4.429999999999799, 0.877152984480126),\n",
       " (4.439999999999799, -0.1088080505156426),\n",
       " (4.449999999999799, -0.0775490025691218),\n",
       " (4.459999999999798, -0.2649457569207244),\n",
       " (4.469999999999798, -0.2540728572423649),\n",
       " (4.479999999999798, -0.09770398724810539),\n",
       " (4.489999999999798, -1.2689764177273946),\n",
       " (4.4999999999997975, 0.34884914419162627),\n",
       " (4.509999999999797, 0.8762313019521755),\n",
       " (4.519999999999797, 1.1698906801455877),\n",
       " (4.529999999999797, -0.30996188446804995),\n",
       " (4.539999999999797, 0.6636349420332811),\n",
       " (4.549999999999796, 0.7514325327749614),\n",
       " (4.559999999999796, -0.31001695960281606),\n",
       " (4.569999999999796, -0.021790025751814653),\n",
       " (4.579999999999796, -0.4706314040174613),\n",
       " (4.589999999999796, 0.2440220679596288),\n",
       " (4.599999999999795, 1.2507157843911096),\n",
       " (4.609999999999795, -0.4763385525326212),\n",
       " (4.619999999999795, -0.3400045870065556),\n",
       " (4.629999999999795, -1.1285428696725195),\n",
       " (4.6399999999997945, 1.722763782967314),\n",
       " (4.649999999999794, -0.11849603998740425),\n",
       " (4.659999999999794, -0.7816669358878251),\n",
       " (4.669999999999794, -0.9000909278310557),\n",
       " (4.679999999999794, 0.32029924847154856),\n",
       " (4.6899999999997934, 0.7860498973683525),\n",
       " (4.699999999999793, -0.6767639256211193),\n",
       " (4.709999999999793, -2.8253473078410365),\n",
       " (4.719999999999793, 0.17076794197213052),\n",
       " (4.729999999999793, 0.8733148407926627),\n",
       " (4.739999999999792, 0.05745574155146722),\n",
       " (4.749999999999792, -0.12619772914227365),\n",
       " (4.759999999999792, 0.6582899238507586),\n",
       " (4.769999999999792, 1.1189151280579),\n",
       " (4.7799999999997915, -0.6505792570109405),\n",
       " (4.789999999999791, -0.19779628286442877),\n",
       " (4.799999999999791, 1.0456180648275364),\n",
       " (4.809999999999791, 0.25415484420971735),\n",
       " (4.819999999999791, -1.1428141411476573),\n",
       " (4.8299999999997905, -1.2121641018094536),\n",
       " (4.83999999999979, -0.20436238471385068),\n",
       " (4.84999999999979, -1.2827162353813464),\n",
       " (4.85999999999979, 1.4325803628345875),\n",
       " (4.86999999999979, -1.8292547929231646),\n",
       " (4.879999999999789, 0.17911779673281034),\n",
       " (4.889999999999789, -1.1770896493627756),\n",
       " (4.899999999999789, 0.3226814291479943),\n",
       " (4.909999999999789, -0.5940652835651006),\n",
       " (4.9199999999997885, -0.99312397398986),\n",
       " (4.929999999999788, -1.2912831645477245),\n",
       " (4.939999999999788, 0.06828103777164461),\n",
       " (4.949999999999788, 0.47145217826377916),\n",
       " (4.959999999999788, 0.5437677838949028),\n",
       " (4.9699999999997875, 0.048146105643246936),\n",
       " (4.979999999999787, 1.691152329393045),\n",
       " (4.989999999999787, -1.1984806272525024)]"
      ]
     },
     "execution_count": 41,
     "metadata": {},
     "output_type": "execute_result"
    }
   ],
   "source": [
    "list(zip(x, y))"
   ]
  },
  {
   "cell_type": "code",
   "execution_count": 42,
   "metadata": {},
   "outputs": [],
   "source": [
    "y.sort()"
   ]
  },
  {
   "cell_type": "code",
   "execution_count": 43,
   "metadata": {},
   "outputs": [
    {
     "data": {
      "text/plain": [
       "<matplotlib.collections.PathCollection at 0x13c68fbd0>"
      ]
     },
     "execution_count": 43,
     "metadata": {},
     "output_type": "execute_result"
    },
    {
     "data": {
      "image/png": "[encoded data removed]",
      "text/plain": [
       "<Figure size 640x480 with 1 Axes>"
      ]
     },
     "metadata": {},
     "output_type": "display_data"
    }
   ],
   "source": [
    "plt.scatter(bin_centers, hist)"
   ]
  },
  {
   "cell_type": "code",
   "execution_count": 44,
   "metadata": {},
   "outputs": [
    {
     "data": {
      "text/plain": [
       "[<matplotlib.lines.Line2D at 0x13f90f590>]"
      ]
     },
     "execution_count": 44,
     "metadata": {},
     "output_type": "execute_result"
    },
    {
     "data": {
      "image/png": "[encoded data removed]",
      "text/plain": [
       "<Figure size 640x480 with 1 Axes>"
      ]
     },
     "metadata": {},
     "output_type": "display_data"
    }
   ],
   "source": [
    "plt.plot(bin_centers, hist)"
   ]
  },
  {
   "cell_type": "code",
   "execution_count": null,
   "metadata": {},
   "outputs": [],
   "source": []
  }
 ],
 "metadata": {
  "colab": {
   "provenance": []
  },
  "kernelspec": {
   "display_name": "Python 3 (ipykernel)",
   "language": "python",
   "name": "python3"
  },
  "language_info": {
   "codemirror_mode": {
    "name": "ipython",
    "version": 3
   },
   "file_extension": ".py",
   "mimetype": "text/x-python",
   "name": "python",
   "nbconvert_exporter": "python",
   "pygments_lexer": "ipython3",
   "version": "3.11.8"
  }
 },
 "nbformat": 4,
 "nbformat_minor": 4
}
