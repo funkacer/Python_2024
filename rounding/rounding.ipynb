{
 "cells": [
  {
   "cell_type": "code",
   "execution_count": 1,
   "id": "51bb99b4-c0ec-431b-93bd-1787d60de35a",
   "metadata": {},
   "outputs": [],
   "source": [
    "def rd(number, decimal_places=2, decimal_separator={'.':','}, minus_sign='-', thousands_separator={' ':' '}, integer_places=0,\n",
    "       round_type='5up', prefix='', suffix='', verbose=False) -> str:\n",
    "    \"\"\"Cerny rounding\n",
    "    number, decimal_places=2, decimal_separator={'.':','}, minus_sign='-', thousands_separator={' ':' '}, integer_places=0,\n",
    "       round_type='5up', prefix='', suffix='', verbose=False\"\"\"\n",
    "    if verbose: print('Cislovani pozic je od 0!')\n",
    "    #round_type=['None', '5up', 'Floor', 'Ceiling']\n",
    "    round_up = {'0':'1', '1':'2', '2':'3', '3':'4', '4':'5', '5':'6', '6':'7', '7':'8', '8':'9', '9':'0'}\n",
    "    decimal_separator_out=decimal_separator[list(decimal_separator.keys())[0]]\n",
    "    decimal_separator=list(decimal_separator.keys())[0]\n",
    "    separate_thousands=False\n",
    "    thousands_separator_out=thousands_separator[list(thousands_separator.keys())[0]]\n",
    "    thousands_separator=list(thousands_separator.keys())[0]\n",
    "    if thousands_separator_out != '':\n",
    "        separate_thousands=True\n",
    "    ret_string = ''\n",
    "    raw_string = str(number).strip()\n",
    "    raw_string = raw_string.replace(thousands_separator, '')\n",
    "    minus_place = raw_string.find(minus_sign)\n",
    "    raw_string = raw_string.replace(minus_sign, '')\n",
    "    decimal_place = raw_string.find(decimal_separator)\n",
    "    # když začíná .tak mi to nefunguje\n",
    "    if decimal_place == 0:\n",
    "        raw_string = '0' + raw_string\n",
    "        decimal_place = 1\n",
    "    raw_string = raw_string.replace(decimal_separator, '')\n",
    "    raw_string = ''.join([x for x in raw_string if x in round_up])\n",
    "    if decimal_place == -1:\n",
    "        decimal_place = len(raw_string)\n",
    "    if verbose: print('decimal_place', decimal_place)\n",
    "    if verbose: print('raw_string', raw_string)\n",
    "    if round_type != 'None':\n",
    "        # potrebuju se dostat na decision_number\n",
    "        decision_place = decimal_place + decimal_places\n",
    "        if verbose: print('decision_place', decision_place)\n",
    "        if (decision_place < 0):\n",
    "            # zaokrouhluju 999 na -4 a vic des.mist a víc, takže 1000 na -4 je 0000\n",
    "            if verbose: print('decision_place je < 0, vratim 0')\n",
    "            ret_string = '0'\n",
    "            decimal_place = 1\n",
    "            #decimal_place = abs(decimal_places)\n",
    "        elif (decision_place >= len(raw_string)):\n",
    "            # vratim cele a nasledne dodelam '0' na dalsich des mistech\n",
    "            if verbose: print('decision_place je >= len(raw_string):', len(raw_string), '- vratim cele a dodelam 0')\n",
    "            ret_string = raw_string\n",
    "        else:\n",
    "            #jdu zaokrouhlovat\n",
    "            if raw_string[decision_place] in ('0', '1', '2', '3', '4') and round_type != 'Ceiling' or round_type == 'Floor':\n",
    "                #zaokrouhluju dolu\n",
    "                ret_string += raw_string[:decision_place]\n",
    "                if verbose: print('zaokrouhluju dolu, decision number je:', raw_string[decision_place], ', vracím:', ret_string)\n",
    "            else:\n",
    "                #zaokrouhluju nahoru\n",
    "                for i in range (decision_place, -1, -1):\n",
    "                    if i == 0:\n",
    "                        ret_string = '1'\n",
    "                        decimal_place += 1\n",
    "                        if verbose: print('jsem na nultém místě a mám to zaokrouhlit nahoru, vracím 1 a ostatní doplním 0 až do decimal place:', decimal_place)\n",
    "                        break\n",
    "                    else:\n",
    "                        if raw_string[(i-1)] != '9':\n",
    "                            ret_string = raw_string[:(i-1)] + round_up[raw_string[(i-1)]]\n",
    "                            if verbose: print('hotovo, decision number je:', raw_string[i], 'na místě:', i, 'a předchozí není 9, vracím:', ret_string)\n",
    "                            break\n",
    "                        if verbose: print('zaokrouhluju nahoru, decision number je:', raw_string[i], 'na místě:', i)\n",
    "        # pokud jsem zaokrouhloval na - des mista, meno bylo typ 799.9, tak musim doplnit chybejici 0\n",
    "        # ta je bud do des. mista, nebo do abs(decimal_places), pokud jdem zadal abs(-decimal_places) > decimal_place\n",
    "        if len(ret_string) < decimal_place:\n",
    "            ret_string += '0'*(decimal_place - len(ret_string))\n",
    "    else:\n",
    "        ret_string = raw_string\n",
    "    # doplnim des. čárku a chybějící des. místa\n",
    "    if len(ret_string) > decimal_place - decimal_places:\n",
    "        ret_string=ret_string[:decimal_place] + decimal_separator_out + ret_string[decimal_place:]\n",
    "        if len(ret_string) - decimal_place <= decimal_places:\n",
    "            ret_string += '0'*(decimal_places - (len(ret_string) - decimal_place) + 1)\n",
    "    if decimal_place < integer_places:\n",
    "        ret_string = '0'*(integer_places - decimal_place) + ret_string\n",
    "        decimal_place = integer_places\n",
    "    # nechci přidat mínus k nule!\n",
    "    try:\n",
    "        x = float(ret_string)\n",
    "        if x == 0 and minus_place > -1:\n",
    "            minus_place = -1\n",
    "    except Exception as e:\n",
    "        pass\n",
    "    if separate_thousands:\n",
    "        for i, j in enumerate(range(decimal_place -1, -1, -1)):\n",
    "            #print(ret_string[j])\n",
    "            if i % 3 == 2 and j > 0:\n",
    "                ret_string=ret_string[:j] + thousands_separator_out + ret_string[j:]\n",
    "    if minus_place > -1:\n",
    "        ret_string = minus_sign + ret_string\n",
    "    return prefix + ret_string + suffix"
   ]
  },
  {
   "cell_type": "code",
   "execution_count": 3,
   "id": "539f363c-4aa0-4c81-a58a-7301aa70ff9d",
   "metadata": {},
   "outputs": [
    {
     "name": "stdin",
     "output_type": "stream",
     "text": [
      "Zadejte číslo: 55.5\n",
      "Des. místa: -2\n"
     ]
    },
    {
     "name": "stdout",
     "output_type": "stream",
     "text": [
      "55.5 rounded to -2 decimal places: 100\n"
     ]
    },
    {
     "name": "stdin",
     "output_type": "stream",
     "text": [
      "Zadejte číslo: 55\n",
      "Des. místa: -1\n"
     ]
    },
    {
     "name": "stdout",
     "output_type": "stream",
     "text": [
      "55 rounded to -1 decimal places: 60\n"
     ]
    },
    {
     "name": "stdin",
     "output_type": "stream",
     "text": [
      "Zadejte číslo: 54\n",
      "Des. místa: -1\n"
     ]
    },
    {
     "name": "stdout",
     "output_type": "stream",
     "text": [
      "54 rounded to -1 decimal places: 50\n"
     ]
    },
    {
     "name": "stdin",
     "output_type": "stream",
     "text": [
      "Zadejte číslo: \n",
      "Des. místa: \n"
     ]
    },
    {
     "name": "stdout",
     "output_type": "stream",
     "text": [
      "invalid literal for int() with base 10: ''\n",
      "Using rounding to 0 decimal places\n",
      " rounded to 0 decimal places: \n"
     ]
    }
   ],
   "source": [
    "def main():\n",
    "    x = ' '\n",
    "    while x != '':\n",
    "        x=input(\"Zadejte číslo:\")\n",
    "        y=input(\"Des. místa:\")\n",
    "        try:\n",
    "            y = int(y)\n",
    "        except Exception as e:\n",
    "            print (e)\n",
    "            print ('Using rounding to 0 decimal places')\n",
    "            y = 0\n",
    "        #print(f'{x} rounded to {y} decimal places: {rd(x, y)}')\n",
    "        print(f'{x} rounded to {y} decimal places:', rd(x, y, **{'thousands_separator':{'':' '} }))\n",
    "\n",
    "if __name__ == '__main__':\n",
    "    main()"
   ]
  },
  {
   "cell_type": "code",
   "execution_count": null,
   "id": "2743727f-ffec-4cc5-9031-fee4818d5601",
   "metadata": {},
   "outputs": [],
   "source": []
  }
 ],
 "metadata": {
  "kernelspec": {
   "display_name": "Python 3 (ipykernel)",
   "language": "python",
   "name": "python3"
  },
  "language_info": {
   "codemirror_mode": {
    "name": "ipython",
    "version": 3
   },
   "file_extension": ".py",
   "mimetype": "text/x-python",
   "name": "python",
   "nbconvert_exporter": "python",
   "pygments_lexer": "ipython3",
   "version": "3.13.1"
  }
 },
 "nbformat": 4,
 "nbformat_minor": 5
}
