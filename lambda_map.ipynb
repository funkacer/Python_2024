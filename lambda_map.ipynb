{
 "cells": [
  {
   "cell_type": "code",
   "execution_count": 1,
   "id": "1f9ac664-3cec-4639-8c50-99abf407162b",
   "metadata": {},
   "outputs": [],
   "source": [
    "y = lambda x:x*x\n",
    "x = range(1,11)"
   ]
  },
  {
   "cell_type": "code",
   "execution_count": 4,
   "id": "40fcd3a7-824a-46c2-90c9-aae713fd6472",
   "metadata": {},
   "outputs": [
    {
     "name": "stdout",
     "output_type": "stream",
     "text": [
      "[1, 4, 9, 16, 25, 36, 49, 64, 81, 100]\n"
     ]
    }
   ],
   "source": [
    "print(list(map(y, x)))"
   ]
  },
  {
   "cell_type": "code",
   "execution_count": 2,
   "id": "243e4b9a-d622-4371-9840-926dbb68d02a",
   "metadata": {},
   "outputs": [
    {
     "name": "stdout",
     "output_type": "stream",
     "text": [
      "[(1, 1), (2, 4), (3, 9), (4, 16), (5, 25), (6, 36), (7, 49), (8, 64), (9, 81), (10, 100)]\n"
     ]
    }
   ],
   "source": [
    "print(list(zip(x,map(y, x))))"
   ]
  },
  {
   "cell_type": "code",
   "execution_count": 3,
   "id": "1e50d412-1162-4250-b615-30f90d575561",
   "metadata": {},
   "outputs": [
    {
     "name": "stdout",
     "output_type": "stream",
     "text": [
      "{1: 1, 2: 4, 3: 9, 4: 16, 5: 25, 6: 36, 7: 49, 8: 64, 9: 81, 10: 100}\n"
     ]
    }
   ],
   "source": [
    "print(dict(zip(x,map(y, x))))"
   ]
  },
  {
   "cell_type": "code",
   "execution_count": null,
   "id": "e0f41e80-f186-47f5-8a71-22bcfd5e4a22",
   "metadata": {},
   "outputs": [],
   "source": []
  }
 ],
 "metadata": {
  "kernelspec": {
   "display_name": "Python 3 (ipykernel)",
   "language": "python",
   "name": "python3"
  },
  "language_info": {
   "codemirror_mode": {
    "name": "ipython",
    "version": 3
   },
   "file_extension": ".py",
   "mimetype": "text/x-python",
   "name": "python",
   "nbconvert_exporter": "python",
   "pygments_lexer": "ipython3",
   "version": "3.11.8"
  }
 },
 "nbformat": 4,
 "nbformat_minor": 5
}
