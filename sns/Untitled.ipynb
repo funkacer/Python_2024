{
 "cells": [
  {
   "cell_type": "code",
   "execution_count": 4,
   "id": "f2593005-5b18-4228-9d52-af2d213be7d5",
   "metadata": {},
   "outputs": [
    {
     "name": "stderr",
     "output_type": "stream",
     "text": [
      "/var/folders/fb/xl0hnskx527bfqkv38l3sn7h0000gn/T/ipykernel_45051/1498388678.py:3: DeprecationWarning: \n",
      "Pyarrow will become a required dependency of pandas in the next major release of pandas (pandas 3.0),\n",
      "(to allow more performant data types, such as the Arrow string type, and better interoperability with other libraries)\n",
      "but was not found to be installed on your system.\n",
      "If this would cause problems for you,\n",
      "please provide us feedback at https://github.com/pandas-dev/pandas/issues/54466\n",
      "        \n",
      "  import pandas as pd\n"
     ]
    }
   ],
   "source": [
    "import requests\n",
    "import io\n",
    "import pandas as pd"
   ]
  },
  {
   "cell_type": "code",
   "execution_count": 5,
   "id": "9174b709-7b49-4b69-bb2d-ed2f2608eb42",
   "metadata": {},
   "outputs": [],
   "source": [
    "t = requests.get('https://raw.githubusercontent.com/mwaskom/seaborn-data/master/tips.csv').text"
   ]
  },
  {
   "cell_type": "code",
   "execution_count": 6,
   "id": "49c52376-626c-40c6-a922-2848c3f16ec5",
   "metadata": {},
   "outputs": [
    {
     "data": {
      "text/plain": [
       "'\"total_bill\",\"tip\",\"sex\",\"smoker\",\"day\",\"time\",\"size\"\\n16.99,1.01,\"Female\",\"No\",\"Sun\",\"Dinner\",2\\n10.34,1.66,\"Male\",\"No\",\"Sun\",\"Dinner\",3\\n21.01,3.5,\"Male\",\"No\",\"Sun\",\"Dinner\",3\\n23.68,3.31,\"Male\",\"No\",\"Sun\",\"Dinner\",2\\n24.59,3.61,\"Female\",\"No\",\"Sun\",\"Dinner\",4\\n25.29,4.71,\"Male\",\"No\",\"Sun\",\"Dinner\",4\\n8.77,2,\"Male\",\"No\",\"Sun\",\"Dinner\",2\\n26.88,3.12,\"Male\",\"No\",\"Sun\",\"Dinner\",4\\n15.04,1.96,\"Male\",\"No\",\"Sun\",\"Dinner\",2\\n14.78,3.23,\"Male\",\"No\",\"Sun\",\"Dinner\",2\\n10.27,1.71,\"Male\",\"No\",\"Sun\",\"Dinner\",2\\n35.26,5,\"Female\",\"No\",\"Sun\",\"Dinner\",4\\n15.42,1.57,\"Male\",\"No\",\"Sun\",\"Dinner\",2\\n18.43,3,\"Male\",\"No\",\"Sun\",\"Dinner\",4\\n14.83,3.02,\"Female\",\"No\",\"Sun\",\"Dinner\",2\\n21.58,3.92,\"Male\",\"No\",\"Sun\",\"Dinner\",2\\n10.33,1.67,\"Female\",\"No\",\"Sun\",\"Dinner\",3\\n16.29,3.71,\"Male\",\"No\",\"Sun\",\"Dinner\",3\\n16.97,3.5,\"Female\",\"No\",\"Sun\",\"Dinner\",3\\n20.65,3.35,\"Male\",\"No\",\"Sat\",\"Dinner\",3\\n17.92,4.08,\"Male\",\"No\",\"Sat\",\"Dinner\",2\\n20.29,2.75,\"Female\",\"No\",\"Sat\",\"Dinner\",2\\n15.77,2.23,\"Female\",\"No\",\"Sat\",\"Dinner\",2\\n39.42,7.58,\"Male\",\"No\",\"Sat\",\"Dinner\",4\\n19.82,3.18,\"Male\",\"No\",\"Sat\",\"Dinner\",2\\n17.81,2.34,\"Male\",\"No\",\"Sat\",\"Dinner\",4\\n13.37,2,\"Male\",\"No\",\"Sat\",\"Dinner\",2\\n12.69,2,\"Male\",\"No\",\"Sat\",\"Dinner\",2\\n21.7,4.3,\"Male\",\"No\",\"Sat\",\"Dinner\",2\\n19.65,3,\"Female\",\"No\",\"Sat\",\"Dinner\",2\\n9.55,1.45,\"Male\",\"No\",\"Sat\",\"Dinner\",2\\n18.35,2.5,\"Male\",\"No\",\"Sat\",\"Dinner\",4\\n15.06,3,\"Female\",\"No\",\"Sat\",\"Dinner\",2\\n20.69,2.45,\"Female\",\"No\",\"Sat\",\"Dinner\",4\\n17.78,3.27,\"Male\",\"No\",\"Sat\",\"Dinner\",2\\n24.06,3.6,\"Male\",\"No\",\"Sat\",\"Dinner\",3\\n16.31,2,\"Male\",\"No\",\"Sat\",\"Dinner\",3\\n16.93,3.07,\"Female\",\"No\",\"Sat\",\"Dinner\",3\\n18.69,2.31,\"Male\",\"No\",\"Sat\",\"Dinner\",3\\n31.27,5,\"Male\",\"No\",\"Sat\",\"Dinner\",3\\n16.04,2.24,\"Male\",\"No\",\"Sat\",\"Dinner\",3\\n17.46,2.54,\"Male\",\"No\",\"Sun\",\"Dinner\",2\\n13.94,3.06,\"Male\",\"No\",\"Sun\",\"Dinner\",2\\n9.68,1.32,\"Male\",\"No\",\"Sun\",\"Dinner\",2\\n30.4,5.6,\"Male\",\"No\",\"Sun\",\"Dinner\",4\\n18.29,3,\"Male\",\"No\",\"Sun\",\"Dinner\",2\\n22.23,5,\"Male\",\"No\",\"Sun\",\"Dinner\",2\\n32.4,6,\"Male\",\"No\",\"Sun\",\"Dinner\",4\\n28.55,2.05,\"Male\",\"No\",\"Sun\",\"Dinner\",3\\n18.04,3,\"Male\",\"No\",\"Sun\",\"Dinner\",2\\n12.54,2.5,\"Male\",\"No\",\"Sun\",\"Dinner\",2\\n10.29,2.6,\"Female\",\"No\",\"Sun\",\"Dinner\",2\\n34.81,5.2,\"Female\",\"No\",\"Sun\",\"Dinner\",4\\n9.94,1.56,\"Male\",\"No\",\"Sun\",\"Dinner\",2\\n25.56,4.34,\"Male\",\"No\",\"Sun\",\"Dinner\",4\\n19.49,3.51,\"Male\",\"No\",\"Sun\",\"Dinner\",2\\n38.01,3,\"Male\",\"Yes\",\"Sat\",\"Dinner\",4\\n26.41,1.5,\"Female\",\"No\",\"Sat\",\"Dinner\",2\\n11.24,1.76,\"Male\",\"Yes\",\"Sat\",\"Dinner\",2\\n48.27,6.73,\"Male\",\"No\",\"Sat\",\"Dinner\",4\\n20.29,3.21,\"Male\",\"Yes\",\"Sat\",\"Dinner\",2\\n13.81,2,\"Male\",\"Yes\",\"Sat\",\"Dinner\",2\\n11.02,1.98,\"Male\",\"Yes\",\"Sat\",\"Dinner\",2\\n18.29,3.76,\"Male\",\"Yes\",\"Sat\",\"Dinner\",4\\n17.59,2.64,\"Male\",\"No\",\"Sat\",\"Dinner\",3\\n20.08,3.15,\"Male\",\"No\",\"Sat\",\"Dinner\",3\\n16.45,2.47,\"Female\",\"No\",\"Sat\",\"Dinner\",2\\n3.07,1,\"Female\",\"Yes\",\"Sat\",\"Dinner\",1\\n20.23,2.01,\"Male\",\"No\",\"Sat\",\"Dinner\",2\\n15.01,2.09,\"Male\",\"Yes\",\"Sat\",\"Dinner\",2\\n12.02,1.97,\"Male\",\"No\",\"Sat\",\"Dinner\",2\\n17.07,3,\"Female\",\"No\",\"Sat\",\"Dinner\",3\\n26.86,3.14,\"Female\",\"Yes\",\"Sat\",\"Dinner\",2\\n25.28,5,\"Female\",\"Yes\",\"Sat\",\"Dinner\",2\\n14.73,2.2,\"Female\",\"No\",\"Sat\",\"Dinner\",2\\n10.51,1.25,\"Male\",\"No\",\"Sat\",\"Dinner\",2\\n17.92,3.08,\"Male\",\"Yes\",\"Sat\",\"Dinner\",2\\n27.2,4,\"Male\",\"No\",\"Thur\",\"Lunch\",4\\n22.76,3,\"Male\",\"No\",\"Thur\",\"Lunch\",2\\n17.29,2.71,\"Male\",\"No\",\"Thur\",\"Lunch\",2\\n19.44,3,\"Male\",\"Yes\",\"Thur\",\"Lunch\",2\\n16.66,3.4,\"Male\",\"No\",\"Thur\",\"Lunch\",2\\n10.07,1.83,\"Female\",\"No\",\"Thur\",\"Lunch\",1\\n32.68,5,\"Male\",\"Yes\",\"Thur\",\"Lunch\",2\\n15.98,2.03,\"Male\",\"No\",\"Thur\",\"Lunch\",2\\n34.83,5.17,\"Female\",\"No\",\"Thur\",\"Lunch\",4\\n13.03,2,\"Male\",\"No\",\"Thur\",\"Lunch\",2\\n18.28,4,\"Male\",\"No\",\"Thur\",\"Lunch\",2\\n24.71,5.85,\"Male\",\"No\",\"Thur\",\"Lunch\",2\\n21.16,3,\"Male\",\"No\",\"Thur\",\"Lunch\",2\\n28.97,3,\"Male\",\"Yes\",\"Fri\",\"Dinner\",2\\n22.49,3.5,\"Male\",\"No\",\"Fri\",\"Dinner\",2\\n5.75,1,\"Female\",\"Yes\",\"Fri\",\"Dinner\",2\\n16.32,4.3,\"Female\",\"Yes\",\"Fri\",\"Dinner\",2\\n22.75,3.25,\"Female\",\"No\",\"Fri\",\"Dinner\",2\\n40.17,4.73,\"Male\",\"Yes\",\"Fri\",\"Dinner\",4\\n27.28,4,\"Male\",\"Yes\",\"Fri\",\"Dinner\",2\\n12.03,1.5,\"Male\",\"Yes\",\"Fri\",\"Dinner\",2\\n21.01,3,\"Male\",\"Yes\",\"Fri\",\"Dinner\",2\\n12.46,1.5,\"Male\",\"No\",\"Fri\",\"Dinner\",2\\n11.35,2.5,\"Female\",\"Yes\",\"Fri\",\"Dinner\",2\\n15.38,3,\"Female\",\"Yes\",\"Fri\",\"Dinner\",2\\n44.3,2.5,\"Female\",\"Yes\",\"Sat\",\"Dinner\",3\\n22.42,3.48,\"Female\",\"Yes\",\"Sat\",\"Dinner\",2\\n20.92,4.08,\"Female\",\"No\",\"Sat\",\"Dinner\",2\\n15.36,1.64,\"Male\",\"Yes\",\"Sat\",\"Dinner\",2\\n20.49,4.06,\"Male\",\"Yes\",\"Sat\",\"Dinner\",2\\n25.21,4.29,\"Male\",\"Yes\",\"Sat\",\"Dinner\",2\\n18.24,3.76,\"Male\",\"No\",\"Sat\",\"Dinner\",2\\n14.31,4,\"Female\",\"Yes\",\"Sat\",\"Dinner\",2\\n14,3,\"Male\",\"No\",\"Sat\",\"Dinner\",2\\n7.25,1,\"Female\",\"No\",\"Sat\",\"Dinner\",1\\n38.07,4,\"Male\",\"No\",\"Sun\",\"Dinner\",3\\n23.95,2.55,\"Male\",\"No\",\"Sun\",\"Dinner\",2\\n25.71,4,\"Female\",\"No\",\"Sun\",\"Dinner\",3\\n17.31,3.5,\"Female\",\"No\",\"Sun\",\"Dinner\",2\\n29.93,5.07,\"Male\",\"No\",\"Sun\",\"Dinner\",4\\n10.65,1.5,\"Female\",\"No\",\"Thur\",\"Lunch\",2\\n12.43,1.8,\"Female\",\"No\",\"Thur\",\"Lunch\",2\\n24.08,2.92,\"Female\",\"No\",\"Thur\",\"Lunch\",4\\n11.69,2.31,\"Male\",\"No\",\"Thur\",\"Lunch\",2\\n13.42,1.68,\"Female\",\"No\",\"Thur\",\"Lunch\",2\\n14.26,2.5,\"Male\",\"No\",\"Thur\",\"Lunch\",2\\n15.95,2,\"Male\",\"No\",\"Thur\",\"Lunch\",2\\n12.48,2.52,\"Female\",\"No\",\"Thur\",\"Lunch\",2\\n29.8,4.2,\"Female\",\"No\",\"Thur\",\"Lunch\",6\\n8.52,1.48,\"Male\",\"No\",\"Thur\",\"Lunch\",2\\n14.52,2,\"Female\",\"No\",\"Thur\",\"Lunch\",2\\n11.38,2,\"Female\",\"No\",\"Thur\",\"Lunch\",2\\n22.82,2.18,\"Male\",\"No\",\"Thur\",\"Lunch\",3\\n19.08,1.5,\"Male\",\"No\",\"Thur\",\"Lunch\",2\\n20.27,2.83,\"Female\",\"No\",\"Thur\",\"Lunch\",2\\n11.17,1.5,\"Female\",\"No\",\"Thur\",\"Lunch\",2\\n12.26,2,\"Female\",\"No\",\"Thur\",\"Lunch\",2\\n18.26,3.25,\"Female\",\"No\",\"Thur\",\"Lunch\",2\\n8.51,1.25,\"Female\",\"No\",\"Thur\",\"Lunch\",2\\n10.33,2,\"Female\",\"No\",\"Thur\",\"Lunch\",2\\n14.15,2,\"Female\",\"No\",\"Thur\",\"Lunch\",2\\n16,2,\"Male\",\"Yes\",\"Thur\",\"Lunch\",2\\n13.16,2.75,\"Female\",\"No\",\"Thur\",\"Lunch\",2\\n17.47,3.5,\"Female\",\"No\",\"Thur\",\"Lunch\",2\\n34.3,6.7,\"Male\",\"No\",\"Thur\",\"Lunch\",6\\n41.19,5,\"Male\",\"No\",\"Thur\",\"Lunch\",5\\n27.05,5,\"Female\",\"No\",\"Thur\",\"Lunch\",6\\n16.43,2.3,\"Female\",\"No\",\"Thur\",\"Lunch\",2\\n8.35,1.5,\"Female\",\"No\",\"Thur\",\"Lunch\",2\\n18.64,1.36,\"Female\",\"No\",\"Thur\",\"Lunch\",3\\n11.87,1.63,\"Female\",\"No\",\"Thur\",\"Lunch\",2\\n9.78,1.73,\"Male\",\"No\",\"Thur\",\"Lunch\",2\\n7.51,2,\"Male\",\"No\",\"Thur\",\"Lunch\",2\\n14.07,2.5,\"Male\",\"No\",\"Sun\",\"Dinner\",2\\n13.13,2,\"Male\",\"No\",\"Sun\",\"Dinner\",2\\n17.26,2.74,\"Male\",\"No\",\"Sun\",\"Dinner\",3\\n24.55,2,\"Male\",\"No\",\"Sun\",\"Dinner\",4\\n19.77,2,\"Male\",\"No\",\"Sun\",\"Dinner\",4\\n29.85,5.14,\"Female\",\"No\",\"Sun\",\"Dinner\",5\\n48.17,5,\"Male\",\"No\",\"Sun\",\"Dinner\",6\\n25,3.75,\"Female\",\"No\",\"Sun\",\"Dinner\",4\\n13.39,2.61,\"Female\",\"No\",\"Sun\",\"Dinner\",2\\n16.49,2,\"Male\",\"No\",\"Sun\",\"Dinner\",4\\n21.5,3.5,\"Male\",\"No\",\"Sun\",\"Dinner\",4\\n12.66,2.5,\"Male\",\"No\",\"Sun\",\"Dinner\",2\\n16.21,2,\"Female\",\"No\",\"Sun\",\"Dinner\",3\\n13.81,2,\"Male\",\"No\",\"Sun\",\"Dinner\",2\\n17.51,3,\"Female\",\"Yes\",\"Sun\",\"Dinner\",2\\n24.52,3.48,\"Male\",\"No\",\"Sun\",\"Dinner\",3\\n20.76,2.24,\"Male\",\"No\",\"Sun\",\"Dinner\",2\\n31.71,4.5,\"Male\",\"No\",\"Sun\",\"Dinner\",4\\n10.59,1.61,\"Female\",\"Yes\",\"Sat\",\"Dinner\",2\\n10.63,2,\"Female\",\"Yes\",\"Sat\",\"Dinner\",2\\n50.81,10,\"Male\",\"Yes\",\"Sat\",\"Dinner\",3\\n15.81,3.16,\"Male\",\"Yes\",\"Sat\",\"Dinner\",2\\n7.25,5.15,\"Male\",\"Yes\",\"Sun\",\"Dinner\",2\\n31.85,3.18,\"Male\",\"Yes\",\"Sun\",\"Dinner\",2\\n16.82,4,\"Male\",\"Yes\",\"Sun\",\"Dinner\",2\\n32.9,3.11,\"Male\",\"Yes\",\"Sun\",\"Dinner\",2\\n17.89,2,\"Male\",\"Yes\",\"Sun\",\"Dinner\",2\\n14.48,2,\"Male\",\"Yes\",\"Sun\",\"Dinner\",2\\n9.6,4,\"Female\",\"Yes\",\"Sun\",\"Dinner\",2\\n34.63,3.55,\"Male\",\"Yes\",\"Sun\",\"Dinner\",2\\n34.65,3.68,\"Male\",\"Yes\",\"Sun\",\"Dinner\",4\\n23.33,5.65,\"Male\",\"Yes\",\"Sun\",\"Dinner\",2\\n45.35,3.5,\"Male\",\"Yes\",\"Sun\",\"Dinner\",3\\n23.17,6.5,\"Male\",\"Yes\",\"Sun\",\"Dinner\",4\\n40.55,3,\"Male\",\"Yes\",\"Sun\",\"Dinner\",2\\n20.69,5,\"Male\",\"No\",\"Sun\",\"Dinner\",5\\n20.9,3.5,\"Female\",\"Yes\",\"Sun\",\"Dinner\",3\\n30.46,2,\"Male\",\"Yes\",\"Sun\",\"Dinner\",5\\n18.15,3.5,\"Female\",\"Yes\",\"Sun\",\"Dinner\",3\\n23.1,4,\"Male\",\"Yes\",\"Sun\",\"Dinner\",3\\n15.69,1.5,\"Male\",\"Yes\",\"Sun\",\"Dinner\",2\\n19.81,4.19,\"Female\",\"Yes\",\"Thur\",\"Lunch\",2\\n28.44,2.56,\"Male\",\"Yes\",\"Thur\",\"Lunch\",2\\n15.48,2.02,\"Male\",\"Yes\",\"Thur\",\"Lunch\",2\\n16.58,4,\"Male\",\"Yes\",\"Thur\",\"Lunch\",2\\n7.56,1.44,\"Male\",\"No\",\"Thur\",\"Lunch\",2\\n10.34,2,\"Male\",\"Yes\",\"Thur\",\"Lunch\",2\\n43.11,5,\"Female\",\"Yes\",\"Thur\",\"Lunch\",4\\n13,2,\"Female\",\"Yes\",\"Thur\",\"Lunch\",2\\n13.51,2,\"Male\",\"Yes\",\"Thur\",\"Lunch\",2\\n18.71,4,\"Male\",\"Yes\",\"Thur\",\"Lunch\",3\\n12.74,2.01,\"Female\",\"Yes\",\"Thur\",\"Lunch\",2\\n13,2,\"Female\",\"Yes\",\"Thur\",\"Lunch\",2\\n16.4,2.5,\"Female\",\"Yes\",\"Thur\",\"Lunch\",2\\n20.53,4,\"Male\",\"Yes\",\"Thur\",\"Lunch\",4\\n16.47,3.23,\"Female\",\"Yes\",\"Thur\",\"Lunch\",3\\n26.59,3.41,\"Male\",\"Yes\",\"Sat\",\"Dinner\",3\\n38.73,3,\"Male\",\"Yes\",\"Sat\",\"Dinner\",4\\n24.27,2.03,\"Male\",\"Yes\",\"Sat\",\"Dinner\",2\\n12.76,2.23,\"Female\",\"Yes\",\"Sat\",\"Dinner\",2\\n30.06,2,\"Male\",\"Yes\",\"Sat\",\"Dinner\",3\\n25.89,5.16,\"Male\",\"Yes\",\"Sat\",\"Dinner\",4\\n48.33,9,\"Male\",\"No\",\"Sat\",\"Dinner\",4\\n13.27,2.5,\"Female\",\"Yes\",\"Sat\",\"Dinner\",2\\n28.17,6.5,\"Female\",\"Yes\",\"Sat\",\"Dinner\",3\\n12.9,1.1,\"Female\",\"Yes\",\"Sat\",\"Dinner\",2\\n28.15,3,\"Male\",\"Yes\",\"Sat\",\"Dinner\",5\\n11.59,1.5,\"Male\",\"Yes\",\"Sat\",\"Dinner\",2\\n7.74,1.44,\"Male\",\"Yes\",\"Sat\",\"Dinner\",2\\n30.14,3.09,\"Female\",\"Yes\",\"Sat\",\"Dinner\",4\\n12.16,2.2,\"Male\",\"Yes\",\"Fri\",\"Lunch\",2\\n13.42,3.48,\"Female\",\"Yes\",\"Fri\",\"Lunch\",2\\n8.58,1.92,\"Male\",\"Yes\",\"Fri\",\"Lunch\",1\\n15.98,3,\"Female\",\"No\",\"Fri\",\"Lunch\",3\\n13.42,1.58,\"Male\",\"Yes\",\"Fri\",\"Lunch\",2\\n16.27,2.5,\"Female\",\"Yes\",\"Fri\",\"Lunch\",2\\n10.09,2,\"Female\",\"Yes\",\"Fri\",\"Lunch\",2\\n20.45,3,\"Male\",\"No\",\"Sat\",\"Dinner\",4\\n13.28,2.72,\"Male\",\"No\",\"Sat\",\"Dinner\",2\\n22.12,2.88,\"Female\",\"Yes\",\"Sat\",\"Dinner\",2\\n24.01,2,\"Male\",\"Yes\",\"Sat\",\"Dinner\",4\\n15.69,3,\"Male\",\"Yes\",\"Sat\",\"Dinner\",3\\n11.61,3.39,\"Male\",\"No\",\"Sat\",\"Dinner\",2\\n10.77,1.47,\"Male\",\"No\",\"Sat\",\"Dinner\",2\\n15.53,3,\"Male\",\"Yes\",\"Sat\",\"Dinner\",2\\n10.07,1.25,\"Male\",\"No\",\"Sat\",\"Dinner\",2\\n12.6,1,\"Male\",\"Yes\",\"Sat\",\"Dinner\",2\\n32.83,1.17,\"Male\",\"Yes\",\"Sat\",\"Dinner\",2\\n35.83,4.67,\"Female\",\"No\",\"Sat\",\"Dinner\",3\\n29.03,5.92,\"Male\",\"No\",\"Sat\",\"Dinner\",3\\n27.18,2,\"Female\",\"Yes\",\"Sat\",\"Dinner\",2\\n22.67,2,\"Male\",\"Yes\",\"Sat\",\"Dinner\",2\\n17.82,1.75,\"Male\",\"No\",\"Sat\",\"Dinner\",2\\n18.78,3,\"Female\",\"No\",\"Thur\",\"Dinner\",2\\n'"
      ]
     },
     "execution_count": 6,
     "metadata": {},
     "output_type": "execute_result"
    }
   ],
   "source": [
    "t"
   ]
  },
  {
   "cell_type": "code",
   "execution_count": 7,
   "id": "bca569be-a014-4ed2-9897-4116fccda3ea",
   "metadata": {},
   "outputs": [],
   "source": [
    "df = pd.read_csv(io.StringIO(t))"
   ]
  },
  {
   "cell_type": "code",
   "execution_count": 8,
   "id": "acbc80ac-b135-4f6a-857d-e4e58d9861e0",
   "metadata": {},
   "outputs": [
    {
     "data": {
      "text/html": [
       "<div>\n",
       "<style scoped>\n",
       "    .dataframe tbody tr th:only-of-type {\n",
       "        vertical-align: middle;\n",
       "    }\n",
       "\n",
       "    .dataframe tbody tr th {\n",
       "        vertical-align: top;\n",
       "    }\n",
       "\n",
       "    .dataframe thead th {\n",
       "        text-align: right;\n",
       "    }\n",
       "</style>\n",
       "<table border=\"1\" class=\"dataframe\">\n",
       "  <thead>\n",
       "    <tr style=\"text-align: right;\">\n",
       "      <th></th>\n",
       "      <th>total_bill</th>\n",
       "      <th>tip</th>\n",
       "      <th>sex</th>\n",
       "      <th>smoker</th>\n",
       "      <th>day</th>\n",
       "      <th>time</th>\n",
       "      <th>size</th>\n",
       "    </tr>\n",
       "  </thead>\n",
       "  <tbody>\n",
       "    <tr>\n",
       "      <th>0</th>\n",
       "      <td>16.99</td>\n",
       "      <td>1.01</td>\n",
       "      <td>Female</td>\n",
       "      <td>No</td>\n",
       "      <td>Sun</td>\n",
       "      <td>Dinner</td>\n",
       "      <td>2</td>\n",
       "    </tr>\n",
       "    <tr>\n",
       "      <th>1</th>\n",
       "      <td>10.34</td>\n",
       "      <td>1.66</td>\n",
       "      <td>Male</td>\n",
       "      <td>No</td>\n",
       "      <td>Sun</td>\n",
       "      <td>Dinner</td>\n",
       "      <td>3</td>\n",
       "    </tr>\n",
       "    <tr>\n",
       "      <th>2</th>\n",
       "      <td>21.01</td>\n",
       "      <td>3.50</td>\n",
       "      <td>Male</td>\n",
       "      <td>No</td>\n",
       "      <td>Sun</td>\n",
       "      <td>Dinner</td>\n",
       "      <td>3</td>\n",
       "    </tr>\n",
       "    <tr>\n",
       "      <th>3</th>\n",
       "      <td>23.68</td>\n",
       "      <td>3.31</td>\n",
       "      <td>Male</td>\n",
       "      <td>No</td>\n",
       "      <td>Sun</td>\n",
       "      <td>Dinner</td>\n",
       "      <td>2</td>\n",
       "    </tr>\n",
       "    <tr>\n",
       "      <th>4</th>\n",
       "      <td>24.59</td>\n",
       "      <td>3.61</td>\n",
       "      <td>Female</td>\n",
       "      <td>No</td>\n",
       "      <td>Sun</td>\n",
       "      <td>Dinner</td>\n",
       "      <td>4</td>\n",
       "    </tr>\n",
       "    <tr>\n",
       "      <th>...</th>\n",
       "      <td>...</td>\n",
       "      <td>...</td>\n",
       "      <td>...</td>\n",
       "      <td>...</td>\n",
       "      <td>...</td>\n",
       "      <td>...</td>\n",
       "      <td>...</td>\n",
       "    </tr>\n",
       "    <tr>\n",
       "      <th>239</th>\n",
       "      <td>29.03</td>\n",
       "      <td>5.92</td>\n",
       "      <td>Male</td>\n",
       "      <td>No</td>\n",
       "      <td>Sat</td>\n",
       "      <td>Dinner</td>\n",
       "      <td>3</td>\n",
       "    </tr>\n",
       "    <tr>\n",
       "      <th>240</th>\n",
       "      <td>27.18</td>\n",
       "      <td>2.00</td>\n",
       "      <td>Female</td>\n",
       "      <td>Yes</td>\n",
       "      <td>Sat</td>\n",
       "      <td>Dinner</td>\n",
       "      <td>2</td>\n",
       "    </tr>\n",
       "    <tr>\n",
       "      <th>241</th>\n",
       "      <td>22.67</td>\n",
       "      <td>2.00</td>\n",
       "      <td>Male</td>\n",
       "      <td>Yes</td>\n",
       "      <td>Sat</td>\n",
       "      <td>Dinner</td>\n",
       "      <td>2</td>\n",
       "    </tr>\n",
       "    <tr>\n",
       "      <th>242</th>\n",
       "      <td>17.82</td>\n",
       "      <td>1.75</td>\n",
       "      <td>Male</td>\n",
       "      <td>No</td>\n",
       "      <td>Sat</td>\n",
       "      <td>Dinner</td>\n",
       "      <td>2</td>\n",
       "    </tr>\n",
       "    <tr>\n",
       "      <th>243</th>\n",
       "      <td>18.78</td>\n",
       "      <td>3.00</td>\n",
       "      <td>Female</td>\n",
       "      <td>No</td>\n",
       "      <td>Thur</td>\n",
       "      <td>Dinner</td>\n",
       "      <td>2</td>\n",
       "    </tr>\n",
       "  </tbody>\n",
       "</table>\n",
       "<p>244 rows × 7 columns</p>\n",
       "</div>"
      ],
      "text/plain": [
       "     total_bill   tip     sex smoker   day    time  size\n",
       "0         16.99  1.01  Female     No   Sun  Dinner     2\n",
       "1         10.34  1.66    Male     No   Sun  Dinner     3\n",
       "2         21.01  3.50    Male     No   Sun  Dinner     3\n",
       "3         23.68  3.31    Male     No   Sun  Dinner     2\n",
       "4         24.59  3.61  Female     No   Sun  Dinner     4\n",
       "..          ...   ...     ...    ...   ...     ...   ...\n",
       "239       29.03  5.92    Male     No   Sat  Dinner     3\n",
       "240       27.18  2.00  Female    Yes   Sat  Dinner     2\n",
       "241       22.67  2.00    Male    Yes   Sat  Dinner     2\n",
       "242       17.82  1.75    Male     No   Sat  Dinner     2\n",
       "243       18.78  3.00  Female     No  Thur  Dinner     2\n",
       "\n",
       "[244 rows x 7 columns]"
      ]
     },
     "execution_count": 8,
     "metadata": {},
     "output_type": "execute_result"
    }
   ],
   "source": [
    "df"
   ]
  },
  {
   "cell_type": "code",
   "execution_count": 9,
   "id": "60977c58-b746-40cf-9f7c-b1cb071a8c55",
   "metadata": {},
   "outputs": [
    {
     "ename": "OSError",
     "evalue": "[Errno 63] File name too long: '\"total_bill\",\"tip\",\"sex\",\"smoker\",\"day\",\"time\",\"size\"\\n16.99,1.01,\"Female\",\"No\",\"Sun\",\"Dinner\",2\\n10.34,1.66,\"Male\",\"No\",\"Sun\",\"Dinner\",3\\n21.01,3.5,\"Male\",\"No\",\"Sun\",\"Dinner\",3\\n23.68,3.31,\"Male\",\"No\",\"Sun\",\"Dinner\",2\\n24.59,3.61,\"Female\",\"No\",\"Sun\",\"Dinner\",4\\n25.29,4.71,\"Male\",\"No\",\"Sun\",\"Dinner\",4\\n8.77,2,\"Male\",\"No\",\"Sun\",\"Dinner\",2\\n26.88,3.12,\"Male\",\"No\",\"Sun\",\"Dinner\",4\\n15.04,1.96,\"Male\",\"No\",\"Sun\",\"Dinner\",2\\n14.78,3.23,\"Male\",\"No\",\"Sun\",\"Dinner\",2\\n10.27,1.71,\"Male\",\"No\",\"Sun\",\"Dinner\",2\\n35.26,5,\"Female\",\"No\",\"Sun\",\"Dinner\",4\\n15.42,1.57,\"Male\",\"No\",\"Sun\",\"Dinner\",2\\n18.43,3,\"Male\",\"No\",\"Sun\",\"Dinner\",4\\n14.83,3.02,\"Female\",\"No\",\"Sun\",\"Dinner\",2\\n21.58,3.92,\"Male\",\"No\",\"Sun\",\"Dinner\",2\\n10.33,1.67,\"Female\",\"No\",\"Sun\",\"Dinner\",3\\n16.29,3.71,\"Male\",\"No\",\"Sun\",\"Dinner\",3\\n16.97,3.5,\"Female\",\"No\",\"Sun\",\"Dinner\",3\\n20.65,3.35,\"Male\",\"No\",\"Sat\",\"Dinner\",3\\n17.92,4.08,\"Male\",\"No\",\"Sat\",\"Dinner\",2\\n20.29,2.75,\"Female\",\"No\",\"Sat\",\"Dinner\",2\\n15.77,2.23,\"Female\",\"No\",\"Sat\",\"Dinner\",2\\n39.42,7.58,\"Male\",\"No\",\"Sat\",\"Dinner\",4\\n19.82,3.18,\"Male\",\"No\",\"Sat\",\"Dinner\",2\\n17.81,2.34,\"Male\",\"No\",\"Sat\",\"Dinner\",4\\n13.37,2,\"Male\",\"No\",\"Sat\",\"Dinner\",2\\n12.69,2,\"Male\",\"No\",\"Sat\",\"Dinner\",2\\n21.7,4.3,\"Male\",\"No\",\"Sat\",\"Dinner\",2\\n19.65,3,\"Female\",\"No\",\"Sat\",\"Dinner\",2\\n9.55,1.45,\"Male\",\"No\",\"Sat\",\"Dinner\",2\\n18.35,2.5,\"Male\",\"No\",\"Sat\",\"Dinner\",4\\n15.06,3,\"Female\",\"No\",\"Sat\",\"Dinner\",2\\n20.69,2.45,\"Female\",\"No\",\"Sat\",\"Dinner\",4\\n17.78,3.27,\"Male\",\"No\",\"Sat\",\"Dinner\",2\\n24.06,3.6,\"Male\",\"No\",\"Sat\",\"Dinner\",3\\n16.31,2,\"Male\",\"No\",\"Sat\",\"Dinner\",3\\n16.93,3.07,\"Female\",\"No\",\"Sat\",\"Dinner\",3\\n18.69,2.31,\"Male\",\"No\",\"Sat\",\"Dinner\",3\\n31.27,5,\"Male\",\"No\",\"Sat\",\"Dinner\",3\\n16.04,2.24,\"Male\",\"No\",\"Sat\",\"Dinner\",3\\n17.46,2.54,\"Male\",\"No\",\"Sun\",\"Dinner\",2\\n13.94,3.06,\"Male\",\"No\",\"Sun\",\"Dinner\",2\\n9.68,1.32,\"Male\",\"No\",\"Sun\",\"Dinner\",2\\n30.4,5.6,\"Male\",\"No\",\"Sun\",\"Dinner\",4\\n18.29,3,\"Male\",\"No\",\"Sun\",\"Dinner\",2\\n22.23,5,\"Male\",\"No\",\"Sun\",\"Dinner\",2\\n32.4,6,\"Male\",\"No\",\"Sun\",\"Dinner\",4\\n28.55,2.05,\"Male\",\"No\",\"Sun\",\"Dinner\",3\\n18.04,3,\"Male\",\"No\",\"Sun\",\"Dinner\",2\\n12.54,2.5,\"Male\",\"No\",\"Sun\",\"Dinner\",2\\n10.29,2.6,\"Female\",\"No\",\"Sun\",\"Dinner\",2\\n34.81,5.2,\"Female\",\"No\",\"Sun\",\"Dinner\",4\\n9.94,1.56,\"Male\",\"No\",\"Sun\",\"Dinner\",2\\n25.56,4.34,\"Male\",\"No\",\"Sun\",\"Dinner\",4\\n19.49,3.51,\"Male\",\"No\",\"Sun\",\"Dinner\",2\\n38.01,3,\"Male\",\"Yes\",\"Sat\",\"Dinner\",4\\n26.41,1.5,\"Female\",\"No\",\"Sat\",\"Dinner\",2\\n11.24,1.76,\"Male\",\"Yes\",\"Sat\",\"Dinner\",2\\n48.27,6.73,\"Male\",\"No\",\"Sat\",\"Dinner\",4\\n20.29,3.21,\"Male\",\"Yes\",\"Sat\",\"Dinner\",2\\n13.81,2,\"Male\",\"Yes\",\"Sat\",\"Dinner\",2\\n11.02,1.98,\"Male\",\"Yes\",\"Sat\",\"Dinner\",2\\n18.29,3.76,\"Male\",\"Yes\",\"Sat\",\"Dinner\",4\\n17.59,2.64,\"Male\",\"No\",\"Sat\",\"Dinner\",3\\n20.08,3.15,\"Male\",\"No\",\"Sat\",\"Dinner\",3\\n16.45,2.47,\"Female\",\"No\",\"Sat\",\"Dinner\",2\\n3.07,1,\"Female\",\"Yes\",\"Sat\",\"Dinner\",1\\n20.23,2.01,\"Male\",\"No\",\"Sat\",\"Dinner\",2\\n15.01,2.09,\"Male\",\"Yes\",\"Sat\",\"Dinner\",2\\n12.02,1.97,\"Male\",\"No\",\"Sat\",\"Dinner\",2\\n17.07,3,\"Female\",\"No\",\"Sat\",\"Dinner\",3\\n26.86,3.14,\"Female\",\"Yes\",\"Sat\",\"Dinner\",2\\n25.28,5,\"Female\",\"Yes\",\"Sat\",\"Dinner\",2\\n14.73,2.2,\"Female\",\"No\",\"Sat\",\"Dinner\",2\\n10.51,1.25,\"Male\",\"No\",\"Sat\",\"Dinner\",2\\n17.92,3.08,\"Male\",\"Yes\",\"Sat\",\"Dinner\",2\\n27.2,4,\"Male\",\"No\",\"Thur\",\"Lunch\",4\\n22.76,3,\"Male\",\"No\",\"Thur\",\"Lunch\",2\\n17.29,2.71,\"Male\",\"No\",\"Thur\",\"Lunch\",2\\n19.44,3,\"Male\",\"Yes\",\"Thur\",\"Lunch\",2\\n16.66,3.4,\"Male\",\"No\",\"Thur\",\"Lunch\",2\\n10.07,1.83,\"Female\",\"No\",\"Thur\",\"Lunch\",1\\n32.68,5,\"Male\",\"Yes\",\"Thur\",\"Lunch\",2\\n15.98,2.03,\"Male\",\"No\",\"Thur\",\"Lunch\",2\\n34.83,5.17,\"Female\",\"No\",\"Thur\",\"Lunch\",4\\n13.03,2,\"Male\",\"No\",\"Thur\",\"Lunch\",2\\n18.28,4,\"Male\",\"No\",\"Thur\",\"Lunch\",2\\n24.71,5.85,\"Male\",\"No\",\"Thur\",\"Lunch\",2\\n21.16,3,\"Male\",\"No\",\"Thur\",\"Lunch\",2\\n28.97,3,\"Male\",\"Yes\",\"Fri\",\"Dinner\",2\\n22.49,3.5,\"Male\",\"No\",\"Fri\",\"Dinner\",2\\n5.75,1,\"Female\",\"Yes\",\"Fri\",\"Dinner\",2\\n16.32,4.3,\"Female\",\"Yes\",\"Fri\",\"Dinner\",2\\n22.75,3.25,\"Female\",\"No\",\"Fri\",\"Dinner\",2\\n40.17,4.73,\"Male\",\"Yes\",\"Fri\",\"Dinner\",4\\n27.28,4,\"Male\",\"Yes\",\"Fri\",\"Dinner\",2\\n12.03,1.5,\"Male\",\"Yes\",\"Fri\",\"Dinner\",2\\n21.01,3,\"Male\",\"Yes\",\"Fri\",\"Dinner\",2\\n12.46,1.5,\"Male\",\"No\",\"Fri\",\"Dinner\",2\\n11.35,2.5,\"Female\",\"Yes\",\"Fri\",\"Dinner\",2\\n15.38,3,\"Female\",\"Yes\",\"Fri\",\"Dinner\",2\\n44.3,2.5,\"Female\",\"Yes\",\"Sat\",\"Dinner\",3\\n22.42,3.48,\"Female\",\"Yes\",\"Sat\",\"Dinner\",2\\n20.92,4.08,\"Female\",\"No\",\"Sat\",\"Dinner\",2\\n15.36,1.64,\"Male\",\"Yes\",\"Sat\",\"Dinner\",2\\n20.49,4.06,\"Male\",\"Yes\",\"Sat\",\"Dinner\",2\\n25.21,4.29,\"Male\",\"Yes\",\"Sat\",\"Dinner\",2\\n18.24,3.76,\"Male\",\"No\",\"Sat\",\"Dinner\",2\\n14.31,4,\"Female\",\"Yes\",\"Sat\",\"Dinner\",2\\n14,3,\"Male\",\"No\",\"Sat\",\"Dinner\",2\\n7.25,1,\"Female\",\"No\",\"Sat\",\"Dinner\",1\\n38.07,4,\"Male\",\"No\",\"Sun\",\"Dinner\",3\\n23.95,2.55,\"Male\",\"No\",\"Sun\",\"Dinner\",2\\n25.71,4,\"Female\",\"No\",\"Sun\",\"Dinner\",3\\n17.31,3.5,\"Female\",\"No\",\"Sun\",\"Dinner\",2\\n29.93,5.07,\"Male\",\"No\",\"Sun\",\"Dinner\",4\\n10.65,1.5,\"Female\",\"No\",\"Thur\",\"Lunch\",2\\n12.43,1.8,\"Female\",\"No\",\"Thur\",\"Lunch\",2\\n24.08,2.92,\"Female\",\"No\",\"Thur\",\"Lunch\",4\\n11.69,2.31,\"Male\",\"No\",\"Thur\",\"Lunch\",2\\n13.42,1.68,\"Female\",\"No\",\"Thur\",\"Lunch\",2\\n14.26,2.5,\"Male\",\"No\",\"Thur\",\"Lunch\",2\\n15.95,2,\"Male\",\"No\",\"Thur\",\"Lunch\",2\\n12.48,2.52,\"Female\",\"No\",\"Thur\",\"Lunch\",2\\n29.8,4.2,\"Female\",\"No\",\"Thur\",\"Lunch\",6\\n8.52,1.48,\"Male\",\"No\",\"Thur\",\"Lunch\",2\\n14.52,2,\"Female\",\"No\",\"Thur\",\"Lunch\",2\\n11.38,2,\"Female\",\"No\",\"Thur\",\"Lunch\",2\\n22.82,2.18,\"Male\",\"No\",\"Thur\",\"Lunch\",3\\n19.08,1.5,\"Male\",\"No\",\"Thur\",\"Lunch\",2\\n20.27,2.83,\"Female\",\"No\",\"Thur\",\"Lunch\",2\\n11.17,1.5,\"Female\",\"No\",\"Thur\",\"Lunch\",2\\n12.26,2,\"Female\",\"No\",\"Thur\",\"Lunch\",2\\n18.26,3.25,\"Female\",\"No\",\"Thur\",\"Lunch\",2\\n8.51,1.25,\"Female\",\"No\",\"Thur\",\"Lunch\",2\\n10.33,2,\"Female\",\"No\",\"Thur\",\"Lunch\",2\\n14.15,2,\"Female\",\"No\",\"Thur\",\"Lunch\",2\\n16,2,\"Male\",\"Yes\",\"Thur\",\"Lunch\",2\\n13.16,2.75,\"Female\",\"No\",\"Thur\",\"Lunch\",2\\n17.47,3.5,\"Female\",\"No\",\"Thur\",\"Lunch\",2\\n34.3,6.7,\"Male\",\"No\",\"Thur\",\"Lunch\",6\\n41.19,5,\"Male\",\"No\",\"Thur\",\"Lunch\",5\\n27.05,5,\"Female\",\"No\",\"Thur\",\"Lunch\",6\\n16.43,2.3,\"Female\",\"No\",\"Thur\",\"Lunch\",2\\n8.35,1.5,\"Female\",\"No\",\"Thur\",\"Lunch\",2\\n18.64,1.36,\"Female\",\"No\",\"Thur\",\"Lunch\",3\\n11.87,1.63,\"Female\",\"No\",\"Thur\",\"Lunch\",2\\n9.78,1.73,\"Male\",\"No\",\"Thur\",\"Lunch\",2\\n7.51,2,\"Male\",\"No\",\"Thur\",\"Lunch\",2\\n14.07,2.5,\"Male\",\"No\",\"Sun\",\"Dinner\",2\\n13.13,2,\"Male\",\"No\",\"Sun\",\"Dinner\",2\\n17.26,2.74,\"Male\",\"No\",\"Sun\",\"Dinner\",3\\n24.55,2,\"Male\",\"No\",\"Sun\",\"Dinner\",4\\n19.77,2,\"Male\",\"No\",\"Sun\",\"Dinner\",4\\n29.85,5.14,\"Female\",\"No\",\"Sun\",\"Dinner\",5\\n48.17,5,\"Male\",\"No\",\"Sun\",\"Dinner\",6\\n25,3.75,\"Female\",\"No\",\"Sun\",\"Dinner\",4\\n13.39,2.61,\"Female\",\"No\",\"Sun\",\"Dinner\",2\\n16.49,2,\"Male\",\"No\",\"Sun\",\"Dinner\",4\\n21.5,3.5,\"Male\",\"No\",\"Sun\",\"Dinner\",4\\n12.66,2.5,\"Male\",\"No\",\"Sun\",\"Dinner\",2\\n16.21,2,\"Female\",\"No\",\"Sun\",\"Dinner\",3\\n13.81,2,\"Male\",\"No\",\"Sun\",\"Dinner\",2\\n17.51,3,\"Female\",\"Yes\",\"Sun\",\"Dinner\",2\\n24.52,3.48,\"Male\",\"No\",\"Sun\",\"Dinner\",3\\n20.76,2.24,\"Male\",\"No\",\"Sun\",\"Dinner\",2\\n31.71,4.5,\"Male\",\"No\",\"Sun\",\"Dinner\",4\\n10.59,1.61,\"Female\",\"Yes\",\"Sat\",\"Dinner\",2\\n10.63,2,\"Female\",\"Yes\",\"Sat\",\"Dinner\",2\\n50.81,10,\"Male\",\"Yes\",\"Sat\",\"Dinner\",3\\n15.81,3.16,\"Male\",\"Yes\",\"Sat\",\"Dinner\",2\\n7.25,5.15,\"Male\",\"Yes\",\"Sun\",\"Dinner\",2\\n31.85,3.18,\"Male\",\"Yes\",\"Sun\",\"Dinner\",2\\n16.82,4,\"Male\",\"Yes\",\"Sun\",\"Dinner\",2\\n32.9,3.11,\"Male\",\"Yes\",\"Sun\",\"Dinner\",2\\n17.89,2,\"Male\",\"Yes\",\"Sun\",\"Dinner\",2\\n14.48,2,\"Male\",\"Yes\",\"Sun\",\"Dinner\",2\\n9.6,4,\"Female\",\"Yes\",\"Sun\",\"Dinner\",2\\n34.63,3.55,\"Male\",\"Yes\",\"Sun\",\"Dinner\",2\\n34.65,3.68,\"Male\",\"Yes\",\"Sun\",\"Dinner\",4\\n23.33,5.65,\"Male\",\"Yes\",\"Sun\",\"Dinner\",2\\n45.35,3.5,\"Male\",\"Yes\",\"Sun\",\"Dinner\",3\\n23.17,6.5,\"Male\",\"Yes\",\"Sun\",\"Dinner\",4\\n40.55,3,\"Male\",\"Yes\",\"Sun\",\"Dinner\",2\\n20.69,5,\"Male\",\"No\",\"Sun\",\"Dinner\",5\\n20.9,3.5,\"Female\",\"Yes\",\"Sun\",\"Dinner\",3\\n30.46,2,\"Male\",\"Yes\",\"Sun\",\"Dinner\",5\\n18.15,3.5,\"Female\",\"Yes\",\"Sun\",\"Dinner\",3\\n23.1,4,\"Male\",\"Yes\",\"Sun\",\"Dinner\",3\\n15.69,1.5,\"Male\",\"Yes\",\"Sun\",\"Dinner\",2\\n19.81,4.19,\"Female\",\"Yes\",\"Thur\",\"Lunch\",2\\n28.44,2.56,\"Male\",\"Yes\",\"Thur\",\"Lunch\",2\\n15.48,2.02,\"Male\",\"Yes\",\"Thur\",\"Lunch\",2\\n16.58,4,\"Male\",\"Yes\",\"Thur\",\"Lunch\",2\\n7.56,1.44,\"Male\",\"No\",\"Thur\",\"Lunch\",2\\n10.34,2,\"Male\",\"Yes\",\"Thur\",\"Lunch\",2\\n43.11,5,\"Female\",\"Yes\",\"Thur\",\"Lunch\",4\\n13,2,\"Female\",\"Yes\",\"Thur\",\"Lunch\",2\\n13.51,2,\"Male\",\"Yes\",\"Thur\",\"Lunch\",2\\n18.71,4,\"Male\",\"Yes\",\"Thur\",\"Lunch\",3\\n12.74,2.01,\"Female\",\"Yes\",\"Thur\",\"Lunch\",2\\n13,2,\"Female\",\"Yes\",\"Thur\",\"Lunch\",2\\n16.4,2.5,\"Female\",\"Yes\",\"Thur\",\"Lunch\",2\\n20.53,4,\"Male\",\"Yes\",\"Thur\",\"Lunch\",4\\n16.47,3.23,\"Female\",\"Yes\",\"Thur\",\"Lunch\",3\\n26.59,3.41,\"Male\",\"Yes\",\"Sat\",\"Dinner\",3\\n38.73,3,\"Male\",\"Yes\",\"Sat\",\"Dinner\",4\\n24.27,2.03,\"Male\",\"Yes\",\"Sat\",\"Dinner\",2\\n12.76,2.23,\"Female\",\"Yes\",\"Sat\",\"Dinner\",2\\n30.06,2,\"Male\",\"Yes\",\"Sat\",\"Dinner\",3\\n25.89,5.16,\"Male\",\"Yes\",\"Sat\",\"Dinner\",4\\n48.33,9,\"Male\",\"No\",\"Sat\",\"Dinner\",4\\n13.27,2.5,\"Female\",\"Yes\",\"Sat\",\"Dinner\",2\\n28.17,6.5,\"Female\",\"Yes\",\"Sat\",\"Dinner\",3\\n12.9,1.1,\"Female\",\"Yes\",\"Sat\",\"Dinner\",2\\n28.15,3,\"Male\",\"Yes\",\"Sat\",\"Dinner\",5\\n11.59,1.5,\"Male\",\"Yes\",\"Sat\",\"Dinner\",2\\n7.74,1.44,\"Male\",\"Yes\",\"Sat\",\"Dinner\",2\\n30.14,3.09,\"Female\",\"Yes\",\"Sat\",\"Dinner\",4\\n12.16,2.2,\"Male\",\"Yes\",\"Fri\",\"Lunch\",2\\n13.42,3.48,\"Female\",\"Yes\",\"Fri\",\"Lunch\",2\\n8.58,1.92,\"Male\",\"Yes\",\"Fri\",\"Lunch\",1\\n15.98,3,\"Female\",\"No\",\"Fri\",\"Lunch\",3\\n13.42,1.58,\"Male\",\"Yes\",\"Fri\",\"Lunch\",2\\n16.27,2.5,\"Female\",\"Yes\",\"Fri\",\"Lunch\",2\\n10.09,2,\"Female\",\"Yes\",\"Fri\",\"Lunch\",2\\n20.45,3,\"Male\",\"No\",\"Sat\",\"Dinner\",4\\n13.28,2.72,\"Male\",\"No\",\"Sat\",\"Dinner\",2\\n22.12,2.88,\"Female\",\"Yes\",\"Sat\",\"Dinner\",2\\n24.01,2,\"Male\",\"Yes\",\"Sat\",\"Dinner\",4\\n15.69,3,\"Male\",\"Yes\",\"Sat\",\"Dinner\",3\\n11.61,3.39,\"Male\",\"No\",\"Sat\",\"Dinner\",2\\n10.77,1.47,\"Male\",\"No\",\"Sat\",\"Dinner\",2\\n15.53,3,\"Male\",\"Yes\",\"Sat\",\"Dinner\",2\\n10.07,1.25,\"Male\",\"No\",\"Sat\",\"Dinner\",2\\n12.6,1,\"Male\",\"Yes\",\"Sat\",\"Dinner\",2\\n32.83,1.17,\"Male\",\"Yes\",\"Sat\",\"Dinner\",2\\n35.83,4.67,\"Female\",\"No\",\"Sat\",\"Dinner\",3\\n29.03,5.92,\"Male\",\"No\",\"Sat\",\"Dinner\",3\\n27.18,2,\"Female\",\"Yes\",\"Sat\",\"Dinner\",2\\n22.67,2,\"Male\",\"Yes\",\"Sat\",\"Dinner\",2\\n17.82,1.75,\"Male\",\"No\",\"Sat\",\"Dinner\",2\\n18.78,3,\"Female\",\"No\",\"Thur\",\"Dinner\",2\\n'",
     "output_type": "error",
     "traceback": [
      "\u001b[0;31m---------------------------------------------------------------------------\u001b[0m",
      "\u001b[0;31mOSError\u001b[0m                                   Traceback (most recent call last)",
      "Cell \u001b[0;32mIn[9], line 1\u001b[0m\n\u001b[0;32m----> 1\u001b[0m df \u001b[38;5;241m=\u001b[39m \u001b[43mpd\u001b[49m\u001b[38;5;241;43m.\u001b[39;49m\u001b[43mread_csv\u001b[49m\u001b[43m(\u001b[49m\u001b[43mt\u001b[49m\u001b[43m)\u001b[49m\n",
      "File \u001b[0;32m~/_Git/_venv/lib/python3.11/site-packages/pandas/io/parsers/readers.py:1024\u001b[0m, in \u001b[0;36mread_csv\u001b[0;34m(filepath_or_buffer, sep, delimiter, header, names, index_col, usecols, dtype, engine, converters, true_values, false_values, skipinitialspace, skiprows, skipfooter, nrows, na_values, keep_default_na, na_filter, verbose, skip_blank_lines, parse_dates, infer_datetime_format, keep_date_col, date_parser, date_format, dayfirst, cache_dates, iterator, chunksize, compression, thousands, decimal, lineterminator, quotechar, quoting, doublequote, escapechar, comment, encoding, encoding_errors, dialect, on_bad_lines, delim_whitespace, low_memory, memory_map, float_precision, storage_options, dtype_backend)\u001b[0m\n\u001b[1;32m   1011\u001b[0m kwds_defaults \u001b[38;5;241m=\u001b[39m _refine_defaults_read(\n\u001b[1;32m   1012\u001b[0m     dialect,\n\u001b[1;32m   1013\u001b[0m     delimiter,\n\u001b[0;32m   (...)\u001b[0m\n\u001b[1;32m   1020\u001b[0m     dtype_backend\u001b[38;5;241m=\u001b[39mdtype_backend,\n\u001b[1;32m   1021\u001b[0m )\n\u001b[1;32m   1022\u001b[0m kwds\u001b[38;5;241m.\u001b[39mupdate(kwds_defaults)\n\u001b[0;32m-> 1024\u001b[0m \u001b[38;5;28;01mreturn\u001b[39;00m \u001b[43m_read\u001b[49m\u001b[43m(\u001b[49m\u001b[43mfilepath_or_buffer\u001b[49m\u001b[43m,\u001b[49m\u001b[43m \u001b[49m\u001b[43mkwds\u001b[49m\u001b[43m)\u001b[49m\n",
      "File \u001b[0;32m~/_Git/_venv/lib/python3.11/site-packages/pandas/io/parsers/readers.py:618\u001b[0m, in \u001b[0;36m_read\u001b[0;34m(filepath_or_buffer, kwds)\u001b[0m\n\u001b[1;32m    615\u001b[0m _validate_names(kwds\u001b[38;5;241m.\u001b[39mget(\u001b[38;5;124m\"\u001b[39m\u001b[38;5;124mnames\u001b[39m\u001b[38;5;124m\"\u001b[39m, \u001b[38;5;28;01mNone\u001b[39;00m))\n\u001b[1;32m    617\u001b[0m \u001b[38;5;66;03m# Create the parser.\u001b[39;00m\n\u001b[0;32m--> 618\u001b[0m parser \u001b[38;5;241m=\u001b[39m \u001b[43mTextFileReader\u001b[49m\u001b[43m(\u001b[49m\u001b[43mfilepath_or_buffer\u001b[49m\u001b[43m,\u001b[49m\u001b[43m \u001b[49m\u001b[38;5;241;43m*\u001b[39;49m\u001b[38;5;241;43m*\u001b[39;49m\u001b[43mkwds\u001b[49m\u001b[43m)\u001b[49m\n\u001b[1;32m    620\u001b[0m \u001b[38;5;28;01mif\u001b[39;00m chunksize \u001b[38;5;129;01mor\u001b[39;00m iterator:\n\u001b[1;32m    621\u001b[0m     \u001b[38;5;28;01mreturn\u001b[39;00m parser\n",
      "File \u001b[0;32m~/_Git/_venv/lib/python3.11/site-packages/pandas/io/parsers/readers.py:1618\u001b[0m, in \u001b[0;36mTextFileReader.__init__\u001b[0;34m(self, f, engine, **kwds)\u001b[0m\n\u001b[1;32m   1615\u001b[0m     \u001b[38;5;28mself\u001b[39m\u001b[38;5;241m.\u001b[39moptions[\u001b[38;5;124m\"\u001b[39m\u001b[38;5;124mhas_index_names\u001b[39m\u001b[38;5;124m\"\u001b[39m] \u001b[38;5;241m=\u001b[39m kwds[\u001b[38;5;124m\"\u001b[39m\u001b[38;5;124mhas_index_names\u001b[39m\u001b[38;5;124m\"\u001b[39m]\n\u001b[1;32m   1617\u001b[0m \u001b[38;5;28mself\u001b[39m\u001b[38;5;241m.\u001b[39mhandles: IOHandles \u001b[38;5;241m|\u001b[39m \u001b[38;5;28;01mNone\u001b[39;00m \u001b[38;5;241m=\u001b[39m \u001b[38;5;28;01mNone\u001b[39;00m\n\u001b[0;32m-> 1618\u001b[0m \u001b[38;5;28mself\u001b[39m\u001b[38;5;241m.\u001b[39m_engine \u001b[38;5;241m=\u001b[39m \u001b[38;5;28;43mself\u001b[39;49m\u001b[38;5;241;43m.\u001b[39;49m\u001b[43m_make_engine\u001b[49m\u001b[43m(\u001b[49m\u001b[43mf\u001b[49m\u001b[43m,\u001b[49m\u001b[43m \u001b[49m\u001b[38;5;28;43mself\u001b[39;49m\u001b[38;5;241;43m.\u001b[39;49m\u001b[43mengine\u001b[49m\u001b[43m)\u001b[49m\n",
      "File \u001b[0;32m~/_Git/_venv/lib/python3.11/site-packages/pandas/io/parsers/readers.py:1878\u001b[0m, in \u001b[0;36mTextFileReader._make_engine\u001b[0;34m(self, f, engine)\u001b[0m\n\u001b[1;32m   1876\u001b[0m     \u001b[38;5;28;01mif\u001b[39;00m \u001b[38;5;124m\"\u001b[39m\u001b[38;5;124mb\u001b[39m\u001b[38;5;124m\"\u001b[39m \u001b[38;5;129;01mnot\u001b[39;00m \u001b[38;5;129;01min\u001b[39;00m mode:\n\u001b[1;32m   1877\u001b[0m         mode \u001b[38;5;241m+\u001b[39m\u001b[38;5;241m=\u001b[39m \u001b[38;5;124m\"\u001b[39m\u001b[38;5;124mb\u001b[39m\u001b[38;5;124m\"\u001b[39m\n\u001b[0;32m-> 1878\u001b[0m \u001b[38;5;28mself\u001b[39m\u001b[38;5;241m.\u001b[39mhandles \u001b[38;5;241m=\u001b[39m \u001b[43mget_handle\u001b[49m\u001b[43m(\u001b[49m\n\u001b[1;32m   1879\u001b[0m \u001b[43m    \u001b[49m\u001b[43mf\u001b[49m\u001b[43m,\u001b[49m\n\u001b[1;32m   1880\u001b[0m \u001b[43m    \u001b[49m\u001b[43mmode\u001b[49m\u001b[43m,\u001b[49m\n\u001b[1;32m   1881\u001b[0m \u001b[43m    \u001b[49m\u001b[43mencoding\u001b[49m\u001b[38;5;241;43m=\u001b[39;49m\u001b[38;5;28;43mself\u001b[39;49m\u001b[38;5;241;43m.\u001b[39;49m\u001b[43moptions\u001b[49m\u001b[38;5;241;43m.\u001b[39;49m\u001b[43mget\u001b[49m\u001b[43m(\u001b[49m\u001b[38;5;124;43m\"\u001b[39;49m\u001b[38;5;124;43mencoding\u001b[39;49m\u001b[38;5;124;43m\"\u001b[39;49m\u001b[43m,\u001b[49m\u001b[43m \u001b[49m\u001b[38;5;28;43;01mNone\u001b[39;49;00m\u001b[43m)\u001b[49m\u001b[43m,\u001b[49m\n\u001b[1;32m   1882\u001b[0m \u001b[43m    \u001b[49m\u001b[43mcompression\u001b[49m\u001b[38;5;241;43m=\u001b[39;49m\u001b[38;5;28;43mself\u001b[39;49m\u001b[38;5;241;43m.\u001b[39;49m\u001b[43moptions\u001b[49m\u001b[38;5;241;43m.\u001b[39;49m\u001b[43mget\u001b[49m\u001b[43m(\u001b[49m\u001b[38;5;124;43m\"\u001b[39;49m\u001b[38;5;124;43mcompression\u001b[39;49m\u001b[38;5;124;43m\"\u001b[39;49m\u001b[43m,\u001b[49m\u001b[43m \u001b[49m\u001b[38;5;28;43;01mNone\u001b[39;49;00m\u001b[43m)\u001b[49m\u001b[43m,\u001b[49m\n\u001b[1;32m   1883\u001b[0m \u001b[43m    \u001b[49m\u001b[43mmemory_map\u001b[49m\u001b[38;5;241;43m=\u001b[39;49m\u001b[38;5;28;43mself\u001b[39;49m\u001b[38;5;241;43m.\u001b[39;49m\u001b[43moptions\u001b[49m\u001b[38;5;241;43m.\u001b[39;49m\u001b[43mget\u001b[49m\u001b[43m(\u001b[49m\u001b[38;5;124;43m\"\u001b[39;49m\u001b[38;5;124;43mmemory_map\u001b[39;49m\u001b[38;5;124;43m\"\u001b[39;49m\u001b[43m,\u001b[49m\u001b[43m \u001b[49m\u001b[38;5;28;43;01mFalse\u001b[39;49;00m\u001b[43m)\u001b[49m\u001b[43m,\u001b[49m\n\u001b[1;32m   1884\u001b[0m \u001b[43m    \u001b[49m\u001b[43mis_text\u001b[49m\u001b[38;5;241;43m=\u001b[39;49m\u001b[43mis_text\u001b[49m\u001b[43m,\u001b[49m\n\u001b[1;32m   1885\u001b[0m \u001b[43m    \u001b[49m\u001b[43merrors\u001b[49m\u001b[38;5;241;43m=\u001b[39;49m\u001b[38;5;28;43mself\u001b[39;49m\u001b[38;5;241;43m.\u001b[39;49m\u001b[43moptions\u001b[49m\u001b[38;5;241;43m.\u001b[39;49m\u001b[43mget\u001b[49m\u001b[43m(\u001b[49m\u001b[38;5;124;43m\"\u001b[39;49m\u001b[38;5;124;43mencoding_errors\u001b[39;49m\u001b[38;5;124;43m\"\u001b[39;49m\u001b[43m,\u001b[49m\u001b[43m \u001b[49m\u001b[38;5;124;43m\"\u001b[39;49m\u001b[38;5;124;43mstrict\u001b[39;49m\u001b[38;5;124;43m\"\u001b[39;49m\u001b[43m)\u001b[49m\u001b[43m,\u001b[49m\n\u001b[1;32m   1886\u001b[0m \u001b[43m    \u001b[49m\u001b[43mstorage_options\u001b[49m\u001b[38;5;241;43m=\u001b[39;49m\u001b[38;5;28;43mself\u001b[39;49m\u001b[38;5;241;43m.\u001b[39;49m\u001b[43moptions\u001b[49m\u001b[38;5;241;43m.\u001b[39;49m\u001b[43mget\u001b[49m\u001b[43m(\u001b[49m\u001b[38;5;124;43m\"\u001b[39;49m\u001b[38;5;124;43mstorage_options\u001b[39;49m\u001b[38;5;124;43m\"\u001b[39;49m\u001b[43m,\u001b[49m\u001b[43m \u001b[49m\u001b[38;5;28;43;01mNone\u001b[39;49;00m\u001b[43m)\u001b[49m\u001b[43m,\u001b[49m\n\u001b[1;32m   1887\u001b[0m \u001b[43m\u001b[49m\u001b[43m)\u001b[49m\n\u001b[1;32m   1888\u001b[0m \u001b[38;5;28;01massert\u001b[39;00m \u001b[38;5;28mself\u001b[39m\u001b[38;5;241m.\u001b[39mhandles \u001b[38;5;129;01mis\u001b[39;00m \u001b[38;5;129;01mnot\u001b[39;00m \u001b[38;5;28;01mNone\u001b[39;00m\n\u001b[1;32m   1889\u001b[0m f \u001b[38;5;241m=\u001b[39m \u001b[38;5;28mself\u001b[39m\u001b[38;5;241m.\u001b[39mhandles\u001b[38;5;241m.\u001b[39mhandle\n",
      "File \u001b[0;32m~/_Git/_venv/lib/python3.11/site-packages/pandas/io/common.py:873\u001b[0m, in \u001b[0;36mget_handle\u001b[0;34m(path_or_buf, mode, encoding, compression, memory_map, is_text, errors, storage_options)\u001b[0m\n\u001b[1;32m    868\u001b[0m \u001b[38;5;28;01melif\u001b[39;00m \u001b[38;5;28misinstance\u001b[39m(handle, \u001b[38;5;28mstr\u001b[39m):\n\u001b[1;32m    869\u001b[0m     \u001b[38;5;66;03m# Check whether the filename is to be opened in binary mode.\u001b[39;00m\n\u001b[1;32m    870\u001b[0m     \u001b[38;5;66;03m# Binary mode does not support 'encoding' and 'newline'.\u001b[39;00m\n\u001b[1;32m    871\u001b[0m     \u001b[38;5;28;01mif\u001b[39;00m ioargs\u001b[38;5;241m.\u001b[39mencoding \u001b[38;5;129;01mand\u001b[39;00m \u001b[38;5;124m\"\u001b[39m\u001b[38;5;124mb\u001b[39m\u001b[38;5;124m\"\u001b[39m \u001b[38;5;129;01mnot\u001b[39;00m \u001b[38;5;129;01min\u001b[39;00m ioargs\u001b[38;5;241m.\u001b[39mmode:\n\u001b[1;32m    872\u001b[0m         \u001b[38;5;66;03m# Encoding\u001b[39;00m\n\u001b[0;32m--> 873\u001b[0m         handle \u001b[38;5;241m=\u001b[39m \u001b[38;5;28;43mopen\u001b[39;49m\u001b[43m(\u001b[49m\n\u001b[1;32m    874\u001b[0m \u001b[43m            \u001b[49m\u001b[43mhandle\u001b[49m\u001b[43m,\u001b[49m\n\u001b[1;32m    875\u001b[0m \u001b[43m            \u001b[49m\u001b[43mioargs\u001b[49m\u001b[38;5;241;43m.\u001b[39;49m\u001b[43mmode\u001b[49m\u001b[43m,\u001b[49m\n\u001b[1;32m    876\u001b[0m \u001b[43m            \u001b[49m\u001b[43mencoding\u001b[49m\u001b[38;5;241;43m=\u001b[39;49m\u001b[43mioargs\u001b[49m\u001b[38;5;241;43m.\u001b[39;49m\u001b[43mencoding\u001b[49m\u001b[43m,\u001b[49m\n\u001b[1;32m    877\u001b[0m \u001b[43m            \u001b[49m\u001b[43merrors\u001b[49m\u001b[38;5;241;43m=\u001b[39;49m\u001b[43merrors\u001b[49m\u001b[43m,\u001b[49m\n\u001b[1;32m    878\u001b[0m \u001b[43m            \u001b[49m\u001b[43mnewline\u001b[49m\u001b[38;5;241;43m=\u001b[39;49m\u001b[38;5;124;43m\"\u001b[39;49m\u001b[38;5;124;43m\"\u001b[39;49m\u001b[43m,\u001b[49m\n\u001b[1;32m    879\u001b[0m \u001b[43m        \u001b[49m\u001b[43m)\u001b[49m\n\u001b[1;32m    880\u001b[0m     \u001b[38;5;28;01melse\u001b[39;00m:\n\u001b[1;32m    881\u001b[0m         \u001b[38;5;66;03m# Binary mode\u001b[39;00m\n\u001b[1;32m    882\u001b[0m         handle \u001b[38;5;241m=\u001b[39m \u001b[38;5;28mopen\u001b[39m(handle, ioargs\u001b[38;5;241m.\u001b[39mmode)\n",
      "\u001b[0;31mOSError\u001b[0m: [Errno 63] File name too long: '\"total_bill\",\"tip\",\"sex\",\"smoker\",\"day\",\"time\",\"size\"\\n16.99,1.01,\"Female\",\"No\",\"Sun\",\"Dinner\",2\\n10.34,1.66,\"Male\",\"No\",\"Sun\",\"Dinner\",3\\n21.01,3.5,\"Male\",\"No\",\"Sun\",\"Dinner\",3\\n23.68,3.31,\"Male\",\"No\",\"Sun\",\"Dinner\",2\\n24.59,3.61,\"Female\",\"No\",\"Sun\",\"Dinner\",4\\n25.29,4.71,\"Male\",\"No\",\"Sun\",\"Dinner\",4\\n8.77,2,\"Male\",\"No\",\"Sun\",\"Dinner\",2\\n26.88,3.12,\"Male\",\"No\",\"Sun\",\"Dinner\",4\\n15.04,1.96,\"Male\",\"No\",\"Sun\",\"Dinner\",2\\n14.78,3.23,\"Male\",\"No\",\"Sun\",\"Dinner\",2\\n10.27,1.71,\"Male\",\"No\",\"Sun\",\"Dinner\",2\\n35.26,5,\"Female\",\"No\",\"Sun\",\"Dinner\",4\\n15.42,1.57,\"Male\",\"No\",\"Sun\",\"Dinner\",2\\n18.43,3,\"Male\",\"No\",\"Sun\",\"Dinner\",4\\n14.83,3.02,\"Female\",\"No\",\"Sun\",\"Dinner\",2\\n21.58,3.92,\"Male\",\"No\",\"Sun\",\"Dinner\",2\\n10.33,1.67,\"Female\",\"No\",\"Sun\",\"Dinner\",3\\n16.29,3.71,\"Male\",\"No\",\"Sun\",\"Dinner\",3\\n16.97,3.5,\"Female\",\"No\",\"Sun\",\"Dinner\",3\\n20.65,3.35,\"Male\",\"No\",\"Sat\",\"Dinner\",3\\n17.92,4.08,\"Male\",\"No\",\"Sat\",\"Dinner\",2\\n20.29,2.75,\"Female\",\"No\",\"Sat\",\"Dinner\",2\\n15.77,2.23,\"Female\",\"No\",\"Sat\",\"Dinner\",2\\n39.42,7.58,\"Male\",\"No\",\"Sat\",\"Dinner\",4\\n19.82,3.18,\"Male\",\"No\",\"Sat\",\"Dinner\",2\\n17.81,2.34,\"Male\",\"No\",\"Sat\",\"Dinner\",4\\n13.37,2,\"Male\",\"No\",\"Sat\",\"Dinner\",2\\n12.69,2,\"Male\",\"No\",\"Sat\",\"Dinner\",2\\n21.7,4.3,\"Male\",\"No\",\"Sat\",\"Dinner\",2\\n19.65,3,\"Female\",\"No\",\"Sat\",\"Dinner\",2\\n9.55,1.45,\"Male\",\"No\",\"Sat\",\"Dinner\",2\\n18.35,2.5,\"Male\",\"No\",\"Sat\",\"Dinner\",4\\n15.06,3,\"Female\",\"No\",\"Sat\",\"Dinner\",2\\n20.69,2.45,\"Female\",\"No\",\"Sat\",\"Dinner\",4\\n17.78,3.27,\"Male\",\"No\",\"Sat\",\"Dinner\",2\\n24.06,3.6,\"Male\",\"No\",\"Sat\",\"Dinner\",3\\n16.31,2,\"Male\",\"No\",\"Sat\",\"Dinner\",3\\n16.93,3.07,\"Female\",\"No\",\"Sat\",\"Dinner\",3\\n18.69,2.31,\"Male\",\"No\",\"Sat\",\"Dinner\",3\\n31.27,5,\"Male\",\"No\",\"Sat\",\"Dinner\",3\\n16.04,2.24,\"Male\",\"No\",\"Sat\",\"Dinner\",3\\n17.46,2.54,\"Male\",\"No\",\"Sun\",\"Dinner\",2\\n13.94,3.06,\"Male\",\"No\",\"Sun\",\"Dinner\",2\\n9.68,1.32,\"Male\",\"No\",\"Sun\",\"Dinner\",2\\n30.4,5.6,\"Male\",\"No\",\"Sun\",\"Dinner\",4\\n18.29,3,\"Male\",\"No\",\"Sun\",\"Dinner\",2\\n22.23,5,\"Male\",\"No\",\"Sun\",\"Dinner\",2\\n32.4,6,\"Male\",\"No\",\"Sun\",\"Dinner\",4\\n28.55,2.05,\"Male\",\"No\",\"Sun\",\"Dinner\",3\\n18.04,3,\"Male\",\"No\",\"Sun\",\"Dinner\",2\\n12.54,2.5,\"Male\",\"No\",\"Sun\",\"Dinner\",2\\n10.29,2.6,\"Female\",\"No\",\"Sun\",\"Dinner\",2\\n34.81,5.2,\"Female\",\"No\",\"Sun\",\"Dinner\",4\\n9.94,1.56,\"Male\",\"No\",\"Sun\",\"Dinner\",2\\n25.56,4.34,\"Male\",\"No\",\"Sun\",\"Dinner\",4\\n19.49,3.51,\"Male\",\"No\",\"Sun\",\"Dinner\",2\\n38.01,3,\"Male\",\"Yes\",\"Sat\",\"Dinner\",4\\n26.41,1.5,\"Female\",\"No\",\"Sat\",\"Dinner\",2\\n11.24,1.76,\"Male\",\"Yes\",\"Sat\",\"Dinner\",2\\n48.27,6.73,\"Male\",\"No\",\"Sat\",\"Dinner\",4\\n20.29,3.21,\"Male\",\"Yes\",\"Sat\",\"Dinner\",2\\n13.81,2,\"Male\",\"Yes\",\"Sat\",\"Dinner\",2\\n11.02,1.98,\"Male\",\"Yes\",\"Sat\",\"Dinner\",2\\n18.29,3.76,\"Male\",\"Yes\",\"Sat\",\"Dinner\",4\\n17.59,2.64,\"Male\",\"No\",\"Sat\",\"Dinner\",3\\n20.08,3.15,\"Male\",\"No\",\"Sat\",\"Dinner\",3\\n16.45,2.47,\"Female\",\"No\",\"Sat\",\"Dinner\",2\\n3.07,1,\"Female\",\"Yes\",\"Sat\",\"Dinner\",1\\n20.23,2.01,\"Male\",\"No\",\"Sat\",\"Dinner\",2\\n15.01,2.09,\"Male\",\"Yes\",\"Sat\",\"Dinner\",2\\n12.02,1.97,\"Male\",\"No\",\"Sat\",\"Dinner\",2\\n17.07,3,\"Female\",\"No\",\"Sat\",\"Dinner\",3\\n26.86,3.14,\"Female\",\"Yes\",\"Sat\",\"Dinner\",2\\n25.28,5,\"Female\",\"Yes\",\"Sat\",\"Dinner\",2\\n14.73,2.2,\"Female\",\"No\",\"Sat\",\"Dinner\",2\\n10.51,1.25,\"Male\",\"No\",\"Sat\",\"Dinner\",2\\n17.92,3.08,\"Male\",\"Yes\",\"Sat\",\"Dinner\",2\\n27.2,4,\"Male\",\"No\",\"Thur\",\"Lunch\",4\\n22.76,3,\"Male\",\"No\",\"Thur\",\"Lunch\",2\\n17.29,2.71,\"Male\",\"No\",\"Thur\",\"Lunch\",2\\n19.44,3,\"Male\",\"Yes\",\"Thur\",\"Lunch\",2\\n16.66,3.4,\"Male\",\"No\",\"Thur\",\"Lunch\",2\\n10.07,1.83,\"Female\",\"No\",\"Thur\",\"Lunch\",1\\n32.68,5,\"Male\",\"Yes\",\"Thur\",\"Lunch\",2\\n15.98,2.03,\"Male\",\"No\",\"Thur\",\"Lunch\",2\\n34.83,5.17,\"Female\",\"No\",\"Thur\",\"Lunch\",4\\n13.03,2,\"Male\",\"No\",\"Thur\",\"Lunch\",2\\n18.28,4,\"Male\",\"No\",\"Thur\",\"Lunch\",2\\n24.71,5.85,\"Male\",\"No\",\"Thur\",\"Lunch\",2\\n21.16,3,\"Male\",\"No\",\"Thur\",\"Lunch\",2\\n28.97,3,\"Male\",\"Yes\",\"Fri\",\"Dinner\",2\\n22.49,3.5,\"Male\",\"No\",\"Fri\",\"Dinner\",2\\n5.75,1,\"Female\",\"Yes\",\"Fri\",\"Dinner\",2\\n16.32,4.3,\"Female\",\"Yes\",\"Fri\",\"Dinner\",2\\n22.75,3.25,\"Female\",\"No\",\"Fri\",\"Dinner\",2\\n40.17,4.73,\"Male\",\"Yes\",\"Fri\",\"Dinner\",4\\n27.28,4,\"Male\",\"Yes\",\"Fri\",\"Dinner\",2\\n12.03,1.5,\"Male\",\"Yes\",\"Fri\",\"Dinner\",2\\n21.01,3,\"Male\",\"Yes\",\"Fri\",\"Dinner\",2\\n12.46,1.5,\"Male\",\"No\",\"Fri\",\"Dinner\",2\\n11.35,2.5,\"Female\",\"Yes\",\"Fri\",\"Dinner\",2\\n15.38,3,\"Female\",\"Yes\",\"Fri\",\"Dinner\",2\\n44.3,2.5,\"Female\",\"Yes\",\"Sat\",\"Dinner\",3\\n22.42,3.48,\"Female\",\"Yes\",\"Sat\",\"Dinner\",2\\n20.92,4.08,\"Female\",\"No\",\"Sat\",\"Dinner\",2\\n15.36,1.64,\"Male\",\"Yes\",\"Sat\",\"Dinner\",2\\n20.49,4.06,\"Male\",\"Yes\",\"Sat\",\"Dinner\",2\\n25.21,4.29,\"Male\",\"Yes\",\"Sat\",\"Dinner\",2\\n18.24,3.76,\"Male\",\"No\",\"Sat\",\"Dinner\",2\\n14.31,4,\"Female\",\"Yes\",\"Sat\",\"Dinner\",2\\n14,3,\"Male\",\"No\",\"Sat\",\"Dinner\",2\\n7.25,1,\"Female\",\"No\",\"Sat\",\"Dinner\",1\\n38.07,4,\"Male\",\"No\",\"Sun\",\"Dinner\",3\\n23.95,2.55,\"Male\",\"No\",\"Sun\",\"Dinner\",2\\n25.71,4,\"Female\",\"No\",\"Sun\",\"Dinner\",3\\n17.31,3.5,\"Female\",\"No\",\"Sun\",\"Dinner\",2\\n29.93,5.07,\"Male\",\"No\",\"Sun\",\"Dinner\",4\\n10.65,1.5,\"Female\",\"No\",\"Thur\",\"Lunch\",2\\n12.43,1.8,\"Female\",\"No\",\"Thur\",\"Lunch\",2\\n24.08,2.92,\"Female\",\"No\",\"Thur\",\"Lunch\",4\\n11.69,2.31,\"Male\",\"No\",\"Thur\",\"Lunch\",2\\n13.42,1.68,\"Female\",\"No\",\"Thur\",\"Lunch\",2\\n14.26,2.5,\"Male\",\"No\",\"Thur\",\"Lunch\",2\\n15.95,2,\"Male\",\"No\",\"Thur\",\"Lunch\",2\\n12.48,2.52,\"Female\",\"No\",\"Thur\",\"Lunch\",2\\n29.8,4.2,\"Female\",\"No\",\"Thur\",\"Lunch\",6\\n8.52,1.48,\"Male\",\"No\",\"Thur\",\"Lunch\",2\\n14.52,2,\"Female\",\"No\",\"Thur\",\"Lunch\",2\\n11.38,2,\"Female\",\"No\",\"Thur\",\"Lunch\",2\\n22.82,2.18,\"Male\",\"No\",\"Thur\",\"Lunch\",3\\n19.08,1.5,\"Male\",\"No\",\"Thur\",\"Lunch\",2\\n20.27,2.83,\"Female\",\"No\",\"Thur\",\"Lunch\",2\\n11.17,1.5,\"Female\",\"No\",\"Thur\",\"Lunch\",2\\n12.26,2,\"Female\",\"No\",\"Thur\",\"Lunch\",2\\n18.26,3.25,\"Female\",\"No\",\"Thur\",\"Lunch\",2\\n8.51,1.25,\"Female\",\"No\",\"Thur\",\"Lunch\",2\\n10.33,2,\"Female\",\"No\",\"Thur\",\"Lunch\",2\\n14.15,2,\"Female\",\"No\",\"Thur\",\"Lunch\",2\\n16,2,\"Male\",\"Yes\",\"Thur\",\"Lunch\",2\\n13.16,2.75,\"Female\",\"No\",\"Thur\",\"Lunch\",2\\n17.47,3.5,\"Female\",\"No\",\"Thur\",\"Lunch\",2\\n34.3,6.7,\"Male\",\"No\",\"Thur\",\"Lunch\",6\\n41.19,5,\"Male\",\"No\",\"Thur\",\"Lunch\",5\\n27.05,5,\"Female\",\"No\",\"Thur\",\"Lunch\",6\\n16.43,2.3,\"Female\",\"No\",\"Thur\",\"Lunch\",2\\n8.35,1.5,\"Female\",\"No\",\"Thur\",\"Lunch\",2\\n18.64,1.36,\"Female\",\"No\",\"Thur\",\"Lunch\",3\\n11.87,1.63,\"Female\",\"No\",\"Thur\",\"Lunch\",2\\n9.78,1.73,\"Male\",\"No\",\"Thur\",\"Lunch\",2\\n7.51,2,\"Male\",\"No\",\"Thur\",\"Lunch\",2\\n14.07,2.5,\"Male\",\"No\",\"Sun\",\"Dinner\",2\\n13.13,2,\"Male\",\"No\",\"Sun\",\"Dinner\",2\\n17.26,2.74,\"Male\",\"No\",\"Sun\",\"Dinner\",3\\n24.55,2,\"Male\",\"No\",\"Sun\",\"Dinner\",4\\n19.77,2,\"Male\",\"No\",\"Sun\",\"Dinner\",4\\n29.85,5.14,\"Female\",\"No\",\"Sun\",\"Dinner\",5\\n48.17,5,\"Male\",\"No\",\"Sun\",\"Dinner\",6\\n25,3.75,\"Female\",\"No\",\"Sun\",\"Dinner\",4\\n13.39,2.61,\"Female\",\"No\",\"Sun\",\"Dinner\",2\\n16.49,2,\"Male\",\"No\",\"Sun\",\"Dinner\",4\\n21.5,3.5,\"Male\",\"No\",\"Sun\",\"Dinner\",4\\n12.66,2.5,\"Male\",\"No\",\"Sun\",\"Dinner\",2\\n16.21,2,\"Female\",\"No\",\"Sun\",\"Dinner\",3\\n13.81,2,\"Male\",\"No\",\"Sun\",\"Dinner\",2\\n17.51,3,\"Female\",\"Yes\",\"Sun\",\"Dinner\",2\\n24.52,3.48,\"Male\",\"No\",\"Sun\",\"Dinner\",3\\n20.76,2.24,\"Male\",\"No\",\"Sun\",\"Dinner\",2\\n31.71,4.5,\"Male\",\"No\",\"Sun\",\"Dinner\",4\\n10.59,1.61,\"Female\",\"Yes\",\"Sat\",\"Dinner\",2\\n10.63,2,\"Female\",\"Yes\",\"Sat\",\"Dinner\",2\\n50.81,10,\"Male\",\"Yes\",\"Sat\",\"Dinner\",3\\n15.81,3.16,\"Male\",\"Yes\",\"Sat\",\"Dinner\",2\\n7.25,5.15,\"Male\",\"Yes\",\"Sun\",\"Dinner\",2\\n31.85,3.18,\"Male\",\"Yes\",\"Sun\",\"Dinner\",2\\n16.82,4,\"Male\",\"Yes\",\"Sun\",\"Dinner\",2\\n32.9,3.11,\"Male\",\"Yes\",\"Sun\",\"Dinner\",2\\n17.89,2,\"Male\",\"Yes\",\"Sun\",\"Dinner\",2\\n14.48,2,\"Male\",\"Yes\",\"Sun\",\"Dinner\",2\\n9.6,4,\"Female\",\"Yes\",\"Sun\",\"Dinner\",2\\n34.63,3.55,\"Male\",\"Yes\",\"Sun\",\"Dinner\",2\\n34.65,3.68,\"Male\",\"Yes\",\"Sun\",\"Dinner\",4\\n23.33,5.65,\"Male\",\"Yes\",\"Sun\",\"Dinner\",2\\n45.35,3.5,\"Male\",\"Yes\",\"Sun\",\"Dinner\",3\\n23.17,6.5,\"Male\",\"Yes\",\"Sun\",\"Dinner\",4\\n40.55,3,\"Male\",\"Yes\",\"Sun\",\"Dinner\",2\\n20.69,5,\"Male\",\"No\",\"Sun\",\"Dinner\",5\\n20.9,3.5,\"Female\",\"Yes\",\"Sun\",\"Dinner\",3\\n30.46,2,\"Male\",\"Yes\",\"Sun\",\"Dinner\",5\\n18.15,3.5,\"Female\",\"Yes\",\"Sun\",\"Dinner\",3\\n23.1,4,\"Male\",\"Yes\",\"Sun\",\"Dinner\",3\\n15.69,1.5,\"Male\",\"Yes\",\"Sun\",\"Dinner\",2\\n19.81,4.19,\"Female\",\"Yes\",\"Thur\",\"Lunch\",2\\n28.44,2.56,\"Male\",\"Yes\",\"Thur\",\"Lunch\",2\\n15.48,2.02,\"Male\",\"Yes\",\"Thur\",\"Lunch\",2\\n16.58,4,\"Male\",\"Yes\",\"Thur\",\"Lunch\",2\\n7.56,1.44,\"Male\",\"No\",\"Thur\",\"Lunch\",2\\n10.34,2,\"Male\",\"Yes\",\"Thur\",\"Lunch\",2\\n43.11,5,\"Female\",\"Yes\",\"Thur\",\"Lunch\",4\\n13,2,\"Female\",\"Yes\",\"Thur\",\"Lunch\",2\\n13.51,2,\"Male\",\"Yes\",\"Thur\",\"Lunch\",2\\n18.71,4,\"Male\",\"Yes\",\"Thur\",\"Lunch\",3\\n12.74,2.01,\"Female\",\"Yes\",\"Thur\",\"Lunch\",2\\n13,2,\"Female\",\"Yes\",\"Thur\",\"Lunch\",2\\n16.4,2.5,\"Female\",\"Yes\",\"Thur\",\"Lunch\",2\\n20.53,4,\"Male\",\"Yes\",\"Thur\",\"Lunch\",4\\n16.47,3.23,\"Female\",\"Yes\",\"Thur\",\"Lunch\",3\\n26.59,3.41,\"Male\",\"Yes\",\"Sat\",\"Dinner\",3\\n38.73,3,\"Male\",\"Yes\",\"Sat\",\"Dinner\",4\\n24.27,2.03,\"Male\",\"Yes\",\"Sat\",\"Dinner\",2\\n12.76,2.23,\"Female\",\"Yes\",\"Sat\",\"Dinner\",2\\n30.06,2,\"Male\",\"Yes\",\"Sat\",\"Dinner\",3\\n25.89,5.16,\"Male\",\"Yes\",\"Sat\",\"Dinner\",4\\n48.33,9,\"Male\",\"No\",\"Sat\",\"Dinner\",4\\n13.27,2.5,\"Female\",\"Yes\",\"Sat\",\"Dinner\",2\\n28.17,6.5,\"Female\",\"Yes\",\"Sat\",\"Dinner\",3\\n12.9,1.1,\"Female\",\"Yes\",\"Sat\",\"Dinner\",2\\n28.15,3,\"Male\",\"Yes\",\"Sat\",\"Dinner\",5\\n11.59,1.5,\"Male\",\"Yes\",\"Sat\",\"Dinner\",2\\n7.74,1.44,\"Male\",\"Yes\",\"Sat\",\"Dinner\",2\\n30.14,3.09,\"Female\",\"Yes\",\"Sat\",\"Dinner\",4\\n12.16,2.2,\"Male\",\"Yes\",\"Fri\",\"Lunch\",2\\n13.42,3.48,\"Female\",\"Yes\",\"Fri\",\"Lunch\",2\\n8.58,1.92,\"Male\",\"Yes\",\"Fri\",\"Lunch\",1\\n15.98,3,\"Female\",\"No\",\"Fri\",\"Lunch\",3\\n13.42,1.58,\"Male\",\"Yes\",\"Fri\",\"Lunch\",2\\n16.27,2.5,\"Female\",\"Yes\",\"Fri\",\"Lunch\",2\\n10.09,2,\"Female\",\"Yes\",\"Fri\",\"Lunch\",2\\n20.45,3,\"Male\",\"No\",\"Sat\",\"Dinner\",4\\n13.28,2.72,\"Male\",\"No\",\"Sat\",\"Dinner\",2\\n22.12,2.88,\"Female\",\"Yes\",\"Sat\",\"Dinner\",2\\n24.01,2,\"Male\",\"Yes\",\"Sat\",\"Dinner\",4\\n15.69,3,\"Male\",\"Yes\",\"Sat\",\"Dinner\",3\\n11.61,3.39,\"Male\",\"No\",\"Sat\",\"Dinner\",2\\n10.77,1.47,\"Male\",\"No\",\"Sat\",\"Dinner\",2\\n15.53,3,\"Male\",\"Yes\",\"Sat\",\"Dinner\",2\\n10.07,1.25,\"Male\",\"No\",\"Sat\",\"Dinner\",2\\n12.6,1,\"Male\",\"Yes\",\"Sat\",\"Dinner\",2\\n32.83,1.17,\"Male\",\"Yes\",\"Sat\",\"Dinner\",2\\n35.83,4.67,\"Female\",\"No\",\"Sat\",\"Dinner\",3\\n29.03,5.92,\"Male\",\"No\",\"Sat\",\"Dinner\",3\\n27.18,2,\"Female\",\"Yes\",\"Sat\",\"Dinner\",2\\n22.67,2,\"Male\",\"Yes\",\"Sat\",\"Dinner\",2\\n17.82,1.75,\"Male\",\"No\",\"Sat\",\"Dinner\",2\\n18.78,3,\"Female\",\"No\",\"Thur\",\"Dinner\",2\\n'"
     ]
    }
   ],
   "source": [
    "df = pd.read_csv(t)"
   ]
  },
  {
   "cell_type": "code",
   "execution_count": null,
   "id": "d428703e-b6dd-41dc-809a-5e53a1bdedac",
   "metadata": {},
   "outputs": [],
   "source": []
  }
 ],
 "metadata": {
  "kernelspec": {
   "display_name": "Python 3 (ipykernel)",
   "language": "python",
   "name": "python3"
  },
  "language_info": {
   "codemirror_mode": {
    "name": "ipython",
    "version": 3
   },
   "file_extension": ".py",
   "mimetype": "text/x-python",
   "name": "python",
   "nbconvert_exporter": "python",
   "pygments_lexer": "ipython3",
   "version": "3.11.8"
  }
 },
 "nbformat": 4,
 "nbformat_minor": 5
}
