{
 "cells": [
  {
   "cell_type": "markdown",
   "id": "608a1e75-0f3d-4955-a0d6-d55181ce2b88",
   "metadata": {},
   "source": [
    "https://www.youtube.com/watch?v=JgxCY-tbWHA"
   ]
  },
  {
   "cell_type": "markdown",
   "id": "d43ab066-e460-43f6-9eb3-a4a40b69993b",
   "metadata": {},
   "source": [
    "# @timer"
   ]
  },
  {
   "cell_type": "code",
   "execution_count": 1,
   "id": "f566b709-d9be-4a39-abc5-76e99c11999d",
   "metadata": {},
   "outputs": [],
   "source": [
    "import time"
   ]
  },
  {
   "cell_type": "code",
   "execution_count": 2,
   "id": "6068684f-64a1-41c2-b310-f3d959260c11",
   "metadata": {},
   "outputs": [],
   "source": [
    "def timer(func):\n",
    "    def wrapper(*args, **kwargs):\n",
    "        start_time = time.time() # Start time\n",
    "        result = func(*args, **kwargs) # Call the decorated function\n",
    "        end_time = time.time() # End time\n",
    "        print(f\"Function {func.__name__!r} took {end_time - start_time:.4f} sec\")\n",
    "        return result\n",
    "    \n",
    "    return wrapper"
   ]
  },
  {
   "cell_type": "code",
   "execution_count": 3,
   "id": "226fbff3-4898-4484-be71-9d27b21ce99f",
   "metadata": {},
   "outputs": [],
   "source": [
    "def example_function(n):\n",
    "    return f\"The sum is {sum(range(n))}\""
   ]
  },
  {
   "cell_type": "code",
   "execution_count": 4,
   "id": "5005e115-592d-428b-ad08-4c1c9bf55720",
   "metadata": {},
   "outputs": [
    {
     "data": {
      "text/plain": [
       "'The sum is 499999500000'"
      ]
     },
     "execution_count": 4,
     "metadata": {},
     "output_type": "execute_result"
    }
   ],
   "source": [
    "example_function(1000000)"
   ]
  },
  {
   "cell_type": "code",
   "execution_count": 5,
   "id": "cb3b1e6c-56a7-4de7-adfa-7eae19987a0f",
   "metadata": {},
   "outputs": [
    {
     "data": {
      "text/plain": [
       "<function __main__.timer.<locals>.wrapper(*args, **kwargs)>"
      ]
     },
     "execution_count": 5,
     "metadata": {},
     "output_type": "execute_result"
    }
   ],
   "source": [
    "timer(example_function(1000000))"
   ]
  },
  {
   "cell_type": "code",
   "execution_count": 6,
   "id": "93dee2f2-c07b-473b-a3d0-56a7141f80a6",
   "metadata": {},
   "outputs": [],
   "source": [
    "example_function = timer(example_function)"
   ]
  },
  {
   "cell_type": "code",
   "execution_count": 7,
   "id": "e11a1888-a88c-4a5b-8e28-7ec08f69d8b9",
   "metadata": {},
   "outputs": [
    {
     "name": "stdout",
     "output_type": "stream",
     "text": [
      "Function 'example_function' took 0.0083 sec\n"
     ]
    },
    {
     "data": {
      "text/plain": [
       "'The sum is 499999500000'"
      ]
     },
     "execution_count": 7,
     "metadata": {},
     "output_type": "execute_result"
    }
   ],
   "source": [
    "example_function(1000000)"
   ]
  },
  {
   "cell_type": "code",
   "execution_count": 8,
   "id": "6f9f5d9d-bd1d-4ed5-8c9c-4a70923aab9c",
   "metadata": {},
   "outputs": [],
   "source": [
    "@timer\n",
    "def example_function(n):\n",
    "    return f\"The sum is {sum(range(n))}\""
   ]
  },
  {
   "cell_type": "code",
   "execution_count": 9,
   "id": "aa17174b-38f3-40f2-bf6d-ff30de12fe50",
   "metadata": {},
   "outputs": [
    {
     "name": "stdout",
     "output_type": "stream",
     "text": [
      "Function 'example_function' took 0.0084 sec\n"
     ]
    },
    {
     "data": {
      "text/plain": [
       "'The sum is 499999500000'"
      ]
     },
     "execution_count": 9,
     "metadata": {},
     "output_type": "execute_result"
    }
   ],
   "source": [
    "example_function(1000000)"
   ]
  },
  {
   "cell_type": "markdown",
   "id": "470e665a-d0a8-4ab0-9ce7-818d38d51f3e",
   "metadata": {},
   "source": [
    "# @property"
   ]
  },
  {
   "cell_type": "code",
   "execution_count": 70,
   "id": "a68a96e6-d0d4-4216-864f-dd107dc94c53",
   "metadata": {},
   "outputs": [],
   "source": [
    "class Circle:\n",
    "    def __init__(self, radius):\n",
    "        self._radius = radius\n",
    "\n",
    "    @property\n",
    "    def radius(self):\n",
    "        \"\"\"Get the radius of the circle.\"\"\"\n",
    "        print(\"You called me!\")\n",
    "        return self._radius\n",
    "\n",
    "    @radius.setter\n",
    "    def radius(self, value):\n",
    "        \"\"\"Set the radius of the circle. Must be positive.\"\"\"\n",
    "        if value >= 0:\n",
    "            self._radius = value\n",
    "        else:\n",
    "            raise ValueError(\"Radius must be positive!\")\n",
    "\n",
    "    @radius.deleter\n",
    "    def radius(self):\n",
    "        print (\"You deleted me!\")\n",
    "        del self._radius"
   ]
  },
  {
   "cell_type": "code",
   "execution_count": 79,
   "id": "eb78cea3-b555-4169-88ae-4d4d0e47e7a8",
   "metadata": {},
   "outputs": [],
   "source": [
    "c = Circle(5)"
   ]
  },
  {
   "cell_type": "code",
   "execution_count": 80,
   "id": "580acbb1-3f92-4149-bf44-f69762cda0db",
   "metadata": {},
   "outputs": [
    {
     "data": {
      "text/plain": [
       "5"
      ]
     },
     "execution_count": 80,
     "metadata": {},
     "output_type": "execute_result"
    }
   ],
   "source": [
    "c._radius"
   ]
  },
  {
   "cell_type": "code",
   "execution_count": 81,
   "id": "7f9a2bc7-947e-49b8-a7b8-77311dbc0063",
   "metadata": {},
   "outputs": [
    {
     "name": "stdout",
     "output_type": "stream",
     "text": [
      "You called me!\n"
     ]
    },
    {
     "data": {
      "text/plain": [
       "5"
      ]
     },
     "execution_count": 81,
     "metadata": {},
     "output_type": "execute_result"
    }
   ],
   "source": [
    "c.radius"
   ]
  },
  {
   "cell_type": "code",
   "execution_count": 82,
   "id": "327dd14f-7c49-42fa-9117-df09c23be3d0",
   "metadata": {},
   "outputs": [],
   "source": [
    "c.radius = 10"
   ]
  },
  {
   "cell_type": "code",
   "execution_count": 83,
   "id": "39fc6eee-58b6-4b2f-a0e3-ac48f0f6bf16",
   "metadata": {},
   "outputs": [
    {
     "name": "stdout",
     "output_type": "stream",
     "text": [
      "You called me!\n"
     ]
    },
    {
     "data": {
      "text/plain": [
       "10"
      ]
     },
     "execution_count": 83,
     "metadata": {},
     "output_type": "execute_result"
    }
   ],
   "source": [
    "c.radius"
   ]
  },
  {
   "cell_type": "code",
   "execution_count": 84,
   "id": "21be2cec-0c99-4271-bafe-7b9c9743b74f",
   "metadata": {},
   "outputs": [
    {
     "ename": "ValueError",
     "evalue": "Radius must be positive!",
     "output_type": "error",
     "traceback": [
      "\u001b[1;31m---------------------------------------------------------------------------\u001b[0m",
      "\u001b[1;31mValueError\u001b[0m                                Traceback (most recent call last)",
      "Cell \u001b[1;32mIn[84], line 1\u001b[0m\n\u001b[1;32m----> 1\u001b[0m \u001b[43mc\u001b[49m\u001b[38;5;241;43m.\u001b[39;49m\u001b[43mradius\u001b[49m \u001b[38;5;241m=\u001b[39m \u001b[38;5;241m-\u001b[39m\u001b[38;5;241m10\u001b[39m\n",
      "Cell \u001b[1;32mIn[70], line 17\u001b[0m, in \u001b[0;36mCircle.radius\u001b[1;34m(self, value)\u001b[0m\n\u001b[0;32m     15\u001b[0m     \u001b[38;5;28mself\u001b[39m\u001b[38;5;241m.\u001b[39m_radius \u001b[38;5;241m=\u001b[39m value\n\u001b[0;32m     16\u001b[0m \u001b[38;5;28;01melse\u001b[39;00m:\n\u001b[1;32m---> 17\u001b[0m     \u001b[38;5;28;01mraise\u001b[39;00m \u001b[38;5;167;01mValueError\u001b[39;00m(\u001b[38;5;124m\"\u001b[39m\u001b[38;5;124mRadius must be positive!\u001b[39m\u001b[38;5;124m\"\u001b[39m)\n",
      "\u001b[1;31mValueError\u001b[0m: Radius must be positive!"
     ]
    }
   ],
   "source": [
    "c.radius = -10"
   ]
  },
  {
   "cell_type": "code",
   "execution_count": 85,
   "id": "ee166f2a-2812-4df8-bcdc-db0494755573",
   "metadata": {},
   "outputs": [],
   "source": [
    "del c._radius"
   ]
  },
  {
   "cell_type": "code",
   "execution_count": 86,
   "id": "dfd6e95c-2246-4c86-a24d-a001649f29d2",
   "metadata": {},
   "outputs": [
    {
     "name": "stdout",
     "output_type": "stream",
     "text": [
      "You called me!\n"
     ]
    },
    {
     "ename": "AttributeError",
     "evalue": "'Circle' object has no attribute '_radius'",
     "output_type": "error",
     "traceback": [
      "\u001b[1;31m---------------------------------------------------------------------------\u001b[0m",
      "\u001b[1;31mAttributeError\u001b[0m                            Traceback (most recent call last)",
      "Cell \u001b[1;32mIn[86], line 1\u001b[0m\n\u001b[1;32m----> 1\u001b[0m \u001b[43mc\u001b[49m\u001b[38;5;241;43m.\u001b[39;49m\u001b[43mradius\u001b[49m\n",
      "Cell \u001b[1;32mIn[70], line 9\u001b[0m, in \u001b[0;36mCircle.radius\u001b[1;34m(self)\u001b[0m\n\u001b[0;32m      7\u001b[0m \u001b[38;5;250m\u001b[39m\u001b[38;5;124;03m\"\"\"Get the radius of the circle.\"\"\"\u001b[39;00m\n\u001b[0;32m      8\u001b[0m \u001b[38;5;28mprint\u001b[39m(\u001b[38;5;124m\"\u001b[39m\u001b[38;5;124mYou called me!\u001b[39m\u001b[38;5;124m\"\u001b[39m)\n\u001b[1;32m----> 9\u001b[0m \u001b[38;5;28;01mreturn\u001b[39;00m \u001b[38;5;28;43mself\u001b[39;49m\u001b[38;5;241;43m.\u001b[39;49m\u001b[43m_radius\u001b[49m\n",
      "\u001b[1;31mAttributeError\u001b[0m: 'Circle' object has no attribute '_radius'"
     ]
    }
   ],
   "source": [
    "c.radius"
   ]
  },
  {
   "cell_type": "code",
   "execution_count": 89,
   "id": "d6696e9d-2b2b-4256-ba6a-ca1a3befacad",
   "metadata": {},
   "outputs": [],
   "source": [
    "c = Circle(5)"
   ]
  },
  {
   "cell_type": "code",
   "execution_count": 90,
   "id": "a43dee25-8639-4b4e-a06e-e69607717df4",
   "metadata": {},
   "outputs": [
    {
     "name": "stdout",
     "output_type": "stream",
     "text": [
      "You deleted me!\n"
     ]
    }
   ],
   "source": [
    "del c.radius"
   ]
  },
  {
   "cell_type": "code",
   "execution_count": 91,
   "id": "3562223a-fbe6-445d-9a37-f5c053291f16",
   "metadata": {},
   "outputs": [
    {
     "name": "stdout",
     "output_type": "stream",
     "text": [
      "You called me!\n"
     ]
    },
    {
     "ename": "AttributeError",
     "evalue": "'Circle' object has no attribute '_radius'",
     "output_type": "error",
     "traceback": [
      "\u001b[1;31m---------------------------------------------------------------------------\u001b[0m",
      "\u001b[1;31mAttributeError\u001b[0m                            Traceback (most recent call last)",
      "Cell \u001b[1;32mIn[91], line 1\u001b[0m\n\u001b[1;32m----> 1\u001b[0m \u001b[43mc\u001b[49m\u001b[38;5;241;43m.\u001b[39;49m\u001b[43mradius\u001b[49m\n",
      "Cell \u001b[1;32mIn[70], line 9\u001b[0m, in \u001b[0;36mCircle.radius\u001b[1;34m(self)\u001b[0m\n\u001b[0;32m      7\u001b[0m \u001b[38;5;250m\u001b[39m\u001b[38;5;124;03m\"\"\"Get the radius of the circle.\"\"\"\u001b[39;00m\n\u001b[0;32m      8\u001b[0m \u001b[38;5;28mprint\u001b[39m(\u001b[38;5;124m\"\u001b[39m\u001b[38;5;124mYou called me!\u001b[39m\u001b[38;5;124m\"\u001b[39m)\n\u001b[1;32m----> 9\u001b[0m \u001b[38;5;28;01mreturn\u001b[39;00m \u001b[38;5;28;43mself\u001b[39;49m\u001b[38;5;241;43m.\u001b[39;49m\u001b[43m_radius\u001b[49m\n",
      "\u001b[1;31mAttributeError\u001b[0m: 'Circle' object has no attribute '_radius'"
     ]
    }
   ],
   "source": [
    "c.radius"
   ]
  },
  {
   "cell_type": "code",
   "execution_count": null,
   "id": "4c6eecb5-edd9-403c-9191-235999a51141",
   "metadata": {},
   "outputs": [],
   "source": []
  }
 ],
 "metadata": {
  "kernelspec": {
   "display_name": "Python 3 (ipykernel)",
   "language": "python",
   "name": "python3"
  },
  "language_info": {
   "codemirror_mode": {
    "name": "ipython",
    "version": 3
   },
   "file_extension": ".py",
   "mimetype": "text/x-python",
   "name": "python",
   "nbconvert_exporter": "python",
   "pygments_lexer": "ipython3",
   "version": "3.11.8"
  }
 },
 "nbformat": 4,
 "nbformat_minor": 5
}
