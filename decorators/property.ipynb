{
 "cells": [
  {
   "cell_type": "markdown",
   "id": "608a1e75-0f3d-4955-a0d6-d55181ce2b88",
   "metadata": {},
   "source": [
    "https://www.youtube.com/watch?v=JgxCY-tbWHA"
   ]
  },
  {
   "cell_type": "markdown",
   "id": "470e665a-d0a8-4ab0-9ce7-818d38d51f3e",
   "metadata": {},
   "source": [
    "# @property"
   ]
  },
  {
   "cell_type": "code",
   "execution_count": 1,
   "id": "a68a96e6-d0d4-4216-864f-dd107dc94c53",
   "metadata": {},
   "outputs": [],
   "source": [
    "class Circle:\n",
    "    def __init__(self, radius):\n",
    "        self._radius = radius\n",
    "\n",
    "    @property\n",
    "    def radius(self):\n",
    "        \"\"\"Get the radius of the circle.\"\"\"\n",
    "        print(\"You called me!\")\n",
    "        return self._radius\n",
    "\n",
    "    @radius.setter\n",
    "    def radius(self, value):\n",
    "        \"\"\"Set the radius of the circle. Must be positive.\"\"\"\n",
    "        if value >= 0:\n",
    "            self._radius = value\n",
    "        else:\n",
    "            raise ValueError(\"Radius must be positive!\")\n",
    "\n",
    "    @radius.deleter\n",
    "    def radius(self):\n",
    "        print (\"You deleted me!\")\n",
    "        del self._radius"
   ]
  },
  {
   "cell_type": "code",
   "execution_count": 2,
   "id": "eb78cea3-b555-4169-88ae-4d4d0e47e7a8",
   "metadata": {},
   "outputs": [],
   "source": [
    "c = Circle(5)"
   ]
  },
  {
   "cell_type": "code",
   "execution_count": 3,
   "id": "580acbb1-3f92-4149-bf44-f69762cda0db",
   "metadata": {},
   "outputs": [
    {
     "data": {
      "text/plain": [
       "5"
      ]
     },
     "execution_count": 3,
     "metadata": {},
     "output_type": "execute_result"
    }
   ],
   "source": [
    "c._radius"
   ]
  },
  {
   "cell_type": "code",
   "execution_count": 4,
   "id": "7f9a2bc7-947e-49b8-a7b8-77311dbc0063",
   "metadata": {},
   "outputs": [
    {
     "name": "stdout",
     "output_type": "stream",
     "text": [
      "You called me!\n"
     ]
    },
    {
     "data": {
      "text/plain": [
       "5"
      ]
     },
     "execution_count": 4,
     "metadata": {},
     "output_type": "execute_result"
    }
   ],
   "source": [
    "c.radius"
   ]
  },
  {
   "cell_type": "code",
   "execution_count": 5,
   "id": "327dd14f-7c49-42fa-9117-df09c23be3d0",
   "metadata": {},
   "outputs": [],
   "source": [
    "c.radius = 10"
   ]
  },
  {
   "cell_type": "code",
   "execution_count": 6,
   "id": "39fc6eee-58b6-4b2f-a0e3-ac48f0f6bf16",
   "metadata": {},
   "outputs": [
    {
     "name": "stdout",
     "output_type": "stream",
     "text": [
      "You called me!\n"
     ]
    },
    {
     "data": {
      "text/plain": [
       "10"
      ]
     },
     "execution_count": 6,
     "metadata": {},
     "output_type": "execute_result"
    }
   ],
   "source": [
    "c.radius"
   ]
  },
  {
   "cell_type": "code",
   "execution_count": 7,
   "id": "21be2cec-0c99-4271-bafe-7b9c9743b74f",
   "metadata": {},
   "outputs": [
    {
     "ename": "ValueError",
     "evalue": "Radius must be positive!",
     "output_type": "error",
     "traceback": [
      "\u001b[0;31m---------------------------------------------------------------------------\u001b[0m",
      "\u001b[0;31mValueError\u001b[0m                                Traceback (most recent call last)",
      "Cell \u001b[0;32mIn[7], line 1\u001b[0m\n\u001b[0;32m----> 1\u001b[0m \u001b[43mc\u001b[49m\u001b[38;5;241;43m.\u001b[39;49m\u001b[43mradius\u001b[49m \u001b[38;5;241m=\u001b[39m \u001b[38;5;241m-\u001b[39m\u001b[38;5;241m10\u001b[39m\n",
      "Cell \u001b[0;32mIn[1], line 17\u001b[0m, in \u001b[0;36mCircle.radius\u001b[0;34m(self, value)\u001b[0m\n\u001b[1;32m     15\u001b[0m     \u001b[38;5;28mself\u001b[39m\u001b[38;5;241m.\u001b[39m_radius \u001b[38;5;241m=\u001b[39m value\n\u001b[1;32m     16\u001b[0m \u001b[38;5;28;01melse\u001b[39;00m:\n\u001b[0;32m---> 17\u001b[0m     \u001b[38;5;28;01mraise\u001b[39;00m \u001b[38;5;167;01mValueError\u001b[39;00m(\u001b[38;5;124m\"\u001b[39m\u001b[38;5;124mRadius must be positive!\u001b[39m\u001b[38;5;124m\"\u001b[39m)\n",
      "\u001b[0;31mValueError\u001b[0m: Radius must be positive!"
     ]
    }
   ],
   "source": [
    "c.radius = -10"
   ]
  },
  {
   "cell_type": "code",
   "execution_count": 8,
   "id": "ee166f2a-2812-4df8-bcdc-db0494755573",
   "metadata": {},
   "outputs": [],
   "source": [
    "del c._radius"
   ]
  },
  {
   "cell_type": "code",
   "execution_count": 9,
   "id": "dfd6e95c-2246-4c86-a24d-a001649f29d2",
   "metadata": {},
   "outputs": [
    {
     "name": "stdout",
     "output_type": "stream",
     "text": [
      "You called me!\n"
     ]
    },
    {
     "ename": "AttributeError",
     "evalue": "'Circle' object has no attribute '_radius'",
     "output_type": "error",
     "traceback": [
      "\u001b[0;31m---------------------------------------------------------------------------\u001b[0m",
      "\u001b[0;31mAttributeError\u001b[0m                            Traceback (most recent call last)",
      "Cell \u001b[0;32mIn[9], line 1\u001b[0m\n\u001b[0;32m----> 1\u001b[0m \u001b[43mc\u001b[49m\u001b[38;5;241;43m.\u001b[39;49m\u001b[43mradius\u001b[49m\n",
      "Cell \u001b[0;32mIn[1], line 9\u001b[0m, in \u001b[0;36mCircle.radius\u001b[0;34m(self)\u001b[0m\n\u001b[1;32m      7\u001b[0m \u001b[38;5;250m\u001b[39m\u001b[38;5;124;03m\"\"\"Get the radius of the circle.\"\"\"\u001b[39;00m\n\u001b[1;32m      8\u001b[0m \u001b[38;5;28mprint\u001b[39m(\u001b[38;5;124m\"\u001b[39m\u001b[38;5;124mYou called me!\u001b[39m\u001b[38;5;124m\"\u001b[39m)\n\u001b[0;32m----> 9\u001b[0m \u001b[38;5;28;01mreturn\u001b[39;00m \u001b[38;5;28;43mself\u001b[39;49m\u001b[38;5;241;43m.\u001b[39;49m\u001b[43m_radius\u001b[49m\n",
      "\u001b[0;31mAttributeError\u001b[0m: 'Circle' object has no attribute '_radius'"
     ]
    }
   ],
   "source": [
    "c.radius"
   ]
  },
  {
   "cell_type": "code",
   "execution_count": 10,
   "id": "d6696e9d-2b2b-4256-ba6a-ca1a3befacad",
   "metadata": {},
   "outputs": [],
   "source": [
    "c = Circle(5)"
   ]
  },
  {
   "cell_type": "code",
   "execution_count": 11,
   "id": "a43dee25-8639-4b4e-a06e-e69607717df4",
   "metadata": {},
   "outputs": [
    {
     "name": "stdout",
     "output_type": "stream",
     "text": [
      "You deleted me!\n"
     ]
    }
   ],
   "source": [
    "del c.radius"
   ]
  },
  {
   "cell_type": "code",
   "execution_count": 12,
   "id": "3562223a-fbe6-445d-9a37-f5c053291f16",
   "metadata": {},
   "outputs": [
    {
     "name": "stdout",
     "output_type": "stream",
     "text": [
      "You called me!\n"
     ]
    },
    {
     "ename": "AttributeError",
     "evalue": "'Circle' object has no attribute '_radius'",
     "output_type": "error",
     "traceback": [
      "\u001b[0;31m---------------------------------------------------------------------------\u001b[0m",
      "\u001b[0;31mAttributeError\u001b[0m                            Traceback (most recent call last)",
      "Cell \u001b[0;32mIn[12], line 1\u001b[0m\n\u001b[0;32m----> 1\u001b[0m \u001b[43mc\u001b[49m\u001b[38;5;241;43m.\u001b[39;49m\u001b[43mradius\u001b[49m\n",
      "Cell \u001b[0;32mIn[1], line 9\u001b[0m, in \u001b[0;36mCircle.radius\u001b[0;34m(self)\u001b[0m\n\u001b[1;32m      7\u001b[0m \u001b[38;5;250m\u001b[39m\u001b[38;5;124;03m\"\"\"Get the radius of the circle.\"\"\"\u001b[39;00m\n\u001b[1;32m      8\u001b[0m \u001b[38;5;28mprint\u001b[39m(\u001b[38;5;124m\"\u001b[39m\u001b[38;5;124mYou called me!\u001b[39m\u001b[38;5;124m\"\u001b[39m)\n\u001b[0;32m----> 9\u001b[0m \u001b[38;5;28;01mreturn\u001b[39;00m \u001b[38;5;28;43mself\u001b[39;49m\u001b[38;5;241;43m.\u001b[39;49m\u001b[43m_radius\u001b[49m\n",
      "\u001b[0;31mAttributeError\u001b[0m: 'Circle' object has no attribute '_radius'"
     ]
    }
   ],
   "source": [
    "c.radius"
   ]
  },
  {
   "cell_type": "markdown",
   "id": "ce154b95-9637-41ba-a3dd-88c698fa0618",
   "metadata": {},
   "source": [
    "# Moje"
   ]
  },
  {
   "cell_type": "code",
   "execution_count": 13,
   "id": "10a50d70-6697-40f9-80e5-7aafc886e2b4",
   "metadata": {},
   "outputs": [],
   "source": [
    "class Moje:\n",
    "    def __init__(self, moje1, moje2):\n",
    "        self._moje1 = moje1\n",
    "        self.__moje2 = moje2\n",
    "    def moje1(self):\n",
    "        return self._moje1\n",
    "    def moje2(self):\n",
    "        return self.__moje2"
   ]
  },
  {
   "cell_type": "code",
   "execution_count": 14,
   "id": "cec2f87e-e0c3-41da-b828-517c18fd4bb5",
   "metadata": {},
   "outputs": [],
   "source": [
    "moje = Moje(1, 2)"
   ]
  },
  {
   "cell_type": "code",
   "execution_count": 15,
   "id": "ac421460-6588-41ce-b26e-2000a2c69895",
   "metadata": {},
   "outputs": [
    {
     "data": {
      "text/plain": [
       "<__main__.Moje at 0x110491b50>"
      ]
     },
     "execution_count": 15,
     "metadata": {},
     "output_type": "execute_result"
    }
   ],
   "source": [
    "moje"
   ]
  },
  {
   "cell_type": "code",
   "execution_count": 16,
   "id": "86f064d8-f160-4e55-99ee-a0f71dd3751e",
   "metadata": {},
   "outputs": [
    {
     "data": {
      "text/plain": [
       "__main__.Moje"
      ]
     },
     "execution_count": 16,
     "metadata": {},
     "output_type": "execute_result"
    }
   ],
   "source": [
    "moje.__class__"
   ]
  },
  {
   "cell_type": "code",
   "execution_count": 17,
   "id": "36e80921-0e36-460f-8aa8-7a800bf2a502",
   "metadata": {},
   "outputs": [],
   "source": [
    "moje.__doc__"
   ]
  },
  {
   "cell_type": "code",
   "execution_count": 18,
   "id": "e9b55b17-8058-4b97-8780-b62d32d8ff57",
   "metadata": {},
   "outputs": [
    {
     "data": {
      "text/plain": [
       "1"
      ]
     },
     "execution_count": 18,
     "metadata": {},
     "output_type": "execute_result"
    }
   ],
   "source": [
    "moje.moje1()"
   ]
  },
  {
   "cell_type": "code",
   "execution_count": 19,
   "id": "761bf83c-462e-4446-b471-bf4de26454b8",
   "metadata": {},
   "outputs": [
    {
     "data": {
      "text/plain": [
       "2"
      ]
     },
     "execution_count": 19,
     "metadata": {},
     "output_type": "execute_result"
    }
   ],
   "source": [
    "moje.moje2()"
   ]
  },
  {
   "cell_type": "code",
   "execution_count": 20,
   "id": "29525755-96d7-4efd-ac68-92d0e100dc07",
   "metadata": {},
   "outputs": [
    {
     "data": {
      "text/plain": [
       "1"
      ]
     },
     "execution_count": 20,
     "metadata": {},
     "output_type": "execute_result"
    }
   ],
   "source": [
    "moje._moje1"
   ]
  },
  {
   "cell_type": "code",
   "execution_count": 21,
   "id": "3e38ee91-6cbc-4da7-b53d-843462307adf",
   "metadata": {},
   "outputs": [],
   "source": [
    "moje._moje1 = 11"
   ]
  },
  {
   "cell_type": "code",
   "execution_count": 22,
   "id": "4767ed03-fd17-4970-98f7-08c775854c2f",
   "metadata": {},
   "outputs": [
    {
     "data": {
      "text/plain": [
       "11"
      ]
     },
     "execution_count": 22,
     "metadata": {},
     "output_type": "execute_result"
    }
   ],
   "source": [
    "moje.moje1()"
   ]
  },
  {
   "cell_type": "code",
   "execution_count": 23,
   "id": "90ac27ca-1265-4d71-befd-ddc48b459174",
   "metadata": {},
   "outputs": [
    {
     "data": {
      "text/plain": [
       "11"
      ]
     },
     "execution_count": 23,
     "metadata": {},
     "output_type": "execute_result"
    }
   ],
   "source": [
    "moje._moje1"
   ]
  },
  {
   "cell_type": "code",
   "execution_count": 24,
   "id": "71dd308e-cf4b-401b-a4ba-4031b1d11719",
   "metadata": {},
   "outputs": [
    {
     "ename": "AttributeError",
     "evalue": "'Moje' object has no attribute '__moje2'",
     "output_type": "error",
     "traceback": [
      "\u001b[0;31m---------------------------------------------------------------------------\u001b[0m",
      "\u001b[0;31mAttributeError\u001b[0m                            Traceback (most recent call last)",
      "Cell \u001b[0;32mIn[24], line 1\u001b[0m\n\u001b[0;32m----> 1\u001b[0m \u001b[43mmoje\u001b[49m\u001b[38;5;241;43m.\u001b[39;49m\u001b[43m__moje2\u001b[49m\n",
      "\u001b[0;31mAttributeError\u001b[0m: 'Moje' object has no attribute '__moje2'"
     ]
    }
   ],
   "source": [
    "moje.__moje2"
   ]
  },
  {
   "cell_type": "code",
   "execution_count": 25,
   "id": "8936e4e9-540c-4459-8e20-fbd5fab945d6",
   "metadata": {},
   "outputs": [],
   "source": [
    "moje.__moje2 = 22"
   ]
  },
  {
   "cell_type": "code",
   "execution_count": 26,
   "id": "cda1624a-a81e-48f1-a6b1-96da01c6bea6",
   "metadata": {},
   "outputs": [
    {
     "data": {
      "text/plain": [
       "2"
      ]
     },
     "execution_count": 26,
     "metadata": {},
     "output_type": "execute_result"
    }
   ],
   "source": [
    "moje.moje2()"
   ]
  },
  {
   "cell_type": "code",
   "execution_count": 27,
   "id": "19851248-09fc-4c1e-8860-ca9ec1cc1d49",
   "metadata": {},
   "outputs": [
    {
     "data": {
      "text/plain": [
       "22"
      ]
     },
     "execution_count": 27,
     "metadata": {},
     "output_type": "execute_result"
    }
   ],
   "source": [
    "moje.__moje2"
   ]
  },
  {
   "cell_type": "code",
   "execution_count": 28,
   "id": "f6fa97cd-5645-4b62-97e4-bb28f1532e69",
   "metadata": {},
   "outputs": [],
   "source": [
    "del moje.__moje2"
   ]
  },
  {
   "cell_type": "code",
   "execution_count": 29,
   "id": "2f18bef6-dae0-434e-a9ba-72692c3b1181",
   "metadata": {},
   "outputs": [
    {
     "data": {
      "text/plain": [
       "2"
      ]
     },
     "execution_count": 29,
     "metadata": {},
     "output_type": "execute_result"
    }
   ],
   "source": [
    "moje.moje2()"
   ]
  },
  {
   "cell_type": "code",
   "execution_count": 30,
   "id": "ea09f2a8-f909-4349-90f6-f22141c35a44",
   "metadata": {},
   "outputs": [
    {
     "ename": "AttributeError",
     "evalue": "'Moje' object has no attribute '__moje2'",
     "output_type": "error",
     "traceback": [
      "\u001b[0;31m---------------------------------------------------------------------------\u001b[0m",
      "\u001b[0;31mAttributeError\u001b[0m                            Traceback (most recent call last)",
      "Cell \u001b[0;32mIn[30], line 1\u001b[0m\n\u001b[0;32m----> 1\u001b[0m \u001b[43mmoje\u001b[49m\u001b[38;5;241;43m.\u001b[39;49m\u001b[43m__moje2\u001b[49m\n",
      "\u001b[0;31mAttributeError\u001b[0m: 'Moje' object has no attribute '__moje2'"
     ]
    }
   ],
   "source": [
    "moje.__moje2"
   ]
  },
  {
   "cell_type": "markdown",
   "id": "ffbe9739-c91e-4599-b251-8039cb301b25",
   "metadata": {},
   "source": [
    "# MojeCircle property"
   ]
  },
  {
   "cell_type": "code",
   "execution_count": 31,
   "id": "ac0ce466-6c1a-45b0-b106-b1b93bee3454",
   "metadata": {},
   "outputs": [],
   "source": [
    "class MojeCircle:\n",
    "    def __init__(self, radius):\n",
    "        self.__radius = radius\n",
    "\n",
    "    @property\n",
    "    def radius(self):\n",
    "        \"\"\"Get the radius of the circle.\"\"\"\n",
    "        print(\"You called me!\")\n",
    "        return self.__radius\n",
    "\n",
    "    @radius.setter\n",
    "    def radius(self, value):\n",
    "        \"\"\"Set the radius of the circle. Must be positive.\"\"\"\n",
    "        if value >= 0:\n",
    "            print(\"You setted me!\")\n",
    "            self.__radius = value\n",
    "            return self.__radius \n",
    "        else:\n",
    "            raise ValueError(\"Radius must be positive!\")\n",
    "\n",
    "    @radius.deleter\n",
    "    def radius(self):\n",
    "        print (\"You deleted me!\")\n",
    "        del self.__radius"
   ]
  },
  {
   "cell_type": "code",
   "execution_count": 32,
   "id": "feabb0fe-8180-4689-a89d-860fa9e7a734",
   "metadata": {},
   "outputs": [],
   "source": [
    "mc = MojeCircle(5)"
   ]
  },
  {
   "cell_type": "code",
   "execution_count": 33,
   "id": "ae320d74-c835-4bb9-a48b-87582932ee27",
   "metadata": {},
   "outputs": [
    {
     "ename": "AttributeError",
     "evalue": "'MojeCircle' object has no attribute '__radius'",
     "output_type": "error",
     "traceback": [
      "\u001b[0;31m---------------------------------------------------------------------------\u001b[0m",
      "\u001b[0;31mAttributeError\u001b[0m                            Traceback (most recent call last)",
      "Cell \u001b[0;32mIn[33], line 1\u001b[0m\n\u001b[0;32m----> 1\u001b[0m \u001b[43mmc\u001b[49m\u001b[38;5;241;43m.\u001b[39;49m\u001b[43m__radius\u001b[49m\n",
      "\u001b[0;31mAttributeError\u001b[0m: 'MojeCircle' object has no attribute '__radius'"
     ]
    }
   ],
   "source": [
    "mc.__radius"
   ]
  },
  {
   "cell_type": "code",
   "execution_count": 34,
   "id": "dc4bb8ee-bcce-4e62-ac9f-6a20e193ad77",
   "metadata": {},
   "outputs": [
    {
     "name": "stdout",
     "output_type": "stream",
     "text": [
      "You called me!\n"
     ]
    },
    {
     "data": {
      "text/plain": [
       "5"
      ]
     },
     "execution_count": 34,
     "metadata": {},
     "output_type": "execute_result"
    }
   ],
   "source": [
    "mc.radius"
   ]
  },
  {
   "cell_type": "code",
   "execution_count": 35,
   "id": "c894d471-b107-47f6-aee1-8af46508cf30",
   "metadata": {},
   "outputs": [
    {
     "data": {
      "text/plain": [
       "5"
      ]
     },
     "execution_count": 35,
     "metadata": {},
     "output_type": "execute_result"
    }
   ],
   "source": [
    "# dá se na to destat takto:\n",
    "mc._MojeCircle__radius"
   ]
  },
  {
   "cell_type": "code",
   "execution_count": 36,
   "id": "6ce3e370-ba54-479f-8919-716a9bf9232b",
   "metadata": {},
   "outputs": [
    {
     "ename": "ValueError",
     "evalue": "Radius must be positive!",
     "output_type": "error",
     "traceback": [
      "\u001b[0;31m---------------------------------------------------------------------------\u001b[0m",
      "\u001b[0;31mValueError\u001b[0m                                Traceback (most recent call last)",
      "Cell \u001b[0;32mIn[36], line 1\u001b[0m\n\u001b[0;32m----> 1\u001b[0m \u001b[43mmc\u001b[49m\u001b[38;5;241;43m.\u001b[39;49m\u001b[43mradius\u001b[49m \u001b[38;5;241m=\u001b[39m \u001b[38;5;241m-\u001b[39m\u001b[38;5;241m10\u001b[39m\n",
      "Cell \u001b[0;32mIn[31], line 19\u001b[0m, in \u001b[0;36mMojeCircle.radius\u001b[0;34m(self, value)\u001b[0m\n\u001b[1;32m     17\u001b[0m     \u001b[38;5;28;01mreturn\u001b[39;00m \u001b[38;5;28mself\u001b[39m\u001b[38;5;241m.\u001b[39m__radius \n\u001b[1;32m     18\u001b[0m \u001b[38;5;28;01melse\u001b[39;00m:\n\u001b[0;32m---> 19\u001b[0m     \u001b[38;5;28;01mraise\u001b[39;00m \u001b[38;5;167;01mValueError\u001b[39;00m(\u001b[38;5;124m\"\u001b[39m\u001b[38;5;124mRadius must be positive!\u001b[39m\u001b[38;5;124m\"\u001b[39m)\n",
      "\u001b[0;31mValueError\u001b[0m: Radius must be positive!"
     ]
    }
   ],
   "source": [
    "mc.radius = -10"
   ]
  },
  {
   "cell_type": "code",
   "execution_count": 37,
   "id": "4f05d0a9-1e6e-4208-9db4-df06ec47640a",
   "metadata": {},
   "outputs": [
    {
     "name": "stdout",
     "output_type": "stream",
     "text": [
      "You setted me!\n"
     ]
    }
   ],
   "source": [
    "mc.radius = 10"
   ]
  },
  {
   "cell_type": "code",
   "execution_count": 38,
   "id": "ea4b7e83-8f98-47e3-a494-f4784dfea580",
   "metadata": {},
   "outputs": [
    {
     "name": "stdout",
     "output_type": "stream",
     "text": [
      "You called me!\n"
     ]
    },
    {
     "data": {
      "text/plain": [
       "10"
      ]
     },
     "execution_count": 38,
     "metadata": {},
     "output_type": "execute_result"
    }
   ],
   "source": [
    "mc.radius"
   ]
  },
  {
   "cell_type": "code",
   "execution_count": 39,
   "id": "e23f92a2-9c51-42aa-a2d2-c441c371f8ac",
   "metadata": {},
   "outputs": [
    {
     "ename": "AttributeError",
     "evalue": "'MojeCircle' object has no attribute '__radius'",
     "output_type": "error",
     "traceback": [
      "\u001b[0;31m---------------------------------------------------------------------------\u001b[0m",
      "\u001b[0;31mAttributeError\u001b[0m                            Traceback (most recent call last)",
      "Cell \u001b[0;32mIn[39], line 1\u001b[0m\n\u001b[0;32m----> 1\u001b[0m \u001b[38;5;28;01mdel\u001b[39;00m \u001b[43mmc\u001b[49m\u001b[38;5;241;43m.\u001b[39;49m\u001b[43m__radius\u001b[49m\n",
      "\u001b[0;31mAttributeError\u001b[0m: 'MojeCircle' object has no attribute '__radius'"
     ]
    }
   ],
   "source": [
    "del mc.__radius"
   ]
  },
  {
   "cell_type": "code",
   "execution_count": 40,
   "id": "d06bc284-f6ee-4ec0-a6e7-8c49ae5c9dfe",
   "metadata": {},
   "outputs": [
    {
     "name": "stdout",
     "output_type": "stream",
     "text": [
      "You deleted me!\n"
     ]
    }
   ],
   "source": [
    "del mc.radius"
   ]
  },
  {
   "cell_type": "code",
   "execution_count": 41,
   "id": "23f1336d-e727-4eec-b8da-8e4460ba3170",
   "metadata": {},
   "outputs": [
    {
     "name": "stdout",
     "output_type": "stream",
     "text": [
      "You called me!\n"
     ]
    },
    {
     "ename": "AttributeError",
     "evalue": "'MojeCircle' object has no attribute '_MojeCircle__radius'",
     "output_type": "error",
     "traceback": [
      "\u001b[0;31m---------------------------------------------------------------------------\u001b[0m",
      "\u001b[0;31mAttributeError\u001b[0m                            Traceback (most recent call last)",
      "Cell \u001b[0;32mIn[41], line 1\u001b[0m\n\u001b[0;32m----> 1\u001b[0m \u001b[43mmc\u001b[49m\u001b[38;5;241;43m.\u001b[39;49m\u001b[43mradius\u001b[49m\n",
      "Cell \u001b[0;32mIn[31], line 9\u001b[0m, in \u001b[0;36mMojeCircle.radius\u001b[0;34m(self)\u001b[0m\n\u001b[1;32m      7\u001b[0m \u001b[38;5;250m\u001b[39m\u001b[38;5;124;03m\"\"\"Get the radius of the circle.\"\"\"\u001b[39;00m\n\u001b[1;32m      8\u001b[0m \u001b[38;5;28mprint\u001b[39m(\u001b[38;5;124m\"\u001b[39m\u001b[38;5;124mYou called me!\u001b[39m\u001b[38;5;124m\"\u001b[39m)\n\u001b[0;32m----> 9\u001b[0m \u001b[38;5;28;01mreturn\u001b[39;00m \u001b[38;5;28;43mself\u001b[39;49m\u001b[38;5;241;43m.\u001b[39;49m\u001b[43m__radius\u001b[49m\n",
      "\u001b[0;31mAttributeError\u001b[0m: 'MojeCircle' object has no attribute '_MojeCircle__radius'"
     ]
    }
   ],
   "source": [
    "mc.radius"
   ]
  },
  {
   "cell_type": "code",
   "execution_count": 42,
   "id": "69bbe854-5183-492e-bf0e-f4a6308662dd",
   "metadata": {},
   "outputs": [],
   "source": [
    "mc._MojeCircle__radius = -55"
   ]
  },
  {
   "cell_type": "code",
   "execution_count": 43,
   "id": "6108a1f0-ea14-41be-8600-d400785cb99c",
   "metadata": {},
   "outputs": [
    {
     "name": "stdout",
     "output_type": "stream",
     "text": [
      "You called me!\n"
     ]
    },
    {
     "data": {
      "text/plain": [
       "-55"
      ]
     },
     "execution_count": 43,
     "metadata": {},
     "output_type": "execute_result"
    }
   ],
   "source": [
    "mc.radius"
   ]
  },
  {
   "cell_type": "code",
   "execution_count": 44,
   "id": "df5e7490-170e-4e4c-9858-57c6020b3c1c",
   "metadata": {},
   "outputs": [
    {
     "data": {
      "text/plain": [
       "-55"
      ]
     },
     "execution_count": 44,
     "metadata": {},
     "output_type": "execute_result"
    }
   ],
   "source": [
    "mc._MojeCircle__radius"
   ]
  },
  {
   "cell_type": "code",
   "execution_count": 45,
   "id": "6bf7269d-d8d1-4431-925f-944fb96eab36",
   "metadata": {},
   "outputs": [],
   "source": [
    "del mc._MojeCircle__radius"
   ]
  },
  {
   "cell_type": "code",
   "execution_count": 46,
   "id": "799d7adf-ca40-4f9a-a956-06072c3fcd33",
   "metadata": {},
   "outputs": [
    {
     "name": "stdout",
     "output_type": "stream",
     "text": [
      "You called me!\n"
     ]
    },
    {
     "ename": "AttributeError",
     "evalue": "'MojeCircle' object has no attribute '_MojeCircle__radius'",
     "output_type": "error",
     "traceback": [
      "\u001b[0;31m---------------------------------------------------------------------------\u001b[0m",
      "\u001b[0;31mAttributeError\u001b[0m                            Traceback (most recent call last)",
      "Cell \u001b[0;32mIn[46], line 1\u001b[0m\n\u001b[0;32m----> 1\u001b[0m \u001b[43mmc\u001b[49m\u001b[38;5;241;43m.\u001b[39;49m\u001b[43mradius\u001b[49m\n",
      "Cell \u001b[0;32mIn[31], line 9\u001b[0m, in \u001b[0;36mMojeCircle.radius\u001b[0;34m(self)\u001b[0m\n\u001b[1;32m      7\u001b[0m \u001b[38;5;250m\u001b[39m\u001b[38;5;124;03m\"\"\"Get the radius of the circle.\"\"\"\u001b[39;00m\n\u001b[1;32m      8\u001b[0m \u001b[38;5;28mprint\u001b[39m(\u001b[38;5;124m\"\u001b[39m\u001b[38;5;124mYou called me!\u001b[39m\u001b[38;5;124m\"\u001b[39m)\n\u001b[0;32m----> 9\u001b[0m \u001b[38;5;28;01mreturn\u001b[39;00m \u001b[38;5;28;43mself\u001b[39;49m\u001b[38;5;241;43m.\u001b[39;49m\u001b[43m__radius\u001b[49m\n",
      "\u001b[0;31mAttributeError\u001b[0m: 'MojeCircle' object has no attribute '_MojeCircle__radius'"
     ]
    }
   ],
   "source": [
    "mc.radius"
   ]
  },
  {
   "cell_type": "code",
   "execution_count": null,
   "id": "4c6eecb5-edd9-403c-9191-235999a51141",
   "metadata": {},
   "outputs": [],
   "source": []
  }
 ],
 "metadata": {
  "kernelspec": {
   "display_name": "Python 3 (ipykernel)",
   "language": "python",
   "name": "python3"
  },
  "language_info": {
   "codemirror_mode": {
    "name": "ipython",
    "version": 3
   },
   "file_extension": ".py",
   "mimetype": "text/x-python",
   "name": "python",
   "nbconvert_exporter": "python",
   "pygments_lexer": "ipython3",
   "version": "3.11.8"
  }
 },
 "nbformat": 4,
 "nbformat_minor": 5
}
