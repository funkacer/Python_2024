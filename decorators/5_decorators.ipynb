{
 "cells": [
  {
   "cell_type": "markdown",
   "id": "608a1e75-0f3d-4955-a0d6-d55181ce2b88",
   "metadata": {},
   "source": [
    "https://www.youtube.com/watch?v=JgxCY-tbWHA"
   ]
  },
  {
   "cell_type": "markdown",
   "id": "d43ab066-e460-43f6-9eb3-a4a40b69993b",
   "metadata": {},
   "source": [
    "# @timer"
   ]
  },
  {
   "cell_type": "code",
   "execution_count": 1,
   "id": "f566b709-d9be-4a39-abc5-76e99c11999d",
   "metadata": {},
   "outputs": [],
   "source": [
    "import time"
   ]
  },
  {
   "cell_type": "code",
   "execution_count": 2,
   "id": "6068684f-64a1-41c2-b310-f3d959260c11",
   "metadata": {},
   "outputs": [],
   "source": [
    "def timer(func):\n",
    "    def wrapper(*args, **kwargs):\n",
    "        start_time = time.time() # Start time\n",
    "        result = func(*args, **kwargs) # Call the decorated function\n",
    "        end_time = time.time() # End time\n",
    "        print(f\"Function {func.__name__!r} took {end_time - start_time:.4f} sec\")\n",
    "        return result\n",
    "    \n",
    "    return wrapper"
   ]
  },
  {
   "cell_type": "code",
   "execution_count": 3,
   "id": "226fbff3-4898-4484-be71-9d27b21ce99f",
   "metadata": {},
   "outputs": [],
   "source": [
    "def example_function(n):\n",
    "    return f\"The sum is {sum(range(n))}\""
   ]
  },
  {
   "cell_type": "code",
   "execution_count": 4,
   "id": "5005e115-592d-428b-ad08-4c1c9bf55720",
   "metadata": {},
   "outputs": [
    {
     "data": {
      "text/plain": [
       "'The sum is 499999500000'"
      ]
     },
     "execution_count": 4,
     "metadata": {},
     "output_type": "execute_result"
    }
   ],
   "source": [
    "example_function(1000000)"
   ]
  },
  {
   "cell_type": "code",
   "execution_count": 5,
   "id": "cb3b1e6c-56a7-4de7-adfa-7eae19987a0f",
   "metadata": {},
   "outputs": [
    {
     "data": {
      "text/plain": [
       "<function __main__.timer.<locals>.wrapper(*args, **kwargs)>"
      ]
     },
     "execution_count": 5,
     "metadata": {},
     "output_type": "execute_result"
    }
   ],
   "source": [
    "timer(example_function(1000000))"
   ]
  },
  {
   "cell_type": "code",
   "execution_count": 6,
   "id": "93dee2f2-c07b-473b-a3d0-56a7141f80a6",
   "metadata": {},
   "outputs": [],
   "source": [
    "example_function = timer(example_function)"
   ]
  },
  {
   "cell_type": "code",
   "execution_count": 7,
   "id": "e11a1888-a88c-4a5b-8e28-7ec08f69d8b9",
   "metadata": {},
   "outputs": [
    {
     "name": "stdout",
     "output_type": "stream",
     "text": [
      "Function 'example_function' took 0.0083 sec\n"
     ]
    },
    {
     "data": {
      "text/plain": [
       "'The sum is 499999500000'"
      ]
     },
     "execution_count": 7,
     "metadata": {},
     "output_type": "execute_result"
    }
   ],
   "source": [
    "example_function(1000000)"
   ]
  },
  {
   "cell_type": "code",
   "execution_count": 8,
   "id": "6f9f5d9d-bd1d-4ed5-8c9c-4a70923aab9c",
   "metadata": {},
   "outputs": [],
   "source": [
    "@timer\n",
    "def example_function(n):\n",
    "    return f\"The sum is {sum(range(n))}\""
   ]
  },
  {
   "cell_type": "code",
   "execution_count": 9,
   "id": "aa17174b-38f3-40f2-bf6d-ff30de12fe50",
   "metadata": {},
   "outputs": [
    {
     "name": "stdout",
     "output_type": "stream",
     "text": [
      "Function 'example_function' took 0.0084 sec\n"
     ]
    },
    {
     "data": {
      "text/plain": [
       "'The sum is 499999500000'"
      ]
     },
     "execution_count": 9,
     "metadata": {},
     "output_type": "execute_result"
    }
   ],
   "source": [
    "example_function(1000000)"
   ]
  },
  {
   "cell_type": "markdown",
   "id": "470e665a-d0a8-4ab0-9ce7-818d38d51f3e",
   "metadata": {},
   "source": [
    "# @property"
   ]
  },
  {
   "cell_type": "code",
   "execution_count": 70,
   "id": "a68a96e6-d0d4-4216-864f-dd107dc94c53",
   "metadata": {},
   "outputs": [],
   "source": [
    "class Circle:\n",
    "    def __init__(self, radius):\n",
    "        self._radius = radius\n",
    "\n",
    "    @property\n",
    "    def radius(self):\n",
    "        \"\"\"Get the radius of the circle.\"\"\"\n",
    "        print(\"You called me!\")\n",
    "        return self._radius\n",
    "\n",
    "    @radius.setter\n",
    "    def radius(self, value):\n",
    "        \"\"\"Set the radius of the circle. Must be positive.\"\"\"\n",
    "        if value >= 0:\n",
    "            self._radius = value\n",
    "        else:\n",
    "            raise ValueError(\"Radius must be positive!\")\n",
    "\n",
    "    @radius.deleter\n",
    "    def radius(self):\n",
    "        print (\"You deleted me!\")\n",
    "        del self._radius"
   ]
  },
  {
   "cell_type": "code",
   "execution_count": 79,
   "id": "eb78cea3-b555-4169-88ae-4d4d0e47e7a8",
   "metadata": {},
   "outputs": [],
   "source": [
    "c = Circle(5)"
   ]
  },
  {
   "cell_type": "code",
   "execution_count": 80,
   "id": "580acbb1-3f92-4149-bf44-f69762cda0db",
   "metadata": {},
   "outputs": [
    {
     "data": {
      "text/plain": [
       "5"
      ]
     },
     "execution_count": 80,
     "metadata": {},
     "output_type": "execute_result"
    }
   ],
   "source": [
    "c._radius"
   ]
  },
  {
   "cell_type": "code",
   "execution_count": 81,
   "id": "7f9a2bc7-947e-49b8-a7b8-77311dbc0063",
   "metadata": {},
   "outputs": [
    {
     "name": "stdout",
     "output_type": "stream",
     "text": [
      "You called me!\n"
     ]
    },
    {
     "data": {
      "text/plain": [
       "5"
      ]
     },
     "execution_count": 81,
     "metadata": {},
     "output_type": "execute_result"
    }
   ],
   "source": [
    "c.radius"
   ]
  },
  {
   "cell_type": "code",
   "execution_count": 82,
   "id": "327dd14f-7c49-42fa-9117-df09c23be3d0",
   "metadata": {},
   "outputs": [],
   "source": [
    "c.radius = 10"
   ]
  },
  {
   "cell_type": "code",
   "execution_count": 83,
   "id": "39fc6eee-58b6-4b2f-a0e3-ac48f0f6bf16",
   "metadata": {},
   "outputs": [
    {
     "name": "stdout",
     "output_type": "stream",
     "text": [
      "You called me!\n"
     ]
    },
    {
     "data": {
      "text/plain": [
       "10"
      ]
     },
     "execution_count": 83,
     "metadata": {},
     "output_type": "execute_result"
    }
   ],
   "source": [
    "c.radius"
   ]
  },
  {
   "cell_type": "code",
   "execution_count": 84,
   "id": "21be2cec-0c99-4271-bafe-7b9c9743b74f",
   "metadata": {},
   "outputs": [
    {
     "ename": "ValueError",
     "evalue": "Radius must be positive!",
     "output_type": "error",
     "traceback": [
      "\u001b[1;31m---------------------------------------------------------------------------\u001b[0m",
      "\u001b[1;31mValueError\u001b[0m                                Traceback (most recent call last)",
      "Cell \u001b[1;32mIn[84], line 1\u001b[0m\n\u001b[1;32m----> 1\u001b[0m \u001b[43mc\u001b[49m\u001b[38;5;241;43m.\u001b[39;49m\u001b[43mradius\u001b[49m \u001b[38;5;241m=\u001b[39m \u001b[38;5;241m-\u001b[39m\u001b[38;5;241m10\u001b[39m\n",
      "Cell \u001b[1;32mIn[70], line 17\u001b[0m, in \u001b[0;36mCircle.radius\u001b[1;34m(self, value)\u001b[0m\n\u001b[0;32m     15\u001b[0m     \u001b[38;5;28mself\u001b[39m\u001b[38;5;241m.\u001b[39m_radius \u001b[38;5;241m=\u001b[39m value\n\u001b[0;32m     16\u001b[0m \u001b[38;5;28;01melse\u001b[39;00m:\n\u001b[1;32m---> 17\u001b[0m     \u001b[38;5;28;01mraise\u001b[39;00m \u001b[38;5;167;01mValueError\u001b[39;00m(\u001b[38;5;124m\"\u001b[39m\u001b[38;5;124mRadius must be positive!\u001b[39m\u001b[38;5;124m\"\u001b[39m)\n",
      "\u001b[1;31mValueError\u001b[0m: Radius must be positive!"
     ]
    }
   ],
   "source": [
    "c.radius = -10"
   ]
  },
  {
   "cell_type": "code",
   "execution_count": 85,
   "id": "ee166f2a-2812-4df8-bcdc-db0494755573",
   "metadata": {},
   "outputs": [],
   "source": [
    "del c._radius"
   ]
  },
  {
   "cell_type": "code",
   "execution_count": 86,
   "id": "dfd6e95c-2246-4c86-a24d-a001649f29d2",
   "metadata": {},
   "outputs": [
    {
     "name": "stdout",
     "output_type": "stream",
     "text": [
      "You called me!\n"
     ]
    },
    {
     "ename": "AttributeError",
     "evalue": "'Circle' object has no attribute '_radius'",
     "output_type": "error",
     "traceback": [
      "\u001b[1;31m---------------------------------------------------------------------------\u001b[0m",
      "\u001b[1;31mAttributeError\u001b[0m                            Traceback (most recent call last)",
      "Cell \u001b[1;32mIn[86], line 1\u001b[0m\n\u001b[1;32m----> 1\u001b[0m \u001b[43mc\u001b[49m\u001b[38;5;241;43m.\u001b[39;49m\u001b[43mradius\u001b[49m\n",
      "Cell \u001b[1;32mIn[70], line 9\u001b[0m, in \u001b[0;36mCircle.radius\u001b[1;34m(self)\u001b[0m\n\u001b[0;32m      7\u001b[0m \u001b[38;5;250m\u001b[39m\u001b[38;5;124;03m\"\"\"Get the radius of the circle.\"\"\"\u001b[39;00m\n\u001b[0;32m      8\u001b[0m \u001b[38;5;28mprint\u001b[39m(\u001b[38;5;124m\"\u001b[39m\u001b[38;5;124mYou called me!\u001b[39m\u001b[38;5;124m\"\u001b[39m)\n\u001b[1;32m----> 9\u001b[0m \u001b[38;5;28;01mreturn\u001b[39;00m \u001b[38;5;28;43mself\u001b[39;49m\u001b[38;5;241;43m.\u001b[39;49m\u001b[43m_radius\u001b[49m\n",
      "\u001b[1;31mAttributeError\u001b[0m: 'Circle' object has no attribute '_radius'"
     ]
    }
   ],
   "source": [
    "c.radius"
   ]
  },
  {
   "cell_type": "code",
   "execution_count": 89,
   "id": "d6696e9d-2b2b-4256-ba6a-ca1a3befacad",
   "metadata": {},
   "outputs": [],
   "source": [
    "c = Circle(5)"
   ]
  },
  {
   "cell_type": "code",
   "execution_count": 90,
   "id": "a43dee25-8639-4b4e-a06e-e69607717df4",
   "metadata": {},
   "outputs": [
    {
     "name": "stdout",
     "output_type": "stream",
     "text": [
      "You deleted me!\n"
     ]
    }
   ],
   "source": [
    "del c.radius"
   ]
  },
  {
   "cell_type": "code",
   "execution_count": 91,
   "id": "3562223a-fbe6-445d-9a37-f5c053291f16",
   "metadata": {},
   "outputs": [
    {
     "name": "stdout",
     "output_type": "stream",
     "text": [
      "You called me!\n"
     ]
    },
    {
     "ename": "AttributeError",
     "evalue": "'Circle' object has no attribute '_radius'",
     "output_type": "error",
     "traceback": [
      "\u001b[1;31m---------------------------------------------------------------------------\u001b[0m",
      "\u001b[1;31mAttributeError\u001b[0m                            Traceback (most recent call last)",
      "Cell \u001b[1;32mIn[91], line 1\u001b[0m\n\u001b[1;32m----> 1\u001b[0m \u001b[43mc\u001b[49m\u001b[38;5;241;43m.\u001b[39;49m\u001b[43mradius\u001b[49m\n",
      "Cell \u001b[1;32mIn[70], line 9\u001b[0m, in \u001b[0;36mCircle.radius\u001b[1;34m(self)\u001b[0m\n\u001b[0;32m      7\u001b[0m \u001b[38;5;250m\u001b[39m\u001b[38;5;124;03m\"\"\"Get the radius of the circle.\"\"\"\u001b[39;00m\n\u001b[0;32m      8\u001b[0m \u001b[38;5;28mprint\u001b[39m(\u001b[38;5;124m\"\u001b[39m\u001b[38;5;124mYou called me!\u001b[39m\u001b[38;5;124m\"\u001b[39m)\n\u001b[1;32m----> 9\u001b[0m \u001b[38;5;28;01mreturn\u001b[39;00m \u001b[38;5;28;43mself\u001b[39;49m\u001b[38;5;241;43m.\u001b[39;49m\u001b[43m_radius\u001b[49m\n",
      "\u001b[1;31mAttributeError\u001b[0m: 'Circle' object has no attribute '_radius'"
     ]
    }
   ],
   "source": [
    "c.radius"
   ]
  },
  {
   "cell_type": "markdown",
   "id": "487a20b5-305b-4248-b346-246b0c0bd936",
   "metadata": {},
   "source": [
    "# @staticmethod"
   ]
  },
  {
   "cell_type": "code",
   "execution_count": 2,
   "id": "c4575d8e-5d58-4470-9dd7-82e2257055f3",
   "metadata": {},
   "outputs": [],
   "source": [
    "class Math:\n",
    "    @staticmethod\n",
    "    def add(x, y):\n",
    "        return x + y\n",
    "\n",
    "    @staticmethod\n",
    "    def multiply(x, y):\n",
    "        return x * y"
   ]
  },
  {
   "cell_type": "code",
   "execution_count": 4,
   "id": "de2e5ffc-fe8d-4888-93f4-7650a5ec1b27",
   "metadata": {},
   "outputs": [
    {
     "name": "stdout",
     "output_type": "stream",
     "text": [
      "3\n",
      "2\n"
     ]
    }
   ],
   "source": [
    "# usage\n",
    "print(Math.add(1, 2))\n",
    "print(Math.multiply(1, 2))"
   ]
  },
  {
   "cell_type": "code",
   "execution_count": 20,
   "id": "ba3919b7-4966-4a2f-b068-50c4065481b1",
   "metadata": {},
   "outputs": [
    {
     "name": "stdout",
     "output_type": "stream",
     "text": [
      "3\n",
      "<class '__main__.Math'>\n"
     ]
    }
   ],
   "source": [
    "# copy\n",
    "math = Math\n",
    "print(math.add(1, 2))\n",
    "print(math)"
   ]
  },
  {
   "cell_type": "code",
   "execution_count": 19,
   "id": "eea99a1d-e98c-4595-ac98-dba2fdaadc5d",
   "metadata": {},
   "outputs": [
    {
     "name": "stdout",
     "output_type": "stream",
     "text": [
      "3\n",
      "<__main__.Math object at 0x00000137037F5C30>\n"
     ]
    }
   ],
   "source": [
    "# instance\n",
    "m = Math()\n",
    "print(m.add(1, 2))\n",
    "print(m)"
   ]
  },
  {
   "cell_type": "code",
   "execution_count": 14,
   "id": "7f441605-37f6-4547-b06b-69dbc71c3166",
   "metadata": {},
   "outputs": [
    {
     "data": {
      "text/plain": [
       "function"
      ]
     },
     "execution_count": 14,
     "metadata": {},
     "output_type": "execute_result"
    }
   ],
   "source": [
    "m.add.__class__"
   ]
  },
  {
   "cell_type": "code",
   "execution_count": 15,
   "id": "58553c2a-828d-4f27-9865-0edb200cd2eb",
   "metadata": {},
   "outputs": [],
   "source": [
    "# m.add(1, 2) jde, ale v definici funkce není self, takže asi nemá přístup k instanci\n",
    "# ???"
   ]
  },
  {
   "cell_type": "markdown",
   "id": "f13b09d7-9236-4bb8-956c-7407403b0a64",
   "metadata": {},
   "source": [
    "# @classmethod"
   ]
  },
  {
   "cell_type": "code",
   "execution_count": 22,
   "id": "4dda0bf4-7b66-431f-9b0d-995ad45579e2",
   "metadata": {},
   "outputs": [],
   "source": [
    "class Person:\n",
    "    species = \"Homo sapiens\"\n",
    "    \n",
    "    @classmethod\n",
    "    def get_species(cls):\n",
    "        print(cls)\n",
    "        return cls.species"
   ]
  },
  {
   "cell_type": "code",
   "execution_count": 24,
   "id": "89d9de5a-09f8-49b5-96ac-8397f454b7cb",
   "metadata": {},
   "outputs": [
    {
     "name": "stdout",
     "output_type": "stream",
     "text": [
      "<class '__main__.Person'>\n"
     ]
    },
    {
     "data": {
      "text/plain": [
       "'Homo sapiens'"
      ]
     },
     "execution_count": 24,
     "metadata": {},
     "output_type": "execute_result"
    }
   ],
   "source": [
    "p = Person()\n",
    "p.get_species()"
   ]
  },
  {
   "cell_type": "code",
   "execution_count": 25,
   "id": "ca0b8eec-7006-444e-8114-03dd66caa880",
   "metadata": {},
   "outputs": [
    {
     "data": {
      "text/plain": [
       "'Homo sapiens'"
      ]
     },
     "execution_count": 25,
     "metadata": {},
     "output_type": "execute_result"
    }
   ],
   "source": [
    "p.species"
   ]
  },
  {
   "cell_type": "code",
   "execution_count": 27,
   "id": "3cf07a18-dbea-4997-aee0-040596b6d99d",
   "metadata": {},
   "outputs": [
    {
     "data": {
      "text/plain": [
       "'AAA'"
      ]
     },
     "execution_count": 27,
     "metadata": {},
     "output_type": "execute_result"
    }
   ],
   "source": [
    "p.species = \"AAA\"\n",
    "p.species"
   ]
  },
  {
   "cell_type": "code",
   "execution_count": 29,
   "id": "d1b01164-e674-4023-93f5-3ce431516c1d",
   "metadata": {},
   "outputs": [
    {
     "name": "stdout",
     "output_type": "stream",
     "text": [
      "<class '__main__.Person'>\n"
     ]
    },
    {
     "data": {
      "text/plain": [
       "'Homo sapiens'"
      ]
     },
     "execution_count": 29,
     "metadata": {},
     "output_type": "execute_result"
    }
   ],
   "source": [
    "p.get_species()"
   ]
  },
  {
   "cell_type": "code",
   "execution_count": 28,
   "id": "467e6c10-1a33-4e2b-9422-abbad45327b7",
   "metadata": {},
   "outputs": [
    {
     "data": {
      "text/plain": [
       "'Homo sapiens'"
      ]
     },
     "execution_count": 28,
     "metadata": {},
     "output_type": "execute_result"
    }
   ],
   "source": [
    "Person.species"
   ]
  },
  {
   "cell_type": "code",
   "execution_count": 30,
   "id": "3ba28833-c03a-419f-8fe9-9a9876cd296e",
   "metadata": {},
   "outputs": [],
   "source": [
    "Person.species = \"AAA\""
   ]
  },
  {
   "cell_type": "code",
   "execution_count": 31,
   "id": "09945ca0-1bec-4766-b9e5-020436f466bf",
   "metadata": {},
   "outputs": [
    {
     "data": {
      "text/plain": [
       "'AAA'"
      ]
     },
     "execution_count": 31,
     "metadata": {},
     "output_type": "execute_result"
    }
   ],
   "source": [
    "Person.species"
   ]
  },
  {
   "cell_type": "code",
   "execution_count": 32,
   "id": "7b4a49b5-92d8-42b1-bdf0-e6cb467d6548",
   "metadata": {},
   "outputs": [
    {
     "name": "stdout",
     "output_type": "stream",
     "text": [
      "<class '__main__.Person'>\n"
     ]
    },
    {
     "data": {
      "text/plain": [
       "'AAA'"
      ]
     },
     "execution_count": 32,
     "metadata": {},
     "output_type": "execute_result"
    }
   ],
   "source": [
    "p.get_species()"
   ]
  },
  {
   "cell_type": "markdown",
   "id": "863ac0b1-d26b-4f77-ab59-f6538051ceb4",
   "metadata": {},
   "source": [
    "# @functools.cache"
   ]
  },
  {
   "cell_type": "code",
   "execution_count": 71,
   "id": "3577e074-c508-427a-858a-a97672ececa8",
   "metadata": {},
   "outputs": [],
   "source": [
    "import functools"
   ]
  },
  {
   "cell_type": "code",
   "execution_count": 72,
   "id": "fd7500fd-01d0-4334-944e-4d86720ad101",
   "metadata": {},
   "outputs": [],
   "source": [
    "def fibonacci(n):\n",
    "    if n < 2:\n",
    "        return n\n",
    "    return fibonacci(n-1) + fibonacci(n-2)"
   ]
  },
  {
   "cell_type": "code",
   "execution_count": 73,
   "id": "3896add8-3da2-4780-8026-12f2de9f086e",
   "metadata": {},
   "outputs": [
    {
     "name": "stdout",
     "output_type": "stream",
     "text": [
      "23.9 s ± 0 ns per loop (mean ± std. dev. of 1 run, 1 loop each)\n"
     ]
    }
   ],
   "source": [
    "%%timeit -r 1 -n 1\n",
    "fibonacci(40)"
   ]
  },
  {
   "cell_type": "code",
   "execution_count": 74,
   "id": "6387124d-f0b8-4bdd-aa55-5b7b752e8384",
   "metadata": {},
   "outputs": [],
   "source": [
    "# modified version with cache\n",
    "def fibonacci_cache(n, cache = {}):\n",
    "    if n < 2:\n",
    "        return n\n",
    "    if n in cache:\n",
    "        return cache[n]\n",
    "    cache[n] = fibonacci_cache(n-1, cache) + fibonacci_cache(n-2, cache)\n",
    "    return cache[n]"
   ]
  },
  {
   "cell_type": "code",
   "execution_count": 90,
   "id": "7a1ecc02-9311-4426-bd0c-3b2de9609e91",
   "metadata": {},
   "outputs": [
    {
     "name": "stdout",
     "output_type": "stream",
     "text": [
      "136 ns ± 30.5 ns per loop (mean ± std. dev. of 10 runs, 100 loops each)\n"
     ]
    }
   ],
   "source": [
    "%%timeit -r 10 -n 100\n",
    "fibonacci_cache(40)"
   ]
  },
  {
   "cell_type": "code",
   "execution_count": 82,
   "id": "c5290ec0-5ddd-45bd-a246-bbbd3217b96a",
   "metadata": {},
   "outputs": [
    {
     "data": {
      "text/plain": [
       "(0, 1, 1, 2, 3, 5, 8)"
      ]
     },
     "execution_count": 82,
     "metadata": {},
     "output_type": "execute_result"
    }
   ],
   "source": [
    "fibonacci_cache(0), fibonacci_cache(1), fibonacci_cache(2), fibonacci_cache(3), fibonacci_cache(4), fibonacci_cache(5),fibonacci_cache(6)"
   ]
  },
  {
   "cell_type": "code",
   "execution_count": 83,
   "id": "a215b4b9-0beb-40be-a3e7-446af6731bcf",
   "metadata": {},
   "outputs": [],
   "source": [
    "@functools.cache\n",
    "def fibonacci(n):\n",
    "    if n < 2:\n",
    "        return n\n",
    "    return fibonacci(n-1) + fibonacci(n-2)"
   ]
  },
  {
   "cell_type": "code",
   "execution_count": 92,
   "id": "d32bf12c-4776-4fca-8aa9-e15336a29728",
   "metadata": {},
   "outputs": [
    {
     "name": "stdout",
     "output_type": "stream",
     "text": [
      "54.9 ns ± 4.74 ns per loop (mean ± std. dev. of 10 runs, 100 loops each)\n"
     ]
    }
   ],
   "source": [
    "%%timeit -r 10 -n 100\n",
    "fibonacci(40)"
   ]
  },
  {
   "cell_type": "markdown",
   "id": "36cf2ff6-e4f3-483b-bc59-91ffcb61ac41",
   "metadata": {},
   "source": [
    "# @dataclasses.dataclass"
   ]
  },
  {
   "cell_type": "code",
   "execution_count": 171,
   "id": "550f4552-4631-4231-8f55-e1cc6e1aba78",
   "metadata": {},
   "outputs": [],
   "source": [
    "class Product:\n",
    "    def __init__(self, name: str, price: float, quantity: int = 0):\n",
    "        self.name = name\n",
    "        self.price = price\n",
    "        self.quantity = quantity\n",
    "\n",
    "    def total_cost(self) -> float:\n",
    "        return self.price * self.quantity\n",
    "\n",
    "    def __repr__(self):\n",
    "        return (\n",
    "            f\"Product(name={self.name!r}, price={self.price}, quantity={self.quantity})\"\n",
    "        )\n",
    "\n",
    "    def __eq__(self, other):\n",
    "        if not isinstance(other, Product):\n",
    "            #don't attempt to compare against unrelated types\n",
    "            return NotImplemented\n",
    "            \n",
    "        return (\n",
    "            self.name == other.name\n",
    "            and self.price == other.price\n",
    "            and self.quantity == other.quantity\n",
    "        )"
   ]
  },
  {
   "cell_type": "code",
   "execution_count": 172,
   "id": "db1593d4-1523-4010-bec9-ac4a2ecdf411",
   "metadata": {},
   "outputs": [],
   "source": [
    "p1 = Product(name=\"A\", price=2, quantity=2)\n",
    "p2 = Product(name=\"A\", price=2, quantity=2)\n",
    "p3 = Product(name=\"B\", price=5, quantity=3)"
   ]
  },
  {
   "cell_type": "code",
   "execution_count": 173,
   "id": "b1f4ce83-260d-4079-9089-022da0912c9a",
   "metadata": {},
   "outputs": [
    {
     "data": {
      "text/plain": [
       "Product(name='A', price=2, quantity=2)"
      ]
     },
     "execution_count": 173,
     "metadata": {},
     "output_type": "execute_result"
    }
   ],
   "source": [
    "p1"
   ]
  },
  {
   "cell_type": "code",
   "execution_count": 174,
   "id": "203ff0fb-f3c4-4ece-b2ad-e8b0d13a4280",
   "metadata": {},
   "outputs": [
    {
     "data": {
      "text/plain": [
       "False"
      ]
     },
     "execution_count": 174,
     "metadata": {},
     "output_type": "execute_result"
    }
   ],
   "source": [
    "p == p1"
   ]
  },
  {
   "cell_type": "code",
   "execution_count": 175,
   "id": "6032fba9-7570-45d6-860e-a8abeb4a6a18",
   "metadata": {},
   "outputs": [
    {
     "data": {
      "text/plain": [
       "False"
      ]
     },
     "execution_count": 175,
     "metadata": {},
     "output_type": "execute_result"
    }
   ],
   "source": [
    "isinstance(p, Product)"
   ]
  },
  {
   "cell_type": "code",
   "execution_count": 176,
   "id": "3bd48ee7-8f9b-420d-a7ff-97f47cdea32e",
   "metadata": {},
   "outputs": [
    {
     "data": {
      "text/plain": [
       "True"
      ]
     },
     "execution_count": 176,
     "metadata": {},
     "output_type": "execute_result"
    }
   ],
   "source": [
    "p1 == p1"
   ]
  },
  {
   "cell_type": "code",
   "execution_count": 177,
   "id": "2f9f48d3-7227-4ccc-a23e-d172d0c3166e",
   "metadata": {},
   "outputs": [
    {
     "data": {
      "text/plain": [
       "True"
      ]
     },
     "execution_count": 177,
     "metadata": {},
     "output_type": "execute_result"
    }
   ],
   "source": [
    "p1 == p2"
   ]
  },
  {
   "cell_type": "code",
   "execution_count": 178,
   "id": "382ac6a5-d617-41b2-aebd-f830e2a512f3",
   "metadata": {},
   "outputs": [
    {
     "data": {
      "text/plain": [
       "False"
      ]
     },
     "execution_count": 178,
     "metadata": {},
     "output_type": "execute_result"
    }
   ],
   "source": [
    "p1 == p3"
   ]
  },
  {
   "cell_type": "code",
   "execution_count": 179,
   "id": "8be31767-8eeb-4ccc-936d-b6b457423ccb",
   "metadata": {},
   "outputs": [
    {
     "data": {
      "text/plain": [
       "False"
      ]
     },
     "execution_count": 179,
     "metadata": {},
     "output_type": "execute_result"
    }
   ],
   "source": [
    "p2 == p3"
   ]
  },
  {
   "cell_type": "code",
   "execution_count": 180,
   "id": "3219d419-4b4d-4446-8d42-766bafb871f8",
   "metadata": {},
   "outputs": [
    {
     "data": {
      "text/plain": [
       "4"
      ]
     },
     "execution_count": 180,
     "metadata": {},
     "output_type": "execute_result"
    }
   ],
   "source": [
    "p1.total_cost()"
   ]
  },
  {
   "cell_type": "code",
   "execution_count": 181,
   "id": "f8e6dc38-0fef-4a4f-8bd0-de04f8d64964",
   "metadata": {},
   "outputs": [],
   "source": [
    "from dataclasses import dataclass\n",
    "\n",
    "@dataclass\n",
    "class Product:\n",
    "    name: str\n",
    "    price: float\n",
    "    quantity: int = 0\n",
    "    \n",
    "    def total_cost(self) -> float:\n",
    "        return self.price * self.quantity"
   ]
  },
  {
   "cell_type": "code",
   "execution_count": 182,
   "id": "6b8045c6-fca0-4804-bb00-166b883ff3bd",
   "metadata": {},
   "outputs": [],
   "source": [
    "p1 = Product(name=\"A\", price=2, quantity=2)\n",
    "p2 = Product(name=\"A\", price=2, quantity=2)\n",
    "p3 = Product(name=\"B\", price=5, quantity=3)"
   ]
  },
  {
   "cell_type": "code",
   "execution_count": 183,
   "id": "d0e15610-1aab-4817-92ab-03f8196749aa",
   "metadata": {},
   "outputs": [
    {
     "data": {
      "text/plain": [
       "Product(name='A', price=2, quantity=2)"
      ]
     },
     "execution_count": 183,
     "metadata": {},
     "output_type": "execute_result"
    }
   ],
   "source": [
    "p1"
   ]
  },
  {
   "cell_type": "code",
   "execution_count": 184,
   "id": "09fa5b92-1e1c-4f70-9ec0-d261734e250e",
   "metadata": {},
   "outputs": [
    {
     "data": {
      "text/plain": [
       "True"
      ]
     },
     "execution_count": 184,
     "metadata": {},
     "output_type": "execute_result"
    }
   ],
   "source": [
    "p1 == p2"
   ]
  },
  {
   "cell_type": "code",
   "execution_count": 185,
   "id": "601745e6-7712-4b30-91e7-c335766b5f33",
   "metadata": {},
   "outputs": [
    {
     "data": {
      "text/plain": [
       "False"
      ]
     },
     "execution_count": 185,
     "metadata": {},
     "output_type": "execute_result"
    }
   ],
   "source": [
    "p1 == p3"
   ]
  },
  {
   "cell_type": "code",
   "execution_count": 186,
   "id": "bec945c1-521f-4e5e-b2fd-9b527ab81ed9",
   "metadata": {},
   "outputs": [
    {
     "data": {
      "text/plain": [
       "False"
      ]
     },
     "execution_count": 186,
     "metadata": {},
     "output_type": "execute_result"
    }
   ],
   "source": [
    "p2 == p3"
   ]
  },
  {
   "cell_type": "code",
   "execution_count": 187,
   "id": "24e3c506-f316-4cb4-9b02-656e1b27604d",
   "metadata": {},
   "outputs": [
    {
     "data": {
      "text/plain": [
       "4"
      ]
     },
     "execution_count": 187,
     "metadata": {},
     "output_type": "execute_result"
    }
   ],
   "source": [
    "p1.total_cost()"
   ]
  },
  {
   "cell_type": "code",
   "execution_count": null,
   "id": "2f2ae405-b4af-4e86-b7d6-787c6da829dc",
   "metadata": {},
   "outputs": [],
   "source": []
  }
 ],
 "metadata": {
  "kernelspec": {
   "display_name": "Python 3 (ipykernel)",
   "language": "python",
   "name": "python3"
  },
  "language_info": {
   "codemirror_mode": {
    "name": "ipython",
    "version": 3
   },
   "file_extension": ".py",
   "mimetype": "text/x-python",
   "name": "python",
   "nbconvert_exporter": "python",
   "pygments_lexer": "ipython3",
   "version": "3.10.0"
  }
 },
 "nbformat": 4,
 "nbformat_minor": 5
}
