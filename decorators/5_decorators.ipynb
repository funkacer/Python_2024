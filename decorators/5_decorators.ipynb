{
 "cells": [
  {
   "cell_type": "markdown",
   "id": "608a1e75-0f3d-4955-a0d6-d55181ce2b88",
   "metadata": {},
   "source": [
    "https://www.youtube.com/watch?v=JgxCY-tbWHA"
   ]
  },
  {
   "cell_type": "markdown",
   "id": "d43ab066-e460-43f6-9eb3-a4a40b69993b",
   "metadata": {},
   "source": [
    "# @timer"
   ]
  },
  {
   "cell_type": "code",
   "execution_count": 1,
   "id": "f566b709-d9be-4a39-abc5-76e99c11999d",
   "metadata": {},
   "outputs": [],
   "source": [
    "import time"
   ]
  },
  {
   "cell_type": "code",
   "execution_count": 2,
   "id": "6068684f-64a1-41c2-b310-f3d959260c11",
   "metadata": {},
   "outputs": [],
   "source": [
    "def timer(func):\n",
    "    def wrapper(*args, **kwargs):\n",
    "        start_time = time.time() # Start time\n",
    "        result = func(*args, **kwargs) # Call the decorated function\n",
    "        end_time = time.time() # End time\n",
    "        print(f\"Function {func.__name__!r} took {end_time - start_time:.4f} sec\")\n",
    "        return result\n",
    "    \n",
    "    return wrapper"
   ]
  },
  {
   "cell_type": "code",
   "execution_count": 3,
   "id": "226fbff3-4898-4484-be71-9d27b21ce99f",
   "metadata": {},
   "outputs": [],
   "source": [
    "def example_function(n):\n",
    "    return f\"The sum is {sum(range(n))}\""
   ]
  },
  {
   "cell_type": "code",
   "execution_count": 4,
   "id": "5005e115-592d-428b-ad08-4c1c9bf55720",
   "metadata": {},
   "outputs": [
    {
     "data": {
      "text/plain": [
       "'The sum is 499999500000'"
      ]
     },
     "execution_count": 4,
     "metadata": {},
     "output_type": "execute_result"
    }
   ],
   "source": [
    "example_function(1000000)"
   ]
  },
  {
   "cell_type": "code",
   "execution_count": 5,
   "id": "cb3b1e6c-56a7-4de7-adfa-7eae19987a0f",
   "metadata": {},
   "outputs": [
    {
     "data": {
      "text/plain": [
       "<function __main__.timer.<locals>.wrapper(*args, **kwargs)>"
      ]
     },
     "execution_count": 5,
     "metadata": {},
     "output_type": "execute_result"
    }
   ],
   "source": [
    "timer(example_function(1000000))"
   ]
  },
  {
   "cell_type": "code",
   "execution_count": 6,
   "id": "93dee2f2-c07b-473b-a3d0-56a7141f80a6",
   "metadata": {},
   "outputs": [],
   "source": [
    "example_function = timer(example_function)"
   ]
  },
  {
   "cell_type": "code",
   "execution_count": 7,
   "id": "e11a1888-a88c-4a5b-8e28-7ec08f69d8b9",
   "metadata": {},
   "outputs": [
    {
     "name": "stdout",
     "output_type": "stream",
     "text": [
      "Function 'example_function' took 0.0083 sec\n"
     ]
    },
    {
     "data": {
      "text/plain": [
       "'The sum is 499999500000'"
      ]
     },
     "execution_count": 7,
     "metadata": {},
     "output_type": "execute_result"
    }
   ],
   "source": [
    "example_function(1000000)"
   ]
  },
  {
   "cell_type": "code",
   "execution_count": 8,
   "id": "6f9f5d9d-bd1d-4ed5-8c9c-4a70923aab9c",
   "metadata": {},
   "outputs": [],
   "source": [
    "@timer\n",
    "def example_function(n):\n",
    "    return f\"The sum is {sum(range(n))}\""
   ]
  },
  {
   "cell_type": "code",
   "execution_count": 9,
   "id": "aa17174b-38f3-40f2-bf6d-ff30de12fe50",
   "metadata": {},
   "outputs": [
    {
     "name": "stdout",
     "output_type": "stream",
     "text": [
      "Function 'example_function' took 0.0084 sec\n"
     ]
    },
    {
     "data": {
      "text/plain": [
       "'The sum is 499999500000'"
      ]
     },
     "execution_count": 9,
     "metadata": {},
     "output_type": "execute_result"
    }
   ],
   "source": [
    "example_function(1000000)"
   ]
  },
  {
   "cell_type": "code",
   "execution_count": null,
   "id": "d251a89d-303d-45bd-b0c8-4fc6ed785aa1",
   "metadata": {},
   "outputs": [],
   "source": []
  }
 ],
 "metadata": {
  "kernelspec": {
   "display_name": "Python 3 (ipykernel)",
   "language": "python",
   "name": "python3"
  },
  "language_info": {
   "codemirror_mode": {
    "name": "ipython",
    "version": 3
   },
   "file_extension": ".py",
   "mimetype": "text/x-python",
   "name": "python",
   "nbconvert_exporter": "python",
   "pygments_lexer": "ipython3",
   "version": "3.11.8"
  }
 },
 "nbformat": 4,
 "nbformat_minor": 5
}
