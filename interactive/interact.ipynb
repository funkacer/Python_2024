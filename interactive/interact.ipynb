{
 "cells": [
  {
   "cell_type": "code",
   "execution_count": 1,
   "metadata": {},
   "outputs": [],
   "source": [
    "from ipywidgets import widgets, interact\n",
    "from IPython.display import display"
   ]
  },
  {
   "cell_type": "code",
   "execution_count": 2,
   "metadata": {},
   "outputs": [
    {
     "data": {
      "application/vnd.jupyter.widget-view+json": {
       "model_id": "9b53eadb317d4024840d99bf6c5a6fd2",
       "version_major": 2,
       "version_minor": 0
      },
      "text/plain": [
       "interactive(children=(IntSlider(value=4, description='x', max=10, min=1), IntSlider(value=150, description='y'…"
      ]
     },
     "metadata": {},
     "output_type": "display_data"
    }
   ],
   "source": [
    "@interact(x=(1,10,1),y=(100,200,1))\n",
    "def ff(x=4,y=150):\n",
    "    return x+y"
   ]
  },
  {
   "cell_type": "code",
   "execution_count": 3,
   "metadata": {},
   "outputs": [],
   "source": [
    "import matplotlib.pyplot as plt\n",
    "import numpy as np"
   ]
  },
  {
   "cell_type": "code",
   "execution_count": 4,
   "metadata": {},
   "outputs": [],
   "source": [
    "#pro generovani casove osy od-do po 100 mereni\n",
    "t=np.linspace(-3.14,3.14,100)"
   ]
  },
  {
   "cell_type": "code",
   "execution_count": 5,
   "metadata": {},
   "outputs": [
    {
     "data": {
      "text/plain": [
       "array([-3.14      , -3.07656566, -3.01313131, -2.94969697, -2.88626263,\n",
       "       -2.82282828, -2.75939394, -2.6959596 , -2.63252525, -2.56909091,\n",
       "       -2.50565657, -2.44222222, -2.37878788, -2.31535354, -2.25191919,\n",
       "       -2.18848485, -2.12505051, -2.06161616, -1.99818182, -1.93474747,\n",
       "       -1.87131313, -1.80787879, -1.74444444, -1.6810101 , -1.61757576,\n",
       "       -1.55414141, -1.49070707, -1.42727273, -1.36383838, -1.30040404,\n",
       "       -1.2369697 , -1.17353535, -1.11010101, -1.04666667, -0.98323232,\n",
       "       -0.91979798, -0.85636364, -0.79292929, -0.72949495, -0.66606061,\n",
       "       -0.60262626, -0.53919192, -0.47575758, -0.41232323, -0.34888889,\n",
       "       -0.28545455, -0.2220202 , -0.15858586, -0.09515152, -0.03171717,\n",
       "        0.03171717,  0.09515152,  0.15858586,  0.2220202 ,  0.28545455,\n",
       "        0.34888889,  0.41232323,  0.47575758,  0.53919192,  0.60262626,\n",
       "        0.66606061,  0.72949495,  0.79292929,  0.85636364,  0.91979798,\n",
       "        0.98323232,  1.04666667,  1.11010101,  1.17353535,  1.2369697 ,\n",
       "        1.30040404,  1.36383838,  1.42727273,  1.49070707,  1.55414141,\n",
       "        1.61757576,  1.6810101 ,  1.74444444,  1.80787879,  1.87131313,\n",
       "        1.93474747,  1.99818182,  2.06161616,  2.12505051,  2.18848485,\n",
       "        2.25191919,  2.31535354,  2.37878788,  2.44222222,  2.50565657,\n",
       "        2.56909091,  2.63252525,  2.6959596 ,  2.75939394,  2.82282828,\n",
       "        2.88626263,  2.94969697,  3.01313131,  3.07656566,  3.14      ])"
      ]
     },
     "execution_count": 5,
     "metadata": {},
     "output_type": "execute_result"
    }
   ],
   "source": [
    "t"
   ]
  },
  {
   "cell_type": "code",
   "execution_count": 11,
   "metadata": {},
   "outputs": [
    {
     "data": {
      "application/vnd.jupyter.widget-view+json": {
       "model_id": "d0b84fcd1efb491d81e9afeab1b351f7",
       "version_major": 2,
       "version_minor": 0
      },
      "text/plain": [
       "interactive(children=(FloatSlider(value=5.0, description='x', max=10.0), IntSlider(value=3, description='ampl'…"
      ]
     },
     "metadata": {},
     "output_type": "display_data"
    }
   ],
   "source": [
    "@interact(x=(0,10,0.1),ampl=(1,5,1))\n",
    "def pltSin(x,ampl):\n",
    "    plt.plot(t, ampl*np.sin(2*np.pi*t*x))\n",
    "    plt.ylim(-5,5)\n",
    "    ax = plt.gca()\n",
    "    ax.grid(which='major', axis='both', linestyle='--', color='r')\n",
    "    plt.show()"
   ]
  },
  {
   "cell_type": "code",
   "execution_count": 24,
   "metadata": {},
   "outputs": [
    {
     "data": {
      "application/vnd.jupyter.widget-view+json": {
       "model_id": "5ad05e2cee794cfa86110e881c7ed228",
       "version_major": 2,
       "version_minor": 0
      },
      "text/plain": [
       "interactive(children=(Dropdown(description='s', options=('sin', 'cos'), value='sin'), FloatSlider(value=1.0, d…"
      ]
     },
     "metadata": {},
     "output_type": "display_data"
    }
   ],
   "source": [
    "@interact(x=(0,10,0.1),ampl=(0,5,1),s=['sin','cos'])\n",
    "def pltSin(s,x=1,ampl=4):\n",
    "    if s == 'sin':plt.plot(t, ampl*np.sin(t*x))\n",
    "    if s == 'cos':plt.plot(t, ampl*np.cos(t*x))\n",
    "    plt.ylim(-5,5)\n",
    "    ax = plt.gca()\n",
    "    ax.grid(which='major', axis='both', linestyle='--', color='r')\n",
    "    plt.show()"
   ]
  },
  {
   "cell_type": "code",
   "execution_count": null,
   "metadata": {},
   "outputs": [],
   "source": []
  }
 ],
 "metadata": {
  "kernelspec": {
   "display_name": "Python 3 (ipykernel)",
   "language": "python",
   "name": "python3"
  },
  "language_info": {
   "codemirror_mode": {
    "name": "ipython",
    "version": 3
   },
   "file_extension": ".py",
   "mimetype": "text/x-python",
   "name": "python",
   "nbconvert_exporter": "python",
   "pygments_lexer": "ipython3",
   "version": "3.11.8"
  }
 },
 "nbformat": 4,
 "nbformat_minor": 4
}
