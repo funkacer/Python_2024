{
 "cells": [
  {
   "cell_type": "markdown",
   "id": "599604f5-32a2-433a-bd7e-28dbce7d391e",
   "metadata": {},
   "source": [
    "https://github.com/funkacer/Pyth/blob/master/AQUA/%23PL_AQUA_II/9e_PZ_grafy7.ipynb"
   ]
  },
  {
   "cell_type": "code",
   "execution_count": 1,
   "id": "1c0d3965-df78-4115-9c78-d4857f2d41ab",
   "metadata": {},
   "outputs": [
    {
     "name": "stderr",
     "output_type": "stream",
     "text": [
      "/var/folders/fb/xl0hnskx527bfqkv38l3sn7h0000gn/T/ipykernel_17603/1617781658.py:1: DeprecationWarning: \n",
      "Pyarrow will become a required dependency of pandas in the next major release of pandas (pandas 3.0),\n",
      "(to allow more performant data types, such as the Arrow string type, and better interoperability with other libraries)\n",
      "but was not found to be installed on your system.\n",
      "If this would cause problems for you,\n",
      "please provide us feedback at https://github.com/pandas-dev/pandas/issues/54466\n",
      "        \n",
      "  import pandas as pd\n"
     ]
    }
   ],
   "source": [
    "import pandas as pd\n",
    "import numpy as np\n",
    "import matplotlib.pyplot as plt\n",
    "from sqlalchemy import create_engine\n",
    "from ipywidgets import interactive, IntSlider, Checkbox, fixed, Output, HTML\n",
    "from IPython.display import display\n",
    "from collections import defaultdict\n",
    "import datetime\n",
    "\n",
    "from _Grafy1 import getBarChartH, getBarChartV"
   ]
  },
  {
   "cell_type": "code",
   "execution_count": 2,
   "id": "c0c8f2d1-a4aa-4a69-a472-d4d5486ccc64",
   "metadata": {},
   "outputs": [],
   "source": [
    "PZ_df = pd.DataFrame([[1, 'O', 'O'], [2, 'O', 'X'], [3, 'X', 'O']], columns = ['Suma', 'FILTR01_A', 'FILTR02_B'])\n",
    "PZ_df['FILTR00_ALL'] = 'O'\n",
    "PZ_df['FILTR99_FINAL'] = 'O'"
   ]
  },
  {
   "cell_type": "code",
   "execution_count": 3,
   "id": "1661c539-ff19-49e3-8c6e-fde454eba511",
   "metadata": {},
   "outputs": [
    {
     "data": {
      "text/html": [
       "<div>\n",
       "<style scoped>\n",
       "    .dataframe tbody tr th:only-of-type {\n",
       "        vertical-align: middle;\n",
       "    }\n",
       "\n",
       "    .dataframe tbody tr th {\n",
       "        vertical-align: top;\n",
       "    }\n",
       "\n",
       "    .dataframe thead th {\n",
       "        text-align: right;\n",
       "    }\n",
       "</style>\n",
       "<table border=\"1\" class=\"dataframe\">\n",
       "  <thead>\n",
       "    <tr style=\"text-align: right;\">\n",
       "      <th></th>\n",
       "      <th>Suma</th>\n",
       "      <th>FILTR01_A</th>\n",
       "      <th>FILTR02_B</th>\n",
       "      <th>FILTR00_ALL</th>\n",
       "      <th>FILTR99_FINAL</th>\n",
       "    </tr>\n",
       "  </thead>\n",
       "  <tbody>\n",
       "    <tr>\n",
       "      <th>0</th>\n",
       "      <td>1</td>\n",
       "      <td>O</td>\n",
       "      <td>O</td>\n",
       "      <td>O</td>\n",
       "      <td>O</td>\n",
       "    </tr>\n",
       "    <tr>\n",
       "      <th>1</th>\n",
       "      <td>2</td>\n",
       "      <td>O</td>\n",
       "      <td>X</td>\n",
       "      <td>O</td>\n",
       "      <td>O</td>\n",
       "    </tr>\n",
       "    <tr>\n",
       "      <th>2</th>\n",
       "      <td>3</td>\n",
       "      <td>X</td>\n",
       "      <td>O</td>\n",
       "      <td>O</td>\n",
       "      <td>O</td>\n",
       "    </tr>\n",
       "  </tbody>\n",
       "</table>\n",
       "</div>"
      ],
      "text/plain": [
       "   Suma FILTR01_A FILTR02_B FILTR00_ALL FILTR99_FINAL\n",
       "0     1         O         O           O             O\n",
       "1     2         O         X           O             O\n",
       "2     3         X         O           O             O"
      ]
     },
     "execution_count": 3,
     "metadata": {},
     "output_type": "execute_result"
    }
   ],
   "source": [
    "PZ_df"
   ]
  },
  {
   "cell_type": "code",
   "execution_count": 4,
   "id": "2ddb227b-3657-4f2f-bbd4-491310d4ad43",
   "metadata": {},
   "outputs": [],
   "source": [
    "filter_cols = sorted([col for col in PZ_df.columns if 'FILTR' in col])"
   ]
  },
  {
   "cell_type": "code",
   "execution_count": 5,
   "id": "fe61bd95-1822-4a93-8160-46e8e3530b75",
   "metadata": {},
   "outputs": [
    {
     "data": {
      "text/plain": [
       "['FILTR00_ALL', 'FILTR01_A', 'FILTR02_B', 'FILTR99_FINAL']"
      ]
     },
     "execution_count": 5,
     "metadata": {},
     "output_type": "execute_result"
    }
   ],
   "source": [
    "filter_cols"
   ]
  },
  {
   "cell_type": "code",
   "execution_count": 6,
   "id": "98d8b949-dfb5-4f67-b287-30956aafad70",
   "metadata": {},
   "outputs": [],
   "source": [
    "col = filter_cols[0]\n",
    "PZ_df_agg = PZ_df.groupby([col])[[col]].count().transpose()\n",
    "for col in filter_cols[1:]:\n",
    "    PZ_df_agg = pd.concat([PZ_df_agg, PZ_df.groupby([col])[[col]].count().transpose()])"
   ]
  },
  {
   "cell_type": "code",
   "execution_count": 7,
   "id": "a22bbedf-e157-436c-b4e9-9b1c80fd4b47",
   "metadata": {},
   "outputs": [
    {
     "data": {
      "text/html": [
       "<div>\n",
       "<style scoped>\n",
       "    .dataframe tbody tr th:only-of-type {\n",
       "        vertical-align: middle;\n",
       "    }\n",
       "\n",
       "    .dataframe tbody tr th {\n",
       "        vertical-align: top;\n",
       "    }\n",
       "\n",
       "    .dataframe thead th {\n",
       "        text-align: right;\n",
       "    }\n",
       "</style>\n",
       "<table border=\"1\" class=\"dataframe\">\n",
       "  <thead>\n",
       "    <tr style=\"text-align: right;\">\n",
       "      <th></th>\n",
       "      <th>O</th>\n",
       "      <th>X</th>\n",
       "    </tr>\n",
       "  </thead>\n",
       "  <tbody>\n",
       "    <tr>\n",
       "      <th>FILTR00_ALL</th>\n",
       "      <td>3</td>\n",
       "      <td>NaN</td>\n",
       "    </tr>\n",
       "    <tr>\n",
       "      <th>FILTR01_A</th>\n",
       "      <td>2</td>\n",
       "      <td>1.0</td>\n",
       "    </tr>\n",
       "    <tr>\n",
       "      <th>FILTR02_B</th>\n",
       "      <td>2</td>\n",
       "      <td>1.0</td>\n",
       "    </tr>\n",
       "    <tr>\n",
       "      <th>FILTR99_FINAL</th>\n",
       "      <td>3</td>\n",
       "      <td>NaN</td>\n",
       "    </tr>\n",
       "  </tbody>\n",
       "</table>\n",
       "</div>"
      ],
      "text/plain": [
       "               O    X\n",
       "FILTR00_ALL    3  NaN\n",
       "FILTR01_A      2  1.0\n",
       "FILTR02_B      2  1.0\n",
       "FILTR99_FINAL  3  NaN"
      ]
     },
     "execution_count": 7,
     "metadata": {},
     "output_type": "execute_result"
    }
   ],
   "source": [
    "PZ_df_agg"
   ]
  },
  {
   "cell_type": "code",
   "execution_count": 8,
   "id": "422cb047-3215-4d76-9e9f-9adddb66cec6",
   "metadata": {},
   "outputs": [
    {
     "ename": "TypeError",
     "evalue": "Axes.annotate() missing 1 required positional argument: 'text'",
     "output_type": "error",
     "traceback": [
      "\u001b[0;31m---------------------------------------------------------------------------\u001b[0m",
      "\u001b[0;31mTypeError\u001b[0m                                 Traceback (most recent call last)",
      "Cell \u001b[0;32mIn[8], line 1\u001b[0m\n\u001b[0;32m----> 1\u001b[0m \u001b[43mgetBarChartH\u001b[49m\u001b[43m(\u001b[49m\u001b[43mPZ_df_agg\u001b[49m\u001b[43m,\u001b[49m\u001b[43m \u001b[49m\u001b[43m[\u001b[49m\u001b[38;5;124;43m'\u001b[39;49m\u001b[38;5;124;43mO\u001b[39;49m\u001b[38;5;124;43m'\u001b[39;49m\u001b[43m,\u001b[49m\u001b[38;5;124;43m'\u001b[39;49m\u001b[38;5;124;43mX\u001b[39;49m\u001b[38;5;124;43m'\u001b[39;49m\u001b[43m]\u001b[49m\u001b[43m,\u001b[49m\u001b[43m \u001b[49m\u001b[43msort_values\u001b[49m\u001b[43m \u001b[49m\u001b[38;5;241;43m=\u001b[39;49m\u001b[43m \u001b[49m\u001b[38;5;28;43;01mFalse\u001b[39;49;00m\u001b[43m,\u001b[49m\u001b[43m \u001b[49m\u001b[43msort_ascending\u001b[49m\u001b[43m \u001b[49m\u001b[38;5;241;43m=\u001b[39;49m\u001b[43m \u001b[49m\u001b[38;5;28;43;01mFalse\u001b[39;49;00m\u001b[43m,\u001b[49m\u001b[43m \u001b[49m\u001b[43mrotation\u001b[49m\u001b[43m \u001b[49m\u001b[38;5;241;43m=\u001b[39;49m\u001b[43m \u001b[49m\u001b[38;5;241;43m0\u001b[39;49m\u001b[43m)\u001b[49m\n",
      "File \u001b[0;32m~/_Git/_venv/_venv/Python_2024/interactive/_Grafy1.py:47\u001b[0m, in \u001b[0;36mgetBarChartH\u001b[0;34m(df, columns, title, rotation, sort_values, sort_ascending, limit, precision)\u001b[0m\n\u001b[1;32m     45\u001b[0m         ax\u001b[38;5;241m.\u001b[39mannotate(s \u001b[38;5;241m=\u001b[39m rd(rect\u001b[38;5;241m.\u001b[39mget_width(),precision), xy \u001b[38;5;241m=\u001b[39m (rect\u001b[38;5;241m.\u001b[39mget_width()\u001b[38;5;241m+\u001b[39mbottom[i], rect\u001b[38;5;241m.\u001b[39mget_y()\u001b[38;5;241m+\u001b[39mrect\u001b[38;5;241m.\u001b[39mget_height()\u001b[38;5;241m/\u001b[39m\u001b[38;5;241m2\u001b[39m), ha \u001b[38;5;241m=\u001b[39m \u001b[38;5;124m'\u001b[39m\u001b[38;5;124mleft\u001b[39m\u001b[38;5;124m'\u001b[39m, va \u001b[38;5;241m=\u001b[39m \u001b[38;5;124m'\u001b[39m\u001b[38;5;124mcenter\u001b[39m\u001b[38;5;124m'\u001b[39m)\n\u001b[1;32m     46\u001b[0m     \u001b[38;5;28;01melse\u001b[39;00m:\n\u001b[0;32m---> 47\u001b[0m         \u001b[43max\u001b[49m\u001b[38;5;241;43m.\u001b[39;49m\u001b[43mannotate\u001b[49m\u001b[43m(\u001b[49m\u001b[43ms\u001b[49m\u001b[43m \u001b[49m\u001b[38;5;241;43m=\u001b[39;49m\u001b[43m \u001b[49m\u001b[43mrd\u001b[49m\u001b[43m(\u001b[49m\u001b[43mrect\u001b[49m\u001b[38;5;241;43m.\u001b[39;49m\u001b[43mget_width\u001b[49m\u001b[43m(\u001b[49m\u001b[43m)\u001b[49m\u001b[43m,\u001b[49m\u001b[43mprecision\u001b[49m\u001b[43m)\u001b[49m\u001b[43m,\u001b[49m\u001b[43m \u001b[49m\u001b[43mxy\u001b[49m\u001b[43m \u001b[49m\u001b[38;5;241;43m=\u001b[39;49m\u001b[43m \u001b[49m\u001b[43m(\u001b[49m\u001b[43mrect\u001b[49m\u001b[38;5;241;43m.\u001b[39;49m\u001b[43mget_width\u001b[49m\u001b[43m(\u001b[49m\u001b[43m)\u001b[49m\u001b[38;5;241;43m/\u001b[39;49m\u001b[38;5;241;43m2\u001b[39;49m\u001b[38;5;241;43m+\u001b[39;49m\u001b[43mbottom\u001b[49m\u001b[43m[\u001b[49m\u001b[43mi\u001b[49m\u001b[43m]\u001b[49m\u001b[43m,\u001b[49m\u001b[43m \u001b[49m\u001b[43mrect\u001b[49m\u001b[38;5;241;43m.\u001b[39;49m\u001b[43mget_y\u001b[49m\u001b[43m(\u001b[49m\u001b[43m)\u001b[49m\u001b[38;5;241;43m+\u001b[39;49m\u001b[43mrect\u001b[49m\u001b[38;5;241;43m.\u001b[39;49m\u001b[43mget_height\u001b[49m\u001b[43m(\u001b[49m\u001b[43m)\u001b[49m\u001b[38;5;241;43m/\u001b[39;49m\u001b[38;5;241;43m2\u001b[39;49m\u001b[43m)\u001b[49m\u001b[43m,\u001b[49m\u001b[43m \u001b[49m\u001b[43mha\u001b[49m\u001b[43m \u001b[49m\u001b[38;5;241;43m=\u001b[39;49m\u001b[43m \u001b[49m\u001b[38;5;124;43m'\u001b[39;49m\u001b[38;5;124;43mcenter\u001b[39;49m\u001b[38;5;124;43m'\u001b[39;49m\u001b[43m,\u001b[49m\u001b[43m \u001b[49m\u001b[43mva\u001b[49m\u001b[43m \u001b[49m\u001b[38;5;241;43m=\u001b[39;49m\u001b[43m \u001b[49m\u001b[38;5;124;43m'\u001b[39;49m\u001b[38;5;124;43mcenter\u001b[39;49m\u001b[38;5;124;43m'\u001b[39;49m\u001b[43m)\u001b[49m\n\u001b[1;32m     48\u001b[0m     bott\u001b[38;5;241m.\u001b[39mappend(rect\u001b[38;5;241m.\u001b[39mget_width())\n\u001b[1;32m     49\u001b[0m bottom \u001b[38;5;241m+\u001b[39m\u001b[38;5;241m=\u001b[39m np\u001b[38;5;241m.\u001b[39marray(bott)\n",
      "\u001b[0;31mTypeError\u001b[0m: Axes.annotate() missing 1 required positional argument: 'text'"
     ]
    },
    {
     "data": {
      "image/png": "[encoded data removed]",
      "text/plain": [
       "<Figure size 1000x1000 with 1 Axes>"
      ]
     },
     "metadata": {},
     "output_type": "display_data"
    }
   ],
   "source": [
    "getBarChartH(PZ_df_agg, ['O','X'], sort_values = False, sort_ascending = False, rotation = 0)"
   ]
  },
  {
   "cell_type": "code",
   "execution_count": 14,
   "id": "4325bce2-b8e7-48a7-807f-1052768f8876",
   "metadata": {},
   "outputs": [],
   "source": [
    "def recount():\n",
    "    global PZ1_df_agg, PZ1_df\n",
    "    filter_cols1 = []\n",
    "    filter_cols1.append(filter_cols[0])\n",
    "    for col in filter_cols[1:]:\n",
    "        for l in lst.keys():\n",
    "            if col == l and lst[l]: filter_cols1.append(l)\n",
    "    filter_cols1.append(filter_cols[-1])\n",
    "    #print(filter_cols1)\n",
    "    col = filter_cols1[0]\n",
    "    PZ1_df_agg = PZ_df.groupby([col])[[col]].count().transpose()\n",
    "    PZ1_df = PZ_df[PZ_df[col] == 'O']\n",
    "    for col in filter_cols1[1:]:\n",
    "        PZ1_df_agg = pd.concat([PZ1_df_agg, PZ1_df.groupby([col])[[col]].count().transpose()])\n",
    "        PZ1_df = PZ1_df[PZ1_df[col] == 'O']\n",
    "    print(filter_cols1)"
   ]
  },
  {
   "cell_type": "code",
   "execution_count": 15,
   "id": "f4bed116-3ea9-4e0a-bfc9-f9f7bc699e79",
   "metadata": {},
   "outputs": [
    {
     "name": "stdout",
     "output_type": "stream",
     "text": [
      "['FILTR00_ALL', 'FILTR01_A', 'FILTR02_B', 'FILTR99_FINAL']\n"
     ]
    }
   ],
   "source": [
    "def changed(b):\n",
    "    global lst\n",
    "    lst = defaultdict(bool)\n",
    "    for ai in a:\n",
    "        lst[ai.description] = ai.value\n",
    "        #print(ai.value)\n",
    "    xi = ''\n",
    "    yi = ''\n",
    "    for bi in b:\n",
    "        #print(b)\n",
    "        if bi == 'new' and isinstance(b[bi],dict):\n",
    "            if 'value' in b[bi].keys():\n",
    "                #print(bi, ':', b[bi], ':', b[bi]['value'])\n",
    "                yi = b[bi]['value']\n",
    "        if bi == 'owner' and isinstance(b[bi],Checkbox):\n",
    "            #print(b[bi].description)\n",
    "            xi = b[bi].description\n",
    "    #neco se zmenilo\n",
    "    if isinstance(yi, bool):\n",
    "        lst[xi] = yi\n",
    "        #print(xi, yi)\n",
    "        #print(lst)\n",
    "        recount()\n",
    "    \n",
    "\n",
    "a = []\n",
    "for i in range(1, len(filter_cols)-1):\n",
    "    if i in (17,19,20):\n",
    "        ai = Checkbox(False, description=filter_cols[i])\n",
    "    else:\n",
    "        ai = Checkbox(True, description=filter_cols[i])\n",
    "    ai.observe(changed)\n",
    "    a.append(ai)\n",
    "\n",
    "lst = defaultdict(bool)\n",
    "for ai in a:\n",
    "    lst[ai.description] = ai.value\n",
    "recount()"
   ]
  },
  {
   "cell_type": "code",
   "execution_count": 16,
   "id": "e3988874-63e9-4644-b4f7-eee5c599492c",
   "metadata": {},
   "outputs": [
    {
     "data": {
      "application/vnd.jupyter.widget-view+json": {
       "model_id": "d5965ff636cc4cf3b6ed8791cdfdf171",
       "version_major": 2,
       "version_minor": 0
      },
      "text/plain": [
       "Checkbox(value=True, description='FILTR01_A')"
      ]
     },
     "metadata": {},
     "output_type": "display_data"
    },
    {
     "data": {
      "application/vnd.jupyter.widget-view+json": {
       "model_id": "1366d5f6a8b5411881eddc20d53a0c57",
       "version_major": 2,
       "version_minor": 0
      },
      "text/plain": [
       "Checkbox(value=True, description='FILTR02_B')"
      ]
     },
     "metadata": {},
     "output_type": "display_data"
    }
   ],
   "source": [
    "output = Output()\n",
    "        \n",
    "for ai in a:\n",
    "    display(ai)"
   ]
  },
  {
   "cell_type": "code",
   "execution_count": 17,
   "id": "ecc00e2a-c53a-479a-a99f-88703f78ec39",
   "metadata": {},
   "outputs": [
    {
     "data": {
      "text/plain": [
       "[Checkbox(value=True, description='FILTR01_A'),\n",
       " Checkbox(value=True, description='FILTR02_B')]"
      ]
     },
     "execution_count": 17,
     "metadata": {},
     "output_type": "execute_result"
    }
   ],
   "source": [
    "a"
   ]
  },
  {
   "cell_type": "code",
   "execution_count": 18,
   "id": "439377ce-dc38-47ac-82b0-b027b92d6c7d",
   "metadata": {},
   "outputs": [
    {
     "data": {
      "application/vnd.jupyter.widget-view+json": {
       "model_id": "5a6d876d8afe409e860a00b8d3154065",
       "version_major": 2,
       "version_minor": 0
      },
      "text/plain": [
       "Output()"
      ]
     },
     "execution_count": 18,
     "metadata": {},
     "output_type": "execute_result"
    }
   ],
   "source": [
    "output"
   ]
  },
  {
   "cell_type": "code",
   "execution_count": 22,
   "id": "1aff0283-73e4-4415-a621-9b31e4948319",
   "metadata": {},
   "outputs": [
    {
     "data": {
      "text/html": [
       "<div>\n",
       "<style scoped>\n",
       "    .dataframe tbody tr th:only-of-type {\n",
       "        vertical-align: middle;\n",
       "    }\n",
       "\n",
       "    .dataframe tbody tr th {\n",
       "        vertical-align: top;\n",
       "    }\n",
       "\n",
       "    .dataframe thead th {\n",
       "        text-align: right;\n",
       "    }\n",
       "</style>\n",
       "<table border=\"1\" class=\"dataframe\">\n",
       "  <thead>\n",
       "    <tr style=\"text-align: right;\">\n",
       "      <th></th>\n",
       "      <th>Suma</th>\n",
       "      <th>FILTR01_A</th>\n",
       "      <th>FILTR02_B</th>\n",
       "      <th>FILTR00_ALL</th>\n",
       "      <th>FILTR99_FINAL</th>\n",
       "    </tr>\n",
       "  </thead>\n",
       "  <tbody>\n",
       "    <tr>\n",
       "      <th>0</th>\n",
       "      <td>1</td>\n",
       "      <td>O</td>\n",
       "      <td>O</td>\n",
       "      <td>O</td>\n",
       "      <td>O</td>\n",
       "    </tr>\n",
       "    <tr>\n",
       "      <th>1</th>\n",
       "      <td>2</td>\n",
       "      <td>O</td>\n",
       "      <td>X</td>\n",
       "      <td>O</td>\n",
       "      <td>O</td>\n",
       "    </tr>\n",
       "  </tbody>\n",
       "</table>\n",
       "</div>"
      ],
      "text/plain": [
       "   Suma FILTR01_A FILTR02_B FILTR00_ALL FILTR99_FINAL\n",
       "0     1         O         O           O             O\n",
       "1     2         O         X           O             O"
      ]
     },
     "execution_count": 22,
     "metadata": {},
     "output_type": "execute_result"
    }
   ],
   "source": [
    "PZ1_df"
   ]
  },
  {
   "cell_type": "code",
   "execution_count": null,
   "id": "a74eb54a-b64c-4782-a5d2-f67fabaa07bc",
   "metadata": {},
   "outputs": [],
   "source": []
  },
  {
   "cell_type": "code",
   "execution_count": null,
   "id": "5e0cc0f0-11fa-4e78-b7a9-30f9dc6489e9",
   "metadata": {},
   "outputs": [],
   "source": []
  },
  {
   "cell_type": "code",
   "execution_count": null,
   "id": "9e064e8d-7fbf-4a25-902f-b06ea94ce73f",
   "metadata": {},
   "outputs": [],
   "source": []
  },
  {
   "cell_type": "code",
   "execution_count": null,
   "id": "53694749-460d-41dc-be5b-75aac6864590",
   "metadata": {},
   "outputs": [],
   "source": []
  }
 ],
 "metadata": {
  "kernelspec": {
   "display_name": "Python 3 (ipykernel)",
   "language": "python",
   "name": "python3"
  },
  "language_info": {
   "codemirror_mode": {
    "name": "ipython",
    "version": 3
   },
   "file_extension": ".py",
   "mimetype": "text/x-python",
   "name": "python",
   "nbconvert_exporter": "python",
   "pygments_lexer": "ipython3",
   "version": "3.11.8"
  }
 },
 "nbformat": 4,
 "nbformat_minor": 5
}
