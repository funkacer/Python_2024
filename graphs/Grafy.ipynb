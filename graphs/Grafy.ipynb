{
 "cells": [
  {
   "cell_type": "code",
   "execution_count": 1,
   "id": "a7f931ab-b531-4377-b161-050fc4311ba5",
   "metadata": {},
   "outputs": [],
   "source": [
    "import pandas as pd\n",
    "import numpy as np\n",
    "import matplotlib.pyplot as plt\n",
    "import base64\n",
    "from io import BytesIO"
   ]
  },
  {
   "cell_type": "code",
   "execution_count": 2,
   "id": "f2f6388a-2e88-4b15-93b0-062728737fe2",
   "metadata": {},
   "outputs": [
    {
     "name": "stdout",
     "output_type": "stream",
     "text": [
      "/home/deck/_venv/_git/Python_2024/graphs\n"
     ]
    }
   ],
   "source": [
    "import os\n",
    "print(os.getcwd())"
   ]
  },
  {
   "cell_type": "code",
   "execution_count": 3,
   "id": "d13492fa",
   "metadata": {},
   "outputs": [],
   "source": [
    "def rd(x,y=0):\n",
    "    ''' A classical mathematical rounding by Voznica '''\n",
    "    try:\n",
    "        m = int('1'+'0'*y) # multiplier - how many positions to the right\n",
    "        q = x*m # shift to the right by multiplier\n",
    "        c = int(q) # new number\n",
    "        i = int( (q-c)*10 ) # indicator number on the right\n",
    "        if i >= 5:\n",
    "            c += 1\n",
    "        result = '{num:.{prec}f}'.format(num=c/m,prec=y)\n",
    "    except:\n",
    "        result = ''\n",
    "    return result"
   ]
  },
  {
   "cell_type": "code",
   "execution_count": 4,
   "id": "31eb0c16-9d65-4734-a924-dcf52540f032",
   "metadata": {},
   "outputs": [],
   "source": [
    "def rd(number, decimal_places=2, decimal_separator={'.':','}, minus_sign='-', thousands_separator={' ':' '}, integer_places=0,\n",
    "       round_type='5up', prefix='', suffix='', verbose=False) -> str:\n",
    "    \"\"\"Cerny rounding\"\"\"\n",
    "    if verbose: print('Cislovani pozic je od 0!')\n",
    "    #round_type=['None', '5up', 'Floor', 'Ceiling']\n",
    "    round_up = {'0':'1', '1':'2', '2':'3', '3':'4', '4':'5', '5':'6', '6':'7', '7':'8', '8':'9', '9':'0'}\n",
    "    decimal_separator_out=decimal_separator[list(decimal_separator.keys())[0]]\n",
    "    decimal_separator=list(decimal_separator.keys())[0]\n",
    "    separate_thousands=False\n",
    "    thousands_separator_out=thousands_separator[list(thousands_separator.keys())[0]]\n",
    "    thousands_separator=list(thousands_separator.keys())[0]\n",
    "    if thousands_separator_out != '':\n",
    "        separate_thousands=True\n",
    "    ret_string = ''\n",
    "    raw_string = str(number).strip()\n",
    "    raw_string = raw_string.replace(thousands_separator, '')\n",
    "    minus_place = raw_string.find(minus_sign)\n",
    "    raw_string = raw_string.replace(minus_sign, '')\n",
    "    decimal_place = raw_string.find(decimal_separator)\n",
    "    # když začíná .tak mi to nefunguje\n",
    "    if decimal_place == 0:\n",
    "        raw_string = '0' + raw_string\n",
    "        decimal_place = 1\n",
    "    raw_string = raw_string.replace(decimal_separator, '')\n",
    "    raw_string = ''.join([x for x in raw_string if x in round_up])\n",
    "    if decimal_place == -1:\n",
    "        decimal_place = len(raw_string)\n",
    "    if verbose: print('decimal_place', decimal_place)\n",
    "    if verbose: print('raw_string', raw_string)\n",
    "    if round_type != 'None':\n",
    "        # potrebuju se dostat na decision_number\n",
    "        decision_place = decimal_place + decimal_places\n",
    "        if verbose: print('decision_place', decision_place)\n",
    "        if (decision_place < 0):\n",
    "            # zaokrouhluju 999 na -4 a vic des.mist a víc, takže 1000 na -4 je 0000\n",
    "            if verbose: print('decision_place je < 0, vratim 0')\n",
    "            ret_string = '0'\n",
    "            decimal_place = 1\n",
    "            #decimal_place = abs(decimal_places)\n",
    "        elif (decision_place >= len(raw_string)):\n",
    "            # vratim cele a nasledne dodelam '0' na dalsich des mistech\n",
    "            if verbose: print('decision_place je >= len(raw_string):', len(raw_string), '- vratim cele a dodelam 0')\n",
    "            ret_string = raw_string\n",
    "        else:\n",
    "            #jdu zaokrouhlovat\n",
    "            if raw_string[decision_place] in ('0', '1', '2', '3', '4') and round_type != 'Ceiling' or round_type == 'Floor':\n",
    "                #zaokrouhluju dolu\n",
    "                ret_string += raw_string[:decision_place]\n",
    "                if verbose: print('zaokrouhluju dolu, decision number je:', raw_string[decision_place], ', vracím:', ret_string)\n",
    "            else:\n",
    "                #zaokrouhluju nahoru\n",
    "                for i in range (decision_place, -1, -1):\n",
    "                    if i == 0:\n",
    "                        ret_string = '1'\n",
    "                        decimal_place += 1\n",
    "                        if verbose: print('jsem na nultém místě a mám to zaokrouhlit nahoru, vracím 1 a ostatní doplním 0 až do decimal place:', decimal_place)\n",
    "                        break\n",
    "                    else:\n",
    "                        if raw_string[(i-1)] != '9':\n",
    "                            ret_string = raw_string[:(i-1)] + round_up[raw_string[(i-1)]]\n",
    "                            if verbose: print('hotovo, decision number je:', raw_string[i], 'na místě:', i, 'a předchozí není 9, vracím:', ret_string)\n",
    "                            break\n",
    "                        if verbose: print('zaokrouhluju nahoru, decision number je:', raw_string[i], 'na místě:', i)\n",
    "\n",
    "        # pokud jsem zaokrouhloval na - des mista, meno bylo typ 799.9, tak musim doplnit chybejici 0\n",
    "        # ta je bud do des. mista, nebo do abs(decimal_places), pokud jdem zadal abs(-decimal_places) > decimal_place\n",
    "        if len(ret_string) < decimal_place:\n",
    "            ret_string += '0'*(decimal_place - len(ret_string))\n",
    "    else:\n",
    "        ret_string = raw_string\n",
    "    # doplnim des. čárku a chybějící des. místa\n",
    "    if len(ret_string) > decimal_place - decimal_places:\n",
    "        ret_string=ret_string[:decimal_place] + decimal_separator_out + ret_string[decimal_place:]\n",
    "        if len(ret_string) - decimal_place <= decimal_places:\n",
    "            ret_string += '0'*(decimal_places - (len(ret_string) - decimal_place) + 1)\n",
    "    if decimal_place < integer_places:\n",
    "        ret_string = '0'*(integer_places - decimal_place) + ret_string\n",
    "        decimal_place = integer_places\n",
    "    # nechci přidat mínus k nule!\n",
    "    try:\n",
    "        x = float(ret_string)\n",
    "        if x == 0 and minus_place > -1:\n",
    "            minus_place = -1\n",
    "    except Exception as e:\n",
    "        pass\n",
    "    if separate_thousands:\n",
    "        for i, j in enumerate(range(decimal_place -1, -1, -1)):\n",
    "            #print(ret_string[j])\n",
    "            if i % 3 == 2 and j > 0:\n",
    "                ret_string=ret_string[:j] + thousands_separator_out + ret_string[j:]\n",
    "    if minus_place > -1:\n",
    "        ret_string = minus_sign + ret_string\n",
    "    return prefix + ret_string + suffix"
   ]
  },
  {
   "cell_type": "code",
   "execution_count": 5,
   "id": "ac0de805",
   "metadata": {},
   "outputs": [],
   "source": [
    "def getBarChart(df, columns = [], kind='v', rounding={'decimal_places':0}, normalize=False, reverse=False, total=False,\n",
    "                title='', label='', limit=(None, None), width=0.8, rotation=0, figsize=(5, 5), file='', html=False):\n",
    "    '''Tato funkce vytváří grafy s popisky hodnot'''\n",
    "    if kind =='v' or kind =='vs' or kind =='h' or kind =='hs':\n",
    "        # šaráda s cols je kvůli False, True v názvech sloupců (viz Titanic)\n",
    "        cols = []\n",
    "        if columns != []:\n",
    "            for i, column in enumerate(columns):\n",
    "                cols.append(df.columns.get_loc(column))\n",
    "        else:\n",
    "            for i, column in enumerate(df.columns):\n",
    "                cols.append(df.columns.get_loc(column))\n",
    "        \n",
    "        df = df.iloc[:, cols]\n",
    "        columns = df.columns\n",
    "        if total == True or total == 'sum':\n",
    "            df.loc['Total (sum)'] = df.sum()\n",
    "        elif total == 'mean':\n",
    "            df.loc['Total (mean)'] = df.mean()\n",
    "        if normalize:\n",
    "            df = df.div(df.sum(axis=1), axis=0)*100\n",
    "        if reverse:\n",
    "            df = df[::-1]\n",
    "        left_bottom = None\n",
    "        right_top = None\n",
    "        if len(limit) == 2:\n",
    "            left_bottom = limit[0]\n",
    "            right_top = limit[1]\n",
    "        fig, ax = plt.subplots(figsize = figsize)\n",
    "        rectss = []\n",
    "        bottom = np.zeros(len(df))\n",
    "        ticks = np.arange(len(df))  # the x/y ticks locations\n",
    "        width1 = 0    # pro popisky\n",
    "        if  kind =='v' or  kind =='h':\n",
    "            width = width / len(columns) #0.25  # the width of the bars\n",
    "            width1 = width/2*(len(columns)-1)\n",
    "        if reverse:\n",
    "            multiplier = len(columns)-1\n",
    "        else:\n",
    "            multiplier = 0\n",
    "        if kind =='v' or kind =='vs':\n",
    "            for column in columns:\n",
    "                offset = width * multiplier\n",
    "                if kind =='vs':\n",
    "                    rectss.append(ax.bar(x=ticks, height=df[column], bottom=bottom, width=width, label=column))\n",
    "                elif kind =='v':\n",
    "                    rectss.append(ax.bar(x=ticks + offset, height=df[column], width=width, label=column))\n",
    "                if reverse:\n",
    "                    multiplier -= 1\n",
    "                else:\n",
    "                    multiplier += 1\n",
    "                bottom += np.array(df[column])\n",
    "            bottom = np.zeros(len(df))\n",
    "            for rects in rectss:\n",
    "                bott = []\n",
    "                for i, rect in enumerate(rects):\n",
    "                    if len(columns) == 1 or kind =='v':\n",
    "                        ax.annotate(text=rd(rect.get_height(), **rounding), xy=(rect.get_x() + rect.get_width()/2, rect.get_height()), ha='center', va='bottom')\n",
    "                    else:\n",
    "                        ax.annotate(text=rd(rect.get_height(), **rounding), xy=(rect.get_x() + rect.get_width()/2, rect.get_height()/2 + bottom[i]), ha='center', va='center')\n",
    "                    bott.append(rect.get_height())\n",
    "                bottom += np.array(bott)\n",
    "            if rotation > 0 and rotation < 90:\n",
    "                ax.set_xticks(ticks + width1, df.index, rotation = rotation, rotation_mode='anchor', ha='right')\n",
    "            else:\n",
    "                ax.set_xticks(ticks + width1, df.index, rotation = rotation)\n",
    "            ax.set_xlabel(df.index.name)\n",
    "            ax.set_ylabel(label)\n",
    "            ax.set_ylim(bottom=left_bottom, top=right_top)\n",
    "            #ax.set_xticks(x + width, species)\n",
    "        if kind =='h' or kind =='hs':\n",
    "            for column in columns:\n",
    "                offset = width * multiplier\n",
    "                if kind =='hs':\n",
    "                    rectss.append(ax.barh(y=ticks, width=df[column], left=bottom, height=width, label=column))\n",
    "                elif kind =='h':\n",
    "                    rectss.append(ax.barh(y=ticks + offset, width=df[column], height=width, label=column))\n",
    "                if reverse:\n",
    "                    multiplier -= 1\n",
    "                else:\n",
    "                    multiplier += 1\n",
    "                bottom += np.array(df[column])\n",
    "            bottom = np.zeros(len(df))\n",
    "            for rects in rectss:\n",
    "                bott = []\n",
    "                for i, rect in enumerate(rects):\n",
    "                    if len(columns) == 1 or kind =='h':\n",
    "                        ax.annotate(text=rd(rect.get_width(),**rounding), xy=(rect.get_width(), rect.get_y()+rect.get_height()/2), ha='left', va='center')\n",
    "                    else:\n",
    "                        ax.annotate(text=rd(rect.get_width(),**rounding), xy=(rect.get_width()/2+bottom[i], rect.get_y()+rect.get_height()/2), ha='center', va='center')\n",
    "                    bott.append(rect.get_width())\n",
    "                bottom += np.array(bott)\n",
    "            if rotation > 0 and rotation < 90:\n",
    "                ax.set_yticks(ticks + width1, df.index, rotation = rotation, rotation_mode='anchor', ha='right')\n",
    "            else:\n",
    "                ax.set_yticks(ticks + width1, df.index, rotation = rotation, va='center')\n",
    "            ax.set_xlabel(label)\n",
    "            ax.set_xlim(left=left_bottom, right=right_top)\n",
    "            ax.set_ylabel(df.index.name)\n",
    "        ax.legend(title=df.columns.name, loc='upper center', bbox_to_anchor=(1.1, 1), ncol=1, fancybox=True, shadow=True)\n",
    "        ax.set_title(title)\n",
    "        if file != '':\n",
    "            fig.savefig(file, dpi=fig.dpi, bbox_inches='tight')\n",
    "        if html:\n",
    "            buf = BytesIO()\n",
    "            fig.savefig(buf, format=\"png\", bbox_inches='tight')\n",
    "            # Embed the result in the html output.\n",
    "            data = base64.b64encode(buf.getbuffer()).decode(\"ascii\")\n",
    "            return f\"<img src='data:image/png;base64,{data}'/>\"\n",
    "    else:\n",
    "        raise Exception(\"Sorry, wrong type(only accept 'h', 'hs', 'v', 'vs')\")"
   ]
  },
  {
   "cell_type": "code",
   "execution_count": 6,
   "id": "1dae3158",
   "metadata": {},
   "outputs": [
    {
     "data": {
      "text/html": [
       "<div>\n",
       "<style scoped>\n",
       "    .dataframe tbody tr th:only-of-type {\n",
       "        vertical-align: middle;\n",
       "    }\n",
       "\n",
       "    .dataframe tbody tr th {\n",
       "        vertical-align: top;\n",
       "    }\n",
       "\n",
       "    .dataframe thead th {\n",
       "        text-align: right;\n",
       "    }\n",
       "</style>\n",
       "<table border=\"1\" class=\"dataframe\">\n",
       "  <thead>\n",
       "    <tr style=\"text-align: right;\">\n",
       "      <th></th>\n",
       "      <th>Boys</th>\n",
       "      <th>Girls</th>\n",
       "    </tr>\n",
       "  </thead>\n",
       "  <tbody>\n",
       "    <tr>\n",
       "      <th>First Year</th>\n",
       "      <td>67</td>\n",
       "      <td>72</td>\n",
       "    </tr>\n",
       "    <tr>\n",
       "      <th>Second Year</th>\n",
       "      <td>78</td>\n",
       "      <td>80</td>\n",
       "    </tr>\n",
       "  </tbody>\n",
       "</table>\n",
       "</div>"
      ],
      "text/plain": [
       "             Boys  Girls\n",
       "First Year     67     72\n",
       "Second Year    78     80"
      ]
     },
     "execution_count": 6,
     "metadata": {},
     "output_type": "execute_result"
    }
   ],
   "source": [
    "df = pd.DataFrame({'Boys': [67, 78],\n",
    "                         'Girls': [72, 80], },\n",
    "                        index=['First Year', 'Second Year'])\n",
    "df"
   ]
  },
  {
   "cell_type": "code",
   "execution_count": 7,
   "id": "1d53ec2a",
   "metadata": {},
   "outputs": [
    {
     "data": {
      "text/plain": [
       "<Axes: >"
      ]
     },
     "execution_count": 7,
     "metadata": {},
     "output_type": "execute_result"
    },
    {
     "data": {
      "image/png": "[encoded data removed]",
      "text/plain": [
       "<Figure size 640x480 with 1 Axes>"
      ]
     },
     "metadata": {},
     "output_type": "display_data"
    }
   ],
   "source": [
    "df.plot(kind='bar', stacked=True)"
   ]
  },
  {
   "cell_type": "code",
   "execution_count": 8,
   "id": "e3a9af5b",
   "metadata": {},
   "outputs": [
    {
     "data": {
      "image/png": "[encoded data removed]",
      "text/plain": [
       "<Figure size 500x500 with 1 Axes>"
      ]
     },
     "metadata": {},
     "output_type": "display_data"
    }
   ],
   "source": [
    "getBarChart(df, kind='vs')"
   ]
  },
  {
   "cell_type": "code",
   "execution_count": 9,
   "id": "3bb2c99c",
   "metadata": {},
   "outputs": [
    {
     "data": {
      "image/png": "[encoded data removed]",
      "text/plain": [
       "<Figure size 500x500 with 1 Axes>"
      ]
     },
     "metadata": {},
     "output_type": "display_data"
    }
   ],
   "source": [
    "#df, columns = [], type='v', precision=0, normalize=False, title='Title', label='Label',\n",
    "                # width=0.8, rotation=0, figsize=(5, 5), file='', html=False\n",
    "html = getBarChart(df, columns=['Girls', 'Boys'], kind='vs', reverse=True, rounding={'decimal_places':1}, normalize=True, title='Graf', label='Osa', width=0.8, rotation=45, figsize=(5, 5), html=True)"
   ]
  },
  {
   "cell_type": "code",
   "execution_count": 10,
   "id": "8150922f",
   "metadata": {},
   "outputs": [
    {
     "data": {
      "application/vnd.jupyter.widget-view+json": {
       "model_id": "63b7dfac56804d55bbd22462ab08ad27",
       "version_major": 2,
       "version_minor": 0
      },
      "text/plain": [
       "HTML(value=\"<img src='data:image/png;base64,iVBORw0KGgoAAAANSUhEUgAAAh8AAAH6CAYAAACnPC59AAAAOnRFWHRTb2Z0d2FyZQ…"
      ]
     },
     "execution_count": 10,
     "metadata": {},
     "output_type": "execute_result"
    }
   ],
   "source": [
    "from ipywidgets import widgets, Layout, HBox, HTML\n",
    "HTML(html)"
   ]
  },
  {
   "cell_type": "code",
   "execution_count": 11,
   "id": "b6cb92d9",
   "metadata": {},
   "outputs": [
    {
     "data": {
      "text/plain": [
       "\"<img src='data:image/png;base64,iVBORw0KGgoAAAANSUhEUgAAAh8AAAH6CAYAAACnPC59AAAAOnRFWHRTb2Z0d2FyZQBN...\""
      ]
     },
     "execution_count": 11,
     "metadata": {},
     "output_type": "execute_result"
    }
   ],
   "source": [
    "html[:100]+'...'"
   ]
  },
  {
   "cell_type": "code",
   "execution_count": 12,
   "id": "532c9481-ecf1-4117-b7c3-ed2df4da75c6",
   "metadata": {},
   "outputs": [],
   "source": [
    "with open ('plot.html', 'w') as file:\n",
    "    file.write(html)"
   ]
  },
  {
   "cell_type": "code",
   "execution_count": 14,
   "id": "57fb2677",
   "metadata": {},
   "outputs": [
    {
     "data": {
      "image/png": "[encoded data removed]",
      "text/plain": [
       "<Figure size 600x400 with 1 Axes>"
      ]
     },
     "metadata": {},
     "output_type": "display_data"
    }
   ],
   "source": [
    "# dodělat plot.png\n",
    "#plt.savefig('plot.png', bbox_inches='tight')\n",
    "getBarChart(df, columns=['Girls', 'Boys'], kind='hs', reverse=True, rounding={'decimal_places':0}, normalize=True, title='Graf', label='Osa', width=0.8, rotation=45, figsize=(6, 4), file='plot.png')"
   ]
  },
  {
   "cell_type": "markdown",
   "id": "64e9b666",
   "metadata": {},
   "source": [
    "![graf](plot.png)"
   ]
  },
  {
   "cell_type": "code",
   "execution_count": null,
   "id": "30c39634-cfb7-469e-afd7-0e9cd2f1872a",
   "metadata": {},
   "outputs": [],
   "source": []
  },
  {
   "cell_type": "code",
   "execution_count": null,
   "id": "022dbf30-88e5-4e83-9c7d-acffe0123adb",
   "metadata": {},
   "outputs": [],
   "source": []
  }
 ],
 "metadata": {
  "kernelspec": {
   "display_name": "Python 3 (Spyder)",
   "language": "python3",
   "name": "python3"
  },
  "language_info": {
   "codemirror_mode": {
    "name": "ipython",
    "version": 3
   },
   "file_extension": ".py",
   "mimetype": "text/x-python",
   "name": "python",
   "nbconvert_exporter": "python",
   "pygments_lexer": "ipython3",
   "version": "3.13.1"
  }
 },
 "nbformat": 4,
 "nbformat_minor": 5
}
