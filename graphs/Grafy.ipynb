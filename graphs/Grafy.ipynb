{
 "cells": [
  {
   "cell_type": "code",
   "execution_count": 1,
   "id": "a7f931ab-b531-4377-b161-050fc4311ba5",
   "metadata": {},
   "outputs": [],
   "source": [
    "import pandas as pd\n",
    "import numpy as np\n",
    "import matplotlib.pyplot as plt\n",
    "import base64\n",
    "from io import BytesIO"
   ]
  },
  {
   "cell_type": "code",
   "execution_count": 2,
   "id": "d13492fa",
   "metadata": {},
   "outputs": [],
   "source": [
    "def rd(x,y=0):\n",
    "    ''' A classical mathematical rounding by Voznica '''\n",
    "    try:\n",
    "        m = int('1'+'0'*y) # multiplier - how many positions to the right\n",
    "        q = x*m # shift to the right by multiplier\n",
    "        c = int(q) # new number\n",
    "        i = int( (q-c)*10 ) # indicator number on the right\n",
    "        if i >= 5:\n",
    "            c += 1\n",
    "        result = '{num:.{prec}f}'.format(num=c/m,prec=y)\n",
    "    except:\n",
    "        result = ''\n",
    "    return result"
   ]
  },
  {
   "cell_type": "code",
   "execution_count": 3,
   "id": "ac0de805",
   "metadata": {},
   "outputs": [],
   "source": [
    "# dodělat možnost na procenta do 100% a label na osu\n",
    "def getBarChart(df, columns = [], type='v', precision=0, title='Graf', label='Osa', width=0.8, rotation=0, figsize=(5, 5), html=False):\n",
    "    '''Tato funkce vytváří grafy s popisky hodnot'''\n",
    "    cols = []\n",
    "    if len(columns) > 0:\n",
    "        for i, column in enumerate(columns):\n",
    "            #raise error if not found\n",
    "            cols.append(df.columns.get_loc(column))\n",
    "    else:\n",
    "        for i, column in enumerate(df.columns):\n",
    "            #raise error if not found\n",
    "            cols.append(df.columns.get_loc(column))\n",
    "    ind = np.arange(len(df.index))\n",
    "    if type == 'h' or type == 'hr' or type == 'v' or type == 'vr':\n",
    "        if type == 'v' or type == 'vr':\n",
    "            fig, ax = plt.subplots(figsize = figsize)\n",
    "            rectss = []\n",
    "            bottom = np.zeros(len(df.index))\n",
    "            for i in range(len(cols)):\n",
    "                if type == 'v':\n",
    "                    rectss.append(plt.bar(x=df.index, height=df[df.columns[cols[i]]], bottom=bottom, width=width, label=df.columns[cols[i]]))\n",
    "                    bottom += np.array(df[df.columns[cols[i]]])\n",
    "                else:\n",
    "                    rectss.append(plt.bar(x=df.index[::-1], height=df[df.columns[cols[i]]][::-1], bottom=bottom, width=width, label=df.columns[cols[i]]))\n",
    "                    bottom += np.array(df[df.columns[cols[i]]][::-1])\n",
    "            bottom = np.zeros(len(df.index))\n",
    "            for rects in rectss:\n",
    "                bott = []\n",
    "                for i, rect in enumerate(rects):\n",
    "                    if len(cols) == 1:\n",
    "                        ax.annotate(text=rd(rect.get_height(), precision), xy=(rect.get_x() + rect.get_width()/2, rect.get_height()), ha='center', va='bottom')\n",
    "                    else:\n",
    "                        ax.annotate(text=rd(rect.get_height(), precision), xy=(rect.get_x() + rect.get_width()/2, rect.get_height()/2 + bottom[i]), ha='center', va='center')\n",
    "                    bott.append(rect.get_height())\n",
    "                bottom += np.array(bott)\n",
    "            if rotation > 0 and rotation < 90:\n",
    "                plt.xticks(rotation = rotation, rotation_mode='anchor', ha='right')\n",
    "            else:\n",
    "                plt.xticks(rotation = rotation)\n",
    "            plt.ylabel(label)\n",
    "        if type == 'h' or type == 'hr':\n",
    "            fig, ax = plt.subplots(figsize = figsize)\n",
    "            rectss = []\n",
    "            bottom = np.zeros(len(df.index))\n",
    "            for i in range(len(cols)):\n",
    "                if type == 'h':\n",
    "                    rectss.append(plt.barh(y=df.index, width=df[df.columns[cols[i]]], left=bottom, height=width, label=df.columns[cols[i]]))\n",
    "                    bottom += np.array(df[df.columns[cols[i]]])\n",
    "                else:\n",
    "                    rectss.append(plt.barh(y=df.index[::-1], width=df[df.columns[cols[i]]][::-1], left=bottom, height=width, label=df.columns[cols[i]]))\n",
    "                    bottom += np.array(df[df.columns[cols[i]]][::-1])\n",
    "            bottom = np.zeros(len(df.index))\n",
    "            for rects in rectss:\n",
    "                bott = []\n",
    "                for i, rect in enumerate(rects):\n",
    "                    if len(cols) == 1:\n",
    "                        ax.annotate(text=rd(rect.get_width(),precision), xy=(rect.get_width()+bottom[i], rect.get_y()+rect.get_height()/2), ha='left', va='center')\n",
    "                    else:\n",
    "                        ax.annotate(text=rd(rect.get_width(),precision), xy=(rect.get_width()/2+bottom[i], rect.get_y()+rect.get_height()/2), ha='center', va='center')\n",
    "                    bott.append(rect.get_width())\n",
    "                bottom += np.array(bott)\n",
    "            if rotation < 0 or rotation > 90:\n",
    "                plt.yticks(rotation = rotation, rotation_mode='anchor', ha='right')\n",
    "            else:\n",
    "                plt.yticks(rotation = rotation)\n",
    "            plt.xlabel(label)\n",
    "        plt.title(title)\n",
    "        ax.legend(loc='upper center', bbox_to_anchor=(1.1, 1), ncol=1, fancybox=True, shadow=True)\n",
    "        #plt.show()\n",
    "        if html:\n",
    "            buf = BytesIO()\n",
    "            fig.savefig(buf, format=\"png\", bbox_inches='tight')\n",
    "            # Embed the result in the html output.\n",
    "            data = base64.b64encode(buf.getbuffer()).decode(\"ascii\")\n",
    "            return f\"<img src='data:image/png;base64,{data}'/>\"\n",
    "    else:\n",
    "        raise Exception(\"Sorry, wrong type(only accept 'h', 'hr', 'v', 'vr')\")"
   ]
  },
  {
   "cell_type": "code",
   "execution_count": 4,
   "id": "1dae3158",
   "metadata": {},
   "outputs": [
    {
     "data": {
      "text/html": [
       "<div>\n",
       "<style scoped>\n",
       "    .dataframe tbody tr th:only-of-type {\n",
       "        vertical-align: middle;\n",
       "    }\n",
       "\n",
       "    .dataframe tbody tr th {\n",
       "        vertical-align: top;\n",
       "    }\n",
       "\n",
       "    .dataframe thead th {\n",
       "        text-align: right;\n",
       "    }\n",
       "</style>\n",
       "<table border=\"1\" class=\"dataframe\">\n",
       "  <thead>\n",
       "    <tr style=\"text-align: right;\">\n",
       "      <th></th>\n",
       "      <th>Boys</th>\n",
       "      <th>Girls</th>\n",
       "    </tr>\n",
       "  </thead>\n",
       "  <tbody>\n",
       "    <tr>\n",
       "      <th>First Year</th>\n",
       "      <td>67</td>\n",
       "      <td>72</td>\n",
       "    </tr>\n",
       "    <tr>\n",
       "      <th>Second Year</th>\n",
       "      <td>78</td>\n",
       "      <td>80</td>\n",
       "    </tr>\n",
       "  </tbody>\n",
       "</table>\n",
       "</div>"
      ],
      "text/plain": [
       "             Boys  Girls\n",
       "First Year     67     72\n",
       "Second Year    78     80"
      ]
     },
     "execution_count": 4,
     "metadata": {},
     "output_type": "execute_result"
    }
   ],
   "source": [
    "df = pd.DataFrame({'Boys': [67, 78],\n",
    "                         'Girls': [72, 80], },\n",
    "                        index=['First Year', 'Second Year'])\n",
    "df"
   ]
  },
  {
   "cell_type": "code",
   "execution_count": 5,
   "id": "3bb2c99c",
   "metadata": {},
   "outputs": [
    {
     "data": {
      "image/png": "[encoded data removed]",
      "text/plain": [
       "<Figure size 600x300 with 1 Axes>"
      ]
     },
     "metadata": {},
     "output_type": "display_data"
    }
   ],
   "source": [
    "#columns = [], type='v', precision=0, title='Graf', label='Osa', width=0.8, rotation=0, figsize=(5, 5), html=False\n",
    "html = getBarChart(df, columns=[], type='v', width=0.8, figsize=(6,3), html=True, rotation=45, label='Count')"
   ]
  },
  {
   "cell_type": "code",
   "execution_count": 6,
   "id": "8150922f",
   "metadata": {},
   "outputs": [
    {
     "data": {
      "application/vnd.jupyter.widget-view+json": {
       "model_id": "e3748b2c18bd4915a8d84978b65c1a5f",
       "version_major": 2,
       "version_minor": 0
      },
      "text/plain": [
       "HTML(value=\"<img src='data:image/png;base64,iVBORw0KGgoAAAANSUhEUgAAAnQAAAFgCAYAAAAyxuTfAAAAOnRFWHRTb2Z0d2FyZQ…"
      ]
     },
     "execution_count": 6,
     "metadata": {},
     "output_type": "execute_result"
    }
   ],
   "source": [
    "from ipywidgets import widgets, Layout, HBox, HTML\n",
    "HTML(html)"
   ]
  },
  {
   "cell_type": "code",
   "execution_count": 7,
   "id": "b6cb92d9",
   "metadata": {},
   "outputs": [
    {
     "data": {
      "text/plain": [
       "\"<img src='data:image/png;base64,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'/>\""
      ]
     },
     "execution_count": 7,
     "metadata": {},
     "output_type": "execute_result"
    }
   ],
   "source": [
    "html"
   ]
  },
  {
   "cell_type": "code",
   "execution_count": null,
   "id": "532c9481-ecf1-4117-b7c3-ed2df4da75c6",
   "metadata": {},
   "outputs": [],
   "source": []
  }
 ],
 "metadata": {
  "kernelspec": {
   "display_name": "_venv",
   "language": "python",
   "name": "python3"
  },
  "language_info": {
   "codemirror_mode": {
    "name": "ipython",
    "version": 3
   },
   "file_extension": ".py",
   "mimetype": "text/x-python",
   "name": "python",
   "nbconvert_exporter": "python",
   "pygments_lexer": "ipython3",
   "version": "3.12.3"
  }
 },
 "nbformat": 4,
 "nbformat_minor": 5
}
