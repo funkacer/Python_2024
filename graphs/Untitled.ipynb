{
 "cells": [
  {
   "cell_type": "code",
   "execution_count": 1,
   "id": "a7f931ab-b531-4377-b161-050fc4311ba5",
   "metadata": {},
   "outputs": [],
   "source": [
    "import pandas as pd\n",
    "import numpy as np\n",
    "import matplotlib.pyplot as plt\n",
    "import base64\n",
    "from io import BytesIO"
   ]
  },
  {
   "cell_type": "code",
   "execution_count": 2,
   "id": "d13492fa",
   "metadata": {},
   "outputs": [],
   "source": [
    "def rd(x,y=0):\n",
    "    ''' A classical mathematical rounding by Voznica '''\n",
    "    try:\n",
    "        m = int('1'+'0'*y) # multiplier - how many positions to the right\n",
    "        q = x*m # shift to the right by multiplier\n",
    "        c = int(q) # new number\n",
    "        i = int( (q-c)*10 ) # indicator number on the right\n",
    "        if i >= 5:\n",
    "            c += 1\n",
    "        result = '{num:.{prec}f}'.format(num=c/m,prec=y)\n",
    "    except:\n",
    "        result = ''\n",
    "    return result"
   ]
  },
  {
   "cell_type": "code",
   "execution_count": 3,
   "id": "ac0de805",
   "metadata": {},
   "outputs": [],
   "source": [
    "# dodělat možnost na procenta do 100% a label na osu\n",
    "def getBarChart(df, columns = '', type='h', title='Graf', rotation=45, precision=0, figsize=(5, 5), html=False, width=0.8):\n",
    "    '''Tato funkce akceptuje df a nazvy sloupcu, vraci HTML kod horizontalniho grafu'''\n",
    "    cols = []\n",
    "    if columns != '':\n",
    "        for i, column in enumerate(columns):\n",
    "            #raise error if not found\n",
    "            cols.append(df.columns.get_loc(column))\n",
    "    else:\n",
    "        for i, column in enumerate(df.columns):\n",
    "            #raise error if not found\n",
    "            cols.append(df.columns.get_loc(column))\n",
    "    ind = np.arange(len(df.index))\n",
    "    fig, ax = plt.subplots(figsize = figsize)\n",
    "    rectss = []\n",
    "    bottom=np.zeros(len(df.index))\n",
    "    for i in range(len(cols)):\n",
    "        rectss.append(plt.barh(ind, df[df.columns[cols[i]]], left = bottom, label = df.columns[cols[i]], height=width))\n",
    "        bottom += np.array(df[df.columns[cols[i]]])\n",
    "    bottom=np.zeros(len(df.index))\n",
    "    for rects in rectss:\n",
    "        bott = []\n",
    "        for i, rect in enumerate(rects):\n",
    "            if len(cols) == 1:\n",
    "                ax.annotate(text = rd(rect.get_width(),precision), xy = (rect.get_width()+bottom[i], rect.get_y()+rect.get_height()/2), ha = 'left', va = 'center')\n",
    "            else:\n",
    "                ax.annotate(text = rd(rect.get_width(),precision), xy = (rect.get_width()/2+bottom[i], rect.get_y()+rect.get_height()/2), ha = 'center', va = 'center')\n",
    "            bott.append(rect.get_width())\n",
    "        bottom += np.array(bott)\n",
    "    plt.yticks(ind, df.index, rotation = rotation)\n",
    "    plt.title(title)\n",
    "    ax.legend(loc='upper center', bbox_to_anchor=(1.1, 1),\n",
    "          ncol=1, fancybox=True, shadow=True)\n",
    "    #plt.show()\n",
    "    if html:\n",
    "        buf = BytesIO()\n",
    "        fig.savefig(buf, format=\"png\", bbox_inches='tight')\n",
    "        # Embed the result in the html output.\n",
    "        data = base64.b64encode(buf.getbuffer()).decode(\"ascii\")\n",
    "        return f\"<img src='data:image/png;base64,{data}'/>\""
   ]
  },
  {
   "cell_type": "code",
   "execution_count": 4,
   "id": "1dae3158",
   "metadata": {},
   "outputs": [
    {
     "data": {
      "text/html": [
       "<div>\n",
       "<style scoped>\n",
       "    .dataframe tbody tr th:only-of-type {\n",
       "        vertical-align: middle;\n",
       "    }\n",
       "\n",
       "    .dataframe tbody tr th {\n",
       "        vertical-align: top;\n",
       "    }\n",
       "\n",
       "    .dataframe thead th {\n",
       "        text-align: right;\n",
       "    }\n",
       "</style>\n",
       "<table border=\"1\" class=\"dataframe\">\n",
       "  <thead>\n",
       "    <tr style=\"text-align: right;\">\n",
       "      <th></th>\n",
       "      <th>Boys</th>\n",
       "      <th>Girls</th>\n",
       "    </tr>\n",
       "  </thead>\n",
       "  <tbody>\n",
       "    <tr>\n",
       "      <th>First Year</th>\n",
       "      <td>67</td>\n",
       "      <td>72</td>\n",
       "    </tr>\n",
       "    <tr>\n",
       "      <th>Second Year</th>\n",
       "      <td>78</td>\n",
       "      <td>80</td>\n",
       "    </tr>\n",
       "  </tbody>\n",
       "</table>\n",
       "</div>"
      ],
      "text/plain": [
       "             Boys  Girls\n",
       "First Year     67     72\n",
       "Second Year    78     80"
      ]
     },
     "execution_count": 4,
     "metadata": {},
     "output_type": "execute_result"
    }
   ],
   "source": [
    "df = pd.DataFrame({'Boys': [67, 78],\n",
    "                         'Girls': [72, 80], },\n",
    "                        index=['First Year', 'Second Year'])\n",
    "df"
   ]
  },
  {
   "cell_type": "code",
   "execution_count": 5,
   "id": "3bb2c99c",
   "metadata": {},
   "outputs": [
    {
     "data": {
      "image/png": "[encoded data removed]",
      "text/plain": [
       "<Figure size 600x300 with 1 Axes>"
      ]
     },
     "metadata": {},
     "output_type": "display_data"
    }
   ],
   "source": [
    "html = getBarChart(df, columns=['Boys', 'Girls'], figsize=(6,3), width=0.8, html=True)\n",
    "plt.xlabel('aaa')\n",
    "plt.show()"
   ]
  },
  {
   "cell_type": "code",
   "execution_count": 6,
   "id": "8150922f",
   "metadata": {},
   "outputs": [
    {
     "data": {
      "application/vnd.jupyter.widget-view+json": {
       "model_id": "4174d2df5a3548daac5e37b5b862a18a",
       "version_major": 2,
       "version_minor": 0
      },
      "text/plain": [
       "HTML(value=\"<img src='data:image/png;base64,iVBORw0KGgoAAAANSUhEUgAAAowAAAEpCAYAAAAZCnMWAAAAOnRFWHRTb2Z0d2FyZQ…"
      ]
     },
     "execution_count": 6,
     "metadata": {},
     "output_type": "execute_result"
    }
   ],
   "source": [
    "from ipywidgets import widgets, Layout, HBox, HTML\n",
    "HTML(html)"
   ]
  },
  {
   "cell_type": "code",
   "execution_count": 4,
   "id": "469c349d",
   "metadata": {},
   "outputs": [],
   "source": [
    "def getBarChartV(df, columns, title='Graf', rotation = 45, sort_values = True, sort_ascending = True, limit = 100, precision = 0):\n",
    "    '''Tato funkce akceptuje df a nazvy sloupcu, vraci HTML kod vertikalniho grafu'''\n",
    "    cols = []\n",
    "    for i, column in enumerate(columns):\n",
    "        #raise error if not found\n",
    "        cols.append(df.columns.get_loc(column))\n",
    "    if sort_values:\n",
    "        df.sort_values(by=df.columns[cols[0]], axis = 0, inplace = True, ascending = sort_ascending)\n",
    "    else:\n",
    "        df.sort_index(inplace = True, ascending = sort_ascending)\n",
    "    df = df.head(limit)\n",
    "    ind = np.arange(len(df.index))\n",
    "    width = 0.8/len(cols)\n",
    "    fig, ax = plt.subplots(figsize = (10,5))\n",
    "    rectss = []\n",
    "    bottom=np.zeros(len(df.index))\n",
    "    for i in range(len(cols)):\n",
    "        rectss.append(plt.bar(ind, df[df.columns[cols[i]]], bottom = bottom, label = df.columns[cols[i]]))\n",
    "        bottom += np.array(df[df.columns[cols[i]]])\n",
    "    bottom=np.zeros(len(df.index))\n",
    "    for rects in rectss:\n",
    "        bott = []\n",
    "        for i, rect in enumerate(rects):\n",
    "            if len(cols) == 1:\n",
    "                ax.annotate(s = rd(rect.get_height(),precision), xy = (rect.get_x() + rect.get_width()/2, rect.get_height() + bottom[i]), ha = 'center', va = 'bottom')\n",
    "            else:\n",
    "                ax.annotate(s = rd(rect.get_height(),precision), xy = (rect.get_x() + rect.get_width()/2, rect.get_height()/2 + bottom[i]), ha = 'center', va = 'center')\n",
    "            bott.append(rect.get_height())\n",
    "        bottom += np.array(bott)\n",
    "    plt.xticks(ind, df.index, rotation = rotation)\n",
    "    plt.title(title)\n",
    "    ax.legend(loc='upper center', bbox_to_anchor=(1.1, 1),\n",
    "          ncol=1, fancybox=True, shadow=True)\n",
    "    #plt.show()\n",
    "    buf = BytesIO()\n",
    "    fig.savefig(buf, format=\"png\", bbox_inches='tight')\n",
    "    # Embed the result in the html output.\n",
    "    data = base64.b64encode(buf.getbuffer()).decode(\"ascii\")\n",
    "    return f\"<img src='data:image/png;base64,{data}'/>\""
   ]
  },
  {
   "cell_type": "code",
   "execution_count": null,
   "id": "b6cb92d9",
   "metadata": {},
   "outputs": [],
   "source": []
  }
 ],
 "metadata": {
  "kernelspec": {
   "display_name": "_venv",
   "language": "python",
   "name": "python3"
  },
  "language_info": {
   "codemirror_mode": {
    "name": "ipython",
    "version": 3
   },
   "file_extension": ".py",
   "mimetype": "text/x-python",
   "name": "python",
   "nbconvert_exporter": "python",
   "pygments_lexer": "ipython3",
   "version": "3.12.3"
  }
 },
 "nbformat": 4,
 "nbformat_minor": 5
}
