{
 "cells": [
  {
   "cell_type": "code",
   "execution_count": 1,
   "id": "a7f931ab-b531-4377-b161-050fc4311ba5",
   "metadata": {},
   "outputs": [],
   "source": [
    "import pandas as pd\n",
    "import numpy as np\n",
    "import matplotlib.pyplot as plt\n",
    "import base64\n",
    "from io import BytesIO"
   ]
  },
  {
   "cell_type": "code",
   "execution_count": 2,
   "id": "d13492fa",
   "metadata": {},
   "outputs": [],
   "source": [
    "def rd(x,y=0):\n",
    "    ''' A classical mathematical rounding by Voznica '''\n",
    "    try:\n",
    "        m = int('1'+'0'*y) # multiplier - how many positions to the right\n",
    "        q = x*m # shift to the right by multiplier\n",
    "        c = int(q) # new number\n",
    "        i = int( (q-c)*10 ) # indicator number on the right\n",
    "        if i >= 5:\n",
    "            c += 1\n",
    "        result = '{num:.{prec}f}'.format(num=c/m,prec=y)\n",
    "    except:\n",
    "        result = ''\n",
    "    return result"
   ]
  },
  {
   "cell_type": "code",
   "execution_count": 3,
   "id": "ac0de805",
   "metadata": {},
   "outputs": [],
   "source": [
    "# dodělat možnost na procenta do 100% a label na osu\n",
    "def getBarChart(df, columns = [], type='v', precision=0, title='Graf', label='Osa', width=0.8, rotation=0, figsize=(5, 5), html=False):\n",
    "    '''Tato funkce vytváří grafy s popisky hodnot'''\n",
    "    cols = []\n",
    "    if len(columns) > 0:\n",
    "        for i, column in enumerate(columns):\n",
    "            #raise error if not found\n",
    "            cols.append(df.columns.get_loc(column))\n",
    "    else:\n",
    "        for i, column in enumerate(df.columns):\n",
    "            #raise error if not found\n",
    "            cols.append(df.columns.get_loc(column))\n",
    "    ind = np.arange(len(df.index))\n",
    "    if type == 'h' or type == 'hr' or type == 'v' or type == 'vr':\n",
    "        if type == 'v' or type == 'vr':\n",
    "            fig, ax = plt.subplots(figsize = figsize)\n",
    "            rectss = []\n",
    "            bottom = np.zeros(len(df.index))\n",
    "            for i in range(len(cols)):\n",
    "                if type == 'v':\n",
    "                    rectss.append(plt.bar(x=df.index, height=df[df.columns[cols[i]]], bottom=bottom, width=width, label=df.columns[cols[i]]))\n",
    "                    bottom += np.array(df[df.columns[cols[i]]])\n",
    "                else:\n",
    "                    rectss.append(plt.bar(x=df.index[::-1], height=df[df.columns[cols[i]]][::-1], bottom=bottom, width=width, label=df.columns[cols[i]]))\n",
    "                    bottom += np.array(df[df.columns[cols[i]]][::-1])\n",
    "            bottom = np.zeros(len(df.index))\n",
    "            for rects in rectss:\n",
    "                bott = []\n",
    "                for i, rect in enumerate(rects):\n",
    "                    if len(cols) == 1:\n",
    "                        ax.annotate(text=rd(rect.get_height(), precision), xy=(rect.get_x() + rect.get_width()/2, rect.get_height()), ha='center', va='bottom')\n",
    "                    else:\n",
    "                        ax.annotate(text=rd(rect.get_height(), precision), xy=(rect.get_x() + rect.get_width()/2, rect.get_height()/2 + bottom[i]), ha='center', va='center')\n",
    "                    bott.append(rect.get_height())\n",
    "                bottom += np.array(bott)\n",
    "            if rotation > 0 and rotation < 90:\n",
    "                plt.xticks(rotation = rotation, rotation_mode='anchor', ha='right')\n",
    "            else:\n",
    "                plt.xticks(rotation = rotation)\n",
    "            plt.ylabel(label)\n",
    "        if type == 'h' or type == 'hr':\n",
    "            fig, ax = plt.subplots(figsize = figsize)\n",
    "            rectss = []\n",
    "            bottom = np.zeros(len(df.index))\n",
    "            for i in range(len(cols)):\n",
    "                if type == 'h':\n",
    "                    rectss.append(plt.barh(y=df.index, width=df[df.columns[cols[i]]], left=bottom, height=width, label=df.columns[cols[i]]))\n",
    "                    bottom += np.array(df[df.columns[cols[i]]])\n",
    "                else:\n",
    "                    rectss.append(plt.barh(y=df.index[::-1], width=df[df.columns[cols[i]]][::-1], left=bottom, height=width, label=df.columns[cols[i]]))\n",
    "                    bottom += np.array(df[df.columns[cols[i]]][::-1])\n",
    "            bottom = np.zeros(len(df.index))\n",
    "            for rects in rectss:\n",
    "                bott = []\n",
    "                for i, rect in enumerate(rects):\n",
    "                    if len(cols) == 1:\n",
    "                        ax.annotate(text=rd(rect.get_width(),precision), xy=(rect.get_width()+bottom[i], rect.get_y()+rect.get_height()/2), ha='left', va='center')\n",
    "                    else:\n",
    "                        ax.annotate(text=rd(rect.get_width(),precision), xy=(rect.get_width()/2+bottom[i], rect.get_y()+rect.get_height()/2), ha='center', va='center')\n",
    "                    bott.append(rect.get_width())\n",
    "                bottom += np.array(bott)\n",
    "            if rotation < 0 or rotation > 90:\n",
    "                plt.yticks(rotation = rotation, rotation_mode='anchor', ha='right')\n",
    "            else:\n",
    "                plt.yticks(rotation = rotation)\n",
    "            plt.xlabel(label)\n",
    "        plt.title(title)\n",
    "        ax.legend(loc='upper center', bbox_to_anchor=(1.1, 1), ncol=1, fancybox=True, shadow=True)\n",
    "        #plt.show()\n",
    "        if html:\n",
    "            buf = BytesIO()\n",
    "            fig.savefig(buf, format=\"png\", bbox_inches='tight')\n",
    "            # Embed the result in the html output.\n",
    "            data = base64.b64encode(buf.getbuffer()).decode(\"ascii\")\n",
    "            return f\"<img src='data:image/png;base64,{data}'/>\"\n",
    "    else:\n",
    "        raise Exception(\"Sorry, wrong type(only accept 'h', 'hr', 'v', 'vr')\")"
   ]
  },
  {
   "cell_type": "code",
   "execution_count": 4,
   "id": "1dae3158",
   "metadata": {},
   "outputs": [
    {
     "data": {
      "text/html": [
       "<div>\n",
       "<style scoped>\n",
       "    .dataframe tbody tr th:only-of-type {\n",
       "        vertical-align: middle;\n",
       "    }\n",
       "\n",
       "    .dataframe tbody tr th {\n",
       "        vertical-align: top;\n",
       "    }\n",
       "\n",
       "    .dataframe thead th {\n",
       "        text-align: right;\n",
       "    }\n",
       "</style>\n",
       "<table border=\"1\" class=\"dataframe\">\n",
       "  <thead>\n",
       "    <tr style=\"text-align: right;\">\n",
       "      <th></th>\n",
       "      <th>Boys</th>\n",
       "      <th>Girls</th>\n",
       "    </tr>\n",
       "  </thead>\n",
       "  <tbody>\n",
       "    <tr>\n",
       "      <th>First Year</th>\n",
       "      <td>67</td>\n",
       "      <td>72</td>\n",
       "    </tr>\n",
       "    <tr>\n",
       "      <th>Second Year</th>\n",
       "      <td>78</td>\n",
       "      <td>80</td>\n",
       "    </tr>\n",
       "  </tbody>\n",
       "</table>\n",
       "</div>"
      ],
      "text/plain": [
       "             Boys  Girls\n",
       "First Year     67     72\n",
       "Second Year    78     80"
      ]
     },
     "execution_count": 4,
     "metadata": {},
     "output_type": "execute_result"
    }
   ],
   "source": [
    "df = pd.DataFrame({'Boys': [67, 78],\n",
    "                         'Girls': [72, 80], },\n",
    "                        index=['First Year', 'Second Year'])\n",
    "df"
   ]
  },
  {
   "cell_type": "code",
   "execution_count": 20,
   "id": "3bb2c99c",
   "metadata": {},
   "outputs": [
    {
     "data": {
      "image/png": "[encoded data removed]",
      "text/plain": [
       "<Figure size 600x300 with 1 Axes>"
      ]
     },
     "metadata": {},
     "output_type": "display_data"
    }
   ],
   "source": [
    "#columns = [], type='v', precision=0, title='Graf', label='Osa', width=0.8, rotation=0, figsize=(5, 5), html=False\n",
    "html = getBarChart(df, columns=['Girls', 'Boys'], type='v', width=0.8, figsize=(6,3), html=True)"
   ]
  },
  {
   "cell_type": "code",
   "execution_count": 17,
   "id": "8150922f",
   "metadata": {},
   "outputs": [
    {
     "data": {
      "application/vnd.jupyter.widget-view+json": {
       "model_id": "345ef6ad0bd548bd97ae5af0d52ea333",
       "version_major": 2,
       "version_minor": 0
      },
      "text/plain": [
       "HTML(value=\"<img src='data:image/png;base64,iVBORw0KGgoAAAANSUhEUgAAApsAAAE8CAYAAACPY3qvAAAAOnRFWHRTb2Z0d2FyZQ…"
      ]
     },
     "execution_count": 17,
     "metadata": {},
     "output_type": "execute_result"
    }
   ],
   "source": [
    "from ipywidgets import widgets, Layout, HBox, HTML\n",
    "HTML(html)"
   ]
  },
  {
   "cell_type": "code",
   "execution_count": 14,
   "id": "b6cb92d9",
   "metadata": {},
   "outputs": [],
   "source": [
    "html"
   ]
  },
  {
   "cell_type": "code",
   "execution_count": null,
   "id": "532c9481-ecf1-4117-b7c3-ed2df4da75c6",
   "metadata": {},
   "outputs": [],
   "source": []
  }
 ],
 "metadata": {
  "kernelspec": {
   "display_name": "Python 3 (ipykernel)",
   "language": "python",
   "name": "python3"
  },
  "language_info": {
   "codemirror_mode": {
    "name": "ipython",
    "version": 3
   },
   "file_extension": ".py",
   "mimetype": "text/x-python",
   "name": "python",
   "nbconvert_exporter": "python",
   "pygments_lexer": "ipython3",
   "version": "3.10.12"
  }
 },
 "nbformat": 4,
 "nbformat_minor": 5
}
