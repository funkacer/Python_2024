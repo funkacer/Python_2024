{
 "cells": [
  {
   "cell_type": "code",
   "execution_count": 1,
   "id": "42b5165f-70d7-4beb-9caa-950a4da10e52",
   "metadata": {},
   "outputs": [],
   "source": [
    "from os import listdir\n",
    "from os.path import isfile, isdir, join"
   ]
  },
  {
   "cell_type": "code",
   "execution_count": 2,
   "id": "a1e3d6d1-b981-4e42-90cf-a6c59394a7db",
   "metadata": {},
   "outputs": [],
   "source": [
    "mypath = '/Users/jiricerny/Downloads'"
   ]
  },
  {
   "cell_type": "code",
   "execution_count": 3,
   "id": "eadce8ec-d6a6-4219-a3cd-46bdd6a96185",
   "metadata": {},
   "outputs": [
    {
     "data": {
      "text/plain": [
       "['.DS_Store',\n",
       " '.localized',\n",
       " 'CEN08B3.xlsx',\n",
       " 'DC-Offset.wav',\n",
       " 'DC-Offset.zip',\n",
       " 'FusionCharts.png',\n",
       " 'Play_Keys.bwtemplate',\n",
       " 'Podolski_123_12092_Mac.zip',\n",
       " 'Powersynth.bwpreset',\n",
       " 'Psytrance Tutorial.zip',\n",
       " 'Skewness-copy.webp',\n",
       " 'Strom.txt',\n",
       " 'TripleCheese_130_12092_Mac.zip',\n",
       " 'Untitled3.ipynb',\n",
       " '_Grafy1.py',\n",
       " 'adminer-4.8.1.php',\n",
       " 'desktop.ini',\n",
       " 'prilohy_116001.zip',\n",
       " 'pyth3_1.txt',\n",
       " 'uz.sql']"
      ]
     },
     "execution_count": 3,
     "metadata": {},
     "output_type": "execute_result"
    }
   ],
   "source": [
    "#onlyfiles = [f for f in sorted(listdir(mypath)) if isfile(join(mypath, f)) and f[-4:] == '.txt']\n",
    "onlyfiles = [f for f in sorted(listdir(mypath)) if isfile(join(mypath, f))]\n",
    "onlyfiles"
   ]
  },
  {
   "cell_type": "code",
   "execution_count": 4,
   "id": "97583a39-6055-4237-8269-af4fba480177",
   "metadata": {},
   "outputs": [
    {
     "data": {
      "text/plain": [
       "['DC-Offset.zip',\n",
       " 'FusionCharts.png',\n",
       " 'prilohy_116001.zip',\n",
       " 'Strom.txt',\n",
       " 'Psytrance Tutorial.zip',\n",
       " '.DS_Store',\n",
       " 'TripleCheese_130_12092_Mac.zip',\n",
       " '.localized',\n",
       " 'Untitled3.ipynb',\n",
       " 'Steinberg',\n",
       " '_Grafy1.py',\n",
       " 'CEN08B3.xlsx',\n",
       " '$RECYCLE.BIN',\n",
       " 'IKMultimedia',\n",
       " 'uz.sql',\n",
       " 'Skewness-copy.webp',\n",
       " 'UJAM',\n",
       " 'prilohy_116001',\n",
       " 'Psytrance Tutorial',\n",
       " 'pyth3_1.txt',\n",
       " 'DC-Offset.wav',\n",
       " 'Powersynth.bwpreset',\n",
       " 'Play_Keys.bwtemplate',\n",
       " 'desktop.ini',\n",
       " 'adminer-4.8.1.php',\n",
       " 'Podolski_123_12092_Mac.zip']"
      ]
     },
     "execution_count": 4,
     "metadata": {},
     "output_type": "execute_result"
    }
   ],
   "source": [
    "listdir(mypath)"
   ]
  },
  {
   "cell_type": "code",
   "execution_count": 5,
   "id": "6f60dd5c-3422-46a8-bcd4-b53fce44e1ff",
   "metadata": {},
   "outputs": [
    {
     "data": {
      "text/plain": [
       "['Steinberg',\n",
       " '$RECYCLE.BIN',\n",
       " 'IKMultimedia',\n",
       " 'UJAM',\n",
       " 'prilohy_116001',\n",
       " 'Psytrance Tutorial']"
      ]
     },
     "execution_count": 5,
     "metadata": {},
     "output_type": "execute_result"
    }
   ],
   "source": [
    "[f for f in listdir(mypath) if isdir(join(mypath, f)) ]"
   ]
  },
  {
   "cell_type": "code",
   "execution_count": 6,
   "id": "e272f3e8-545b-4458-9de2-cb3c30718d05",
   "metadata": {},
   "outputs": [],
   "source": [
    "def list_directories(mypath):\n",
    "    list = []\n",
    "    l = [f for f in listdir(mypath) if isdir(join(mypath, f))]\n",
    "    for f in l:\n",
    "        list.append(join(mypath, f))\n",
    "        list = list + list_directories(join(mypath, f))\n",
    "    return list"
   ]
  },
  {
   "cell_type": "code",
   "execution_count": 7,
   "id": "cd2ccd5f-7eb8-483e-a502-3211b9134d99",
   "metadata": {},
   "outputs": [
    {
     "data": {
      "text/plain": [
       "['/Users/jiricerny/Downloads/Steinberg',\n",
       " '/Users/jiricerny/Downloads/Steinberg/OSX',\n",
       " '/Users/jiricerny/Downloads/Steinberg/OSX/Navia Harp Free',\n",
       " '/Users/jiricerny/Downloads/Steinberg/OSX/HALion Sonic 7.1.0 – Instrument (recommended)',\n",
       " '/Users/jiricerny/Downloads/Steinberg/OSX/Cubase 13.0.41 - Application (required)',\n",
       " '/Users/jiricerny/Downloads/Steinberg/OSX/HALion 7.1.0',\n",
       " '/Users/jiricerny/Downloads/Steinberg/OSX/Alto Glockenspiel',\n",
       " '/Users/jiricerny/Downloads/Steinberg/OSX/X-Stream',\n",
       " '/Users/jiricerny/Downloads/Steinberg/OSX/Groove Agent ONE',\n",
       " '/Users/jiricerny/Downloads/Steinberg/OSX/Groove Agent SE 5 - 5.2.10 – Instrument (recommended)',\n",
       " '/Users/jiricerny/Downloads/Steinberg/OSX/Guitar Harmonics',\n",
       " '/Users/jiricerny/Downloads/Steinberg/OSX/Groove Agent 5 - 5.2.10',\n",
       " '/Users/jiricerny/Downloads/$RECYCLE.BIN',\n",
       " '/Users/jiricerny/Downloads/IKMultimedia',\n",
       " '/Users/jiricerny/Downloads/UJAM',\n",
       " '/Users/jiricerny/Downloads/prilohy_116001',\n",
       " '/Users/jiricerny/Downloads/Psytrance Tutorial']"
      ]
     },
     "execution_count": 7,
     "metadata": {},
     "output_type": "execute_result"
    }
   ],
   "source": [
    "list_directories(mypath)"
   ]
  },
  {
   "cell_type": "code",
   "execution_count": 8,
   "id": "49d0c6dc-b023-4b3d-a5a9-b94d740fa0f0",
   "metadata": {},
   "outputs": [],
   "source": [
    "def list_files_directories(mypath):\n",
    "    list = []\n",
    "    l = [f for f in listdir(mypath)]\n",
    "    for f in l:\n",
    "        list.append(join(mypath, f))\n",
    "        if isdir(join(mypath, f)):\n",
    "            list = list + list_files_directories(join(mypath, f))\n",
    "    return list"
   ]
  },
  {
   "cell_type": "code",
   "execution_count": 9,
   "id": "cadeff7d-3cc0-48b1-bd8b-a71ca5eb4781",
   "metadata": {},
   "outputs": [
    {
     "data": {
      "text/plain": [
       "['/Users/jiricerny/Downloads/DC-Offset.zip',\n",
       " '/Users/jiricerny/Downloads/FusionCharts.png',\n",
       " '/Users/jiricerny/Downloads/prilohy_116001.zip',\n",
       " '/Users/jiricerny/Downloads/Strom.txt',\n",
       " '/Users/jiricerny/Downloads/Psytrance Tutorial.zip',\n",
       " '/Users/jiricerny/Downloads/.DS_Store',\n",
       " '/Users/jiricerny/Downloads/TripleCheese_130_12092_Mac.zip',\n",
       " '/Users/jiricerny/Downloads/.localized',\n",
       " '/Users/jiricerny/Downloads/Untitled3.ipynb',\n",
       " '/Users/jiricerny/Downloads/Steinberg',\n",
       " '/Users/jiricerny/Downloads/Steinberg/.DS_Store',\n",
       " '/Users/jiricerny/Downloads/Steinberg/OSX',\n",
       " '/Users/jiricerny/Downloads/Steinberg/OSX/Navia Harp Free',\n",
       " '/Users/jiricerny/Downloads/Steinberg/OSX/.DS_Store',\n",
       " '/Users/jiricerny/Downloads/Steinberg/OSX/HALion Sonic 7.1.0 – Instrument (recommended)',\n",
       " '/Users/jiricerny/Downloads/Steinberg/OSX/HALion Sonic 7.1.0 – Instrument (recommended)/.DS_Store',\n",
       " '/Users/jiricerny/Downloads/Steinberg/OSX/Cubase 13.0.41 - Application (required)',\n",
       " '/Users/jiricerny/Downloads/Steinberg/OSX/Cubase 13.0.41 - Application (required)/.DS_Store',\n",
       " '/Users/jiricerny/Downloads/Steinberg/OSX/HALion 7.1.0',\n",
       " '/Users/jiricerny/Downloads/Steinberg/OSX/HALion 7.1.0/.DS_Store',\n",
       " '/Users/jiricerny/Downloads/Steinberg/OSX/Alto Glockenspiel',\n",
       " '/Users/jiricerny/Downloads/Steinberg/OSX/X-Stream',\n",
       " '/Users/jiricerny/Downloads/Steinberg/OSX/Groove Agent ONE',\n",
       " '/Users/jiricerny/Downloads/Steinberg/OSX/Groove Agent SE 5 - 5.2.10 – Instrument (recommended)',\n",
       " '/Users/jiricerny/Downloads/Steinberg/OSX/Groove Agent SE 5 - 5.2.10 – Instrument (recommended)/.DS_Store',\n",
       " '/Users/jiricerny/Downloads/Steinberg/OSX/Guitar Harmonics',\n",
       " '/Users/jiricerny/Downloads/Steinberg/OSX/Guitar Harmonics/moje.txt',\n",
       " '/Users/jiricerny/Downloads/Steinberg/OSX/Groove Agent 5 - 5.2.10',\n",
       " '/Users/jiricerny/Downloads/Steinberg/OSX/Groove Agent 5 - 5.2.10/.DS_Store',\n",
       " '/Users/jiricerny/Downloads/_Grafy1.py',\n",
       " '/Users/jiricerny/Downloads/CEN08B3.xlsx',\n",
       " '/Users/jiricerny/Downloads/$RECYCLE.BIN',\n",
       " '/Users/jiricerny/Downloads/$RECYCLE.BIN/desktop.ini',\n",
       " '/Users/jiricerny/Downloads/IKMultimedia',\n",
       " '/Users/jiricerny/Downloads/IKMultimedia/.DS_Store',\n",
       " '/Users/jiricerny/Downloads/uz.sql',\n",
       " '/Users/jiricerny/Downloads/Skewness-copy.webp',\n",
       " '/Users/jiricerny/Downloads/UJAM',\n",
       " '/Users/jiricerny/Downloads/prilohy_116001',\n",
       " '/Users/jiricerny/Downloads/prilohy_116001/w3schools_matplotlib.txt',\n",
       " '/Users/jiricerny/Downloads/prilohy_116001/img_matplotlib_pie_angles.png',\n",
       " '/Users/jiricerny/Downloads/prilohy_116001/img_matplotlib_pie_start.png',\n",
       " '/Users/jiricerny/Downloads/prilohy_116001/img_matplotlib_histogram1.png',\n",
       " '/Users/jiricerny/Downloads/Psytrance Tutorial',\n",
       " '/Users/jiricerny/Downloads/Psytrance Tutorial/BE_Chakra_Snare1_315032.wav',\n",
       " '/Users/jiricerny/Downloads/Psytrance Tutorial/nuphory_hypertrance_909_Buildup_Snare_06_1009972.wav',\n",
       " '/Users/jiricerny/Downloads/Psytrance Tutorial/nuphory_hypertrance_SFX_Sweep_01_1009996.wav',\n",
       " '/Users/jiricerny/Downloads/Psytrance Tutorial/WAMTM_FX_Impact_07_2135980.wav',\n",
       " '/Users/jiricerny/Downloads/Psytrance Tutorial/PL_CDNB_01_ShakerHat_01_170_881159.wav',\n",
       " '/Users/jiricerny/Downloads/Psytrance Tutorial/WA Progressive Psy Closed & Open Hats 30_529189.wav',\n",
       " '/Users/jiricerny/Downloads/Psytrance Tutorial/Alex_Lustig_Aura_Perc_Tamb_1010255.wav',\n",
       " '/Users/jiricerny/Downloads/Psytrance Tutorial/WAMTM_FX_Uplifter_09_2135992.wav',\n",
       " '/Users/jiricerny/Downloads/Psytrance Tutorial/WAMTM_FX_Impact_06_2136213.wav',\n",
       " '/Users/jiricerny/Downloads/Psytrance Tutorial/PMSP_909_Open_Hat_2252234.wav',\n",
       " '/Users/jiricerny/Downloads/Psytrance Tutorial/nuphory_hypertrance_Drum_Loop_Open_Hats_160BPM_07_1009774.wav',\n",
       " '/Users/jiricerny/Downloads/Psytrance Tutorial/nuphory_hypertrance_909_Crash_03_1009843.wav',\n",
       " '/Users/jiricerny/Downloads/Psytrance Tutorial/BE_Chakra_Open_HH4_314969.wav',\n",
       " '/Users/jiricerny/Downloads/Psytrance Tutorial/WA Progressive Psy Closed & Open Hats 01_529122.wav',\n",
       " '/Users/jiricerny/Downloads/Psytrance Tutorial/WA Progressive Psy Closed & Open Hats 07_529123.wav',\n",
       " '/Users/jiricerny/Downloads/Psytrance Tutorial/Psytrance Tutorial.flp',\n",
       " '/Users/jiricerny/Downloads/Psytrance Tutorial/FL_PF_Kit01_Snare_One_Shot_Spring_Reverb_2169684.wav',\n",
       " '/Users/jiricerny/Downloads/Psytrance Tutorial/Kit 20 Vox Filter Down 138 B Wet_622810.wav',\n",
       " '/Users/jiricerny/Downloads/Psytrance Tutorial/Kit 01 Acid Filter Down 140 G Wet_621385.wav',\n",
       " '/Users/jiricerny/Downloads/Psytrance Tutorial/BEEFE_PSY_Trance_Kick2_G#_294179.wav',\n",
       " '/Users/jiricerny/Downloads/Psytrance Tutorial/BE_Chakra_Closed_HH8_314103.wav',\n",
       " '/Users/jiricerny/Downloads/Psytrance Tutorial/BE_Chakra_Vocal2_WET_140_G_minor_315595.wav',\n",
       " '/Users/jiricerny/Downloads/Psytrance Tutorial/FL_FUR_Kit1_Drum_Loop_Snare_Build_126_2172309.wav',\n",
       " '/Users/jiricerny/Downloads/Psytrance Tutorial/BE_Chakra_Snare15_314216.wav',\n",
       " '/Users/jiricerny/Downloads/Psytrance Tutorial/PMMI_fx_sound_loop_120_impacts_2224992.wav',\n",
       " '/Users/jiricerny/Downloads/pyth3_1.txt',\n",
       " '/Users/jiricerny/Downloads/DC-Offset.wav',\n",
       " '/Users/jiricerny/Downloads/Powersynth.bwpreset',\n",
       " '/Users/jiricerny/Downloads/Play_Keys.bwtemplate',\n",
       " '/Users/jiricerny/Downloads/desktop.ini',\n",
       " '/Users/jiricerny/Downloads/adminer-4.8.1.php',\n",
       " '/Users/jiricerny/Downloads/Podolski_123_12092_Mac.zip']"
      ]
     },
     "execution_count": 9,
     "metadata": {},
     "output_type": "execute_result"
    }
   ],
   "source": [
    "list_files_directories(mypath)"
   ]
  },
  {
   "cell_type": "code",
   "execution_count": 12,
   "id": "7495f11b-cfbe-45df-bf94-86bcd8c266f8",
   "metadata": {},
   "outputs": [
    {
     "data": {
      "text/plain": [
       "['/Users/jiricerny/Downloads/Steinberg',\n",
       " '/Users/jiricerny/Downloads/$RECYCLE.BIN',\n",
       " '/Users/jiricerny/Downloads/IKMultimedia',\n",
       " '/Users/jiricerny/Downloads/UJAM',\n",
       " '/Users/jiricerny/Downloads/prilohy_116001',\n",
       " '/Users/jiricerny/Downloads/Psytrance Tutorial']"
      ]
     },
     "execution_count": 12,
     "metadata": {},
     "output_type": "execute_result"
    }
   ],
   "source": [
    "import os\n",
    "# original dirs\n",
    "[(entry.path) for entry in os.scandir(mypath) if not entry.name.startswith('.') and entry.is_dir()]"
   ]
  },
  {
   "cell_type": "code",
   "execution_count": 14,
   "id": "a7f57b27-ecb3-4f1d-b94e-f1d4dc0e2346",
   "metadata": {},
   "outputs": [
    {
     "data": {
      "text/plain": [
       "['/Users/jiricerny/Downloads/DC-Offset.zip',\n",
       " '/Users/jiricerny/Downloads/FusionCharts.png',\n",
       " '/Users/jiricerny/Downloads/prilohy_116001.zip',\n",
       " '/Users/jiricerny/Downloads/Strom.txt',\n",
       " '/Users/jiricerny/Downloads/Psytrance Tutorial.zip',\n",
       " '/Users/jiricerny/Downloads/TripleCheese_130_12092_Mac.zip',\n",
       " '/Users/jiricerny/Downloads/Untitled3.ipynb',\n",
       " '/Users/jiricerny/Downloads/_Grafy1.py',\n",
       " '/Users/jiricerny/Downloads/CEN08B3.xlsx',\n",
       " '/Users/jiricerny/Downloads/uz.sql',\n",
       " '/Users/jiricerny/Downloads/Skewness-copy.webp',\n",
       " '/Users/jiricerny/Downloads/pyth3_1.txt',\n",
       " '/Users/jiricerny/Downloads/DC-Offset.wav',\n",
       " '/Users/jiricerny/Downloads/Powersynth.bwpreset',\n",
       " '/Users/jiricerny/Downloads/Play_Keys.bwtemplate',\n",
       " '/Users/jiricerny/Downloads/desktop.ini',\n",
       " '/Users/jiricerny/Downloads/adminer-4.8.1.php',\n",
       " '/Users/jiricerny/Downloads/Podolski_123_12092_Mac.zip']"
      ]
     },
     "execution_count": 14,
     "metadata": {},
     "output_type": "execute_result"
    }
   ],
   "source": [
    "# original files\n",
    "[(entry.path) for entry in os.scandir(mypath) if not entry.name.startswith('.') and entry.is_file()]"
   ]
  },
  {
   "cell_type": "code",
   "execution_count": null,
   "id": "56d8cdb7-3416-41d3-8bf3-f83cbfcae4c0",
   "metadata": {},
   "outputs": [],
   "source": []
  }
 ],
 "metadata": {
  "kernelspec": {
   "display_name": "Python 3 (ipykernel)",
   "language": "python",
   "name": "python3"
  },
  "language_info": {
   "codemirror_mode": {
    "name": "ipython",
    "version": 3
   },
   "file_extension": ".py",
   "mimetype": "text/x-python",
   "name": "python",
   "nbconvert_exporter": "python",
   "pygments_lexer": "ipython3",
   "version": "3.11.8"
  }
 },
 "nbformat": 4,
 "nbformat_minor": 5
}
