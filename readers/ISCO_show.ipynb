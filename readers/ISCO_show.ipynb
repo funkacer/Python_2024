{
 "cells": [
  {
   "cell_type": "code",
   "execution_count": 1,
   "id": "bc520415-d2cf-4922-9539-28f9b562ab52",
   "metadata": {},
   "outputs": [],
   "source": [
    "import csv\n",
    "from collections import namedtuple"
   ]
  },
  {
   "cell_type": "code",
   "execution_count": 2,
   "id": "7a577389-253a-4068-a14e-4ea90caeedff",
   "metadata": {},
   "outputs": [
    {
     "name": "stdout",
     "output_type": "stream",
     "text": [
      "<class 'StopIteration'>\n"
     ]
    }
   ],
   "source": [
    "isco_rows = []\n",
    "with open ('isco.csv', 'r') as f:\n",
    "    reader = csv.reader(f, delimiter = '\\t', quotechar = '\"')\n",
    "    row = next(reader)\n",
    "    isco_row = namedtuple('IscoRow', row) #['hlavni_trida', 'trida', 'skupina', 'podskupina', 'kategorie', 'nazev']\n",
    "    while True:\n",
    "        try:\n",
    "            row = next(reader)\n",
    "            #print(row)\n",
    "            ir = isco_row(row[0], row[1], row[2], row[3], row[4], row[5])\n",
    "            #print(ir)\n",
    "            isco_rows.append(ir)\n",
    "        except Exception as e:\n",
    "            print(e.__class__)\n",
    "            break"
   ]
  },
  {
   "cell_type": "code",
   "execution_count": 3,
   "id": "9a270e7d-2a5f-4b42-9e45-391449165048",
   "metadata": {},
   "outputs": [
    {
     "data": {
      "text/plain": [
       "[IscoRow(hlavni_trida='0', trida='', skupina='', podskupina='', kategorie='', nazev='Zaměstnanci v ozbrojených silách'),\n",
       " IscoRow(hlavni_trida='0', trida='01', skupina='', podskupina='', kategorie='', nazev='Generálové a důstojníci v ozbrojených silách'),\n",
       " IscoRow(hlavni_trida='0', trida='01', skupina='011', podskupina='', kategorie='', nazev='Generálové a důstojníci v ozbrojených silách'),\n",
       " IscoRow(hlavni_trida='0', trida='01', skupina='011', podskupina='0110', kategorie='', nazev='Generálové a důstojníci v ozbrojených silách'),\n",
       " IscoRow(hlavni_trida='0', trida='02', skupina='', podskupina='', kategorie='', nazev='Poddůstojníci v ozbrojených silách'),\n",
       " IscoRow(hlavni_trida='0', trida='02', skupina='021', podskupina='', kategorie='', nazev='Poddůstojníci v ozbrojených silách'),\n",
       " IscoRow(hlavni_trida='0', trida='02', skupina='021', podskupina='0210', kategorie='', nazev='Poddůstojníci v ozbrojených silách'),\n",
       " IscoRow(hlavni_trida='0', trida='03', skupina='', podskupina='', kategorie='', nazev='Zaměstnanci v ozbrojených silách (kromě generálů, důstojníků a poddůstojníků)'),\n",
       " IscoRow(hlavni_trida='0', trida='03', skupina='031', podskupina='', kategorie='', nazev='Zaměstnanci v ozbrojených silách (kromě generálů, důstojníků a poddůstojníků)'),\n",
       " IscoRow(hlavni_trida='0', trida='03', skupina='031', podskupina='0310', kategorie='', nazev='Zaměstnanci v ozbrojených silách (kromě generálů, důstojníků a poddůstojníků)')]"
      ]
     },
     "execution_count": 3,
     "metadata": {},
     "output_type": "execute_result"
    }
   ],
   "source": [
    "isco_rows[:10]"
   ]
  },
  {
   "cell_type": "code",
   "execution_count": null,
   "id": "159ac838-3824-4b23-8120-e08c60a4267d",
   "metadata": {},
   "outputs": [],
   "source": []
  }
 ],
 "metadata": {
  "kernelspec": {
   "display_name": "Python 3 (ipykernel)",
   "language": "python",
   "name": "python3"
  },
  "language_info": {
   "codemirror_mode": {
    "name": "ipython",
    "version": 3
   },
   "file_extension": ".py",
   "mimetype": "text/x-python",
   "name": "python",
   "nbconvert_exporter": "python",
   "pygments_lexer": "ipython3",
   "version": "3.10.0"
  }
 },
 "nbformat": 4,
 "nbformat_minor": 5
}
