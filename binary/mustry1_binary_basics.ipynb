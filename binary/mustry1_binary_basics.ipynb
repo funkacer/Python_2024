{
 "cells": [
  {
   "cell_type": "markdown",
   "id": "f2f21031-5f71-4ba7-a0f8-c77b15bd7779",
   "metadata": {},
   "source": [
    "https://www.youtube.com/watch?v=K88pgWhEb1M&t=1592s"
   ]
  },
  {
   "cell_type": "code",
   "execution_count": 1,
   "id": "45a353ec-3f20-4c4d-a651-f1f8fde9c61f",
   "metadata": {},
   "outputs": [
    {
     "data": {
      "text/plain": [
       "10"
      ]
     },
     "execution_count": 1,
     "metadata": {},
     "output_type": "execute_result"
    }
   ],
   "source": [
    "0b1010"
   ]
  },
  {
   "cell_type": "code",
   "execution_count": 2,
   "id": "d0de778a-74c7-46d2-b15b-8db39e97712b",
   "metadata": {},
   "outputs": [
    {
     "data": {
      "text/plain": [
       "10"
      ]
     },
     "execution_count": 2,
     "metadata": {},
     "output_type": "execute_result"
    }
   ],
   "source": [
    "0xa"
   ]
  },
  {
   "cell_type": "code",
   "execution_count": 3,
   "id": "6e6c9b7b-7f05-4537-b9d6-ea21880be945",
   "metadata": {},
   "outputs": [
    {
     "data": {
      "text/plain": [
       "'0b10011010010'"
      ]
     },
     "execution_count": 3,
     "metadata": {},
     "output_type": "execute_result"
    }
   ],
   "source": [
    "bin(1234)"
   ]
  },
  {
   "cell_type": "code",
   "execution_count": 4,
   "id": "8fdefc9b-c5ad-4768-acaf-218a7c299cd0",
   "metadata": {},
   "outputs": [
    {
     "data": {
      "text/plain": [
       "'0x4d2'"
      ]
     },
     "execution_count": 4,
     "metadata": {},
     "output_type": "execute_result"
    }
   ],
   "source": [
    "hex(1234)"
   ]
  },
  {
   "cell_type": "code",
   "execution_count": 5,
   "id": "6a4dcf29-33a8-44f7-9185-8232bf1b314f",
   "metadata": {},
   "outputs": [
    {
     "data": {
      "text/plain": [
       "10"
      ]
     },
     "execution_count": 5,
     "metadata": {},
     "output_type": "execute_result"
    }
   ],
   "source": [
    "#binary to int\n",
    "int('0b1010', 2)"
   ]
  },
  {
   "cell_type": "code",
   "execution_count": 6,
   "id": "52e290af-68f2-4bed-ac40-1bf49c2f1b06",
   "metadata": {},
   "outputs": [
    {
     "data": {
      "text/plain": [
       "10"
      ]
     },
     "execution_count": 6,
     "metadata": {},
     "output_type": "execute_result"
    }
   ],
   "source": [
    "#hexadecimal to int\n",
    "int('0xa', 16)"
   ]
  },
  {
   "cell_type": "code",
   "execution_count": 7,
   "id": "4ec6323a-eb1a-4c2e-9bb2-d14ea6fd2e11",
   "metadata": {},
   "outputs": [
    {
     "data": {
      "text/plain": [
       "85"
      ]
     },
     "execution_count": 7,
     "metadata": {},
     "output_type": "execute_result"
    }
   ],
   "source": [
    "0x55"
   ]
  },
  {
   "cell_type": "code",
   "execution_count": 8,
   "id": "1a8005f5-bad9-458e-bfb6-db26fb8fbb49",
   "metadata": {},
   "outputs": [
    {
     "data": {
      "text/plain": [
       "85"
      ]
     },
     "execution_count": 8,
     "metadata": {},
     "output_type": "execute_result"
    }
   ],
   "source": [
    "0b01010101"
   ]
  },
  {
   "cell_type": "code",
   "execution_count": 9,
   "id": "2a278426-870b-45b8-93ee-6b51f86dc8f3",
   "metadata": {},
   "outputs": [
    {
     "data": {
      "text/plain": [
       "'0b1010101'"
      ]
     },
     "execution_count": 9,
     "metadata": {},
     "output_type": "execute_result"
    }
   ],
   "source": [
    "# pozor binary někdy nedá první 0\n",
    "bin(85)"
   ]
  },
  {
   "cell_type": "code",
   "execution_count": 17,
   "id": "2969f0d0-f7e4-470a-a712-2971144e7f16",
   "metadata": {},
   "outputs": [
    {
     "data": {
      "text/plain": [
       "85"
      ]
     },
     "execution_count": 17,
     "metadata": {},
     "output_type": "execute_result"
    }
   ],
   "source": [
    "# ale je to správně\n",
    "int('0b1010101', 2)"
   ]
  },
  {
   "cell_type": "code",
   "execution_count": 18,
   "id": "84acc7a5-583e-457d-b2a5-ba5dc1fb66bc",
   "metadata": {},
   "outputs": [
    {
     "data": {
      "text/plain": [
       "85"
      ]
     },
     "execution_count": 18,
     "metadata": {},
     "output_type": "execute_result"
    }
   ],
   "source": [
    "int('0b01010101', 2)"
   ]
  },
  {
   "cell_type": "code",
   "execution_count": 19,
   "id": "60a23994-789c-4803-bf18-76f90a908591",
   "metadata": {},
   "outputs": [
    {
     "data": {
      "text/plain": [
       "False"
      ]
     },
     "execution_count": 19,
     "metadata": {},
     "output_type": "execute_result"
    }
   ],
   "source": [
    "'0b1010101' == '0b01010101'"
   ]
  },
  {
   "cell_type": "code",
   "execution_count": 20,
   "id": "4af9adb1-859f-483c-b0d6-5b6aa97f0c34",
   "metadata": {},
   "outputs": [
    {
     "data": {
      "text/plain": [
       "True"
      ]
     },
     "execution_count": 20,
     "metadata": {},
     "output_type": "execute_result"
    }
   ],
   "source": [
    "int('0b1010101', 2) == int('0b01010101', 2)"
   ]
  },
  {
   "cell_type": "code",
   "execution_count": 10,
   "id": "5a6411f7-3976-4154-b37c-f075473c70d1",
   "metadata": {},
   "outputs": [
    {
     "data": {
      "text/plain": [
       "'0b10011010010'"
      ]
     },
     "execution_count": 10,
     "metadata": {},
     "output_type": "execute_result"
    }
   ],
   "source": [
    "bin(1234)"
   ]
  },
  {
   "cell_type": "code",
   "execution_count": 11,
   "id": "ebab94fc-6dc8-4194-b079-d1bbf945a74f",
   "metadata": {},
   "outputs": [
    {
     "data": {
      "text/plain": [
       "'0b100'"
      ]
     },
     "execution_count": 11,
     "metadata": {},
     "output_type": "execute_result"
    }
   ],
   "source": [
    "# posun o 8 míst doprava, kvůli dvěma registrům po 8 bitech\n",
    "bin(1234 >> 8)"
   ]
  },
  {
   "cell_type": "code",
   "execution_count": 12,
   "id": "d08d4160-42f9-4876-924b-828b8ed85091",
   "metadata": {},
   "outputs": [],
   "source": [
    "# nejde\n",
    "# TypeError: unsupported operand type(s) for >>: 'str' and 'int'\n",
    "#bin(1234) >> 8"
   ]
  },
  {
   "cell_type": "code",
   "execution_count": 13,
   "id": "5e10898b-3def-469d-98d9-d77ff1b55b15",
   "metadata": {},
   "outputs": [
    {
     "data": {
      "text/plain": [
       "4"
      ]
     },
     "execution_count": 13,
     "metadata": {},
     "output_type": "execute_result"
    }
   ],
   "source": [
    "1234 >> 8"
   ]
  },
  {
   "cell_type": "code",
   "execution_count": 14,
   "id": "5884ad38-9b2f-4ecc-a9a9-d89edc1cfd6f",
   "metadata": {},
   "outputs": [
    {
     "data": {
      "text/plain": [
       "'0b100'"
      ]
     },
     "execution_count": 14,
     "metadata": {},
     "output_type": "execute_result"
    }
   ],
   "source": [
    "bin(4)"
   ]
  },
  {
   "cell_type": "code",
   "execution_count": 15,
   "id": "51bfcfc1-d60d-4177-b76d-eb78129c4bef",
   "metadata": {},
   "outputs": [
    {
     "data": {
      "text/plain": [
       "4"
      ]
     },
     "execution_count": 15,
     "metadata": {},
     "output_type": "execute_result"
    }
   ],
   "source": [
    "int(bin(1234 >> 8), 2)"
   ]
  },
  {
   "cell_type": "code",
   "execution_count": 16,
   "id": "ad5b4d27-a88c-4c45-a30a-efcc35883757",
   "metadata": {},
   "outputs": [],
   "source": [
    "# udělej převodníkovou funkci na obojí, kde se zadá délka bytu a budou tam leading 0\n",
    "# a pak zpět přes 2^i"
   ]
  },
  {
   "cell_type": "code",
   "execution_count": null,
   "id": "92a769e8-9344-49e4-a772-810d0d039a89",
   "metadata": {},
   "outputs": [],
   "source": []
  }
 ],
 "metadata": {
  "kernelspec": {
   "display_name": "Python 3 (ipykernel)",
   "language": "python",
   "name": "python3"
  },
  "language_info": {
   "codemirror_mode": {
    "name": "ipython",
    "version": 3
   },
   "file_extension": ".py",
   "mimetype": "text/x-python",
   "name": "python",
   "nbconvert_exporter": "python",
   "pygments_lexer": "ipython3",
   "version": "3.11.8"
  }
 },
 "nbformat": 4,
 "nbformat_minor": 5
}
