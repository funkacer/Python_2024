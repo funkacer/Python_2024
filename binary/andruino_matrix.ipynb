{
 "cells": [
  {
   "cell_type": "code",
   "execution_count": 1,
   "id": "602c6904-d957-4497-a4b8-b0f79922fa2f",
   "metadata": {},
   "outputs": [],
   "source": [
    "binary = (\n",
    "  ( 0, 0, 1, 1, 0, 0, 0, 1, 1, 0, 0, 0 ),\n",
    "  ( 0, 1, 0, 0, 1, 0, 1, 0, 0, 1, 0, 0 ),\n",
    "  ( 0, 1, 0, 0, 0, 1, 0, 0, 0, 1, 0, 0 ),\n",
    "  ( 0, 0, 1, 0, 0, 0, 0, 0, 1, 0, 0, 0 ),\n",
    "  ( 0, 0, 0, 1, 0, 0, 0, 1, 0, 0, 0, 0 ),\n",
    "  ( 0, 0, 0, 0, 1, 0, 1, 0, 0, 0, 0, 0 ),\n",
    "  ( 0, 0, 0, 0, 0, 1, 0, 0, 0, 0, 0, 0 ),\n",
    "  ( 0, 0, 0, 0, 0, 0, 0, 0, 0, 0, 0, 0 )\n",
    ")"
   ]
  },
  {
   "cell_type": "code",
   "execution_count": 2,
   "id": "346ebd48-3ce0-4540-9fa2-7b82133b6aa0",
   "metadata": {},
   "outputs": [
    {
     "data": {
      "text/plain": [
       "((0, 0, 1, 1, 0, 0, 0, 1, 1, 0, 0, 0),\n",
       " (0, 1, 0, 0, 1, 0, 1, 0, 0, 1, 0, 0),\n",
       " (0, 1, 0, 0, 0, 1, 0, 0, 0, 1, 0, 0),\n",
       " (0, 0, 1, 0, 0, 0, 0, 0, 1, 0, 0, 0),\n",
       " (0, 0, 0, 1, 0, 0, 0, 1, 0, 0, 0, 0),\n",
       " (0, 0, 0, 0, 1, 0, 1, 0, 0, 0, 0, 0),\n",
       " (0, 0, 0, 0, 0, 1, 0, 0, 0, 0, 0, 0),\n",
       " (0, 0, 0, 0, 0, 0, 0, 0, 0, 0, 0, 0))"
      ]
     },
     "execution_count": 2,
     "metadata": {},
     "output_type": "execute_result"
    }
   ],
   "source": [
    "binary"
   ]
  },
  {
   "cell_type": "code",
   "execution_count": 3,
   "id": "0dce93c8-147f-4f1a-97e5-fed1252c3859",
   "metadata": {},
   "outputs": [
    {
     "data": {
      "text/plain": [
       "tuple"
      ]
     },
     "execution_count": 3,
     "metadata": {},
     "output_type": "execute_result"
    }
   ],
   "source": [
    "binary.__class__"
   ]
  },
  {
   "cell_type": "code",
   "execution_count": 4,
   "id": "4919fc9b-5b85-4f80-a565-14682c0cbb4c",
   "metadata": {},
   "outputs": [
    {
     "data": {
      "text/plain": [
       "b'\\x00\\x00\\x00\\x00\\x00\\x00\\x00\\x00\\x00\\x00'"
      ]
     },
     "execution_count": 4,
     "metadata": {},
     "output_type": "execute_result"
    }
   ],
   "source": [
    "bytes(10)"
   ]
  },
  {
   "cell_type": "code",
   "execution_count": 5,
   "id": "cc9a171b-f56c-4fbd-9096-fd655afa56b5",
   "metadata": {},
   "outputs": [
    {
     "data": {
      "text/plain": [
       "'001100011000010010100100010001000100001000001000000100010000000010100000000001000000000000000000'"
      ]
     },
     "execution_count": 5,
     "metadata": {},
     "output_type": "execute_result"
    }
   ],
   "source": [
    "s = ''.join([str(item) for tuple in binary for item in tuple])\n",
    "s"
   ]
  },
  {
   "cell_type": "code",
   "execution_count": 6,
   "id": "d064fb5d-627d-4445-af26-ac94502610de",
   "metadata": {},
   "outputs": [
    {
     "data": {
      "text/plain": [
       "15325119416674898753339260928"
      ]
     },
     "execution_count": 6,
     "metadata": {},
     "output_type": "execute_result"
    }
   ],
   "source": [
    "int(s, 2)"
   ]
  },
  {
   "cell_type": "code",
   "execution_count": 7,
   "id": "2228dfe8-1d1a-4b2c-8862-1035674aee31",
   "metadata": {},
   "outputs": [],
   "source": [
    "#OverflowError: cannot fit 'int' into an index-sized integer\n",
    "#bytes(int(s, 2))"
   ]
  },
  {
   "cell_type": "code",
   "execution_count": 8,
   "id": "c330935c-8224-4d62-9afb-794db95ef580",
   "metadata": {},
   "outputs": [],
   "source": [
    "n_chunks = 3"
   ]
  },
  {
   "cell_type": "code",
   "execution_count": 9,
   "id": "acdeb901-7118-44b4-aba6-2b427097a5fd",
   "metadata": {},
   "outputs": [
    {
     "data": {
      "text/plain": [
       "32"
      ]
     },
     "execution_count": 9,
     "metadata": {},
     "output_type": "execute_result"
    }
   ],
   "source": [
    "chunk_size = int(len(s)/n_chunks)\n",
    "chunk_size"
   ]
  },
  {
   "cell_type": "code",
   "execution_count": 10,
   "id": "05bff1cd-1ed2-4c79-b7fe-d6cee8654a57",
   "metadata": {},
   "outputs": [
    {
     "data": {
      "text/plain": [
       "['00110001100001001010010001000100',\n",
       " '01000010000010000001000100000000',\n",
       " '10100000000001000000000000000000']"
      ]
     },
     "execution_count": 10,
     "metadata": {},
     "output_type": "execute_result"
    }
   ],
   "source": [
    "chunks = []\n",
    "for i in range(n_chunks):\n",
    "    #print(s[i*chunk_size:(i+1)*chunk_size])\n",
    "    chunks.append(s[i*chunk_size:(i+1)*chunk_size])\n",
    "chunks"
   ]
  },
  {
   "cell_type": "code",
   "execution_count": 11,
   "id": "02a8237e-cfa3-4618-a980-c38b2342f4c4",
   "metadata": {},
   "outputs": [
    {
     "name": "stdout",
     "output_type": "stream",
     "text": [
      "0x3184a444\n",
      "0x42081100\n",
      "0xa0040000\n"
     ]
    }
   ],
   "source": [
    "for chunk in chunks:\n",
    "    print(hex(int(chunk, 2)))"
   ]
  },
  {
   "cell_type": "code",
   "execution_count": 12,
   "id": "ca9437db-8879-4635-8e83-19eebb96debd",
   "metadata": {},
   "outputs": [
    {
     "data": {
      "text/plain": [
       "'\\nunsigned long frame[] = {\\n  0x3184a444,\\n  0x42081100,\\n  0xa0040000\\n};\\n'"
      ]
     },
     "execution_count": 12,
     "metadata": {},
     "output_type": "execute_result"
    }
   ],
   "source": [
    "'''\n",
    "unsigned long frame[] = {\n",
    "  0x3184a444,\n",
    "  0x42081100,\n",
    "  0xa0040000\n",
    "};\n",
    "'''"
   ]
  },
  {
   "cell_type": "code",
   "execution_count": 15,
   "id": "99a068ce-8f30-4d9d-8082-7c6976c6fff2",
   "metadata": {},
   "outputs": [
    {
     "data": {
      "text/plain": [
       "'0xa0040000'"
      ]
     },
     "execution_count": 15,
     "metadata": {},
     "output_type": "execute_result"
    }
   ],
   "source": [
    "hex(int(chunks[2], 2))"
   ]
  },
  {
   "cell_type": "code",
   "execution_count": 39,
   "id": "f26fe340-a412-4947-946f-76af638ba528",
   "metadata": {},
   "outputs": [
    {
     "data": {
      "text/plain": [
       "'0b10100000000001000000000000000000'"
      ]
     },
     "execution_count": 39,
     "metadata": {},
     "output_type": "execute_result"
    }
   ],
   "source": [
    "bin(int(chunks[2], 2))"
   ]
  },
  {
   "cell_type": "code",
   "execution_count": 17,
   "id": "d0baa983-193f-4033-8954-d77e5fea8afe",
   "metadata": {},
   "outputs": [
    {
     "data": {
      "text/plain": [
       "2048"
      ]
     },
     "execution_count": 17,
     "metadata": {},
     "output_type": "execute_result"
    }
   ],
   "source": [
    "0b100000000000"
   ]
  },
  {
   "cell_type": "code",
   "execution_count": 21,
   "id": "376189a5-c71a-40f4-8c65-678653f83678",
   "metadata": {},
   "outputs": [
    {
     "data": {
      "text/plain": [
       "2048"
      ]
     },
     "execution_count": 21,
     "metadata": {},
     "output_type": "execute_result"
    }
   ],
   "source": [
    "2**11"
   ]
  },
  {
   "cell_type": "code",
   "execution_count": 23,
   "id": "75c79986-4370-4e41-b17b-8e8fa8f9ee2f",
   "metadata": {},
   "outputs": [
    {
     "data": {
      "text/plain": [
       "'0x800'"
      ]
     },
     "execution_count": 23,
     "metadata": {},
     "output_type": "execute_result"
    }
   ],
   "source": [
    "hex(0b100000000000)"
   ]
  },
  {
   "cell_type": "code",
   "execution_count": 22,
   "id": "2fd9a2d2-f467-4ba3-a114-f99ea645e0db",
   "metadata": {},
   "outputs": [
    {
     "data": {
      "text/plain": [
       "'0xa0040800'"
      ]
     },
     "execution_count": 22,
     "metadata": {},
     "output_type": "execute_result"
    }
   ],
   "source": [
    "hex(int(chunks[2], 2) + 0b100000000000)"
   ]
  },
  {
   "cell_type": "code",
   "execution_count": 26,
   "id": "634e9414-eeec-407c-b1a8-aea47bb45f5a",
   "metadata": {},
   "outputs": [
    {
     "data": {
      "text/plain": [
       "255"
      ]
     },
     "execution_count": 26,
     "metadata": {},
     "output_type": "execute_result"
    }
   ],
   "source": [
    "0xff"
   ]
  },
  {
   "cell_type": "code",
   "execution_count": 27,
   "id": "455f69dc-36bc-4a5f-b7b2-d3271994d2d4",
   "metadata": {},
   "outputs": [
    {
     "data": {
      "text/plain": [
       "256"
      ]
     },
     "execution_count": 27,
     "metadata": {},
     "output_type": "execute_result"
    }
   ],
   "source": [
    "0x100"
   ]
  },
  {
   "cell_type": "code",
   "execution_count": 28,
   "id": "b7b3bc4a-3648-4849-8670-05bfa5fca7df",
   "metadata": {},
   "outputs": [
    {
     "data": {
      "text/plain": [
       "2048"
      ]
     },
     "execution_count": 28,
     "metadata": {},
     "output_type": "execute_result"
    }
   ],
   "source": [
    "0x100*8"
   ]
  },
  {
   "cell_type": "code",
   "execution_count": 29,
   "id": "d2432d2c-5df4-4501-8bb6-9550747d266f",
   "metadata": {},
   "outputs": [
    {
     "data": {
      "text/plain": [
       "'0x800'"
      ]
     },
     "execution_count": 29,
     "metadata": {},
     "output_type": "execute_result"
    }
   ],
   "source": [
    "hex(0x100*8)"
   ]
  },
  {
   "cell_type": "code",
   "execution_count": 30,
   "id": "0314b086-d3e9-4cf6-bea1-fc310851e1ed",
   "metadata": {},
   "outputs": [
    {
     "data": {
      "text/plain": [
       "'0xa0040800'"
      ]
     },
     "execution_count": 30,
     "metadata": {},
     "output_type": "execute_result"
    }
   ],
   "source": [
    "hex(int(chunks[2], 2) + 0x800)"
   ]
  },
  {
   "cell_type": "code",
   "execution_count": 36,
   "id": "55d15779-46fc-4850-a275-00132ce3b417",
   "metadata": {},
   "outputs": [
    {
     "data": {
      "text/plain": [
       "'0b10100000000001000000100000000000'"
      ]
     },
     "execution_count": 36,
     "metadata": {},
     "output_type": "execute_result"
    }
   ],
   "source": [
    "bin(int(chunks[2], 2) + 0x800)"
   ]
  },
  {
   "cell_type": "code",
   "execution_count": 32,
   "id": "2c45bf5d-9d5d-4468-8a65-66d3ee482cd2",
   "metadata": {},
   "outputs": [
    {
     "data": {
      "text/plain": [
       "'0xa0041000'"
      ]
     },
     "execution_count": 32,
     "metadata": {},
     "output_type": "execute_result"
    }
   ],
   "source": [
    "hex(int(chunks[2], 2) + 0x800 + 0x800)"
   ]
  },
  {
   "cell_type": "code",
   "execution_count": 34,
   "id": "add74660-7f95-4cac-8fdd-d4b7ce041ae9",
   "metadata": {},
   "outputs": [
    {
     "data": {
      "text/plain": [
       "'0b10100000000001000001000000000000'"
      ]
     },
     "execution_count": 34,
     "metadata": {},
     "output_type": "execute_result"
    }
   ],
   "source": [
    "bin(int(chunks[2], 2) + 0x800 + 0x800)"
   ]
  },
  {
   "cell_type": "code",
   "execution_count": 33,
   "id": "de6978af-95da-4f4d-bdaf-e6a4136003ac",
   "metadata": {},
   "outputs": [
    {
     "data": {
      "text/plain": [
       "'0xa0040000'"
      ]
     },
     "execution_count": 33,
     "metadata": {},
     "output_type": "execute_result"
    }
   ],
   "source": [
    "hex(int(chunks[2], 2) + 0x800 - 0x800)"
   ]
  },
  {
   "cell_type": "code",
   "execution_count": 37,
   "id": "27604fb4-3947-4fff-bd32-a4424b752f4b",
   "metadata": {},
   "outputs": [
    {
     "data": {
      "text/plain": [
       "'0b10100000000001000000000000000000'"
      ]
     },
     "execution_count": 37,
     "metadata": {},
     "output_type": "execute_result"
    }
   ],
   "source": [
    "bin(int(chunks[2], 2) + 0x800 - 0x800)"
   ]
  },
  {
   "cell_type": "code",
   "execution_count": null,
   "id": "cf566903-a48a-4645-8510-ad8ec38d0176",
   "metadata": {},
   "outputs": [],
   "source": []
  }
 ],
 "metadata": {
  "kernelspec": {
   "display_name": "Python 3 (ipykernel)",
   "language": "python",
   "name": "python3"
  },
  "language_info": {
   "codemirror_mode": {
    "name": "ipython",
    "version": 3
   },
   "file_extension": ".py",
   "mimetype": "text/x-python",
   "name": "python",
   "nbconvert_exporter": "python",
   "pygments_lexer": "ipython3",
   "version": "3.11.8"
  }
 },
 "nbformat": 4,
 "nbformat_minor": 5
}
