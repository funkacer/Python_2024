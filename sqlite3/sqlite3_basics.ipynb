{
 "cells": [
  {
   "cell_type": "code",
   "execution_count": 1,
   "id": "dcdcf6eb-8616-4d95-9f1e-139e307e7c66",
   "metadata": {},
   "outputs": [],
   "source": [
    "import sqlite3\n",
    "import traceback"
   ]
  },
  {
   "cell_type": "code",
   "execution_count": 2,
   "id": "c46a53fe-c63f-4978-8d89-21b7006eb69d",
   "metadata": {},
   "outputs": [],
   "source": [
    "con = sqlite3.connect(':memory:')"
   ]
  },
  {
   "cell_type": "markdown",
   "id": "81b8820e-6d3b-4123-b39e-5d715f2c5811",
   "metadata": {},
   "source": [
    "https://docs.python.org/3/library/sqlite3.html"
   ]
  },
  {
   "cell_type": "code",
   "execution_count": 3,
   "id": "ce704ed9-43b9-4104-9b4b-1586cd10055e",
   "metadata": {},
   "outputs": [],
   "source": [
    "# dřív jsem používal cursor, ale v dokumentaci už mají bez toho\n",
    "#c = con.cursor()"
   ]
  },
  {
   "cell_type": "code",
   "execution_count": 4,
   "id": "a84f573c-2c7f-4a3b-b973-78d6eef5f3b5",
   "metadata": {},
   "outputs": [],
   "source": [
    "# nelze dát do jednoho execute a oddělit ; !!!\n",
    "with con:\n",
    "    con.execute(\"CREATE TABLE IF NOT EXISTS aaa (id int, moje1 text, moje2 float)\")\n",
    "    con.execute(\"INSERT INTO aaa VALUES (1, 'AAA', 12.3)\")"
   ]
  },
  {
   "cell_type": "code",
   "execution_count": 5,
   "id": "823cdfd3-ff02-431a-8ef8-5ded576fd07c",
   "metadata": {},
   "outputs": [
    {
     "data": {
      "text/plain": [
       "[('table',\n",
       "  'aaa',\n",
       "  'aaa',\n",
       "  2,\n",
       "  'CREATE TABLE aaa (id int, moje1 text, moje2 float)')]"
      ]
     },
     "execution_count": 5,
     "metadata": {},
     "output_type": "execute_result"
    }
   ],
   "source": [
    "with con:\n",
    "    res = con.execute(\"select * from sqlite_master where type = 'table'\")\n",
    "    data = res.fetchall()\n",
    "data"
   ]
  },
  {
   "cell_type": "code",
   "execution_count": 6,
   "id": "36948796-7fe3-4525-89dd-2089ea247cc2",
   "metadata": {},
   "outputs": [
    {
     "data": {
      "text/plain": [
       "[(1, 'AAA', 12.3)]"
      ]
     },
     "execution_count": 6,
     "metadata": {},
     "output_type": "execute_result"
    }
   ],
   "source": [
    "with con:\n",
    "    res = con.execute(\"select * from aaa\")\n",
    "    data = res.fetchall()\n",
    "data"
   ]
  },
  {
   "cell_type": "code",
   "execution_count": 7,
   "id": "3673fadc-8794-4af9-bb33-372349bc73bc",
   "metadata": {},
   "outputs": [],
   "source": [
    "columns = ('id', 'value', 'type')"
   ]
  },
  {
   "cell_type": "code",
   "execution_count": 8,
   "id": "5bebf93a-b242-4648-9674-ecdcb1caa572",
   "metadata": {},
   "outputs": [
    {
     "name": "stderr",
     "output_type": "stream",
     "text": [
      "Traceback (most recent call last):\n",
      "  File \"C:\\Users\\cerny\\AppData\\Local\\Temp\\ipykernel_13476\\2939568068.py\", line 3, in <module>\n",
      "    with conn:\n",
      "NameError: name 'conn' is not defined. Did you mean: 'con'?\n"
     ]
    }
   ],
   "source": [
    "# zachytí chybu, vypíše\n",
    "try:\n",
    "    with conn:\n",
    "        con.execute(\"drop table if exists Moje1\")\n",
    "except Exception as e:\n",
    "    traceback.print_exc()"
   ]
  },
  {
   "cell_type": "code",
   "execution_count": 9,
   "id": "7dcf2c06-2566-4b94-8b75-ee9535d40153",
   "metadata": {},
   "outputs": [],
   "source": [
    "try:\n",
    "    with con:\n",
    "        con.execute(\"drop table if exists Moje1\")\n",
    "except Exception as e:\n",
    "    traceback.print_exc()"
   ]
  },
  {
   "cell_type": "code",
   "execution_count": 10,
   "id": "cb26a253-d503-4dae-8241-b8b48a6f1335",
   "metadata": {},
   "outputs": [],
   "source": [
    "with con:\n",
    "    con.execute(\"create table Moje1 ({0[0]} integer primary key autoincrement, {0[1]} real, {0[2]} text)\".format(columns))"
   ]
  },
  {
   "cell_type": "code",
   "execution_count": 11,
   "id": "7dd0d85f-d983-490f-931b-81ae959a78e2",
   "metadata": {},
   "outputs": [
    {
     "data": {
      "text/plain": [
       "[('table',\n",
       "  'aaa',\n",
       "  'aaa',\n",
       "  2,\n",
       "  'CREATE TABLE aaa (id int, moje1 text, moje2 float)'),\n",
       " ('table',\n",
       "  'Moje1',\n",
       "  'Moje1',\n",
       "  3,\n",
       "  'CREATE TABLE Moje1 (id integer primary key autoincrement, value real, type text)'),\n",
       " ('table',\n",
       "  'sqlite_sequence',\n",
       "  'sqlite_sequence',\n",
       "  4,\n",
       "  'CREATE TABLE sqlite_sequence(name,seq)')]"
      ]
     },
     "execution_count": 11,
     "metadata": {},
     "output_type": "execute_result"
    }
   ],
   "source": [
    "with con:\n",
    "    res = con.execute(\"select * from sqlite_master where type = 'table'\")\n",
    "    data = res.fetchall()\n",
    "data"
   ]
  },
  {
   "cell_type": "code",
   "execution_count": 12,
   "id": "6592c001-12de-4204-9d47-cef776b61a98",
   "metadata": {},
   "outputs": [],
   "source": [
    "# sloupec 0 je id autoincrement, vkládá se None\n",
    "insert = []\n",
    "insert.append({columns[0]:None, columns[1]:'Ahoj1', columns[2]:123})\n",
    "insert.append({columns[0]:None, columns[1]:'Ahoj2', columns[2]:123.0})"
   ]
  },
  {
   "cell_type": "code",
   "execution_count": 13,
   "id": "93624603-6ed6-4262-a658-ea596147f593",
   "metadata": {},
   "outputs": [],
   "source": [
    "with con:\n",
    "    con.executemany(\"insert into  Moje1 values (:{0[0]},:{0[1]},:{0[2]})\".format(columns), insert)"
   ]
  },
  {
   "cell_type": "code",
   "execution_count": 14,
   "id": "4e6b99ed-af74-4d6e-b661-5419fde02ea7",
   "metadata": {},
   "outputs": [
    {
     "data": {
      "text/plain": [
       "[(1, 'Ahoj1', '123'), (2, 'Ahoj2', '123.0')]"
      ]
     },
     "execution_count": 14,
     "metadata": {},
     "output_type": "execute_result"
    }
   ],
   "source": [
    "with con:\n",
    "    res = con.execute(\"select * from Moje1\")\n",
    "    data = res.fetchall()\n",
    "data"
   ]
  },
  {
   "cell_type": "code",
   "execution_count": 15,
   "id": "1fd19427-4ad9-41e1-a977-e73e6e088d80",
   "metadata": {},
   "outputs": [],
   "source": [
    "insert = [[\"a\", 1],['B', 2]]"
   ]
  },
  {
   "cell_type": "code",
   "execution_count": 16,
   "id": "966fd111-0d21-4aaa-85a9-4fb86f0880bb",
   "metadata": {},
   "outputs": [
    {
     "name": "stdout",
     "output_type": "stream",
     "text": [
      "insert into  Moje1 ({0[1]},{0[2]}) values (?,?)\n"
     ]
    }
   ],
   "source": [
    "# sloupec 0 je id autoincrement, nemusí se vkládat\n",
    "\n",
    "part1 = ''\n",
    "part2 = ''\n",
    "ss = range(1, len(columns))\n",
    "for i, s in enumerate(ss):\n",
    "    if i == 0:\n",
    "        part1 += '{{0[{}]}}'.format(str(s))\n",
    "        part2 += '?'.format(str(s))\n",
    "    else:\n",
    "        part1 += ',{{0[{}]}}'.format(str(s))\n",
    "        part2 += ',?'.format(str(s))\n",
    "        \n",
    "sql = 'insert into  Moje1 ({}) values ({})'.format(part1, part2)\n",
    "print(sql)"
   ]
  },
  {
   "cell_type": "code",
   "execution_count": 17,
   "id": "789f1299-ce9f-4586-8973-330c44407422",
   "metadata": {},
   "outputs": [],
   "source": [
    "with con:\n",
    "    con.executemany(sql.format(columns), insert)"
   ]
  },
  {
   "cell_type": "code",
   "execution_count": 18,
   "id": "a9be5858-9678-4dd3-90d4-c7a143a4d896",
   "metadata": {},
   "outputs": [
    {
     "data": {
      "text/plain": [
       "[(1, 'Ahoj1', '123'), (2, 'Ahoj2', '123.0'), (3, 'a', '1'), (4, 'B', '2')]"
      ]
     },
     "execution_count": 18,
     "metadata": {},
     "output_type": "execute_result"
    }
   ],
   "source": [
    "with con:\n",
    "    res = con.execute(\"select * from Moje1\")\n",
    "    data = res.fetchall()\n",
    "data"
   ]
  },
  {
   "cell_type": "code",
   "execution_count": 19,
   "id": "1bee942e-7138-4ffa-ad41-0163b503666b",
   "metadata": {},
   "outputs": [],
   "source": [
    "insert = [[None, \"a\", 1],[None, 'B', 2]]"
   ]
  },
  {
   "cell_type": "code",
   "execution_count": 20,
   "id": "ab1911cd-55a2-4a2d-8951-419e058dfb2a",
   "metadata": {},
   "outputs": [
    {
     "name": "stdout",
     "output_type": "stream",
     "text": [
      "insert into  Moje1 ({0[0]},{0[1]},{0[2]}) values (?,?,?)\n"
     ]
    }
   ],
   "source": [
    "# sloupec 0 je id autoincrement, nemusí se vkládat nebo None\n",
    "\n",
    "part1 = ''\n",
    "part2 = ''\n",
    "ss = range(0, len(columns))\n",
    "for i, s in enumerate(ss):\n",
    "    if i == 0:\n",
    "        part1 += '{{0[{}]}}'.format(str(s))\n",
    "        part2 += '?'.format(str(s))\n",
    "    else:\n",
    "        part1 += ',{{0[{}]}}'.format(str(s))\n",
    "        part2 += ',?'.format(str(s))\n",
    "        \n",
    "sql = 'insert into  Moje1 ({}) values ({})'.format(part1, part2)\n",
    "print(sql)"
   ]
  },
  {
   "cell_type": "code",
   "execution_count": 21,
   "id": "54dc85fe-18bb-400e-81a8-2de6d2e58bf1",
   "metadata": {},
   "outputs": [],
   "source": [
    "with con:\n",
    "    con.executemany(sql.format(columns), insert)"
   ]
  },
  {
   "cell_type": "code",
   "execution_count": 22,
   "id": "e8829272-b3c3-43be-b85b-8738505fb7cd",
   "metadata": {},
   "outputs": [
    {
     "data": {
      "text/plain": [
       "[(1, 'Ahoj1', '123'),\n",
       " (2, 'Ahoj2', '123.0'),\n",
       " (3, 'a', '1'),\n",
       " (4, 'B', '2'),\n",
       " (5, 'a', '1'),\n",
       " (6, 'B', '2')]"
      ]
     },
     "execution_count": 22,
     "metadata": {},
     "output_type": "execute_result"
    }
   ],
   "source": [
    "with con:\n",
    "    res = con.execute(\"select * from Moje1\")\n",
    "    data = res.fetchall()\n",
    "data"
   ]
  },
  {
   "cell_type": "code",
   "execution_count": 23,
   "id": "324dc234-d6a9-4233-bbd1-e7b684600a08",
   "metadata": {},
   "outputs": [],
   "source": [
    "insert = [[None, \"a\", None],[None, None, 2]]"
   ]
  },
  {
   "cell_type": "code",
   "execution_count": 24,
   "id": "79825186-3df1-4efd-98b1-f07f89b7d241",
   "metadata": {},
   "outputs": [
    {
     "name": "stdout",
     "output_type": "stream",
     "text": [
      "insert into  Moje1 ({0[0]},{0[1]},{0[2]}) values (?,?,?)\n"
     ]
    }
   ],
   "source": [
    "# sloupec 0 je id autoincrement, nemusí se vkládat nebo None\n",
    "\n",
    "part1 = ''\n",
    "part2 = ''\n",
    "ss = range(0, len(columns))\n",
    "for i, s in enumerate(ss):\n",
    "    if i == 0:\n",
    "        part1 += '{{0[{}]}}'.format(str(s))\n",
    "        part2 += '?'.format(str(s))\n",
    "    else:\n",
    "        part1 += ',{{0[{}]}}'.format(str(s))\n",
    "        part2 += ',?'.format(str(s))\n",
    "        \n",
    "sql = 'insert into  Moje1 ({}) values ({})'.format(part1, part2)\n",
    "print(sql)"
   ]
  },
  {
   "cell_type": "code",
   "execution_count": 25,
   "id": "948adad0-0f78-4949-8da3-9cc2b60af927",
   "metadata": {},
   "outputs": [],
   "source": [
    "with con:\n",
    "    con.executemany(sql.format(columns), insert)"
   ]
  },
  {
   "cell_type": "code",
   "execution_count": 26,
   "id": "e27bb84c-c823-4a6b-ad30-a7f9f327fa09",
   "metadata": {},
   "outputs": [
    {
     "data": {
      "text/plain": [
       "[(1, 'Ahoj1', '123'),\n",
       " (2, 'Ahoj2', '123.0'),\n",
       " (3, 'a', '1'),\n",
       " (4, 'B', '2'),\n",
       " (5, 'a', '1'),\n",
       " (6, 'B', '2'),\n",
       " (7, 'a', None),\n",
       " (8, None, '2')]"
      ]
     },
     "execution_count": 26,
     "metadata": {},
     "output_type": "execute_result"
    }
   ],
   "source": [
    "with con:\n",
    "    res = con.execute(\"select * from Moje1\")\n",
    "    data = res.fetchall()\n",
    "data"
   ]
  },
  {
   "cell_type": "code",
   "execution_count": 27,
   "id": "e6787116-8c71-42b5-847b-bd9b39edc5a9",
   "metadata": {},
   "outputs": [
    {
     "data": {
      "text/plain": [
       "<sqlite3.Connection at 0x1d6c4f1a540>"
      ]
     },
     "execution_count": 27,
     "metadata": {},
     "output_type": "execute_result"
    }
   ],
   "source": [
    "con"
   ]
  },
  {
   "cell_type": "code",
   "execution_count": 28,
   "id": "9fe84334-960f-480c-9758-589fe4570bc3",
   "metadata": {},
   "outputs": [
    {
     "name": "stdout",
     "output_type": "stream",
     "text": [
      "(1, 'Ahoj1', '123')\n",
      "(2, 'Ahoj2', '123.0')\n",
      "(3, 'a', '1')\n",
      "(4, 'B', '2')\n",
      "(5, 'a', '1')\n",
      "(6, 'B', '2')\n",
      "(7, 'a', None)\n",
      "(8, None, '2')\n"
     ]
    }
   ],
   "source": [
    "with con:\n",
    "    res = con.execute(\"select * from Moje1\")\n",
    "    row = res.fetchone()\n",
    "    while not isinstance(None, row.__class__):\n",
    "        print(row)\n",
    "        row = res.fetchone()"
   ]
  },
  {
   "cell_type": "code",
   "execution_count": 29,
   "id": "1345ef7c-3606-476a-aadb-95c433ccc98b",
   "metadata": {},
   "outputs": [
    {
     "name": "stdout",
     "output_type": "stream",
     "text": [
      "['id', 'value', 'type']\n",
      "[{'id': 1}, {'value': 'Ahoj1'}, {'type': '123'}]\n",
      "['id', 'value', 'type']\n",
      "[{'id': 2}, {'value': 'Ahoj2'}, {'type': '123.0'}]\n",
      "['id', 'value', 'type']\n",
      "[{'id': 3}, {'value': 'a'}, {'type': '1'}]\n",
      "['id', 'value', 'type']\n",
      "[{'id': 4}, {'value': 'B'}, {'type': '2'}]\n",
      "['id', 'value', 'type']\n",
      "[{'id': 5}, {'value': 'a'}, {'type': '1'}]\n",
      "['id', 'value', 'type']\n",
      "[{'id': 6}, {'value': 'B'}, {'type': '2'}]\n",
      "['id', 'value', 'type']\n",
      "[{'id': 7}, {'value': 'a'}, {'type': None}]\n",
      "['id', 'value', 'type']\n",
      "[{'id': 8}, {'value': None}, {'type': '2'}]\n"
     ]
    }
   ],
   "source": [
    "con.row_factory = sqlite3.Row\n",
    "with con:\n",
    "    res = con.execute(\"select * from Moje1\")\n",
    "    row = res.fetchone()\n",
    "    while not isinstance(None, row.__class__):\n",
    "        print(row.keys())\n",
    "        print([{key:row[key]} for key in row.keys()])\n",
    "        row = res.fetchone()"
   ]
  },
  {
   "cell_type": "code",
   "execution_count": 30,
   "id": "53b59836-7ccd-4b59-ab66-b0eaada86b36",
   "metadata": {},
   "outputs": [
    {
     "name": "stdout",
     "output_type": "stream",
     "text": [
      "<sqlite3.Row object at 0x000001D6C520BCD0>\n",
      "<sqlite3.Row object at 0x000001D6C520A5C0>\n",
      "<sqlite3.Row object at 0x000001D6C520BCD0>\n",
      "<sqlite3.Row object at 0x000001D6C520A5C0>\n",
      "<sqlite3.Row object at 0x000001D6C520BCD0>\n",
      "<sqlite3.Row object at 0x000001D6C520A5C0>\n",
      "<sqlite3.Row object at 0x000001D6C520BCD0>\n",
      "<sqlite3.Row object at 0x000001D6C520A5C0>\n"
     ]
    }
   ],
   "source": [
    "# tady se musí použít row[key], nebo custom row factory\n",
    "con.row_factory = sqlite3.Row\n",
    "with con:\n",
    "    res = con.execute(\"select * from Moje1\")\n",
    "    row = res.fetchone()\n",
    "    while not isinstance(None, row.__class__):\n",
    "        print(row)\n",
    "        row = res.fetchone()"
   ]
  },
  {
   "cell_type": "markdown",
   "id": "bed175ee-ffd9-4ad6-b261-2bb3fccd35e6",
   "metadata": {},
   "source": [
    "# custom row factories"
   ]
  },
  {
   "cell_type": "code",
   "execution_count": 31,
   "id": "e17668b4-f837-41c8-92c6-398236657814",
   "metadata": {},
   "outputs": [],
   "source": [
    "def dict_factory(cursor, row):\n",
    "    fields = [column[0] for column in cursor.description]\n",
    "    return {key: value for key, value in zip(fields, row)}"
   ]
  },
  {
   "cell_type": "code",
   "execution_count": 32,
   "id": "6ebb7cbd-345b-4905-ac56-8f38b222dd5f",
   "metadata": {},
   "outputs": [
    {
     "name": "stdout",
     "output_type": "stream",
     "text": [
      "{'id': 1, 'value': 'Ahoj1', 'type': '123'}\n",
      "{'id': 2, 'value': 'Ahoj2', 'type': '123.0'}\n",
      "{'id': 3, 'value': 'a', 'type': '1'}\n",
      "{'id': 4, 'value': 'B', 'type': '2'}\n",
      "{'id': 5, 'value': 'a', 'type': '1'}\n",
      "{'id': 6, 'value': 'B', 'type': '2'}\n",
      "{'id': 7, 'value': 'a', 'type': None}\n",
      "{'id': 8, 'value': None, 'type': '2'}\n"
     ]
    }
   ],
   "source": [
    "# funguje i pokud jsou v názvech mezery !!!\n",
    "con.row_factory = dict_factory\n",
    "with con:\n",
    "    #for row in con.execute(\"SELECT 1 AS a, 2 AS b\"):\n",
    "    for row in con.execute(\"select * from Moje1\"):\n",
    "        print(row)"
   ]
  },
  {
   "cell_type": "code",
   "execution_count": 33,
   "id": "d15bc20b-b6d2-4536-bc27-b74bd7741082",
   "metadata": {},
   "outputs": [],
   "source": [
    "from collections import namedtuple\n",
    "\n",
    "def namedtuple_factory(cursor, row):\n",
    "    fields = [column[0] for column in cursor.description]\n",
    "    cls = namedtuple(\"Row\", fields)\n",
    "    return cls._make(row)"
   ]
  },
  {
   "cell_type": "code",
   "execution_count": 34,
   "id": "eb4f07bb-968e-4c6b-8a57-817605e6fa75",
   "metadata": {},
   "outputs": [
    {
     "name": "stdout",
     "output_type": "stream",
     "text": [
      "Row(id=1, value='Ahoj1', type='123')\n",
      "Row(id=2, value='Ahoj2', type='123.0')\n",
      "Row(id=3, value='a', type='1')\n",
      "Row(id=4, value='B', type='2')\n",
      "Row(id=5, value='a', type='1')\n",
      "Row(id=6, value='B', type='2')\n",
      "Row(id=7, value='a', type=None)\n",
      "Row(id=8, value=None, type='2')\n"
     ]
    }
   ],
   "source": [
    "# NEfunguje pokud jsou v názvech mezery !!!\n",
    "con.row_factory = namedtuple_factory\n",
    "with con:\n",
    "    res = con.execute(\"select * from Moje1\")\n",
    "    row = res.fetchone()\n",
    "    while not isinstance(None, row.__class__):\n",
    "        print(row)\n",
    "        row = res.fetchone()"
   ]
  },
  {
   "cell_type": "code",
   "execution_count": 35,
   "id": "52985da3-e656-4cd3-9516-822f1c4d2b89",
   "metadata": {},
   "outputs": [],
   "source": [
    "con.row_factory = namedtuple_factory\n",
    "data = []\n",
    "with con:\n",
    "    res = con.execute(\"select * from Moje1\")\n",
    "    row = res.fetchone()\n",
    "    while not isinstance(None, row.__class__):\n",
    "        data.append(row)\n",
    "        row = res.fetchone()"
   ]
  },
  {
   "cell_type": "code",
   "execution_count": 36,
   "id": "e0b8e5c2-4edb-4ee3-b9c3-545407dd665a",
   "metadata": {},
   "outputs": [
    {
     "data": {
      "text/plain": [
       "[Row(id=1, value='Ahoj1', type='123'),\n",
       " Row(id=2, value='Ahoj2', type='123.0'),\n",
       " Row(id=3, value='a', type='1'),\n",
       " Row(id=4, value='B', type='2'),\n",
       " Row(id=5, value='a', type='1'),\n",
       " Row(id=6, value='B', type='2'),\n",
       " Row(id=7, value='a', type=None),\n",
       " Row(id=8, value=None, type='2')]"
      ]
     },
     "execution_count": 36,
     "metadata": {},
     "output_type": "execute_result"
    }
   ],
   "source": [
    "data"
   ]
  },
  {
   "cell_type": "code",
   "execution_count": 37,
   "id": "967b46c2-c285-4d33-b83a-04f0661b376f",
   "metadata": {},
   "outputs": [
    {
     "data": {
      "text/plain": [
       "(1, 'Ahoj1', '123')"
      ]
     },
     "execution_count": 37,
     "metadata": {},
     "output_type": "execute_result"
    }
   ],
   "source": [
    "data[0].id, data[0].value, data[0].type"
   ]
  },
  {
   "cell_type": "code",
   "execution_count": 38,
   "id": "83b721c5-3215-42b6-83c6-01bb24f963cc",
   "metadata": {},
   "outputs": [
    {
     "data": {
      "text/plain": [
       "sqlite3.Cursor"
      ]
     },
     "execution_count": 38,
     "metadata": {},
     "output_type": "execute_result"
    }
   ],
   "source": [
    "# res je cursor\n",
    "res.__class__"
   ]
  },
  {
   "cell_type": "code",
   "execution_count": 39,
   "id": "438ac29b-1df9-46f1-b4af-7aeb4c64b2d4",
   "metadata": {},
   "outputs": [
    {
     "data": {
      "text/plain": [
       "(('id', None, None, None, None, None, None),\n",
       " ('value', None, None, None, None, None, None),\n",
       " ('type', None, None, None, None, None, None))"
      ]
     },
     "execution_count": 39,
     "metadata": {},
     "output_type": "execute_result"
    }
   ],
   "source": [
    "# cursor má popis\n",
    "res.description"
   ]
  },
  {
   "cell_type": "code",
   "execution_count": 40,
   "id": "54d2d275-7126-4329-9b8e-9a3b87af548a",
   "metadata": {},
   "outputs": [
    {
     "data": {
      "text/plain": [
       "['id', 'value', 'type']"
      ]
     },
     "execution_count": 40,
     "metadata": {},
     "output_type": "execute_result"
    }
   ],
   "source": [
    "# fields = \n",
    "[column[0] for column in res.description]"
   ]
  },
  {
   "cell_type": "code",
   "execution_count": 41,
   "id": "0edf82d1-d1c2-4cb4-bdf4-fe835f8e4411",
   "metadata": {},
   "outputs": [],
   "source": [
    "fields = [column[0] for column in res.description]\n",
    "cls = namedtuple(\"Row\", fields)"
   ]
  },
  {
   "cell_type": "code",
   "execution_count": 42,
   "id": "919cd1bf-96b5-4c42-9caf-ddfe3a23a434",
   "metadata": {},
   "outputs": [
    {
     "data": {
      "text/plain": [
       "__main__.Row"
      ]
     },
     "execution_count": 42,
     "metadata": {},
     "output_type": "execute_result"
    }
   ],
   "source": [
    "cls"
   ]
  },
  {
   "cell_type": "code",
   "execution_count": 43,
   "id": "289ab04e-4e63-4109-9092-69a1d63ccc62",
   "metadata": {},
   "outputs": [
    {
     "data": {
      "text/plain": [
       "Row(id=1, value='AAA', type=1.1)"
      ]
     },
     "execution_count": 43,
     "metadata": {},
     "output_type": "execute_result"
    }
   ],
   "source": [
    "cls._make([1, 'AAA', 1.1])"
   ]
  },
  {
   "cell_type": "code",
   "execution_count": 44,
   "id": "9add9ed4-11aa-4944-80ee-03fb91bb55a9",
   "metadata": {},
   "outputs": [
    {
     "data": {
      "text/plain": [
       "Row(id=1, value='AAA', type=1.1)"
      ]
     },
     "execution_count": 44,
     "metadata": {},
     "output_type": "execute_result"
    }
   ],
   "source": [
    "cls(id = 1, value = 'AAA', type = 1.1)"
   ]
  },
  {
   "cell_type": "code",
   "execution_count": 45,
   "id": "6ddcc89e-8bfc-4a82-94e8-63f8cd5c6174",
   "metadata": {},
   "outputs": [
    {
     "data": {
      "text/plain": [
       "{'id': 1, 'value': 'AAA', 'type': 1.1}"
      ]
     },
     "execution_count": 45,
     "metadata": {},
     "output_type": "execute_result"
    }
   ],
   "source": [
    "kwargs = dict(id = 1, value = 'AAA', type = 1.1)\n",
    "kwargs"
   ]
  },
  {
   "cell_type": "code",
   "execution_count": 46,
   "id": "fc7d27f4-63e6-450b-adcf-e864038b38bc",
   "metadata": {},
   "outputs": [
    {
     "data": {
      "text/plain": [
       "Row(id=1, value='AAA', type=1.1)"
      ]
     },
     "execution_count": 46,
     "metadata": {},
     "output_type": "execute_result"
    }
   ],
   "source": [
    "cls(**kwargs)"
   ]
  },
  {
   "cell_type": "code",
   "execution_count": 47,
   "id": "da8e6884-0541-4877-8d74-3460e2541289",
   "metadata": {},
   "outputs": [
    {
     "name": "stderr",
     "output_type": "stream",
     "text": [
      "C:\\Users\\cerny\\AppData\\Local\\Temp\\ipykernel_13476\\4080736814.py:1: DeprecationWarning: \n",
      "Pyarrow will become a required dependency of pandas in the next major release of pandas (pandas 3.0),\n",
      "(to allow more performant data types, such as the Arrow string type, and better interoperability with other libraries)\n",
      "but was not found to be installed on your system.\n",
      "If this would cause problems for you,\n",
      "please provide us feedback at https://github.com/pandas-dev/pandas/issues/54466\n",
      "        \n",
      "  import pandas as pd\n"
     ]
    }
   ],
   "source": [
    "import pandas as pd"
   ]
  },
  {
   "cell_type": "code",
   "execution_count": 48,
   "id": "8f5e3325-86bf-4174-a48e-207821590e62",
   "metadata": {},
   "outputs": [
    {
     "data": {
      "text/html": [
       "<div>\n",
       "<style scoped>\n",
       "    .dataframe tbody tr th:only-of-type {\n",
       "        vertical-align: middle;\n",
       "    }\n",
       "\n",
       "    .dataframe tbody tr th {\n",
       "        vertical-align: top;\n",
       "    }\n",
       "\n",
       "    .dataframe thead th {\n",
       "        text-align: right;\n",
       "    }\n",
       "</style>\n",
       "<table border=\"1\" class=\"dataframe\">\n",
       "  <thead>\n",
       "    <tr style=\"text-align: right;\">\n",
       "      <th></th>\n",
       "      <th>id</th>\n",
       "      <th>value</th>\n",
       "      <th>type</th>\n",
       "    </tr>\n",
       "  </thead>\n",
       "  <tbody>\n",
       "    <tr>\n",
       "      <th>0</th>\n",
       "      <td>1</td>\n",
       "      <td>Ahoj1</td>\n",
       "      <td>123</td>\n",
       "    </tr>\n",
       "    <tr>\n",
       "      <th>1</th>\n",
       "      <td>2</td>\n",
       "      <td>Ahoj2</td>\n",
       "      <td>123.0</td>\n",
       "    </tr>\n",
       "    <tr>\n",
       "      <th>2</th>\n",
       "      <td>3</td>\n",
       "      <td>a</td>\n",
       "      <td>1</td>\n",
       "    </tr>\n",
       "    <tr>\n",
       "      <th>3</th>\n",
       "      <td>4</td>\n",
       "      <td>B</td>\n",
       "      <td>2</td>\n",
       "    </tr>\n",
       "    <tr>\n",
       "      <th>4</th>\n",
       "      <td>5</td>\n",
       "      <td>a</td>\n",
       "      <td>1</td>\n",
       "    </tr>\n",
       "    <tr>\n",
       "      <th>5</th>\n",
       "      <td>6</td>\n",
       "      <td>B</td>\n",
       "      <td>2</td>\n",
       "    </tr>\n",
       "    <tr>\n",
       "      <th>6</th>\n",
       "      <td>7</td>\n",
       "      <td>a</td>\n",
       "      <td>None</td>\n",
       "    </tr>\n",
       "    <tr>\n",
       "      <th>7</th>\n",
       "      <td>8</td>\n",
       "      <td>None</td>\n",
       "      <td>2</td>\n",
       "    </tr>\n",
       "  </tbody>\n",
       "</table>\n",
       "</div>"
      ],
      "text/plain": [
       "   id  value   type\n",
       "0   1  Ahoj1    123\n",
       "1   2  Ahoj2  123.0\n",
       "2   3      a      1\n",
       "3   4      B      2\n",
       "4   5      a      1\n",
       "5   6      B      2\n",
       "6   7      a   None\n",
       "7   8   None      2"
      ]
     },
     "execution_count": 48,
     "metadata": {},
     "output_type": "execute_result"
    }
   ],
   "source": [
    "# row facory se správně převede na df\n",
    "pd.DataFrame(data)"
   ]
  },
  {
   "cell_type": "code",
   "execution_count": 49,
   "id": "5da26310-83b3-4a11-b6ad-08f19b84acdd",
   "metadata": {},
   "outputs": [
    {
     "data": {
      "text/html": [
       "<div>\n",
       "<style scoped>\n",
       "    .dataframe tbody tr th:only-of-type {\n",
       "        vertical-align: middle;\n",
       "    }\n",
       "\n",
       "    .dataframe tbody tr th {\n",
       "        vertical-align: top;\n",
       "    }\n",
       "\n",
       "    .dataframe thead th {\n",
       "        text-align: right;\n",
       "    }\n",
       "</style>\n",
       "<table border=\"1\" class=\"dataframe\">\n",
       "  <thead>\n",
       "    <tr style=\"text-align: right;\">\n",
       "      <th></th>\n",
       "      <th>id</th>\n",
       "      <th>value</th>\n",
       "      <th>type</th>\n",
       "    </tr>\n",
       "  </thead>\n",
       "  <tbody>\n",
       "    <tr>\n",
       "      <th>0</th>\n",
       "      <td>False</td>\n",
       "      <td>False</td>\n",
       "      <td>False</td>\n",
       "    </tr>\n",
       "    <tr>\n",
       "      <th>1</th>\n",
       "      <td>False</td>\n",
       "      <td>False</td>\n",
       "      <td>False</td>\n",
       "    </tr>\n",
       "    <tr>\n",
       "      <th>2</th>\n",
       "      <td>False</td>\n",
       "      <td>False</td>\n",
       "      <td>False</td>\n",
       "    </tr>\n",
       "    <tr>\n",
       "      <th>3</th>\n",
       "      <td>False</td>\n",
       "      <td>False</td>\n",
       "      <td>False</td>\n",
       "    </tr>\n",
       "    <tr>\n",
       "      <th>4</th>\n",
       "      <td>False</td>\n",
       "      <td>False</td>\n",
       "      <td>False</td>\n",
       "    </tr>\n",
       "    <tr>\n",
       "      <th>5</th>\n",
       "      <td>False</td>\n",
       "      <td>False</td>\n",
       "      <td>False</td>\n",
       "    </tr>\n",
       "    <tr>\n",
       "      <th>6</th>\n",
       "      <td>False</td>\n",
       "      <td>False</td>\n",
       "      <td>True</td>\n",
       "    </tr>\n",
       "    <tr>\n",
       "      <th>7</th>\n",
       "      <td>False</td>\n",
       "      <td>True</td>\n",
       "      <td>False</td>\n",
       "    </tr>\n",
       "  </tbody>\n",
       "</table>\n",
       "</div>"
      ],
      "text/plain": [
       "      id  value   type\n",
       "0  False  False  False\n",
       "1  False  False  False\n",
       "2  False  False  False\n",
       "3  False  False  False\n",
       "4  False  False  False\n",
       "5  False  False  False\n",
       "6  False  False   True\n",
       "7  False   True  False"
      ]
     },
     "execution_count": 49,
     "metadata": {},
     "output_type": "execute_result"
    }
   ],
   "source": [
    "df = pd.DataFrame(data)\n",
    "df.isna()"
   ]
  },
  {
   "cell_type": "code",
   "execution_count": 50,
   "id": "11a49216-f991-489d-8d33-017af7d4ae16",
   "metadata": {},
   "outputs": [
    {
     "data": {
      "text/html": [
       "<div>\n",
       "<style scoped>\n",
       "    .dataframe tbody tr th:only-of-type {\n",
       "        vertical-align: middle;\n",
       "    }\n",
       "\n",
       "    .dataframe tbody tr th {\n",
       "        vertical-align: top;\n",
       "    }\n",
       "\n",
       "    .dataframe thead th {\n",
       "        text-align: right;\n",
       "    }\n",
       "</style>\n",
       "<table border=\"1\" class=\"dataframe\">\n",
       "  <thead>\n",
       "    <tr style=\"text-align: right;\">\n",
       "      <th></th>\n",
       "      <th>id</th>\n",
       "      <th>value</th>\n",
       "      <th>type</th>\n",
       "    </tr>\n",
       "  </thead>\n",
       "  <tbody>\n",
       "    <tr>\n",
       "      <th>6</th>\n",
       "      <td>7</td>\n",
       "      <td>a</td>\n",
       "      <td>None</td>\n",
       "    </tr>\n",
       "    <tr>\n",
       "      <th>7</th>\n",
       "      <td>8</td>\n",
       "      <td>None</td>\n",
       "      <td>2</td>\n",
       "    </tr>\n",
       "  </tbody>\n",
       "</table>\n",
       "</div>"
      ],
      "text/plain": [
       "   id value  type\n",
       "6   7     a  None\n",
       "7   8  None     2"
      ]
     },
     "execution_count": 50,
     "metadata": {},
     "output_type": "execute_result"
    }
   ],
   "source": [
    "df[df.isna().any(axis=1)]"
   ]
  },
  {
   "cell_type": "code",
   "execution_count": 51,
   "id": "1491a2f3-81fc-4596-a449-e7b1ac349cc6",
   "metadata": {},
   "outputs": [],
   "source": [
    "con.row_factory = sqlite3.Row\n",
    "data = []\n",
    "with con:\n",
    "    res = con.execute(\"select * from Moje1\")\n",
    "    row = res.fetchone()\n",
    "    while not isinstance(None, row.__class__):\n",
    "        data.append(row)\n",
    "        row = res.fetchone()"
   ]
  },
  {
   "cell_type": "code",
   "execution_count": 52,
   "id": "e24777f3-8c21-489e-892b-2a1fa16dbdac",
   "metadata": {},
   "outputs": [
    {
     "data": {
      "text/html": [
       "<div>\n",
       "<style scoped>\n",
       "    .dataframe tbody tr th:only-of-type {\n",
       "        vertical-align: middle;\n",
       "    }\n",
       "\n",
       "    .dataframe tbody tr th {\n",
       "        vertical-align: top;\n",
       "    }\n",
       "\n",
       "    .dataframe thead th {\n",
       "        text-align: right;\n",
       "    }\n",
       "</style>\n",
       "<table border=\"1\" class=\"dataframe\">\n",
       "  <thead>\n",
       "    <tr style=\"text-align: right;\">\n",
       "      <th></th>\n",
       "      <th>0</th>\n",
       "      <th>1</th>\n",
       "      <th>2</th>\n",
       "    </tr>\n",
       "  </thead>\n",
       "  <tbody>\n",
       "    <tr>\n",
       "      <th>0</th>\n",
       "      <td>1</td>\n",
       "      <td>Ahoj1</td>\n",
       "      <td>123</td>\n",
       "    </tr>\n",
       "    <tr>\n",
       "      <th>1</th>\n",
       "      <td>2</td>\n",
       "      <td>Ahoj2</td>\n",
       "      <td>123.0</td>\n",
       "    </tr>\n",
       "    <tr>\n",
       "      <th>2</th>\n",
       "      <td>3</td>\n",
       "      <td>a</td>\n",
       "      <td>1</td>\n",
       "    </tr>\n",
       "    <tr>\n",
       "      <th>3</th>\n",
       "      <td>4</td>\n",
       "      <td>B</td>\n",
       "      <td>2</td>\n",
       "    </tr>\n",
       "    <tr>\n",
       "      <th>4</th>\n",
       "      <td>5</td>\n",
       "      <td>a</td>\n",
       "      <td>1</td>\n",
       "    </tr>\n",
       "    <tr>\n",
       "      <th>5</th>\n",
       "      <td>6</td>\n",
       "      <td>B</td>\n",
       "      <td>2</td>\n",
       "    </tr>\n",
       "    <tr>\n",
       "      <th>6</th>\n",
       "      <td>7</td>\n",
       "      <td>a</td>\n",
       "      <td>None</td>\n",
       "    </tr>\n",
       "    <tr>\n",
       "      <th>7</th>\n",
       "      <td>8</td>\n",
       "      <td>None</td>\n",
       "      <td>2</td>\n",
       "    </tr>\n",
       "  </tbody>\n",
       "</table>\n",
       "</div>"
      ],
      "text/plain": [
       "   0      1      2\n",
       "0  1  Ahoj1    123\n",
       "1  2  Ahoj2  123.0\n",
       "2  3      a      1\n",
       "3  4      B      2\n",
       "4  5      a      1\n",
       "5  6      B      2\n",
       "6  7      a   None\n",
       "7  8   None      2"
      ]
     },
     "execution_count": 52,
     "metadata": {},
     "output_type": "execute_result"
    }
   ],
   "source": [
    "# default facory se správně NEpřevede na df!!!\n",
    "pd.DataFrame(data)"
   ]
  },
  {
   "cell_type": "code",
   "execution_count": 53,
   "id": "070aebbd-21b9-4f98-9ea3-822bb43e1da0",
   "metadata": {},
   "outputs": [
    {
     "name": "stdout",
     "output_type": "stream",
     "text": [
      "<sqlite3.Row object at 0x000001D6DD283F40>\n",
      "<sqlite3.Row object at 0x000001D6DD283010>\n",
      "<sqlite3.Row object at 0x000001D6DD283F40>\n",
      "<sqlite3.Row object at 0x000001D6DD283010>\n",
      "<sqlite3.Row object at 0x000001D6DD283F40>\n",
      "<sqlite3.Row object at 0x000001D6DD283010>\n",
      "<sqlite3.Row object at 0x000001D6DD283F40>\n",
      "<sqlite3.Row object at 0x000001D6DD283010>\n"
     ]
    }
   ],
   "source": [
    "# tady se musí použít row[key], nebo custom row factory\n",
    "con.row_factory = sqlite3.Row\n",
    "with con:\n",
    "    res = con.execute(\"select * from Moje1\")\n",
    "    row = res.fetchone()\n",
    "    while not isinstance(None, row.__class__):\n",
    "        print(row)\n",
    "        row = res.fetchone()"
   ]
  },
  {
   "cell_type": "code",
   "execution_count": 54,
   "id": "d81a393f-e326-4329-94f1-f38e970de5ec",
   "metadata": {},
   "outputs": [
    {
     "name": "stdout",
     "output_type": "stream",
     "text": [
      "1 Ahoj1 123\n",
      "2 Ahoj2 123.0\n",
      "3 a 1\n",
      "4 B 2\n",
      "5 a 1\n",
      "6 B 2\n",
      "7 a None\n",
      "8 None 2\n"
     ]
    }
   ],
   "source": [
    "# tady se musí použít row[key], nebo custom row factory\n",
    "con.row_factory = sqlite3.Row\n",
    "with con:\n",
    "    res = con.execute(\"select * from Moje1\")\n",
    "    row = res.fetchone()\n",
    "    while not isinstance(None, row.__class__):\n",
    "        print(row[0], row[1], row[2])\n",
    "        row = res.fetchone()"
   ]
  },
  {
   "cell_type": "code",
   "execution_count": 55,
   "id": "cb937262-fdb9-4906-9530-afcd5f4209b4",
   "metadata": {},
   "outputs": [
    {
     "name": "stdout",
     "output_type": "stream",
     "text": [
      "1 Ahoj1 123\n",
      "2 Ahoj2 123.0\n",
      "3 a 1\n",
      "4 B 2\n",
      "5 a 1\n",
      "6 B 2\n",
      "7 a None\n",
      "8 None 2\n"
     ]
    }
   ],
   "source": [
    "# tady se musí použít row[key], nebo custom row factory\n",
    "con.row_factory = sqlite3.Row\n",
    "with con:\n",
    "    res = con.execute(\"select * from Moje1\")\n",
    "    row = res.fetchone()\n",
    "    while not isinstance(None, row.__class__):\n",
    "        print(row['id'], row['value'], row['type'])\n",
    "        row = res.fetchone()"
   ]
  },
  {
   "cell_type": "code",
   "execution_count": 56,
   "id": "aaf29dde-9c5a-48b6-a032-500a0ef347e2",
   "metadata": {},
   "outputs": [
    {
     "name": "stdout",
     "output_type": "stream",
     "text": [
      "1 Ahoj1 123\n",
      "2 Ahoj2 123.0\n",
      "3 a 1\n",
      "4 B 2\n",
      "5 a 1\n",
      "6 B 2\n",
      "7 a None\n",
      "8 None 2\n"
     ]
    }
   ],
   "source": [
    "# jen tady lze použít .column syntax\n",
    "con.row_factory = namedtuple_factory\n",
    "with con:\n",
    "    res = con.execute(\"select * from Moje1\")\n",
    "    row = res.fetchone()\n",
    "    while not isinstance(None, row.__class__):\n",
    "        print(row.id, row.value, row.type)\n",
    "        row = res.fetchone()"
   ]
  },
  {
   "cell_type": "code",
   "execution_count": null,
   "id": "5c0e989c-f1e3-4d21-bc23-88a16826bbcc",
   "metadata": {},
   "outputs": [],
   "source": []
  }
 ],
 "metadata": {
  "kernelspec": {
   "display_name": "Python 3 (ipykernel)",
   "language": "python",
   "name": "python3"
  },
  "language_info": {
   "codemirror_mode": {
    "name": "ipython",
    "version": 3
   },
   "file_extension": ".py",
   "mimetype": "text/x-python",
   "name": "python",
   "nbconvert_exporter": "python",
   "pygments_lexer": "ipython3",
   "version": "3.11.8"
  }
 },
 "nbformat": 4,
 "nbformat_minor": 5
}
