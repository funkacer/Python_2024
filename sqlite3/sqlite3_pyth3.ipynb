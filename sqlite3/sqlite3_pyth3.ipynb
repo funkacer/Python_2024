{
 "cells": [
  {
   "cell_type": "markdown",
   "id": "98c1ec78-94d8-42df-8f84-dcd9ea18cc54",
   "metadata": {},
   "source": [
    "# Data z pd pyth3 df do sqlite3"
   ]
  },
  {
   "cell_type": "code",
   "execution_count": 1,
   "id": "b47e9ee5-dd25-4102-9b49-34dbeced3cc8",
   "metadata": {},
   "outputs": [
    {
     "name": "stderr",
     "output_type": "stream",
     "text": [
      "C:\\Users\\cerny\\AppData\\Local\\Temp\\ipykernel_20244\\612956766.py:2: DeprecationWarning: \n",
      "Pyarrow will become a required dependency of pandas in the next major release of pandas (pandas 3.0),\n",
      "(to allow more performant data types, such as the Arrow string type, and better interoperability with other libraries)\n",
      "but was not found to be installed on your system.\n",
      "If this would cause problems for you,\n",
      "please provide us feedback at https://github.com/pandas-dev/pandas/issues/54466\n",
      "        \n",
      "  import pandas as pd\n"
     ]
    }
   ],
   "source": [
    "import sqlite3\n",
    "import pandas as pd\n",
    "import numpy as np\n",
    "import string as st\n",
    "import datetime\n",
    "import seaborn as sns"
   ]
  },
  {
   "cell_type": "code",
   "execution_count": 2,
   "id": "4b3972e6-ab8e-4319-897b-e6c29b854290",
   "metadata": {},
   "outputs": [],
   "source": [
    "con = sqlite3.connect(':memory:')"
   ]
  },
  {
   "cell_type": "code",
   "execution_count": 3,
   "id": "ec43fd81-261d-4ce3-9ad2-e2629b3c317e",
   "metadata": {},
   "outputs": [
    {
     "data": {
      "text/plain": [
       "array([[52, 93, 15, 72, 61],\n",
       "       [21, 83, 87, 75, 75],\n",
       "       [88, 24,  3, 22, 53],\n",
       "       ...,\n",
       "       [94, 22, 33, 30, 81],\n",
       "       [32, 42, 78, 10, 36],\n",
       "       [34, 73, 28, 11, 78]])"
      ]
     },
     "execution_count": 3,
     "metadata": {},
     "output_type": "execute_result"
    }
   ],
   "source": [
    "np.random.seed(42)\n",
    "data = np.random.randint(1, 100, size = (1000, 5))\n",
    "data"
   ]
  },
  {
   "cell_type": "code",
   "execution_count": 4,
   "id": "b2cfa8d3-7a1d-4200-8ff2-6351f2f0d550",
   "metadata": {},
   "outputs": [
    {
     "data": {
      "text/plain": [
       "(1000, 5)"
      ]
     },
     "execution_count": 4,
     "metadata": {},
     "output_type": "execute_result"
    }
   ],
   "source": [
    "data.shape"
   ]
  },
  {
   "cell_type": "code",
   "execution_count": 5,
   "id": "1b83f825-a95b-4c82-8613-1b99fb982239",
   "metadata": {},
   "outputs": [
    {
     "data": {
      "text/plain": [
       "5000"
      ]
     },
     "execution_count": 5,
     "metadata": {},
     "output_type": "execute_result"
    }
   ],
   "source": [
    "data.size"
   ]
  },
  {
   "cell_type": "code",
   "execution_count": 6,
   "id": "73f5b42a-1124-4640-b30a-60aabfa7211d",
   "metadata": {},
   "outputs": [
    {
     "data": {
      "text/plain": [
       "dtype('int32')"
      ]
     },
     "execution_count": 6,
     "metadata": {},
     "output_type": "execute_result"
    }
   ],
   "source": [
    "data.dtype"
   ]
  },
  {
   "cell_type": "code",
   "execution_count": 7,
   "id": "d7701ff6-51b8-4f0e-94af-310f118e7db0",
   "metadata": {},
   "outputs": [
    {
     "data": {
      "text/plain": [
       "'ABCDEFGHIJKLMNOPQRSTUVWXYZ'"
      ]
     },
     "execution_count": 7,
     "metadata": {},
     "output_type": "execute_result"
    }
   ],
   "source": [
    "st.ascii_uppercase"
   ]
  },
  {
   "cell_type": "code",
   "execution_count": 8,
   "id": "b288a0dd-d069-4f1c-9bd6-60deb2f4ba3c",
   "metadata": {},
   "outputs": [
    {
     "data": {
      "text/plain": [
       "['A', 'B', 'C', 'D', 'E']"
      ]
     },
     "execution_count": 8,
     "metadata": {},
     "output_type": "execute_result"
    }
   ],
   "source": [
    "numCols=data.shape[1]\n",
    "abc=list(st.ascii_uppercase[:numCols])\n",
    "abc"
   ]
  },
  {
   "cell_type": "code",
   "execution_count": 9,
   "id": "b9985365-42b7-4407-aa90-aa25cedc43a4",
   "metadata": {},
   "outputs": [
    {
     "data": {
      "text/plain": [
       "DatetimeIndex(['2025-03-09', '2025-03-10', '2025-03-11', '2025-03-12',\n",
       "               '2025-03-13', '2025-03-14', '2025-03-15', '2025-03-16',\n",
       "               '2025-03-17', '2025-03-18',\n",
       "               ...\n",
       "               '2027-11-24', '2027-11-25', '2027-11-26', '2027-11-27',\n",
       "               '2027-11-28', '2027-11-29', '2027-11-30', '2027-12-01',\n",
       "               '2027-12-02', '2027-12-03'],\n",
       "              dtype='datetime64[ns]', length=1000, freq='D')"
      ]
     },
     "execution_count": 9,
     "metadata": {},
     "output_type": "execute_result"
    }
   ],
   "source": [
    "i = pd.date_range(start=datetime.datetime.now().date(), periods=data.shape[0], freq='D')\n",
    "i"
   ]
  },
  {
   "cell_type": "code",
   "execution_count": 10,
   "id": "467f5815-1001-4839-9b38-2f8f4e671835",
   "metadata": {},
   "outputs": [
    {
     "data": {
      "text/html": [
       "<div>\n",
       "<style scoped>\n",
       "    .dataframe tbody tr th:only-of-type {\n",
       "        vertical-align: middle;\n",
       "    }\n",
       "\n",
       "    .dataframe tbody tr th {\n",
       "        vertical-align: top;\n",
       "    }\n",
       "\n",
       "    .dataframe thead th {\n",
       "        text-align: right;\n",
       "    }\n",
       "</style>\n",
       "<table border=\"1\" class=\"dataframe\">\n",
       "  <thead>\n",
       "    <tr style=\"text-align: right;\">\n",
       "      <th></th>\n",
       "      <th>A</th>\n",
       "      <th>B</th>\n",
       "      <th>C</th>\n",
       "      <th>D</th>\n",
       "      <th>E</th>\n",
       "    </tr>\n",
       "  </thead>\n",
       "  <tbody>\n",
       "    <tr>\n",
       "      <th>2025-03-09</th>\n",
       "      <td>52</td>\n",
       "      <td>93</td>\n",
       "      <td>15</td>\n",
       "      <td>72</td>\n",
       "      <td>61</td>\n",
       "    </tr>\n",
       "    <tr>\n",
       "      <th>2025-03-10</th>\n",
       "      <td>21</td>\n",
       "      <td>83</td>\n",
       "      <td>87</td>\n",
       "      <td>75</td>\n",
       "      <td>75</td>\n",
       "    </tr>\n",
       "    <tr>\n",
       "      <th>2025-03-11</th>\n",
       "      <td>88</td>\n",
       "      <td>24</td>\n",
       "      <td>3</td>\n",
       "      <td>22</td>\n",
       "      <td>53</td>\n",
       "    </tr>\n",
       "    <tr>\n",
       "      <th>2025-03-12</th>\n",
       "      <td>2</td>\n",
       "      <td>88</td>\n",
       "      <td>30</td>\n",
       "      <td>38</td>\n",
       "      <td>2</td>\n",
       "    </tr>\n",
       "    <tr>\n",
       "      <th>2025-03-13</th>\n",
       "      <td>64</td>\n",
       "      <td>60</td>\n",
       "      <td>21</td>\n",
       "      <td>33</td>\n",
       "      <td>76</td>\n",
       "    </tr>\n",
       "    <tr>\n",
       "      <th>...</th>\n",
       "      <td>...</td>\n",
       "      <td>...</td>\n",
       "      <td>...</td>\n",
       "      <td>...</td>\n",
       "      <td>...</td>\n",
       "    </tr>\n",
       "    <tr>\n",
       "      <th>2027-11-29</th>\n",
       "      <td>13</td>\n",
       "      <td>32</td>\n",
       "      <td>46</td>\n",
       "      <td>23</td>\n",
       "      <td>45</td>\n",
       "    </tr>\n",
       "    <tr>\n",
       "      <th>2027-11-30</th>\n",
       "      <td>17</td>\n",
       "      <td>85</td>\n",
       "      <td>66</td>\n",
       "      <td>6</td>\n",
       "      <td>18</td>\n",
       "    </tr>\n",
       "    <tr>\n",
       "      <th>2027-12-01</th>\n",
       "      <td>94</td>\n",
       "      <td>22</td>\n",
       "      <td>33</td>\n",
       "      <td>30</td>\n",
       "      <td>81</td>\n",
       "    </tr>\n",
       "    <tr>\n",
       "      <th>2027-12-02</th>\n",
       "      <td>32</td>\n",
       "      <td>42</td>\n",
       "      <td>78</td>\n",
       "      <td>10</td>\n",
       "      <td>36</td>\n",
       "    </tr>\n",
       "    <tr>\n",
       "      <th>2027-12-03</th>\n",
       "      <td>34</td>\n",
       "      <td>73</td>\n",
       "      <td>28</td>\n",
       "      <td>11</td>\n",
       "      <td>78</td>\n",
       "    </tr>\n",
       "  </tbody>\n",
       "</table>\n",
       "<p>1000 rows × 5 columns</p>\n",
       "</div>"
      ],
      "text/plain": [
       "             A   B   C   D   E\n",
       "2025-03-09  52  93  15  72  61\n",
       "2025-03-10  21  83  87  75  75\n",
       "2025-03-11  88  24   3  22  53\n",
       "2025-03-12   2  88  30  38   2\n",
       "2025-03-13  64  60  21  33  76\n",
       "...         ..  ..  ..  ..  ..\n",
       "2027-11-29  13  32  46  23  45\n",
       "2027-11-30  17  85  66   6  18\n",
       "2027-12-01  94  22  33  30  81\n",
       "2027-12-02  32  42  78  10  36\n",
       "2027-12-03  34  73  28  11  78\n",
       "\n",
       "[1000 rows x 5 columns]"
      ]
     },
     "execution_count": 10,
     "metadata": {},
     "output_type": "execute_result"
    }
   ],
   "source": [
    "df = pd.DataFrame(data, columns = abc, index = i)\n",
    "df"
   ]
  },
  {
   "cell_type": "code",
   "execution_count": 11,
   "id": "a97f56de-0ce9-404d-868e-2608fedff2c8",
   "metadata": {},
   "outputs": [
    {
     "data": {
      "text/plain": [
       "1000"
      ]
     },
     "execution_count": 11,
     "metadata": {},
     "output_type": "execute_result"
    }
   ],
   "source": [
    "df.to_sql(con=con, name='Moje1', if_exists='replace')"
   ]
  },
  {
   "cell_type": "code",
   "execution_count": 28,
   "id": "2a3bb6eb-b56e-47b6-9380-426f1f624465",
   "metadata": {},
   "outputs": [
    {
     "data": {
      "text/plain": [
       "[('2025-03-09 00:00:00', 52, 93, 15, 72, 61),\n",
       " ('2025-03-10 00:00:00', 21, 83, 87, 75, 75),\n",
       " ('2025-03-11 00:00:00', 88, 24, 3, 22, 53),\n",
       " ('2025-03-12 00:00:00', 2, 88, 30, 38, 2),\n",
       " ('2025-03-13 00:00:00', 64, 60, 21, 33, 76),\n",
       " ('2025-03-14 00:00:00', 58, 22, 89, 49, 91),\n",
       " ('2025-03-15 00:00:00', 59, 42, 92, 60, 80),\n",
       " ('2025-03-16 00:00:00', 15, 62, 62, 47, 62),\n",
       " ('2025-03-17 00:00:00', 51, 55, 64, 3, 51),\n",
       " ('2025-03-18 00:00:00', 7, 21, 73, 39, 18)]"
      ]
     },
     "execution_count": 28,
     "metadata": {},
     "output_type": "execute_result"
    }
   ],
   "source": [
    "with con:\n",
    "    res = con.execute('select * from Moje1')\n",
    "    data = res.fetchall()\n",
    "data[:10]"
   ]
  },
  {
   "cell_type": "code",
   "execution_count": 13,
   "id": "19defd8a-bd10-4746-a845-8258ed15b6fc",
   "metadata": {},
   "outputs": [
    {
     "data": {
      "text/html": [
       "<div>\n",
       "<style scoped>\n",
       "    .dataframe tbody tr th:only-of-type {\n",
       "        vertical-align: middle;\n",
       "    }\n",
       "\n",
       "    .dataframe tbody tr th {\n",
       "        vertical-align: top;\n",
       "    }\n",
       "\n",
       "    .dataframe thead th {\n",
       "        text-align: right;\n",
       "    }\n",
       "</style>\n",
       "<table border=\"1\" class=\"dataframe\">\n",
       "  <thead>\n",
       "    <tr style=\"text-align: right;\">\n",
       "      <th></th>\n",
       "      <th>index</th>\n",
       "      <th>A</th>\n",
       "      <th>B</th>\n",
       "      <th>C</th>\n",
       "      <th>D</th>\n",
       "      <th>E</th>\n",
       "    </tr>\n",
       "  </thead>\n",
       "  <tbody>\n",
       "    <tr>\n",
       "      <th>0</th>\n",
       "      <td>2025-03-09 00:00:00</td>\n",
       "      <td>52</td>\n",
       "      <td>93</td>\n",
       "      <td>15</td>\n",
       "      <td>72</td>\n",
       "      <td>61</td>\n",
       "    </tr>\n",
       "    <tr>\n",
       "      <th>1</th>\n",
       "      <td>2025-03-10 00:00:00</td>\n",
       "      <td>21</td>\n",
       "      <td>83</td>\n",
       "      <td>87</td>\n",
       "      <td>75</td>\n",
       "      <td>75</td>\n",
       "    </tr>\n",
       "    <tr>\n",
       "      <th>2</th>\n",
       "      <td>2025-03-11 00:00:00</td>\n",
       "      <td>88</td>\n",
       "      <td>24</td>\n",
       "      <td>3</td>\n",
       "      <td>22</td>\n",
       "      <td>53</td>\n",
       "    </tr>\n",
       "    <tr>\n",
       "      <th>3</th>\n",
       "      <td>2025-03-12 00:00:00</td>\n",
       "      <td>2</td>\n",
       "      <td>88</td>\n",
       "      <td>30</td>\n",
       "      <td>38</td>\n",
       "      <td>2</td>\n",
       "    </tr>\n",
       "    <tr>\n",
       "      <th>4</th>\n",
       "      <td>2025-03-13 00:00:00</td>\n",
       "      <td>64</td>\n",
       "      <td>60</td>\n",
       "      <td>21</td>\n",
       "      <td>33</td>\n",
       "      <td>76</td>\n",
       "    </tr>\n",
       "    <tr>\n",
       "      <th>...</th>\n",
       "      <td>...</td>\n",
       "      <td>...</td>\n",
       "      <td>...</td>\n",
       "      <td>...</td>\n",
       "      <td>...</td>\n",
       "      <td>...</td>\n",
       "    </tr>\n",
       "    <tr>\n",
       "      <th>995</th>\n",
       "      <td>2027-11-29 00:00:00</td>\n",
       "      <td>13</td>\n",
       "      <td>32</td>\n",
       "      <td>46</td>\n",
       "      <td>23</td>\n",
       "      <td>45</td>\n",
       "    </tr>\n",
       "    <tr>\n",
       "      <th>996</th>\n",
       "      <td>2027-11-30 00:00:00</td>\n",
       "      <td>17</td>\n",
       "      <td>85</td>\n",
       "      <td>66</td>\n",
       "      <td>6</td>\n",
       "      <td>18</td>\n",
       "    </tr>\n",
       "    <tr>\n",
       "      <th>997</th>\n",
       "      <td>2027-12-01 00:00:00</td>\n",
       "      <td>94</td>\n",
       "      <td>22</td>\n",
       "      <td>33</td>\n",
       "      <td>30</td>\n",
       "      <td>81</td>\n",
       "    </tr>\n",
       "    <tr>\n",
       "      <th>998</th>\n",
       "      <td>2027-12-02 00:00:00</td>\n",
       "      <td>32</td>\n",
       "      <td>42</td>\n",
       "      <td>78</td>\n",
       "      <td>10</td>\n",
       "      <td>36</td>\n",
       "    </tr>\n",
       "    <tr>\n",
       "      <th>999</th>\n",
       "      <td>2027-12-03 00:00:00</td>\n",
       "      <td>34</td>\n",
       "      <td>73</td>\n",
       "      <td>28</td>\n",
       "      <td>11</td>\n",
       "      <td>78</td>\n",
       "    </tr>\n",
       "  </tbody>\n",
       "</table>\n",
       "<p>1000 rows × 6 columns</p>\n",
       "</div>"
      ],
      "text/plain": [
       "                   index   A   B   C   D   E\n",
       "0    2025-03-09 00:00:00  52  93  15  72  61\n",
       "1    2025-03-10 00:00:00  21  83  87  75  75\n",
       "2    2025-03-11 00:00:00  88  24   3  22  53\n",
       "3    2025-03-12 00:00:00   2  88  30  38   2\n",
       "4    2025-03-13 00:00:00  64  60  21  33  76\n",
       "..                   ...  ..  ..  ..  ..  ..\n",
       "995  2027-11-29 00:00:00  13  32  46  23  45\n",
       "996  2027-11-30 00:00:00  17  85  66   6  18\n",
       "997  2027-12-01 00:00:00  94  22  33  30  81\n",
       "998  2027-12-02 00:00:00  32  42  78  10  36\n",
       "999  2027-12-03 00:00:00  34  73  28  11  78\n",
       "\n",
       "[1000 rows x 6 columns]"
      ]
     },
     "execution_count": 13,
     "metadata": {},
     "output_type": "execute_result"
    }
   ],
   "source": [
    "df = pd.read_sql(con=con, sql='select * from Moje1')\n",
    "df"
   ]
  },
  {
   "cell_type": "code",
   "execution_count": 14,
   "id": "37bd6b2c-d8a7-480a-9fdc-943db49e083f",
   "metadata": {},
   "outputs": [
    {
     "data": {
      "text/plain": [
       "index    object\n",
       "A         int64\n",
       "B         int64\n",
       "C         int64\n",
       "D         int64\n",
       "E         int64\n",
       "dtype: object"
      ]
     },
     "execution_count": 14,
     "metadata": {},
     "output_type": "execute_result"
    }
   ],
   "source": [
    "df.dtypes"
   ]
  },
  {
   "cell_type": "code",
   "execution_count": 15,
   "id": "2c4accd0-0ce2-4827-a259-212d4967d0d6",
   "metadata": {},
   "outputs": [
    {
     "data": {
      "text/html": [
       "<div>\n",
       "<style scoped>\n",
       "    .dataframe tbody tr th:only-of-type {\n",
       "        vertical-align: middle;\n",
       "    }\n",
       "\n",
       "    .dataframe tbody tr th {\n",
       "        vertical-align: top;\n",
       "    }\n",
       "\n",
       "    .dataframe thead th {\n",
       "        text-align: right;\n",
       "    }\n",
       "</style>\n",
       "<table border=\"1\" class=\"dataframe\">\n",
       "  <thead>\n",
       "    <tr style=\"text-align: right;\">\n",
       "      <th></th>\n",
       "      <th>A</th>\n",
       "      <th>B</th>\n",
       "      <th>C</th>\n",
       "      <th>D</th>\n",
       "      <th>E</th>\n",
       "    </tr>\n",
       "    <tr>\n",
       "      <th>index</th>\n",
       "      <th></th>\n",
       "      <th></th>\n",
       "      <th></th>\n",
       "      <th></th>\n",
       "      <th></th>\n",
       "    </tr>\n",
       "  </thead>\n",
       "  <tbody>\n",
       "    <tr>\n",
       "      <th>2025-03-09 00:00:00</th>\n",
       "      <td>52</td>\n",
       "      <td>93</td>\n",
       "      <td>15</td>\n",
       "      <td>72</td>\n",
       "      <td>61</td>\n",
       "    </tr>\n",
       "    <tr>\n",
       "      <th>2025-03-10 00:00:00</th>\n",
       "      <td>21</td>\n",
       "      <td>83</td>\n",
       "      <td>87</td>\n",
       "      <td>75</td>\n",
       "      <td>75</td>\n",
       "    </tr>\n",
       "    <tr>\n",
       "      <th>2025-03-11 00:00:00</th>\n",
       "      <td>88</td>\n",
       "      <td>24</td>\n",
       "      <td>3</td>\n",
       "      <td>22</td>\n",
       "      <td>53</td>\n",
       "    </tr>\n",
       "    <tr>\n",
       "      <th>2025-03-12 00:00:00</th>\n",
       "      <td>2</td>\n",
       "      <td>88</td>\n",
       "      <td>30</td>\n",
       "      <td>38</td>\n",
       "      <td>2</td>\n",
       "    </tr>\n",
       "    <tr>\n",
       "      <th>2025-03-13 00:00:00</th>\n",
       "      <td>64</td>\n",
       "      <td>60</td>\n",
       "      <td>21</td>\n",
       "      <td>33</td>\n",
       "      <td>76</td>\n",
       "    </tr>\n",
       "    <tr>\n",
       "      <th>...</th>\n",
       "      <td>...</td>\n",
       "      <td>...</td>\n",
       "      <td>...</td>\n",
       "      <td>...</td>\n",
       "      <td>...</td>\n",
       "    </tr>\n",
       "    <tr>\n",
       "      <th>2027-11-29 00:00:00</th>\n",
       "      <td>13</td>\n",
       "      <td>32</td>\n",
       "      <td>46</td>\n",
       "      <td>23</td>\n",
       "      <td>45</td>\n",
       "    </tr>\n",
       "    <tr>\n",
       "      <th>2027-11-30 00:00:00</th>\n",
       "      <td>17</td>\n",
       "      <td>85</td>\n",
       "      <td>66</td>\n",
       "      <td>6</td>\n",
       "      <td>18</td>\n",
       "    </tr>\n",
       "    <tr>\n",
       "      <th>2027-12-01 00:00:00</th>\n",
       "      <td>94</td>\n",
       "      <td>22</td>\n",
       "      <td>33</td>\n",
       "      <td>30</td>\n",
       "      <td>81</td>\n",
       "    </tr>\n",
       "    <tr>\n",
       "      <th>2027-12-02 00:00:00</th>\n",
       "      <td>32</td>\n",
       "      <td>42</td>\n",
       "      <td>78</td>\n",
       "      <td>10</td>\n",
       "      <td>36</td>\n",
       "    </tr>\n",
       "    <tr>\n",
       "      <th>2027-12-03 00:00:00</th>\n",
       "      <td>34</td>\n",
       "      <td>73</td>\n",
       "      <td>28</td>\n",
       "      <td>11</td>\n",
       "      <td>78</td>\n",
       "    </tr>\n",
       "  </tbody>\n",
       "</table>\n",
       "<p>1000 rows × 5 columns</p>\n",
       "</div>"
      ],
      "text/plain": [
       "                      A   B   C   D   E\n",
       "index                                  \n",
       "2025-03-09 00:00:00  52  93  15  72  61\n",
       "2025-03-10 00:00:00  21  83  87  75  75\n",
       "2025-03-11 00:00:00  88  24   3  22  53\n",
       "2025-03-12 00:00:00   2  88  30  38   2\n",
       "2025-03-13 00:00:00  64  60  21  33  76\n",
       "...                  ..  ..  ..  ..  ..\n",
       "2027-11-29 00:00:00  13  32  46  23  45\n",
       "2027-11-30 00:00:00  17  85  66   6  18\n",
       "2027-12-01 00:00:00  94  22  33  30  81\n",
       "2027-12-02 00:00:00  32  42  78  10  36\n",
       "2027-12-03 00:00:00  34  73  28  11  78\n",
       "\n",
       "[1000 rows x 5 columns]"
      ]
     },
     "execution_count": 15,
     "metadata": {},
     "output_type": "execute_result"
    }
   ],
   "source": [
    "df.index = df['index']\n",
    "df.drop(columns=['index'], inplace=True)\n",
    "df"
   ]
  },
  {
   "cell_type": "code",
   "execution_count": 16,
   "id": "99f3bfc9-347a-4c67-8447-74f820287077",
   "metadata": {},
   "outputs": [
    {
     "data": {
      "text/plain": [
       "dtype('O')"
      ]
     },
     "execution_count": 16,
     "metadata": {},
     "output_type": "execute_result"
    }
   ],
   "source": [
    "df.index.dtype"
   ]
  },
  {
   "cell_type": "code",
   "execution_count": 17,
   "id": "3ad33133-e9af-4be9-9492-b58497b0da37",
   "metadata": {},
   "outputs": [
    {
     "data": {
      "text/html": [
       "<div>\n",
       "<style scoped>\n",
       "    .dataframe tbody tr th:only-of-type {\n",
       "        vertical-align: middle;\n",
       "    }\n",
       "\n",
       "    .dataframe tbody tr th {\n",
       "        vertical-align: top;\n",
       "    }\n",
       "\n",
       "    .dataframe thead th {\n",
       "        text-align: right;\n",
       "    }\n",
       "</style>\n",
       "<table border=\"1\" class=\"dataframe\">\n",
       "  <thead>\n",
       "    <tr style=\"text-align: right;\">\n",
       "      <th></th>\n",
       "      <th>A</th>\n",
       "      <th>B</th>\n",
       "      <th>C</th>\n",
       "      <th>D</th>\n",
       "      <th>E</th>\n",
       "    </tr>\n",
       "    <tr>\n",
       "      <th>index</th>\n",
       "      <th></th>\n",
       "      <th></th>\n",
       "      <th></th>\n",
       "      <th></th>\n",
       "      <th></th>\n",
       "    </tr>\n",
       "  </thead>\n",
       "  <tbody>\n",
       "    <tr>\n",
       "      <th>2025-03-09</th>\n",
       "      <td>52</td>\n",
       "      <td>93</td>\n",
       "      <td>15</td>\n",
       "      <td>72</td>\n",
       "      <td>61</td>\n",
       "    </tr>\n",
       "    <tr>\n",
       "      <th>2025-03-10</th>\n",
       "      <td>21</td>\n",
       "      <td>83</td>\n",
       "      <td>87</td>\n",
       "      <td>75</td>\n",
       "      <td>75</td>\n",
       "    </tr>\n",
       "    <tr>\n",
       "      <th>2025-03-11</th>\n",
       "      <td>88</td>\n",
       "      <td>24</td>\n",
       "      <td>3</td>\n",
       "      <td>22</td>\n",
       "      <td>53</td>\n",
       "    </tr>\n",
       "    <tr>\n",
       "      <th>2025-03-12</th>\n",
       "      <td>2</td>\n",
       "      <td>88</td>\n",
       "      <td>30</td>\n",
       "      <td>38</td>\n",
       "      <td>2</td>\n",
       "    </tr>\n",
       "    <tr>\n",
       "      <th>2025-03-13</th>\n",
       "      <td>64</td>\n",
       "      <td>60</td>\n",
       "      <td>21</td>\n",
       "      <td>33</td>\n",
       "      <td>76</td>\n",
       "    </tr>\n",
       "    <tr>\n",
       "      <th>...</th>\n",
       "      <td>...</td>\n",
       "      <td>...</td>\n",
       "      <td>...</td>\n",
       "      <td>...</td>\n",
       "      <td>...</td>\n",
       "    </tr>\n",
       "    <tr>\n",
       "      <th>2027-11-29</th>\n",
       "      <td>13</td>\n",
       "      <td>32</td>\n",
       "      <td>46</td>\n",
       "      <td>23</td>\n",
       "      <td>45</td>\n",
       "    </tr>\n",
       "    <tr>\n",
       "      <th>2027-11-30</th>\n",
       "      <td>17</td>\n",
       "      <td>85</td>\n",
       "      <td>66</td>\n",
       "      <td>6</td>\n",
       "      <td>18</td>\n",
       "    </tr>\n",
       "    <tr>\n",
       "      <th>2027-12-01</th>\n",
       "      <td>94</td>\n",
       "      <td>22</td>\n",
       "      <td>33</td>\n",
       "      <td>30</td>\n",
       "      <td>81</td>\n",
       "    </tr>\n",
       "    <tr>\n",
       "      <th>2027-12-02</th>\n",
       "      <td>32</td>\n",
       "      <td>42</td>\n",
       "      <td>78</td>\n",
       "      <td>10</td>\n",
       "      <td>36</td>\n",
       "    </tr>\n",
       "    <tr>\n",
       "      <th>2027-12-03</th>\n",
       "      <td>34</td>\n",
       "      <td>73</td>\n",
       "      <td>28</td>\n",
       "      <td>11</td>\n",
       "      <td>78</td>\n",
       "    </tr>\n",
       "  </tbody>\n",
       "</table>\n",
       "<p>1000 rows × 5 columns</p>\n",
       "</div>"
      ],
      "text/plain": [
       "             A   B   C   D   E\n",
       "index                         \n",
       "2025-03-09  52  93  15  72  61\n",
       "2025-03-10  21  83  87  75  75\n",
       "2025-03-11  88  24   3  22  53\n",
       "2025-03-12   2  88  30  38   2\n",
       "2025-03-13  64  60  21  33  76\n",
       "...         ..  ..  ..  ..  ..\n",
       "2027-11-29  13  32  46  23  45\n",
       "2027-11-30  17  85  66   6  18\n",
       "2027-12-01  94  22  33  30  81\n",
       "2027-12-02  32  42  78  10  36\n",
       "2027-12-03  34  73  28  11  78\n",
       "\n",
       "[1000 rows x 5 columns]"
      ]
     },
     "execution_count": 17,
     "metadata": {},
     "output_type": "execute_result"
    }
   ],
   "source": [
    "df.index = pd.to_datetime(df.index)\n",
    "df"
   ]
  },
  {
   "cell_type": "code",
   "execution_count": 18,
   "id": "d32352f8-dee5-462c-8387-7d83b772a8d6",
   "metadata": {},
   "outputs": [
    {
     "data": {
      "text/plain": [
       "dtype('<M8[ns]')"
      ]
     },
     "execution_count": 18,
     "metadata": {},
     "output_type": "execute_result"
    }
   ],
   "source": [
    "df.index.dtype"
   ]
  },
  {
   "cell_type": "code",
   "execution_count": 19,
   "id": "d23e06ed-685c-4631-be67-0c88492b4d5a",
   "metadata": {},
   "outputs": [
    {
     "data": {
      "image/png": "[encoded data removed]",
      "text/plain": [
       "<Figure size 640x480 with 1 Axes>"
      ]
     },
     "metadata": {},
     "output_type": "display_data"
    }
   ],
   "source": [
    "ax = sns.histplot(df['A'], bins=10, kde=True)\n",
    "for container in ax.containers:\n",
    "    ax.bar_label(container)"
   ]
  },
  {
   "cell_type": "code",
   "execution_count": 20,
   "id": "e080afa4-9205-49c2-80a7-d3b41ef42424",
   "metadata": {},
   "outputs": [],
   "source": [
    "hist, bin_edges = np.histogram(df['A'], bins=10)"
   ]
  },
  {
   "cell_type": "code",
   "execution_count": 21,
   "id": "9ef29d99-cf49-4f92-91b4-fb137e9c3780",
   "metadata": {},
   "outputs": [
    {
     "data": {
      "text/plain": [
       "array([105, 105,  98, 106,  87,  90, 111,  80,  99, 119], dtype=int64)"
      ]
     },
     "execution_count": 21,
     "metadata": {},
     "output_type": "execute_result"
    }
   ],
   "source": [
    "hist"
   ]
  },
  {
   "cell_type": "code",
   "execution_count": 22,
   "id": "23e399f1-a8b6-4a3c-bb40-2464dd5ed93f",
   "metadata": {},
   "outputs": [
    {
     "data": {
      "text/plain": [
       "array([ 1. , 10.8, 20.6, 30.4, 40.2, 50. , 59.8, 69.6, 79.4, 89.2, 99. ])"
      ]
     },
     "execution_count": 22,
     "metadata": {},
     "output_type": "execute_result"
    }
   ],
   "source": [
    "bin_edges"
   ]
  },
  {
   "cell_type": "code",
   "execution_count": 23,
   "id": "9745a453-337d-462d-9aa4-5810007cffe2",
   "metadata": {},
   "outputs": [
    {
     "data": {
      "text/plain": [
       "1"
      ]
     },
     "execution_count": 23,
     "metadata": {},
     "output_type": "execute_result"
    }
   ],
   "source": [
    "df['A'].min()"
   ]
  },
  {
   "cell_type": "code",
   "execution_count": 24,
   "id": "bc2cb58d-a3ef-4850-ae03-deb1cfc95739",
   "metadata": {},
   "outputs": [
    {
     "data": {
      "text/plain": [
       "99"
      ]
     },
     "execution_count": 24,
     "metadata": {},
     "output_type": "execute_result"
    }
   ],
   "source": [
    "df['A'].max()"
   ]
  },
  {
   "cell_type": "code",
   "execution_count": 25,
   "id": "9cd6d43a-89ad-4fb7-adae-da9c3aefd9fd",
   "metadata": {},
   "outputs": [],
   "source": [
    "df['A CAT'] = pd.cut(df['A'], bins=bin_edges, right=False)"
   ]
  },
  {
   "cell_type": "code",
   "execution_count": 26,
   "id": "b261532e-9901-411f-a696-45e135cd851f",
   "metadata": {},
   "outputs": [
    {
     "data": {
      "text/plain": [
       "A CAT\n",
       "[1.0, 10.8)     105\n",
       "[10.8, 20.6)    105\n",
       "[20.6, 30.4)     98\n",
       "[30.4, 40.2)    106\n",
       "[40.2, 50.0)     87\n",
       "[50.0, 59.8)     90\n",
       "[59.8, 69.6)    111\n",
       "[69.6, 79.4)     80\n",
       "[79.4, 89.2)     99\n",
       "[89.2, 99.0)    100\n",
       "Name: count, dtype: int64"
      ]
     },
     "execution_count": 26,
     "metadata": {},
     "output_type": "execute_result"
    }
   ],
   "source": [
    "df['A CAT'].value_counts(sort=False)"
   ]
  },
  {
   "cell_type": "code",
   "execution_count": 27,
   "id": "8124c280-e9e2-4b45-b41c-9207ba02f3ec",
   "metadata": {},
   "outputs": [
    {
     "data": {
      "text/html": [
       "<div>\n",
       "<style scoped>\n",
       "    .dataframe tbody tr th:only-of-type {\n",
       "        vertical-align: middle;\n",
       "    }\n",
       "\n",
       "    .dataframe tbody tr th {\n",
       "        vertical-align: top;\n",
       "    }\n",
       "\n",
       "    .dataframe thead th {\n",
       "        text-align: right;\n",
       "    }\n",
       "</style>\n",
       "<table border=\"1\" class=\"dataframe\">\n",
       "  <thead>\n",
       "    <tr style=\"text-align: right;\">\n",
       "      <th></th>\n",
       "      <th>A</th>\n",
       "      <th>B</th>\n",
       "      <th>C</th>\n",
       "      <th>D</th>\n",
       "      <th>E</th>\n",
       "      <th>A CAT</th>\n",
       "    </tr>\n",
       "    <tr>\n",
       "      <th>index</th>\n",
       "      <th></th>\n",
       "      <th></th>\n",
       "      <th></th>\n",
       "      <th></th>\n",
       "      <th></th>\n",
       "      <th></th>\n",
       "    </tr>\n",
       "  </thead>\n",
       "  <tbody>\n",
       "    <tr>\n",
       "      <th>2025-04-06</th>\n",
       "      <td>99</td>\n",
       "      <td>47</td>\n",
       "      <td>78</td>\n",
       "      <td>3</td>\n",
       "      <td>1</td>\n",
       "      <td>NaN</td>\n",
       "    </tr>\n",
       "    <tr>\n",
       "      <th>2025-05-07</th>\n",
       "      <td>99</td>\n",
       "      <td>19</td>\n",
       "      <td>48</td>\n",
       "      <td>80</td>\n",
       "      <td>3</td>\n",
       "      <td>NaN</td>\n",
       "    </tr>\n",
       "    <tr>\n",
       "      <th>2025-05-10</th>\n",
       "      <td>99</td>\n",
       "      <td>89</td>\n",
       "      <td>99</td>\n",
       "      <td>25</td>\n",
       "      <td>93</td>\n",
       "      <td>NaN</td>\n",
       "    </tr>\n",
       "    <tr>\n",
       "      <th>2025-05-30</th>\n",
       "      <td>99</td>\n",
       "      <td>50</td>\n",
       "      <td>25</td>\n",
       "      <td>24</td>\n",
       "      <td>13</td>\n",
       "      <td>NaN</td>\n",
       "    </tr>\n",
       "    <tr>\n",
       "      <th>2025-12-17</th>\n",
       "      <td>99</td>\n",
       "      <td>86</td>\n",
       "      <td>24</td>\n",
       "      <td>81</td>\n",
       "      <td>74</td>\n",
       "      <td>NaN</td>\n",
       "    </tr>\n",
       "    <tr>\n",
       "      <th>2026-07-10</th>\n",
       "      <td>99</td>\n",
       "      <td>98</td>\n",
       "      <td>33</td>\n",
       "      <td>21</td>\n",
       "      <td>81</td>\n",
       "      <td>NaN</td>\n",
       "    </tr>\n",
       "    <tr>\n",
       "      <th>2026-08-17</th>\n",
       "      <td>99</td>\n",
       "      <td>41</td>\n",
       "      <td>6</td>\n",
       "      <td>25</td>\n",
       "      <td>13</td>\n",
       "      <td>NaN</td>\n",
       "    </tr>\n",
       "    <tr>\n",
       "      <th>2026-09-07</th>\n",
       "      <td>99</td>\n",
       "      <td>60</td>\n",
       "      <td>11</td>\n",
       "      <td>63</td>\n",
       "      <td>21</td>\n",
       "      <td>NaN</td>\n",
       "    </tr>\n",
       "    <tr>\n",
       "      <th>2026-10-05</th>\n",
       "      <td>99</td>\n",
       "      <td>32</td>\n",
       "      <td>94</td>\n",
       "      <td>39</td>\n",
       "      <td>12</td>\n",
       "      <td>NaN</td>\n",
       "    </tr>\n",
       "    <tr>\n",
       "      <th>2026-10-17</th>\n",
       "      <td>99</td>\n",
       "      <td>96</td>\n",
       "      <td>64</td>\n",
       "      <td>98</td>\n",
       "      <td>89</td>\n",
       "      <td>NaN</td>\n",
       "    </tr>\n",
       "    <tr>\n",
       "      <th>2026-12-15</th>\n",
       "      <td>99</td>\n",
       "      <td>6</td>\n",
       "      <td>39</td>\n",
       "      <td>52</td>\n",
       "      <td>23</td>\n",
       "      <td>NaN</td>\n",
       "    </tr>\n",
       "    <tr>\n",
       "      <th>2027-01-10</th>\n",
       "      <td>99</td>\n",
       "      <td>40</td>\n",
       "      <td>28</td>\n",
       "      <td>47</td>\n",
       "      <td>39</td>\n",
       "      <td>NaN</td>\n",
       "    </tr>\n",
       "    <tr>\n",
       "      <th>2027-01-16</th>\n",
       "      <td>99</td>\n",
       "      <td>77</td>\n",
       "      <td>79</td>\n",
       "      <td>82</td>\n",
       "      <td>97</td>\n",
       "      <td>NaN</td>\n",
       "    </tr>\n",
       "    <tr>\n",
       "      <th>2027-01-28</th>\n",
       "      <td>99</td>\n",
       "      <td>59</td>\n",
       "      <td>78</td>\n",
       "      <td>94</td>\n",
       "      <td>41</td>\n",
       "      <td>NaN</td>\n",
       "    </tr>\n",
       "    <tr>\n",
       "      <th>2027-03-16</th>\n",
       "      <td>99</td>\n",
       "      <td>45</td>\n",
       "      <td>73</td>\n",
       "      <td>53</td>\n",
       "      <td>30</td>\n",
       "      <td>NaN</td>\n",
       "    </tr>\n",
       "    <tr>\n",
       "      <th>2027-04-10</th>\n",
       "      <td>99</td>\n",
       "      <td>82</td>\n",
       "      <td>86</td>\n",
       "      <td>24</td>\n",
       "      <td>19</td>\n",
       "      <td>NaN</td>\n",
       "    </tr>\n",
       "    <tr>\n",
       "      <th>2027-07-22</th>\n",
       "      <td>99</td>\n",
       "      <td>48</td>\n",
       "      <td>56</td>\n",
       "      <td>64</td>\n",
       "      <td>59</td>\n",
       "      <td>NaN</td>\n",
       "    </tr>\n",
       "    <tr>\n",
       "      <th>2027-08-07</th>\n",
       "      <td>99</td>\n",
       "      <td>91</td>\n",
       "      <td>90</td>\n",
       "      <td>78</td>\n",
       "      <td>17</td>\n",
       "      <td>NaN</td>\n",
       "    </tr>\n",
       "    <tr>\n",
       "      <th>2027-10-14</th>\n",
       "      <td>99</td>\n",
       "      <td>66</td>\n",
       "      <td>30</td>\n",
       "      <td>53</td>\n",
       "      <td>34</td>\n",
       "      <td>NaN</td>\n",
       "    </tr>\n",
       "  </tbody>\n",
       "</table>\n",
       "</div>"
      ],
      "text/plain": [
       "             A   B   C   D   E A CAT\n",
       "index                               \n",
       "2025-04-06  99  47  78   3   1   NaN\n",
       "2025-05-07  99  19  48  80   3   NaN\n",
       "2025-05-10  99  89  99  25  93   NaN\n",
       "2025-05-30  99  50  25  24  13   NaN\n",
       "2025-12-17  99  86  24  81  74   NaN\n",
       "2026-07-10  99  98  33  21  81   NaN\n",
       "2026-08-17  99  41   6  25  13   NaN\n",
       "2026-09-07  99  60  11  63  21   NaN\n",
       "2026-10-05  99  32  94  39  12   NaN\n",
       "2026-10-17  99  96  64  98  89   NaN\n",
       "2026-12-15  99   6  39  52  23   NaN\n",
       "2027-01-10  99  40  28  47  39   NaN\n",
       "2027-01-16  99  77  79  82  97   NaN\n",
       "2027-01-28  99  59  78  94  41   NaN\n",
       "2027-03-16  99  45  73  53  30   NaN\n",
       "2027-04-10  99  82  86  24  19   NaN\n",
       "2027-07-22  99  48  56  64  59   NaN\n",
       "2027-08-07  99  91  90  78  17   NaN\n",
       "2027-10-14  99  66  30  53  34   NaN"
      ]
     },
     "execution_count": 27,
     "metadata": {},
     "output_type": "execute_result"
    }
   ],
   "source": [
    "df[df['A CAT'].isna()]"
   ]
  },
  {
   "cell_type": "markdown",
   "id": "66a52f90-cf65-49a5-9c10-f47043d8aa0a",
   "metadata": {},
   "source": [
    "# update  table with column A CAT"
   ]
  },
  {
   "cell_type": "code",
   "execution_count": 46,
   "id": "1bb0ee7a-ab72-404c-9544-31ecfaf7e31e",
   "metadata": {},
   "outputs": [],
   "source": [
    "with con:\n",
    "    con.execute('''\n",
    "    ALTER TABLE Moje1 ADD COLUMN 'A CAT' text \n",
    "    ''')"
   ]
  },
  {
   "cell_type": "code",
   "execution_count": 47,
   "id": "70cd6d4b-8c81-42b5-b785-5e640185bba3",
   "metadata": {},
   "outputs": [
    {
     "data": {
      "text/plain": [
       "[('2025-03-09 00:00:00', 52, 93, 15, 72, 61, None, None),\n",
       " ('2025-03-10 00:00:00', 21, 83, 87, 75, 75, None, None),\n",
       " ('2025-03-11 00:00:00', 88, 24, 3, 22, 53, None, None),\n",
       " ('2025-03-12 00:00:00', 2, 88, 30, 38, 2, None, None),\n",
       " ('2025-03-13 00:00:00', 64, 60, 21, 33, 76, None, None),\n",
       " ('2025-03-14 00:00:00', 58, 22, 89, 49, 91, None, None),\n",
       " ('2025-03-15 00:00:00', 59, 42, 92, 60, 80, None, None),\n",
       " ('2025-03-16 00:00:00', 15, 62, 62, 47, 62, None, None),\n",
       " ('2025-03-17 00:00:00', 51, 55, 64, 3, 51, None, None),\n",
       " ('2025-03-18 00:00:00', 7, 21, 73, 39, 18, None, None)]"
      ]
     },
     "execution_count": 47,
     "metadata": {},
     "output_type": "execute_result"
    }
   ],
   "source": [
    "with con:\n",
    "    res = con.execute('select * from Moje1')\n",
    "    data = res.fetchall()\n",
    "data[:10]"
   ]
  },
  {
   "cell_type": "code",
   "execution_count": 48,
   "id": "eb0970be-11d1-45a6-9a1c-bb14d8266746",
   "metadata": {},
   "outputs": [
    {
     "data": {
      "text/plain": [
       "[(Timestamp('2025-03-09 00:00:00'), Interval(50.0, 59.8, closed='left')),\n",
       " (Timestamp('2025-03-10 00:00:00'), Interval(20.6, 30.4, closed='left')),\n",
       " (Timestamp('2025-03-11 00:00:00'), Interval(79.4, 89.2, closed='left')),\n",
       " (Timestamp('2025-03-12 00:00:00'), Interval(1.0, 10.8, closed='left')),\n",
       " (Timestamp('2025-03-13 00:00:00'), Interval(59.8, 69.6, closed='left')),\n",
       " (Timestamp('2025-03-14 00:00:00'), Interval(50.0, 59.8, closed='left')),\n",
       " (Timestamp('2025-03-15 00:00:00'), Interval(50.0, 59.8, closed='left')),\n",
       " (Timestamp('2025-03-16 00:00:00'), Interval(10.8, 20.6, closed='left')),\n",
       " (Timestamp('2025-03-17 00:00:00'), Interval(50.0, 59.8, closed='left')),\n",
       " (Timestamp('2025-03-18 00:00:00'), Interval(1.0, 10.8, closed='left'))]"
      ]
     },
     "execution_count": 48,
     "metadata": {},
     "output_type": "execute_result"
    }
   ],
   "source": [
    "update = list(zip(df.reset_index()['index'].to_list(), df.reset_index()['A CAT'].to_list()))\n",
    "update[:10]"
   ]
  },
  {
   "cell_type": "code",
   "execution_count": 53,
   "id": "d383f9e7-9b6a-4008-9e4c-0c8ee98ced4b",
   "metadata": {},
   "outputs": [],
   "source": [
    "update = ('bin 1', '2025-03-09 00:00:00')#, ('bin 2', '2025-03-10 00:00:00')]\n",
    "with con:\n",
    "    con.execute('''\n",
    "    UPDATE Moje1 SET 'A CAT' = ? WHERE \"index\" = ? \n",
    "    ''', update)"
   ]
  },
  {
   "cell_type": "code",
   "execution_count": 101,
   "id": "8f2d0ec2-158e-4c77-8044-65d770e358d6",
   "metadata": {},
   "outputs": [
    {
     "data": {
      "text/plain": [
       "[('table',\n",
       "  'Moje1',\n",
       "  'Moje1',\n",
       "  2,\n",
       "  'CREATE TABLE \"Moje1\" (\\n\"index\" TIMESTAMP,\\n  \"A\" INTEGER,\\n  \"B\" INTEGER,\\n  \"C\" INTEGER,\\n  \"D\" INTEGER,\\n  \"E\" INTEGER\\n, \\'A CAT text\\', \\'A CAT\\' text)')]"
      ]
     },
     "execution_count": 101,
     "metadata": {},
     "output_type": "execute_result"
    }
   ],
   "source": [
    "with con:\n",
    "    res = con.execute('select * from sqlite_master where type = \"table\"')\n",
    "    data = res.fetchall()\n",
    "data"
   ]
  },
  {
   "cell_type": "code",
   "execution_count": 55,
   "id": "11450240-5459-4122-b04f-dddb660c590c",
   "metadata": {},
   "outputs": [
    {
     "data": {
      "text/plain": [
       "[('2025-03-09 00:00:00', 52, 93, 15, 72, 61, None, 'bin 1'),\n",
       " ('2025-03-10 00:00:00', 21, 83, 87, 75, 75, None, None),\n",
       " ('2025-03-11 00:00:00', 88, 24, 3, 22, 53, None, None),\n",
       " ('2025-03-12 00:00:00', 2, 88, 30, 38, 2, None, None),\n",
       " ('2025-03-13 00:00:00', 64, 60, 21, 33, 76, None, None),\n",
       " ('2025-03-14 00:00:00', 58, 22, 89, 49, 91, None, None),\n",
       " ('2025-03-15 00:00:00', 59, 42, 92, 60, 80, None, None),\n",
       " ('2025-03-16 00:00:00', 15, 62, 62, 47, 62, None, None),\n",
       " ('2025-03-17 00:00:00', 51, 55, 64, 3, 51, None, None),\n",
       " ('2025-03-18 00:00:00', 7, 21, 73, 39, 18, None, None)]"
      ]
     },
     "execution_count": 55,
     "metadata": {},
     "output_type": "execute_result"
    }
   ],
   "source": [
    "with con:\n",
    "    res = con.execute('select * from Moje1')\n",
    "    data = res.fetchall()\n",
    "data[:10]"
   ]
  },
  {
   "cell_type": "code",
   "execution_count": 57,
   "id": "3542b991-8510-4a51-ad46-75e2a3b4165a",
   "metadata": {},
   "outputs": [],
   "source": [
    "update = [('bin 1', '2025-03-09 00:00:00'), ('bin 2', '2025-03-10 00:00:00')]\n",
    "with con:\n",
    "    con.executemany('''\n",
    "    UPDATE Moje1 SET 'A CAT' = ? WHERE \"index\" = ? \n",
    "    ''', update)"
   ]
  },
  {
   "cell_type": "code",
   "execution_count": 58,
   "id": "783334df-7bf9-455a-b303-ab2c82b49957",
   "metadata": {},
   "outputs": [
    {
     "data": {
      "text/plain": [
       "[('2025-03-09 00:00:00', 52, 93, 15, 72, 61, None, 'bin 1'),\n",
       " ('2025-03-10 00:00:00', 21, 83, 87, 75, 75, None, 'bin 2'),\n",
       " ('2025-03-11 00:00:00', 88, 24, 3, 22, 53, None, None),\n",
       " ('2025-03-12 00:00:00', 2, 88, 30, 38, 2, None, None),\n",
       " ('2025-03-13 00:00:00', 64, 60, 21, 33, 76, None, None),\n",
       " ('2025-03-14 00:00:00', 58, 22, 89, 49, 91, None, None),\n",
       " ('2025-03-15 00:00:00', 59, 42, 92, 60, 80, None, None),\n",
       " ('2025-03-16 00:00:00', 15, 62, 62, 47, 62, None, None),\n",
       " ('2025-03-17 00:00:00', 51, 55, 64, 3, 51, None, None),\n",
       " ('2025-03-18 00:00:00', 7, 21, 73, 39, 18, None, None)]"
      ]
     },
     "execution_count": 58,
     "metadata": {},
     "output_type": "execute_result"
    }
   ],
   "source": [
    "with con:\n",
    "    res = con.execute('select * from Moje1')\n",
    "    data = res.fetchall()\n",
    "data[:10]"
   ]
  },
  {
   "cell_type": "code",
   "execution_count": 98,
   "id": "e22bf89e-b448-4550-bda8-a5a51b1b6139",
   "metadata": {},
   "outputs": [
    {
     "data": {
      "text/plain": [
       "[('bin1', '2025-03-09 00:00:00'),\n",
       " ('bin1', '2025-03-10 00:00:00'),\n",
       " ('bin1', '2025-03-11 00:00:00'),\n",
       " ('bin1', '2025-03-12 00:00:00'),\n",
       " ('bin1', '2025-03-13 00:00:00'),\n",
       " ('bin1', '2025-03-14 00:00:00'),\n",
       " ('bin1', '2025-03-15 00:00:00'),\n",
       " ('bin1', '2025-03-16 00:00:00'),\n",
       " ('bin1', '2025-03-17 00:00:00'),\n",
       " ('bin1', '2025-03-18 00:00:00')]"
      ]
     },
     "execution_count": 98,
     "metadata": {},
     "output_type": "execute_result"
    }
   ],
   "source": [
    "update = list(zip( ['bin1' for i in range(1000)] , (df.reset_index()['index'].astype(str) + ' 00:00:00').to_list() ))#df.reset_index()['A CAT'].to_list()))\n",
    "update[:10]"
   ]
  },
  {
   "cell_type": "code",
   "execution_count": 99,
   "id": "48d75c7e-b5ad-4090-bf88-e520f0ee4e25",
   "metadata": {},
   "outputs": [],
   "source": [
    "with con:\n",
    "    con.executemany('''\n",
    "    UPDATE Moje1 SET 'A CAT' = ? WHERE \"index\" = ? \n",
    "    ''', update)"
   ]
  },
  {
   "cell_type": "code",
   "execution_count": 100,
   "id": "9a539aeb-47f3-4181-82ce-47f4eab2af9a",
   "metadata": {},
   "outputs": [
    {
     "data": {
      "text/plain": [
       "[('2025-03-09 00:00:00', 52, 93, 15, 72, 61, None, 'bin1'),\n",
       " ('2025-03-10 00:00:00', 21, 83, 87, 75, 75, None, 'bin1'),\n",
       " ('2025-03-11 00:00:00', 88, 24, 3, 22, 53, None, 'bin1'),\n",
       " ('2025-03-12 00:00:00', 2, 88, 30, 38, 2, None, 'bin1'),\n",
       " ('2025-03-13 00:00:00', 64, 60, 21, 33, 76, None, 'bin1'),\n",
       " ('2025-03-14 00:00:00', 58, 22, 89, 49, 91, None, 'bin1'),\n",
       " ('2025-03-15 00:00:00', 59, 42, 92, 60, 80, None, 'bin1'),\n",
       " ('2025-03-16 00:00:00', 15, 62, 62, 47, 62, None, 'bin1'),\n",
       " ('2025-03-17 00:00:00', 51, 55, 64, 3, 51, None, 'bin1'),\n",
       " ('2025-03-18 00:00:00', 7, 21, 73, 39, 18, None, 'bin1')]"
      ]
     },
     "execution_count": 100,
     "metadata": {},
     "output_type": "execute_result"
    }
   ],
   "source": [
    "with con:\n",
    "    res = con.execute('select * from Moje1')\n",
    "    data = res.fetchall()\n",
    "data[:10]"
   ]
  },
  {
   "cell_type": "code",
   "execution_count": 102,
   "id": "4060ae70-e2fc-48ba-8137-ae98686ec415",
   "metadata": {},
   "outputs": [
    {
     "data": {
      "text/plain": [
       "[('table',\n",
       "  'Moje1',\n",
       "  'Moje1',\n",
       "  2,\n",
       "  'CREATE TABLE \"Moje1\" (\\n\"index\" TIMESTAMP,\\n  \"A\" INTEGER,\\n  \"B\" INTEGER,\\n  \"C\" INTEGER,\\n  \"D\" INTEGER,\\n  \"E\" INTEGER\\n, \\'A CAT text\\', \\'A CAT\\' text)')]"
      ]
     },
     "execution_count": 102,
     "metadata": {},
     "output_type": "execute_result"
    }
   ],
   "source": [
    "with con:\n",
    "    res = con.execute('select * from sqlite_master where type = \"table\"')\n",
    "    data = res.fetchall()\n",
    "data"
   ]
  },
  {
   "cell_type": "code",
   "execution_count": null,
   "id": "712bd60c-f9e1-4a10-aad1-b9df244fd898",
   "metadata": {},
   "outputs": [],
   "source": []
  }
 ],
 "metadata": {
  "kernelspec": {
   "display_name": "Python 3 (ipykernel)",
   "language": "python",
   "name": "python3"
  },
  "language_info": {
   "codemirror_mode": {
    "name": "ipython",
    "version": 3
   },
   "file_extension": ".py",
   "mimetype": "text/x-python",
   "name": "python",
   "nbconvert_exporter": "python",
   "pygments_lexer": "ipython3",
   "version": "3.10.5"
  }
 },
 "nbformat": 4,
 "nbformat_minor": 5
}
