{
 "cells": [
  {
   "cell_type": "code",
   "execution_count": 1,
   "id": "169e3b9f-1715-4eff-88e9-0c6fd996a20c",
   "metadata": {},
   "outputs": [],
   "source": [
    "messages = {None: 'error', True: 'pass', False: 'fail'}"
   ]
  },
  {
   "cell_type": "code",
   "execution_count": 2,
   "id": "9d0f69f5-f002-474f-a8d2-46f36b365b06",
   "metadata": {},
   "outputs": [
    {
     "name": "stdout",
     "output_type": "stream",
     "text": [
      "error\n"
     ]
    }
   ],
   "source": [
    "result = None\n",
    "print(messages[result])"
   ]
  },
  {
   "cell_type": "code",
   "execution_count": 3,
   "id": "78698c0e-10b3-4aa6-b541-9b1808dde3b2",
   "metadata": {},
   "outputs": [
    {
     "name": "stdout",
     "output_type": "stream",
     "text": [
      "pass\n"
     ]
    }
   ],
   "source": [
    "result = True\n",
    "print(messages[result])"
   ]
  },
  {
   "cell_type": "code",
   "execution_count": 4,
   "id": "2c4651bf-d5ae-4fe2-ba99-d58f3586a272",
   "metadata": {},
   "outputs": [
    {
     "name": "stdout",
     "output_type": "stream",
     "text": [
      "fail\n"
     ]
    }
   ],
   "source": [
    "result = False\n",
    "print(messages[result])"
   ]
  },
  {
   "cell_type": "code",
   "execution_count": null,
   "id": "b5904e13-1b33-456b-99d5-f6489865e280",
   "metadata": {},
   "outputs": [],
   "source": []
  }
 ],
 "metadata": {
  "kernelspec": {
   "display_name": "Python 3 (ipykernel)",
   "language": "python",
   "name": "python3"
  },
  "language_info": {
   "codemirror_mode": {
    "name": "ipython",
    "version": 3
   },
   "file_extension": ".py",
   "mimetype": "text/x-python",
   "name": "python",
   "nbconvert_exporter": "python",
   "pygments_lexer": "ipython3",
   "version": "3.11.8"
  }
 },
 "nbformat": 4,
 "nbformat_minor": 5
}
