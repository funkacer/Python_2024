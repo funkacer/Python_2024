{
 "cells": [
  {
   "cell_type": "code",
   "execution_count": 2,
   "id": "9ada64c1-ae88-463e-b8c2-e8ff5ebca308",
   "metadata": {},
   "outputs": [],
   "source": [
    "data = dict([('a', 3), ('b', 2), ('c', 1)])"
   ]
  },
  {
   "cell_type": "code",
   "execution_count": 3,
   "id": "ef7aefcf-aca4-4244-b17c-ba630a1327d9",
   "metadata": {},
   "outputs": [
    {
     "data": {
      "text/plain": [
       "{'a': 3, 'b': 2, 'c': 1}"
      ]
     },
     "execution_count": 3,
     "metadata": {},
     "output_type": "execute_result"
    }
   ],
   "source": [
    "data"
   ]
  },
  {
   "cell_type": "code",
   "execution_count": 10,
   "id": "451e3178-9401-4069-8019-14c023127049",
   "metadata": {},
   "outputs": [
    {
     "data": {
      "text/plain": [
       "{'c': 1, 'b': 2, 'a': 3}"
      ]
     },
     "execution_count": 10,
     "metadata": {},
     "output_type": "execute_result"
    }
   ],
   "source": [
    "sorted_dict = {k: v for k, v in sorted(data.items(), reverse=True)}\n",
    "sorted_dict"
   ]
  },
  {
   "cell_type": "code",
   "execution_count": 12,
   "id": "ad0f53bc-4237-498b-bf73-19a0eeff9dc9",
   "metadata": {},
   "outputs": [
    {
     "data": {
      "text/plain": [
       "{'c': 1, 'b': 2, 'a': 3}"
      ]
     },
     "execution_count": 12,
     "metadata": {},
     "output_type": "execute_result"
    }
   ],
   "source": [
    "sorted_dict = {k: v for k, v in sorted(data.items(), key=lambda x: x[1])}\n",
    "sorted_dict"
   ]
  },
  {
   "cell_type": "code",
   "execution_count": 13,
   "id": "0c6738dd-2d0f-4bb4-b2d7-14e8e599b3f2",
   "metadata": {},
   "outputs": [
    {
     "data": {
      "text/plain": [
       "{'a': 3, 'b': 2, 'c': 1}"
      ]
     },
     "execution_count": 13,
     "metadata": {},
     "output_type": "execute_result"
    }
   ],
   "source": [
    "sorted_dict = {k: v for k, v in sorted(data.items(), key=lambda x: x[1], reverse=True)}\n",
    "sorted_dict"
   ]
  },
  {
   "cell_type": "code",
   "execution_count": 14,
   "id": "4ddf580c-f238-4ef8-8748-adf10957be9e",
   "metadata": {},
   "outputs": [
    {
     "data": {
      "text/plain": [
       "dict_keys(['a', 'b', 'c'])"
      ]
     },
     "execution_count": 14,
     "metadata": {},
     "output_type": "execute_result"
    }
   ],
   "source": [
    "sorted_dict.keys()"
   ]
  },
  {
   "cell_type": "code",
   "execution_count": 15,
   "id": "cf5185e7-6bf4-4303-883e-57fb63c5ae1c",
   "metadata": {},
   "outputs": [
    {
     "data": {
      "text/plain": [
       "dict_values([3, 2, 1])"
      ]
     },
     "execution_count": 15,
     "metadata": {},
     "output_type": "execute_result"
    }
   ],
   "source": [
    "sorted_dict.values()"
   ]
  },
  {
   "cell_type": "code",
   "execution_count": null,
   "id": "282b0088-99a5-461d-ab3b-5a410483aa35",
   "metadata": {},
   "outputs": [],
   "source": []
  }
 ],
 "metadata": {
  "kernelspec": {
   "display_name": "Python 3 (ipykernel)",
   "language": "python",
   "name": "python3"
  },
  "language_info": {
   "codemirror_mode": {
    "name": "ipython",
    "version": 3
   },
   "file_extension": ".py",
   "mimetype": "text/x-python",
   "name": "python",
   "nbconvert_exporter": "python",
   "pygments_lexer": "ipython3",
   "version": "3.11.8"
  }
 },
 "nbformat": 4,
 "nbformat_minor": 5
}
