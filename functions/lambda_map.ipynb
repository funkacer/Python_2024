{
 "cells": [
  {
   "cell_type": "markdown",
   "id": "ce7ceb64-a5d0-47e4-92ce-74041bbc9a02",
   "metadata": {},
   "source": [
    "# Lambda"
   ]
  },
  {
   "cell_type": "code",
   "execution_count": 1,
   "id": "1f9ac664-3cec-4639-8c50-99abf407162b",
   "metadata": {},
   "outputs": [],
   "source": [
    "y = lambda x:x**2\n",
    "x = range(1,11)"
   ]
  },
  {
   "cell_type": "code",
   "execution_count": 2,
   "id": "c16373c8-5aa0-4ff3-a988-38b8b8dfba0a",
   "metadata": {},
   "outputs": [],
   "source": [
    "a = map(y, x)"
   ]
  },
  {
   "cell_type": "code",
   "execution_count": 3,
   "id": "06b433d0-5d82-4236-ba3e-498a8be7d1d1",
   "metadata": {},
   "outputs": [
    {
     "data": {
      "text/plain": [
       "<map at 0x10722b7f0>"
      ]
     },
     "execution_count": 3,
     "metadata": {},
     "output_type": "execute_result"
    }
   ],
   "source": [
    "a"
   ]
  },
  {
   "cell_type": "code",
   "execution_count": 4,
   "id": "8c5ceba8-905a-4627-8519-73b69d263f1b",
   "metadata": {},
   "outputs": [
    {
     "data": {
      "text/plain": [
       "[1, 4, 9, 16, 25, 36, 49, 64, 81, 100]"
      ]
     },
     "execution_count": 4,
     "metadata": {},
     "output_type": "execute_result"
    }
   ],
   "source": [
    "list(a)"
   ]
  },
  {
   "cell_type": "code",
   "execution_count": 5,
   "id": "6a37f476-2174-4f25-aa5e-9e7c4a2ec52a",
   "metadata": {},
   "outputs": [
    {
     "data": {
      "text/plain": [
       "[1, 4, 9, 16, 25, 36, 49, 64, 81, 100]"
      ]
     },
     "execution_count": 5,
     "metadata": {},
     "output_type": "execute_result"
    }
   ],
   "source": [
    "list(map(y, x))"
   ]
  },
  {
   "cell_type": "code",
   "execution_count": 6,
   "id": "40fcd3a7-824a-46c2-90c9-aae713fd6472",
   "metadata": {},
   "outputs": [
    {
     "name": "stdout",
     "output_type": "stream",
     "text": [
      "[1, 4, 9, 16, 25, 36, 49, 64, 81, 100]\n"
     ]
    }
   ],
   "source": [
    "print(list(map(y, x)))"
   ]
  },
  {
   "cell_type": "code",
   "execution_count": 7,
   "id": "399e7cf6-bdb6-4843-baf5-1dc97baaf01c",
   "metadata": {},
   "outputs": [
    {
     "data": {
      "text/plain": [
       "[(1, 1),\n",
       " (2, 4),\n",
       " (3, 9),\n",
       " (4, 16),\n",
       " (5, 25),\n",
       " (6, 36),\n",
       " (7, 49),\n",
       " (8, 64),\n",
       " (9, 81),\n",
       " (10, 100)]"
      ]
     },
     "execution_count": 7,
     "metadata": {},
     "output_type": "execute_result"
    }
   ],
   "source": [
    "list(zip(x, map(y, x)))"
   ]
  },
  {
   "cell_type": "code",
   "execution_count": 8,
   "id": "243e4b9a-d622-4371-9840-926dbb68d02a",
   "metadata": {},
   "outputs": [
    {
     "name": "stdout",
     "output_type": "stream",
     "text": [
      "[(1, 1), (2, 4), (3, 9), (4, 16), (5, 25), (6, 36), (7, 49), (8, 64), (9, 81), (10, 100)]\n"
     ]
    }
   ],
   "source": [
    "print(list(zip(x,map(y, x))))"
   ]
  },
  {
   "cell_type": "code",
   "execution_count": 9,
   "id": "dc205c83-b65e-40b4-b49f-e5fa83dd19ea",
   "metadata": {},
   "outputs": [
    {
     "data": {
      "text/plain": [
       "{1: 1, 2: 4, 3: 9, 4: 16, 5: 25, 6: 36, 7: 49, 8: 64, 9: 81, 10: 100}"
      ]
     },
     "execution_count": 9,
     "metadata": {},
     "output_type": "execute_result"
    }
   ],
   "source": [
    "dict(zip(x, map(y, x)))"
   ]
  },
  {
   "cell_type": "code",
   "execution_count": 10,
   "id": "1e50d412-1162-4250-b615-30f90d575561",
   "metadata": {},
   "outputs": [
    {
     "name": "stdout",
     "output_type": "stream",
     "text": [
      "{1: 1, 2: 4, 3: 9, 4: 16, 5: 25, 6: 36, 7: 49, 8: 64, 9: 81, 10: 100}\n"
     ]
    }
   ],
   "source": [
    "print(dict(zip(x,map(y, x))))"
   ]
  },
  {
   "cell_type": "code",
   "execution_count": 11,
   "id": "e0f41e80-f186-47f5-8a71-22bcfd5e4a22",
   "metadata": {},
   "outputs": [],
   "source": [
    "a = dict(zip(x, map(y, x)))"
   ]
  },
  {
   "cell_type": "code",
   "execution_count": 12,
   "id": "211eba38-934c-45c3-95b7-bb049a1b36b6",
   "metadata": {},
   "outputs": [
    {
     "data": {
      "text/plain": [
       "1"
      ]
     },
     "execution_count": 12,
     "metadata": {},
     "output_type": "execute_result"
    }
   ],
   "source": [
    "a[1]"
   ]
  },
  {
   "cell_type": "code",
   "execution_count": 13,
   "id": "e89396ba-4a48-45e0-8860-f1787329b31d",
   "metadata": {},
   "outputs": [
    {
     "data": {
      "text/plain": [
       "4"
      ]
     },
     "execution_count": 13,
     "metadata": {},
     "output_type": "execute_result"
    }
   ],
   "source": [
    "a[2]"
   ]
  },
  {
   "cell_type": "code",
   "execution_count": 14,
   "id": "e651c599-79be-424c-8600-710b76e8990e",
   "metadata": {},
   "outputs": [
    {
     "name": "stdout",
     "output_type": "stream",
     "text": [
      "x\t|\tx**2\n",
      "1\t|\t1\n",
      "2\t|\t4\n",
      "3\t|\t9\n",
      "4\t|\t16\n",
      "5\t|\t25\n",
      "6\t|\t36\n",
      "7\t|\t49\n",
      "8\t|\t64\n",
      "9\t|\t81\n",
      "10\t|\t100\n"
     ]
    }
   ],
   "source": [
    "print('x' + '\\t|\\t' + 'x**2')\n",
    "for key in a.keys():\n",
    "    print(str(key) + '\\t|\\t' + str(a[key]))"
   ]
  },
  {
   "cell_type": "code",
   "execution_count": 15,
   "id": "5368edb3-40eb-458b-8278-6e89055aed5b",
   "metadata": {},
   "outputs": [],
   "source": [
    "z = lambda x:x^2\n",
    "b = dict(zip(x, map(z, x)))"
   ]
  },
  {
   "cell_type": "markdown",
   "id": "c03437f5-cffc-45e1-8da9-f8b8cae85451",
   "metadata": {},
   "source": [
    "# Co to proboha je x^2 ???"
   ]
  },
  {
   "cell_type": "code",
   "execution_count": 17,
   "id": "4129ec4e-65c4-446c-b1fd-5afc45f1de2c",
   "metadata": {},
   "outputs": [
    {
     "name": "stdout",
     "output_type": "stream",
     "text": [
      "x\t|\tx^2\n",
      "1\t|\t3\n",
      "2\t|\t0\n",
      "3\t|\t1\n",
      "4\t|\t6\n",
      "5\t|\t7\n",
      "6\t|\t4\n",
      "7\t|\t5\n",
      "8\t|\t10\n",
      "9\t|\t11\n",
      "10\t|\t8\n"
     ]
    }
   ],
   "source": [
    "print('x' + '\\t|\\t' + 'x^2')\n",
    "for key in b.keys():\n",
    "    print(str(key) + '\\t|\\t' + str(b[key]))"
   ]
  },
  {
   "cell_type": "code",
   "execution_count": null,
   "id": "55ff77a3-4c9e-4bf1-8e87-df8633b13859",
   "metadata": {},
   "outputs": [],
   "source": []
  },
  {
   "cell_type": "code",
   "execution_count": null,
   "id": "6f92ba25-7360-4058-b427-20650c824efb",
   "metadata": {},
   "outputs": [],
   "source": []
  },
  {
   "cell_type": "code",
   "execution_count": null,
   "id": "4a25fa7c-7757-4a7e-9337-1099f9a9fe5b",
   "metadata": {},
   "outputs": [],
   "source": []
  }
 ],
 "metadata": {
  "kernelspec": {
   "display_name": "Python 3 (ipykernel)",
   "language": "python",
   "name": "python3"
  },
  "language_info": {
   "codemirror_mode": {
    "name": "ipython",
    "version": 3
   },
   "file_extension": ".py",
   "mimetype": "text/x-python",
   "name": "python",
   "nbconvert_exporter": "python",
   "pygments_lexer": "ipython3",
   "version": "3.11.8"
  }
 },
 "nbformat": 4,
 "nbformat_minor": 5
}
