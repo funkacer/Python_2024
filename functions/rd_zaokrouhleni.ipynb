{
 "cells": [
  {
   "cell_type": "code",
   "execution_count": 1,
   "metadata": {
    "colab": {
     "base_uri": "https://localhost:8080/"
    },
    "id": "gxXZktHs8lJJ",
    "outputId": "15b6a34c-a3b3-4617-8280-4aa79e583daa"
   },
   "outputs": [],
   "source": [
    "import numpy as np\n",
    "import IPython.display as display\n",
    "from matplotlib import pyplot as plt\n",
    "import io\n",
    "import base64"
   ]
  },
  {
   "cell_type": "code",
   "execution_count": 2,
   "metadata": {
    "colab": {
     "base_uri": "https://localhost:8080/"
    },
    "id": "gxXZktHs8lJJ",
    "outputId": "15b6a34c-a3b3-4617-8280-4aa79e583daa"
   },
   "outputs": [],
   "source": [
    "def rd(number: float, precision: int = 1) -> str:\n",
    "    '''\n",
    "    Returns rounded string with defined precicion.\n",
    "\n",
    "    INPUT:\n",
    "    number: float, to be rounded\n",
    "    precision: int, precision used whe rounding\n",
    "\n",
    "    OUTPUT:\n",
    "    round_str: str\n",
    "    '''\n",
    "    \n",
    "    num, prec = None, None\n",
    "\n",
    "    if isinstance(number, float):\n",
    "        num = number\n",
    "    else:\n",
    "        try:\n",
    "            num = float(number)\n",
    "        except Exception as e:\n",
    "            traceback.print_exc()\n",
    "            pass\n",
    "\n",
    "    if isinstance(precision, int):\n",
    "        if precision >= 0:\n",
    "            prec = precision\n",
    "        else:\n",
    "            prec = abs(precision)\n",
    "    else:\n",
    "        try:\n",
    "            prec = abs(int(precision))\n",
    "        except Exception as e:\n",
    "            traceback.print_exc()\n",
    "            pass\n",
    "\n",
    "    assert num is not None, '\\nPlease specify valid number\\n'\n",
    "    assert prec is not None, '\\nPlease specify valid precision\\n'\n",
    "\n",
    "    fin = 1\n",
    "    if num < 0: fin = -1\n",
    "    num1 = num*10**prec\n",
    "    if abs(num1 - int(num1)) >= .5:\n",
    "        num1 += fin\n",
    "    round_float = int(num1)/10**prec\n",
    "    round_str = '{num:.{prec}f}'.format(num=round_float,prec=prec)\n",
    "    return round_str"
   ]
  },
  {
   "cell_type": "code",
   "execution_count": 4,
   "metadata": {},
   "outputs": [
    {
     "data": {
      "text/markdown": [
       "\n",
       "    Returns rounded string with defined precicion.\n",
       "\n",
       "    INPUT:\n",
       "    number: float, to be rounded\n",
       "    precision: int, precision used whe rounding\n",
       "\n",
       "    OUTPUT:\n",
       "    round_str: str\n",
       "    "
      ],
      "text/plain": [
       "<IPython.core.display.Markdown object>"
      ]
     },
     "metadata": {},
     "output_type": "display_data"
    }
   ],
   "source": [
    "display.display(display.Markdown(F\"\"\"{rd.__doc__}\"\"\"))"
   ]
  },
  {
   "cell_type": "code",
   "execution_count": 5,
   "metadata": {},
   "outputs": [
    {
     "data": {
      "text/plain": [
       "'123.45500'"
      ]
     },
     "execution_count": 5,
     "metadata": {},
     "output_type": "execute_result"
    }
   ],
   "source": [
    "rd(123.455,5)"
   ]
  },
  {
   "cell_type": "code",
   "execution_count": 7,
   "metadata": {},
   "outputs": [
    {
     "data": {
      "text/plain": [
       "123.455"
      ]
     },
     "execution_count": 7,
     "metadata": {},
     "output_type": "execute_result"
    }
   ],
   "source": [
    "float(rd(123.455,5))"
   ]
  },
  {
   "cell_type": "code",
   "execution_count": null,
   "metadata": {},
   "outputs": [],
   "source": []
  }
 ],
 "metadata": {
  "colab": {
   "provenance": []
  },
  "kernelspec": {
   "display_name": "Python 3 (ipykernel)",
   "language": "python",
   "name": "python3"
  },
  "language_info": {
   "codemirror_mode": {
    "name": "ipython",
    "version": 3
   },
   "file_extension": ".py",
   "mimetype": "text/x-python",
   "name": "python",
   "nbconvert_exporter": "python",
   "pygments_lexer": "ipython3",
   "version": "3.11.8"
  }
 },
 "nbformat": 4,
 "nbformat_minor": 4
}
