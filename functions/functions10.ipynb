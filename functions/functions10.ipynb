{
 "cells": [
  {
   "cell_type": "markdown",
   "metadata": {},
   "source": [
    "# print()"
   ]
  },
  {
   "cell_type": "code",
   "execution_count": 1,
   "metadata": {
    "colab": {
     "base_uri": "https://localhost:8080/"
    },
    "id": "gxXZktHs8lJJ",
    "outputId": "15b6a34c-a3b3-4617-8280-4aa79e583daa"
   },
   "outputs": [
    {
     "name": "stdout",
     "output_type": "stream",
     "text": [
      "My name is Jirka and I am 50\n",
      "My name is|Jirka|and I am|50\n",
      "hello world | I am Jirka\n"
     ]
    }
   ],
   "source": [
    "age = 50\n",
    "name = \"Jirka\"\n",
    "\n",
    "print(\"My name is\", name, \"and I am\", age)\n",
    "print(\"My name is\", name, \"and I am\", age, sep=\"|\")\n",
    "\n",
    "print(\"hello world\", end=\" | \")\n",
    "print(\"I am\", name)"
   ]
  },
  {
   "cell_type": "markdown",
   "metadata": {},
   "source": [
    "# help()"
   ]
  },
  {
   "cell_type": "code",
   "execution_count": 2,
   "metadata": {},
   "outputs": [
    {
     "name": "stdout",
     "output_type": "stream",
     "text": [
      "Help on built-in function print in module builtins:\n",
      "\n",
      "print(*args, sep=' ', end='\\n', file=None, flush=False)\n",
      "    Prints the values to a stream, or to sys.stdout by default.\n",
      "    \n",
      "    sep\n",
      "      string inserted between values, default a space.\n",
      "    end\n",
      "      string appended after the last value, default a newline.\n",
      "    file\n",
      "      a file-like object (stream); defaults to the current sys.stdout.\n",
      "    flush\n",
      "      whether to forcibly flush the stream.\n",
      "\n",
      "Help on function test_func in module __main__:\n",
      "\n",
      "test_func(a, b)\n",
      "    a: value 1\n",
      "    b: value 2\n",
      "    \n",
      "    returns: int\n",
      "\n"
     ]
    }
   ],
   "source": [
    "help(print)\n",
    "\n",
    "def test_func(a, b):\n",
    "\t\"\"\"\n",
    "\ta: value 1\n",
    "\tb: value 2\n",
    "\t\n",
    "\treturns: int\n",
    "\t\"\"\"\n",
    "\treturn a + b\n",
    "\t\n",
    "help(test_func)"
   ]
  },
  {
   "cell_type": "markdown",
   "metadata": {},
   "source": [
    "# range()"
   ]
  },
  {
   "cell_type": "code",
   "execution_count": 3,
   "metadata": {},
   "outputs": [
    {
     "name": "stdout",
     "output_type": "stream",
     "text": [
      "[0, 1, 2, 3, 4, 5, 6, 7, 8, 9]\n",
      "[2, 3, 4, 5, 6, 7, 8, 9]\n",
      "[2, 4, 6, 8]\n",
      "[10, 8, 6, 4, 2, 0, -2, -4, -6, -8]\n",
      "range(10, -10, -2)\n"
     ]
    }
   ],
   "source": [
    "rng = range(10)\n",
    "print(list(rng))\n",
    "\n",
    "rng = range(2, 10)\n",
    "print(list(rng))\n",
    "\n",
    "rng = range(2, 10, 2)\n",
    "print(list(rng))\n",
    "\n",
    "rng = range(10, -10, -2)\n",
    "print(list(rng))\n",
    "\n",
    "# range is iterator object\n",
    "print(rng)"
   ]
  },
  {
   "cell_type": "markdown",
   "metadata": {},
   "source": [
    "# map()"
   ]
  },
  {
   "cell_type": "code",
   "execution_count": 4,
   "metadata": {},
   "outputs": [
    {
     "name": "stdout",
     "output_type": "stream",
     "text": [
      "[2, 5, 5, 4]\n",
      "['mys', 'worlds', 'apples', 'pears']\n",
      "['mys', 'worlds', 'apples', 'pears']\n"
     ]
    }
   ],
   "source": [
    "strings = [\"my\", \"world\", \"apple\", \"pear\"]\n",
    "\n",
    "lengths = map(len, strings)\n",
    "print(list(lengths))\n",
    "\n",
    "lengths = map(lambda x: x + \"s\", strings)\n",
    "print(list(lengths))\n",
    "\n",
    "def add_s(string):\n",
    "\treturn string + \"s\"\n",
    "\t\n",
    "lengths = map(add_s, strings)\n",
    "print(list(lengths))"
   ]
  },
  {
   "cell_type": "markdown",
   "metadata": {},
   "source": [
    "# filter()"
   ]
  },
  {
   "cell_type": "code",
   "execution_count": 5,
   "metadata": {},
   "outputs": [
    {
     "name": "stdout",
     "output_type": "stream",
     "text": [
      "['world', 'apple']\n",
      "['world', 'apple']\n"
     ]
    }
   ],
   "source": [
    "def longer_than_4(string):\n",
    "\treturn len(string) > 4\n",
    "\t\n",
    "filtered = filter(longer_than_4, strings)\n",
    "print(list(filtered))\n",
    "\n",
    "filtered = filter(lambda x: len(x) > 4, strings)\n",
    "print(list(filtered))"
   ]
  },
  {
   "cell_type": "markdown",
   "metadata": {},
   "source": [
    "# sum()"
   ]
  },
  {
   "cell_type": "code",
   "execution_count": 6,
   "metadata": {},
   "outputs": [
    {
     "name": "stdout",
     "output_type": "stream",
     "text": [
      "35.5\n",
      "45.5\n",
      "25.5\n"
     ]
    }
   ],
   "source": [
    "numbers = {1, 4.5, 5, 23, 2}\n",
    "\n",
    "print(sum(numbers))\n",
    "\n",
    "print(sum(numbers, start=10))\n",
    "print(sum(numbers, start=-10))"
   ]
  },
  {
   "cell_type": "markdown",
   "metadata": {},
   "source": [
    "# sorted()"
   ]
  },
  {
   "cell_type": "code",
   "execution_count": 7,
   "metadata": {},
   "outputs": [
    {
     "name": "stdout",
     "output_type": "stream",
     "text": [
      "[-1, 0, 2, 3, 4, 5, 9]\n",
      "[9, 5, 4, 3, 2, 0, -1]\n",
      "[{'name': 'David', 'age': 20}, {'name': 'Bob', 'age': 25}, {'name': 'Alice', 'age': 30}, {'name': 'Charlie', 'age': 35}]\n",
      "[{'name': 'David', 'age': 20}, {'name': 'Charlie', 'age': 35}, {'name': 'Bob', 'age': 25}, {'name': 'Alice', 'age': 30}]\n"
     ]
    }
   ],
   "source": [
    "numbers = [4, 5, 2, 3, -1, 0, 9]\n",
    "\n",
    "sorted_nums = sorted(numbers)\n",
    "print(sorted_nums)\n",
    "\n",
    "sorted_nums = sorted(numbers, reverse=True)\n",
    "print(sorted_nums)\n",
    "\n",
    "people = [\n",
    "\t{\"name\":\"Alice\", \"age\": 30},\n",
    "\t{\"name\":\"Bob\", \"age\": 25},\n",
    "\t{\"name\":\"Charlie\", \"age\": 35},\n",
    "\t{\"name\":\"David\", \"age\": 20}\n",
    "\t]\n",
    "\n",
    "# nejde řadit dict\n",
    "#sorted_people = sorted(people)\n",
    "sorted_people = sorted(people, key=lambda person: person[\"age\"])\n",
    "print(sorted_people)\n",
    "\n",
    "sorted_people = sorted(people, key=lambda person: person[\"name\"], reverse=True)\n",
    "print(sorted_people)"
   ]
  },
  {
   "cell_type": "markdown",
   "metadata": {},
   "source": [
    "# enumerate()"
   ]
  },
  {
   "cell_type": "code",
   "execution_count": 8,
   "metadata": {},
   "outputs": [
    {
     "name": "stdout",
     "output_type": "stream",
     "text": [
      "1. Write report\n",
      "2. Attend meeting\n",
      "3. Review code\n",
      "4. Submit timesheet\n",
      "[(0, 'Write report'), (1, 'Attend meeting'), (2, 'Review code'), (3, 'Submit timesheet')]\n",
      "1. Write report\n",
      "2. Attend meeting\n",
      "3. Review code\n",
      "4. Submit timesheet\n"
     ]
    }
   ],
   "source": [
    "tasks = [\"Write report\", \"Attend meeting\", \"Review code\", \"Submit timesheet\"]\n",
    "\n",
    "for index in range(len(tasks)):\n",
    "\ttask = tasks[index]\n",
    "\tprint(f\"{index + 1}. {task}\")\n",
    "\n",
    "print(list(enumerate(tasks)))\n",
    "\t\n",
    "for index, task in enumerate(tasks):\n",
    "\tprint(f\"{index + 1}. {task}\")"
   ]
  },
  {
   "cell_type": "markdown",
   "metadata": {},
   "source": [
    "# zip()"
   ]
  },
  {
   "cell_type": "code",
   "execution_count": 9,
   "metadata": {},
   "outputs": [
    {
     "name": "stdout",
     "output_type": "stream",
     "text": [
      "Alice is 30 years old\n",
      "Bob is 25 years old\n",
      "Charlie is 35 years old\n",
      "David is 20 years old\n",
      "[('Alice', 30), ('Bob', 25), ('Charlie', 35), ('David', 20)]\n",
      "Alice is 30 years old\n",
      "Bob is 25 years old\n",
      "Charlie is 35 years old\n",
      "David is 20 years old\n",
      "[('Alice', 30, 'female'), ('Bob', 25, 'male'), ('Charlie', 35, 'male')]\n",
      "Alice is 30 years old and is female\n",
      "Bob is 25 years old and is male\n",
      "Charlie is 35 years old and is male\n"
     ]
    }
   ],
   "source": [
    "names = [\"Alice\", \"Bob\", \"Charlie\", \"David\", \"Tim\"]\n",
    "ages = [30, 25, 35, 20]\n",
    "\n",
    "# without min we can get index out of bounds exception\n",
    "for idx in range(min(len(names), len(ages))):\n",
    "\tname = names[idx]\n",
    "\tage = ages[idx]\n",
    "\tprint(f\"{name} is {age} years old\")\n",
    "\t\n",
    "combined = list(zip(names, ages))\n",
    "\n",
    "print(combined)\n",
    "\n",
    "for name, age in combined:\n",
    "\tprint(f\"{name} is {age} years old\")\n",
    "\t\n",
    "gender = [\"female\", \"male\", \"male\"]\n",
    "\n",
    "combined = list(zip(names, ages, gender))\n",
    "\n",
    "print(combined)\n",
    "\n",
    "for name, age, gender in combined:\n",
    "\tprint(f\"{name} is {age} years old and is {gender}\")"
   ]
  },
  {
   "cell_type": "markdown",
   "metadata": {},
   "source": [
    "# open()"
   ]
  },
  {
   "cell_type": "code",
   "execution_count": 6,
   "metadata": {},
   "outputs": [],
   "source": [
    "# w, r, a\n",
    "file = open(\"functions10_data/test.txt\", mode=\"w\")\n",
    "file.close()"
   ]
  },
  {
   "cell_type": "code",
   "execution_count": 7,
   "metadata": {},
   "outputs": [],
   "source": [
    "file = open(\"functions10_data/test.txt\", mode=\"w\")\n",
    "file.write(\"Hello world!\\nMy name is Jiří Černý.\")\n",
    "file.close()"
   ]
  },
  {
   "cell_type": "code",
   "execution_count": 13,
   "metadata": {},
   "outputs": [],
   "source": [
    "# closes automatically\n",
    "with open(\"functions10_data/test.txt\", mode=\"w\") as file:\n",
    "    file.write(\"Hello world!\\nMy name is Jiří Černý.\")"
   ]
  },
  {
   "cell_type": "code",
   "execution_count": 14,
   "metadata": {},
   "outputs": [],
   "source": [
    "with open(\"functions10_data/test.txt\", mode=\"a\") as file:\n",
    "    file.write(\"\\nHere is the end of the file.\")"
   ]
  },
  {
   "cell_type": "code",
   "execution_count": 16,
   "metadata": {},
   "outputs": [
    {
     "name": "stdout",
     "output_type": "stream",
     "text": [
      "Hello world!\n",
      "My name is Jiří Černý.\n",
      "Here is the end of the file.\n"
     ]
    }
   ],
   "source": [
    "with open(\"functions10_data/test.txt\", mode=\"r\") as file:\n",
    "    text = file.read()\n",
    "    print(text)"
   ]
  },
  {
   "cell_type": "code",
   "execution_count": null,
   "metadata": {},
   "outputs": [],
   "source": []
  }
 ],
 "metadata": {
  "colab": {
   "provenance": []
  },
  "kernelspec": {
   "display_name": "Python 3 (ipykernel)",
   "language": "python",
   "name": "python3"
  },
  "language_info": {
   "codemirror_mode": {
    "name": "ipython",
    "version": 3
   },
   "file_extension": ".py",
   "mimetype": "text/x-python",
   "name": "python",
   "nbconvert_exporter": "python",
   "pygments_lexer": "ipython3",
   "version": "3.11.8"
  }
 },
 "nbformat": 4,
 "nbformat_minor": 4
}
