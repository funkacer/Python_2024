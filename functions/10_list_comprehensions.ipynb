{
 "cells": [
  {
   "cell_type": "markdown",
   "id": "200b311f-9423-486b-8c5f-17ddd32d3af0",
   "metadata": {},
   "source": [
    "https://www.youtube.com/watch?v=twxE0dEp3qQ"
   ]
  },
  {
   "cell_type": "markdown",
   "id": "942d55f7-2c98-4e86-a407-31cfc170570c",
   "metadata": {},
   "source": [
    "# 1. Basic list comprehension"
   ]
  },
  {
   "cell_type": "code",
   "execution_count": 5,
   "id": "d0cd7b05-2cfe-4dbc-b6d7-db11581f18cb",
   "metadata": {},
   "outputs": [
    {
     "data": {
      "text/plain": [
       "[0, 1, 2, 3, 4, 5, 6, 7, 8, 9]"
      ]
     },
     "execution_count": 5,
     "metadata": {},
     "output_type": "execute_result"
    }
   ],
   "source": [
    "values = []\n",
    "for x in range(10):\n",
    "    values.append(x)\n",
    "values"
   ]
  },
  {
   "cell_type": "code",
   "execution_count": 7,
   "id": "74b40820-0554-48a8-9303-d2ff9720ab53",
   "metadata": {},
   "outputs": [
    {
     "data": {
      "text/plain": [
       "[0, 1, 2, 3, 4, 5, 6, 7, 8, 9]"
      ]
     },
     "execution_count": 7,
     "metadata": {},
     "output_type": "execute_result"
    }
   ],
   "source": [
    "# using list comprehension\n",
    "values = [x for x in range(10)]\n",
    "values"
   ]
  },
  {
   "cell_type": "code",
   "execution_count": 9,
   "id": "3dc2ee12-e98b-4ebb-88e9-edff12bede9a",
   "metadata": {},
   "outputs": [
    {
     "data": {
      "text/plain": [
       "[1, 2, 3, 4, 5, 6, 7, 8, 9, 10]"
      ]
     },
     "execution_count": 9,
     "metadata": {},
     "output_type": "execute_result"
    }
   ],
   "source": [
    "# taky jde\n",
    "values = [x + 1 for x in range(10)]\n",
    "values"
   ]
  },
  {
   "cell_type": "markdown",
   "id": "030b1d42-a77b-459c-aafc-a9405b7cbcb4",
   "metadata": {},
   "source": [
    "# 2. Comprehension condition"
   ]
  },
  {
   "cell_type": "code",
   "execution_count": 12,
   "id": "b22a041f-f279-45b9-a23f-5aae5617017c",
   "metadata": {},
   "outputs": [
    {
     "data": {
      "text/plain": [
       "[0,\n",
       " 2,\n",
       " 4,\n",
       " 6,\n",
       " 8,\n",
       " 10,\n",
       " 12,\n",
       " 14,\n",
       " 16,\n",
       " 18,\n",
       " 20,\n",
       " 22,\n",
       " 24,\n",
       " 26,\n",
       " 28,\n",
       " 30,\n",
       " 32,\n",
       " 34,\n",
       " 36,\n",
       " 38,\n",
       " 40,\n",
       " 42,\n",
       " 44,\n",
       " 46,\n",
       " 48]"
      ]
     },
     "execution_count": 12,
     "metadata": {},
     "output_type": "execute_result"
    }
   ],
   "source": [
    "# Get all the even number from 0 to 50\n",
    "evens = []\n",
    "for number in range(50):\n",
    "    is_even = number % 2 == 0\n",
    "    if is_even:\n",
    "        evens.append(number)\n",
    "evens"
   ]
  },
  {
   "cell_type": "code",
   "execution_count": 14,
   "id": "5b3e2dfa-6170-4db0-9919-603394ef9f77",
   "metadata": {},
   "outputs": [
    {
     "data": {
      "text/plain": [
       "[0,\n",
       " 2,\n",
       " 4,\n",
       " 6,\n",
       " 8,\n",
       " 10,\n",
       " 12,\n",
       " 14,\n",
       " 16,\n",
       " 18,\n",
       " 20,\n",
       " 22,\n",
       " 24,\n",
       " 26,\n",
       " 28,\n",
       " 30,\n",
       " 32,\n",
       " 34,\n",
       " 36,\n",
       " 38,\n",
       " 40,\n",
       " 42,\n",
       " 44,\n",
       " 46,\n",
       " 48]"
      ]
     },
     "execution_count": 14,
     "metadata": {},
     "output_type": "execute_result"
    }
   ],
   "source": [
    "# using list comprehension\n",
    "evens = [number for number in range(50) if number % 2 == 0]\n",
    "evens"
   ]
  },
  {
   "cell_type": "markdown",
   "id": "37832cb5-f9fe-466a-9f56-ed1c9b29afe5",
   "metadata": {},
   "source": [
    "# 3. Comprehension with multiple conditions"
   ]
  },
  {
   "cell_type": "code",
   "execution_count": 15,
   "id": "cd931ddf-7ddd-499b-a6d9-b7f697a46b13",
   "metadata": {},
   "outputs": [
    {
     "data": {
      "text/plain": [
       "['any', 'albany']"
      ]
     },
     "execution_count": 15,
     "metadata": {},
     "output_type": "execute_result"
    }
   ],
   "source": [
    "# Strings that start with \"a\" and end in \"y\"\n",
    "options = [\"any\", \"albany\", \"apple\", \"world\", \"hello\", \"\"]\n",
    "valid_strings = []\n",
    "for string in options:\n",
    "    if len(string) <= 1:\n",
    "        continue\n",
    "\n",
    "    if string[0] != \"a\":\n",
    "        continue\n",
    "\n",
    "    if string[-1] != \"y\":\n",
    "        continue\n",
    "\n",
    "    valid_strings.append(string)\n",
    "\n",
    "valid_strings"
   ]
  },
  {
   "cell_type": "code",
   "execution_count": 23,
   "id": "a81a8385-f547-49f1-84ad-40126bc29607",
   "metadata": {},
   "outputs": [
    {
     "data": {
      "text/plain": [
       "['any', 'albany']"
      ]
     },
     "execution_count": 23,
     "metadata": {},
     "output_type": "execute_result"
    }
   ],
   "source": [
    "# using list comprehension\n",
    "valid_strings = [\n",
    "    string\n",
    "    for string in options\n",
    "    if len(string) >= 2 \n",
    "    if string[0] == \"a\"\n",
    "    if string[-1] == \"y\"\n",
    "]\n",
    "valid_strings"
   ]
  },
  {
   "cell_type": "code",
   "execution_count": 24,
   "id": "006be0c6-616c-496e-9505-0f0781e21671",
   "metadata": {},
   "outputs": [
    {
     "data": {
      "text/plain": [
       "['any', 'albany']"
      ]
     },
     "execution_count": 24,
     "metadata": {},
     "output_type": "execute_result"
    }
   ],
   "source": [
    "# using list comprehension\n",
    "valid_strings = [\n",
    "    string\n",
    "    for string in options\n",
    "    if len(string) >= 2 \n",
    "    and string[0] == \"a\"\n",
    "    and string[-1] == \"y\"\n",
    "]\n",
    "valid_strings"
   ]
  },
  {
   "cell_type": "code",
   "execution_count": 25,
   "id": "e53c15d5-f0c0-4ffc-847d-ff810be44790",
   "metadata": {},
   "outputs": [
    {
     "data": {
      "text/plain": [
       "['any', 'albany', 'apple']"
      ]
     },
     "execution_count": 25,
     "metadata": {},
     "output_type": "execute_result"
    }
   ],
   "source": [
    "# using list comprehension\n",
    "valid_strings = [\n",
    "    string\n",
    "    for string in options\n",
    "    if len(string) >= 2 \n",
    "    and (string[0] == \"a\"\n",
    "    or string[-1] == \"y\")\n",
    "]\n",
    "valid_strings"
   ]
  },
  {
   "cell_type": "markdown",
   "id": "5fd8fbd8-1ab1-4ece-b454-bcc1ecc22bc0",
   "metadata": {},
   "source": [
    "# 4. Multiple list comprehension"
   ]
  },
  {
   "cell_type": "code",
   "execution_count": 27,
   "id": "59362321-befa-4f13-9599-c9656bbbbd68",
   "metadata": {},
   "outputs": [
    {
     "data": {
      "text/plain": [
       "[1, 2, 3, 4, 5, 6, 7, 8, 9]"
      ]
     },
     "execution_count": 27,
     "metadata": {},
     "output_type": "execute_result"
    }
   ],
   "source": [
    "# Flattening the matrix (list of lists)\n",
    "matrix = [[1, 2, 3], [4, 5, 6], [7, 8, 9]]\n",
    "flattened = []\n",
    "for row in matrix:\n",
    "    for num in row:\n",
    "        flattened.append(num)\n",
    "flattened"
   ]
  },
  {
   "cell_type": "code",
   "execution_count": 29,
   "id": "0ae996bf-88d1-4bfb-b177-d433ce995fb6",
   "metadata": {},
   "outputs": [
    {
     "data": {
      "text/plain": [
       "[1, 2, 3, 4, 5, 6, 7, 8, 9]"
      ]
     },
     "execution_count": 29,
     "metadata": {},
     "output_type": "execute_result"
    }
   ],
   "source": [
    "# using nested list comprehension\n",
    "flattened = [num for row in matrix for num in row]\n",
    "flattened"
   ]
  },
  {
   "cell_type": "markdown",
   "id": "845d5460-a103-4c81-9cd7-fb12f9e71135",
   "metadata": {},
   "source": [
    "# 5. If/else in the comprehension"
   ]
  },
  {
   "cell_type": "code",
   "execution_count": 32,
   "id": "d2253cec-e098-4ac1-8ca5-c3bd3879b4d5",
   "metadata": {},
   "outputs": [
    {
     "data": {
      "text/plain": [
       "['Even', 'Odd', 'Even', 'Odd', 'Even', 'Odd', 'Even', 'Odd', 'Even', 'Odd']"
      ]
     },
     "execution_count": 32,
     "metadata": {},
     "output_type": "execute_result"
    }
   ],
   "source": [
    "# Categorize numbers as even or odd\n",
    "categories = []\n",
    "\n",
    "for number in range(10):\n",
    "    if number % 2 == 0:\n",
    "        categories.append(\"Even\")\n",
    "    else:\n",
    "        categories.append(\"Odd\")\n",
    "\n",
    "categories"
   ]
  },
  {
   "cell_type": "code",
   "execution_count": 40,
   "id": "ed64c77e-df71-4c74-a68f-52013dec9e5f",
   "metadata": {},
   "outputs": [
    {
     "data": {
      "text/plain": [
       "['Even', 'Odd', 'Even', 'Odd', 'Even', 'Odd', 'Even', 'Odd', 'Even', 'Odd']"
      ]
     },
     "execution_count": 40,
     "metadata": {},
     "output_type": "execute_result"
    }
   ],
   "source": [
    "categories = [\n",
    "    \"Even\" if x % 2 == 0 else \"Odd\" for x in range(10)\n",
    "]\n",
    "categories"
   ]
  },
  {
   "cell_type": "code",
   "execution_count": 44,
   "id": "b399d864-f06e-46b2-a587-24a5136dad88",
   "metadata": {},
   "outputs": [
    {
     "data": {
      "text/plain": [
       "'Even'"
      ]
     },
     "execution_count": 44,
     "metadata": {},
     "output_type": "execute_result"
    }
   ],
   "source": [
    "# this syntax is actually valid outside of a list comprehension!\n",
    "x = 0\n",
    "\"Even\" if x % 2 == 0 else \"Odd\""
   ]
  },
  {
   "cell_type": "markdown",
   "id": "5dde11d7-2425-4135-8d71-e741ac6b4875",
   "metadata": {},
   "source": [
    "# 6. Nested list comprehension"
   ]
  },
  {
   "cell_type": "code",
   "execution_count": 46,
   "id": "5498c23b-8594-4325-99fa-8837da39c0ce",
   "metadata": {},
   "outputs": [],
   "source": [
    "import pprint\n",
    "printer = pprint.PrettyPrinter()"
   ]
  },
  {
   "cell_type": "code",
   "execution_count": 47,
   "id": "38ea4954-3edb-457a-a411-b532b3a26be0",
   "metadata": {},
   "outputs": [
    {
     "name": "stdout",
     "output_type": "stream",
     "text": [
      "[[[0, 1, 2, 3, 4],\n",
      "  [0, 1, 2, 3, 4],\n",
      "  [0, 1, 2, 3, 4],\n",
      "  [0, 1, 2, 3, 4],\n",
      "  [0, 1, 2, 3, 4]],\n",
      " [[0, 1, 2, 3, 4],\n",
      "  [0, 1, 2, 3, 4],\n",
      "  [0, 1, 2, 3, 4],\n",
      "  [0, 1, 2, 3, 4],\n",
      "  [0, 1, 2, 3, 4]],\n",
      " [[0, 1, 2, 3, 4],\n",
      "  [0, 1, 2, 3, 4],\n",
      "  [0, 1, 2, 3, 4],\n",
      "  [0, 1, 2, 3, 4],\n",
      "  [0, 1, 2, 3, 4]],\n",
      " [[0, 1, 2, 3, 4],\n",
      "  [0, 1, 2, 3, 4],\n",
      "  [0, 1, 2, 3, 4],\n",
      "  [0, 1, 2, 3, 4],\n",
      "  [0, 1, 2, 3, 4]],\n",
      " [[0, 1, 2, 3, 4],\n",
      "  [0, 1, 2, 3, 4],\n",
      "  [0, 1, 2, 3, 4],\n",
      "  [0, 1, 2, 3, 4],\n",
      "  [0, 1, 2, 3, 4]]]\n"
     ]
    }
   ],
   "source": [
    "lst = []\n",
    "for a in range(5):\n",
    "    l1 = []\n",
    "    for b in range(5):\n",
    "        l2 = []\n",
    "        for num in range(5):\n",
    "            l2.append(num)\n",
    "        l1.append(l2)\n",
    "    lst.append(l1)\n",
    "printer.pprint(lst)"
   ]
  },
  {
   "cell_type": "code",
   "execution_count": 49,
   "id": "f5b22223-0db0-49be-baa0-780e1e2b4fef",
   "metadata": {},
   "outputs": [
    {
     "data": {
      "text/plain": [
       "[[[0, 1, 2, 3, 4],\n",
       "  [0, 1, 2, 3, 4],\n",
       "  [0, 1, 2, 3, 4],\n",
       "  [0, 1, 2, 3, 4],\n",
       "  [0, 1, 2, 3, 4]],\n",
       " [[0, 1, 2, 3, 4],\n",
       "  [0, 1, 2, 3, 4],\n",
       "  [0, 1, 2, 3, 4],\n",
       "  [0, 1, 2, 3, 4],\n",
       "  [0, 1, 2, 3, 4]],\n",
       " [[0, 1, 2, 3, 4],\n",
       "  [0, 1, 2, 3, 4],\n",
       "  [0, 1, 2, 3, 4],\n",
       "  [0, 1, 2, 3, 4],\n",
       "  [0, 1, 2, 3, 4]],\n",
       " [[0, 1, 2, 3, 4],\n",
       "  [0, 1, 2, 3, 4],\n",
       "  [0, 1, 2, 3, 4],\n",
       "  [0, 1, 2, 3, 4],\n",
       "  [0, 1, 2, 3, 4]],\n",
       " [[0, 1, 2, 3, 4],\n",
       "  [0, 1, 2, 3, 4],\n",
       "  [0, 1, 2, 3, 4],\n",
       "  [0, 1, 2, 3, 4],\n",
       "  [0, 1, 2, 3, 4]]]"
      ]
     },
     "execution_count": 49,
     "metadata": {},
     "output_type": "execute_result"
    }
   ],
   "source": [
    "# using nested list comprehension\n",
    "lst = [[[num for num in range(5)] for _ in range(5)] for _ in range(5)]\n",
    "lst"
   ]
  },
  {
   "cell_type": "markdown",
   "id": "1f5c0f13-e7a3-4e1b-9b5e-3944e8695e0d",
   "metadata": {},
   "source": [
    "# 7. Transformation in comprehension"
   ]
  },
  {
   "cell_type": "code",
   "execution_count": 51,
   "id": "16d06941-a33e-4a7f-90cb-8479027884b4",
   "metadata": {},
   "outputs": [
    {
     "data": {
      "text/plain": [
       "[0, 1, 4, 9, 16, 25, 36, 49, 64, 81]"
      ]
     },
     "execution_count": 51,
     "metadata": {},
     "output_type": "execute_result"
    }
   ],
   "source": [
    "# List comp with functions\n",
    "def square(x):\n",
    "    return x**2\n",
    "\n",
    "squared_numbers = [square(x) for x in range(10)]\n",
    "\n",
    "squared_numbers"
   ]
  },
  {
   "cell_type": "code",
   "execution_count": 55,
   "id": "edcde9da-fc64-4c69-b6d8-6ce945c18cab",
   "metadata": {},
   "outputs": [
    {
     "data": {
      "text/plain": [
       "[1, 9, 25, 49, 81]"
      ]
     },
     "execution_count": 55,
     "metadata": {},
     "output_type": "execute_result"
    }
   ],
   "source": [
    "def valid(x):\n",
    "    if x % 2 == 0:\n",
    "        return False\n",
    "    return True\n",
    "\n",
    "squared_odd_numbers = [square(x) for x in range(10) if valid(x)]\n",
    "\n",
    "squared_odd_numbers"
   ]
  },
  {
   "cell_type": "markdown",
   "id": "a7314cd0-2dbe-4039-9e71-ecafdb28d3b0",
   "metadata": {},
   "source": [
    "# 8. Dictionary comprehension"
   ]
  },
  {
   "cell_type": "code",
   "execution_count": 58,
   "id": "6238808c-038a-4f0f-bf70-227193f3c64d",
   "metadata": {},
   "outputs": [
    {
     "data": {
      "text/plain": [
       "{'a': 1, 'b': 2, 'c': 3}"
      ]
     },
     "execution_count": 58,
     "metadata": {},
     "output_type": "execute_result"
    }
   ],
   "source": [
    "# Creating a dictionary\n",
    "pairs = [(\"a\", 1), (\"b\", 2), (\"c\", 3)]\n",
    "\n",
    "my_dict = {k: v for k, v in pairs}\n",
    "my_dict"
   ]
  },
  {
   "cell_type": "code",
   "execution_count": 59,
   "id": "2ce73392-3755-4d8d-a04e-48fb4e4b22ab",
   "metadata": {},
   "outputs": [
    {
     "data": {
      "text/plain": [
       "{'a': 1, 'b': 4, 'c': 9}"
      ]
     },
     "execution_count": 59,
     "metadata": {},
     "output_type": "execute_result"
    }
   ],
   "source": [
    "my_square_dict = {k: square(v) for k, v in pairs}\n",
    "my_square_dict"
   ]
  },
  {
   "cell_type": "markdown",
   "id": "eb7b1527-bad3-454f-b4a4-c6911e5063b8",
   "metadata": {},
   "source": [
    "# 9. Set comprehension"
   ]
  },
  {
   "cell_type": "code",
   "execution_count": 62,
   "id": "e673393f-72ad-4a80-a045-bb88e6c12fc5",
   "metadata": {},
   "outputs": [
    {
     "data": {
      "text/plain": [
       "{1, 4, 9, 16}"
      ]
     },
     "execution_count": 62,
     "metadata": {},
     "output_type": "execute_result"
    }
   ],
   "source": [
    "# Removing duplicates from a list while applying a function\n",
    "\n",
    "nums = [1, 2, 2, 3, 3, 3, 4, 4, 4, 4]\n",
    "\n",
    "unique_squares = {x**2 for x in nums}\n",
    "unique_squares"
   ]
  },
  {
   "cell_type": "code",
   "execution_count": 65,
   "id": "ca1795a3-e390-4cff-a4e6-d37458a0090d",
   "metadata": {},
   "outputs": [
    {
     "data": {
      "text/plain": [
       "[1, 4, 4, 9, 9, 9, 16, 16, 16, 16]"
      ]
     },
     "execution_count": 65,
     "metadata": {},
     "output_type": "execute_result"
    }
   ],
   "source": [
    "# original list squared\n",
    "squares = [x**2 for x in nums]\n",
    "squares"
   ]
  },
  {
   "cell_type": "markdown",
   "id": "9b72f57c-c43c-473f-b1c2-fcee87b8c4fe",
   "metadata": {},
   "source": [
    "# 10. Generator comprehension"
   ]
  },
  {
   "cell_type": "code",
   "execution_count": 71,
   "id": "9b312d11-be9f-4c5e-befc-4bd50c7de91b",
   "metadata": {},
   "outputs": [
    {
     "data": {
      "text/plain": [
       "333332833333500000"
      ]
     },
     "execution_count": 71,
     "metadata": {},
     "output_type": "execute_result"
    }
   ],
   "source": [
    "# Generator comprehension\n",
    "\n",
    "sum_of_squares = sum(x**2 for x in range(1000000))\n",
    "sum_of_squares"
   ]
  },
  {
   "cell_type": "code",
   "execution_count": 72,
   "id": "73d5ce9a-ae1b-42f5-8a90-595bfea89314",
   "metadata": {},
   "outputs": [
    {
     "data": {
      "text/plain": [
       "333332833333500000"
      ]
     },
     "execution_count": 72,
     "metadata": {},
     "output_type": "execute_result"
    }
   ],
   "source": [
    "list = [x**2 for x in range(1000000)]\n",
    "sum_of_squares = sum(list)\n",
    "sum_of_squares"
   ]
  },
  {
   "cell_type": "code",
   "execution_count": 73,
   "id": "6249e0b3-f764-414b-916e-929d0da723c8",
   "metadata": {},
   "outputs": [
    {
     "data": {
      "text/plain": [
       "[0, 1, 4, 9, 16, 25, 36, 49, 64, 81]"
      ]
     },
     "execution_count": 73,
     "metadata": {},
     "output_type": "execute_result"
    }
   ],
   "source": [
    "list[:10]"
   ]
  },
  {
   "cell_type": "code",
   "execution_count": 75,
   "id": "63fead79-eb19-40ba-81d1-b3395cfc2fa5",
   "metadata": {},
   "outputs": [
    {
     "data": {
      "text/plain": [
       "53"
      ]
     },
     "execution_count": 75,
     "metadata": {},
     "output_type": "execute_result"
    }
   ],
   "source": [
    "import sys\n",
    "sys.getsizeof('list')"
   ]
  },
  {
   "cell_type": "code",
   "execution_count": 77,
   "id": "8b732824-2659-4517-ad03-2b532f341cdb",
   "metadata": {},
   "outputs": [
    {
     "data": {
      "text/plain": [
       "8448712"
      ]
     },
     "execution_count": 77,
     "metadata": {},
     "output_type": "execute_result"
    }
   ],
   "source": [
    "list.__sizeof__()"
   ]
  },
  {
   "cell_type": "code",
   "execution_count": 79,
   "id": "cc8e32b4-88de-469b-bf51-985ca5c825d3",
   "metadata": {},
   "outputs": [
    {
     "data": {
      "text/plain": [
       "32"
      ]
     },
     "execution_count": 79,
     "metadata": {},
     "output_type": "execute_result"
    }
   ],
   "source": [
    "sum_of_squares.__sizeof__()"
   ]
  },
  {
   "cell_type": "code",
   "execution_count": 80,
   "id": "09cb9b8b-f653-42c9-80b0-aa16e018337b",
   "metadata": {},
   "outputs": [
    {
     "name": "stdout",
     "output_type": "stream",
     "text": [
      "239 ms ± 2.86 ms per loop (mean ± std. dev. of 7 runs, 1 loop each)\n"
     ]
    }
   ],
   "source": [
    "%%timeit\n",
    "sum_of_squares = sum(x**2 for x in range(1000000))"
   ]
  },
  {
   "cell_type": "code",
   "execution_count": 82,
   "id": "5c89a320-f21e-4e80-a4cc-3fba6ba8cc3a",
   "metadata": {},
   "outputs": [
    {
     "name": "stdout",
     "output_type": "stream",
     "text": [
      "261 ms ± 4.29 ms per loop (mean ± std. dev. of 7 runs, 1 loop each)\n"
     ]
    }
   ],
   "source": [
    "%%timeit\n",
    "sum_of_squares = sum([x**2 for x in range(1000000)])"
   ]
  },
  {
   "cell_type": "code",
   "execution_count": 83,
   "id": "809f8382-4e24-4f76-b24e-74e66e66f02a",
   "metadata": {},
   "outputs": [
    {
     "name": "stdout",
     "output_type": "stream",
     "text": [
      "249 ms ± 1.35 ms per loop (mean ± std. dev. of 7 runs, 1 loop each)\n"
     ]
    }
   ],
   "source": [
    "%%timeit\n",
    "list = [x**2 for x in range(1000000)]\n",
    "sum_of_squares = sum(list)"
   ]
  },
  {
   "cell_type": "code",
   "execution_count": 84,
   "id": "a1d7e5c1-1a33-417d-88a5-a5f87efc2d07",
   "metadata": {},
   "outputs": [
    {
     "name": "stdout",
     "output_type": "stream",
     "text": [
      "264 ms ± 2.74 ms per loop (mean ± std. dev. of 7 runs, 1 loop each)\n"
     ]
    }
   ],
   "source": [
    "%%timeit\n",
    "list = [x**2 for x in range(1000000)]\n",
    "sum_of_squares = 0\n",
    "for i in list:\n",
    "    sum_of_squares += i"
   ]
  },
  {
   "cell_type": "code",
   "execution_count": null,
   "id": "1ca229fe-8c36-42f8-93d0-c2d72e3b34f5",
   "metadata": {},
   "outputs": [],
   "source": []
  }
 ],
 "metadata": {
  "kernelspec": {
   "display_name": "Python 3 (ipykernel)",
   "language": "python",
   "name": "python3"
  },
  "language_info": {
   "codemirror_mode": {
    "name": "ipython",
    "version": 3
   },
   "file_extension": ".py",
   "mimetype": "text/x-python",
   "name": "python",
   "nbconvert_exporter": "python",
   "pygments_lexer": "ipython3",
   "version": "3.11.8"
  }
 },
 "nbformat": 4,
 "nbformat_minor": 5
}
